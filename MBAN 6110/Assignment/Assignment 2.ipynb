{
 "cells": [
  {
   "attachments": {},
   "cell_type": "markdown",
   "metadata": {},
   "source": [
    "### Assignment 2: Statistical Testing and A/B Testing"
   ]
  },
  {
   "cell_type": "code",
   "execution_count": 27,
   "metadata": {},
   "outputs": [],
   "source": [
    "import pandas as pd\n",
    "from scipy import stats"
   ]
  },
  {
   "attachments": {},
   "cell_type": "markdown",
   "metadata": {},
   "source": [
    "##### 1. Analyze the Experiment Results"
   ]
  },
  {
   "cell_type": "code",
   "execution_count": 28,
   "metadata": {},
   "outputs": [],
   "source": [
    "results = pd.read_csv('https://raw.githubusercontent.com/GoldenSnow-Xue/schulich_data_science/main/MBAN%206110/experiment_dataset.csv')"
   ]
  },
  {
   "cell_type": "code",
   "execution_count": 29,
   "metadata": {},
   "outputs": [
    {
     "data": {
      "text/html": [
       "<div>\n",
       "<style scoped>\n",
       "    .dataframe tbody tr th:only-of-type {\n",
       "        vertical-align: middle;\n",
       "    }\n",
       "\n",
       "    .dataframe tbody tr th {\n",
       "        vertical-align: top;\n",
       "    }\n",
       "\n",
       "    .dataframe thead th {\n",
       "        text-align: right;\n",
       "    }\n",
       "</style>\n",
       "<table border=\"1\" class=\"dataframe\">\n",
       "  <thead>\n",
       "    <tr style=\"text-align: right;\">\n",
       "      <th></th>\n",
       "      <th>Unnamed: 0</th>\n",
       "      <th>Age</th>\n",
       "      <th>Location</th>\n",
       "      <th>Device</th>\n",
       "      <th>Variant</th>\n",
       "      <th>Time Spent</th>\n",
       "      <th>CTR</th>\n",
       "    </tr>\n",
       "  </thead>\n",
       "  <tbody>\n",
       "    <tr>\n",
       "      <th>0</th>\n",
       "      <td>0</td>\n",
       "      <td>62</td>\n",
       "      <td>Location2</td>\n",
       "      <td>Device2</td>\n",
       "      <td>Control</td>\n",
       "      <td>13.928669</td>\n",
       "      <td>0.084776</td>\n",
       "    </tr>\n",
       "    <tr>\n",
       "      <th>1</th>\n",
       "      <td>1</td>\n",
       "      <td>18</td>\n",
       "      <td>Location1</td>\n",
       "      <td>Device1</td>\n",
       "      <td>Variant B</td>\n",
       "      <td>11.310518</td>\n",
       "      <td>0.096859</td>\n",
       "    </tr>\n",
       "    <tr>\n",
       "      <th>2</th>\n",
       "      <td>2</td>\n",
       "      <td>21</td>\n",
       "      <td>Location2</td>\n",
       "      <td>Device1</td>\n",
       "      <td>Variant B</td>\n",
       "      <td>24.842100</td>\n",
       "      <td>0.097630</td>\n",
       "    </tr>\n",
       "    <tr>\n",
       "      <th>3</th>\n",
       "      <td>3</td>\n",
       "      <td>21</td>\n",
       "      <td>Location1</td>\n",
       "      <td>Device3</td>\n",
       "      <td>Variant B</td>\n",
       "      <td>20.061300</td>\n",
       "      <td>0.109783</td>\n",
       "    </tr>\n",
       "    <tr>\n",
       "      <th>4</th>\n",
       "      <td>4</td>\n",
       "      <td>57</td>\n",
       "      <td>Location1</td>\n",
       "      <td>Device2</td>\n",
       "      <td>Variant B</td>\n",
       "      <td>34.495503</td>\n",
       "      <td>0.068579</td>\n",
       "    </tr>\n",
       "  </tbody>\n",
       "</table>\n",
       "</div>"
      ],
      "text/plain": [
       "   Unnamed: 0  Age   Location   Device    Variant  Time Spent       CTR\n",
       "0           0   62  Location2  Device2    Control   13.928669  0.084776\n",
       "1           1   18  Location1  Device1  Variant B   11.310518  0.096859\n",
       "2           2   21  Location2  Device1  Variant B   24.842100  0.097630\n",
       "3           3   21  Location1  Device3  Variant B   20.061300  0.109783\n",
       "4           4   57  Location1  Device2  Variant B   34.495503  0.068579"
      ]
     },
     "execution_count": 29,
     "metadata": {},
     "output_type": "execute_result"
    }
   ],
   "source": [
    "results.head()"
   ]
  },
  {
   "cell_type": "code",
   "execution_count": 30,
   "metadata": {},
   "outputs": [],
   "source": [
    "results.drop('Unnamed: 0', axis=1, inplace=True)"
   ]
  },
  {
   "cell_type": "code",
   "execution_count": 31,
   "metadata": {},
   "outputs": [
    {
     "name": "stdout",
     "output_type": "stream",
     "text": [
      "<class 'pandas.core.frame.DataFrame'>\n",
      "RangeIndex: 1000 entries, 0 to 999\n",
      "Data columns (total 6 columns):\n",
      " #   Column      Non-Null Count  Dtype  \n",
      "---  ------      --------------  -----  \n",
      " 0   Age         1000 non-null   int64  \n",
      " 1   Location    1000 non-null   object \n",
      " 2   Device      1000 non-null   object \n",
      " 3   Variant     1000 non-null   object \n",
      " 4   Time Spent  1000 non-null   float64\n",
      " 5   CTR         1000 non-null   float64\n",
      "dtypes: float64(2), int64(1), object(3)\n",
      "memory usage: 47.0+ KB\n"
     ]
    }
   ],
   "source": [
    "results.info()"
   ]
  },
  {
   "attachments": {},
   "cell_type": "markdown",
   "metadata": {},
   "source": [
    "###### Now we should evaluate the results. We can use an ANOVA test to compare all 3 groups(Variant A, Variant b, and Control), and also t-tests to compare individual variants to the Control, and to each other."
   ]
  },
  {
   "cell_type": "code",
   "execution_count": 32,
   "metadata": {},
   "outputs": [
    {
     "name": "stdout",
     "output_type": "stream",
     "text": [
      "F_onewayResult(statistic=75.60840947416146, pvalue=2.676826588910432e-31)\n"
     ]
    }
   ],
   "source": [
    "# Checking Time Spent\n",
    "varA = results[results['Variant']=='Variant A']['Time Spent']\n",
    "varB = results[results['Variant']=='Variant B']['Time Spent']\n",
    "control = results[results['Variant']=='Control']['Time Spent']\n",
    "\n",
    "p_val = stats.f_oneway(varA, varB, control)\n",
    "print(p_val)"
   ]
  },
  {
   "cell_type": "code",
   "execution_count": 33,
   "metadata": {},
   "outputs": [
    {
     "name": "stdout",
     "output_type": "stream",
     "text": [
      "F_onewayResult(statistic=93.58891593622702, pvalue=5.638952705781554e-38)\n"
     ]
    }
   ],
   "source": [
    "# Checking CTR\n",
    "varA = results[results['Variant']=='Variant A']['CTR']\n",
    "varB = results[results['Variant']=='Variant B']['CTR']\n",
    "control = results[results['Variant']=='Control']['CTR']\n",
    "\n",
    "p_val = stats.f_oneway(varA, varB, control)\n",
    "print(p_val)"
   ]
  },
  {
   "attachments": {},
   "cell_type": "markdown",
   "metadata": {},
   "source": [
    "###### Based on the ANOVA, we see that both the Time Spent and CTR have statistically significant results! This means that the variants and the control group have completely different behaviours in their average time spent and moving through different parts of the feature.\n",
    "\n",
    "###### Let's do an independent t-test next for each variant compared to the control, and then the variants compared to each other."
   ]
  },
  {
   "attachments": {},
   "cell_type": "markdown",
   "metadata": {},
   "source": [
    "##### 2. Conduct Statistical Testing"
   ]
  },
  {
   "cell_type": "code",
   "execution_count": 34,
   "metadata": {},
   "outputs": [
    {
     "name": "stdout",
     "output_type": "stream",
     "text": [
      "Ttest_indResult(statistic=12.142363487472364, pvalue=8.488565644996449e-31)\n",
      "Ttest_indResult(statistic=8.174237395991806, pvalue=1.496358076285182e-15)\n",
      "Ttest_indResult(statistic=3.678817539420908, pvalue=0.000253477101476526)\n"
     ]
    }
   ],
   "source": [
    "# Compare Spend\n",
    "varA = results[results['Variant']=='Variant A']['Time Spent']\n",
    "varB = results[results['Variant']=='Variant B']['Time Spent']\n",
    "control = results[results['Variant']=='Control']['Time Spent']\n",
    "\n",
    "p_val = stats.ttest_ind(varA, control)\n",
    "p_val_2 = stats.ttest_ind(varB, control)\n",
    "p_val_3 = stats.ttest_ind(varA, varB)\n",
    "print(p_val)\n",
    "print(p_val_2)\n",
    "print(p_val_3)"
   ]
  },
  {
   "cell_type": "code",
   "execution_count": 35,
   "metadata": {},
   "outputs": [
    {
     "name": "stdout",
     "output_type": "stream",
     "text": [
      "Ttest_indResult(statistic=13.829424737499187, pvalue=1.9602781373243157e-38)\n",
      "Ttest_indResult(statistic=6.4718143491783255, pvalue=1.8743198199982106e-10)\n",
      "Ttest_indResult(statistic=7.08499696316128, pvalue=3.587180487986577e-12)\n"
     ]
    }
   ],
   "source": [
    "# Compare CTR\n",
    "varA = results[results['Variant']=='Variant A']['CTR']\n",
    "varB = results[results['Variant']=='Variant B']['CTR']\n",
    "control = results[results['Variant']=='Control']['CTR']\n",
    "\n",
    "p_val = stats.ttest_ind(varA, control)\n",
    "p_val_2 = stats.ttest_ind(varB, control)\n",
    "p_val_3 = stats.ttest_ind(varA, varB)\n",
    "print(p_val)\n",
    "print(p_val_2)\n",
    "print(p_val_3)"
   ]
  },
  {
   "cell_type": "code",
   "execution_count": 36,
   "metadata": {},
   "outputs": [
    {
     "data": {
      "text/html": [
       "<div>\n",
       "<style scoped>\n",
       "    .dataframe tbody tr th:only-of-type {\n",
       "        vertical-align: middle;\n",
       "    }\n",
       "\n",
       "    .dataframe tbody tr th {\n",
       "        vertical-align: top;\n",
       "    }\n",
       "\n",
       "    .dataframe thead th {\n",
       "        text-align: right;\n",
       "    }\n",
       "</style>\n",
       "<table border=\"1\" class=\"dataframe\">\n",
       "  <thead>\n",
       "    <tr style=\"text-align: right;\">\n",
       "      <th></th>\n",
       "      <th>Time Spent</th>\n",
       "    </tr>\n",
       "    <tr>\n",
       "      <th>Variant</th>\n",
       "      <th></th>\n",
       "    </tr>\n",
       "  </thead>\n",
       "  <tbody>\n",
       "    <tr>\n",
       "      <th>Control</th>\n",
       "      <td>20.070781</td>\n",
       "    </tr>\n",
       "    <tr>\n",
       "      <th>Variant A</th>\n",
       "      <td>24.805547</td>\n",
       "    </tr>\n",
       "    <tr>\n",
       "      <th>Variant B</th>\n",
       "      <td>23.343783</td>\n",
       "    </tr>\n",
       "  </tbody>\n",
       "</table>\n",
       "</div>"
      ],
      "text/plain": [
       "           Time Spent\n",
       "Variant              \n",
       "Control     20.070781\n",
       "Variant A   24.805547\n",
       "Variant B   23.343783"
      ]
     },
     "execution_count": 36,
     "metadata": {},
     "output_type": "execute_result"
    }
   ],
   "source": [
    "results.groupby('Variant')[['Time Spent']].mean()"
   ]
  },
  {
   "cell_type": "code",
   "execution_count": 37,
   "metadata": {},
   "outputs": [
    {
     "data": {
      "text/html": [
       "<div>\n",
       "<style scoped>\n",
       "    .dataframe tbody tr th:only-of-type {\n",
       "        vertical-align: middle;\n",
       "    }\n",
       "\n",
       "    .dataframe tbody tr th {\n",
       "        vertical-align: top;\n",
       "    }\n",
       "\n",
       "    .dataframe thead th {\n",
       "        text-align: right;\n",
       "    }\n",
       "</style>\n",
       "<table border=\"1\" class=\"dataframe\">\n",
       "  <thead>\n",
       "    <tr style=\"text-align: right;\">\n",
       "      <th></th>\n",
       "      <th>CTR</th>\n",
       "    </tr>\n",
       "    <tr>\n",
       "      <th>Variant</th>\n",
       "      <th></th>\n",
       "    </tr>\n",
       "  </thead>\n",
       "  <tbody>\n",
       "    <tr>\n",
       "      <th>Control</th>\n",
       "      <td>0.098554</td>\n",
       "    </tr>\n",
       "    <tr>\n",
       "      <th>Variant A</th>\n",
       "      <td>0.120269</td>\n",
       "    </tr>\n",
       "    <tr>\n",
       "      <th>Variant B</th>\n",
       "      <td>0.108933</td>\n",
       "    </tr>\n",
       "  </tbody>\n",
       "</table>\n",
       "</div>"
      ],
      "text/plain": [
       "                CTR\n",
       "Variant            \n",
       "Control    0.098554\n",
       "Variant A  0.120269\n",
       "Variant B  0.108933"
      ]
     },
     "execution_count": 37,
     "metadata": {},
     "output_type": "execute_result"
    }
   ],
   "source": [
    "results.groupby('Variant')[['CTR']].mean()"
   ]
  },
  {
   "attachments": {},
   "cell_type": "markdown",
   "metadata": {},
   "source": [
    "##### 3. Summarize my results"
   ]
  },
  {
   "attachments": {},
   "cell_type": "markdown",
   "metadata": {},
   "source": [
    "Business Strategy\n",
    "Now that we have our results, we can consider the pros and cons and make a strategic decision. We know that Variant A and B both increase users' Average Time Spent. And Variant A is better. This is good for our business. On the other hand, both variants result in higher CTA, which is also good for our business. There is a clear tradeoff between deciding on these variants.\n",
    "\n",
    "From a business perspective, we need to select the variant A based on our goals - in our case, we want to increase Revenue so it makes sense to select Variant A. \n"
   ]
  },
  {
   "attachments": {},
   "cell_type": "markdown",
   "metadata": {},
   "source": [
    "##### 4. Create a roll-out plan"
   ]
  },
  {
   "attachments": {},
   "cell_type": "markdown",
   "metadata": {},
   "source": [
    "Define Objectives:\n",
    "\n",
    "Primary Objective: Increase revenue.\n",
    "Secondary Objectives: Improve user engagement, enhance conversion rates, and maintain positive user experience.\n",
    "Timeline:\n",
    "\n",
    "Phase 1 (Week 1-2): Internal Preparation\n",
    "\n",
    "Conduct a kick-off meeting with the project team to communicate goals, roles, and responsibilities.\n",
    "Allocate necessary resources, including personnel, budget, and technology infrastructure.\n",
    "Conduct any required training or upskilling for the team members involved in the implementation.\n",
    "Phase 2 (Week 3-4): Testing and Refinement\n",
    "\n",
    "Implement Variant A in a controlled testing environment.\n",
    "Conduct extensive testing and quality assurance to ensure functionality and performance.\n",
    "Collect feedback from internal stakeholders and make necessary adjustments or refinements.\n",
    "Phase 3 (Week 5-6): Pilot Release\n",
    "\n",
    "Select a subset of users to introduce Variant A on a limited scale.\n",
    "Monitor user behavior, engagement metrics, and revenue impact during the pilot release.\n",
    "Gather user feedback and address any issues or concerns promptly.\n",
    "Phase 4 (Week 7-9): Gradual Roll-out\n",
    "\n",
    "Expand the availability of Variant A to a larger audience segment.\n",
    "Monitor key performance indicators (KPIs) such as revenue, Average Time Spent, and conversion rates.\n",
    "Continuously gather user feedback and iterate on the implementation based on insights.\n",
    "Phase 5 (Week 10+): Full Roll-out and Optimization\n",
    "\n",
    "Make Variant A available to the entire target audience or market.\n",
    "Conduct post-rollout monitoring and analysis to ensure expected outcomes are achieved.\n",
    "Optimize and fine-tune the implementation based on user feedback and data-driven insights.\n",
    "Communication and Marketing:\n",
    "\n",
    "Develop a comprehensive communication plan to inform users about the new changes and benefits of Variant A.\n",
    "Leverage various channels such as email newsletters, social media, website announcements, and in-app notifications.\n",
    "Clearly communicate the value proposition and highlight how Variant A improves the user experience and contributes to revenue growth.\n",
    "User Support and Training:\n",
    "\n",
    "Develop user documentation, guides, and tutorials to help users understand and utilize the new features introduced in Variant A.\n",
    "Provide customer support channels, such as helpdesk or live chat, to address user inquiries and issues promptly.\n",
    "Consider organizing training sessions or webinars to educate users on maximizing the benefits of Variant A.\n",
    "Monitoring and Evaluation:\n",
    "\n",
    "Continuously monitor key metrics, including revenue, Average Time Spent, conversion rates, and user feedback.\n",
    "Analyze data to evaluate the impact of Variant A on the desired objectives.\n",
    "Regularly review and refine the implementation based on insights and performance analysis.\n",
    "Iterative Improvement:\n",
    "\n",
    "Based on user feedback and data analysis, iterate and improve Variant A to further enhance revenue generation and user experience.\n",
    "Implement updates and enhancements as part of regular software development cycles or agile iterations."
   ]
  }
 ],
 "metadata": {
  "kernelspec": {
   "display_name": "base",
   "language": "python",
   "name": "python3"
  },
  "language_info": {
   "codemirror_mode": {
    "name": "ipython",
    "version": 3
   },
   "file_extension": ".py",
   "mimetype": "text/x-python",
   "name": "python",
   "nbconvert_exporter": "python",
   "pygments_lexer": "ipython3",
   "version": "3.9.7"
  },
  "orig_nbformat": 4
 },
 "nbformat": 4,
 "nbformat_minor": 2
}
