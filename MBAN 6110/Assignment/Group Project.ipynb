{
 "cells": [
  {
   "cell_type": "markdown",
   "metadata": {},
   "source": [
    "## Group Project - Movie Rating Predictions"
   ]
  },
  {
   "cell_type": "markdown",
   "metadata": {},
   "source": [
    "### 1. Choose a real-world dataset"
   ]
  },
  {
   "cell_type": "markdown",
   "metadata": {},
   "source": [
    "##### About Dataset"
   ]
  },
  {
   "cell_type": "markdown",
   "metadata": {},
   "source": [
    "https://www.kaggle.com/datasets/ashishkumarjayswal/movies-dataset?datasetId=3478473"
   ]
  },
  {
   "cell_type": "markdown",
   "metadata": {},
   "source": [
    "###### Data is about 4000 movies with 17 columns which include: \n",
    "###### \"movie_name\";\"rating_target_audience\";\"genre\";\"release_year\";\"release_date\";\"release_year_and_country\";\n",
    "###### \"score\";\"votes\";\"director\";\"writer\";\"star\";\"country\";\"budget\";\"gross\";\"company\";\"runtime\"\n"
   ]
  },
  {
   "cell_type": "markdown",
   "metadata": {},
   "source": [
    "##### Import Libraries "
   ]
  },
  {
   "cell_type": "code",
   "execution_count": 2,
   "metadata": {},
   "outputs": [],
   "source": [
    "import numpy as np\n",
    "import pandas as pd\n",
    "import seaborn as sns\n",
    "import matplotlib.pyplot as plt\n",
    "import scipy.stats"
   ]
  },
  {
   "cell_type": "markdown",
   "metadata": {},
   "source": [
    "##### Load Dataset"
   ]
  },
  {
   "cell_type": "code",
   "execution_count": 3,
   "metadata": {},
   "outputs": [],
   "source": [
    "df = pd.read_csv('https://raw.githubusercontent.com/GoldenSnow-Xue/schulich_data_science/main/MBAN%206110/Datasets/movies_data.csv')"
   ]
  },
  {
   "cell_type": "code",
   "execution_count": 4,
   "metadata": {},
   "outputs": [
    {
     "data": {
      "text/html": [
       "<div>\n",
       "<style scoped>\n",
       "    .dataframe tbody tr th:only-of-type {\n",
       "        vertical-align: middle;\n",
       "    }\n",
       "\n",
       "    .dataframe tbody tr th {\n",
       "        vertical-align: top;\n",
       "    }\n",
       "\n",
       "    .dataframe thead th {\n",
       "        text-align: right;\n",
       "    }\n",
       "</style>\n",
       "<table border=\"1\" class=\"dataframe\">\n",
       "  <thead>\n",
       "    <tr style=\"text-align: right;\">\n",
       "      <th></th>\n",
       "      <th>Unnamed: 0</th>\n",
       "      <th>movie_name</th>\n",
       "      <th>rating_target_audience</th>\n",
       "      <th>genre</th>\n",
       "      <th>release_year</th>\n",
       "      <th>release_date</th>\n",
       "      <th>release_year_and_country</th>\n",
       "      <th>score</th>\n",
       "      <th>votes</th>\n",
       "      <th>director</th>\n",
       "      <th>writer</th>\n",
       "      <th>star</th>\n",
       "      <th>country</th>\n",
       "      <th>budget</th>\n",
       "      <th>gross</th>\n",
       "      <th>company</th>\n",
       "      <th>runtime</th>\n",
       "    </tr>\n",
       "  </thead>\n",
       "  <tbody>\n",
       "    <tr>\n",
       "      <th>0</th>\n",
       "      <td>0</td>\n",
       "      <td>The Shining</td>\n",
       "      <td>R</td>\n",
       "      <td>Drama</td>\n",
       "      <td>1980</td>\n",
       "      <td>June 13</td>\n",
       "      <td>1980 (United States)</td>\n",
       "      <td>8.4</td>\n",
       "      <td>927000.0</td>\n",
       "      <td>Stanley Kubrick</td>\n",
       "      <td>Stephen King</td>\n",
       "      <td>Jack Nicholson</td>\n",
       "      <td>United Kingdom</td>\n",
       "      <td>19000000.0</td>\n",
       "      <td>46998772.0</td>\n",
       "      <td>Warner Bros.</td>\n",
       "      <td>146.0</td>\n",
       "    </tr>\n",
       "    <tr>\n",
       "      <th>1</th>\n",
       "      <td>1</td>\n",
       "      <td>The Blue Lagoon</td>\n",
       "      <td>R</td>\n",
       "      <td>Adventure</td>\n",
       "      <td>1980</td>\n",
       "      <td>July 2</td>\n",
       "      <td>1980 (United States)</td>\n",
       "      <td>5.8</td>\n",
       "      <td>65000.0</td>\n",
       "      <td>Randal Kleiser</td>\n",
       "      <td>Henry De Vere Stacpoole</td>\n",
       "      <td>Brooke Shields</td>\n",
       "      <td>United States</td>\n",
       "      <td>4500000.0</td>\n",
       "      <td>58853106.0</td>\n",
       "      <td>Columbia Pictures</td>\n",
       "      <td>104.0</td>\n",
       "    </tr>\n",
       "    <tr>\n",
       "      <th>2</th>\n",
       "      <td>2</td>\n",
       "      <td>Star Wars: Episode V - The Empire Strikes Back</td>\n",
       "      <td>PG</td>\n",
       "      <td>Action</td>\n",
       "      <td>1980</td>\n",
       "      <td>June 20</td>\n",
       "      <td>1980 (United States)</td>\n",
       "      <td>8.7</td>\n",
       "      <td>1200000.0</td>\n",
       "      <td>Irvin Kershner</td>\n",
       "      <td>Leigh Brackett</td>\n",
       "      <td>Mark Hamill</td>\n",
       "      <td>United States</td>\n",
       "      <td>18000000.0</td>\n",
       "      <td>538375067.0</td>\n",
       "      <td>Lucasfilm</td>\n",
       "      <td>124.0</td>\n",
       "    </tr>\n",
       "    <tr>\n",
       "      <th>3</th>\n",
       "      <td>3</td>\n",
       "      <td>Airplane!</td>\n",
       "      <td>PG</td>\n",
       "      <td>Comedy</td>\n",
       "      <td>1980</td>\n",
       "      <td>July 2</td>\n",
       "      <td>1980 (United States)</td>\n",
       "      <td>7.7</td>\n",
       "      <td>221000.0</td>\n",
       "      <td>Jim Abrahams</td>\n",
       "      <td>Jim Abrahams</td>\n",
       "      <td>Robert Hays</td>\n",
       "      <td>United States</td>\n",
       "      <td>3500000.0</td>\n",
       "      <td>83453539.0</td>\n",
       "      <td>Paramount Pictures</td>\n",
       "      <td>88.0</td>\n",
       "    </tr>\n",
       "    <tr>\n",
       "      <th>4</th>\n",
       "      <td>4</td>\n",
       "      <td>Caddyshack</td>\n",
       "      <td>R</td>\n",
       "      <td>Comedy</td>\n",
       "      <td>1980</td>\n",
       "      <td>July 25</td>\n",
       "      <td>1980 (United States)</td>\n",
       "      <td>7.3</td>\n",
       "      <td>108000.0</td>\n",
       "      <td>Harold Ramis</td>\n",
       "      <td>Brian Doyle-Murray</td>\n",
       "      <td>Chevy Chase</td>\n",
       "      <td>United States</td>\n",
       "      <td>6000000.0</td>\n",
       "      <td>39846344.0</td>\n",
       "      <td>Orion Pictures</td>\n",
       "      <td>98.0</td>\n",
       "    </tr>\n",
       "    <tr>\n",
       "      <th>...</th>\n",
       "      <td>...</td>\n",
       "      <td>...</td>\n",
       "      <td>...</td>\n",
       "      <td>...</td>\n",
       "      <td>...</td>\n",
       "      <td>...</td>\n",
       "      <td>...</td>\n",
       "      <td>...</td>\n",
       "      <td>...</td>\n",
       "      <td>...</td>\n",
       "      <td>...</td>\n",
       "      <td>...</td>\n",
       "      <td>...</td>\n",
       "      <td>...</td>\n",
       "      <td>...</td>\n",
       "      <td>...</td>\n",
       "      <td>...</td>\n",
       "    </tr>\n",
       "    <tr>\n",
       "      <th>3995</th>\n",
       "      <td>3995</td>\n",
       "      <td>Birthday Girl</td>\n",
       "      <td>R</td>\n",
       "      <td>Comedy</td>\n",
       "      <td>2001</td>\n",
       "      <td>February 1</td>\n",
       "      <td>2002 (United States)</td>\n",
       "      <td>6.1</td>\n",
       "      <td>25000.0</td>\n",
       "      <td>Jez Butterworth</td>\n",
       "      <td>Tom Butterworth</td>\n",
       "      <td>Nicole Kidman</td>\n",
       "      <td>United Kingdom</td>\n",
       "      <td>13000000.0</td>\n",
       "      <td>16171098.0</td>\n",
       "      <td>FilmFour</td>\n",
       "      <td>93.0</td>\n",
       "    </tr>\n",
       "    <tr>\n",
       "      <th>3996</th>\n",
       "      <td>3996</td>\n",
       "      <td>Human Nature</td>\n",
       "      <td>R</td>\n",
       "      <td>Comedy</td>\n",
       "      <td>2001</td>\n",
       "      <td>September 12</td>\n",
       "      <td>2001 (France)</td>\n",
       "      <td>6.4</td>\n",
       "      <td>18000.0</td>\n",
       "      <td>Michel Gondry</td>\n",
       "      <td>Charlie Kaufman</td>\n",
       "      <td>Tim Robbins</td>\n",
       "      <td>France</td>\n",
       "      <td>0.0</td>\n",
       "      <td>1574660.0</td>\n",
       "      <td>Fine Line Features</td>\n",
       "      <td>96.0</td>\n",
       "    </tr>\n",
       "    <tr>\n",
       "      <th>3997</th>\n",
       "      <td>3997</td>\n",
       "      <td>Made</td>\n",
       "      <td>R</td>\n",
       "      <td>Comedy</td>\n",
       "      <td>2001</td>\n",
       "      <td>August 31</td>\n",
       "      <td>2001 (United States)</td>\n",
       "      <td>6.4</td>\n",
       "      <td>18000.0</td>\n",
       "      <td>Jon Favreau</td>\n",
       "      <td>Jon Favreau</td>\n",
       "      <td>Vince Vaughn</td>\n",
       "      <td>United States</td>\n",
       "      <td>5000000.0</td>\n",
       "      <td>5480653.0</td>\n",
       "      <td>Artisan Entertainment</td>\n",
       "      <td>95.0</td>\n",
       "    </tr>\n",
       "    <tr>\n",
       "      <th>3998</th>\n",
       "      <td>3998</td>\n",
       "      <td>One Night at McCool's</td>\n",
       "      <td>R</td>\n",
       "      <td>Comedy</td>\n",
       "      <td>2001</td>\n",
       "      <td>April 27</td>\n",
       "      <td>2001 (United States)</td>\n",
       "      <td>6.1</td>\n",
       "      <td>29000.0</td>\n",
       "      <td>Harald Zwart</td>\n",
       "      <td>Stan Seidel</td>\n",
       "      <td>Liv Tyler</td>\n",
       "      <td>United States</td>\n",
       "      <td>18000000.0</td>\n",
       "      <td>13578186.0</td>\n",
       "      <td>October Films</td>\n",
       "      <td>93.0</td>\n",
       "    </tr>\n",
       "    <tr>\n",
       "      <th>3999</th>\n",
       "      <td>3999</td>\n",
       "      <td>Dr. Dolittle 2</td>\n",
       "      <td>PG</td>\n",
       "      <td>Comedy</td>\n",
       "      <td>2001</td>\n",
       "      <td>June 22</td>\n",
       "      <td>2001 (United States)</td>\n",
       "      <td>4.7</td>\n",
       "      <td>42000.0</td>\n",
       "      <td>Steve Carr</td>\n",
       "      <td>Hugh Lofting</td>\n",
       "      <td>Eddie Murphy</td>\n",
       "      <td>United States</td>\n",
       "      <td>70000000.0</td>\n",
       "      <td>176104344.0</td>\n",
       "      <td>Twentieth Century Fox</td>\n",
       "      <td>87.0</td>\n",
       "    </tr>\n",
       "  </tbody>\n",
       "</table>\n",
       "<p>4000 rows × 17 columns</p>\n",
       "</div>"
      ],
      "text/plain": [
       "      Unnamed: 0                                      movie_name  \\\n",
       "0              0                                     The Shining   \n",
       "1              1                                 The Blue Lagoon   \n",
       "2              2  Star Wars: Episode V - The Empire Strikes Back   \n",
       "3              3                                       Airplane!   \n",
       "4              4                                      Caddyshack   \n",
       "...          ...                                             ...   \n",
       "3995        3995                                   Birthday Girl   \n",
       "3996        3996                                    Human Nature   \n",
       "3997        3997                                            Made   \n",
       "3998        3998                           One Night at McCool's   \n",
       "3999        3999                                  Dr. Dolittle 2   \n",
       "\n",
       "     rating_target_audience      genre  release_year  release_date  \\\n",
       "0                         R      Drama          1980       June 13   \n",
       "1                         R  Adventure          1980        July 2   \n",
       "2                        PG     Action          1980       June 20   \n",
       "3                        PG     Comedy          1980        July 2   \n",
       "4                         R     Comedy          1980       July 25   \n",
       "...                     ...        ...           ...           ...   \n",
       "3995                      R     Comedy          2001    February 1   \n",
       "3996                      R     Comedy          2001  September 12   \n",
       "3997                      R     Comedy          2001     August 31   \n",
       "3998                      R     Comedy          2001      April 27   \n",
       "3999                     PG     Comedy          2001       June 22   \n",
       "\n",
       "     release_year_and_country  score      votes         director  \\\n",
       "0        1980 (United States)    8.4   927000.0  Stanley Kubrick   \n",
       "1        1980 (United States)    5.8    65000.0   Randal Kleiser   \n",
       "2        1980 (United States)    8.7  1200000.0   Irvin Kershner   \n",
       "3        1980 (United States)    7.7   221000.0     Jim Abrahams   \n",
       "4        1980 (United States)    7.3   108000.0     Harold Ramis   \n",
       "...                       ...    ...        ...              ...   \n",
       "3995     2002 (United States)    6.1    25000.0  Jez Butterworth   \n",
       "3996            2001 (France)    6.4    18000.0    Michel Gondry   \n",
       "3997     2001 (United States)    6.4    18000.0      Jon Favreau   \n",
       "3998     2001 (United States)    6.1    29000.0     Harald Zwart   \n",
       "3999     2001 (United States)    4.7    42000.0       Steve Carr   \n",
       "\n",
       "                       writer            star         country      budget  \\\n",
       "0                Stephen King  Jack Nicholson  United Kingdom  19000000.0   \n",
       "1     Henry De Vere Stacpoole  Brooke Shields   United States   4500000.0   \n",
       "2              Leigh Brackett     Mark Hamill   United States  18000000.0   \n",
       "3                Jim Abrahams     Robert Hays   United States   3500000.0   \n",
       "4          Brian Doyle-Murray     Chevy Chase   United States   6000000.0   \n",
       "...                       ...             ...             ...         ...   \n",
       "3995          Tom Butterworth   Nicole Kidman  United Kingdom  13000000.0   \n",
       "3996          Charlie Kaufman     Tim Robbins          France         0.0   \n",
       "3997              Jon Favreau    Vince Vaughn   United States   5000000.0   \n",
       "3998              Stan Seidel       Liv Tyler   United States  18000000.0   \n",
       "3999             Hugh Lofting    Eddie Murphy   United States  70000000.0   \n",
       "\n",
       "            gross                company  runtime  \n",
       "0      46998772.0           Warner Bros.    146.0  \n",
       "1      58853106.0      Columbia Pictures    104.0  \n",
       "2     538375067.0              Lucasfilm    124.0  \n",
       "3      83453539.0     Paramount Pictures     88.0  \n",
       "4      39846344.0         Orion Pictures     98.0  \n",
       "...           ...                    ...      ...  \n",
       "3995   16171098.0               FilmFour     93.0  \n",
       "3996    1574660.0     Fine Line Features     96.0  \n",
       "3997    5480653.0  Artisan Entertainment     95.0  \n",
       "3998   13578186.0          October Films     93.0  \n",
       "3999  176104344.0  Twentieth Century Fox     87.0  \n",
       "\n",
       "[4000 rows x 17 columns]"
      ]
     },
     "execution_count": 4,
     "metadata": {},
     "output_type": "execute_result"
    }
   ],
   "source": [
    "df"
   ]
  },
  {
   "cell_type": "code",
   "execution_count": 5,
   "metadata": {},
   "outputs": [
    {
     "data": {
      "text/html": [
       "<div>\n",
       "<style scoped>\n",
       "    .dataframe tbody tr th:only-of-type {\n",
       "        vertical-align: middle;\n",
       "    }\n",
       "\n",
       "    .dataframe tbody tr th {\n",
       "        vertical-align: top;\n",
       "    }\n",
       "\n",
       "    .dataframe thead th {\n",
       "        text-align: right;\n",
       "    }\n",
       "</style>\n",
       "<table border=\"1\" class=\"dataframe\">\n",
       "  <thead>\n",
       "    <tr style=\"text-align: right;\">\n",
       "      <th></th>\n",
       "      <th>Unnamed: 0</th>\n",
       "      <th>release_year</th>\n",
       "      <th>score</th>\n",
       "      <th>votes</th>\n",
       "      <th>budget</th>\n",
       "      <th>gross</th>\n",
       "      <th>runtime</th>\n",
       "    </tr>\n",
       "  </thead>\n",
       "  <tbody>\n",
       "    <tr>\n",
       "      <th>count</th>\n",
       "      <td>4000.000000</td>\n",
       "      <td>4000.000000</td>\n",
       "      <td>3947.000000</td>\n",
       "      <td>3.947000e+03</td>\n",
       "      <td>3.947000e+03</td>\n",
       "      <td>3.786000e+03</td>\n",
       "      <td>3940.000000</td>\n",
       "    </tr>\n",
       "    <tr>\n",
       "      <th>mean</th>\n",
       "      <td>1999.500000</td>\n",
       "      <td>1991.191500</td>\n",
       "      <td>6.318596</td>\n",
       "      <td>5.515430e+04</td>\n",
       "      <td>1.561524e+07</td>\n",
       "      <td>4.220456e+07</td>\n",
       "      <td>105.736294</td>\n",
       "    </tr>\n",
       "    <tr>\n",
       "      <th>std</th>\n",
       "      <td>1154.844867</td>\n",
       "      <td>5.934529</td>\n",
       "      <td>0.977161</td>\n",
       "      <td>1.436098e+05</td>\n",
       "      <td>2.257366e+07</td>\n",
       "      <td>9.303727e+07</td>\n",
       "      <td>18.546272</td>\n",
       "    </tr>\n",
       "    <tr>\n",
       "      <th>min</th>\n",
       "      <td>0.000000</td>\n",
       "      <td>1980.000000</td>\n",
       "      <td>2.200000</td>\n",
       "      <td>5.100000e+01</td>\n",
       "      <td>0.000000e+00</td>\n",
       "      <td>3.090000e+02</td>\n",
       "      <td>55.000000</td>\n",
       "    </tr>\n",
       "    <tr>\n",
       "      <th>25%</th>\n",
       "      <td>999.750000</td>\n",
       "      <td>1986.000000</td>\n",
       "      <td>5.700000</td>\n",
       "      <td>4.400000e+03</td>\n",
       "      <td>0.000000e+00</td>\n",
       "      <td>3.013546e+06</td>\n",
       "      <td>94.000000</td>\n",
       "    </tr>\n",
       "    <tr>\n",
       "      <th>50%</th>\n",
       "      <td>1999.500000</td>\n",
       "      <td>1991.000000</td>\n",
       "      <td>6.400000</td>\n",
       "      <td>1.400000e+04</td>\n",
       "      <td>7.500000e+06</td>\n",
       "      <td>1.221649e+07</td>\n",
       "      <td>102.000000</td>\n",
       "    </tr>\n",
       "    <tr>\n",
       "      <th>75%</th>\n",
       "      <td>2999.250000</td>\n",
       "      <td>1996.000000</td>\n",
       "      <td>7.000000</td>\n",
       "      <td>4.600000e+04</td>\n",
       "      <td>2.200000e+07</td>\n",
       "      <td>3.629985e+07</td>\n",
       "      <td>114.000000</td>\n",
       "    </tr>\n",
       "    <tr>\n",
       "      <th>max</th>\n",
       "      <td>3999.000000</td>\n",
       "      <td>2001.000000</td>\n",
       "      <td>9.300000</td>\n",
       "      <td>2.400000e+06</td>\n",
       "      <td>2.000000e+08</td>\n",
       "      <td>2.201647e+09</td>\n",
       "      <td>357.000000</td>\n",
       "    </tr>\n",
       "  </tbody>\n",
       "</table>\n",
       "</div>"
      ],
      "text/plain": [
       "        Unnamed: 0  release_year        score         votes        budget  \\\n",
       "count  4000.000000   4000.000000  3947.000000  3.947000e+03  3.947000e+03   \n",
       "mean   1999.500000   1991.191500     6.318596  5.515430e+04  1.561524e+07   \n",
       "std    1154.844867      5.934529     0.977161  1.436098e+05  2.257366e+07   \n",
       "min       0.000000   1980.000000     2.200000  5.100000e+01  0.000000e+00   \n",
       "25%     999.750000   1986.000000     5.700000  4.400000e+03  0.000000e+00   \n",
       "50%    1999.500000   1991.000000     6.400000  1.400000e+04  7.500000e+06   \n",
       "75%    2999.250000   1996.000000     7.000000  4.600000e+04  2.200000e+07   \n",
       "max    3999.000000   2001.000000     9.300000  2.400000e+06  2.000000e+08   \n",
       "\n",
       "              gross      runtime  \n",
       "count  3.786000e+03  3940.000000  \n",
       "mean   4.220456e+07   105.736294  \n",
       "std    9.303727e+07    18.546272  \n",
       "min    3.090000e+02    55.000000  \n",
       "25%    3.013546e+06    94.000000  \n",
       "50%    1.221649e+07   102.000000  \n",
       "75%    3.629985e+07   114.000000  \n",
       "max    2.201647e+09   357.000000  "
      ]
     },
     "execution_count": 5,
     "metadata": {},
     "output_type": "execute_result"
    }
   ],
   "source": [
    "df.describe()"
   ]
  },
  {
   "cell_type": "code",
   "execution_count": 6,
   "metadata": {},
   "outputs": [
    {
     "name": "stdout",
     "output_type": "stream",
     "text": [
      "<class 'pandas.core.frame.DataFrame'>\n",
      "RangeIndex: 4000 entries, 0 to 3999\n",
      "Data columns (total 17 columns):\n",
      " #   Column                    Non-Null Count  Dtype  \n",
      "---  ------                    --------------  -----  \n",
      " 0   Unnamed: 0                4000 non-null   int64  \n",
      " 1   movie_name                4000 non-null   object \n",
      " 2   rating_target_audience    3960 non-null   object \n",
      " 3   genre                     4000 non-null   object \n",
      " 4   release_year              4000 non-null   int64  \n",
      " 5   release_date              4000 non-null   object \n",
      " 6   release_year_and_country  3947 non-null   object \n",
      " 7   score                     3947 non-null   float64\n",
      " 8   votes                     3947 non-null   float64\n",
      " 9   director                  3947 non-null   object \n",
      " 10  writer                    3947 non-null   object \n",
      " 11  star                      3946 non-null   object \n",
      " 12  country                   3947 non-null   object \n",
      " 13  budget                    3947 non-null   float64\n",
      " 14  gross                     3786 non-null   float64\n",
      " 15  company                   3937 non-null   object \n",
      " 16  runtime                   3940 non-null   float64\n",
      "dtypes: float64(5), int64(2), object(10)\n",
      "memory usage: 531.4+ KB\n"
     ]
    }
   ],
   "source": [
    "df.info()"
   ]
  },
  {
   "cell_type": "markdown",
   "metadata": {},
   "source": [
    "### 2. Define a Problem Statement and Hypothesis"
   ]
  },
  {
   "cell_type": "markdown",
   "metadata": {},
   "source": [
    "### 3. Conduct Exploratory Data Analysis (EDA)"
   ]
  },
  {
   "cell_type": "markdown",
   "metadata": {},
   "source": [
    "##### Data Cleaning"
   ]
  },
  {
   "cell_type": "code",
   "execution_count": 7,
   "metadata": {},
   "outputs": [],
   "source": [
    "df = df.drop(columns=['Unnamed: 0', 'release_year_and_country'])"
   ]
  },
  {
   "cell_type": "code",
   "execution_count": 8,
   "metadata": {},
   "outputs": [],
   "source": [
    "df = df.drop_duplicates()"
   ]
  },
  {
   "cell_type": "markdown",
   "metadata": {},
   "source": [
    "##### Deal with missing values"
   ]
  },
  {
   "cell_type": "code",
   "execution_count": 9,
   "metadata": {},
   "outputs": [
    {
     "data": {
      "text/plain": [
       "movie_name                  0\n",
       "rating_target_audience     40\n",
       "genre                       0\n",
       "release_year                0\n",
       "release_date                0\n",
       "score                      53\n",
       "votes                      53\n",
       "director                   53\n",
       "writer                     53\n",
       "star                       54\n",
       "country                    53\n",
       "budget                     53\n",
       "gross                     214\n",
       "company                    63\n",
       "runtime                    60\n",
       "dtype: int64"
      ]
     },
     "execution_count": 9,
     "metadata": {},
     "output_type": "execute_result"
    }
   ],
   "source": [
    "df.isnull().sum()"
   ]
  },
  {
   "cell_type": "code",
   "execution_count": 10,
   "metadata": {},
   "outputs": [],
   "source": [
    "df['score'].fillna(df['score'].median(), inplace=True)\n",
    "df['votes'].fillna(df['votes'].mean(), inplace=True)\n",
    "df['budget'].fillna(df['budget'].mean(), inplace=True)\n",
    "df['gross'].fillna(df['gross'].mean(), inplace=True)\n",
    "df['runtime'].fillna(df['runtime'].mean(), inplace=True)\n",
    "\n",
    "df['rating_target_audience'].fillna('other', inplace=True)\n",
    "df['director'].fillna('other', inplace=True)\n",
    "df['writer'].fillna('other', inplace=True)\n",
    "df['star'].fillna('other', inplace=True)\n",
    "df['country'].fillna('other', inplace=True)\n",
    "df['company'].fillna('other', inplace=True)"
   ]
  },
  {
   "cell_type": "code",
   "execution_count": 11,
   "metadata": {},
   "outputs": [],
   "source": [
    "df2 = df"
   ]
  },
  {
   "cell_type": "code",
   "execution_count": 12,
   "metadata": {},
   "outputs": [
    {
     "data": {
      "text/plain": [
       "movie_name                0\n",
       "rating_target_audience    0\n",
       "genre                     0\n",
       "release_year              0\n",
       "release_date              0\n",
       "score                     0\n",
       "votes                     0\n",
       "director                  0\n",
       "writer                    0\n",
       "star                      0\n",
       "country                   0\n",
       "budget                    0\n",
       "gross                     0\n",
       "company                   0\n",
       "runtime                   0\n",
       "dtype: int64"
      ]
     },
     "execution_count": 12,
     "metadata": {},
     "output_type": "execute_result"
    }
   ],
   "source": [
    "df2.isnull().sum()"
   ]
  },
  {
   "cell_type": "code",
   "execution_count": 13,
   "metadata": {},
   "outputs": [
    {
     "name": "stdout",
     "output_type": "stream",
     "text": [
      "<class 'pandas.core.frame.DataFrame'>\n",
      "Int64Index: 4000 entries, 0 to 3999\n",
      "Data columns (total 15 columns):\n",
      " #   Column                  Non-Null Count  Dtype  \n",
      "---  ------                  --------------  -----  \n",
      " 0   movie_name              4000 non-null   object \n",
      " 1   rating_target_audience  4000 non-null   object \n",
      " 2   genre                   4000 non-null   object \n",
      " 3   release_year            4000 non-null   int64  \n",
      " 4   release_date            4000 non-null   object \n",
      " 5   score                   4000 non-null   float64\n",
      " 6   votes                   4000 non-null   float64\n",
      " 7   director                4000 non-null   object \n",
      " 8   writer                  4000 non-null   object \n",
      " 9   star                    4000 non-null   object \n",
      " 10  country                 4000 non-null   object \n",
      " 11  budget                  4000 non-null   float64\n",
      " 12  gross                   4000 non-null   float64\n",
      " 13  company                 4000 non-null   object \n",
      " 14  runtime                 4000 non-null   float64\n",
      "dtypes: float64(5), int64(1), object(9)\n",
      "memory usage: 500.0+ KB\n"
     ]
    }
   ],
   "source": [
    "df2.info()"
   ]
  },
  {
   "cell_type": "markdown",
   "metadata": {},
   "source": [
    "##### Deal with Outliers"
   ]
  },
  {
   "cell_type": "markdown",
   "metadata": {},
   "source": [
    "###### rating_target_audience, genre, country don't have huge categories, so we decide to categorize them in feature engineering."
   ]
  },
  {
   "cell_type": "code",
   "execution_count": 107,
   "metadata": {},
   "outputs": [
    {
     "data": {
      "text/plain": [
       "(12,\n",
       " array(['R', 'PG', 'G', 'other', 'Not Rated', 'NC-17', 'Approved', 'TV-PG',\n",
       "        'PG-13', 'Unrated', 'X', 'TV-MA'], dtype=object),\n",
       " R            2043\n",
       " PG-13         848\n",
       " PG            815\n",
       " G             106\n",
       " Not Rated      92\n",
       " other          40\n",
       " Unrated        32\n",
       " NC-17          14\n",
       " TV-MA           4\n",
       " X               3\n",
       " TV-PG           2\n",
       " Approved        1\n",
       " Name: rating_target_audience, dtype: int64)"
      ]
     },
     "execution_count": 107,
     "metadata": {},
     "output_type": "execute_result"
    }
   ],
   "source": [
    "df2['rating_target_audience'].nunique(), df2['rating_target_audience'].unique(), df2['rating_target_audience'].value_counts()"
   ]
  },
  {
   "cell_type": "code",
   "execution_count": 106,
   "metadata": {},
   "outputs": [
    {
     "data": {
      "text/plain": [
       "(17,\n",
       " array(['Drama', 'Adventure', 'Action', 'Comedy', 'Horror', 'Biography',\n",
       "        'Crime', 'Fantasy', 'Family', 'Sci-Fi', 'Animation', 'Romance',\n",
       "        'Music', 'Western', 'Thriller', 'History', 'Mystery'], dtype=object),\n",
       " Comedy       1355\n",
       " Drama         807\n",
       " Action        775\n",
       " Crime         302\n",
       " Adventure     231\n",
       " Biography     175\n",
       " Horror        158\n",
       " Animation     113\n",
       " Fantasy        33\n",
       " Mystery        13\n",
       " Thriller       11\n",
       " Romance         8\n",
       " Family          8\n",
       " Sci-Fi          6\n",
       " Western         3\n",
       " Music           1\n",
       " History         1\n",
       " Name: genre, dtype: int64)"
      ]
     },
     "execution_count": 106,
     "metadata": {},
     "output_type": "execute_result"
    }
   ],
   "source": [
    "df2['genre'].nunique(), df2['genre'].unique(), df2['genre'].value_counts()"
   ]
  },
  {
   "cell_type": "code",
   "execution_count": 102,
   "metadata": {},
   "outputs": [
    {
     "data": {
      "text/plain": [
       "(45,\n",
       " array(['United Kingdom', 'United States', 'South Africa', 'West Germany',\n",
       "        'Canada', 'Australia', 'Libya', 'Italy', 'Soviet Union', 'other',\n",
       "        'France', 'Hong Kong', 'South Korea', 'Sweden', 'Spain', 'Mexico',\n",
       "        'Switzerland', 'Netherlands', 'New Zealand', 'Philippines',\n",
       "        'Israel', 'Japan', 'Hungary', 'Brazil', 'Yugoslavia', 'Argentina',\n",
       "        'Ireland', 'Denmark', 'Germany', 'Iran', 'China', 'Belgium',\n",
       "        'Taiwan', 'Austria', 'Portugal', 'Vietnam',\n",
       "        'Republic of Macedonia', 'Russia',\n",
       "        'Federal Republic of Yugoslavia', 'Greece', 'Czech Republic',\n",
       "        'Norway', 'India', 'Jamaica', 'Aruba'], dtype=object),\n",
       " United States                     2952\n",
       " United Kingdom                     384\n",
       " France                             141\n",
       " Canada                              98\n",
       " other                               53\n",
       " Australia                           52\n",
       " Italy                               44\n",
       " Japan                               44\n",
       " Germany                             43\n",
       " Hong Kong                           26\n",
       " Spain                               19\n",
       " Ireland                             16\n",
       " Denmark                             11\n",
       " Mexico                              11\n",
       " West Germany                        11\n",
       " Sweden                              10\n",
       " New Zealand                         10\n",
       " Switzerland                          8\n",
       " Netherlands                          7\n",
       " India                                6\n",
       " Iran                                 6\n",
       " Yugoslavia                           5\n",
       " Taiwan                               5\n",
       " South Africa                         4\n",
       " China                                3\n",
       " Hungary                              3\n",
       " Argentina                            3\n",
       " South Korea                          3\n",
       " Federal Republic of Yugoslavia       2\n",
       " Israel                               2\n",
       " Soviet Union                         2\n",
       " Portugal                             2\n",
       " Brazil                               2\n",
       " Jamaica                              1\n",
       " Libya                                1\n",
       " Norway                               1\n",
       " Czech Republic                       1\n",
       " Greece                               1\n",
       " Vietnam                              1\n",
       " Russia                               1\n",
       " Republic of Macedonia                1\n",
       " Austria                              1\n",
       " Belgium                              1\n",
       " Philippines                          1\n",
       " Aruba                                1\n",
       " Name: country, dtype: int64)"
      ]
     },
     "execution_count": 102,
     "metadata": {},
     "output_type": "execute_result"
    }
   ],
   "source": [
    "df2['country'].nunique(), df2['country'].unique(), df2['country'].value_counts()"
   ]
  },
  {
   "cell_type": "markdown",
   "metadata": {},
   "source": [
    "###### Director, wirter, star and company have a lot of categories with unique data, so we decide to drop them in data cleaning"
   ]
  },
  {
   "cell_type": "code",
   "execution_count": 105,
   "metadata": {},
   "outputs": [
    {
     "data": {
      "text/plain": [
       "(1664,\n",
       " array(['Stanley Kubrick', 'Randal Kleiser', 'Irvin Kershner', ...,\n",
       "        'Michel Gondry', 'Jon Favreau', 'Harald Zwart'], dtype=object),\n",
       " other                   53\n",
       " Woody Allen             22\n",
       " Clint Eastwood          16\n",
       " Barry Levinson          16\n",
       " Directors               16\n",
       "                         ..\n",
       " John Patrick Shanley     1\n",
       " William Peter Blatty     1\n",
       " Jack Nicholson           1\n",
       " Hendel Butoy             1\n",
       " Harald Zwart             1\n",
       " Name: director, Length: 1664, dtype: int64)"
      ]
     },
     "execution_count": 105,
     "metadata": {},
     "output_type": "execute_result"
    }
   ],
   "source": [
    "df2['director'].nunique(), df2['director'].unique(), df2['director'].value_counts()"
   ]
  },
  {
   "cell_type": "code",
   "execution_count": 104,
   "metadata": {},
   "outputs": [
    {
     "data": {
      "text/plain": [
       "(2660,\n",
       " array(['Stephen King', 'Henry De Vere Stacpoole', 'Leigh Brackett', ...,\n",
       "        'Jennifer Jason Leigh', 'Tom Butterworth', 'Stan Seidel'],\n",
       "       dtype=object),\n",
       " other              53\n",
       " Stephen King       27\n",
       " John Hughes        24\n",
       " Woody Allen        21\n",
       " David Mamet        13\n",
       "                    ..\n",
       " James Bond III      1\n",
       " Michael Lehmann     1\n",
       " John McGreevey      1\n",
       " Massimo De Rita     1\n",
       " Stan Seidel         1\n",
       " Name: writer, Length: 2660, dtype: int64)"
      ]
     },
     "execution_count": 104,
     "metadata": {},
     "output_type": "execute_result"
    }
   ],
   "source": [
    "df2['writer'].nunique(), df2['writer'].unique(), df2['writer'].value_counts()"
   ]
  },
  {
   "cell_type": "code",
   "execution_count": 103,
   "metadata": {},
   "outputs": [
    {
     "data": {
      "text/plain": [
       "(1627,\n",
       " array(['Jack Nicholson', 'Brooke Shields', 'Mark Hamill', ...,\n",
       "        'Alan Cumming', 'Justin Chambers', 'Mekhi Phifer'], dtype=object),\n",
       " other             54\n",
       " Robert De Niro    27\n",
       " Mel Gibson        25\n",
       " Tom Hanks         24\n",
       " John Travolta     23\n",
       "                   ..\n",
       " Carmen Maura       1\n",
       " Tami Erin          1\n",
       " Amanda Donohoe     1\n",
       " Doug Bradley       1\n",
       " Mekhi Phifer       1\n",
       " Name: star, Length: 1627, dtype: int64)"
      ]
     },
     "execution_count": 103,
     "metadata": {},
     "output_type": "execute_result"
    }
   ],
   "source": [
    "df2['star'].nunique(), df2['star'].unique(), df2['star'].value_counts()"
   ]
  },
  {
   "cell_type": "code",
   "execution_count": 101,
   "metadata": {},
   "outputs": [
    {
     "data": {
      "text/plain": [
       "(1281,\n",
       " array(['Warner Bros.', 'Columbia Pictures', 'Lucasfilm', ...,\n",
       "        'Noé Productions',\n",
       "        'IMF Internationale Medien und Film GmbH & Co. Produktions KG',\n",
       "        'Chickie the Cop'], dtype=object),\n",
       " Paramount Pictures       191\n",
       " Universal Pictures       191\n",
       " Columbia Pictures        174\n",
       " Warner Bros.             165\n",
       " Twentieth Century Fox    122\n",
       "                         ... \n",
       " Jascat                     1\n",
       " Cinema Group               1\n",
       " Mirabai Films              1\n",
       " Burrowes Film Group        1\n",
       " Chickie the Cop            1\n",
       " Name: company, Length: 1281, dtype: int64)"
      ]
     },
     "execution_count": 101,
     "metadata": {},
     "output_type": "execute_result"
    }
   ],
   "source": [
    "df2['company'].nunique(), df2['company'].unique(), df2['company'].value_counts()"
   ]
  },
  {
   "cell_type": "markdown",
   "metadata": {},
   "source": [
    "##### Data Visualization "
   ]
  },
  {
   "cell_type": "code",
   "execution_count": 14,
   "metadata": {},
   "outputs": [
    {
     "data": {
      "text/plain": [
       "<module 'matplotlib.pyplot' from 'c:\\\\Users\\\\Golden Snow\\\\anaconda3\\\\lib\\\\site-packages\\\\matplotlib\\\\pyplot.py'>"
      ]
     },
     "execution_count": 14,
     "metadata": {},
     "output_type": "execute_result"
    },
    {
     "data": {
      "image/png": "[encoded data removed]",
      "text/plain": [
       "<Figure size 720x720 with 6 Axes>"
      ]
     },
     "metadata": {
      "needs_background": "light"
     },
     "output_type": "display_data"
    }
   ],
   "source": [
    "df2.hist(figsize=(10, 10))\n",
    "plt"
   ]
  },
  {
   "cell_type": "markdown",
   "metadata": {},
   "source": [
    "###### Most of the score are concentrated between 5 and 8"
   ]
  },
  {
   "cell_type": "code",
   "execution_count": 15,
   "metadata": {},
   "outputs": [
    {
     "data": {
      "image/png": "[encoded data removed]",
      "text/plain": [
       "<Figure size 432x288 with 1 Axes>"
      ]
     },
     "metadata": {
      "needs_background": "light"
     },
     "output_type": "display_data"
    }
   ],
   "source": [
    "sns.boxplot(x='score', data=df2)\n",
    "plt.show()"
   ]
  },
  {
   "cell_type": "code",
   "execution_count": 16,
   "metadata": {},
   "outputs": [
    {
     "data": {
      "image/png": "[encoded data removed]",
      "text/plain": [
       "<Figure size 432x288 with 1 Axes>"
      ]
     },
     "metadata": {
      "needs_background": "light"
     },
     "output_type": "display_data"
    }
   ],
   "source": [
    "sns.scatterplot(x='score',\n",
    "                y='release_year',\n",
    "                data=df2,\n",
    "                hue='release_year',\n",
    "                marker='s')\n",
    "plt.show()"
   ]
  },
  {
   "cell_type": "code",
   "execution_count": 17,
   "metadata": {},
   "outputs": [
    {
     "data": {
      "image/png": "[encoded data removed]",
      "text/plain": [
       "<Figure size 432x288 with 1 Axes>"
      ]
     },
     "metadata": {
      "needs_background": "light"
     },
     "output_type": "display_data"
    }
   ],
   "source": [
    "sns.scatterplot(x='score',\n",
    "                y='votes',\n",
    "                data=df2,\n",
    "                hue='votes',\n",
    "                marker='s')\n",
    "plt.show()"
   ]
  },
  {
   "cell_type": "code",
   "execution_count": 18,
   "metadata": {},
   "outputs": [
    {
     "data": {
      "image/png": "[encoded data removed]",
      "text/plain": [
       "<Figure size 432x288 with 1 Axes>"
      ]
     },
     "metadata": {
      "needs_background": "light"
     },
     "output_type": "display_data"
    }
   ],
   "source": [
    "sns.scatterplot(x='score',\n",
    "                y='budget',\n",
    "                data=df2,\n",
    "                hue='budget',\n",
    "                marker='s')\n",
    "plt.show()"
   ]
  },
  {
   "cell_type": "code",
   "execution_count": 19,
   "metadata": {},
   "outputs": [
    {
     "data": {
      "image/png": "[encoded data removed]",
      "text/plain": [
       "<Figure size 432x288 with 1 Axes>"
      ]
     },
     "metadata": {
      "needs_background": "light"
     },
     "output_type": "display_data"
    }
   ],
   "source": [
    "sns.scatterplot(x='score',\n",
    "                y='gross',\n",
    "                data=df2,\n",
    "                hue='gross',\n",
    "                marker='s')\n",
    "plt.show()"
   ]
  },
  {
   "cell_type": "code",
   "execution_count": 20,
   "metadata": {},
   "outputs": [
    {
     "data": {
      "image/png": "[encoded data removed]",
      "text/plain": [
       "<Figure size 432x288 with 1 Axes>"
      ]
     },
     "metadata": {
      "needs_background": "light"
     },
     "output_type": "display_data"
    }
   ],
   "source": [
    "sns.scatterplot(x='score',\n",
    "                y='runtime',\n",
    "                data=df2,\n",
    "                hue='runtime',\n",
    "                marker='s')\n",
    "plt.show()"
   ]
  },
  {
   "cell_type": "code",
   "execution_count": 21,
   "metadata": {},
   "outputs": [
    {
     "data": {
      "text/plain": [
       "<AxesSubplot:title={'center':'Directors with Top Revenue'}, ylabel='director'>"
      ]
     },
     "execution_count": 21,
     "metadata": {},
     "output_type": "execute_result"
    },
    {
     "data": {
      "image/png": "[encoded data removed]",
      "text/plain": [
       "<Figure size 432x288 with 1 Axes>"
      ]
     },
     "metadata": {
      "needs_background": "light"
     },
     "output_type": "display_data"
    }
   ],
   "source": [
    "gross_of_director = df2.groupby('director').gross.mean()\n",
    "gross_of_director.sort_values().tail(10).plot(kind = 'barh', title = 'Directors with Top Revenue')"
   ]
  },
  {
   "cell_type": "code",
   "execution_count": 22,
   "metadata": {},
   "outputs": [
    {
     "data": {
      "text/plain": [
       "<AxesSubplot:title={'center':'Directors with Top Revenue'}, ylabel='writer'>"
      ]
     },
     "execution_count": 22,
     "metadata": {},
     "output_type": "execute_result"
    },
    {
     "data": {
      "image/png": "[encoded data removed]",
      "text/plain": [
       "<Figure size 432x288 with 1 Axes>"
      ]
     },
     "metadata": {
      "needs_background": "light"
     },
     "output_type": "display_data"
    }
   ],
   "source": [
    "gross_of_writer = df2.groupby('writer').gross.mean()\n",
    "gross_of_writer.sort_values().tail(10).plot(kind = 'barh', title = 'Directors with Top Revenue')"
   ]
  },
  {
   "cell_type": "code",
   "execution_count": 23,
   "metadata": {},
   "outputs": [
    {
     "data": {
      "text/plain": [
       "<AxesSubplot:title={'center':'Directors with Top Revenue'}, ylabel='star'>"
      ]
     },
     "execution_count": 23,
     "metadata": {},
     "output_type": "execute_result"
    },
    {
     "data": {
      "image/png": "[encoded data removed]",
      "text/plain": [
       "<Figure size 432x288 with 1 Axes>"
      ]
     },
     "metadata": {
      "needs_background": "light"
     },
     "output_type": "display_data"
    }
   ],
   "source": [
    "gross_of_star = df2.groupby('star').gross.mean()\n",
    "gross_of_star.sort_values().tail(10).plot(kind = 'barh', title = 'Directors with Top Revenue')"
   ]
  },
  {
   "cell_type": "code",
   "execution_count": 24,
   "metadata": {},
   "outputs": [
    {
     "data": {
      "text/plain": [
       "<AxesSubplot:>"
      ]
     },
     "execution_count": 24,
     "metadata": {},
     "output_type": "execute_result"
    },
    {
     "data": {
      "image/png": "[encoded data removed]",
      "text/plain": [
       "<Figure size 432x288 with 1 Axes>"
      ]
     },
     "metadata": {
      "needs_background": "light"
     },
     "output_type": "display_data"
    }
   ],
   "source": [
    "score_of_director = df2.groupby('director').score.mean()\n",
    "score_of_director.hist()"
   ]
  },
  {
   "cell_type": "code",
   "execution_count": 25,
   "metadata": {},
   "outputs": [
    {
     "data": {
      "text/plain": [
       "<AxesSubplot:>"
      ]
     },
     "execution_count": 25,
     "metadata": {},
     "output_type": "execute_result"
    },
    {
     "data": {
      "image/png": "[encoded data removed]",
      "text/plain": [
       "<Figure size 432x288 with 1 Axes>"
      ]
     },
     "metadata": {
      "needs_background": "light"
     },
     "output_type": "display_data"
    }
   ],
   "source": [
    "score_of_writer = df2.groupby('writer').score.mean()\n",
    "score_of_writer.hist()"
   ]
  },
  {
   "cell_type": "code",
   "execution_count": 26,
   "metadata": {},
   "outputs": [
    {
     "data": {
      "text/plain": [
       "<AxesSubplot:>"
      ]
     },
     "execution_count": 26,
     "metadata": {},
     "output_type": "execute_result"
    },
    {
     "data": {
      "image/png": "[encoded data removed]",
      "text/plain": [
       "<Figure size 432x288 with 1 Axes>"
      ]
     },
     "metadata": {
      "needs_background": "light"
     },
     "output_type": "display_data"
    }
   ],
   "source": [
    "score_of_star = df2.groupby('star').score.mean()\n",
    "score_of_star.hist()"
   ]
  },
  {
   "cell_type": "markdown",
   "metadata": {},
   "source": [
    "##### Discriptive Statistics"
   ]
  },
  {
   "cell_type": "code",
   "execution_count": 69,
   "metadata": {},
   "outputs": [
    {
     "data": {
      "text/html": [
       "<div>\n",
       "<style scoped>\n",
       "    .dataframe tbody tr th:only-of-type {\n",
       "        vertical-align: middle;\n",
       "    }\n",
       "\n",
       "    .dataframe tbody tr th {\n",
       "        vertical-align: top;\n",
       "    }\n",
       "\n",
       "    .dataframe thead th {\n",
       "        text-align: right;\n",
       "    }\n",
       "</style>\n",
       "<table border=\"1\" class=\"dataframe\">\n",
       "  <thead>\n",
       "    <tr style=\"text-align: right;\">\n",
       "      <th></th>\n",
       "      <th>count</th>\n",
       "      <th>mean</th>\n",
       "      <th>std</th>\n",
       "      <th>min</th>\n",
       "      <th>25%</th>\n",
       "      <th>50%</th>\n",
       "      <th>75%</th>\n",
       "      <th>max</th>\n",
       "    </tr>\n",
       "  </thead>\n",
       "  <tbody>\n",
       "    <tr>\n",
       "      <th>release_year</th>\n",
       "      <td>4000.0</td>\n",
       "      <td>1.991191e+03</td>\n",
       "      <td>5.934529e+00</td>\n",
       "      <td>1980.0</td>\n",
       "      <td>1986.00</td>\n",
       "      <td>1991.0</td>\n",
       "      <td>1.996000e+03</td>\n",
       "      <td>2.001000e+03</td>\n",
       "    </tr>\n",
       "    <tr>\n",
       "      <th>score</th>\n",
       "      <td>4000.0</td>\n",
       "      <td>6.319675e+00</td>\n",
       "      <td>9.707090e-01</td>\n",
       "      <td>2.2</td>\n",
       "      <td>5.70</td>\n",
       "      <td>6.4</td>\n",
       "      <td>7.000000e+00</td>\n",
       "      <td>9.300000e+00</td>\n",
       "    </tr>\n",
       "    <tr>\n",
       "      <th>votes</th>\n",
       "      <td>4000.0</td>\n",
       "      <td>5.515430e+04</td>\n",
       "      <td>1.426550e+05</td>\n",
       "      <td>51.0</td>\n",
       "      <td>4500.00</td>\n",
       "      <td>14000.0</td>\n",
       "      <td>4.900000e+04</td>\n",
       "      <td>2.400000e+06</td>\n",
       "    </tr>\n",
       "    <tr>\n",
       "      <th>budget</th>\n",
       "      <td>4000.0</td>\n",
       "      <td>1.561524e+07</td>\n",
       "      <td>2.242358e+07</td>\n",
       "      <td>0.0</td>\n",
       "      <td>0.00</td>\n",
       "      <td>8000000.0</td>\n",
       "      <td>2.100000e+07</td>\n",
       "      <td>2.000000e+08</td>\n",
       "    </tr>\n",
       "    <tr>\n",
       "      <th>gross</th>\n",
       "      <td>4000.0</td>\n",
       "      <td>4.220456e+07</td>\n",
       "      <td>9.051367e+07</td>\n",
       "      <td>309.0</td>\n",
       "      <td>3367180.25</td>\n",
       "      <td>13794516.5</td>\n",
       "      <td>4.220456e+07</td>\n",
       "      <td>2.201647e+09</td>\n",
       "    </tr>\n",
       "    <tr>\n",
       "      <th>runtime</th>\n",
       "      <td>4000.0</td>\n",
       "      <td>1.057363e+02</td>\n",
       "      <td>1.840661e+01</td>\n",
       "      <td>55.0</td>\n",
       "      <td>94.00</td>\n",
       "      <td>102.0</td>\n",
       "      <td>1.130000e+02</td>\n",
       "      <td>3.570000e+02</td>\n",
       "    </tr>\n",
       "  </tbody>\n",
       "</table>\n",
       "</div>"
      ],
      "text/plain": [
       "               count          mean           std     min         25%  \\\n",
       "release_year  4000.0  1.991191e+03  5.934529e+00  1980.0     1986.00   \n",
       "score         4000.0  6.319675e+00  9.707090e-01     2.2        5.70   \n",
       "votes         4000.0  5.515430e+04  1.426550e+05    51.0     4500.00   \n",
       "budget        4000.0  1.561524e+07  2.242358e+07     0.0        0.00   \n",
       "gross         4000.0  4.220456e+07  9.051367e+07   309.0  3367180.25   \n",
       "runtime       4000.0  1.057363e+02  1.840661e+01    55.0       94.00   \n",
       "\n",
       "                     50%           75%           max  \n",
       "release_year      1991.0  1.996000e+03  2.001000e+03  \n",
       "score                6.4  7.000000e+00  9.300000e+00  \n",
       "votes            14000.0  4.900000e+04  2.400000e+06  \n",
       "budget         8000000.0  2.100000e+07  2.000000e+08  \n",
       "gross         13794516.5  4.220456e+07  2.201647e+09  \n",
       "runtime            102.0  1.130000e+02  3.570000e+02  "
      ]
     },
     "execution_count": 69,
     "metadata": {},
     "output_type": "execute_result"
    }
   ],
   "source": [
    "df2.describe().transpose()"
   ]
  },
  {
   "cell_type": "code",
   "execution_count": 27,
   "metadata": {},
   "outputs": [
    {
     "name": "stdout",
     "output_type": "stream",
     "text": [
      "Mean: release_year    1.991191e+03\n",
      "score           6.319675e+00\n",
      "votes           5.515430e+04\n",
      "budget          1.561524e+07\n",
      "gross           4.220456e+07\n",
      "runtime         1.057363e+02\n",
      "dtype: float64\n",
      "Mode: ['Hamlet' 'R' 'Comedy' 1985 'December 25' 6.4 13000.0 'other' 'other'\n",
      " 'other' 'United States' 0.0 42204563.659006864 'Paramount Pictures' 97.0] Count: [   3 2043 1355  200   49  228   82   53   53   54 2952 1353  214  191\n",
      "  134]\n",
      "Variance: release_year    3.520983e+01\n",
      "score           9.420404e-01\n",
      "votes           2.034537e+10\n",
      "budget          5.026911e+14\n",
      "gross           8.190677e+15\n",
      "runtime         3.387188e+02\n",
      "dtype: float64\n",
      "Standard Deviation: release_year    5.933787e+00\n",
      "score           9.705877e-01\n",
      "votes           1.426372e+05\n",
      "budget          2.242077e+07\n",
      "gross           9.050236e+07\n",
      "runtime         1.840431e+01\n",
      "dtype: float64\n"
     ]
    },
    {
     "name": "stderr",
     "output_type": "stream",
     "text": [
      "c:\\Users\\Golden Snow\\anaconda3\\lib\\site-packages\\numpy\\core\\fromnumeric.py:3417: FutureWarning: Dropping of nuisance columns in DataFrame reductions (with 'numeric_only=None') is deprecated; in a future version this will raise TypeError.  Select only valid columns before calling the reduction.\n",
      "  return mean(axis=axis, dtype=dtype, out=out, **kwargs)\n",
      "c:\\Users\\Golden Snow\\anaconda3\\lib\\site-packages\\numpy\\core\\fromnumeric.py:3700: FutureWarning: Dropping of nuisance columns in DataFrame reductions (with 'numeric_only=None') is deprecated; in a future version this will raise TypeError.  Select only valid columns before calling the reduction.\n",
      "  return var(axis=axis, dtype=dtype, out=out, ddof=ddof, **kwargs)\n",
      "c:\\Users\\Golden Snow\\anaconda3\\lib\\site-packages\\numpy\\core\\fromnumeric.py:3558: FutureWarning: Dropping of nuisance columns in DataFrame reductions (with 'numeric_only=None') is deprecated; in a future version this will raise TypeError.  Select only valid columns before calling the reduction.\n",
      "  return std(axis=axis, dtype=dtype, out=out, ddof=ddof, **kwargs)\n"
     ]
    }
   ],
   "source": [
    "# Measures of Central Tendency\n",
    "mean = np.mean(df2)\n",
    "mode = scipy.stats.mode(df2)\n",
    "\n",
    "# Measures of Dispersion\n",
    "variance = np.var(df2)\n",
    "std_dev = np.std(df2)\n",
    "\n",
    "print(\"Mean:\", mean)\n",
    "print(\"Mode:\", mode.mode[0], \"Count:\", mode.count[0])   \n",
    "print(\"Variance:\", variance)  \n",
    "print(\"Standard Deviation:\", std_dev)   "
   ]
  },
  {
   "cell_type": "markdown",
   "metadata": {},
   "source": [
    "###### Assess Linear Relationships"
   ]
  },
  {
   "cell_type": "code",
   "execution_count": 28,
   "metadata": {},
   "outputs": [
    {
     "data": {
      "text/plain": [
       "score           1.000000\n",
       "votes           0.391174\n",
       "runtime         0.385150\n",
       "gross           0.204789\n",
       "release_year    0.083753\n",
       "budget          0.030996\n",
       "Name: score, dtype: float64"
      ]
     },
     "execution_count": 28,
     "metadata": {},
     "output_type": "execute_result"
    }
   ],
   "source": [
    "df.corr()['score'].sort_values(ascending=False)"
   ]
  },
  {
   "cell_type": "code",
   "execution_count": 29,
   "metadata": {},
   "outputs": [
    {
     "data": {
      "text/plain": [
       "<AxesSubplot:>"
      ]
     },
     "execution_count": 29,
     "metadata": {},
     "output_type": "execute_result"
    },
    {
     "data": {
      "image/png": "[encoded data removed]",
      "text/plain": [
       "<Figure size 432x288 with 2 Axes>"
      ]
     },
     "metadata": {
      "needs_background": "light"
     },
     "output_type": "display_data"
    }
   ],
   "source": [
    "corr = df.corr().abs()\n",
    "sns.heatmap(corr, cmap='Reds', annot=True)"
   ]
  },
  {
   "cell_type": "markdown",
   "metadata": {},
   "source": [
    "### 4. Feature Engineering"
   ]
  },
  {
   "cell_type": "code",
   "execution_count": 30,
   "metadata": {},
   "outputs": [
    {
     "data": {
      "text/html": [
       "<div>\n",
       "<style scoped>\n",
       "    .dataframe tbody tr th:only-of-type {\n",
       "        vertical-align: middle;\n",
       "    }\n",
       "\n",
       "    .dataframe tbody tr th {\n",
       "        vertical-align: top;\n",
       "    }\n",
       "\n",
       "    .dataframe thead th {\n",
       "        text-align: right;\n",
       "    }\n",
       "</style>\n",
       "<table border=\"1\" class=\"dataframe\">\n",
       "  <thead>\n",
       "    <tr style=\"text-align: right;\">\n",
       "      <th></th>\n",
       "      <th>movie_name</th>\n",
       "      <th>rating_target_audience</th>\n",
       "      <th>genre</th>\n",
       "      <th>release_year</th>\n",
       "      <th>release_date</th>\n",
       "      <th>score</th>\n",
       "      <th>votes</th>\n",
       "      <th>director</th>\n",
       "      <th>writer</th>\n",
       "      <th>star</th>\n",
       "      <th>country</th>\n",
       "      <th>budget</th>\n",
       "      <th>gross</th>\n",
       "      <th>company</th>\n",
       "      <th>runtime</th>\n",
       "    </tr>\n",
       "  </thead>\n",
       "  <tbody>\n",
       "    <tr>\n",
       "      <th>0</th>\n",
       "      <td>The Shining</td>\n",
       "      <td>R</td>\n",
       "      <td>Drama</td>\n",
       "      <td>1980</td>\n",
       "      <td>June 13</td>\n",
       "      <td>8.4</td>\n",
       "      <td>927000.0</td>\n",
       "      <td>Stanley Kubrick</td>\n",
       "      <td>Stephen King</td>\n",
       "      <td>Jack Nicholson</td>\n",
       "      <td>United Kingdom</td>\n",
       "      <td>19000000.0</td>\n",
       "      <td>46998772.0</td>\n",
       "      <td>Warner Bros.</td>\n",
       "      <td>146.0</td>\n",
       "    </tr>\n",
       "    <tr>\n",
       "      <th>1</th>\n",
       "      <td>The Blue Lagoon</td>\n",
       "      <td>R</td>\n",
       "      <td>Adventure</td>\n",
       "      <td>1980</td>\n",
       "      <td>July 2</td>\n",
       "      <td>5.8</td>\n",
       "      <td>65000.0</td>\n",
       "      <td>Randal Kleiser</td>\n",
       "      <td>Henry De Vere Stacpoole</td>\n",
       "      <td>Brooke Shields</td>\n",
       "      <td>United States</td>\n",
       "      <td>4500000.0</td>\n",
       "      <td>58853106.0</td>\n",
       "      <td>Columbia Pictures</td>\n",
       "      <td>104.0</td>\n",
       "    </tr>\n",
       "    <tr>\n",
       "      <th>2</th>\n",
       "      <td>Star Wars: Episode V - The Empire Strikes Back</td>\n",
       "      <td>PG</td>\n",
       "      <td>Action</td>\n",
       "      <td>1980</td>\n",
       "      <td>June 20</td>\n",
       "      <td>8.7</td>\n",
       "      <td>1200000.0</td>\n",
       "      <td>Irvin Kershner</td>\n",
       "      <td>Leigh Brackett</td>\n",
       "      <td>Mark Hamill</td>\n",
       "      <td>United States</td>\n",
       "      <td>18000000.0</td>\n",
       "      <td>538375067.0</td>\n",
       "      <td>Lucasfilm</td>\n",
       "      <td>124.0</td>\n",
       "    </tr>\n",
       "    <tr>\n",
       "      <th>3</th>\n",
       "      <td>Airplane!</td>\n",
       "      <td>PG</td>\n",
       "      <td>Comedy</td>\n",
       "      <td>1980</td>\n",
       "      <td>July 2</td>\n",
       "      <td>7.7</td>\n",
       "      <td>221000.0</td>\n",
       "      <td>Jim Abrahams</td>\n",
       "      <td>Jim Abrahams</td>\n",
       "      <td>Robert Hays</td>\n",
       "      <td>United States</td>\n",
       "      <td>3500000.0</td>\n",
       "      <td>83453539.0</td>\n",
       "      <td>Paramount Pictures</td>\n",
       "      <td>88.0</td>\n",
       "    </tr>\n",
       "    <tr>\n",
       "      <th>4</th>\n",
       "      <td>Caddyshack</td>\n",
       "      <td>R</td>\n",
       "      <td>Comedy</td>\n",
       "      <td>1980</td>\n",
       "      <td>July 25</td>\n",
       "      <td>7.3</td>\n",
       "      <td>108000.0</td>\n",
       "      <td>Harold Ramis</td>\n",
       "      <td>Brian Doyle-Murray</td>\n",
       "      <td>Chevy Chase</td>\n",
       "      <td>United States</td>\n",
       "      <td>6000000.0</td>\n",
       "      <td>39846344.0</td>\n",
       "      <td>Orion Pictures</td>\n",
       "      <td>98.0</td>\n",
       "    </tr>\n",
       "  </tbody>\n",
       "</table>\n",
       "</div>"
      ],
      "text/plain": [
       "                                       movie_name rating_target_audience  \\\n",
       "0                                     The Shining                      R   \n",
       "1                                 The Blue Lagoon                      R   \n",
       "2  Star Wars: Episode V - The Empire Strikes Back                     PG   \n",
       "3                                       Airplane!                     PG   \n",
       "4                                      Caddyshack                      R   \n",
       "\n",
       "       genre  release_year release_date  score      votes         director  \\\n",
       "0      Drama          1980      June 13    8.4   927000.0  Stanley Kubrick   \n",
       "1  Adventure          1980       July 2    5.8    65000.0   Randal Kleiser   \n",
       "2     Action          1980      June 20    8.7  1200000.0   Irvin Kershner   \n",
       "3     Comedy          1980       July 2    7.7   221000.0     Jim Abrahams   \n",
       "4     Comedy          1980      July 25    7.3   108000.0     Harold Ramis   \n",
       "\n",
       "                    writer            star         country      budget  \\\n",
       "0             Stephen King  Jack Nicholson  United Kingdom  19000000.0   \n",
       "1  Henry De Vere Stacpoole  Brooke Shields   United States   4500000.0   \n",
       "2           Leigh Brackett     Mark Hamill   United States  18000000.0   \n",
       "3             Jim Abrahams     Robert Hays   United States   3500000.0   \n",
       "4       Brian Doyle-Murray     Chevy Chase   United States   6000000.0   \n",
       "\n",
       "         gross             company  runtime  \n",
       "0   46998772.0        Warner Bros.    146.0  \n",
       "1   58853106.0   Columbia Pictures    104.0  \n",
       "2  538375067.0           Lucasfilm    124.0  \n",
       "3   83453539.0  Paramount Pictures     88.0  \n",
       "4   39846344.0      Orion Pictures     98.0  "
      ]
     },
     "execution_count": 30,
     "metadata": {},
     "output_type": "execute_result"
    }
   ],
   "source": [
    "df2.head()"
   ]
  },
  {
   "cell_type": "code",
   "execution_count": 31,
   "metadata": {},
   "outputs": [
    {
     "data": {
      "text/plain": [
       "movie_name                3971\n",
       "rating_target_audience      12\n",
       "genre                       17\n",
       "release_year                22\n",
       "release_date               407\n",
       "score                       66\n",
       "votes                      637\n",
       "director                  1664\n",
       "writer                    2660\n",
       "star                      1627\n",
       "country                     45\n",
       "budget                     267\n",
       "gross                     3781\n",
       "company                   1281\n",
       "runtime                    132\n",
       "dtype: int64"
      ]
     },
     "execution_count": 31,
     "metadata": {},
     "output_type": "execute_result"
    }
   ],
   "source": [
    "df2.nunique()"
   ]
  },
  {
   "cell_type": "code",
   "execution_count": 32,
   "metadata": {},
   "outputs": [
    {
     "data": {
      "text/plain": [
       "array(['United Kingdom', 'United States', 'South Africa', 'West Germany',\n",
       "       'Canada', 'Australia', 'Libya', 'Italy', 'Soviet Union', 'other',\n",
       "       'France', 'Hong Kong', 'South Korea', 'Sweden', 'Spain', 'Mexico',\n",
       "       'Switzerland', 'Netherlands', 'New Zealand', 'Philippines',\n",
       "       'Israel', 'Japan', 'Hungary', 'Brazil', 'Yugoslavia', 'Argentina',\n",
       "       'Ireland', 'Denmark', 'Germany', 'Iran', 'China', 'Belgium',\n",
       "       'Taiwan', 'Austria', 'Portugal', 'Vietnam',\n",
       "       'Republic of Macedonia', 'Russia',\n",
       "       'Federal Republic of Yugoslavia', 'Greece', 'Czech Republic',\n",
       "       'Norway', 'India', 'Jamaica', 'Aruba'], dtype=object)"
      ]
     },
     "execution_count": 32,
     "metadata": {},
     "output_type": "execute_result"
    }
   ],
   "source": [
    "df2['country'].unique()"
   ]
  },
  {
   "cell_type": "code",
   "execution_count": 39,
   "metadata": {},
   "outputs": [
    {
     "data": {
      "text/plain": [
       "45"
      ]
     },
     "execution_count": 39,
     "metadata": {},
     "output_type": "execute_result"
    }
   ],
   "source": [
    "df['country'].nunique()"
   ]
  },
  {
   "cell_type": "markdown",
   "metadata": {},
   "source": [
    "##### Categorize them based on their continents\n",
    "Europe:\n",
    "United Kingdom,\n",
    "West Germany,\n",
    "Italy,\n",
    "Soviet Union,\n",
    "France,\n",
    "Sweden,\n",
    "Spain,\n",
    "Switzerland,\n",
    "Netherlands,\n",
    "Hungary,\n",
    "Yugoslavia,\n",
    "Ireland,\n",
    "Denmark,\n",
    "Germany,\n",
    "Belgium,\n",
    "Austria,\n",
    "Portugal,\n",
    "Republic of Macedonia,\n",
    "Russia,\n",
    "Federal Republic of Yugoslavia,\n",
    "Greece,\n",
    "Czech Republic,\n",
    "Norway\n",
    "\n",
    "North America: United States, Canada,\n",
    "Jamaica,\n",
    "Aruba\n",
    "\n",
    "Oceania:\n",
    "Australia,\n",
    "New Zealand\n",
    "\n",
    "Africa:\n",
    "South Africa,\n",
    "Libya\n",
    "\n",
    "Asia:\n",
    "Hong Kong,\n",
    "South Korea,\n",
    "Philippines,\n",
    "Israel,\n",
    "Japan,\n",
    "Iran,\n",
    "China,\n",
    "Taiwan,\n",
    "Vietnam,\n",
    "India\n",
    "\n",
    "South America:\n",
    "Brazil,\n",
    "Argentina\n",
    "\n",
    "Other: \n",
    "other"
   ]
  },
  {
   "cell_type": "code",
   "execution_count": 50,
   "metadata": {},
   "outputs": [],
   "source": [
    "Europe = ['United Kingdom', 'West Germany', 'Italy', 'Soviet Union', 'France', 'Sweden', 'Spain', 'Switzerland', 'Netherlands', 'Hungary', 'Yugoslavia', 'Ireland', 'Denmark', 'Germany', 'Belgium', 'Austria', 'Portugal', 'Republic of Macedonia', 'Russia', 'Federal Republic of Yugoslavia', 'Greece', 'Czech Republic', 'Norway']\n",
    "North_America = ['United States', 'Canada', 'Mexico', 'Jamaica', 'Aruba']\n",
    "Africa = ['South Africa', 'Libya']\n",
    "Oceania =['Australia', 'New Zealand']\n",
    "Asia = ['Hong Kong', 'South Korea', 'Philippines', 'Israel', 'Japan', 'Iran', 'China', 'Taiwan', 'Vietnam', 'India']\n",
    "South_America =['Brazil', 'Argentina']\n",
    "Other = ['other']"
   ]
  },
  {
   "cell_type": "code",
   "execution_count": 51,
   "metadata": {},
   "outputs": [],
   "source": [
    "# Create function to classify country\n",
    "def continents(country):\n",
    "    if country in Europe:\n",
    "        return 'Europe'\n",
    "    elif country in North_America:\n",
    "        return 'North_America'\n",
    "    elif country in Africa:\n",
    "        return 'Africa'\n",
    "    elif country in Oceania:\n",
    "        return 'Oceania'\n",
    "    elif country in Asia:\n",
    "        return 'Asia'\n",
    "    elif country in South_America:\n",
    "        return 'South_America'\n",
    "    else:\n",
    "        return 'Other'"
   ]
  },
  {
   "cell_type": "code",
   "execution_count": 52,
   "metadata": {},
   "outputs": [],
   "source": [
    "df2['continent'] = df2['country'].apply(continents)"
   ]
  },
  {
   "cell_type": "code",
   "execution_count": 53,
   "metadata": {},
   "outputs": [
    {
     "data": {
      "text/html": [
       "<div>\n",
       "<style scoped>\n",
       "    .dataframe tbody tr th:only-of-type {\n",
       "        vertical-align: middle;\n",
       "    }\n",
       "\n",
       "    .dataframe tbody tr th {\n",
       "        vertical-align: top;\n",
       "    }\n",
       "\n",
       "    .dataframe thead th {\n",
       "        text-align: right;\n",
       "    }\n",
       "</style>\n",
       "<table border=\"1\" class=\"dataframe\">\n",
       "  <thead>\n",
       "    <tr style=\"text-align: right;\">\n",
       "      <th></th>\n",
       "      <th>movie_name</th>\n",
       "      <th>rating_target_audience</th>\n",
       "      <th>genre</th>\n",
       "      <th>release_year</th>\n",
       "      <th>release_date</th>\n",
       "      <th>score</th>\n",
       "      <th>votes</th>\n",
       "      <th>director</th>\n",
       "      <th>writer</th>\n",
       "      <th>star</th>\n",
       "      <th>country</th>\n",
       "      <th>budget</th>\n",
       "      <th>gross</th>\n",
       "      <th>company</th>\n",
       "      <th>runtime</th>\n",
       "      <th>continent</th>\n",
       "    </tr>\n",
       "  </thead>\n",
       "  <tbody>\n",
       "    <tr>\n",
       "      <th>0</th>\n",
       "      <td>The Shining</td>\n",
       "      <td>R</td>\n",
       "      <td>Drama</td>\n",
       "      <td>1980</td>\n",
       "      <td>June 13</td>\n",
       "      <td>8.4</td>\n",
       "      <td>927000.0</td>\n",
       "      <td>Stanley Kubrick</td>\n",
       "      <td>Stephen King</td>\n",
       "      <td>Jack Nicholson</td>\n",
       "      <td>United Kingdom</td>\n",
       "      <td>19000000.0</td>\n",
       "      <td>46998772.0</td>\n",
       "      <td>Warner Bros.</td>\n",
       "      <td>146.0</td>\n",
       "      <td>Europe</td>\n",
       "    </tr>\n",
       "    <tr>\n",
       "      <th>1</th>\n",
       "      <td>The Blue Lagoon</td>\n",
       "      <td>R</td>\n",
       "      <td>Adventure</td>\n",
       "      <td>1980</td>\n",
       "      <td>July 2</td>\n",
       "      <td>5.8</td>\n",
       "      <td>65000.0</td>\n",
       "      <td>Randal Kleiser</td>\n",
       "      <td>Henry De Vere Stacpoole</td>\n",
       "      <td>Brooke Shields</td>\n",
       "      <td>United States</td>\n",
       "      <td>4500000.0</td>\n",
       "      <td>58853106.0</td>\n",
       "      <td>Columbia Pictures</td>\n",
       "      <td>104.0</td>\n",
       "      <td>North_America</td>\n",
       "    </tr>\n",
       "    <tr>\n",
       "      <th>2</th>\n",
       "      <td>Star Wars: Episode V - The Empire Strikes Back</td>\n",
       "      <td>PG</td>\n",
       "      <td>Action</td>\n",
       "      <td>1980</td>\n",
       "      <td>June 20</td>\n",
       "      <td>8.7</td>\n",
       "      <td>1200000.0</td>\n",
       "      <td>Irvin Kershner</td>\n",
       "      <td>Leigh Brackett</td>\n",
       "      <td>Mark Hamill</td>\n",
       "      <td>United States</td>\n",
       "      <td>18000000.0</td>\n",
       "      <td>538375067.0</td>\n",
       "      <td>Lucasfilm</td>\n",
       "      <td>124.0</td>\n",
       "      <td>North_America</td>\n",
       "    </tr>\n",
       "    <tr>\n",
       "      <th>3</th>\n",
       "      <td>Airplane!</td>\n",
       "      <td>PG</td>\n",
       "      <td>Comedy</td>\n",
       "      <td>1980</td>\n",
       "      <td>July 2</td>\n",
       "      <td>7.7</td>\n",
       "      <td>221000.0</td>\n",
       "      <td>Jim Abrahams</td>\n",
       "      <td>Jim Abrahams</td>\n",
       "      <td>Robert Hays</td>\n",
       "      <td>United States</td>\n",
       "      <td>3500000.0</td>\n",
       "      <td>83453539.0</td>\n",
       "      <td>Paramount Pictures</td>\n",
       "      <td>88.0</td>\n",
       "      <td>North_America</td>\n",
       "    </tr>\n",
       "    <tr>\n",
       "      <th>4</th>\n",
       "      <td>Caddyshack</td>\n",
       "      <td>R</td>\n",
       "      <td>Comedy</td>\n",
       "      <td>1980</td>\n",
       "      <td>July 25</td>\n",
       "      <td>7.3</td>\n",
       "      <td>108000.0</td>\n",
       "      <td>Harold Ramis</td>\n",
       "      <td>Brian Doyle-Murray</td>\n",
       "      <td>Chevy Chase</td>\n",
       "      <td>United States</td>\n",
       "      <td>6000000.0</td>\n",
       "      <td>39846344.0</td>\n",
       "      <td>Orion Pictures</td>\n",
       "      <td>98.0</td>\n",
       "      <td>North_America</td>\n",
       "    </tr>\n",
       "    <tr>\n",
       "      <th>...</th>\n",
       "      <td>...</td>\n",
       "      <td>...</td>\n",
       "      <td>...</td>\n",
       "      <td>...</td>\n",
       "      <td>...</td>\n",
       "      <td>...</td>\n",
       "      <td>...</td>\n",
       "      <td>...</td>\n",
       "      <td>...</td>\n",
       "      <td>...</td>\n",
       "      <td>...</td>\n",
       "      <td>...</td>\n",
       "      <td>...</td>\n",
       "      <td>...</td>\n",
       "      <td>...</td>\n",
       "      <td>...</td>\n",
       "    </tr>\n",
       "    <tr>\n",
       "      <th>3995</th>\n",
       "      <td>Birthday Girl</td>\n",
       "      <td>R</td>\n",
       "      <td>Comedy</td>\n",
       "      <td>2001</td>\n",
       "      <td>February 1</td>\n",
       "      <td>6.1</td>\n",
       "      <td>25000.0</td>\n",
       "      <td>Jez Butterworth</td>\n",
       "      <td>Tom Butterworth</td>\n",
       "      <td>Nicole Kidman</td>\n",
       "      <td>United Kingdom</td>\n",
       "      <td>13000000.0</td>\n",
       "      <td>16171098.0</td>\n",
       "      <td>FilmFour</td>\n",
       "      <td>93.0</td>\n",
       "      <td>Europe</td>\n",
       "    </tr>\n",
       "    <tr>\n",
       "      <th>3996</th>\n",
       "      <td>Human Nature</td>\n",
       "      <td>R</td>\n",
       "      <td>Comedy</td>\n",
       "      <td>2001</td>\n",
       "      <td>September 12</td>\n",
       "      <td>6.4</td>\n",
       "      <td>18000.0</td>\n",
       "      <td>Michel Gondry</td>\n",
       "      <td>Charlie Kaufman</td>\n",
       "      <td>Tim Robbins</td>\n",
       "      <td>France</td>\n",
       "      <td>0.0</td>\n",
       "      <td>1574660.0</td>\n",
       "      <td>Fine Line Features</td>\n",
       "      <td>96.0</td>\n",
       "      <td>Europe</td>\n",
       "    </tr>\n",
       "    <tr>\n",
       "      <th>3997</th>\n",
       "      <td>Made</td>\n",
       "      <td>R</td>\n",
       "      <td>Comedy</td>\n",
       "      <td>2001</td>\n",
       "      <td>August 31</td>\n",
       "      <td>6.4</td>\n",
       "      <td>18000.0</td>\n",
       "      <td>Jon Favreau</td>\n",
       "      <td>Jon Favreau</td>\n",
       "      <td>Vince Vaughn</td>\n",
       "      <td>United States</td>\n",
       "      <td>5000000.0</td>\n",
       "      <td>5480653.0</td>\n",
       "      <td>Artisan Entertainment</td>\n",
       "      <td>95.0</td>\n",
       "      <td>North_America</td>\n",
       "    </tr>\n",
       "    <tr>\n",
       "      <th>3998</th>\n",
       "      <td>One Night at McCool's</td>\n",
       "      <td>R</td>\n",
       "      <td>Comedy</td>\n",
       "      <td>2001</td>\n",
       "      <td>April 27</td>\n",
       "      <td>6.1</td>\n",
       "      <td>29000.0</td>\n",
       "      <td>Harald Zwart</td>\n",
       "      <td>Stan Seidel</td>\n",
       "      <td>Liv Tyler</td>\n",
       "      <td>United States</td>\n",
       "      <td>18000000.0</td>\n",
       "      <td>13578186.0</td>\n",
       "      <td>October Films</td>\n",
       "      <td>93.0</td>\n",
       "      <td>North_America</td>\n",
       "    </tr>\n",
       "    <tr>\n",
       "      <th>3999</th>\n",
       "      <td>Dr. Dolittle 2</td>\n",
       "      <td>PG</td>\n",
       "      <td>Comedy</td>\n",
       "      <td>2001</td>\n",
       "      <td>June 22</td>\n",
       "      <td>4.7</td>\n",
       "      <td>42000.0</td>\n",
       "      <td>Steve Carr</td>\n",
       "      <td>Hugh Lofting</td>\n",
       "      <td>Eddie Murphy</td>\n",
       "      <td>United States</td>\n",
       "      <td>70000000.0</td>\n",
       "      <td>176104344.0</td>\n",
       "      <td>Twentieth Century Fox</td>\n",
       "      <td>87.0</td>\n",
       "      <td>North_America</td>\n",
       "    </tr>\n",
       "  </tbody>\n",
       "</table>\n",
       "<p>4000 rows × 16 columns</p>\n",
       "</div>"
      ],
      "text/plain": [
       "                                          movie_name rating_target_audience  \\\n",
       "0                                        The Shining                      R   \n",
       "1                                    The Blue Lagoon                      R   \n",
       "2     Star Wars: Episode V - The Empire Strikes Back                     PG   \n",
       "3                                          Airplane!                     PG   \n",
       "4                                         Caddyshack                      R   \n",
       "...                                              ...                    ...   \n",
       "3995                                   Birthday Girl                      R   \n",
       "3996                                    Human Nature                      R   \n",
       "3997                                            Made                      R   \n",
       "3998                           One Night at McCool's                      R   \n",
       "3999                                  Dr. Dolittle 2                     PG   \n",
       "\n",
       "          genre  release_year  release_date  score      votes  \\\n",
       "0         Drama          1980       June 13    8.4   927000.0   \n",
       "1     Adventure          1980        July 2    5.8    65000.0   \n",
       "2        Action          1980       June 20    8.7  1200000.0   \n",
       "3        Comedy          1980        July 2    7.7   221000.0   \n",
       "4        Comedy          1980       July 25    7.3   108000.0   \n",
       "...         ...           ...           ...    ...        ...   \n",
       "3995     Comedy          2001    February 1    6.1    25000.0   \n",
       "3996     Comedy          2001  September 12    6.4    18000.0   \n",
       "3997     Comedy          2001     August 31    6.4    18000.0   \n",
       "3998     Comedy          2001      April 27    6.1    29000.0   \n",
       "3999     Comedy          2001       June 22    4.7    42000.0   \n",
       "\n",
       "             director                   writer            star  \\\n",
       "0     Stanley Kubrick             Stephen King  Jack Nicholson   \n",
       "1      Randal Kleiser  Henry De Vere Stacpoole  Brooke Shields   \n",
       "2      Irvin Kershner           Leigh Brackett     Mark Hamill   \n",
       "3        Jim Abrahams             Jim Abrahams     Robert Hays   \n",
       "4        Harold Ramis       Brian Doyle-Murray     Chevy Chase   \n",
       "...               ...                      ...             ...   \n",
       "3995  Jez Butterworth          Tom Butterworth   Nicole Kidman   \n",
       "3996    Michel Gondry          Charlie Kaufman     Tim Robbins   \n",
       "3997      Jon Favreau              Jon Favreau    Vince Vaughn   \n",
       "3998     Harald Zwart              Stan Seidel       Liv Tyler   \n",
       "3999       Steve Carr             Hugh Lofting    Eddie Murphy   \n",
       "\n",
       "             country      budget        gross                company  runtime  \\\n",
       "0     United Kingdom  19000000.0   46998772.0           Warner Bros.    146.0   \n",
       "1      United States   4500000.0   58853106.0      Columbia Pictures    104.0   \n",
       "2      United States  18000000.0  538375067.0              Lucasfilm    124.0   \n",
       "3      United States   3500000.0   83453539.0     Paramount Pictures     88.0   \n",
       "4      United States   6000000.0   39846344.0         Orion Pictures     98.0   \n",
       "...              ...         ...          ...                    ...      ...   \n",
       "3995  United Kingdom  13000000.0   16171098.0               FilmFour     93.0   \n",
       "3996          France         0.0    1574660.0     Fine Line Features     96.0   \n",
       "3997   United States   5000000.0    5480653.0  Artisan Entertainment     95.0   \n",
       "3998   United States  18000000.0   13578186.0          October Films     93.0   \n",
       "3999   United States  70000000.0  176104344.0  Twentieth Century Fox     87.0   \n",
       "\n",
       "          continent  \n",
       "0            Europe  \n",
       "1     North_America  \n",
       "2     North_America  \n",
       "3     North_America  \n",
       "4     North_America  \n",
       "...             ...  \n",
       "3995         Europe  \n",
       "3996         Europe  \n",
       "3997  North_America  \n",
       "3998  North_America  \n",
       "3999  North_America  \n",
       "\n",
       "[4000 rows x 16 columns]"
      ]
     },
     "execution_count": 53,
     "metadata": {},
     "output_type": "execute_result"
    }
   ],
   "source": [
    "df2"
   ]
  }
 ],
 "metadata": {
  "kernelspec": {
   "display_name": "base",
   "language": "python",
   "name": "python3"
  },
  "language_info": {
   "codemirror_mode": {
    "name": "ipython",
    "version": 3
   },
   "file_extension": ".py",
   "mimetype": "text/x-python",
   "name": "python",
   "nbconvert_exporter": "python",
   "pygments_lexer": "ipython3",
   "version": "3.9.7"
  },
  "orig_nbformat": 4
 },
 "nbformat": 4,
 "nbformat_minor": 2
}
