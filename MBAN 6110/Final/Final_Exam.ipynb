{
 "cells": [
  {
   "cell_type": "markdown",
   "metadata": {},
   "source": [
    "### 1. Dataset"
   ]
  },
  {
   "cell_type": "markdown",
   "metadata": {},
   "source": [
    "##### 1.1 Import Libraries"
   ]
  },
  {
   "cell_type": "code",
   "execution_count": 405,
   "metadata": {},
   "outputs": [
    {
     "name": "stdout",
     "output_type": "stream",
     "text": [
      "Requirement already satisfied: pandas in c:\\users\\golden snow\\anaconda3\\lib\\site-packages (2.0.3)\n",
      "Requirement already satisfied: numpy>=1.20.3 in c:\\users\\golden snow\\anaconda3\\lib\\site-packages (from pandas) (1.20.3)\n",
      "Requirement already satisfied: tzdata>=2022.1 in c:\\users\\golden snow\\anaconda3\\lib\\site-packages (from pandas) (2023.3)\n",
      "Requirement already satisfied: pytz>=2020.1 in c:\\users\\golden snow\\anaconda3\\lib\\site-packages (from pandas) (2021.3)\n",
      "Requirement already satisfied: python-dateutil>=2.8.2 in c:\\users\\golden snow\\anaconda3\\lib\\site-packages (from pandas) (2.8.2)\n",
      "Requirement already satisfied: six>=1.5 in c:\\users\\golden snow\\anaconda3\\lib\\site-packages (from python-dateutil>=2.8.2->pandas) (1.16.0)\n",
      "Note: you may need to restart the kernel to use updated packages.\n"
     ]
    }
   ],
   "source": [
    "pip install --upgrade pandas"
   ]
  },
  {
   "cell_type": "code",
   "execution_count": 406,
   "metadata": {},
   "outputs": [],
   "source": [
    "# Import libraries\n",
    "import pandas as pd\n",
    "import numpy as np\n",
    "import matplotlib.pyplot as plt\n",
    "import seaborn as sns\n",
    "\n",
    "# Import feature engineering libraries\n",
    "from sklearn.model_selection import train_test_split, cross_val_score, GridSearchCV, RandomizedSearchCV\n",
    "from sklearn.preprocessing import StandardScaler, OneHotEncoder\n",
    "from sklearn.compose import ColumnTransformer\n",
    "\n",
    "# Import performance metrics libraries\n",
    "from sklearn.metrics import accuracy_score, recall_score, precision_score, f1_score, confusion_matrix, roc_curve\n",
    "\n",
    "# Import classification libraries\n",
    "from sklearn.linear_model import LogisticRegression\n",
    "from sklearn.naive_bayes import GaussianNB\n",
    "from sklearn.neighbors import KNeighborsClassifier\n",
    "from sklearn.ensemble import RandomForestClassifier"
   ]
  },
  {
   "cell_type": "markdown",
   "metadata": {},
   "source": [
    "##### 1.2 Load Dataset"
   ]
  },
  {
   "cell_type": "code",
   "execution_count": 407,
   "metadata": {},
   "outputs": [
    {
     "data": {
      "text/html": [
       "<div>\n",
       "<style scoped>\n",
       "    .dataframe tbody tr th:only-of-type {\n",
       "        vertical-align: middle;\n",
       "    }\n",
       "\n",
       "    .dataframe tbody tr th {\n",
       "        vertical-align: top;\n",
       "    }\n",
       "\n",
       "    .dataframe thead th {\n",
       "        text-align: right;\n",
       "    }\n",
       "</style>\n",
       "<table border=\"1\" class=\"dataframe\">\n",
       "  <thead>\n",
       "    <tr style=\"text-align: right;\">\n",
       "      <th></th>\n",
       "      <th>Unnamed: 0</th>\n",
       "      <th>visitor_id</th>\n",
       "      <th>visitor_location</th>\n",
       "      <th>marketing_channel</th>\n",
       "      <th>gender</th>\n",
       "      <th>product_views_Mon</th>\n",
       "      <th>product_views_Tue</th>\n",
       "      <th>product_views_Wed</th>\n",
       "      <th>product_views_Thu</th>\n",
       "      <th>product_views_Fri</th>\n",
       "      <th>...</th>\n",
       "      <th>time_on_site_Tue</th>\n",
       "      <th>time_on_site_Wed</th>\n",
       "      <th>time_on_site_Thu</th>\n",
       "      <th>time_on_site_Fri</th>\n",
       "      <th>pages_visited_Mon</th>\n",
       "      <th>pages_visited_Tue</th>\n",
       "      <th>pages_visited_Wed</th>\n",
       "      <th>pages_visited_Thu</th>\n",
       "      <th>pages_visited_Fri</th>\n",
       "      <th>converted_Fri</th>\n",
       "    </tr>\n",
       "  </thead>\n",
       "  <tbody>\n",
       "    <tr>\n",
       "      <th>0</th>\n",
       "      <td>0</td>\n",
       "      <td>1</td>\n",
       "      <td>North America</td>\n",
       "      <td>youtube</td>\n",
       "      <td>M</td>\n",
       "      <td>4</td>\n",
       "      <td>5</td>\n",
       "      <td>2</td>\n",
       "      <td>1</td>\n",
       "      <td>2</td>\n",
       "      <td>...</td>\n",
       "      <td>33</td>\n",
       "      <td>23</td>\n",
       "      <td>46</td>\n",
       "      <td>57</td>\n",
       "      <td>4</td>\n",
       "      <td>5</td>\n",
       "      <td>5</td>\n",
       "      <td>4</td>\n",
       "      <td>6</td>\n",
       "      <td>1</td>\n",
       "    </tr>\n",
       "    <tr>\n",
       "      <th>1</th>\n",
       "      <td>1</td>\n",
       "      <td>2</td>\n",
       "      <td>South America</td>\n",
       "      <td>organic</td>\n",
       "      <td>F</td>\n",
       "      <td>2</td>\n",
       "      <td>5</td>\n",
       "      <td>0</td>\n",
       "      <td>1</td>\n",
       "      <td>5</td>\n",
       "      <td>...</td>\n",
       "      <td>28</td>\n",
       "      <td>39</td>\n",
       "      <td>24</td>\n",
       "      <td>51</td>\n",
       "      <td>5</td>\n",
       "      <td>6</td>\n",
       "      <td>7</td>\n",
       "      <td>6</td>\n",
       "      <td>2</td>\n",
       "      <td>0</td>\n",
       "    </tr>\n",
       "    <tr>\n",
       "      <th>2</th>\n",
       "      <td>2</td>\n",
       "      <td>3</td>\n",
       "      <td>Australia</td>\n",
       "      <td>instagram</td>\n",
       "      <td>M</td>\n",
       "      <td>3</td>\n",
       "      <td>4</td>\n",
       "      <td>0</td>\n",
       "      <td>-3</td>\n",
       "      <td>5</td>\n",
       "      <td>...</td>\n",
       "      <td>34</td>\n",
       "      <td>22</td>\n",
       "      <td>34</td>\n",
       "      <td>31</td>\n",
       "      <td>1</td>\n",
       "      <td>3</td>\n",
       "      <td>3</td>\n",
       "      <td>2</td>\n",
       "      <td>3</td>\n",
       "      <td>1</td>\n",
       "    </tr>\n",
       "    <tr>\n",
       "      <th>3</th>\n",
       "      <td>3</td>\n",
       "      <td>4</td>\n",
       "      <td>North America</td>\n",
       "      <td>facebook</td>\n",
       "      <td>M</td>\n",
       "      <td>1</td>\n",
       "      <td>0</td>\n",
       "      <td>0</td>\n",
       "      <td>5</td>\n",
       "      <td>0</td>\n",
       "      <td>...</td>\n",
       "      <td>26</td>\n",
       "      <td>43</td>\n",
       "      <td>22</td>\n",
       "      <td>39</td>\n",
       "      <td>3</td>\n",
       "      <td>4</td>\n",
       "      <td>7</td>\n",
       "      <td>7</td>\n",
       "      <td>1</td>\n",
       "      <td>0</td>\n",
       "    </tr>\n",
       "    <tr>\n",
       "      <th>4</th>\n",
       "      <td>4</td>\n",
       "      <td>5</td>\n",
       "      <td>Asia</td>\n",
       "      <td>instagram</td>\n",
       "      <td>F</td>\n",
       "      <td>1</td>\n",
       "      <td>5</td>\n",
       "      <td>2</td>\n",
       "      <td>2</td>\n",
       "      <td>3</td>\n",
       "      <td>...</td>\n",
       "      <td>54</td>\n",
       "      <td>30</td>\n",
       "      <td>47</td>\n",
       "      <td>57</td>\n",
       "      <td>6</td>\n",
       "      <td>6</td>\n",
       "      <td>5</td>\n",
       "      <td>2</td>\n",
       "      <td>4</td>\n",
       "      <td>1</td>\n",
       "    </tr>\n",
       "    <tr>\n",
       "      <th>...</th>\n",
       "      <td>...</td>\n",
       "      <td>...</td>\n",
       "      <td>...</td>\n",
       "      <td>...</td>\n",
       "      <td>...</td>\n",
       "      <td>...</td>\n",
       "      <td>...</td>\n",
       "      <td>...</td>\n",
       "      <td>...</td>\n",
       "      <td>...</td>\n",
       "      <td>...</td>\n",
       "      <td>...</td>\n",
       "      <td>...</td>\n",
       "      <td>...</td>\n",
       "      <td>...</td>\n",
       "      <td>...</td>\n",
       "      <td>...</td>\n",
       "      <td>...</td>\n",
       "      <td>...</td>\n",
       "      <td>...</td>\n",
       "      <td>...</td>\n",
       "    </tr>\n",
       "    <tr>\n",
       "      <th>1995</th>\n",
       "      <td>1995</td>\n",
       "      <td>1996</td>\n",
       "      <td>Europe</td>\n",
       "      <td>organic</td>\n",
       "      <td>F</td>\n",
       "      <td>3</td>\n",
       "      <td>0</td>\n",
       "      <td>0</td>\n",
       "      <td>4</td>\n",
       "      <td>2</td>\n",
       "      <td>...</td>\n",
       "      <td>22</td>\n",
       "      <td>51</td>\n",
       "      <td>44</td>\n",
       "      <td>29</td>\n",
       "      <td>5</td>\n",
       "      <td>1</td>\n",
       "      <td>5</td>\n",
       "      <td>7</td>\n",
       "      <td>7</td>\n",
       "      <td>0</td>\n",
       "    </tr>\n",
       "    <tr>\n",
       "      <th>1996</th>\n",
       "      <td>1996</td>\n",
       "      <td>1997</td>\n",
       "      <td>South America</td>\n",
       "      <td>google</td>\n",
       "      <td>M</td>\n",
       "      <td>1</td>\n",
       "      <td>2</td>\n",
       "      <td>0</td>\n",
       "      <td>4</td>\n",
       "      <td>1</td>\n",
       "      <td>...</td>\n",
       "      <td>54</td>\n",
       "      <td>33</td>\n",
       "      <td>59</td>\n",
       "      <td>38</td>\n",
       "      <td>1</td>\n",
       "      <td>6</td>\n",
       "      <td>6</td>\n",
       "      <td>7</td>\n",
       "      <td>6</td>\n",
       "      <td>0</td>\n",
       "    </tr>\n",
       "    <tr>\n",
       "      <th>1997</th>\n",
       "      <td>1997</td>\n",
       "      <td>1998</td>\n",
       "      <td>Asia</td>\n",
       "      <td>facebook</td>\n",
       "      <td>M</td>\n",
       "      <td>2</td>\n",
       "      <td>3</td>\n",
       "      <td>0</td>\n",
       "      <td>0</td>\n",
       "      <td>8</td>\n",
       "      <td>...</td>\n",
       "      <td>32</td>\n",
       "      <td>30</td>\n",
       "      <td>48</td>\n",
       "      <td>38</td>\n",
       "      <td>2</td>\n",
       "      <td>1</td>\n",
       "      <td>7</td>\n",
       "      <td>6</td>\n",
       "      <td>4</td>\n",
       "      <td>0</td>\n",
       "    </tr>\n",
       "    <tr>\n",
       "      <th>1998</th>\n",
       "      <td>1998</td>\n",
       "      <td>1999</td>\n",
       "      <td>South America</td>\n",
       "      <td>youtube</td>\n",
       "      <td>F</td>\n",
       "      <td>2</td>\n",
       "      <td>2</td>\n",
       "      <td>2</td>\n",
       "      <td>5</td>\n",
       "      <td>5</td>\n",
       "      <td>...</td>\n",
       "      <td>21</td>\n",
       "      <td>51</td>\n",
       "      <td>41</td>\n",
       "      <td>56</td>\n",
       "      <td>6</td>\n",
       "      <td>4</td>\n",
       "      <td>2</td>\n",
       "      <td>2</td>\n",
       "      <td>3</td>\n",
       "      <td>1</td>\n",
       "    </tr>\n",
       "    <tr>\n",
       "      <th>1999</th>\n",
       "      <td>1999</td>\n",
       "      <td>2000</td>\n",
       "      <td>North America</td>\n",
       "      <td>instagram</td>\n",
       "      <td>F</td>\n",
       "      <td>2</td>\n",
       "      <td>1</td>\n",
       "      <td>1</td>\n",
       "      <td>5</td>\n",
       "      <td>1</td>\n",
       "      <td>...</td>\n",
       "      <td>21</td>\n",
       "      <td>45</td>\n",
       "      <td>59</td>\n",
       "      <td>21</td>\n",
       "      <td>4</td>\n",
       "      <td>5</td>\n",
       "      <td>7</td>\n",
       "      <td>3</td>\n",
       "      <td>1</td>\n",
       "      <td>1</td>\n",
       "    </tr>\n",
       "  </tbody>\n",
       "</table>\n",
       "<p>2000 rows × 31 columns</p>\n",
       "</div>"
      ],
      "text/plain": [
       "      Unnamed: 0  visitor_id visitor_location marketing_channel gender  \\\n",
       "0              0           1    North America           youtube      M   \n",
       "1              1           2    South America           organic      F   \n",
       "2              2           3        Australia         instagram      M   \n",
       "3              3           4    North America          facebook      M   \n",
       "4              4           5             Asia         instagram      F   \n",
       "...          ...         ...              ...               ...    ...   \n",
       "1995        1995        1996           Europe           organic      F   \n",
       "1996        1996        1997    South America            google      M   \n",
       "1997        1997        1998             Asia          facebook      M   \n",
       "1998        1998        1999    South America           youtube      F   \n",
       "1999        1999        2000    North America         instagram      F   \n",
       "\n",
       "      product_views_Mon  product_views_Tue  product_views_Wed  \\\n",
       "0                     4                  5                  2   \n",
       "1                     2                  5                  0   \n",
       "2                     3                  4                  0   \n",
       "3                     1                  0                  0   \n",
       "4                     1                  5                  2   \n",
       "...                 ...                ...                ...   \n",
       "1995                  3                  0                  0   \n",
       "1996                  1                  2                  0   \n",
       "1997                  2                  3                  0   \n",
       "1998                  2                  2                  2   \n",
       "1999                  2                  1                  1   \n",
       "\n",
       "      product_views_Thu  product_views_Fri  ...  time_on_site_Tue  \\\n",
       "0                     1                  2  ...                33   \n",
       "1                     1                  5  ...                28   \n",
       "2                    -3                  5  ...                34   \n",
       "3                     5                  0  ...                26   \n",
       "4                     2                  3  ...                54   \n",
       "...                 ...                ...  ...               ...   \n",
       "1995                  4                  2  ...                22   \n",
       "1996                  4                  1  ...                54   \n",
       "1997                  0                  8  ...                32   \n",
       "1998                  5                  5  ...                21   \n",
       "1999                  5                  1  ...                21   \n",
       "\n",
       "      time_on_site_Wed  time_on_site_Thu  time_on_site_Fri  pages_visited_Mon  \\\n",
       "0                   23                46                57                  4   \n",
       "1                   39                24                51                  5   \n",
       "2                   22                34                31                  1   \n",
       "3                   43                22                39                  3   \n",
       "4                   30                47                57                  6   \n",
       "...                ...               ...               ...                ...   \n",
       "1995                51                44                29                  5   \n",
       "1996                33                59                38                  1   \n",
       "1997                30                48                38                  2   \n",
       "1998                51                41                56                  6   \n",
       "1999                45                59                21                  4   \n",
       "\n",
       "      pages_visited_Tue  pages_visited_Wed  pages_visited_Thu  \\\n",
       "0                     5                  5                  4   \n",
       "1                     6                  7                  6   \n",
       "2                     3                  3                  2   \n",
       "3                     4                  7                  7   \n",
       "4                     6                  5                  2   \n",
       "...                 ...                ...                ...   \n",
       "1995                  1                  5                  7   \n",
       "1996                  6                  6                  7   \n",
       "1997                  1                  7                  6   \n",
       "1998                  4                  2                  2   \n",
       "1999                  5                  7                  3   \n",
       "\n",
       "      pages_visited_Fri  converted_Fri  \n",
       "0                     6              1  \n",
       "1                     2              0  \n",
       "2                     3              1  \n",
       "3                     1              0  \n",
       "4                     4              1  \n",
       "...                 ...            ...  \n",
       "1995                  7              0  \n",
       "1996                  6              0  \n",
       "1997                  4              0  \n",
       "1998                  3              1  \n",
       "1999                  1              1  \n",
       "\n",
       "[2000 rows x 31 columns]"
      ]
     },
     "execution_count": 407,
     "metadata": {},
     "output_type": "execute_result"
    }
   ],
   "source": [
    "df = pd.read_csv('https://raw.githubusercontent.com/GoldenSnow-Xue/schulich_data_science/main/MBAN%206110/Datasets/conversion_data.csv')\n",
    "df"
   ]
  },
  {
   "cell_type": "code",
   "execution_count": 408,
   "metadata": {},
   "outputs": [
    {
     "name": "stdout",
     "output_type": "stream",
     "text": [
      "<class 'pandas.core.frame.DataFrame'>\n",
      "RangeIndex: 2000 entries, 0 to 1999\n",
      "Data columns (total 31 columns):\n",
      " #   Column             Non-Null Count  Dtype  \n",
      "---  ------             --------------  -----  \n",
      " 0   Unnamed: 0         2000 non-null   int64  \n",
      " 1   visitor_id         2000 non-null   int64  \n",
      " 2   visitor_location   2000 non-null   object \n",
      " 3   marketing_channel  2000 non-null   object \n",
      " 4   gender             2000 non-null   object \n",
      " 5   product_views_Mon  2000 non-null   int64  \n",
      " 6   product_views_Tue  2000 non-null   int64  \n",
      " 7   product_views_Wed  2000 non-null   int64  \n",
      " 8   product_views_Thu  2000 non-null   int64  \n",
      " 9   product_views_Fri  2000 non-null   int64  \n",
      " 10  avg_rating_Mon     2000 non-null   float64\n",
      " 11  avg_rating_Tue     2000 non-null   float64\n",
      " 12  avg_rating_Wed     2000 non-null   float64\n",
      " 13  avg_rating_Thu     2000 non-null   float64\n",
      " 14  avg_rating_Fri     2000 non-null   float64\n",
      " 15  avg_price_Mon      2000 non-null   float64\n",
      " 16  avg_price_Tue      2000 non-null   float64\n",
      " 17  avg_price_Wed      2000 non-null   float64\n",
      " 18  avg_price_Thu      2000 non-null   float64\n",
      " 19  avg_price_Fri      2000 non-null   float64\n",
      " 20  time_on_site_Mon   2000 non-null   int64  \n",
      " 21  time_on_site_Tue   2000 non-null   int64  \n",
      " 22  time_on_site_Wed   2000 non-null   int64  \n",
      " 23  time_on_site_Thu   2000 non-null   int64  \n",
      " 24  time_on_site_Fri   2000 non-null   int64  \n",
      " 25  pages_visited_Mon  2000 non-null   int64  \n",
      " 26  pages_visited_Tue  2000 non-null   int64  \n",
      " 27  pages_visited_Wed  2000 non-null   int64  \n",
      " 28  pages_visited_Thu  2000 non-null   int64  \n",
      " 29  pages_visited_Fri  2000 non-null   int64  \n",
      " 30  converted_Fri      2000 non-null   int64  \n",
      "dtypes: float64(10), int64(18), object(3)\n",
      "memory usage: 484.5+ KB\n"
     ]
    }
   ],
   "source": [
    "df.info()"
   ]
  },
  {
   "cell_type": "markdown",
   "metadata": {},
   "source": [
    "*** Missing data: No missing data in this dataset.\n",
    "\n",
    "*** Incorrect data type: No incorrect data type."
   ]
  },
  {
   "cell_type": "code",
   "execution_count": 409,
   "metadata": {},
   "outputs": [
    {
     "data": {
      "text/html": [
       "<div>\n",
       "<style scoped>\n",
       "    .dataframe tbody tr th:only-of-type {\n",
       "        vertical-align: middle;\n",
       "    }\n",
       "\n",
       "    .dataframe tbody tr th {\n",
       "        vertical-align: top;\n",
       "    }\n",
       "\n",
       "    .dataframe thead th {\n",
       "        text-align: right;\n",
       "    }\n",
       "</style>\n",
       "<table border=\"1\" class=\"dataframe\">\n",
       "  <thead>\n",
       "    <tr style=\"text-align: right;\">\n",
       "      <th></th>\n",
       "      <th>Unnamed: 0</th>\n",
       "      <th>visitor_id</th>\n",
       "      <th>visitor_location</th>\n",
       "      <th>marketing_channel</th>\n",
       "      <th>gender</th>\n",
       "      <th>product_views_Mon</th>\n",
       "      <th>product_views_Tue</th>\n",
       "      <th>product_views_Wed</th>\n",
       "      <th>product_views_Thu</th>\n",
       "      <th>product_views_Fri</th>\n",
       "      <th>...</th>\n",
       "      <th>time_on_site_Tue</th>\n",
       "      <th>time_on_site_Wed</th>\n",
       "      <th>time_on_site_Thu</th>\n",
       "      <th>time_on_site_Fri</th>\n",
       "      <th>pages_visited_Mon</th>\n",
       "      <th>pages_visited_Tue</th>\n",
       "      <th>pages_visited_Wed</th>\n",
       "      <th>pages_visited_Thu</th>\n",
       "      <th>pages_visited_Fri</th>\n",
       "      <th>converted_Fri</th>\n",
       "    </tr>\n",
       "  </thead>\n",
       "  <tbody>\n",
       "    <tr>\n",
       "      <th>count</th>\n",
       "      <td>2000.000000</td>\n",
       "      <td>2000.000000</td>\n",
       "      <td>2000</td>\n",
       "      <td>2000</td>\n",
       "      <td>2000</td>\n",
       "      <td>2000.000000</td>\n",
       "      <td>2000.000000</td>\n",
       "      <td>2000.000000</td>\n",
       "      <td>2000.000000</td>\n",
       "      <td>2000.000000</td>\n",
       "      <td>...</td>\n",
       "      <td>2000.000000</td>\n",
       "      <td>2000.000000</td>\n",
       "      <td>2000.000000</td>\n",
       "      <td>2000.000000</td>\n",
       "      <td>2000.000000</td>\n",
       "      <td>2000.000000</td>\n",
       "      <td>2000.000000</td>\n",
       "      <td>2000.000000</td>\n",
       "      <td>2000.000000</td>\n",
       "      <td>2000.000000</td>\n",
       "    </tr>\n",
       "    <tr>\n",
       "      <th>unique</th>\n",
       "      <td>NaN</td>\n",
       "      <td>NaN</td>\n",
       "      <td>5</td>\n",
       "      <td>5</td>\n",
       "      <td>2</td>\n",
       "      <td>NaN</td>\n",
       "      <td>NaN</td>\n",
       "      <td>NaN</td>\n",
       "      <td>NaN</td>\n",
       "      <td>NaN</td>\n",
       "      <td>...</td>\n",
       "      <td>NaN</td>\n",
       "      <td>NaN</td>\n",
       "      <td>NaN</td>\n",
       "      <td>NaN</td>\n",
       "      <td>NaN</td>\n",
       "      <td>NaN</td>\n",
       "      <td>NaN</td>\n",
       "      <td>NaN</td>\n",
       "      <td>NaN</td>\n",
       "      <td>NaN</td>\n",
       "    </tr>\n",
       "    <tr>\n",
       "      <th>top</th>\n",
       "      <td>NaN</td>\n",
       "      <td>NaN</td>\n",
       "      <td>South America</td>\n",
       "      <td>instagram</td>\n",
       "      <td>F</td>\n",
       "      <td>NaN</td>\n",
       "      <td>NaN</td>\n",
       "      <td>NaN</td>\n",
       "      <td>NaN</td>\n",
       "      <td>NaN</td>\n",
       "      <td>...</td>\n",
       "      <td>NaN</td>\n",
       "      <td>NaN</td>\n",
       "      <td>NaN</td>\n",
       "      <td>NaN</td>\n",
       "      <td>NaN</td>\n",
       "      <td>NaN</td>\n",
       "      <td>NaN</td>\n",
       "      <td>NaN</td>\n",
       "      <td>NaN</td>\n",
       "      <td>NaN</td>\n",
       "    </tr>\n",
       "    <tr>\n",
       "      <th>freq</th>\n",
       "      <td>NaN</td>\n",
       "      <td>NaN</td>\n",
       "      <td>433</td>\n",
       "      <td>431</td>\n",
       "      <td>1093</td>\n",
       "      <td>NaN</td>\n",
       "      <td>NaN</td>\n",
       "      <td>NaN</td>\n",
       "      <td>NaN</td>\n",
       "      <td>NaN</td>\n",
       "      <td>...</td>\n",
       "      <td>NaN</td>\n",
       "      <td>NaN</td>\n",
       "      <td>NaN</td>\n",
       "      <td>NaN</td>\n",
       "      <td>NaN</td>\n",
       "      <td>NaN</td>\n",
       "      <td>NaN</td>\n",
       "      <td>NaN</td>\n",
       "      <td>NaN</td>\n",
       "      <td>NaN</td>\n",
       "    </tr>\n",
       "    <tr>\n",
       "      <th>mean</th>\n",
       "      <td>999.500000</td>\n",
       "      <td>1000.500000</td>\n",
       "      <td>NaN</td>\n",
       "      <td>NaN</td>\n",
       "      <td>NaN</td>\n",
       "      <td>2.541500</td>\n",
       "      <td>2.440500</td>\n",
       "      <td>2.441000</td>\n",
       "      <td>2.256500</td>\n",
       "      <td>2.354000</td>\n",
       "      <td>...</td>\n",
       "      <td>39.776500</td>\n",
       "      <td>40.155500</td>\n",
       "      <td>40.417000</td>\n",
       "      <td>40.028500</td>\n",
       "      <td>3.946000</td>\n",
       "      <td>4.071000</td>\n",
       "      <td>4.092500</td>\n",
       "      <td>3.921000</td>\n",
       "      <td>4.089500</td>\n",
       "      <td>0.372000</td>\n",
       "    </tr>\n",
       "    <tr>\n",
       "      <th>std</th>\n",
       "      <td>577.494589</td>\n",
       "      <td>577.494589</td>\n",
       "      <td>NaN</td>\n",
       "      <td>NaN</td>\n",
       "      <td>NaN</td>\n",
       "      <td>1.704914</td>\n",
       "      <td>1.715206</td>\n",
       "      <td>2.343345</td>\n",
       "      <td>2.370974</td>\n",
       "      <td>2.335682</td>\n",
       "      <td>...</td>\n",
       "      <td>11.855624</td>\n",
       "      <td>11.757399</td>\n",
       "      <td>11.892638</td>\n",
       "      <td>11.664207</td>\n",
       "      <td>2.010001</td>\n",
       "      <td>2.012209</td>\n",
       "      <td>2.002985</td>\n",
       "      <td>2.023316</td>\n",
       "      <td>2.026954</td>\n",
       "      <td>0.483459</td>\n",
       "    </tr>\n",
       "    <tr>\n",
       "      <th>min</th>\n",
       "      <td>0.000000</td>\n",
       "      <td>1.000000</td>\n",
       "      <td>NaN</td>\n",
       "      <td>NaN</td>\n",
       "      <td>NaN</td>\n",
       "      <td>0.000000</td>\n",
       "      <td>0.000000</td>\n",
       "      <td>0.000000</td>\n",
       "      <td>-4.000000</td>\n",
       "      <td>-3.000000</td>\n",
       "      <td>...</td>\n",
       "      <td>20.000000</td>\n",
       "      <td>20.000000</td>\n",
       "      <td>20.000000</td>\n",
       "      <td>20.000000</td>\n",
       "      <td>1.000000</td>\n",
       "      <td>1.000000</td>\n",
       "      <td>1.000000</td>\n",
       "      <td>1.000000</td>\n",
       "      <td>1.000000</td>\n",
       "      <td>0.000000</td>\n",
       "    </tr>\n",
       "    <tr>\n",
       "      <th>25%</th>\n",
       "      <td>499.750000</td>\n",
       "      <td>500.750000</td>\n",
       "      <td>NaN</td>\n",
       "      <td>NaN</td>\n",
       "      <td>NaN</td>\n",
       "      <td>1.000000</td>\n",
       "      <td>1.000000</td>\n",
       "      <td>0.000000</td>\n",
       "      <td>0.000000</td>\n",
       "      <td>0.000000</td>\n",
       "      <td>...</td>\n",
       "      <td>29.000000</td>\n",
       "      <td>30.000000</td>\n",
       "      <td>30.000000</td>\n",
       "      <td>30.000000</td>\n",
       "      <td>2.000000</td>\n",
       "      <td>2.000000</td>\n",
       "      <td>2.000000</td>\n",
       "      <td>2.000000</td>\n",
       "      <td>2.000000</td>\n",
       "      <td>0.000000</td>\n",
       "    </tr>\n",
       "    <tr>\n",
       "      <th>50%</th>\n",
       "      <td>999.500000</td>\n",
       "      <td>1000.500000</td>\n",
       "      <td>NaN</td>\n",
       "      <td>NaN</td>\n",
       "      <td>NaN</td>\n",
       "      <td>3.000000</td>\n",
       "      <td>2.000000</td>\n",
       "      <td>2.000000</td>\n",
       "      <td>2.000000</td>\n",
       "      <td>2.000000</td>\n",
       "      <td>...</td>\n",
       "      <td>40.000000</td>\n",
       "      <td>40.000000</td>\n",
       "      <td>40.500000</td>\n",
       "      <td>40.000000</td>\n",
       "      <td>4.000000</td>\n",
       "      <td>4.000000</td>\n",
       "      <td>4.000000</td>\n",
       "      <td>4.000000</td>\n",
       "      <td>4.000000</td>\n",
       "      <td>0.000000</td>\n",
       "    </tr>\n",
       "    <tr>\n",
       "      <th>75%</th>\n",
       "      <td>1499.250000</td>\n",
       "      <td>1500.250000</td>\n",
       "      <td>NaN</td>\n",
       "      <td>NaN</td>\n",
       "      <td>NaN</td>\n",
       "      <td>4.000000</td>\n",
       "      <td>4.000000</td>\n",
       "      <td>4.000000</td>\n",
       "      <td>5.000000</td>\n",
       "      <td>5.000000</td>\n",
       "      <td>...</td>\n",
       "      <td>50.000000</td>\n",
       "      <td>50.000000</td>\n",
       "      <td>51.000000</td>\n",
       "      <td>50.000000</td>\n",
       "      <td>6.000000</td>\n",
       "      <td>6.000000</td>\n",
       "      <td>6.000000</td>\n",
       "      <td>6.000000</td>\n",
       "      <td>6.000000</td>\n",
       "      <td>1.000000</td>\n",
       "    </tr>\n",
       "    <tr>\n",
       "      <th>max</th>\n",
       "      <td>1999.000000</td>\n",
       "      <td>2000.000000</td>\n",
       "      <td>NaN</td>\n",
       "      <td>NaN</td>\n",
       "      <td>NaN</td>\n",
       "      <td>5.000000</td>\n",
       "      <td>5.000000</td>\n",
       "      <td>9.000000</td>\n",
       "      <td>8.000000</td>\n",
       "      <td>8.000000</td>\n",
       "      <td>...</td>\n",
       "      <td>60.000000</td>\n",
       "      <td>60.000000</td>\n",
       "      <td>60.000000</td>\n",
       "      <td>60.000000</td>\n",
       "      <td>7.000000</td>\n",
       "      <td>7.000000</td>\n",
       "      <td>7.000000</td>\n",
       "      <td>7.000000</td>\n",
       "      <td>7.000000</td>\n",
       "      <td>1.000000</td>\n",
       "    </tr>\n",
       "  </tbody>\n",
       "</table>\n",
       "<p>11 rows × 31 columns</p>\n",
       "</div>"
      ],
      "text/plain": [
       "         Unnamed: 0   visitor_id visitor_location marketing_channel gender  \\\n",
       "count   2000.000000  2000.000000             2000              2000   2000   \n",
       "unique          NaN          NaN                5                 5      2   \n",
       "top             NaN          NaN    South America         instagram      F   \n",
       "freq            NaN          NaN              433               431   1093   \n",
       "mean     999.500000  1000.500000              NaN               NaN    NaN   \n",
       "std      577.494589   577.494589              NaN               NaN    NaN   \n",
       "min        0.000000     1.000000              NaN               NaN    NaN   \n",
       "25%      499.750000   500.750000              NaN               NaN    NaN   \n",
       "50%      999.500000  1000.500000              NaN               NaN    NaN   \n",
       "75%     1499.250000  1500.250000              NaN               NaN    NaN   \n",
       "max     1999.000000  2000.000000              NaN               NaN    NaN   \n",
       "\n",
       "        product_views_Mon  product_views_Tue  product_views_Wed  \\\n",
       "count         2000.000000        2000.000000        2000.000000   \n",
       "unique                NaN                NaN                NaN   \n",
       "top                   NaN                NaN                NaN   \n",
       "freq                  NaN                NaN                NaN   \n",
       "mean             2.541500           2.440500           2.441000   \n",
       "std              1.704914           1.715206           2.343345   \n",
       "min              0.000000           0.000000           0.000000   \n",
       "25%              1.000000           1.000000           0.000000   \n",
       "50%              3.000000           2.000000           2.000000   \n",
       "75%              4.000000           4.000000           4.000000   \n",
       "max              5.000000           5.000000           9.000000   \n",
       "\n",
       "        product_views_Thu  product_views_Fri  ...  time_on_site_Tue  \\\n",
       "count         2000.000000        2000.000000  ...       2000.000000   \n",
       "unique                NaN                NaN  ...               NaN   \n",
       "top                   NaN                NaN  ...               NaN   \n",
       "freq                  NaN                NaN  ...               NaN   \n",
       "mean             2.256500           2.354000  ...         39.776500   \n",
       "std              2.370974           2.335682  ...         11.855624   \n",
       "min             -4.000000          -3.000000  ...         20.000000   \n",
       "25%              0.000000           0.000000  ...         29.000000   \n",
       "50%              2.000000           2.000000  ...         40.000000   \n",
       "75%              5.000000           5.000000  ...         50.000000   \n",
       "max              8.000000           8.000000  ...         60.000000   \n",
       "\n",
       "        time_on_site_Wed  time_on_site_Thu  time_on_site_Fri  \\\n",
       "count        2000.000000       2000.000000       2000.000000   \n",
       "unique               NaN               NaN               NaN   \n",
       "top                  NaN               NaN               NaN   \n",
       "freq                 NaN               NaN               NaN   \n",
       "mean           40.155500         40.417000         40.028500   \n",
       "std            11.757399         11.892638         11.664207   \n",
       "min            20.000000         20.000000         20.000000   \n",
       "25%            30.000000         30.000000         30.000000   \n",
       "50%            40.000000         40.500000         40.000000   \n",
       "75%            50.000000         51.000000         50.000000   \n",
       "max            60.000000         60.000000         60.000000   \n",
       "\n",
       "        pages_visited_Mon  pages_visited_Tue  pages_visited_Wed  \\\n",
       "count         2000.000000        2000.000000        2000.000000   \n",
       "unique                NaN                NaN                NaN   \n",
       "top                   NaN                NaN                NaN   \n",
       "freq                  NaN                NaN                NaN   \n",
       "mean             3.946000           4.071000           4.092500   \n",
       "std              2.010001           2.012209           2.002985   \n",
       "min              1.000000           1.000000           1.000000   \n",
       "25%              2.000000           2.000000           2.000000   \n",
       "50%              4.000000           4.000000           4.000000   \n",
       "75%              6.000000           6.000000           6.000000   \n",
       "max              7.000000           7.000000           7.000000   \n",
       "\n",
       "        pages_visited_Thu  pages_visited_Fri  converted_Fri  \n",
       "count         2000.000000        2000.000000    2000.000000  \n",
       "unique                NaN                NaN            NaN  \n",
       "top                   NaN                NaN            NaN  \n",
       "freq                  NaN                NaN            NaN  \n",
       "mean             3.921000           4.089500       0.372000  \n",
       "std              2.023316           2.026954       0.483459  \n",
       "min              1.000000           1.000000       0.000000  \n",
       "25%              2.000000           2.000000       0.000000  \n",
       "50%              4.000000           4.000000       0.000000  \n",
       "75%              6.000000           6.000000       1.000000  \n",
       "max              7.000000           7.000000       1.000000  \n",
       "\n",
       "[11 rows x 31 columns]"
      ]
     },
     "execution_count": 409,
     "metadata": {},
     "output_type": "execute_result"
    }
   ],
   "source": [
    "df.describe(include='all')"
   ]
  },
  {
   "cell_type": "markdown",
   "metadata": {},
   "source": [
    "*** We can see two columns have negative values which doesn't make sense"
   ]
  },
  {
   "cell_type": "code",
   "execution_count": 410,
   "metadata": {},
   "outputs": [],
   "source": [
    "df[df['product_views_Thu']<0] = np.nan\n",
    "df[df['product_views_Fri']<0] = np.nan\n",
    "# will deal with in data cleaning "
   ]
  },
  {
   "cell_type": "code",
   "execution_count": 411,
   "metadata": {},
   "outputs": [
    {
     "data": {
      "text/plain": [
       "Index(['Unnamed: 0', 'visitor_id', 'visitor_location', 'marketing_channel',\n",
       "       'gender', 'product_views_Mon', 'product_views_Tue', 'product_views_Wed',\n",
       "       'product_views_Thu', 'product_views_Fri', 'avg_rating_Mon',\n",
       "       'avg_rating_Tue', 'avg_rating_Wed', 'avg_rating_Thu', 'avg_rating_Fri',\n",
       "       'avg_price_Mon', 'avg_price_Tue', 'avg_price_Wed', 'avg_price_Thu',\n",
       "       'avg_price_Fri', 'time_on_site_Mon', 'time_on_site_Tue',\n",
       "       'time_on_site_Wed', 'time_on_site_Thu', 'time_on_site_Fri',\n",
       "       'pages_visited_Mon', 'pages_visited_Tue', 'pages_visited_Wed',\n",
       "       'pages_visited_Thu', 'pages_visited_Fri', 'converted_Fri'],\n",
       "      dtype='object')"
      ]
     },
     "execution_count": 411,
     "metadata": {},
     "output_type": "execute_result"
    }
   ],
   "source": [
    "df.columns"
   ]
  },
  {
   "cell_type": "markdown",
   "metadata": {},
   "source": [
    "### 2. Define a Problem Statement and Hypothesis"
   ]
  },
  {
   "cell_type": "markdown",
   "metadata": {},
   "source": [
    "##### 2.1 Problem Statement:"
   ]
  },
  {
   "cell_type": "markdown",
   "metadata": {},
   "source": [
    "##### 2.2 Hypothesis"
   ]
  },
  {
   "cell_type": "markdown",
   "metadata": {},
   "source": [
    "### 3. Conduct Exploratory Data Analysis (EDA)"
   ]
  },
  {
   "cell_type": "markdown",
   "metadata": {},
   "source": [
    "##### 3.1 Data Cleaning"
   ]
  },
  {
   "cell_type": "markdown",
   "metadata": {},
   "source": [
    "* Deal with duplicates"
   ]
  },
  {
   "cell_type": "code",
   "execution_count": 412,
   "metadata": {},
   "outputs": [],
   "source": [
    "df.drop(columns=['Unnamed: 0', 'visitor_id'], axis= 1, inplace= True)"
   ]
  },
  {
   "cell_type": "code",
   "execution_count": 413,
   "metadata": {},
   "outputs": [],
   "source": [
    "df = df.drop_duplicates()"
   ]
  },
  {
   "cell_type": "markdown",
   "metadata": {},
   "source": [
    "* Deal with missing values"
   ]
  },
  {
   "cell_type": "code",
   "execution_count": 414,
   "metadata": {},
   "outputs": [
    {
     "data": {
      "text/plain": [
       "29"
      ]
     },
     "execution_count": 414,
     "metadata": {},
     "output_type": "execute_result"
    }
   ],
   "source": [
    "df.isnull().sum().sum()"
   ]
  },
  {
   "cell_type": "code",
   "execution_count": 415,
   "metadata": {},
   "outputs": [
    {
     "data": {
      "text/plain": [
       "200.0"
      ]
     },
     "execution_count": 415,
     "metadata": {},
     "output_type": "execute_result"
    }
   ],
   "source": [
    "2000*0.1\n",
    "# 30 < 200 We can simply drop it"
   ]
  },
  {
   "cell_type": "code",
   "execution_count": 416,
   "metadata": {},
   "outputs": [],
   "source": [
    "df = df.dropna()"
   ]
  },
  {
   "cell_type": "code",
   "execution_count": 417,
   "metadata": {},
   "outputs": [
    {
     "name": "stdout",
     "output_type": "stream",
     "text": [
      "<class 'pandas.core.frame.DataFrame'>\n",
      "Index: 1859 entries, 0 to 1999\n",
      "Data columns (total 29 columns):\n",
      " #   Column             Non-Null Count  Dtype  \n",
      "---  ------             --------------  -----  \n",
      " 0   visitor_location   1859 non-null   object \n",
      " 1   marketing_channel  1859 non-null   object \n",
      " 2   gender             1859 non-null   object \n",
      " 3   product_views_Mon  1859 non-null   float64\n",
      " 4   product_views_Tue  1859 non-null   float64\n",
      " 5   product_views_Wed  1859 non-null   float64\n",
      " 6   product_views_Thu  1859 non-null   float64\n",
      " 7   product_views_Fri  1859 non-null   float64\n",
      " 8   avg_rating_Mon     1859 non-null   float64\n",
      " 9   avg_rating_Tue     1859 non-null   float64\n",
      " 10  avg_rating_Wed     1859 non-null   float64\n",
      " 11  avg_rating_Thu     1859 non-null   float64\n",
      " 12  avg_rating_Fri     1859 non-null   float64\n",
      " 13  avg_price_Mon      1859 non-null   float64\n",
      " 14  avg_price_Tue      1859 non-null   float64\n",
      " 15  avg_price_Wed      1859 non-null   float64\n",
      " 16  avg_price_Thu      1859 non-null   float64\n",
      " 17  avg_price_Fri      1859 non-null   float64\n",
      " 18  time_on_site_Mon   1859 non-null   float64\n",
      " 19  time_on_site_Tue   1859 non-null   float64\n",
      " 20  time_on_site_Wed   1859 non-null   float64\n",
      " 21  time_on_site_Thu   1859 non-null   float64\n",
      " 22  time_on_site_Fri   1859 non-null   float64\n",
      " 23  pages_visited_Mon  1859 non-null   float64\n",
      " 24  pages_visited_Tue  1859 non-null   float64\n",
      " 25  pages_visited_Wed  1859 non-null   float64\n",
      " 26  pages_visited_Thu  1859 non-null   float64\n",
      " 27  pages_visited_Fri  1859 non-null   float64\n",
      " 28  converted_Fri      1859 non-null   float64\n",
      "dtypes: float64(26), object(3)\n",
      "memory usage: 435.7+ KB\n"
     ]
    }
   ],
   "source": [
    "df.info()"
   ]
  },
  {
   "cell_type": "markdown",
   "metadata": {},
   "source": [
    "* Combine Columns"
   ]
  },
  {
   "cell_type": "code",
   "execution_count": 418,
   "metadata": {},
   "outputs": [],
   "source": [
    "df['product_views'] = df['product_views_Mon'] + df['product_views_Tue'] + df['product_views_Wed'] + df['product_views_Thu'] + df['product_views_Fri']\n",
    "df['avg_rating'] = df['avg_rating_Mon'] + df['avg_rating_Tue'] + df['avg_rating_Wed'] + df['avg_rating_Thu'] + df['avg_rating_Fri']\n",
    "df['avg_price'] = df['avg_price_Mon'] + df['avg_price_Tue'] + df['avg_price_Wed'] + df['avg_price_Thu'] + df['avg_price_Fri']\n",
    "df['time_on_site'] = df['time_on_site_Mon'] + df['time_on_site_Tue'] + df['time_on_site_Wed'] + df['time_on_site_Thu'] + df['time_on_site_Fri']\n",
    "df['pages_visited'] = df['pages_visited_Mon'] + df['pages_visited_Tue'] + df['pages_visited_Wed'] + df['pages_visited_Thu'] + df['pages_visited_Fri']"
   ]
  },
  {
   "cell_type": "code",
   "execution_count": 419,
   "metadata": {},
   "outputs": [
    {
     "data": {
      "text/plain": [
       "Index(['visitor_location', 'marketing_channel', 'gender', 'product_views_Mon',\n",
       "       'product_views_Tue', 'product_views_Wed', 'product_views_Thu',\n",
       "       'product_views_Fri', 'avg_rating_Mon', 'avg_rating_Tue',\n",
       "       'avg_rating_Wed', 'avg_rating_Thu', 'avg_rating_Fri', 'avg_price_Mon',\n",
       "       'avg_price_Tue', 'avg_price_Wed', 'avg_price_Thu', 'avg_price_Fri',\n",
       "       'time_on_site_Mon', 'time_on_site_Tue', 'time_on_site_Wed',\n",
       "       'time_on_site_Thu', 'time_on_site_Fri', 'pages_visited_Mon',\n",
       "       'pages_visited_Tue', 'pages_visited_Wed', 'pages_visited_Thu',\n",
       "       'pages_visited_Fri', 'converted_Fri', 'product_views', 'avg_rating',\n",
       "       'avg_price', 'time_on_site', 'pages_visited'],\n",
       "      dtype='object')"
      ]
     },
     "execution_count": 419,
     "metadata": {},
     "output_type": "execute_result"
    }
   ],
   "source": [
    "df.columns"
   ]
  },
  {
   "cell_type": "code",
   "execution_count": 420,
   "metadata": {},
   "outputs": [
    {
     "data": {
      "text/html": [
       "<div>\n",
       "<style scoped>\n",
       "    .dataframe tbody tr th:only-of-type {\n",
       "        vertical-align: middle;\n",
       "    }\n",
       "\n",
       "    .dataframe tbody tr th {\n",
       "        vertical-align: top;\n",
       "    }\n",
       "\n",
       "    .dataframe thead th {\n",
       "        text-align: right;\n",
       "    }\n",
       "</style>\n",
       "<table border=\"1\" class=\"dataframe\">\n",
       "  <thead>\n",
       "    <tr style=\"text-align: right;\">\n",
       "      <th></th>\n",
       "      <th>visitor_location</th>\n",
       "      <th>marketing_channel</th>\n",
       "      <th>gender</th>\n",
       "      <th>product_views</th>\n",
       "      <th>avg_rating</th>\n",
       "      <th>avg_price</th>\n",
       "      <th>time_on_site</th>\n",
       "      <th>pages_visited</th>\n",
       "      <th>converted_Fri</th>\n",
       "    </tr>\n",
       "  </thead>\n",
       "  <tbody>\n",
       "    <tr>\n",
       "      <th>0</th>\n",
       "      <td>North America</td>\n",
       "      <td>youtube</td>\n",
       "      <td>M</td>\n",
       "      <td>14.0</td>\n",
       "      <td>15.67</td>\n",
       "      <td>273.69</td>\n",
       "      <td>216.0</td>\n",
       "      <td>24.0</td>\n",
       "      <td>1.0</td>\n",
       "    </tr>\n",
       "    <tr>\n",
       "      <th>1</th>\n",
       "      <td>South America</td>\n",
       "      <td>organic</td>\n",
       "      <td>F</td>\n",
       "      <td>13.0</td>\n",
       "      <td>10.34</td>\n",
       "      <td>357.16</td>\n",
       "      <td>166.0</td>\n",
       "      <td>26.0</td>\n",
       "      <td>0.0</td>\n",
       "    </tr>\n",
       "    <tr>\n",
       "      <th>3</th>\n",
       "      <td>North America</td>\n",
       "      <td>facebook</td>\n",
       "      <td>M</td>\n",
       "      <td>6.0</td>\n",
       "      <td>16.50</td>\n",
       "      <td>280.24</td>\n",
       "      <td>186.0</td>\n",
       "      <td>22.0</td>\n",
       "      <td>0.0</td>\n",
       "    </tr>\n",
       "    <tr>\n",
       "      <th>4</th>\n",
       "      <td>Asia</td>\n",
       "      <td>instagram</td>\n",
       "      <td>F</td>\n",
       "      <td>13.0</td>\n",
       "      <td>11.82</td>\n",
       "      <td>232.21</td>\n",
       "      <td>223.0</td>\n",
       "      <td>23.0</td>\n",
       "      <td>1.0</td>\n",
       "    </tr>\n",
       "    <tr>\n",
       "      <th>5</th>\n",
       "      <td>South America</td>\n",
       "      <td>organic</td>\n",
       "      <td>M</td>\n",
       "      <td>6.0</td>\n",
       "      <td>18.00</td>\n",
       "      <td>406.32</td>\n",
       "      <td>199.0</td>\n",
       "      <td>21.0</td>\n",
       "      <td>0.0</td>\n",
       "    </tr>\n",
       "    <tr>\n",
       "      <th>...</th>\n",
       "      <td>...</td>\n",
       "      <td>...</td>\n",
       "      <td>...</td>\n",
       "      <td>...</td>\n",
       "      <td>...</td>\n",
       "      <td>...</td>\n",
       "      <td>...</td>\n",
       "      <td>...</td>\n",
       "      <td>...</td>\n",
       "    </tr>\n",
       "    <tr>\n",
       "      <th>1995</th>\n",
       "      <td>Europe</td>\n",
       "      <td>organic</td>\n",
       "      <td>F</td>\n",
       "      <td>9.0</td>\n",
       "      <td>15.04</td>\n",
       "      <td>286.30</td>\n",
       "      <td>178.0</td>\n",
       "      <td>25.0</td>\n",
       "      <td>0.0</td>\n",
       "    </tr>\n",
       "    <tr>\n",
       "      <th>1996</th>\n",
       "      <td>South America</td>\n",
       "      <td>google</td>\n",
       "      <td>M</td>\n",
       "      <td>8.0</td>\n",
       "      <td>9.29</td>\n",
       "      <td>228.51</td>\n",
       "      <td>228.0</td>\n",
       "      <td>26.0</td>\n",
       "      <td>0.0</td>\n",
       "    </tr>\n",
       "    <tr>\n",
       "      <th>1997</th>\n",
       "      <td>Asia</td>\n",
       "      <td>facebook</td>\n",
       "      <td>M</td>\n",
       "      <td>13.0</td>\n",
       "      <td>16.40</td>\n",
       "      <td>262.72</td>\n",
       "      <td>174.0</td>\n",
       "      <td>20.0</td>\n",
       "      <td>0.0</td>\n",
       "    </tr>\n",
       "    <tr>\n",
       "      <th>1998</th>\n",
       "      <td>South America</td>\n",
       "      <td>youtube</td>\n",
       "      <td>F</td>\n",
       "      <td>16.0</td>\n",
       "      <td>18.31</td>\n",
       "      <td>258.76</td>\n",
       "      <td>189.0</td>\n",
       "      <td>17.0</td>\n",
       "      <td>1.0</td>\n",
       "    </tr>\n",
       "    <tr>\n",
       "      <th>1999</th>\n",
       "      <td>North America</td>\n",
       "      <td>instagram</td>\n",
       "      <td>F</td>\n",
       "      <td>10.0</td>\n",
       "      <td>14.62</td>\n",
       "      <td>298.04</td>\n",
       "      <td>171.0</td>\n",
       "      <td>20.0</td>\n",
       "      <td>1.0</td>\n",
       "    </tr>\n",
       "  </tbody>\n",
       "</table>\n",
       "<p>1859 rows × 9 columns</p>\n",
       "</div>"
      ],
      "text/plain": [
       "     visitor_location marketing_channel gender  product_views  avg_rating  \\\n",
       "0       North America           youtube      M           14.0       15.67   \n",
       "1       South America           organic      F           13.0       10.34   \n",
       "3       North America          facebook      M            6.0       16.50   \n",
       "4                Asia         instagram      F           13.0       11.82   \n",
       "5       South America           organic      M            6.0       18.00   \n",
       "...               ...               ...    ...            ...         ...   \n",
       "1995           Europe           organic      F            9.0       15.04   \n",
       "1996    South America            google      M            8.0        9.29   \n",
       "1997             Asia          facebook      M           13.0       16.40   \n",
       "1998    South America           youtube      F           16.0       18.31   \n",
       "1999    North America         instagram      F           10.0       14.62   \n",
       "\n",
       "      avg_price  time_on_site  pages_visited  converted_Fri  \n",
       "0        273.69         216.0           24.0            1.0  \n",
       "1        357.16         166.0           26.0            0.0  \n",
       "3        280.24         186.0           22.0            0.0  \n",
       "4        232.21         223.0           23.0            1.0  \n",
       "5        406.32         199.0           21.0            0.0  \n",
       "...         ...           ...            ...            ...  \n",
       "1995     286.30         178.0           25.0            0.0  \n",
       "1996     228.51         228.0           26.0            0.0  \n",
       "1997     262.72         174.0           20.0            0.0  \n",
       "1998     258.76         189.0           17.0            1.0  \n",
       "1999     298.04         171.0           20.0            1.0  \n",
       "\n",
       "[1859 rows x 9 columns]"
      ]
     },
     "execution_count": 420,
     "metadata": {},
     "output_type": "execute_result"
    }
   ],
   "source": [
    "useful_columns = ['visitor_location', 'marketing_channel', 'gender',\n",
    "       'product_views', 'avg_rating', 'avg_price', 'time_on_site',\n",
    "       'pages_visited', 'converted_Fri']\n",
    "\n",
    "df2 = df[useful_columns]\n",
    "df2"
   ]
  },
  {
   "cell_type": "code",
   "execution_count": 421,
   "metadata": {},
   "outputs": [
    {
     "name": "stdout",
     "output_type": "stream",
     "text": [
      "<class 'pandas.core.frame.DataFrame'>\n",
      "Index: 1859 entries, 0 to 1999\n",
      "Data columns (total 9 columns):\n",
      " #   Column             Non-Null Count  Dtype  \n",
      "---  ------             --------------  -----  \n",
      " 0   visitor_location   1859 non-null   object \n",
      " 1   marketing_channel  1859 non-null   object \n",
      " 2   gender             1859 non-null   object \n",
      " 3   product_views      1859 non-null   float64\n",
      " 4   avg_rating         1859 non-null   float64\n",
      " 5   avg_price          1859 non-null   float64\n",
      " 6   time_on_site       1859 non-null   float64\n",
      " 7   pages_visited      1859 non-null   float64\n",
      " 8   converted_Fri      1859 non-null   float64\n",
      "dtypes: float64(6), object(3)\n",
      "memory usage: 145.2+ KB\n"
     ]
    }
   ],
   "source": [
    "df2.info()"
   ]
  },
  {
   "cell_type": "code",
   "execution_count": 422,
   "metadata": {},
   "outputs": [
    {
     "data": {
      "text/plain": [
       "Index(['visitor_location', 'marketing_channel', 'gender', 'product_views',\n",
       "       'avg_rating', 'avg_price', 'time_on_site', 'pages_visited',\n",
       "       'converted_Fri'],\n",
       "      dtype='object')"
      ]
     },
     "execution_count": 422,
     "metadata": {},
     "output_type": "execute_result"
    }
   ],
   "source": [
    "df2.columns"
   ]
  },
  {
   "cell_type": "code",
   "execution_count": 423,
   "metadata": {},
   "outputs": [
    {
     "data": {
      "text/html": [
       "<div>\n",
       "<style scoped>\n",
       "    .dataframe tbody tr th:only-of-type {\n",
       "        vertical-align: middle;\n",
       "    }\n",
       "\n",
       "    .dataframe tbody tr th {\n",
       "        vertical-align: top;\n",
       "    }\n",
       "\n",
       "    .dataframe thead th {\n",
       "        text-align: right;\n",
       "    }\n",
       "</style>\n",
       "<table border=\"1\" class=\"dataframe\">\n",
       "  <thead>\n",
       "    <tr style=\"text-align: right;\">\n",
       "      <th></th>\n",
       "      <th>visitor_location</th>\n",
       "      <th>marketing_channel</th>\n",
       "      <th>gender</th>\n",
       "      <th>product_views</th>\n",
       "      <th>avg_rating</th>\n",
       "      <th>avg_price</th>\n",
       "      <th>time_on_site</th>\n",
       "      <th>pages_visited</th>\n",
       "      <th>converted_Fri</th>\n",
       "    </tr>\n",
       "  </thead>\n",
       "  <tbody>\n",
       "    <tr>\n",
       "      <th>count</th>\n",
       "      <td>1859</td>\n",
       "      <td>1859</td>\n",
       "      <td>1859</td>\n",
       "      <td>1859.000000</td>\n",
       "      <td>1859.000000</td>\n",
       "      <td>1859.000000</td>\n",
       "      <td>1859.000000</td>\n",
       "      <td>1859.000000</td>\n",
       "      <td>1859.000000</td>\n",
       "    </tr>\n",
       "    <tr>\n",
       "      <th>unique</th>\n",
       "      <td>5</td>\n",
       "      <td>5</td>\n",
       "      <td>2</td>\n",
       "      <td>NaN</td>\n",
       "      <td>NaN</td>\n",
       "      <td>NaN</td>\n",
       "      <td>NaN</td>\n",
       "      <td>NaN</td>\n",
       "      <td>NaN</td>\n",
       "    </tr>\n",
       "    <tr>\n",
       "      <th>top</th>\n",
       "      <td>South America</td>\n",
       "      <td>instagram</td>\n",
       "      <td>F</td>\n",
       "      <td>NaN</td>\n",
       "      <td>NaN</td>\n",
       "      <td>NaN</td>\n",
       "      <td>NaN</td>\n",
       "      <td>NaN</td>\n",
       "      <td>NaN</td>\n",
       "    </tr>\n",
       "    <tr>\n",
       "      <th>freq</th>\n",
       "      <td>402</td>\n",
       "      <td>398</td>\n",
       "      <td>1006</td>\n",
       "      <td>NaN</td>\n",
       "      <td>NaN</td>\n",
       "      <td>NaN</td>\n",
       "      <td>NaN</td>\n",
       "      <td>NaN</td>\n",
       "      <td>NaN</td>\n",
       "    </tr>\n",
       "    <tr>\n",
       "      <th>mean</th>\n",
       "      <td>NaN</td>\n",
       "      <td>NaN</td>\n",
       "      <td>NaN</td>\n",
       "      <td>12.242604</td>\n",
       "      <td>15.025654</td>\n",
       "      <td>300.286068</td>\n",
       "      <td>200.044110</td>\n",
       "      <td>20.131253</td>\n",
       "      <td>0.324368</td>\n",
       "    </tr>\n",
       "    <tr>\n",
       "      <th>std</th>\n",
       "      <td>NaN</td>\n",
       "      <td>NaN</td>\n",
       "      <td>NaN</td>\n",
       "      <td>4.832924</td>\n",
       "      <td>2.610839</td>\n",
       "      <td>51.022241</td>\n",
       "      <td>25.681124</td>\n",
       "      <td>4.518946</td>\n",
       "      <td>0.468264</td>\n",
       "    </tr>\n",
       "    <tr>\n",
       "      <th>min</th>\n",
       "      <td>NaN</td>\n",
       "      <td>NaN</td>\n",
       "      <td>NaN</td>\n",
       "      <td>0.000000</td>\n",
       "      <td>7.360000</td>\n",
       "      <td>137.600000</td>\n",
       "      <td>120.000000</td>\n",
       "      <td>9.000000</td>\n",
       "      <td>0.000000</td>\n",
       "    </tr>\n",
       "    <tr>\n",
       "      <th>25%</th>\n",
       "      <td>NaN</td>\n",
       "      <td>NaN</td>\n",
       "      <td>NaN</td>\n",
       "      <td>9.000000</td>\n",
       "      <td>13.270000</td>\n",
       "      <td>263.760000</td>\n",
       "      <td>183.000000</td>\n",
       "      <td>17.000000</td>\n",
       "      <td>0.000000</td>\n",
       "    </tr>\n",
       "    <tr>\n",
       "      <th>50%</th>\n",
       "      <td>NaN</td>\n",
       "      <td>NaN</td>\n",
       "      <td>NaN</td>\n",
       "      <td>12.000000</td>\n",
       "      <td>14.980000</td>\n",
       "      <td>299.910000</td>\n",
       "      <td>200.000000</td>\n",
       "      <td>20.000000</td>\n",
       "      <td>0.000000</td>\n",
       "    </tr>\n",
       "    <tr>\n",
       "      <th>75%</th>\n",
       "      <td>NaN</td>\n",
       "      <td>NaN</td>\n",
       "      <td>NaN</td>\n",
       "      <td>16.000000</td>\n",
       "      <td>16.845000</td>\n",
       "      <td>333.920000</td>\n",
       "      <td>218.000000</td>\n",
       "      <td>23.000000</td>\n",
       "      <td>1.000000</td>\n",
       "    </tr>\n",
       "    <tr>\n",
       "      <th>max</th>\n",
       "      <td>NaN</td>\n",
       "      <td>NaN</td>\n",
       "      <td>NaN</td>\n",
       "      <td>28.000000</td>\n",
       "      <td>22.870000</td>\n",
       "      <td>460.640000</td>\n",
       "      <td>275.000000</td>\n",
       "      <td>35.000000</td>\n",
       "      <td>1.000000</td>\n",
       "    </tr>\n",
       "  </tbody>\n",
       "</table>\n",
       "</div>"
      ],
      "text/plain": [
       "       visitor_location marketing_channel gender  product_views   avg_rating  \\\n",
       "count              1859              1859   1859    1859.000000  1859.000000   \n",
       "unique                5                 5      2            NaN          NaN   \n",
       "top       South America         instagram      F            NaN          NaN   \n",
       "freq                402               398   1006            NaN          NaN   \n",
       "mean                NaN               NaN    NaN      12.242604    15.025654   \n",
       "std                 NaN               NaN    NaN       4.832924     2.610839   \n",
       "min                 NaN               NaN    NaN       0.000000     7.360000   \n",
       "25%                 NaN               NaN    NaN       9.000000    13.270000   \n",
       "50%                 NaN               NaN    NaN      12.000000    14.980000   \n",
       "75%                 NaN               NaN    NaN      16.000000    16.845000   \n",
       "max                 NaN               NaN    NaN      28.000000    22.870000   \n",
       "\n",
       "          avg_price  time_on_site  pages_visited  converted_Fri  \n",
       "count   1859.000000   1859.000000    1859.000000    1859.000000  \n",
       "unique          NaN           NaN            NaN            NaN  \n",
       "top             NaN           NaN            NaN            NaN  \n",
       "freq            NaN           NaN            NaN            NaN  \n",
       "mean     300.286068    200.044110      20.131253       0.324368  \n",
       "std       51.022241     25.681124       4.518946       0.468264  \n",
       "min      137.600000    120.000000       9.000000       0.000000  \n",
       "25%      263.760000    183.000000      17.000000       0.000000  \n",
       "50%      299.910000    200.000000      20.000000       0.000000  \n",
       "75%      333.920000    218.000000      23.000000       1.000000  \n",
       "max      460.640000    275.000000      35.000000       1.000000  "
      ]
     },
     "execution_count": 423,
     "metadata": {},
     "output_type": "execute_result"
    }
   ],
   "source": [
    "df2.describe(include='all')"
   ]
  },
  {
   "cell_type": "code",
   "execution_count": 424,
   "metadata": {},
   "outputs": [
    {
     "data": {
      "text/plain": [
       "visitor_location        5\n",
       "marketing_channel       5\n",
       "gender                  2\n",
       "product_views          28\n",
       "avg_rating           1163\n",
       "avg_price            1804\n",
       "time_on_site          137\n",
       "pages_visited          27\n",
       "converted_Fri           2\n",
       "dtype: int64"
      ]
     },
     "execution_count": 424,
     "metadata": {},
     "output_type": "execute_result"
    }
   ],
   "source": [
    "df2.nunique()"
   ]
  },
  {
   "cell_type": "markdown",
   "metadata": {},
   "source": [
    "* Deal with target variable"
   ]
  },
  {
   "cell_type": "code",
   "execution_count": 425,
   "metadata": {},
   "outputs": [
    {
     "data": {
      "text/html": [
       "<div>\n",
       "<style scoped>\n",
       "    .dataframe tbody tr th:only-of-type {\n",
       "        vertical-align: middle;\n",
       "    }\n",
       "\n",
       "    .dataframe tbody tr th {\n",
       "        vertical-align: top;\n",
       "    }\n",
       "\n",
       "    .dataframe thead th {\n",
       "        text-align: right;\n",
       "    }\n",
       "</style>\n",
       "<table border=\"1\" class=\"dataframe\">\n",
       "  <thead>\n",
       "    <tr style=\"text-align: right;\">\n",
       "      <th></th>\n",
       "      <th>visitor_location</th>\n",
       "      <th>marketing_channel</th>\n",
       "      <th>gender</th>\n",
       "      <th>product_views</th>\n",
       "      <th>avg_rating</th>\n",
       "      <th>avg_price</th>\n",
       "      <th>time_on_site</th>\n",
       "      <th>pages_visited</th>\n",
       "    </tr>\n",
       "    <tr>\n",
       "      <th>converted_Fri</th>\n",
       "      <th></th>\n",
       "      <th></th>\n",
       "      <th></th>\n",
       "      <th></th>\n",
       "      <th></th>\n",
       "      <th></th>\n",
       "      <th></th>\n",
       "      <th></th>\n",
       "    </tr>\n",
       "  </thead>\n",
       "  <tbody>\n",
       "    <tr>\n",
       "      <th>0.0</th>\n",
       "      <td>1256</td>\n",
       "      <td>1256</td>\n",
       "      <td>1256</td>\n",
       "      <td>1256</td>\n",
       "      <td>1256</td>\n",
       "      <td>1256</td>\n",
       "      <td>1256</td>\n",
       "      <td>1256</td>\n",
       "    </tr>\n",
       "    <tr>\n",
       "      <th>1.0</th>\n",
       "      <td>603</td>\n",
       "      <td>603</td>\n",
       "      <td>603</td>\n",
       "      <td>603</td>\n",
       "      <td>603</td>\n",
       "      <td>603</td>\n",
       "      <td>603</td>\n",
       "      <td>603</td>\n",
       "    </tr>\n",
       "  </tbody>\n",
       "</table>\n",
       "</div>"
      ],
      "text/plain": [
       "               visitor_location  marketing_channel  gender  product_views  \\\n",
       "converted_Fri                                                               \n",
       "0.0                        1256               1256    1256           1256   \n",
       "1.0                         603                603     603            603   \n",
       "\n",
       "               avg_rating  avg_price  time_on_site  pages_visited  \n",
       "converted_Fri                                                      \n",
       "0.0                  1256       1256          1256           1256  \n",
       "1.0                   603        603           603            603  "
      ]
     },
     "execution_count": 425,
     "metadata": {},
     "output_type": "execute_result"
    }
   ],
   "source": [
    "# univariate analysis - check the target variable\n",
    "df2.groupby('converted_Fri').count()"
   ]
  },
  {
   "cell_type": "markdown",
   "metadata": {},
   "source": [
    "*** It's a classification question, we will make classification model."
   ]
  },
  {
   "cell_type": "markdown",
   "metadata": {},
   "source": [
    "* Categorical Variables\n",
    "\n",
    "** 'visitor_location', 'marketing_channel', 'gender', 'converted_Fri'"
   ]
  },
  {
   "cell_type": "markdown",
   "metadata": {},
   "source": [
    "* Numerical Variables\n",
    "\n",
    "** 'avg_rating', 'avg_price',  'product_views', 'time_on_site','pages_visited'"
   ]
  },
  {
   "cell_type": "markdown",
   "metadata": {},
   "source": [
    "##### 3.2 Data Visualization"
   ]
  },
  {
   "cell_type": "markdown",
   "metadata": {},
   "source": [
    "* Numerical Variables"
   ]
  },
  {
   "cell_type": "code",
   "execution_count": 426,
   "metadata": {},
   "outputs": [
    {
     "data": {
      "image/png": "[encoded data removed]",
      "text/plain": [
       "<Figure size 1080x720 with 6 Axes>"
      ]
     },
     "metadata": {
      "needs_background": "light"
     },
     "output_type": "display_data"
    }
   ],
   "source": [
    "df2.hist(figsize=(15,10))\n",
    "plt.show()"
   ]
  },
  {
   "cell_type": "code",
   "execution_count": 427,
   "metadata": {},
   "outputs": [
    {
     "data": {
      "text/plain": [
       "(0.0, 1.0, 0.0, 1.0)"
      ]
     },
     "execution_count": 427,
     "metadata": {},
     "output_type": "execute_result"
    },
    {
     "data": {
      "image/png": "[encoded data removed]",
      "text/plain": [
       "<Figure size 1440x1080 with 6 Axes>"
      ]
     },
     "metadata": {
      "needs_background": "light"
     },
     "output_type": "display_data"
    }
   ],
   "source": [
    "fig, ((ax1, ax2,), (ax3, ax4), (ax5, _)) = plt.subplots(3,2, figsize=(20,15))\n",
    "\n",
    "sns.boxplot(x='converted_Fri',y='avg_rating', data=df2, ax=ax1)\n",
    "sns.boxplot(x='converted_Fri',y='avg_price', data=df2, ax=ax2)\n",
    "sns.boxplot(x='converted_Fri',y='product_views', data=df2, ax=ax3)\n",
    "sns.boxplot(x='converted_Fri',y='time_on_site', data=df2, ax=ax4)\n",
    "sns.boxplot(x='converted_Fri',y='pages_visited', data=df2, ax=ax5)\n",
    "\n",
    "_.axis('off')"
   ]
  },
  {
   "cell_type": "markdown",
   "metadata": {},
   "source": [
    "* Deal with Outliers"
   ]
  },
  {
   "cell_type": "code",
   "execution_count": 428,
   "metadata": {},
   "outputs": [],
   "source": [
    "df2_product_views_outliers1 = df2[df2['product_views'] > 21].index\n",
    "df2_product_views_outliers2 = df2[df2['product_views'] <= 5].index"
   ]
  },
  {
   "cell_type": "code",
   "execution_count": 429,
   "metadata": {},
   "outputs": [],
   "source": [
    "df2 = df2.drop(df2_product_views_outliers1)\n",
    "df2 = df2.drop(df2_product_views_outliers2)"
   ]
  },
  {
   "cell_type": "code",
   "execution_count": 430,
   "metadata": {},
   "outputs": [
    {
     "data": {
      "text/plain": [
       "(0.0, 1.0, 0.0, 1.0)"
      ]
     },
     "execution_count": 430,
     "metadata": {},
     "output_type": "execute_result"
    },
    {
     "data": {
      "image/png": "[encoded data removed]",
      "text/plain": [
       "<Figure size 1440x1080 with 6 Axes>"
      ]
     },
     "metadata": {
      "needs_background": "light"
     },
     "output_type": "display_data"
    }
   ],
   "source": [
    "fig, ((ax1, ax2,), (ax3, ax4), (ax5, _)) = plt.subplots(3,2, figsize=(20,15))\n",
    "\n",
    "sns.boxplot(x='converted_Fri',y='avg_rating', data=df2, ax=ax1)\n",
    "sns.boxplot(x='converted_Fri',y='avg_price', data=df2, ax=ax2)\n",
    "sns.boxplot(x='converted_Fri',y='product_views', data=df2, ax=ax3)\n",
    "sns.boxplot(x='converted_Fri',y='time_on_site', data=df2, ax=ax4)\n",
    "sns.boxplot(x='converted_Fri',y='pages_visited', data=df2, ax=ax5)\n",
    "\n",
    "_.axis('off')"
   ]
  },
  {
   "cell_type": "markdown",
   "metadata": {},
   "source": [
    "### 4. Feature Engineering"
   ]
  },
  {
   "cell_type": "markdown",
   "metadata": {},
   "source": [
    "##### 4.1 Transformation"
   ]
  },
  {
   "cell_type": "markdown",
   "metadata": {},
   "source": [
    "* Covert numerical variables to categorical variables"
   ]
  },
  {
   "cell_type": "code",
   "execution_count": 431,
   "metadata": {},
   "outputs": [
    {
     "data": {
      "text/plain": [
       "visitor_location        5\n",
       "marketing_channel       5\n",
       "gender                  2\n",
       "product_views          16\n",
       "avg_rating           1073\n",
       "avg_price            1603\n",
       "time_on_site          137\n",
       "pages_visited          27\n",
       "converted_Fri           2\n",
       "dtype: int64"
      ]
     },
     "execution_count": 431,
     "metadata": {},
     "output_type": "execute_result"
    }
   ],
   "source": [
    "df2.nunique()"
   ]
  },
  {
   "cell_type": "code",
   "execution_count": 432,
   "metadata": {},
   "outputs": [
    {
     "data": {
      "text/plain": [
       "product_views\n",
       "13.0    156\n",
       "12.0    145\n",
       "11.0    144\n",
       "10.0    138\n",
       "14.0    132\n",
       "9.0     123\n",
       "15.0    119\n",
       "16.0    100\n",
       "8.0      99\n",
       "7.0      95\n",
       "17.0     95\n",
       "18.0     94\n",
       "6.0      74\n",
       "19.0     56\n",
       "20.0     48\n",
       "21.0     34\n",
       "Name: count, dtype: int64"
      ]
     },
     "execution_count": 432,
     "metadata": {},
     "output_type": "execute_result"
    }
   ],
   "source": [
    "df2['product_views'].value_counts()"
   ]
  },
  {
   "cell_type": "code",
   "execution_count": 433,
   "metadata": {},
   "outputs": [
    {
     "name": "stdout",
     "output_type": "stream",
     "text": [
      "product_views\n",
      "high_product_views    979\n",
      "low_product_views     673\n",
      "Name: count, dtype: int64\n"
     ]
    }
   ],
   "source": [
    "def product_views(x):\n",
    "    if x >= 0 and x < 12:\n",
    "        return 'low_product_views'\n",
    "    elif x >= 12:\n",
    "        return \"high_product_views\"\n",
    "\n",
    "df2['product_views'] = df2['product_views'].apply(product_views)\n",
    "\n",
    "product_views_counts = df2['product_views'].value_counts()\n",
    "\n",
    "print(product_views_counts)"
   ]
  },
  {
   "cell_type": "code",
   "execution_count": 434,
   "metadata": {},
   "outputs": [
    {
     "data": {
      "text/plain": [
       "time_on_site\n",
       "208.0    32\n",
       "202.0    31\n",
       "198.0    31\n",
       "199.0    29\n",
       "183.0    29\n",
       "         ..\n",
       "135.0     1\n",
       "265.0     1\n",
       "136.0     1\n",
       "120.0     1\n",
       "256.0     1\n",
       "Name: count, Length: 137, dtype: int64"
      ]
     },
     "execution_count": 434,
     "metadata": {},
     "output_type": "execute_result"
    }
   ],
   "source": [
    "df2['time_on_site'].value_counts()"
   ]
  },
  {
   "cell_type": "code",
   "execution_count": 435,
   "metadata": {},
   "outputs": [
    {
     "name": "stdout",
     "output_type": "stream",
     "text": [
      "time_on_site\n",
      "high_time_on_site    835\n",
      "low_time_on_site     817\n",
      "Name: count, dtype: int64\n"
     ]
    }
   ],
   "source": [
    "def time_on_site(x):\n",
    "    if x >= 0 and x < 200:\n",
    "        return 'low_time_on_site'\n",
    "    elif x >= 200:\n",
    "        return \"high_time_on_site\"\n",
    "\n",
    "df2['time_on_site'] = df2['time_on_site'].apply(time_on_site)\n",
    "\n",
    "time_on_site_counts = df2['time_on_site'].value_counts()\n",
    "\n",
    "print(time_on_site_counts)"
   ]
  },
  {
   "cell_type": "code",
   "execution_count": 437,
   "metadata": {},
   "outputs": [
    {
     "data": {
      "text/plain": [
       "pages_visited\n",
       "18.0    148\n",
       "17.0    142\n",
       "20.0    133\n",
       "19.0    133\n",
       "21.0    128\n",
       "23.0    126\n",
       "22.0    119\n",
       "24.0     99\n",
       "25.0     84\n",
       "16.0     81\n",
       "15.0     78\n",
       "26.0     73\n",
       "14.0     59\n",
       "27.0     41\n",
       "28.0     40\n",
       "13.0     38\n",
       "12.0     33\n",
       "11.0     24\n",
       "29.0     21\n",
       "10.0     16\n",
       "30.0     15\n",
       "9.0       6\n",
       "32.0      6\n",
       "31.0      5\n",
       "33.0      2\n",
       "35.0      1\n",
       "34.0      1\n",
       "Name: count, dtype: int64"
      ]
     },
     "execution_count": 437,
     "metadata": {},
     "output_type": "execute_result"
    }
   ],
   "source": [
    "df2['pages_visited'].value_counts()"
   ]
  },
  {
   "cell_type": "code",
   "execution_count": 438,
   "metadata": {},
   "outputs": [
    {
     "name": "stdout",
     "output_type": "stream",
     "text": [
      "pages_visited\n",
      "high_pages_visited    894\n",
      "low_pages_visited     758\n",
      "Name: count, dtype: int64\n"
     ]
    }
   ],
   "source": [
    "def pages_visited (x):\n",
    "    if x >= 0 and x < 20:\n",
    "        return 'low_pages_visited'\n",
    "    elif x >= 20:\n",
    "        return \"high_pages_visited\"\n",
    "\n",
    "df2['pages_visited'] = df2['pages_visited'].apply(pages_visited)\n",
    "\n",
    "pages_visited_counts = df2['pages_visited'].value_counts()\n",
    "\n",
    "print(pages_visited_counts)"
   ]
  },
  {
   "cell_type": "markdown",
   "metadata": {},
   "source": [
    "##### 4.2 Feature Selection"
   ]
  },
  {
   "cell_type": "markdown",
   "metadata": {},
   "source": [
    "### 5. Model Development"
   ]
  },
  {
   "cell_type": "markdown",
   "metadata": {},
   "source": [
    "* Categorical Variables\n",
    "\n",
    "** 'visitor_location', 'marketing_channel', 'gender', 'product_views', 'time_on_site','pages_visited'\n",
    "\n",
    "* Numerical Variables\n",
    "\n",
    "** 'avg_rating', 'avg_price'"
   ]
  },
  {
   "cell_type": "code",
   "execution_count": 439,
   "metadata": {},
   "outputs": [],
   "source": [
    "cat = ['visitor_location', 'marketing_channel', 'gender', 'product_views', 'time_on_site','pages_visited']\n",
    "num = ['avg_rating', 'avg_price']\n"
   ]
  },
  {
   "cell_type": "markdown",
   "metadata": {},
   "source": [
    "* Build Pipeline"
   ]
  },
  {
   "cell_type": "code",
   "execution_count": 440,
   "metadata": {},
   "outputs": [],
   "source": [
    "cat_transformer = OneHotEncoder(handle_unknown='ignore')\n",
    "num_transformer = StandardScaler()\n",
    "preprocessor = ColumnTransformer(transformers = [('cat',cat_transformer, cat),\n",
    "                                                 ('num', num_transformer, num)])"
   ]
  },
  {
   "cell_type": "markdown",
   "metadata": {},
   "source": [
    "* Split training and testing sets"
   ]
  },
  {
   "cell_type": "code",
   "execution_count": 442,
   "metadata": {},
   "outputs": [],
   "source": [
    "X_train, X_test, y_train, y_test = train_test_split(df2[cat+num], df2['converted_Fri'], test_size=0.3, random_state=1)"
   ]
  },
  {
   "cell_type": "code",
   "execution_count": 443,
   "metadata": {},
   "outputs": [],
   "source": [
    "X_train_transformed = preprocessor.fit_transform(X_train)\n",
    "X_test_transformed = preprocessor.transform(X_test)"
   ]
  },
  {
   "cell_type": "code",
   "execution_count": 444,
   "metadata": {},
   "outputs": [
    {
     "data": {
      "text/plain": [
       "(1156, 20)"
      ]
     },
     "execution_count": 444,
     "metadata": {},
     "output_type": "execute_result"
    }
   ],
   "source": [
    "X_train_transformed.shape"
   ]
  },
  {
   "cell_type": "markdown",
   "metadata": {},
   "source": [
    "##### 5.1 Logistic Regression"
   ]
  },
  {
   "cell_type": "code",
   "execution_count": 445,
   "metadata": {},
   "outputs": [],
   "source": [
    "log = LogisticRegression(max_iter=1000)\n",
    "\n",
    "log_reg = log.fit(X_train_transformed, y_train)\n",
    "y_pred_log = log.predict(X_test_transformed)"
   ]
  },
  {
   "cell_type": "code",
   "execution_count": 446,
   "metadata": {},
   "outputs": [
    {
     "name": "stdout",
     "output_type": "stream",
     "text": [
      "Cross-validation scores for logistic regression: 0.493.\n"
     ]
    }
   ],
   "source": [
    "cv_scores_log = cross_val_score(log, X_train_transformed, y_train, cv=10, scoring='f1')\n",
    "print(f\"Cross-validation scores for logistic regression: {round(cv_scores_log.mean(), 3)}.\")"
   ]
  },
  {
   "cell_type": "code",
   "execution_count": 447,
   "metadata": {},
   "outputs": [
    {
     "data": {
      "text/plain": [
       "array([[259,  45],\n",
       "       [108,  84]], dtype=int64)"
      ]
     },
     "execution_count": 447,
     "metadata": {},
     "output_type": "execute_result"
    }
   ],
   "source": [
    "matrix_log = confusion_matrix(y_test, y_pred_log)\n",
    "matrix_log"
   ]
  },
  {
   "cell_type": "code",
   "execution_count": 448,
   "metadata": {},
   "outputs": [
    {
     "name": "stdout",
     "output_type": "stream",
     "text": [
      "The accuracy of logistic regression is 0.692.\n",
      "The recall of logistic regression is 0.438.\n",
      "The precission of logistic regression is 0.651.\n",
      "The f1 of logistic regression is 0.523.\n"
     ]
    }
   ],
   "source": [
    "accuracy_log = round(accuracy_score(y_test, y_pred_log), 3)\n",
    "recall_log = round(recall_score(y_test, y_pred_log), 3)\n",
    "precision_log = round(precision_score(y_test, y_pred_log), 3)\n",
    "f1_log = round(f1_score(y_test, y_pred_log,), 3)\n",
    "\n",
    "print(f\"The accuracy of logistic regression is {accuracy_log}.\")\n",
    "print(f\"The recall of logistic regression is {recall_log}.\")\n",
    "print(f\"The precission of logistic regression is {precision_log}.\")\n",
    "print(f\"The f1 of logistic regression is {f1_log}.\")"
   ]
  },
  {
   "cell_type": "code",
   "execution_count": 449,
   "metadata": {},
   "outputs": [
    {
     "data": {
      "image/png": "[encoded data removed]",
      "text/plain": [
       "<Figure size 432x288 with 1 Axes>"
      ]
     },
     "metadata": {
      "needs_background": "light"
     },
     "output_type": "display_data"
    }
   ],
   "source": [
    "fpr_log, tpr_log, thresholds_log = roc_curve(y_test, log.predict_proba(X_test_transformed)[:,1])\n",
    "\n",
    "plt.plot(fpr_log,tpr_log)\n",
    "plt.xlabel('False Positive Rate')\n",
    "plt.ylabel('True Positive Rate')\n",
    "plt.show()"
   ]
  },
  {
   "cell_type": "code",
   "execution_count": 450,
   "metadata": {},
   "outputs": [
    {
     "data": {
      "text/plain": [
       "array([0.        , 0.        , 0.10189407, 0.10138839, 0.16030912,\n",
       "       0.16004171, 0.20243853, 0.20209972, 0.21435913, 0.21363859,\n",
       "       0.23618635, 0.23498641, 0.28340427, 0.28292024, 0.2916275 ,\n",
       "       0.29112771, 0.29956795, 0.29905278, 0.32301392, 0.32245652,\n",
       "       0.33004477, 0.32947326, 0.39110168, 0.3904221 , 0.39666925,\n",
       "       0.39597758, 0.40211714, 0.40141352, 0.40745015, 0.4067347 ,\n",
       "       0.41267274, 0.41194557, 0.42355194, 0.42280295, 0.43407968,\n",
       "       0.43330935, 0.44428094, 0.4434897 , 0.45417773, 0.45255276,\n",
       "       0.45778476, 0.45696066, 0.46212423, 0.46128931, 0.49107997,\n",
       "       0.49018953, 0.50904982, 0.50812343, 0.52179735, 0.5208443 ,\n",
       "       0.54712165, 0.54611868, 0.57114459, 0.57009372, 0.57415138,\n",
       "       0.57309108, 0.58110673, 0.57895048, 0.58682772, 0.58573187,\n",
       "       0.59733165, 0.596212  , 0.61502456, 0.60804863, 0.61170061,\n",
       "       0.61052313, 0.61414644, 0.61295968, 0.61655478, 0.61295968,\n",
       "       0.6165131 , 0.61409064, 0.61760982, 0.61638804, 0.6268066 ,\n",
       "       0.62306444, 0.62987409, 0.62860801, 0.63533128, 0.63276427,\n",
       "       0.63939026, 0.63678581, 0.64655803, 0.64390275, 0.64711425,\n",
       "       0.64577585, 0.64896489, 0.64761709, 0.65078394, 0.64533795,\n",
       "       0.65157325, 0.64880647, 0.6518887 , 0.65049429, 0.65660235,\n",
       "       0.65519182, 0.66422937, 0.6627963 , 0.66874078, 0.66729172,\n",
       "       0.67317105, 0.67170604, 0.67462018, 0.6731456 , 0.67604086,\n",
       "       0.6715785 , 0.67729416, 0.67427725, 0.67991983, 0.66916336,\n",
       "       0.6828491 , 0.6812666 , 0.68396469, 0.67757236, 0.68023474,\n",
       "       0.6770032 , 0.6796426 , 0.67474715, 0.68254795, 0.67922653,\n",
       "       0.68179451, 0.68012139, 0.68267345, 0.67421372, 0.67922653,\n",
       "       0.67578739, 0.67826735, 0.67653487, 0.68876976, 0.68700141,\n",
       "       0.69422054, 0.69063281, 0.69774071, 0.69592131, 0.69826844,\n",
       "       0.69643811, 0.70109661, 0.69924919, 0.70156076, 0.69409714,\n",
       "       0.69637661, 0.69070723, 0.69296077, 0.68530351, 0.68752492,\n",
       "       0.67189731, 0.67621824, 0.67022505, 0.67235614, 0.67034007,\n",
       "       0.67245805, 0.67042952, 0.67253448, 0.6704934 , 0.67258543,\n",
       "       0.66225324, 0.66430675, 0.64951905, 0.65152066, 0.64937396,\n",
       "       0.65136286, 0.64703482, 0.64900449, 0.64023375, 0.64410227,\n",
       "       0.63964476, 0.64155701, 0.63252054, 0.63440025, 0.62751686,\n",
       "       0.63121906, 0.62656055, 0.6320328 , 0.62491776, 0.62671093,\n",
       "       0.61706864, 0.62058473, 0.60072085, 0.60241541, 0.59477347,\n",
       "       0.59644184, 0.58867871, 0.59032078, 0.58243195, 0.58404757,\n",
       "       0.5651588 , 0.56671786, 0.56396009, 0.56550731, 0.53707143,\n",
       "       0.53853684, 0.48298914, 0.48429983, 0.47438138, 0.47566176,\n",
       "       0.45511982, 0.45634162, 0.43843884, 0.43960958, 0.39727347,\n",
       "       0.39832864, 0.35989308, 0.36084392, 0.31766564, 0.3185005 ,\n",
       "       0.29168625, 0.29244883, 0.        ])"
      ]
     },
     "execution_count": 450,
     "metadata": {},
     "output_type": "execute_result"
    }
   ],
   "source": [
    "gmeans_log = np.sqrt(tpr_log*(1-fpr_log))\n",
    "gmeans_log"
   ]
  },
  {
   "cell_type": "code",
   "execution_count": 451,
   "metadata": {},
   "outputs": [
    {
     "data": {
      "text/plain": [
       "0.32601996285224993"
      ]
     },
     "execution_count": 451,
     "metadata": {},
     "output_type": "execute_result"
    }
   ],
   "source": [
    "thresholds_log[np.argmax(gmeans_log)]"
   ]
  },
  {
   "cell_type": "markdown",
   "metadata": {},
   "source": [
    "##### 5.2 Gaussian Naive Bayes"
   ]
  },
  {
   "cell_type": "code",
   "execution_count": 452,
   "metadata": {},
   "outputs": [],
   "source": [
    "nb = GaussianNB()\n",
    "\n",
    "nb_model = nb.fit(X_train_transformed, y_train)\n",
    "y_pred_nb = nb.predict(X_test_transformed)"
   ]
  },
  {
   "cell_type": "code",
   "execution_count": 454,
   "metadata": {},
   "outputs": [
    {
     "name": "stdout",
     "output_type": "stream",
     "text": [
      "Cross-validation scores for Naive Bayes: 0.561.\n"
     ]
    }
   ],
   "source": [
    "# Cross-validation for NB\n",
    "cv_scores_nb = cross_val_score(nb, X_train_transformed, y_train, cv=10, scoring='f1')\n",
    "\n",
    "print(f\"Cross-validation scores for Naive Bayes: {round(cv_scores_nb.mean(), 3)}.\")"
   ]
  },
  {
   "cell_type": "code",
   "execution_count": 455,
   "metadata": {},
   "outputs": [
    {
     "name": "stdout",
     "output_type": "stream",
     "text": [
      "The accuracy of Gaussian Naive Bayes is 0.692.\n",
      "The recall of Gaussian Naive Bayes is 0.641.\n",
      "The precission of Gaussian Naive Bayes is 0.594.\n",
      "The f1 of Gaussian Naive Bayes is 0.617.\n"
     ]
    }
   ],
   "source": [
    "accuracy_nb = round(accuracy_score(y_test, y_pred_nb), 3)\n",
    "recall_nb = round(recall_score(y_test, y_pred_nb), 3)\n",
    "precision_nb = round(precision_score(y_test, y_pred_nb), 3)\n",
    "f1_nb = round(f1_score(y_test, y_pred_nb), 3)\n",
    "\n",
    "print(f\"The accuracy of Gaussian Naive Bayes is {accuracy_nb}.\")\n",
    "print(f\"The recall of Gaussian Naive Bayes is {recall_nb}.\")\n",
    "print(f\"The precission of Gaussian Naive Bayes is {precision_nb}.\")\n",
    "print(f\"The f1 of Gaussian Naive Bayes is {f1_nb}.\")"
   ]
  },
  {
   "cell_type": "code",
   "execution_count": 457,
   "metadata": {},
   "outputs": [
    {
     "name": "stdout",
     "output_type": "stream",
     "text": [
      "Best parameters for Gaussian Naive Bayes:  {'var_smoothing': 0.002848035868435802}\n"
     ]
    }
   ],
   "source": [
    "# Hyperparameter tuning\n",
    "params_nb = {'var_smoothing': np.logspace(0,-9, num=100)}\n",
    "gridsearch_nb = GridSearchCV(nb, params_nb, cv=10, scoring='f1')\n",
    "\n",
    "nb_grid = gridsearch_nb.fit(X_train_transformed, y_train)\n",
    "\n",
    "print(\"Best parameters for Gaussian Naive Bayes: \", gridsearch_nb.best_params_)"
   ]
  },
  {
   "cell_type": "code",
   "execution_count": 458,
   "metadata": {},
   "outputs": [],
   "source": [
    "nb_best = GaussianNB(**gridsearch_nb.best_params_)\n",
    "\n",
    "# Fit the models with the best parameters\n",
    "nb_best_model = nb_best.fit(X_train_transformed, y_train)\n",
    "y_pred_nb_best = nb_best.predict(X_test_transformed)"
   ]
  },
  {
   "cell_type": "code",
   "execution_count": 459,
   "metadata": {},
   "outputs": [
    {
     "data": {
      "text/plain": [
       "array([[220,  84],\n",
       "       [ 69, 123]], dtype=int64)"
      ]
     },
     "execution_count": 459,
     "metadata": {},
     "output_type": "execute_result"
    }
   ],
   "source": [
    "matrix_nb = confusion_matrix(y_test, y_pred_nb_best)\n",
    "matrix_nb"
   ]
  },
  {
   "cell_type": "code",
   "execution_count": 461,
   "metadata": {},
   "outputs": [
    {
     "name": "stdout",
     "output_type": "stream",
     "text": [
      "Cross-validation scores for Gaussian Naive Bayes: 0.562.\n",
      "The accuracy of Gaussian Naive Bayes is 0.692.\n",
      "The recall of Gaussian Naive Bayes is 0.641.\n",
      "The precission of Gaussian Naive Bayes is 0.594.\n",
      "The f1 of Gaussian Naive Bayes is 0.617.\n"
     ]
    }
   ],
   "source": [
    "# Cross-validation for NB\n",
    "cv_scores_nb_best = cross_val_score(nb_best, X_train_transformed, y_train, cv=10, scoring='f1')\n",
    "print(f\"Cross-validation scores for Gaussian Naive Bayes: {round(cv_scores_nb_best.mean(), 3)}.\")\n",
    "\n",
    "\n",
    "accuracy_nb_best = round(accuracy_score(y_test, y_pred_nb_best), 3)\n",
    "recall_nb_best = round(recall_score(y_test, y_pred_nb_best), 3)\n",
    "precision_nb_best = round(precision_score(y_test, y_pred_nb_best), 3)\n",
    "f1_nb_best = round(f1_score(y_test, y_pred_nb_best), 3)\n",
    "\n",
    "print(f\"The accuracy of Gaussian Naive Bayes is {accuracy_nb_best}.\")\n",
    "print(f\"The recall of Gaussian Naive Bayes is {recall_nb_best}.\")\n",
    "print(f\"The precission of Gaussian Naive Bayes is {precision_nb_best}.\")\n",
    "print(f\"The f1 of Gaussian Naive Bayes is {f1_nb_best}.\")"
   ]
  },
  {
   "cell_type": "code",
   "execution_count": 462,
   "metadata": {},
   "outputs": [],
   "source": [
    "fpr_nb, tpr_nb, thresholds_nb = roc_curve(y_test, nb_best.predict_proba(X_test_transformed)[:,1])"
   ]
  },
  {
   "cell_type": "code",
   "execution_count": 463,
   "metadata": {},
   "outputs": [
    {
     "data": {
      "image/png": "[encoded data removed]",
      "text/plain": [
       "<Figure size 432x288 with 1 Axes>"
      ]
     },
     "metadata": {
      "needs_background": "light"
     },
     "output_type": "display_data"
    }
   ],
   "source": [
    "plt.plot(fpr_nb,tpr_nb)\n",
    "plt.xlabel('False Positive Rate')\n",
    "plt.ylabel('True Positive Rate')\n",
    "plt.show()"
   ]
  },
  {
   "cell_type": "code",
   "execution_count": 464,
   "metadata": {},
   "outputs": [
    {
     "data": {
      "text/plain": [
       "array([0.        , 0.07216878, 0.07204999, 0.12479424, 0.12417491,\n",
       "       0.17560984, 0.17502349, 0.18904698, 0.18872952, 0.20176035,\n",
       "       0.20107987, 0.21327741, 0.21255321, 0.2454353 , 0.24501611,\n",
       "       0.2916275 , 0.29062706, 0.31522931, 0.31468534, 0.35879649,\n",
       "       0.3581752 , 0.3649982 , 0.36372863, 0.37695943, 0.37629983,\n",
       "       0.41339864, 0.41267274, 0.46792691, 0.46710237, 0.47736958,\n",
       "       0.47652542, 0.48156816, 0.48071356, 0.50513061, 0.504231  ,\n",
       "       0.53200733, 0.5301039 , 0.54341402, 0.54145576, 0.55440076,\n",
       "       0.5523884 , 0.56499204, 0.56396009, 0.56809172, 0.56705031,\n",
       "       0.57924633, 0.57818056, 0.58218186, 0.57895048, 0.58290241,\n",
       "       0.58072333, 0.58851862, 0.58630197, 0.59396637, 0.59284037,\n",
       "       0.59662853, 0.59549317, 0.61404879, 0.61287582, 0.6165131 ,\n",
       "       0.61533091, 0.62609553, 0.62489034, 0.63195147, 0.62211505,\n",
       "       0.6255617 , 0.62431432, 0.62773524, 0.62647851, 0.62987409,\n",
       "       0.62733937, 0.63070315, 0.62686126, 0.63018681, 0.62369656,\n",
       "       0.62697058, 0.62565755, 0.64806667, 0.64533795, 0.6484631 ,\n",
       "       0.64570952, 0.65495643, 0.65355545, 0.65963517, 0.65821812,\n",
       "       0.66721469, 0.66577517, 0.67169329, 0.66731739, 0.67023783,\n",
       "       0.66581377, 0.67444239, 0.67294196, 0.67862089, 0.67710442,\n",
       "       0.67991983, 0.67839364, 0.68119115, 0.6796552 , 0.68243499,\n",
       "       0.68088927, 0.68640263, 0.68484085, 0.68757476, 0.68442794,\n",
       "       0.68713856, 0.68555346, 0.69626589, 0.68978885, 0.69503447,\n",
       "       0.68678941, 0.68936649, 0.68435284, 0.68690165, 0.685216  ,\n",
       "       0.69027302, 0.68857074, 0.69606901, 0.69434393, 0.69681931,\n",
       "       0.69159962, 0.69648731, 0.69472628, 0.69956763, 0.69778982,\n",
       "       0.70019186, 0.68939134, 0.69174824, 0.68992545, 0.69226815,\n",
       "       0.68859562, 0.69323268, 0.69137663, 0.69367739, 0.69181015,\n",
       "       0.69637661, 0.68499094, 0.68945346, 0.68365151, 0.68585329,\n",
       "       0.6477758 , 0.64984869, 0.63941705, 0.64145018, 0.62650586,\n",
       "       0.62848535, 0.62413592, 0.62804903, 0.6258492 , 0.62778983,\n",
       "       0.61888455, 0.62079175, 0.61853842, 0.62043287, 0.61130836,\n",
       "       0.61502456, 0.6103828 , 0.61587361, 0.60639806, 0.6081895 ,\n",
       "       0.60579032, 0.60934337, 0.60692052, 0.61219055, 0.59227657,\n",
       "       0.59733165, 0.59220424, 0.59386541, 0.56745805, 0.56904092,\n",
       "       0.55532707, 0.55686751, 0.55407618, 0.55560467, 0.54139247,\n",
       "       0.54287778, 0.52824226, 0.52968358, 0.46975404, 0.47102882,\n",
       "       0.46082482, 0.46454621, 0.38908138, 0.3901148 , 0.29568233,\n",
       "       0.29646353, 0.25515518, 0.25582576, 0.22155161, 0.22213083,\n",
       "       0.        ])"
      ]
     },
     "execution_count": 464,
     "metadata": {},
     "output_type": "execute_result"
    }
   ],
   "source": [
    "gmeans_nb = np.sqrt(tpr_nb*(1-fpr_nb))\n",
    "gmeans_nb"
   ]
  },
  {
   "cell_type": "code",
   "execution_count": 465,
   "metadata": {},
   "outputs": [
    {
     "data": {
      "text/plain": [
       "0.32796077370482773"
      ]
     },
     "execution_count": 465,
     "metadata": {},
     "output_type": "execute_result"
    }
   ],
   "source": [
    "thresholds_nb[np.argmax(gmeans_nb)]"
   ]
  },
  {
   "cell_type": "markdown",
   "metadata": {},
   "source": [
    "##### 5.3 KNeighborsClassifier"
   ]
  },
  {
   "cell_type": "code",
   "execution_count": 466,
   "metadata": {},
   "outputs": [],
   "source": [
    "knn = KNeighborsClassifier(n_neighbors=5)\n",
    "\n",
    "knn_model = knn.fit(X_train_transformed, y_train)\n",
    "y_pred_knn = knn.predict(X_test_transformed)"
   ]
  },
  {
   "cell_type": "code",
   "execution_count": 467,
   "metadata": {},
   "outputs": [
    {
     "name": "stdout",
     "output_type": "stream",
     "text": [
      "Cross-validation scores for Naive Bayes: 0.438.\n"
     ]
    }
   ],
   "source": [
    "# Cross-validation for KNeighborsClassifier\n",
    "cv_scores_knn = cross_val_score(knn, X_train_transformed, y_train, cv=10, scoring='f1')\n",
    "\n",
    "print(f\"Cross-validation scores for Naive Bayes: {round(cv_scores_knn.mean(), 3)}.\")"
   ]
  },
  {
   "cell_type": "code",
   "execution_count": 469,
   "metadata": {},
   "outputs": [
    {
     "name": "stdout",
     "output_type": "stream",
     "text": [
      "The accuracy of KNeighborsClassifier is 0.651.\n",
      "The recall of KNeighborsClassifier is 0.406.\n",
      "The precission of KNeighborsClassifier is 0.569.\n",
      "The f1 of KNeighborsClassifier is 0.474.\n"
     ]
    }
   ],
   "source": [
    "accuracy_knn = round(accuracy_score(y_test, y_pred_knn), 3)\n",
    "recall_knn = round(recall_score(y_test, y_pred_knn), 3)\n",
    "precision_knn = round(precision_score(y_test, y_pred_knn), 3)\n",
    "f1_knn = round(f1_score(y_test, y_pred_knn), 3)\n",
    "\n",
    "print(f\"The accuracy of KNeighborsClassifier is {accuracy_knn}.\")\n",
    "print(f\"The recall of KNeighborsClassifier is {recall_knn}.\")\n",
    "print(f\"The precission of KNeighborsClassifier is {precision_knn}.\")\n",
    "print(f\"The f1 of KNeighborsClassifier is {f1_knn}.\")"
   ]
  },
  {
   "cell_type": "code",
   "execution_count": 470,
   "metadata": {},
   "outputs": [
    {
     "name": "stdout",
     "output_type": "stream",
     "text": [
      "Best parameters for KNN:  {'weights': 'distance', 'n_neighbors': 18}\n"
     ]
    }
   ],
   "source": [
    "# Hyperparameter tuning\n",
    "params_knn = {'n_neighbors': list(range(1,100)), 'weights': ['uniform', 'distance']}\n",
    "randomsearch_knn = RandomizedSearchCV(knn, params_knn, cv=10, scoring='f1')\n",
    "\n",
    "rs_knn = randomsearch_knn.fit(X_train_transformed, y_train)\n",
    "\n",
    "print(\"Best parameters for KNN: \", randomsearch_knn.best_params_)"
   ]
  },
  {
   "cell_type": "code",
   "execution_count": 471,
   "metadata": {},
   "outputs": [],
   "source": [
    "knn_best = KNeighborsClassifier(**randomsearch_knn.best_params_)\n",
    "\n",
    "# Fit the model with the best parameters\n",
    "knn_best_model = knn_best.fit(X_train_transformed, y_train)\n",
    "y_pred_knn_best = knn_best.predict(X_test_transformed)"
   ]
  },
  {
   "cell_type": "code",
   "execution_count": 472,
   "metadata": {},
   "outputs": [
    {
     "data": {
      "text/plain": [
       "array([[255,  49],\n",
       "       [136,  56]], dtype=int64)"
      ]
     },
     "execution_count": 472,
     "metadata": {},
     "output_type": "execute_result"
    }
   ],
   "source": [
    "matrix_knn = confusion_matrix(y_test, y_pred_knn_best)\n",
    "matrix_knn"
   ]
  },
  {
   "cell_type": "code",
   "execution_count": 473,
   "metadata": {},
   "outputs": [
    {
     "name": "stdout",
     "output_type": "stream",
     "text": [
      "Cross-validation scores for KNeighborsClassifier: 0.705.\n",
      "The accuracy of Gaussian Naive Bayes is 0.627.\n",
      "The recall of Gaussian Naive Bayes is 0.292.\n",
      "The precission of Gaussian Naive Bayes is 0.533.\n",
      "The f1 of Gaussian Naive Bayes is 0.377.\n"
     ]
    }
   ],
   "source": [
    "# Cross-validation for KNeighborsClassifier\n",
    "cv_scores_knn_best = cross_val_score(knn_best, X_train_transformed, y_train, cv=5, scoring='roc_auc')\n",
    "print(f\"Cross-validation scores for KNeighborsClassifier: {round(cv_scores_knn_best.mean(), 3)}.\")\n",
    "\n",
    "\n",
    "accuracy_knn_best = round(accuracy_score(y_test, y_pred_knn_best), 3)\n",
    "recall_knn_best = round(recall_score(y_test, y_pred_knn_best), 3)\n",
    "precision_knn_best = round(precision_score(y_test, y_pred_knn_best), 3)\n",
    "f1_knn_best = round(f1_score(y_test, y_pred_knn_best), 3)\n",
    "\n",
    "print(f\"The accuracy of Gaussian Naive Bayes is {accuracy_knn_best}.\")\n",
    "print(f\"The recall of Gaussian Naive Bayes is {recall_knn_best}.\")\n",
    "print(f\"The precission of Gaussian Naive Bayes is {precision_knn_best}.\")\n",
    "print(f\"The f1 of Gaussian Naive Bayes is {f1_knn_best}.\")"
   ]
  },
  {
   "cell_type": "code",
   "execution_count": 474,
   "metadata": {},
   "outputs": [],
   "source": [
    "fpr_knn, tpr_knn, thresholds_knn = roc_curve(y_test, knn_best.predict_proba(X_test_transformed)[:,1])"
   ]
  },
  {
   "cell_type": "code",
   "execution_count": 475,
   "metadata": {},
   "outputs": [
    {
     "data": {
      "image/png": "[encoded data removed]",
      "text/plain": [
       "<Figure size 432x288 with 1 Axes>"
      ]
     },
     "metadata": {
      "needs_background": "light"
     },
     "output_type": "display_data"
    }
   ],
   "source": [
    "plt.plot(fpr_knn,tpr_knn)\n",
    "plt.xlabel('False Positive Rate')\n",
    "plt.ylabel('True Positive Rate')\n",
    "plt.show()"
   ]
  },
  {
   "cell_type": "code",
   "execution_count": 476,
   "metadata": {},
   "outputs": [
    {
     "data": {
      "text/plain": [
       "array([0.        , 0.        , 0.1764857 , 0.17619423, 0.19031152,\n",
       "       0.18968031, 0.21507725, 0.21435913, 0.22595436, 0.22443276,\n",
       "       0.23538707, 0.23378031, 0.24417557, 0.24375422, 0.25370743,\n",
       "       0.25282803, 0.30565418, 0.30512122, 0.3207785 , 0.32021721,\n",
       "       0.33511892, 0.33453047, 0.3417255 , 0.34052011, 0.34754189,\n",
       "       0.34568832, 0.35253429, 0.35126846, 0.35795989, 0.35731316,\n",
       "       0.37031059, 0.36626336, 0.37252473, 0.37183422, 0.43996019,\n",
       "       0.4383216 , 0.44863646, 0.44779553, 0.46280958, 0.46106641,\n",
       "       0.46594556, 0.46506225, 0.47465217, 0.47374893, 0.48313101,\n",
       "       0.4794288 , 0.4885616 , 0.48761385, 0.49210809, 0.49018953,\n",
       "       0.50338084, 0.50239285, 0.50670531, 0.50570688, 0.51840442,\n",
       "       0.5173789 , 0.52565748, 0.52461348, 0.52869613, 0.5276419 ,\n",
       "       0.53168519, 0.52741456, 0.5313951 , 0.52705711, 0.5613414 ,\n",
       "       0.5601804 , 0.57831389, 0.57711282, 0.58419423, 0.58297589,\n",
       "       0.58647727, 0.58401824, 0.58748425, 0.58375416, 0.58717796,\n",
       "       0.58340186, 0.59014661, 0.58886786, 0.6086119 , 0.59523418,\n",
       "       0.59839194, 0.59703041, 0.60016445, 0.59741769, 0.60052118,\n",
       "       0.59774739, 0.60082067, 0.59942178, 0.61452293, 0.61308545,\n",
       "       0.63068956, 0.62023955, 0.62590395, 0.62438292, 0.62998288,\n",
       "       0.62844446, 0.63121906, 0.62967005, 0.64333043, 0.63535824,\n",
       "       0.64331711, 0.64169052, 0.65212519, 0.65046795, 0.65561007,\n",
       "       0.6505733 , 0.6556362 , 0.64363661, 0.64856877, 0.63624748,\n",
       "       0.63865296, 0.63686652, 0.64637251, 0.6445543 , 0.64690241,\n",
       "       0.64323721, 0.64556358, 0.64186404, 0.64416877, 0.63479172,\n",
       "       0.64155701, 0.63772678, 0.64217093, 0.6382907 , 0.64485991,\n",
       "       0.63495363, 0.63922947, 0.63721614, 0.63933666, 0.63527734,\n",
       "       0.63737744, 0.63533128, 0.63949743, 0.63535824, 0.63741776,\n",
       "       0.63533128, 0.63737744, 0.60511118, 0.60704754, 0.60482798,\n",
       "       0.6086682 , 0.60642632, 0.60833033, 0.59465824, 0.59651365,\n",
       "       0.58247607, 0.58608277, 0.5764742 , 0.57823982, 0.55341097,\n",
       "       0.55509564, 0.55254346, 0.55588212, 0.54810716, 0.54974575,\n",
       "       0.54448491, 0.5477163 , 0.52324005, 0.52477674, 0.51062921,\n",
       "       0.5121201 , 0.49156816, 0.49725122, 0.49114974, 0.49254308,\n",
       "       0.48007161, 0.48142583, 0.46532005, 0.4666253 , 0.45666062,\n",
       "       0.45793444, 0.4545548 , 0.45707313, 0.43968751, 0.44089379,\n",
       "       0.43732374, 0.43851699, 0.41639245, 0.41752242, 0.38596452,\n",
       "       0.38804521, 0.37969918, 0.38071306, 0.37215662, 0.37413094,\n",
       "       0.24206146, 0.24269763, 0.2358597 , 0.23647633, 0.12824729,\n",
       "       0.        ])"
      ]
     },
     "execution_count": 476,
     "metadata": {},
     "output_type": "execute_result"
    }
   ],
   "source": [
    "gmeans_knn = np.sqrt(tpr_knn*(1-fpr_knn))\n",
    "gmeans_knn"
   ]
  },
  {
   "cell_type": "code",
   "execution_count": 477,
   "metadata": {},
   "outputs": [
    {
     "data": {
      "text/plain": [
       "0.3450434003584442"
      ]
     },
     "execution_count": 477,
     "metadata": {},
     "output_type": "execute_result"
    }
   ],
   "source": [
    "thresholds_knn[np.argmax(gmeans_knn)]"
   ]
  },
  {
   "cell_type": "markdown",
   "metadata": {},
   "source": [
    "##### 5.4 RandomForestClassifier"
   ]
  },
  {
   "cell_type": "code",
   "execution_count": 478,
   "metadata": {},
   "outputs": [],
   "source": [
    "rfc = RandomForestClassifier(random_state=1)\n",
    "\n",
    "rfc_model = rfc.fit(X_train_transformed, y_train)\n",
    "y_pred_rfc = rfc.predict(X_test_transformed)"
   ]
  },
  {
   "cell_type": "code",
   "execution_count": 479,
   "metadata": {},
   "outputs": [
    {
     "name": "stdout",
     "output_type": "stream",
     "text": [
      "Cross-validation scores for RandomForestClassifier: 0.417.\n"
     ]
    }
   ],
   "source": [
    "# Cross-validation for RandomForestClassifier\n",
    "cv_scores_rfc = cross_val_score(rfc, X_train_transformed, y_train, cv=10, scoring='f1')\n",
    "\n",
    "print(f\"Cross-validation scores for RandomForestClassifier: {round(cv_scores_rfc.mean(), 3)}.\")"
   ]
  },
  {
   "cell_type": "code",
   "execution_count": 480,
   "metadata": {},
   "outputs": [
    {
     "name": "stdout",
     "output_type": "stream",
     "text": [
      "The accuracy of RandomForestClassifier is 0.651.\n",
      "The recall of RandomForestClassifier is 0.406.\n",
      "The precission of RandomForestClassifier is 0.569.\n",
      "The f1 of RandomForestClassifier is 0.474.\n"
     ]
    }
   ],
   "source": [
    "accuracy_rfc = round(accuracy_score(y_test, y_pred_rfc), 3)\n",
    "recall_rfc = round(recall_score(y_test, y_pred_rfc), 3)\n",
    "precision_rfc = round(precision_score(y_test, y_pred_rfc), 3)\n",
    "f1_rfc = round(f1_score(y_test, y_pred_rfc), 3)\n",
    "\n",
    "print(f\"The accuracy of RandomForestClassifier is {accuracy_knn}.\")\n",
    "print(f\"The recall of RandomForestClassifier is {recall_knn}.\")\n",
    "print(f\"The precission of RandomForestClassifier is {precision_knn}.\")\n",
    "print(f\"The f1 of RandomForestClassifier is {f1_knn}.\")"
   ]
  },
  {
   "cell_type": "code",
   "execution_count": 481,
   "metadata": {},
   "outputs": [
    {
     "name": "stdout",
     "output_type": "stream",
     "text": [
      "Best parameters for KNeighborsClassifier:  {'max_depth': 5, 'n_estimators': 275}\n"
     ]
    }
   ],
   "source": [
    "params_rfc = {\"n_estimators\": [200, 225, 275, 300], \"max_depth\": [None, 5, 10]}\n",
    "gridsearch_rfc = GridSearchCV(rfc, params_rfc, cv=5, scoring='roc_auc')\n",
    "\n",
    "grid_rfc = gridsearch_rfc.fit(X_train_transformed, y_train)\n",
    "\n",
    "print(\"Best parameters for KNeighborsClassifier: \", gridsearch_rfc.best_params_)"
   ]
  },
  {
   "cell_type": "code",
   "execution_count": 482,
   "metadata": {},
   "outputs": [],
   "source": [
    "# Hyperparameter tuning\n",
    "rfc_best = RandomForestClassifier(**gridsearch_rfc.best_params_)\n",
    "\n",
    "# Fit the models with the best parameters\n",
    "rfc_best_model = rfc_best.fit(X_train_transformed, y_train)\n",
    "y_pred_rfc_best = nb_best.predict(X_test_transformed)"
   ]
  },
  {
   "cell_type": "code",
   "execution_count": 484,
   "metadata": {},
   "outputs": [
    {
     "data": {
      "text/plain": [
       "array([[220,  84],\n",
       "       [ 69, 123]], dtype=int64)"
      ]
     },
     "execution_count": 484,
     "metadata": {},
     "output_type": "execute_result"
    }
   ],
   "source": [
    "matrix_rfc = confusion_matrix(y_test, y_pred_rfc_best)\n",
    "matrix_rfc"
   ]
  },
  {
   "cell_type": "code",
   "execution_count": 485,
   "metadata": {},
   "outputs": [
    {
     "name": "stdout",
     "output_type": "stream",
     "text": [
      "Cross-validation scores for KNeighborsClassifier: 0.434.\n",
      "The accuracy of Gaussian Naive Bayes is 0.692.\n",
      "The recall of Gaussian Naive Bayes is 0.641.\n",
      "The precission of Gaussian Naive Bayes is 0.594.\n",
      "The f1 of Gaussian Naive Bayes is 0.617.\n"
     ]
    }
   ],
   "source": [
    "# Cross-validation for RandomForestClassifier\n",
    "cv_scores_rfc_best = cross_val_score(rfc_best, X_train_transformed, y_train, cv=5, scoring='f1')\n",
    "print(f\"Cross-validation scores for KNeighborsClassifier: {round(cv_scores_rfc_best.mean(), 3)}.\")\n",
    "\n",
    "\n",
    "accuracy_rfc_best = round(accuracy_score(y_test, y_pred_rfc_best), 3)\n",
    "recall_rfc_best = round(recall_score(y_test, y_pred_rfc_best), 3)\n",
    "precision_rfc_best = round(precision_score(y_test, y_pred_rfc_best), 3)\n",
    "f1_rfc_best = round(f1_score(y_test, y_pred_rfc_best), 3)\n",
    "\n",
    "print(f\"The accuracy of Gaussian Naive Bayes is {accuracy_rfc_best}.\")\n",
    "print(f\"The recall of Gaussian Naive Bayes is {recall_rfc_best}.\")\n",
    "print(f\"The precission of Gaussian Naive Bayes is {precision_rfc_best}.\")\n",
    "print(f\"The f1 of Gaussian Naive Bayes is {f1_rfc_best}.\")"
   ]
  },
  {
   "cell_type": "code",
   "execution_count": 487,
   "metadata": {},
   "outputs": [],
   "source": [
    "fpr_rfc, tpr_rfc, thresholds_rfc = roc_curve(y_test, rfc_best.predict_proba(X_test_transformed)[:,1])"
   ]
  },
  {
   "cell_type": "code",
   "execution_count": 488,
   "metadata": {},
   "outputs": [
    {
     "data": {
      "image/png": "[encoded data removed]",
      "text/plain": [
       "<Figure size 432x288 with 1 Axes>"
      ]
     },
     "metadata": {
      "needs_background": "light"
     },
     "output_type": "display_data"
    }
   ],
   "source": [
    "plt.plot(fpr_rfc,tpr_rfc)\n",
    "plt.xlabel('False Positive Rate')\n",
    "plt.ylabel('True Positive Rate')\n",
    "plt.show()"
   ]
  },
  {
   "cell_type": "code",
   "execution_count": 489,
   "metadata": {},
   "outputs": [
    {
     "data": {
      "text/plain": [
       "array([0.        , 0.07216878, 0.07204999, 0.12479424, 0.12438169,\n",
       "       0.14362361, 0.14242573, 0.18841153, 0.188093  , 0.21327741,\n",
       "       0.21291562, 0.22443276, 0.22405075, 0.23498641, 0.23458507,\n",
       "       0.2916275 , 0.29112771, 0.30777681, 0.30724753, 0.31522931,\n",
       "       0.31414043, 0.32189815, 0.32133882, 0.34352564, 0.34292665,\n",
       "       0.36372863, 0.36309219, 0.37629983, 0.37563908, 0.38206072,\n",
       "       0.38138749, 0.3938953 , 0.39250098, 0.39858663, 0.39787677,\n",
       "       0.40386021, 0.40313839, 0.41482598, 0.4125897 , 0.41828086,\n",
       "       0.41752242, 0.423127  , 0.42235698, 0.43332912, 0.43174473,\n",
       "       0.44764246, 0.44681883, 0.45709187, 0.45540206, 0.48003592,\n",
       "       0.47914283, 0.50252924, 0.50159081, 0.52824226, 0.52725211,\n",
       "       0.53155628, 0.53055618, 0.53481774, 0.5338077 , 0.55458614,\n",
       "       0.55353479, 0.57743929, 0.57634045, 0.58407691, 0.58296119,\n",
       "       0.59435565, 0.58863506, 0.59234888, 0.59119081, 0.59853508,\n",
       "       0.59736033, 0.61530307, 0.61409064, 0.62110905, 0.6174156 ,\n",
       "       0.62087454, 0.61963155, 0.62987409, 0.62860801, 0.63533128,\n",
       "       0.62889412, 0.63219542, 0.63089327, 0.6374312 , 0.63479172,\n",
       "       0.64443468, 0.6430907 , 0.66500272, 0.66361004, 0.67578739,\n",
       "       0.67436617, 0.67737005, 0.67593949, 0.67892378, 0.66585237,\n",
       "       0.67166778, 0.6701867 , 0.67306924, 0.66708629, 0.67276372,\n",
       "       0.66820256, 0.67657285, 0.66880482, 0.67426454, 0.67268731,\n",
       "       0.68077603, 0.67757236, 0.68023474, 0.6770032 , 0.6796426 ,\n",
       "       0.6763829 , 0.67899948, 0.6773574 , 0.68254795, 0.67922653,\n",
       "       0.68179451, 0.68012139, 0.68774916, 0.6860531 , 0.69855054,\n",
       "       0.69508377, 0.69754425, 0.6922929 , 0.69472628, 0.69296077,\n",
       "       0.69778982, 0.69063281, 0.69537949, 0.69356624, 0.69592131,\n",
       "       0.68859562, 0.69323268, 0.68951559, 0.69181015, 0.68049914,\n",
       "       0.68274873, 0.67507716, 0.67729416, 0.67535627, 0.67755972,\n",
       "       0.6756099 , 0.67779989, 0.67387058, 0.6782042 , 0.67621824,\n",
       "       0.67836838, 0.67235614, 0.67448049, 0.67042952, 0.67253448,\n",
       "       0.6704934 , 0.67258543, 0.66640534, 0.67053173, 0.64505914,\n",
       "       0.64703482, 0.59736033, 0.60099173, 0.59624074, 0.59982179,\n",
       "       0.59741769, 0.59919308, 0.58451674, 0.58624352, 0.58375416,\n",
       "       0.58717796, 0.56934192, 0.57264248, 0.57003362, 0.57330031,\n",
       "       0.56801632, 0.56962772, 0.56695966, 0.57174421, 0.5580968 ,\n",
       "       0.55964492, 0.53412855, 0.53560201, 0.526797  , 0.52968358,\n",
       "       0.52669942, 0.52812873, 0.50355099, 0.5049101 , 0.50174449,\n",
       "       0.50309146, 0.49668239, 0.49800864, 0.4247032 , 0.42583123,\n",
       "       0.37314508, 0.37413094, 0.31766564, 0.3185005 , 0.31332129,\n",
       "       0.31414043, 0.        ])"
      ]
     },
     "execution_count": 489,
     "metadata": {},
     "output_type": "execute_result"
    }
   ],
   "source": [
    "gmeans_rfc = np.sqrt(tpr_rfc*(1-fpr_rfc))\n",
    "gmeans_rfc"
   ]
  },
  {
   "cell_type": "code",
   "execution_count": 490,
   "metadata": {},
   "outputs": [
    {
     "data": {
      "text/plain": [
       "0.3670395732075005"
      ]
     },
     "execution_count": 490,
     "metadata": {},
     "output_type": "execute_result"
    }
   ],
   "source": [
    "thresholds_rfc[np.argmax(gmeans_rfc)]"
   ]
  },
  {
   "cell_type": "markdown",
   "metadata": {},
   "source": [
    "### 6. Model Evaluation Accuracy"
   ]
  },
  {
   "cell_type": "code",
   "execution_count": 491,
   "metadata": {},
   "outputs": [
    {
     "data": {
      "text/html": [
       "<div>\n",
       "<style scoped>\n",
       "    .dataframe tbody tr th:only-of-type {\n",
       "        vertical-align: middle;\n",
       "    }\n",
       "\n",
       "    .dataframe tbody tr th {\n",
       "        vertical-align: top;\n",
       "    }\n",
       "\n",
       "    .dataframe thead th {\n",
       "        text-align: right;\n",
       "    }\n",
       "</style>\n",
       "<table border=\"1\" class=\"dataframe\">\n",
       "  <thead>\n",
       "    <tr style=\"text-align: right;\">\n",
       "      <th></th>\n",
       "      <th>Model</th>\n",
       "      <th>Accuracy</th>\n",
       "      <th>Recall</th>\n",
       "      <th>Precision</th>\n",
       "      <th>F1</th>\n",
       "    </tr>\n",
       "  </thead>\n",
       "  <tbody>\n",
       "    <tr>\n",
       "      <th>0</th>\n",
       "      <td>LogisticRegression</td>\n",
       "      <td>0.692</td>\n",
       "      <td>0.438</td>\n",
       "      <td>0.651</td>\n",
       "      <td>0.523</td>\n",
       "    </tr>\n",
       "    <tr>\n",
       "      <th>1</th>\n",
       "      <td>Gaussian Naive Bayes</td>\n",
       "      <td>0.692</td>\n",
       "      <td>0.641</td>\n",
       "      <td>0.594</td>\n",
       "      <td>0.617</td>\n",
       "    </tr>\n",
       "    <tr>\n",
       "      <th>2</th>\n",
       "      <td>KNeighborsClassifier</td>\n",
       "      <td>0.627</td>\n",
       "      <td>0.292</td>\n",
       "      <td>0.533</td>\n",
       "      <td>0.377</td>\n",
       "    </tr>\n",
       "    <tr>\n",
       "      <th>3</th>\n",
       "      <td>RandomForestClassifier</td>\n",
       "      <td>0.692</td>\n",
       "      <td>0.641</td>\n",
       "      <td>0.594</td>\n",
       "      <td>0.617</td>\n",
       "    </tr>\n",
       "  </tbody>\n",
       "</table>\n",
       "</div>"
      ],
      "text/plain": [
       "                    Model  Accuracy  Recall  Precision     F1\n",
       "0      LogisticRegression     0.692   0.438      0.651  0.523\n",
       "1    Gaussian Naive Bayes     0.692   0.641      0.594  0.617\n",
       "2    KNeighborsClassifier     0.627   0.292      0.533  0.377\n",
       "3  RandomForestClassifier     0.692   0.641      0.594  0.617"
      ]
     },
     "execution_count": 491,
     "metadata": {},
     "output_type": "execute_result"
    }
   ],
   "source": [
    "data = {'Model': ['LogisticRegression', 'Gaussian Naive Bayes', 'KNeighborsClassifier', 'RandomForestClassifier'],\n",
    "        'Accuracy': [accuracy_log, accuracy_nb_best, accuracy_knn_best, accuracy_rfc_best],\n",
    "        'Recall': [recall_log, recall_nb_best, recall_knn_best, recall_rfc_best],\n",
    "        'Precision': [precision_log, precision_nb_best, precision_knn_best, precision_rfc_best],\n",
    "        'F1': [f1_log, f1_nb_best, f1_knn_best, f1_rfc_best]}\n",
    "\n",
    "results = pd.DataFrame(data)\n",
    "results"
   ]
  },
  {
   "cell_type": "markdown",
   "metadata": {},
   "source": [
    "##### 6.1 ROC Curve"
   ]
  },
  {
   "cell_type": "code",
   "execution_count": 492,
   "metadata": {},
   "outputs": [
    {
     "data": {
      "image/png": "[encoded data removed]",
      "text/plain": [
       "<Figure size 864x720 with 4 Axes>"
      ]
     },
     "metadata": {
      "needs_background": "light"
     },
     "output_type": "display_data"
    }
   ],
   "source": [
    "plt.figure(figsize=(12, 10))\n",
    "\n",
    "# Plot ROC curve for Logistic Regression\n",
    "plt.subplot(2, 2, 1)\n",
    "plt.plot(fpr_log, tpr_log)\n",
    "plt.xlabel('False Positive Rate')\n",
    "plt.ylabel('True Positive Rate')\n",
    "plt.title('ROC Curve - Logistic Regression')\n",
    "\n",
    "# Plot ROC curve for Naive Bayes\n",
    "plt.subplot(2, 2, 2)\n",
    "plt.plot(fpr_nb, tpr_nb)\n",
    "plt.xlabel('False Positive Rate')\n",
    "plt.ylabel('True Positive Rate')\n",
    "plt.title('ROC Curve - Naive Bayes')\n",
    "\n",
    "# Plot ROC curve for K-Nearest Neighbors\n",
    "plt.subplot(2, 2, 3)\n",
    "plt.plot(fpr_knn, tpr_knn)\n",
    "plt.xlabel('False Positive Rate')\n",
    "plt.ylabel('True Positive Rate')\n",
    "plt.title('ROC Curve - K-Nearest Neighbors')\n",
    "\n",
    "# Plot ROC curve for Random Forest Classifier\n",
    "plt.subplot(2, 2, 4)\n",
    "plt.plot(fpr_rfc, tpr_rfc)\n",
    "plt.xlabel('False Positive Rate')\n",
    "plt.ylabel('True Positive Rate')\n",
    "plt.title('ROC Curve - Random Forest Classifier')\n",
    "\n",
    "# Adjust spacing between subplots\n",
    "plt.tight_layout()\n",
    "\n",
    "# Show the plot\n",
    "plt.show()"
   ]
  },
  {
   "cell_type": "markdown",
   "metadata": {},
   "source": [
    "### 7. Conclusion"
   ]
  },
  {
   "cell_type": "markdown",
   "metadata": {},
   "source": [
    "**From above results, KNeighborsClassifier has the highest accuracy, recall, precision, and f1 scores; and the best roc curve. Therefore, we choose KNeighborsClassifier.**"
   ]
  }
 ],
 "metadata": {
  "kernelspec": {
   "display_name": "base",
   "language": "python",
   "name": "python3"
  },
  "language_info": {
   "codemirror_mode": {
    "name": "ipython",
    "version": 3
   },
   "file_extension": ".py",
   "mimetype": "text/x-python",
   "name": "python",
   "nbconvert_exporter": "python",
   "pygments_lexer": "ipython3",
   "version": "3.9.7"
  },
  "orig_nbformat": 4
 },
 "nbformat": 4,
 "nbformat_minor": 2
}
