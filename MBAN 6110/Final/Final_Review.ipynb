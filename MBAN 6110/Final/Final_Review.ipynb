{
 "cells": [
  {
   "cell_type": "markdown",
   "metadata": {},
   "source": [
    "### Regression"
   ]
  },
  {
   "cell_type": "markdown",
   "metadata": {},
   "source": [
    "\n",
    "1. Linear Regression\n",
    "2. Polynomial Regression\n",
    "3. Support Vector Regression，SVR\n",
    "4. Decision Tree Regression\n",
    "5. Random Forest Regression\n",
    "6. Gradient Boosting Regression\n",
    "7. Neural Network Regression\n"
   ]
  },
  {
   "cell_type": "markdown",
   "metadata": {},
   "source": [
    "### Classification"
   ]
  },
  {
   "cell_type": "markdown",
   "metadata": {},
   "source": [
    "1. Logistic Regression\n",
    "2. Decision Tree\n",
    "3. Support Vector Machine，SVM\n",
    "4. K-Nearest Neighbors，KNN\n",
    "5. Naive Bayes\n",
    "6. Random Forest\n",
    "7. Gradient Boosting Tree\n",
    "8. Neural Networks\n",
    "9. Convolutional Neural Networks，CNN\n",
    "10. Recurrent Neural Networks，RNN"
   ]
  },
  {
   "cell_type": "markdown",
   "metadata": {},
   "source": [
    "a. Conduct exploratory analysis on the provided dataset. State your hypothesis based on the insights from your exploration."
   ]
  },
  {
   "cell_type": "markdown",
   "metadata": {},
   "source": [
    "b. Prepare your data for modelling (i.e., data cleaning and feature engineering)."
   ]
  },
  {
   "cell_type": "markdown",
   "metadata": {},
   "source": [
    "b. Build a model to predict the output variable. Hint: you will need to try several models to find the best model for your problem."
   ]
  },
  {
   "cell_type": "markdown",
   "metadata": {},
   "source": [
    "c. Evaluate each model using the evaluation techniques you have learned in class."
   ]
  },
  {
   "cell_type": "markdown",
   "metadata": {},
   "source": [
    "d. Select and optimize your final model."
   ]
  },
  {
   "cell_type": "markdown",
   "metadata": {},
   "source": [
    "e. Explain your model to a business executive. Your explanation should include the following:\n",
    "\n",
    "i. Your data exploration findings, initial hypothesis, and whether the hypothesis proved true.\n",
    "\n",
    "ii. Your approach for building and evaluating the model. \n",
    "\n",
    "iii. The final model you selected and how you know this is the best model for the problem.\n",
    "\n",
    "iv. How the model should be used by the business, in business process."
   ]
  },
  {
   "cell_type": "markdown",
   "metadata": {},
   "source": [
    "### 1. Dataset"
   ]
  },
  {
   "cell_type": "markdown",
   "metadata": {},
   "source": [
    "##### 1.1 Import Libraries"
   ]
  },
  {
   "cell_type": "code",
   "execution_count": 129,
   "metadata": {},
   "outputs": [
    {
     "name": "stdout",
     "output_type": "stream",
     "text": [
      "Requirement already satisfied: pandas in c:\\users\\golden snow\\anaconda3\\lib\\site-packages (2.0.3)\n",
      "Requirement already satisfied: numpy>=1.20.3 in c:\\users\\golden snow\\anaconda3\\lib\\site-packages (from pandas) (1.20.3)\n",
      "Requirement already satisfied: pytz>=2020.1 in c:\\users\\golden snow\\anaconda3\\lib\\site-packages (from pandas) (2021.3)\n",
      "Requirement already satisfied: python-dateutil>=2.8.2 in c:\\users\\golden snow\\anaconda3\\lib\\site-packages (from pandas) (2.8.2)\n",
      "Requirement already satisfied: tzdata>=2022.1 in c:\\users\\golden snow\\anaconda3\\lib\\site-packages (from pandas) (2023.3)\n",
      "Requirement already satisfied: six>=1.5 in c:\\users\\golden snow\\anaconda3\\lib\\site-packages (from python-dateutil>=2.8.2->pandas) (1.16.0)\n",
      "Note: you may need to restart the kernel to use updated packages.\n"
     ]
    }
   ],
   "source": [
    "pip install --upgrade pandas"
   ]
  },
  {
   "cell_type": "code",
   "execution_count": 130,
   "metadata": {},
   "outputs": [],
   "source": [
    "# Import libraries\n",
    "import pandas as pd\n",
    "import numpy as np\n",
    "import matplotlib.pyplot as plt\n",
    "import seaborn as sns\n",
    "\n",
    "# Import feature engineering libraries\n",
    "from sklearn.model_selection import train_test_split, cross_val_score, GridSearchCV, RandomizedSearchCV\n",
    "from sklearn.preprocessing import StandardScaler, OneHotEncoder\n",
    "from sklearn.compose import ColumnTransformer\n",
    "\n",
    "# Import performance metrics libraries\n",
    "from sklearn.metrics import accuracy_score, recall_score, precision_score, f1_score, confusion_matrix, roc_curve\n",
    "\n",
    "# Import classification libraries\n",
    "from sklearn.linear_model import LogisticRegression\n",
    "from sklearn.naive_bayes import GaussianNB\n",
    "from sklearn.neighbors import KNeighborsClassifier\n",
    "from sklearn.ensemble import RandomForestClassifier"
   ]
  },
  {
   "cell_type": "markdown",
   "metadata": {},
   "source": [
    "##### 1.2 Load Dataset"
   ]
  },
  {
   "cell_type": "code",
   "execution_count": 131,
   "metadata": {},
   "outputs": [
    {
     "data": {
      "text/html": [
       "<div>\n",
       "<style scoped>\n",
       "    .dataframe tbody tr th:only-of-type {\n",
       "        vertical-align: middle;\n",
       "    }\n",
       "\n",
       "    .dataframe tbody tr th {\n",
       "        vertical-align: top;\n",
       "    }\n",
       "\n",
       "    .dataframe thead th {\n",
       "        text-align: right;\n",
       "    }\n",
       "</style>\n",
       "<table border=\"1\" class=\"dataframe\">\n",
       "  <thead>\n",
       "    <tr style=\"text-align: right;\">\n",
       "      <th></th>\n",
       "      <th>index</th>\n",
       "      <th>complaints</th>\n",
       "      <th>transactions_ytd</th>\n",
       "      <th>avg_tr_amt</th>\n",
       "      <th>time_on_site</th>\n",
       "      <th>total_discounts</th>\n",
       "      <th>num_reviews</th>\n",
       "      <th>avg_review</th>\n",
       "      <th>returns</th>\n",
       "      <th>latest_review</th>\n",
       "      <th>num_total_purchases</th>\n",
       "      <th>purchase_made_last_month</th>\n",
       "    </tr>\n",
       "  </thead>\n",
       "  <tbody>\n",
       "    <tr>\n",
       "      <th>0</th>\n",
       "      <td>0</td>\n",
       "      <td>6</td>\n",
       "      <td>16</td>\n",
       "      <td>169.65</td>\n",
       "      <td>517.00</td>\n",
       "      <td>134.11</td>\n",
       "      <td>10</td>\n",
       "      <td>2.63</td>\n",
       "      <td>13.0</td>\n",
       "      <td>3</td>\n",
       "      <td>31</td>\n",
       "      <td>Yes</td>\n",
       "    </tr>\n",
       "    <tr>\n",
       "      <th>1</th>\n",
       "      <td>1</td>\n",
       "      <td>7</td>\n",
       "      <td>15</td>\n",
       "      <td>160.80</td>\n",
       "      <td>160.80</td>\n",
       "      <td>125.75</td>\n",
       "      <td>6</td>\n",
       "      <td>1.92</td>\n",
       "      <td>12.0</td>\n",
       "      <td>3</td>\n",
       "      <td>44</td>\n",
       "      <td>Yes</td>\n",
       "    </tr>\n",
       "    <tr>\n",
       "      <th>2</th>\n",
       "      <td>2</td>\n",
       "      <td>4</td>\n",
       "      <td>11</td>\n",
       "      <td>165.13</td>\n",
       "      <td>165.13</td>\n",
       "      <td>124.16</td>\n",
       "      <td>7</td>\n",
       "      <td>2.27</td>\n",
       "      <td>16.0</td>\n",
       "      <td>2</td>\n",
       "      <td>30</td>\n",
       "      <td>Yes</td>\n",
       "    </tr>\n",
       "    <tr>\n",
       "      <th>3</th>\n",
       "      <td>3</td>\n",
       "      <td>4</td>\n",
       "      <td>12</td>\n",
       "      <td>184.29</td>\n",
       "      <td>184.29</td>\n",
       "      <td>164.87</td>\n",
       "      <td>7</td>\n",
       "      <td>3.33</td>\n",
       "      <td>7.0</td>\n",
       "      <td>3</td>\n",
       "      <td>31</td>\n",
       "      <td>No</td>\n",
       "    </tr>\n",
       "    <tr>\n",
       "      <th>4</th>\n",
       "      <td>4</td>\n",
       "      <td>5</td>\n",
       "      <td>19</td>\n",
       "      <td>224.24</td>\n",
       "      <td>224.24</td>\n",
       "      <td>204.93</td>\n",
       "      <td>13</td>\n",
       "      <td>3.75</td>\n",
       "      <td>0.0</td>\n",
       "      <td>3</td>\n",
       "      <td>43</td>\n",
       "      <td>Yes</td>\n",
       "    </tr>\n",
       "    <tr>\n",
       "      <th>...</th>\n",
       "      <td>...</td>\n",
       "      <td>...</td>\n",
       "      <td>...</td>\n",
       "      <td>...</td>\n",
       "      <td>...</td>\n",
       "      <td>...</td>\n",
       "      <td>...</td>\n",
       "      <td>...</td>\n",
       "      <td>...</td>\n",
       "      <td>...</td>\n",
       "      <td>...</td>\n",
       "      <td>...</td>\n",
       "    </tr>\n",
       "    <tr>\n",
       "      <th>9742</th>\n",
       "      <td>9742</td>\n",
       "      <td>9</td>\n",
       "      <td>11</td>\n",
       "      <td>170.61</td>\n",
       "      <td>170.61</td>\n",
       "      <td>121.57</td>\n",
       "      <td>7</td>\n",
       "      <td>2.65</td>\n",
       "      <td>14.0</td>\n",
       "      <td>3</td>\n",
       "      <td>34</td>\n",
       "      <td>No</td>\n",
       "    </tr>\n",
       "    <tr>\n",
       "      <th>9743</th>\n",
       "      <td>9743</td>\n",
       "      <td>6</td>\n",
       "      <td>15</td>\n",
       "      <td>164.04</td>\n",
       "      <td>164.04</td>\n",
       "      <td>131.60</td>\n",
       "      <td>9</td>\n",
       "      <td>2.48</td>\n",
       "      <td>9.0</td>\n",
       "      <td>3</td>\n",
       "      <td>40</td>\n",
       "      <td>Yes</td>\n",
       "    </tr>\n",
       "    <tr>\n",
       "      <th>9744</th>\n",
       "      <td>9744</td>\n",
       "      <td>8</td>\n",
       "      <td>16</td>\n",
       "      <td>176.52</td>\n",
       "      <td>176.52</td>\n",
       "      <td>99.72</td>\n",
       "      <td>7</td>\n",
       "      <td>3.28</td>\n",
       "      <td>10.0</td>\n",
       "      <td>3</td>\n",
       "      <td>36</td>\n",
       "      <td>No</td>\n",
       "    </tr>\n",
       "    <tr>\n",
       "      <th>9745</th>\n",
       "      <td>9745</td>\n",
       "      <td>7</td>\n",
       "      <td>12</td>\n",
       "      <td>186.93</td>\n",
       "      <td>186.93</td>\n",
       "      <td>114.78</td>\n",
       "      <td>9</td>\n",
       "      <td>3.48</td>\n",
       "      <td>12.0</td>\n",
       "      <td>3</td>\n",
       "      <td>36</td>\n",
       "      <td>No</td>\n",
       "    </tr>\n",
       "    <tr>\n",
       "      <th>9746</th>\n",
       "      <td>9746</td>\n",
       "      <td>6</td>\n",
       "      <td>15</td>\n",
       "      <td>173.96</td>\n",
       "      <td>173.96</td>\n",
       "      <td>105.93</td>\n",
       "      <td>8</td>\n",
       "      <td>2.72</td>\n",
       "      <td>12.0</td>\n",
       "      <td>4</td>\n",
       "      <td>33</td>\n",
       "      <td>No</td>\n",
       "    </tr>\n",
       "  </tbody>\n",
       "</table>\n",
       "<p>9747 rows × 12 columns</p>\n",
       "</div>"
      ],
      "text/plain": [
       "      index  complaints  transactions_ytd  avg_tr_amt  time_on_site  \\\n",
       "0         0           6                16      169.65        517.00   \n",
       "1         1           7                15      160.80        160.80   \n",
       "2         2           4                11      165.13        165.13   \n",
       "3         3           4                12      184.29        184.29   \n",
       "4         4           5                19      224.24        224.24   \n",
       "...     ...         ...               ...         ...           ...   \n",
       "9742   9742           9                11      170.61        170.61   \n",
       "9743   9743           6                15      164.04        164.04   \n",
       "9744   9744           8                16      176.52        176.52   \n",
       "9745   9745           7                12      186.93        186.93   \n",
       "9746   9746           6                15      173.96        173.96   \n",
       "\n",
       "      total_discounts  num_reviews  avg_review  returns  latest_review  \\\n",
       "0              134.11           10        2.63     13.0              3   \n",
       "1              125.75            6        1.92     12.0              3   \n",
       "2              124.16            7        2.27     16.0              2   \n",
       "3              164.87            7        3.33      7.0              3   \n",
       "4              204.93           13        3.75      0.0              3   \n",
       "...               ...          ...         ...      ...            ...   \n",
       "9742           121.57            7        2.65     14.0              3   \n",
       "9743           131.60            9        2.48      9.0              3   \n",
       "9744            99.72            7        3.28     10.0              3   \n",
       "9745           114.78            9        3.48     12.0              3   \n",
       "9746           105.93            8        2.72     12.0              4   \n",
       "\n",
       "      num_total_purchases purchase_made_last_month  \n",
       "0                      31                      Yes  \n",
       "1                      44                      Yes  \n",
       "2                      30                      Yes  \n",
       "3                      31                       No  \n",
       "4                      43                      Yes  \n",
       "...                   ...                      ...  \n",
       "9742                   34                       No  \n",
       "9743                   40                      Yes  \n",
       "9744                   36                       No  \n",
       "9745                   36                       No  \n",
       "9746                   33                       No  \n",
       "\n",
       "[9747 rows x 12 columns]"
      ]
     },
     "execution_count": 131,
     "metadata": {},
     "output_type": "execute_result"
    }
   ],
   "source": [
    "df = pd.read_csv('https://raw.githubusercontent.com/GoldenSnow-Xue/schulich_data_science/main/MBAN%206110/Datasets/purchases.csv')\n",
    "df"
   ]
  },
  {
   "cell_type": "code",
   "execution_count": 132,
   "metadata": {},
   "outputs": [
    {
     "data": {
      "text/html": [
       "<div>\n",
       "<style scoped>\n",
       "    .dataframe tbody tr th:only-of-type {\n",
       "        vertical-align: middle;\n",
       "    }\n",
       "\n",
       "    .dataframe tbody tr th {\n",
       "        vertical-align: top;\n",
       "    }\n",
       "\n",
       "    .dataframe thead th {\n",
       "        text-align: right;\n",
       "    }\n",
       "</style>\n",
       "<table border=\"1\" class=\"dataframe\">\n",
       "  <thead>\n",
       "    <tr style=\"text-align: right;\">\n",
       "      <th></th>\n",
       "      <th>count</th>\n",
       "      <th>mean</th>\n",
       "      <th>std</th>\n",
       "      <th>min</th>\n",
       "      <th>25%</th>\n",
       "      <th>50%</th>\n",
       "      <th>75%</th>\n",
       "      <th>max</th>\n",
       "    </tr>\n",
       "  </thead>\n",
       "  <tbody>\n",
       "    <tr>\n",
       "      <th>index</th>\n",
       "      <td>9747.0</td>\n",
       "      <td>4873.000000</td>\n",
       "      <td>2813.860871</td>\n",
       "      <td>0.0</td>\n",
       "      <td>2436.5000</td>\n",
       "      <td>4873.000</td>\n",
       "      <td>7309.5000</td>\n",
       "      <td>9746.0</td>\n",
       "    </tr>\n",
       "    <tr>\n",
       "      <th>complaints</th>\n",
       "      <td>9747.0</td>\n",
       "      <td>6.774803</td>\n",
       "      <td>1.886223</td>\n",
       "      <td>1.0</td>\n",
       "      <td>5.0000</td>\n",
       "      <td>7.000</td>\n",
       "      <td>8.0000</td>\n",
       "      <td>14.0</td>\n",
       "    </tr>\n",
       "    <tr>\n",
       "      <th>transactions_ytd</th>\n",
       "      <td>9747.0</td>\n",
       "      <td>13.382169</td>\n",
       "      <td>2.856932</td>\n",
       "      <td>2.0</td>\n",
       "      <td>12.0000</td>\n",
       "      <td>14.000</td>\n",
       "      <td>15.0000</td>\n",
       "      <td>24.0</td>\n",
       "    </tr>\n",
       "    <tr>\n",
       "      <th>avg_tr_amt</th>\n",
       "      <td>9746.0</td>\n",
       "      <td>181.829052</td>\n",
       "      <td>17.813101</td>\n",
       "      <td>100.0</td>\n",
       "      <td>171.3400</td>\n",
       "      <td>182.640</td>\n",
       "      <td>193.7800</td>\n",
       "      <td>250.0</td>\n",
       "    </tr>\n",
       "    <tr>\n",
       "      <th>time_on_site</th>\n",
       "      <td>9743.0</td>\n",
       "      <td>181.860858</td>\n",
       "      <td>18.134314</td>\n",
       "      <td>100.0</td>\n",
       "      <td>171.3400</td>\n",
       "      <td>182.640</td>\n",
       "      <td>193.7800</td>\n",
       "      <td>517.0</td>\n",
       "    </tr>\n",
       "    <tr>\n",
       "      <th>total_discounts</th>\n",
       "      <td>9744.0</td>\n",
       "      <td>128.963755</td>\n",
       "      <td>30.971279</td>\n",
       "      <td>0.0</td>\n",
       "      <td>110.2475</td>\n",
       "      <td>128.975</td>\n",
       "      <td>148.3525</td>\n",
       "      <td>250.0</td>\n",
       "    </tr>\n",
       "    <tr>\n",
       "      <th>num_reviews</th>\n",
       "      <td>9747.0</td>\n",
       "      <td>8.562942</td>\n",
       "      <td>1.826682</td>\n",
       "      <td>1.0</td>\n",
       "      <td>7.0000</td>\n",
       "      <td>9.000</td>\n",
       "      <td>10.0000</td>\n",
       "      <td>15.0</td>\n",
       "    </tr>\n",
       "    <tr>\n",
       "      <th>avg_review</th>\n",
       "      <td>9747.0</td>\n",
       "      <td>2.943753</td>\n",
       "      <td>0.532284</td>\n",
       "      <td>1.0</td>\n",
       "      <td>2.5700</td>\n",
       "      <td>2.930</td>\n",
       "      <td>3.3000</td>\n",
       "      <td>5.0</td>\n",
       "    </tr>\n",
       "    <tr>\n",
       "      <th>returns</th>\n",
       "      <td>9746.0</td>\n",
       "      <td>11.713831</td>\n",
       "      <td>2.936036</td>\n",
       "      <td>0.0</td>\n",
       "      <td>10.0000</td>\n",
       "      <td>12.000</td>\n",
       "      <td>14.0000</td>\n",
       "      <td>23.0</td>\n",
       "    </tr>\n",
       "    <tr>\n",
       "      <th>latest_review</th>\n",
       "      <td>9747.0</td>\n",
       "      <td>3.250846</td>\n",
       "      <td>0.599925</td>\n",
       "      <td>1.0</td>\n",
       "      <td>3.0000</td>\n",
       "      <td>3.000</td>\n",
       "      <td>4.0000</td>\n",
       "      <td>5.0</td>\n",
       "    </tr>\n",
       "    <tr>\n",
       "      <th>num_total_purchases</th>\n",
       "      <td>9747.0</td>\n",
       "      <td>36.914846</td>\n",
       "      <td>5.159823</td>\n",
       "      <td>15.0</td>\n",
       "      <td>33.0000</td>\n",
       "      <td>37.000</td>\n",
       "      <td>41.0000</td>\n",
       "      <td>55.0</td>\n",
       "    </tr>\n",
       "  </tbody>\n",
       "</table>\n",
       "</div>"
      ],
      "text/plain": [
       "                      count         mean          std    min        25%  \\\n",
       "index                9747.0  4873.000000  2813.860871    0.0  2436.5000   \n",
       "complaints           9747.0     6.774803     1.886223    1.0     5.0000   \n",
       "transactions_ytd     9747.0    13.382169     2.856932    2.0    12.0000   \n",
       "avg_tr_amt           9746.0   181.829052    17.813101  100.0   171.3400   \n",
       "time_on_site         9743.0   181.860858    18.134314  100.0   171.3400   \n",
       "total_discounts      9744.0   128.963755    30.971279    0.0   110.2475   \n",
       "num_reviews          9747.0     8.562942     1.826682    1.0     7.0000   \n",
       "avg_review           9747.0     2.943753     0.532284    1.0     2.5700   \n",
       "returns              9746.0    11.713831     2.936036    0.0    10.0000   \n",
       "latest_review        9747.0     3.250846     0.599925    1.0     3.0000   \n",
       "num_total_purchases  9747.0    36.914846     5.159823   15.0    33.0000   \n",
       "\n",
       "                          50%        75%     max  \n",
       "index                4873.000  7309.5000  9746.0  \n",
       "complaints              7.000     8.0000    14.0  \n",
       "transactions_ytd       14.000    15.0000    24.0  \n",
       "avg_tr_amt            182.640   193.7800   250.0  \n",
       "time_on_site          182.640   193.7800   517.0  \n",
       "total_discounts       128.975   148.3525   250.0  \n",
       "num_reviews             9.000    10.0000    15.0  \n",
       "avg_review              2.930     3.3000     5.0  \n",
       "returns                12.000    14.0000    23.0  \n",
       "latest_review           3.000     4.0000     5.0  \n",
       "num_total_purchases    37.000    41.0000    55.0  "
      ]
     },
     "execution_count": 132,
     "metadata": {},
     "output_type": "execute_result"
    }
   ],
   "source": [
    "df.describe().transpose()"
   ]
  },
  {
   "cell_type": "markdown",
   "metadata": {},
   "source": [
    "----------------------------------\n",
    "*** do the ranges make sense?\n",
    "\n",
    "*** are there outliers?\n",
    "\n",
    "*** which variables are categorical (even if there is a number indicator, like 1,2,3)\n",
    "\n",
    "*** which variables are continuous"
   ]
  },
  {
   "cell_type": "code",
   "execution_count": 133,
   "metadata": {},
   "outputs": [
    {
     "data": {
      "text/plain": [
       "Index(['index', 'complaints', 'transactions_ytd', 'avg_tr_amt', 'time_on_site',\n",
       "       'total_discounts', 'num_reviews', 'avg_review', 'returns',\n",
       "       'latest_review', 'num_total_purchases', 'purchase_made_last_month'],\n",
       "      dtype='object')"
      ]
     },
     "execution_count": 133,
     "metadata": {},
     "output_type": "execute_result"
    }
   ],
   "source": [
    "df.columns"
   ]
  },
  {
   "cell_type": "code",
   "execution_count": 134,
   "metadata": {},
   "outputs": [],
   "source": [
    "# Categorical Variables\n",
    "# 'complaints', 'num_reviews', 'avg_review', 'latest_review'"
   ]
  },
  {
   "cell_type": "code",
   "execution_count": 135,
   "metadata": {},
   "outputs": [],
   "source": [
    "# Numerical Variables\n",
    "# 'transactions_ytd', 'avg_tr_amt', 'time_on_site', 'total_discounts', 'returns', 'num_total_purchases'"
   ]
  },
  {
   "cell_type": "code",
   "execution_count": 136,
   "metadata": {},
   "outputs": [
    {
     "name": "stdout",
     "output_type": "stream",
     "text": [
      "<class 'pandas.core.frame.DataFrame'>\n",
      "RangeIndex: 9747 entries, 0 to 9746\n",
      "Data columns (total 12 columns):\n",
      " #   Column                    Non-Null Count  Dtype  \n",
      "---  ------                    --------------  -----  \n",
      " 0   index                     9747 non-null   int64  \n",
      " 1   complaints                9747 non-null   int64  \n",
      " 2   transactions_ytd          9747 non-null   int64  \n",
      " 3   avg_tr_amt                9746 non-null   float64\n",
      " 4   time_on_site              9743 non-null   float64\n",
      " 5   total_discounts           9744 non-null   float64\n",
      " 6   num_reviews               9747 non-null   int64  \n",
      " 7   avg_review                9747 non-null   float64\n",
      " 8   returns                   9746 non-null   float64\n",
      " 9   latest_review             9747 non-null   int64  \n",
      " 10  num_total_purchases       9747 non-null   int64  \n",
      " 11  purchase_made_last_month  9747 non-null   object \n",
      "dtypes: float64(5), int64(6), object(1)\n",
      "memory usage: 913.9+ KB\n"
     ]
    }
   ],
   "source": [
    "df.info()"
   ]
  },
  {
   "cell_type": "markdown",
   "metadata": {},
   "source": [
    "-------------------------------------\n",
    "*** Missing data: there exists some missing data\n",
    "\n",
    "*** Incorrect data type: no"
   ]
  },
  {
   "cell_type": "markdown",
   "metadata": {},
   "source": [
    "### 2. Define a Problem Statement and Hypothesis"
   ]
  },
  {
   "cell_type": "markdown",
   "metadata": {},
   "source": [
    "##### 2.1 Problem Statement:"
   ]
  },
  {
   "cell_type": "markdown",
   "metadata": {},
   "source": [
    "##### 2.2 Hypothesis"
   ]
  },
  {
   "cell_type": "markdown",
   "metadata": {},
   "source": [
    "### 3. Conduct Exploratory Data Analysis (EDA)"
   ]
  },
  {
   "cell_type": "markdown",
   "metadata": {},
   "source": [
    "##### 3.1 Data Cleaning"
   ]
  },
  {
   "cell_type": "markdown",
   "metadata": {},
   "source": [
    "* Deal with duplicates"
   ]
  },
  {
   "cell_type": "code",
   "execution_count": 137,
   "metadata": {},
   "outputs": [],
   "source": [
    "df.drop(columns=['index'], axis= 1, inplace= True)"
   ]
  },
  {
   "cell_type": "code",
   "execution_count": 138,
   "metadata": {},
   "outputs": [],
   "source": [
    "df = df.drop_duplicates()"
   ]
  },
  {
   "cell_type": "code",
   "execution_count": 139,
   "metadata": {},
   "outputs": [
    {
     "data": {
      "text/html": [
       "<div>\n",
       "<style scoped>\n",
       "    .dataframe tbody tr th:only-of-type {\n",
       "        vertical-align: middle;\n",
       "    }\n",
       "\n",
       "    .dataframe tbody tr th {\n",
       "        vertical-align: top;\n",
       "    }\n",
       "\n",
       "    .dataframe thead th {\n",
       "        text-align: right;\n",
       "    }\n",
       "</style>\n",
       "<table border=\"1\" class=\"dataframe\">\n",
       "  <thead>\n",
       "    <tr style=\"text-align: right;\">\n",
       "      <th></th>\n",
       "      <th>complaints</th>\n",
       "      <th>transactions_ytd</th>\n",
       "      <th>avg_tr_amt</th>\n",
       "      <th>time_on_site</th>\n",
       "      <th>total_discounts</th>\n",
       "      <th>num_reviews</th>\n",
       "      <th>avg_review</th>\n",
       "      <th>returns</th>\n",
       "      <th>latest_review</th>\n",
       "      <th>num_total_purchases</th>\n",
       "      <th>purchase_made_last_month</th>\n",
       "    </tr>\n",
       "  </thead>\n",
       "  <tbody>\n",
       "    <tr>\n",
       "      <th>count</th>\n",
       "      <td>9747.000000</td>\n",
       "      <td>9747.000000</td>\n",
       "      <td>9746.000000</td>\n",
       "      <td>9743.000000</td>\n",
       "      <td>9744.000000</td>\n",
       "      <td>9747.000000</td>\n",
       "      <td>9747.000000</td>\n",
       "      <td>9746.000000</td>\n",
       "      <td>9747.000000</td>\n",
       "      <td>9747.000000</td>\n",
       "      <td>9747</td>\n",
       "    </tr>\n",
       "    <tr>\n",
       "      <th>unique</th>\n",
       "      <td>NaN</td>\n",
       "      <td>NaN</td>\n",
       "      <td>NaN</td>\n",
       "      <td>NaN</td>\n",
       "      <td>NaN</td>\n",
       "      <td>NaN</td>\n",
       "      <td>NaN</td>\n",
       "      <td>NaN</td>\n",
       "      <td>NaN</td>\n",
       "      <td>NaN</td>\n",
       "      <td>2</td>\n",
       "    </tr>\n",
       "    <tr>\n",
       "      <th>top</th>\n",
       "      <td>NaN</td>\n",
       "      <td>NaN</td>\n",
       "      <td>NaN</td>\n",
       "      <td>NaN</td>\n",
       "      <td>NaN</td>\n",
       "      <td>NaN</td>\n",
       "      <td>NaN</td>\n",
       "      <td>NaN</td>\n",
       "      <td>NaN</td>\n",
       "      <td>NaN</td>\n",
       "      <td>No</td>\n",
       "    </tr>\n",
       "    <tr>\n",
       "      <th>freq</th>\n",
       "      <td>NaN</td>\n",
       "      <td>NaN</td>\n",
       "      <td>NaN</td>\n",
       "      <td>NaN</td>\n",
       "      <td>NaN</td>\n",
       "      <td>NaN</td>\n",
       "      <td>NaN</td>\n",
       "      <td>NaN</td>\n",
       "      <td>NaN</td>\n",
       "      <td>NaN</td>\n",
       "      <td>4888</td>\n",
       "    </tr>\n",
       "    <tr>\n",
       "      <th>mean</th>\n",
       "      <td>6.774803</td>\n",
       "      <td>13.382169</td>\n",
       "      <td>181.829052</td>\n",
       "      <td>181.860858</td>\n",
       "      <td>128.963755</td>\n",
       "      <td>8.562942</td>\n",
       "      <td>2.943753</td>\n",
       "      <td>11.713831</td>\n",
       "      <td>3.250846</td>\n",
       "      <td>36.914846</td>\n",
       "      <td>NaN</td>\n",
       "    </tr>\n",
       "    <tr>\n",
       "      <th>std</th>\n",
       "      <td>1.886223</td>\n",
       "      <td>2.856932</td>\n",
       "      <td>17.813101</td>\n",
       "      <td>18.134314</td>\n",
       "      <td>30.971279</td>\n",
       "      <td>1.826682</td>\n",
       "      <td>0.532284</td>\n",
       "      <td>2.936036</td>\n",
       "      <td>0.599925</td>\n",
       "      <td>5.159823</td>\n",
       "      <td>NaN</td>\n",
       "    </tr>\n",
       "    <tr>\n",
       "      <th>min</th>\n",
       "      <td>1.000000</td>\n",
       "      <td>2.000000</td>\n",
       "      <td>100.000000</td>\n",
       "      <td>100.000000</td>\n",
       "      <td>0.000000</td>\n",
       "      <td>1.000000</td>\n",
       "      <td>1.000000</td>\n",
       "      <td>0.000000</td>\n",
       "      <td>1.000000</td>\n",
       "      <td>15.000000</td>\n",
       "      <td>NaN</td>\n",
       "    </tr>\n",
       "    <tr>\n",
       "      <th>25%</th>\n",
       "      <td>5.000000</td>\n",
       "      <td>12.000000</td>\n",
       "      <td>171.340000</td>\n",
       "      <td>171.340000</td>\n",
       "      <td>110.247500</td>\n",
       "      <td>7.000000</td>\n",
       "      <td>2.570000</td>\n",
       "      <td>10.000000</td>\n",
       "      <td>3.000000</td>\n",
       "      <td>33.000000</td>\n",
       "      <td>NaN</td>\n",
       "    </tr>\n",
       "    <tr>\n",
       "      <th>50%</th>\n",
       "      <td>7.000000</td>\n",
       "      <td>14.000000</td>\n",
       "      <td>182.640000</td>\n",
       "      <td>182.640000</td>\n",
       "      <td>128.975000</td>\n",
       "      <td>9.000000</td>\n",
       "      <td>2.930000</td>\n",
       "      <td>12.000000</td>\n",
       "      <td>3.000000</td>\n",
       "      <td>37.000000</td>\n",
       "      <td>NaN</td>\n",
       "    </tr>\n",
       "    <tr>\n",
       "      <th>75%</th>\n",
       "      <td>8.000000</td>\n",
       "      <td>15.000000</td>\n",
       "      <td>193.780000</td>\n",
       "      <td>193.780000</td>\n",
       "      <td>148.352500</td>\n",
       "      <td>10.000000</td>\n",
       "      <td>3.300000</td>\n",
       "      <td>14.000000</td>\n",
       "      <td>4.000000</td>\n",
       "      <td>41.000000</td>\n",
       "      <td>NaN</td>\n",
       "    </tr>\n",
       "    <tr>\n",
       "      <th>max</th>\n",
       "      <td>14.000000</td>\n",
       "      <td>24.000000</td>\n",
       "      <td>250.000000</td>\n",
       "      <td>517.000000</td>\n",
       "      <td>250.000000</td>\n",
       "      <td>15.000000</td>\n",
       "      <td>5.000000</td>\n",
       "      <td>23.000000</td>\n",
       "      <td>5.000000</td>\n",
       "      <td>55.000000</td>\n",
       "      <td>NaN</td>\n",
       "    </tr>\n",
       "  </tbody>\n",
       "</table>\n",
       "</div>"
      ],
      "text/plain": [
       "         complaints  transactions_ytd   avg_tr_amt  time_on_site  \\\n",
       "count   9747.000000       9747.000000  9746.000000   9743.000000   \n",
       "unique          NaN               NaN          NaN           NaN   \n",
       "top             NaN               NaN          NaN           NaN   \n",
       "freq            NaN               NaN          NaN           NaN   \n",
       "mean       6.774803         13.382169   181.829052    181.860858   \n",
       "std        1.886223          2.856932    17.813101     18.134314   \n",
       "min        1.000000          2.000000   100.000000    100.000000   \n",
       "25%        5.000000         12.000000   171.340000    171.340000   \n",
       "50%        7.000000         14.000000   182.640000    182.640000   \n",
       "75%        8.000000         15.000000   193.780000    193.780000   \n",
       "max       14.000000         24.000000   250.000000    517.000000   \n",
       "\n",
       "        total_discounts  num_reviews   avg_review      returns  latest_review  \\\n",
       "count       9744.000000  9747.000000  9747.000000  9746.000000    9747.000000   \n",
       "unique              NaN          NaN          NaN          NaN            NaN   \n",
       "top                 NaN          NaN          NaN          NaN            NaN   \n",
       "freq                NaN          NaN          NaN          NaN            NaN   \n",
       "mean         128.963755     8.562942     2.943753    11.713831       3.250846   \n",
       "std           30.971279     1.826682     0.532284     2.936036       0.599925   \n",
       "min            0.000000     1.000000     1.000000     0.000000       1.000000   \n",
       "25%          110.247500     7.000000     2.570000    10.000000       3.000000   \n",
       "50%          128.975000     9.000000     2.930000    12.000000       3.000000   \n",
       "75%          148.352500    10.000000     3.300000    14.000000       4.000000   \n",
       "max          250.000000    15.000000     5.000000    23.000000       5.000000   \n",
       "\n",
       "        num_total_purchases purchase_made_last_month  \n",
       "count           9747.000000                     9747  \n",
       "unique                  NaN                        2  \n",
       "top                     NaN                       No  \n",
       "freq                    NaN                     4888  \n",
       "mean              36.914846                      NaN  \n",
       "std                5.159823                      NaN  \n",
       "min               15.000000                      NaN  \n",
       "25%               33.000000                      NaN  \n",
       "50%               37.000000                      NaN  \n",
       "75%               41.000000                      NaN  \n",
       "max               55.000000                      NaN  "
      ]
     },
     "execution_count": 139,
     "metadata": {},
     "output_type": "execute_result"
    }
   ],
   "source": [
    "df.describe(include='all')"
   ]
  },
  {
   "cell_type": "markdown",
   "metadata": {},
   "source": [
    "* Deal with missing values"
   ]
  },
  {
   "cell_type": "code",
   "execution_count": 140,
   "metadata": {},
   "outputs": [
    {
     "data": {
      "text/plain": [
       "9"
      ]
     },
     "execution_count": 140,
     "metadata": {},
     "output_type": "execute_result"
    }
   ],
   "source": [
    "df.isnull().sum().sum()"
   ]
  },
  {
   "cell_type": "code",
   "execution_count": 141,
   "metadata": {},
   "outputs": [
    {
     "data": {
      "text/plain": [
       "974.7"
      ]
     },
     "execution_count": 141,
     "metadata": {},
     "output_type": "execute_result"
    }
   ],
   "source": [
    "9747*0.1\n",
    "# 9 < 974, if missing values < 10%, just drop, otherwise fillna"
   ]
  },
  {
   "cell_type": "code",
   "execution_count": 142,
   "metadata": {},
   "outputs": [],
   "source": [
    "# Drop rows with any missing values\n",
    "df = df.dropna()"
   ]
  },
  {
   "cell_type": "code",
   "execution_count": 143,
   "metadata": {},
   "outputs": [],
   "source": [
    "# Drop columns with any missing values\n",
    "# df = df.dropna(axis=1)"
   ]
  },
  {
   "cell_type": "code",
   "execution_count": 144,
   "metadata": {},
   "outputs": [
    {
     "name": "stdout",
     "output_type": "stream",
     "text": [
      "<class 'pandas.core.frame.DataFrame'>\n",
      "Index: 9738 entries, 0 to 9746\n",
      "Data columns (total 11 columns):\n",
      " #   Column                    Non-Null Count  Dtype  \n",
      "---  ------                    --------------  -----  \n",
      " 0   complaints                9738 non-null   int64  \n",
      " 1   transactions_ytd          9738 non-null   int64  \n",
      " 2   avg_tr_amt                9738 non-null   float64\n",
      " 3   time_on_site              9738 non-null   float64\n",
      " 4   total_discounts           9738 non-null   float64\n",
      " 5   num_reviews               9738 non-null   int64  \n",
      " 6   avg_review                9738 non-null   float64\n",
      " 7   returns                   9738 non-null   float64\n",
      " 8   latest_review             9738 non-null   int64  \n",
      " 9   num_total_purchases       9738 non-null   int64  \n",
      " 10  purchase_made_last_month  9738 non-null   object \n",
      "dtypes: float64(5), int64(5), object(1)\n",
      "memory usage: 912.9+ KB\n"
     ]
    }
   ],
   "source": [
    "df.info()"
   ]
  },
  {
   "cell_type": "markdown",
   "metadata": {},
   "source": [
    "* Deal with target variable"
   ]
  },
  {
   "cell_type": "code",
   "execution_count": 145,
   "metadata": {},
   "outputs": [
    {
     "data": {
      "text/html": [
       "<div>\n",
       "<style scoped>\n",
       "    .dataframe tbody tr th:only-of-type {\n",
       "        vertical-align: middle;\n",
       "    }\n",
       "\n",
       "    .dataframe tbody tr th {\n",
       "        vertical-align: top;\n",
       "    }\n",
       "\n",
       "    .dataframe thead th {\n",
       "        text-align: right;\n",
       "    }\n",
       "</style>\n",
       "<table border=\"1\" class=\"dataframe\">\n",
       "  <thead>\n",
       "    <tr style=\"text-align: right;\">\n",
       "      <th></th>\n",
       "      <th>complaints</th>\n",
       "      <th>transactions_ytd</th>\n",
       "      <th>avg_tr_amt</th>\n",
       "      <th>time_on_site</th>\n",
       "      <th>total_discounts</th>\n",
       "      <th>num_reviews</th>\n",
       "      <th>avg_review</th>\n",
       "      <th>returns</th>\n",
       "      <th>latest_review</th>\n",
       "      <th>num_total_purchases</th>\n",
       "    </tr>\n",
       "    <tr>\n",
       "      <th>purchase_made_last_month</th>\n",
       "      <th></th>\n",
       "      <th></th>\n",
       "      <th></th>\n",
       "      <th></th>\n",
       "      <th></th>\n",
       "      <th></th>\n",
       "      <th></th>\n",
       "      <th></th>\n",
       "      <th></th>\n",
       "      <th></th>\n",
       "    </tr>\n",
       "  </thead>\n",
       "  <tbody>\n",
       "    <tr>\n",
       "      <th>No</th>\n",
       "      <td>4887</td>\n",
       "      <td>4887</td>\n",
       "      <td>4887</td>\n",
       "      <td>4887</td>\n",
       "      <td>4887</td>\n",
       "      <td>4887</td>\n",
       "      <td>4887</td>\n",
       "      <td>4887</td>\n",
       "      <td>4887</td>\n",
       "      <td>4887</td>\n",
       "    </tr>\n",
       "    <tr>\n",
       "      <th>Yes</th>\n",
       "      <td>4851</td>\n",
       "      <td>4851</td>\n",
       "      <td>4851</td>\n",
       "      <td>4851</td>\n",
       "      <td>4851</td>\n",
       "      <td>4851</td>\n",
       "      <td>4851</td>\n",
       "      <td>4851</td>\n",
       "      <td>4851</td>\n",
       "      <td>4851</td>\n",
       "    </tr>\n",
       "  </tbody>\n",
       "</table>\n",
       "</div>"
      ],
      "text/plain": [
       "                          complaints  transactions_ytd  avg_tr_amt  \\\n",
       "purchase_made_last_month                                             \n",
       "No                              4887              4887        4887   \n",
       "Yes                             4851              4851        4851   \n",
       "\n",
       "                          time_on_site  total_discounts  num_reviews  \\\n",
       "purchase_made_last_month                                               \n",
       "No                                4887             4887         4887   \n",
       "Yes                               4851             4851         4851   \n",
       "\n",
       "                          avg_review  returns  latest_review  \\\n",
       "purchase_made_last_month                                       \n",
       "No                              4887     4887           4887   \n",
       "Yes                             4851     4851           4851   \n",
       "\n",
       "                          num_total_purchases  \n",
       "purchase_made_last_month                       \n",
       "No                                       4887  \n",
       "Yes                                      4851  "
      ]
     },
     "execution_count": 145,
     "metadata": {},
     "output_type": "execute_result"
    }
   ],
   "source": [
    "# univariate analysis - check the target variable\n",
    "df.groupby('purchase_made_last_month').count()"
   ]
  },
  {
   "cell_type": "code",
   "execution_count": 146,
   "metadata": {},
   "outputs": [],
   "source": [
    "def purchase_made_last_month(x):\n",
    "    if x == 'Yes':\n",
    "        return 1\n",
    "    elif x == 'No':\n",
    "        return 0"
   ]
  },
  {
   "cell_type": "code",
   "execution_count": 147,
   "metadata": {},
   "outputs": [
    {
     "data": {
      "text/plain": [
       "purchase_made_last_month\n",
       "0    4887\n",
       "1    4851\n",
       "Name: count, dtype: int64"
      ]
     },
     "execution_count": 147,
     "metadata": {},
     "output_type": "execute_result"
    }
   ],
   "source": [
    "df['purchase_made_last_month'] = df['purchase_made_last_month'].apply(purchase_made_last_month)\n",
    "df['purchase_made_last_month'].value_counts()"
   ]
  },
  {
   "cell_type": "code",
   "execution_count": 148,
   "metadata": {},
   "outputs": [],
   "source": [
    "df2 = df"
   ]
  },
  {
   "cell_type": "code",
   "execution_count": 149,
   "metadata": {},
   "outputs": [
    {
     "data": {
      "text/plain": [
       "complaints                    14\n",
       "transactions_ytd              23\n",
       "avg_tr_amt                  5108\n",
       "time_on_site                5108\n",
       "total_discounts             6388\n",
       "num_reviews                   15\n",
       "avg_review                   331\n",
       "returns                       24\n",
       "latest_review                  5\n",
       "num_total_purchases           38\n",
       "purchase_made_last_month       2\n",
       "dtype: int64"
      ]
     },
     "execution_count": 149,
     "metadata": {},
     "output_type": "execute_result"
    }
   ],
   "source": [
    "df2.nunique()"
   ]
  },
  {
   "cell_type": "markdown",
   "metadata": {},
   "source": [
    "##### 3.2 Data Visualization"
   ]
  },
  {
   "cell_type": "markdown",
   "metadata": {},
   "source": [
    "* Numerical Variables"
   ]
  },
  {
   "cell_type": "code",
   "execution_count": 150,
   "metadata": {},
   "outputs": [
    {
     "data": {
      "image/png": "[encoded data removed]",
      "text/plain": [
       "<Figure size 1440x1080 with 12 Axes>"
      ]
     },
     "metadata": {
      "needs_background": "light"
     },
     "output_type": "display_data"
    }
   ],
   "source": [
    "df2.hist(figsize=(20,15))\n",
    "plt.show()"
   ]
  },
  {
   "cell_type": "code",
   "execution_count": 151,
   "metadata": {},
   "outputs": [
    {
     "data": {
      "text/plain": [
       "(0.0, 1.0, 0.0, 1.0)"
      ]
     },
     "execution_count": 151,
     "metadata": {},
     "output_type": "execute_result"
    },
    {
     "data": {
      "image/png": "[encoded data removed]",
      "text/plain": [
       "<Figure size 1440x1080 with 12 Axes>"
      ]
     },
     "metadata": {
      "needs_background": "light"
     },
     "output_type": "display_data"
    }
   ],
   "source": [
    "fig, ((ax1, ax2, ax3), (ax4, ax5, ax6), (ax7, ax8, ax9), (ax10, ax11, ax12)) = plt.subplots(4,3, figsize=(20,15))\n",
    "\n",
    "sns.boxplot(x='purchase_made_last_month',y='complaints', data=df2, ax=ax1)\n",
    "sns.boxplot(x='purchase_made_last_month',y='transactions_ytd', data=df2, ax=ax2)\n",
    "sns.boxplot(x='purchase_made_last_month',y='avg_tr_amt', data=df2, ax=ax3)\n",
    "sns.boxplot(x='purchase_made_last_month',y='time_on_site', data=df2, ax=ax4)\n",
    "sns.boxplot(x='purchase_made_last_month',y='total_discounts', data=df2, ax=ax5)\n",
    "sns.boxplot(x='purchase_made_last_month',y='num_reviews', data=df2, ax=ax6)\n",
    "sns.boxplot(x='purchase_made_last_month',y='avg_review', data=df2, ax=ax7)\n",
    "sns.boxplot(x='purchase_made_last_month',y='returns', data=df2, ax=ax8)\n",
    "sns.boxplot(x='purchase_made_last_month',y='latest_review', data=df2, ax=ax9)\n",
    "sns.boxplot(x='purchase_made_last_month',y='num_total_purchases', data=df2, ax=ax10)\n",
    "\n",
    "ax11.axis('off')\n",
    "ax12.axis('off')"
   ]
  },
  {
   "cell_type": "markdown",
   "metadata": {},
   "source": [
    "### 4. Feature Engineering"
   ]
  },
  {
   "cell_type": "markdown",
   "metadata": {},
   "source": [
    "##### 4.1 Transformation"
   ]
  },
  {
   "cell_type": "markdown",
   "metadata": {},
   "source": [
    "* Covert numerical variables to categorical variables"
   ]
  },
  {
   "cell_type": "code",
   "execution_count": 152,
   "metadata": {},
   "outputs": [],
   "source": [
    "# Categorical Variables\n",
    "# 'complaints', 'num_reviews', 'avg_review', 'latest_review'"
   ]
  },
  {
   "cell_type": "code",
   "execution_count": 153,
   "metadata": {},
   "outputs": [
    {
     "data": {
      "text/plain": [
       "complaints\n",
       "6     2320\n",
       "7     1887\n",
       "5     1694\n",
       "8     1216\n",
       "9      879\n",
       "4      670\n",
       "10     507\n",
       "11     281\n",
       "3      138\n",
       "12      88\n",
       "2       28\n",
       "13      24\n",
       "14       4\n",
       "1        2\n",
       "Name: count, dtype: int64"
      ]
     },
     "execution_count": 153,
     "metadata": {},
     "output_type": "execute_result"
    }
   ],
   "source": [
    "df2['complaints'].value_counts()"
   ]
  },
  {
   "cell_type": "code",
   "execution_count": 154,
   "metadata": {},
   "outputs": [
    {
     "name": "stdout",
     "output_type": "stream",
     "text": [
      "complaints\n",
      "moderate_complaints    6302\n",
      "low_complaints         2532\n",
      "high_complaints         904\n",
      "Name: count, dtype: int64\n"
     ]
    }
   ],
   "source": [
    "def complaints(x):\n",
    "    if x >= 0 and x <= 5:\n",
    "        return 'low_complaints'\n",
    "    elif x > 5 and x < 10:\n",
    "        return \"moderate_complaints\"\n",
    "    elif x >= 10:\n",
    "        return \"high_complaints\"\n",
    "\n",
    "df2['complaints'] = df2['complaints'].apply(complaints)\n",
    "\n",
    "complaints_counts = df2['complaints'].value_counts()\n",
    "\n",
    "print(complaints_counts)"
   ]
  },
  {
   "cell_type": "code",
   "execution_count": 155,
   "metadata": {},
   "outputs": [
    {
     "data": {
      "text/plain": [
       "num_reviews\n",
       "8     2093\n",
       "9     2019\n",
       "10    1527\n",
       "7     1510\n",
       "11     897\n",
       "6      753\n",
       "12     365\n",
       "5      312\n",
       "13     103\n",
       "4       96\n",
       "14      31\n",
       "3       22\n",
       "2        5\n",
       "15       4\n",
       "1        1\n",
       "Name: count, dtype: int64"
      ]
     },
     "execution_count": 155,
     "metadata": {},
     "output_type": "execute_result"
    }
   ],
   "source": [
    "df2['num_reviews'].value_counts()"
   ]
  },
  {
   "cell_type": "code",
   "execution_count": 156,
   "metadata": {},
   "outputs": [
    {
     "name": "stdout",
     "output_type": "stream",
     "text": [
      "num_reviews\n",
      "moderate_num_reviews    6375\n",
      "high_num_reviews        2927\n",
      "low_num_reviews          436\n",
      "Name: count, dtype: int64\n"
     ]
    }
   ],
   "source": [
    "def num_reviews(x):\n",
    "    if x >= 0 and x <= 5:\n",
    "        return 'low_num_reviews'\n",
    "    elif x > 5 and x < 10:\n",
    "        return \"moderate_num_reviews\"\n",
    "    elif x >= 10:\n",
    "        return \"high_num_reviews\"\n",
    "\n",
    "df2['num_reviews'] = df2['num_reviews'].apply(num_reviews)\n",
    "\n",
    "num_reviews_counts = df2['num_reviews'].value_counts()\n",
    "\n",
    "print(num_reviews_counts)"
   ]
  },
  {
   "cell_type": "code",
   "execution_count": 157,
   "metadata": {},
   "outputs": [
    {
     "data": {
      "text/plain": [
       "avg_review\n",
       "2.89    86\n",
       "2.83    85\n",
       "2.87    83\n",
       "2.99    81\n",
       "2.76    81\n",
       "        ..\n",
       "1.43     1\n",
       "1.11     1\n",
       "1.45     1\n",
       "4.55     1\n",
       "4.44     1\n",
       "Name: count, Length: 331, dtype: int64"
      ]
     },
     "execution_count": 157,
     "metadata": {},
     "output_type": "execute_result"
    }
   ],
   "source": [
    "df2['avg_review'].value_counts()"
   ]
  },
  {
   "cell_type": "code",
   "execution_count": 158,
   "metadata": {},
   "outputs": [
    {
     "name": "stdout",
     "output_type": "stream",
     "text": [
      "avg_review\n",
      "over_avg_review     5036\n",
      "below_avg_review    4702\n",
      "Name: count, dtype: int64\n"
     ]
    }
   ],
   "source": [
    "def avg_review(x):\n",
    "    if x <= 2.9:\n",
    "        return 'below_avg_review'\n",
    "    elif x > 2.9:\n",
    "        return \"over_avg_review\"\n",
    "\n",
    "df2['avg_review'] = df2['avg_review'].apply(avg_review)\n",
    "\n",
    "avg_review_counts = df2['avg_review'].value_counts()\n",
    "\n",
    "print(avg_review_counts)"
   ]
  },
  {
   "cell_type": "code",
   "execution_count": 159,
   "metadata": {},
   "outputs": [
    {
     "data": {
      "text/plain": [
       "latest_review\n",
       "3    5762\n",
       "4    3150\n",
       "2     779\n",
       "5      41\n",
       "1       6\n",
       "Name: count, dtype: int64"
      ]
     },
     "execution_count": 159,
     "metadata": {},
     "output_type": "execute_result"
    }
   ],
   "source": [
    "df2['latest_review'].value_counts()"
   ]
  },
  {
   "cell_type": "code",
   "execution_count": 160,
   "metadata": {},
   "outputs": [
    {
     "name": "stdout",
     "output_type": "stream",
     "text": [
      "latest_review\n",
      "low_latest_review     6547\n",
      "high_latest_review    3191\n",
      "Name: count, dtype: int64\n"
     ]
    }
   ],
   "source": [
    "def latest_review(x):\n",
    "    if x <= 3:\n",
    "        return 'low_latest_review'\n",
    "    elif x > 3:\n",
    "        return \"high_latest_review\"\n",
    "\n",
    "df2['latest_review'] = df2['latest_review'].apply(latest_review)\n",
    "\n",
    "latest_review_counts = df2['latest_review'].value_counts()\n",
    "\n",
    "print(latest_review_counts)"
   ]
  },
  {
   "cell_type": "code",
   "execution_count": 161,
   "metadata": {},
   "outputs": [
    {
     "data": {
      "text/plain": [
       "Index(['complaints', 'transactions_ytd', 'avg_tr_amt', 'time_on_site',\n",
       "       'total_discounts', 'num_reviews', 'avg_review', 'returns',\n",
       "       'latest_review', 'num_total_purchases', 'purchase_made_last_month'],\n",
       "      dtype='object')"
      ]
     },
     "execution_count": 161,
     "metadata": {},
     "output_type": "execute_result"
    }
   ],
   "source": [
    "df2.columns"
   ]
  },
  {
   "cell_type": "code",
   "execution_count": 162,
   "metadata": {},
   "outputs": [
    {
     "name": "stdout",
     "output_type": "stream",
     "text": [
      "<class 'pandas.core.frame.DataFrame'>\n",
      "Index: 9738 entries, 0 to 9746\n",
      "Data columns (total 11 columns):\n",
      " #   Column                    Non-Null Count  Dtype  \n",
      "---  ------                    --------------  -----  \n",
      " 0   complaints                9738 non-null   object \n",
      " 1   transactions_ytd          9738 non-null   int64  \n",
      " 2   avg_tr_amt                9738 non-null   float64\n",
      " 3   time_on_site              9738 non-null   float64\n",
      " 4   total_discounts           9738 non-null   float64\n",
      " 5   num_reviews               9738 non-null   object \n",
      " 6   avg_review                9738 non-null   object \n",
      " 7   returns                   9738 non-null   float64\n",
      " 8   latest_review             9738 non-null   object \n",
      " 9   num_total_purchases       9738 non-null   int64  \n",
      " 10  purchase_made_last_month  9738 non-null   int64  \n",
      "dtypes: float64(4), int64(3), object(4)\n",
      "memory usage: 912.9+ KB\n"
     ]
    }
   ],
   "source": [
    "df2.info()"
   ]
  },
  {
   "cell_type": "markdown",
   "metadata": {},
   "source": [
    "##### 4.2 Feature Selection"
   ]
  },
  {
   "cell_type": "markdown",
   "metadata": {},
   "source": [
    "### 5. Model Development"
   ]
  },
  {
   "cell_type": "code",
   "execution_count": 164,
   "metadata": {},
   "outputs": [],
   "source": [
    "cat = ['complaints', 'num_reviews', 'avg_review', 'latest_review']\n",
    "num = ['transactions_ytd', 'avg_tr_amt', 'time_on_site', 'total_discounts', 'returns', 'num_total_purchases']\n"
   ]
  },
  {
   "cell_type": "markdown",
   "metadata": {},
   "source": [
    "* Build Pipeline"
   ]
  },
  {
   "cell_type": "code",
   "execution_count": 165,
   "metadata": {},
   "outputs": [],
   "source": [
    "cat_transformer = OneHotEncoder(handle_unknown='ignore')\n",
    "num_transformer = StandardScaler()\n",
    "preprocessor = ColumnTransformer(transformers = [('cat',cat_transformer, cat),\n",
    "                                                 ('num', num_transformer, num)])"
   ]
  },
  {
   "cell_type": "markdown",
   "metadata": {},
   "source": [
    "* Split training and testing sets"
   ]
  },
  {
   "cell_type": "code",
   "execution_count": 166,
   "metadata": {},
   "outputs": [],
   "source": [
    "X_train, X_test, y_train, y_test = train_test_split(df2[cat+num], df2['purchase_made_last_month'], test_size=0.3, random_state=1)"
   ]
  },
  {
   "cell_type": "code",
   "execution_count": 167,
   "metadata": {},
   "outputs": [],
   "source": [
    "X_train_transformed = preprocessor.fit_transform(X_train)\n",
    "X_test_transformed = preprocessor.transform(X_test)"
   ]
  },
  {
   "cell_type": "code",
   "execution_count": 168,
   "metadata": {},
   "outputs": [
    {
     "data": {
      "text/plain": [
       "(6816, 16)"
      ]
     },
     "execution_count": 168,
     "metadata": {},
     "output_type": "execute_result"
    }
   ],
   "source": [
    "X_train_transformed.shape"
   ]
  },
  {
   "cell_type": "markdown",
   "metadata": {},
   "source": [
    "##### 5.1 Logistic Regression"
   ]
  },
  {
   "cell_type": "code",
   "execution_count": 169,
   "metadata": {},
   "outputs": [],
   "source": [
    "log = LogisticRegression(max_iter=1000)\n",
    "\n",
    "log_reg = log.fit(X_train_transformed, y_train)\n",
    "y_pred_log = log.predict(X_test_transformed)"
   ]
  },
  {
   "cell_type": "code",
   "execution_count": 170,
   "metadata": {},
   "outputs": [
    {
     "name": "stdout",
     "output_type": "stream",
     "text": [
      "Cross-validation scores for logistic regression: 0.923.\n"
     ]
    }
   ],
   "source": [
    "cv_scores_log = cross_val_score(log, X_train_transformed, y_train, cv=5, scoring='roc_auc')\n",
    "print(f\"Cross-validation scores for logistic regression: {round(cv_scores_log.mean(), 3)}.\")"
   ]
  },
  {
   "cell_type": "code",
   "execution_count": 171,
   "metadata": {},
   "outputs": [
    {
     "data": {
      "text/plain": [
       "array([[1211,  217],\n",
       "       [ 237, 1257]], dtype=int64)"
      ]
     },
     "execution_count": 171,
     "metadata": {},
     "output_type": "execute_result"
    }
   ],
   "source": [
    "matrix_log = confusion_matrix(y_test, y_pred_log)\n",
    "matrix_log"
   ]
  },
  {
   "cell_type": "code",
   "execution_count": 172,
   "metadata": {},
   "outputs": [
    {
     "name": "stdout",
     "output_type": "stream",
     "text": [
      "The accuracy of logistic regression is 0.845.\n",
      "The recall of logistic regression is 0.841.\n",
      "The precission of logistic regression is 0.853.\n",
      "The f1 of logistic regression is 0.847.\n"
     ]
    }
   ],
   "source": [
    "accuracy_log = round(accuracy_score(y_test, y_pred_log), 3)\n",
    "recall_log = round(recall_score(y_test, y_pred_log), 3)\n",
    "precision_log = round(precision_score(y_test, y_pred_log), 3)\n",
    "f1_log = round(f1_score(y_test, y_pred_log,), 3)\n",
    "\n",
    "print(f\"The accuracy of logistic regression is {accuracy_log}.\")\n",
    "print(f\"The recall of logistic regression is {recall_log}.\")\n",
    "print(f\"The precission of logistic regression is {precision_log}.\")\n",
    "print(f\"The f1 of logistic regression is {f1_log}.\")"
   ]
  },
  {
   "cell_type": "code",
   "execution_count": 173,
   "metadata": {},
   "outputs": [
    {
     "data": {
      "image/png": "[encoded data removed]",
      "text/plain": [
       "<Figure size 432x288 with 1 Axes>"
      ]
     },
     "metadata": {
      "needs_background": "light"
     },
     "output_type": "display_data"
    }
   ],
   "source": [
    "fpr_log, tpr_log, thresholds_log = roc_curve(y_test, log.predict_proba(X_test_transformed)[:,1])\n",
    "\n",
    "plt.plot(fpr_log,tpr_log)\n",
    "plt.xlabel('False Positive Rate')\n",
    "plt.ylabel('True Positive Rate')\n",
    "plt.show()"
   ]
  },
  {
   "cell_type": "code",
   "execution_count": 174,
   "metadata": {},
   "outputs": [
    {
     "data": {
      "text/plain": [
       "array([0.        , 0.02587168, 0.47282228, 0.4726567 , 0.50082756,\n",
       "       0.50065204, 0.5234947 , 0.52331111, 0.53028468, 0.53009858,\n",
       "       0.54744282, 0.54725056, 0.55751429, 0.55731836, 0.58246427,\n",
       "       0.58225943, 0.59582846, 0.59561877, 0.59896184, 0.5987509 ,\n",
       "       0.60041487, 0.60020327, 0.60571489, 0.60550127, 0.60659721,\n",
       "       0.60638312, 0.61991409, 0.61969515, 0.6271424 , 0.62669903,\n",
       "       0.62880914, 0.62836396, 0.63568902, 0.63523834, 0.63575796,\n",
       "       0.63553231, 0.64173277, 0.64150485, 0.64458163, 0.64435252,\n",
       "       0.64893872, 0.6487079 , 0.66623694, 0.6659998 , 0.67288116,\n",
       "       0.67240173, 0.67775572, 0.67751397, 0.68857026, 0.68783264,\n",
       "       0.69352515, 0.69327706, 0.6984526 , 0.69820257, 0.70007443,\n",
       "       0.69982364, 0.70075736, 0.70050615, 0.70097238, 0.70072091,\n",
       "       0.70118666, 0.70093493, 0.70186517, 0.70161302, 0.70254169,\n",
       "       0.70228912, 0.70460461, 0.70435111, 0.70527485, 0.70502093,\n",
       "       0.70594313, 0.70568878, 0.71393202, 0.71367461, 0.71866381,\n",
       "       0.71840451, 0.71975871, 0.71949882, 0.72129982, 0.72103919,\n",
       "       0.72283506, 0.72231221, 0.73077623, 0.7305116 , 0.73272192,\n",
       "       0.7324564 , 0.7407925 , 0.74052385, 0.74357039, 0.7430306 ,\n",
       "       0.74389812, 0.74362775, 0.74708651, 0.74681479, 0.75111428,\n",
       "       0.7508409 , 0.7542616 , 0.75343712, 0.75726278, 0.75670983,\n",
       "       0.75755674, 0.7572798 , 0.75812545, 0.7578481 , 0.76248073,\n",
       "       0.76192234, 0.76317998, 0.76262026, 0.76512751, 0.76484658,\n",
       "       0.7652635 , 0.76498231, 0.76539885, 0.76511741, 0.76719597,\n",
       "       0.76691365, 0.76815763, 0.76787475, 0.77035578, 0.77007188,\n",
       "       0.77295528, 0.77267022, 0.7730811 , 0.77279578, 0.77361659,\n",
       "       0.77304503, 0.77468283, 0.77439629, 0.77643794, 0.77615053,\n",
       "       0.77696538, 0.77667756, 0.7778978 , 0.77760942, 0.77963815,\n",
       "       0.77934891, 0.78015862, 0.77957922, 0.78361225, 0.78332089,\n",
       "       0.78733178, 0.78703882, 0.78783825, 0.78754488, 0.79351272,\n",
       "       0.79321702, 0.79361314, 0.79242864, 0.79361402, 0.79331718,\n",
       "       0.79528815, 0.79469266, 0.79587202, 0.79557366, 0.79675083,\n",
       "       0.79645192, 0.79684378, 0.79654461, 0.79889084, 0.79859068,\n",
       "       0.80053989, 0.79993775, 0.80032673, 0.79942224, 0.80136211,\n",
       "       0.8001516 , 0.80401149, 0.80370711, 0.80409194, 0.8037873 ,\n",
       "       0.80570794, 0.80540246, 0.80655222, 0.80594003, 0.80861441,\n",
       "       0.80830712, 0.80868831, 0.80807311, 0.80845382, 0.80783786,\n",
       "       0.80897807, 0.80866947, 0.80942843, 0.80881031, 0.80956798,\n",
       "       0.80925845, 0.8111488 , 0.81083843, 0.81159305, 0.81097138,\n",
       "       0.81134814, 0.81103698, 0.81141342, 0.811102  , 0.81185406,\n",
       "       0.81154223, 0.81266859, 0.8123562 , 0.81310596, 0.81248025,\n",
       "       0.81472364, 0.81440974, 0.817762  , 0.81744669, 0.81930242,\n",
       "       0.81867   , 0.81941054, 0.81877706, 0.82099297, 0.82067518,\n",
       "       0.82104378, 0.82072573, 0.82109401, 0.8207757 , 0.82334809,\n",
       "       0.8227091 , 0.82344202, 0.82312205, 0.82348813, 0.82316789,\n",
       "       0.82718248, 0.82653851, 0.8279924 , 0.82734679, 0.82770959,\n",
       "       0.82706319, 0.82923491, 0.82891068, 0.82963304, 0.82898362,\n",
       "       0.82970479, 0.82937961, 0.82973981, 0.82941436, 0.83300647,\n",
       "       0.83267948, 0.83339577, 0.83274084, 0.83452745, 0.83419909,\n",
       "       0.83562508, 0.83496684, 0.83567836, 0.83435922, 0.83684085,\n",
       "       0.83584718, 0.83620067, 0.83586905, 0.83692823, 0.83659604,\n",
       "       0.83800564, 0.83767277, 0.83802466, 0.83769152, 0.83804312,\n",
       "       0.8377097 , 0.8387632 , 0.83842923, 0.83913056, 0.83879617,\n",
       "       0.83914648, 0.83847703, 0.83882691, 0.83815665, 0.8385061 ,\n",
       "       0.83817063, 0.84026345, 0.839927  , 0.84062317, 0.83994933,\n",
       "       0.84099166, 0.84031644, 0.8417031 , 0.84102622, 0.84275495,\n",
       "       0.84105687, 0.84312251, 0.84278164, 0.84346879, 0.84312751,\n",
       "       0.84347073, 0.84312918, 0.84381493, 0.84313085, 0.84449957,\n",
       "       0.84381382, 0.84517921, 0.84345962, 0.84379993, 0.84345545,\n",
       "       0.84413538, 0.84379049, 0.84413011, 0.84378493, 0.84412428,\n",
       "       0.84377882, 0.84445683, 0.84411095, 0.84444961, 0.84410345,\n",
       "       0.84478009, 0.84373993, 0.84475262, 0.84405764, 0.84574138,\n",
       "       0.84469575, 0.84570314, 0.84535389, 0.84602454, 0.84567487,\n",
       "       0.84667943, 0.8463292 , 0.84766622, 0.84731529, 0.84798273,\n",
       "       0.84727989, 0.84794625, 0.84724227, 0.84923656, 0.84888352,\n",
       "       0.84954697, 0.8488399 , 0.84950228, 0.84843974, 0.84877032,\n",
       "       0.84841571, 0.84874602, 0.84803607, 0.84869576, 0.84834029,\n",
       "       0.84932846, 0.84897242, 0.84930141, 0.84787521, 0.84820353,\n",
       "       0.84498453, 0.84531147, 0.84387631, 0.84420257, 0.84384326,\n",
       "       0.84482087, 0.84446099, 0.84478647, 0.8444263 , 0.84507661,\n",
       "       0.84435524, 0.84467993, 0.84431888, 0.84464331, 0.84392046,\n",
       "       0.84456839, 0.84420645, 0.8448536 , 0.84449124, 0.84481449,\n",
       "       0.84408902, 0.84570203, 0.84533836, 0.84566046, 0.8452965 ,\n",
       "       0.84561833, 0.84416037, 0.84448153, 0.8441165 , 0.8444374 ,\n",
       "       0.84334096, 0.84366132, 0.84292929, 0.84324925, 0.84288286,\n",
       "       0.84320256, 0.84173484, 0.84237276, 0.84090137, 0.84121959,\n",
       "       0.8408512 , 0.84116916, 0.84080047, 0.84175322, 0.84064492,\n",
       "       0.84096184, 0.83911073, 0.83942683, 0.83905598, 0.84000318,\n",
       "       0.83963174, 0.84026233, 0.83989045, 0.84020543, 0.83983324,\n",
       "       0.84046257, 0.84008994, 0.84134662, 0.84022607, 0.84053953,\n",
       "       0.83941706, 0.83972999, 0.83898056, 0.8396055 , 0.83885485,\n",
       "       0.83916686, 0.83879114, 0.83910291, 0.83872688, 0.83903838,\n",
       "       0.83828555, 0.83890765, 0.83626541, 0.8368851 , 0.83574931,\n",
       "       0.83605856, 0.83567948, 0.83598848, 0.83522953, 0.83584661,\n",
       "       0.83508641, 0.83570248, 0.83456003, 0.83517481, 0.83441174,\n",
       "       0.83471868, 0.83395464, 0.83487393, 0.83372529, 0.83403107,\n",
       "       0.83211243, 0.8324174 , 0.832033  , 0.83355548, 0.83201329,\n",
       "       0.83231689, 0.83154443, 0.83184764, 0.83107419, 0.83167971,\n",
       "       0.83012951, 0.83043154, 0.8300434 , 0.83034518, 0.82995671,\n",
       "       0.83025824, 0.82831247, 0.82861318, 0.82274613, 0.82334297,\n",
       "       0.82216368, 0.82246151, 0.81851683, 0.81881312, 0.81762558,\n",
       "       0.81821699, 0.81702685, 0.81732197, 0.81652729, 0.81682202,\n",
       "       0.81483122, 0.81512512, 0.81472623, 0.81590019, 0.81389994,\n",
       "       0.81419245, 0.81098063, 0.81127188, 0.81086936, 0.81116036,\n",
       "       0.8107575 , 0.81104825, 0.81024164, 0.810532  , 0.80770149,\n",
       "       0.80799073, 0.80677418, 0.80706288, 0.80584406, 0.80613222,\n",
       "       0.80450367, 0.80479115, 0.80234125, 0.80262775, 0.79975901,\n",
       "       0.80004439, 0.79963358, 0.80020373, 0.7993809 , 0.79966553,\n",
       "       0.79595093, 0.79623414, 0.78581996, 0.78609936, 0.78147149,\n",
       "       0.78174915, 0.78132693, 0.78160434, 0.77609255, 0.7763679 ,\n",
       "       0.77594215, 0.77649227, 0.77350328, 0.77377714, 0.77034574,\n",
       "       0.77061828, 0.76717031, 0.76798371, 0.76277698, 0.76304608,\n",
       "       0.76217453, 0.76244323, 0.75543211, 0.75569825, 0.7512815 ,\n",
       "       0.75154599, 0.74977138, 0.75003515, 0.74781019, 0.74807308,\n",
       "       0.7436016 , 0.74386283, 0.74161618, 0.7421368 , 0.74078459,\n",
       "       0.74104429, 0.73378786, 0.73404493, 0.73038839, 0.73064408,\n",
       "       0.73018557, 0.73044101, 0.72906325, 0.72931813, 0.72331541,\n",
       "       0.72382069, 0.72289212, 0.72314431, 0.71941673, 0.71966753,\n",
       "       0.71120609, 0.71145386, 0.70908471, 0.70933156, 0.70742986,\n",
       "       0.70792199, 0.70744543, 0.7076912 , 0.7067368 , 0.70698215,\n",
       "       0.70315024, 0.70339418, 0.7024326 , 0.70267612, 0.70219467,\n",
       "       0.70243794, 0.69954127, 0.69978345, 0.69395182, 0.6944319 ,\n",
       "       0.691005  , 0.69124373, 0.68829179, 0.68852942, 0.68754228,\n",
       "       0.68777949, 0.68182457, 0.68205964, 0.68106175, 0.68153096,\n",
       "       0.68103112, 0.68126544, 0.67624499, 0.6764775 , 0.67496356,\n",
       "       0.67519546, 0.66654854, 0.66677739, 0.65018313, 0.65040622,\n",
       "       0.64830134, 0.64852362, 0.64746826, 0.64769011, 0.63810994,\n",
       "       0.63854685, 0.62772324, 0.62793788, 0.62520175, 0.62541539,\n",
       "       0.62431721, 0.62453039, 0.61567136, 0.61588145, 0.61420558,\n",
       "       0.61441502, 0.61329485, 0.61350384, 0.609001  , 0.60920839,\n",
       "       0.608643  , 0.60885013, 0.59569352, 0.59589611, 0.59415795,\n",
       "       0.59435988, 0.58676578, 0.58696505, 0.58460775, 0.58480616,\n",
       "       0.58362354, 0.58382148, 0.58322907, 0.58342674, 0.57686782,\n",
       "       0.5770632 , 0.57526082, 0.57545552, 0.57001231, 0.57020511,\n",
       "       0.56224695, 0.56243699, 0.56181995, 0.56200972, 0.56015387,\n",
       "       0.56034296, 0.5484394 , 0.5486244 , 0.54225224, 0.54243503,\n",
       "       0.52748188, 0.52765957, 0.52102208, 0.52119748, 0.51985936,\n",
       "       0.52003425, 0.50919901, 0.5093702 , 0.50731213, 0.50748257,\n",
       "       0.49070162, 0.49086637, 0.48007678, 0.48039887, 0.45651299,\n",
       "       0.45681886, 0.        ])"
      ]
     },
     "execution_count": 174,
     "metadata": {},
     "output_type": "execute_result"
    }
   ],
   "source": [
    "gmeans_log = np.sqrt(tpr_log*(1-fpr_log))\n",
    "gmeans_log"
   ]
  },
  {
   "cell_type": "code",
   "execution_count": 175,
   "metadata": {},
   "outputs": [
    {
     "data": {
      "text/plain": [
       "0.47443585741678934"
      ]
     },
     "execution_count": 175,
     "metadata": {},
     "output_type": "execute_result"
    }
   ],
   "source": [
    "thresholds_log[np.argmax(gmeans_log)]"
   ]
  },
  {
   "cell_type": "markdown",
   "metadata": {},
   "source": [
    "##### 5.2 Gaussian Naive Bayes"
   ]
  },
  {
   "cell_type": "code",
   "execution_count": 177,
   "metadata": {},
   "outputs": [],
   "source": [
    "nb = GaussianNB()\n",
    "\n",
    "nb_model = nb.fit(X_train_transformed, y_train)\n",
    "y_pred_nb = nb.predict(X_test_transformed)"
   ]
  },
  {
   "cell_type": "code",
   "execution_count": 179,
   "metadata": {},
   "outputs": [
    {
     "name": "stdout",
     "output_type": "stream",
     "text": [
      "Cross-validation scores for Naive Bayes: 0.894.\n"
     ]
    }
   ],
   "source": [
    "# Cross-validation for NB\n",
    "cv_scores_nb = cross_val_score(nb, X_train_transformed, y_train, cv=5, scoring='roc_auc')\n",
    "\n",
    "print(f\"Cross-validation scores for Naive Bayes: {round(cv_scores_nb.mean(), 3)}.\")"
   ]
  },
  {
   "cell_type": "code",
   "execution_count": 180,
   "metadata": {},
   "outputs": [
    {
     "name": "stdout",
     "output_type": "stream",
     "text": [
      "The accuracy of Gaussian Naive Bayes is 0.776.\n",
      "The recall of Gaussian Naive Bayes is 0.92.\n",
      "The precission of Gaussian Naive Bayes is 0.72.\n",
      "The f1 of Gaussian Naive Bayes is 0.808.\n"
     ]
    }
   ],
   "source": [
    "accuracy_nb = round(accuracy_score(y_test, y_pred_nb), 3)\n",
    "recall_nb = round(recall_score(y_test, y_pred_nb), 3)\n",
    "precision_nb = round(precision_score(y_test, y_pred_nb), 3)\n",
    "f1_nb = round(f1_score(y_test, y_pred_nb), 3)\n",
    "\n",
    "print(f\"The accuracy of Gaussian Naive Bayes is {accuracy_nb}.\")\n",
    "print(f\"The recall of Gaussian Naive Bayes is {recall_nb}.\")\n",
    "print(f\"The precission of Gaussian Naive Bayes is {precision_nb}.\")\n",
    "print(f\"The f1 of Gaussian Naive Bayes is {f1_nb}.\")"
   ]
  },
  {
   "cell_type": "code",
   "execution_count": 182,
   "metadata": {},
   "outputs": [
    {
     "name": "stdout",
     "output_type": "stream",
     "text": [
      "Best parameters for Gaussian Naive Bayes:  {'var_smoothing': 0.0533669923120631}\n"
     ]
    }
   ],
   "source": [
    "# Hyperparameter tuning\n",
    "params_nb = {'var_smoothing': np.logspace(0,-9, num=100)}\n",
    "gridsearch_nb = GridSearchCV(nb, params_nb, cv=5, scoring='roc_auc')\n",
    "\n",
    "nb_grid = gridsearch_nb.fit(X_train_transformed, y_train)\n",
    "\n",
    "print(\"Best parameters for Gaussian Naive Bayes: \", gridsearch_nb.best_params_)"
   ]
  },
  {
   "cell_type": "code",
   "execution_count": 184,
   "metadata": {},
   "outputs": [],
   "source": [
    "nb_best = GaussianNB(**gridsearch_nb.best_params_)\n",
    "\n",
    "# Fit the models with the best parameters\n",
    "nb_best_model = nb_best.fit(X_train_transformed, y_train)\n",
    "y_pred_nb_best = nb_best.predict(X_test_transformed)"
   ]
  },
  {
   "cell_type": "code",
   "execution_count": 185,
   "metadata": {},
   "outputs": [
    {
     "data": {
      "text/plain": [
       "array([[1117,  311],\n",
       "       [ 224, 1270]], dtype=int64)"
      ]
     },
     "execution_count": 185,
     "metadata": {},
     "output_type": "execute_result"
    }
   ],
   "source": [
    "matrix_nb = confusion_matrix(y_test, y_pred_nb_best)\n",
    "matrix_nb"
   ]
  },
  {
   "cell_type": "code",
   "execution_count": 187,
   "metadata": {},
   "outputs": [
    {
     "name": "stdout",
     "output_type": "stream",
     "text": [
      "Cross-validation scores for Gaussian Naive Bayes: 0.898.\n",
      "The accuracy of Gaussian Naive Bayes is 0.817.\n",
      "The recall of Gaussian Naive Bayes is 0.85.\n",
      "The precission of Gaussian Naive Bayes is 0.803.\n",
      "The f1 of Gaussian Naive Bayes is 0.826.\n"
     ]
    }
   ],
   "source": [
    "# Cross-validation for NB\n",
    "cv_scores_nb_best = cross_val_score(nb_best, X_train_transformed, y_train, cv=5, scoring='roc_auc')\n",
    "print(f\"Cross-validation scores for Gaussian Naive Bayes: {round(cv_scores_nb_best.mean(), 3)}.\")\n",
    "\n",
    "\n",
    "accuracy_nb_best = round(accuracy_score(y_test, y_pred_nb_best), 3)\n",
    "recall_nb_best = round(recall_score(y_test, y_pred_nb_best), 3)\n",
    "precision_nb_best = round(precision_score(y_test, y_pred_nb_best), 3)\n",
    "f1_nb_best = round(f1_score(y_test, y_pred_nb_best), 3)\n",
    "\n",
    "print(f\"The accuracy of Gaussian Naive Bayes is {accuracy_nb_best}.\")\n",
    "print(f\"The recall of Gaussian Naive Bayes is {recall_nb_best}.\")\n",
    "print(f\"The precission of Gaussian Naive Bayes is {precision_nb_best}.\")\n",
    "print(f\"The f1 of Gaussian Naive Bayes is {f1_nb_best}.\")"
   ]
  },
  {
   "cell_type": "code",
   "execution_count": 189,
   "metadata": {},
   "outputs": [],
   "source": [
    "fpr_nb, tpr_nb, thresholds_nb = roc_curve(y_test, nb_best.predict_proba(X_test_transformed)[:,1])"
   ]
  },
  {
   "cell_type": "code",
   "execution_count": 190,
   "metadata": {},
   "outputs": [
    {
     "data": {
      "image/png": "[encoded data removed]",
      "text/plain": [
       "<Figure size 432x288 with 1 Axes>"
      ]
     },
     "metadata": {
      "needs_background": "light"
     },
     "output_type": "display_data"
    }
   ],
   "source": [
    "plt.plot(fpr_nb,tpr_nb)\n",
    "plt.xlabel('False Positive Rate')\n",
    "plt.ylabel('True Positive Rate')\n",
    "plt.show()"
   ]
  },
  {
   "cell_type": "code",
   "execution_count": 191,
   "metadata": {},
   "outputs": [
    {
     "data": {
      "text/plain": [
       "array([0.        , 0.02587168, 0.33433584, 0.33421876, 0.49274916,\n",
       "       0.49257648, 0.50397867, 0.50380193, 0.52965451, 0.52946863,\n",
       "       0.55890567, 0.55870939, 0.56700458, 0.56680532, 0.57090629,\n",
       "       0.57050466, 0.57167015, 0.57146882, 0.57263153, 0.57242972,\n",
       "       0.57705549, 0.57685198, 0.58143934, 0.58123414, 0.58973631,\n",
       "       0.58952803, 0.60616897, 0.60595474, 0.62054513, 0.62032566,\n",
       "       0.62405137, 0.62383051, 0.62700524, 0.62678317, 0.63046552,\n",
       "       0.63024207, 0.63546372, 0.63523834, 0.63886682, 0.63864007,\n",
       "       0.63915656, 0.63892954, 0.64047597, 0.63979279, 0.64491532,\n",
       "       0.64445581, 0.64700006, 0.64676928, 0.64727675, 0.6470457 ,\n",
       "       0.65108977, 0.6508572 , 0.65587545, 0.655641  , 0.65663969,\n",
       "       0.65616982, 0.65766395, 0.65742835, 0.6584222 , 0.65818616,\n",
       "       0.66016866, 0.65993183, 0.66240071, 0.66216291, 0.6660927 ,\n",
       "       0.6658534 , 0.67024529, 0.67000433, 0.67677711, 0.67653362,\n",
       "       0.67701462, 0.67677087, 0.67773152, 0.67748733, 0.6808377 ,\n",
       "       0.68059222, 0.68487421, 0.6846271 , 0.68510105, 0.68485368,\n",
       "       0.68863221, 0.68838338, 0.69680715, 0.69655518, 0.69794876,\n",
       "       0.6976962 , 0.69815994, 0.69790712, 0.70068211, 0.70042819,\n",
       "       0.70410984, 0.70385449, 0.70568745, 0.70543135, 0.7081709 ,\n",
       "       0.70791371, 0.70973354, 0.7094756 , 0.71083692, 0.71057839,\n",
       "       0.71284066, 0.71232167, 0.71547454, 0.71521376, 0.7161117 ,\n",
       "       0.71558918, 0.71961315, 0.71908731, 0.72086723, 0.72060351,\n",
       "       0.7214915 , 0.72122736, 0.72476715, 0.72450162, 0.72670443,\n",
       "       0.72643799, 0.72731692, 0.72705007, 0.72748898, 0.72722186,\n",
       "       0.73203071, 0.73176173, 0.73480441, 0.73453422, 0.73583389,\n",
       "       0.73502127, 0.73545351, 0.73518227, 0.73690805, 0.73636401,\n",
       "       0.74194098, 0.74166674, 0.74252071, 0.74224606, 0.74352469,\n",
       "       0.74324946, 0.74622332, 0.74567036, 0.74778574, 0.74750832,\n",
       "       0.7491957 , 0.74891755, 0.7497595 , 0.74948094, 0.75032163,\n",
       "       0.75004265, 0.7508821 , 0.7506027 , 0.75102191, 0.75074225,\n",
       "       0.75199803, 0.75115702, 0.7536595 , 0.75337802, 0.75876973,\n",
       "       0.75848613, 0.75931192, 0.7590279 , 0.7594403 , 0.75915603,\n",
       "       0.76039143, 0.75982164, 0.7635131 , 0.76322666, 0.76404426,\n",
       "       0.7637574 , 0.7649817 , 0.76469427, 0.76510178, 0.7642384 ,\n",
       "       0.76545825, 0.76516978, 0.76679263, 0.76621413, 0.77025324,\n",
       "       0.76967126, 0.77047594, 0.77018448, 0.77058635, 0.77029462,\n",
       "       0.77109743, 0.77051305, 0.77091383, 0.77062132, 0.77142197,\n",
       "       0.77112904, 0.7715289 , 0.77123571, 0.77402788, 0.77373352,\n",
       "       0.77413143, 0.7738368 , 0.77463171, 0.77433666, 0.77790232,\n",
       "       0.77730918, 0.77770405, 0.77740716, 0.7797713 , 0.7794734 ,\n",
       "       0.78065233, 0.78035386, 0.78153057, 0.78123153, 0.78162323,\n",
       "       0.78102451, 0.78180671, 0.78150688, 0.78618194, 0.7858802 ,\n",
       "       0.78626838, 0.78536202, 0.78574957, 0.78544707, 0.78699475,\n",
       "       0.78669153, 0.78939163, 0.78908726, 0.78947209, 0.78916745,\n",
       "       0.78955194, 0.78924703, 0.79039894, 0.78978788, 0.79017118,\n",
       "       0.78986533, 0.79139608, 0.79108951, 0.79299806, 0.79207543,\n",
       "       0.79321702, 0.79260045, 0.79336001, 0.79274237, 0.79539306,\n",
       "       0.79508302, 0.79583845, 0.79490673, 0.79566056, 0.79534945,\n",
       "       0.7964784 , 0.79616673, 0.79729365, 0.79698141, 0.79773151,\n",
       "       0.79741886, 0.79891636, 0.798603  , 0.79897679, 0.7983494 ,\n",
       "       0.79872273, 0.7984087 , 0.79915453, 0.79884009, 0.79921259,\n",
       "       0.79826808, 0.79863998, 0.79832475, 0.79906772, 0.79843629,\n",
       "       0.79954858, 0.79923224, 0.80218963, 0.801872  , 0.80224076,\n",
       "       0.80160482, 0.80234125, 0.80202279, 0.80312574, 0.80248758,\n",
       "       0.80322145, 0.80290188, 0.804001  , 0.80368087, 0.80441249,\n",
       "       0.80377126, 0.80450163, 0.80418054, 0.80454533, 0.80390246,\n",
       "       0.80681253, 0.80616682, 0.80652955, 0.80620636, 0.80656878,\n",
       "       0.80592171, 0.80700713, 0.80668296, 0.80740547, 0.80675617,\n",
       "       0.80747746, 0.80682705, 0.80718716, 0.80686162, 0.80722142,\n",
       "       0.8068956 , 0.8072551 , 0.806929  , 0.8072882 , 0.80696182,\n",
       "       0.80732071, 0.80699406, 0.80735264, 0.80669865, 0.80777258,\n",
       "       0.80744495, 0.80887406, 0.80854571, 0.80925903, 0.80860136,\n",
       "       0.8089575 , 0.80862832, 0.80969535, 0.8087057 , 0.81012448,\n",
       "       0.80946289, 0.81017077, 0.80983948, 0.81019304, 0.80952977,\n",
       "       0.81094133, 0.80961082, 0.80996275, 0.80929639, 0.80964788,\n",
       "       0.80864687, 0.80899777, 0.80866368, 0.80936473, 0.80903021,\n",
       "       0.81008022, 0.80907453, 0.81012188, 0.80978594, 0.81013461,\n",
       "       0.80946202, 0.80981025, 0.8094736 , 0.81051696, 0.81017974,\n",
       "       0.81122132, 0.81088352, 0.81123028, 0.81089219, 0.81123866,\n",
       "       0.81056178, 0.8109078 , 0.80989099, 0.81023643, 0.80989707,\n",
       "       0.81196577, 0.8116254 , 0.81196952, 0.81128806, 0.81163175,\n",
       "       0.80992485, 0.81026767, 0.80992571, 0.81095289, 0.81061035,\n",
       "       0.81129412, 0.81060804, 0.81094942, 0.81060601, 0.81196952,\n",
       "       0.8116254 , 0.81264609, 0.81161154, 0.81296875, 0.81227715,\n",
       "       0.81329271, 0.81294626, 0.81396012, 0.81361309, 0.81395062,\n",
       "       0.8136033 , 0.81427765, 0.81392989, 0.8156126 , 0.8142172 ,\n",
       "       0.81455275, 0.81385387, 0.81653102, 0.81582924, 0.81616298,\n",
       "       0.8154603 , 0.81645984, 0.81575569, 0.81608831, 0.81432456,\n",
       "       0.81465633, 0.81359581, 0.81425807, 0.81390397, 0.81555657,\n",
       "       0.81520159, 0.81685013, 0.81649428, 0.81682345, 0.8164673 ,\n",
       "       0.81712495, 0.81676836, 0.81775341, 0.81739623, 0.81772417,\n",
       "       0.8173667 , 0.81769437, 0.81733659, 0.81766398, 0.81730591,\n",
       "       0.81796002, 0.81724282, 0.81756939, 0.81721042, 0.81753671,\n",
       "       0.816818  , 0.81746963, 0.81674971, 0.81707504, 0.8167147 ,\n",
       "       0.81736469, 0.8170039 , 0.81765309, 0.81656891, 0.81721672,\n",
       "       0.81685472, 0.81750174, 0.81605098, 0.81669633, 0.81524184,\n",
       "       0.81556375, 0.81519958, 0.81584274, 0.81511333, 0.8157554 ,\n",
       "       0.81539017, 0.81571087, 0.81534533, 0.81566576, 0.81529991,\n",
       "       0.81626003, 0.81479325, 0.81511247, 0.81364247, 0.81396098,\n",
       "       0.8132247 , 0.81386078, 0.81312325, 0.81344082, 0.81307166,\n",
       "       0.81402317, 0.81365342, 0.8139702 , 0.8124889 , 0.81280499,\n",
       "       0.8124341 , 0.8130656 , 0.81157919, 0.81220906, 0.81146425,\n",
       "       0.81209305, 0.8117201 , 0.81203418, 0.81091387, 0.81154079,\n",
       "       0.81116672, 0.81147985, 0.81110546, 0.81141833, 0.81066875,\n",
       "       0.81098121, 0.8091035 , 0.80972661, 0.80897372, 0.80928481,\n",
       "       0.80702107, 0.80733116, 0.80506018, 0.80598714, 0.8014206 ,\n",
       "       0.80234125, 0.80157675, 0.8018831 , 0.80111758, 0.80142353,\n",
       "       0.80065698, 0.80096252, 0.80057882, 0.8008841 , 0.80050007,\n",
       "       0.80080508, 0.79772505, 0.79802877, 0.79687025, 0.79747646,\n",
       "       0.79708962, 0.79739241, 0.79661787, 0.79692025, 0.79575657,\n",
       "       0.7960584 , 0.79528138, 0.79558279, 0.79519385, 0.795495  ,\n",
       "       0.79510572, 0.79600805, 0.79522803, 0.79582843, 0.79504706,\n",
       "       0.79564642, 0.79486369, 0.7951629 , 0.79359453, 0.79389304,\n",
       "       0.79350032, 0.79379857, 0.79301224, 0.79390544, 0.79311745,\n",
       "       0.79341466, 0.79262559, 0.79292239, 0.79213224, 0.79272493,\n",
       "       0.79153732, 0.79183306, 0.79104004, 0.79133537, 0.78974634,\n",
       "       0.79004096, 0.78884665, 0.79002228, 0.78481812, 0.78510982,\n",
       "       0.78350099, 0.78408287, 0.78246953, 0.78275971, 0.78195149,\n",
       "       0.78224126, 0.77940484, 0.77998196, 0.77957562, 0.77986387,\n",
       "       0.77945716, 0.77974515, 0.77811559, 0.77869006, 0.77541824,\n",
       "       0.7757041 , 0.77118101, 0.7717491 , 0.77133629, 0.77162002,\n",
       "       0.77079344, 0.77107676, 0.76983476, 0.77011753, 0.76387492,\n",
       "       0.76415529, 0.76331877, 0.7638786 , 0.76304055, 0.7638786 ,\n",
       "       0.76345877, 0.76373776, 0.76205552, 0.76261196, 0.75796314,\n",
       "       0.75823951, 0.75781532, 0.75809144, 0.75681698, 0.757368  ,\n",
       "       0.75651654, 0.75679159, 0.75551214, 0.75578663, 0.75450455,\n",
       "       0.75477846, 0.75435046, 0.75462412, 0.75247969, 0.75275248,\n",
       "       0.74844361, 0.74871474, 0.7469836 , 0.74725401, 0.74595255,\n",
       "       0.74622238, 0.74535316, 0.74562258, 0.74388047, 0.74414917,\n",
       "       0.74152738, 0.74206258, 0.7416244 , 0.7421589 , 0.74128113,\n",
       "       0.74181462, 0.74093517, 0.74120145, 0.74076118, 0.74102721,\n",
       "       0.74014556, 0.74041117, 0.73952816, 0.74005847, 0.73873101,\n",
       "       0.73899555, 0.73677701, 0.73704066, 0.73659599, 0.73685939,\n",
       "       0.73373804, 0.73400023, 0.73220998, 0.73247144, 0.73022665,\n",
       "       0.73048721, 0.72913654, 0.72939653, 0.72804287, 0.72830228,\n",
       "       0.72012396, 0.72038037, 0.71809126, 0.71834676, 0.71604952,\n",
       "       0.71630411, 0.71214891, 0.71240194, 0.71008216, 0.71033428,\n",
       "       0.70986925, 0.71012111, 0.70965561, 0.70990722, 0.70944124,\n",
       "       0.7096926 , 0.70595242, 0.70620236, 0.70149743, 0.70174562,\n",
       "       0.70127322, 0.70152115, 0.69677788, 0.69702405, 0.69511701,\n",
       "       0.69536241, 0.69297038, 0.69321486, 0.69273529, 0.69297951,\n",
       "       0.69249944, 0.69274341, 0.68549947, 0.6857408 , 0.68233276,\n",
       "       0.68257281, 0.68159561, 0.68207476, 0.68158529, 0.68206377,\n",
       "       0.68059222, 0.68083081, 0.67441472, 0.67465098, 0.67216607,\n",
       "       0.67240138, 0.66438439, 0.66461681, 0.66107756, 0.66130866,\n",
       "       0.65570641, 0.65593548, 0.65285836, 0.65308627, 0.65205698,\n",
       "       0.65228445, 0.65125317, 0.65148021, 0.64316752, 0.64339158,\n",
       "       0.64234457, 0.64279173, 0.63911109, 0.63933327, 0.63880555,\n",
       "       0.63924932, 0.63500881, 0.63522911, 0.63469687, 0.63491691,\n",
       "       0.63278273, 0.6332211 , 0.63107821, 0.63129654, 0.62914561,\n",
       "       0.62936311, 0.62557988, 0.625796  , 0.62362309, 0.6238384 ,\n",
       "       0.62056363, 0.62077773, 0.62023006, 0.6204439 , 0.61272252,\n",
       "       0.61293362, 0.60791635, 0.60812565, 0.60756542, 0.60777446,\n",
       "       0.60721352, 0.60742229, 0.60517257, 0.60558836, 0.60445958,\n",
       "       0.6048743 , 0.59805219, 0.59825711, 0.59596493, 0.59616899,\n",
       "       0.59097729, 0.59117951, 0.59059964, 0.59080159, 0.58730913,\n",
       "       0.58771044, 0.58360667, 0.58380582, 0.58321701, 0.5836147 ,\n",
       "       0.57828478, 0.57848171, 0.57669351, 0.57688976, 0.57148974,\n",
       "       0.57168409, 0.56987209, 0.57006576, 0.56946027, 0.56965367,\n",
       "       0.5660059 , 0.566198  , 0.56252532, 0.56271611, 0.56148613,\n",
       "       0.56167643, 0.54795973, 0.54814532, 0.54434311, 0.54452735,\n",
       "       0.52969433, 0.5298735 , 0.51996844, 0.52031989, 0.51225243,\n",
       "       0.51242534, 0.509025  , 0.50919671, 0.48111987, 0.48128205,\n",
       "       0.47983458, 0.47999622, 0.45848728, 0.45864163, 0.45329509,\n",
       "       0.45344758, 0.45190786, 0.45205978, 0.40398942, 0.40412515,\n",
       "       0.40152624, 0.40166105, 0.37467245, 0.37479816, 0.35270322,\n",
       "       0.35282147, 0.32817491, 0.32828487, 0.3073671 , 0.30747002,\n",
       "       0.        ])"
      ]
     },
     "execution_count": 191,
     "metadata": {},
     "output_type": "execute_result"
    }
   ],
   "source": [
    "gmeans_nb = np.sqrt(tpr_nb*(1-fpr_nb))\n",
    "gmeans_nb"
   ]
  },
  {
   "cell_type": "code",
   "execution_count": 192,
   "metadata": {},
   "outputs": [
    {
     "data": {
      "text/plain": [
       "0.5431866606731555"
      ]
     },
     "execution_count": 192,
     "metadata": {},
     "output_type": "execute_result"
    }
   ],
   "source": [
    "thresholds_nb[np.argmax(gmeans_nb)]"
   ]
  },
  {
   "cell_type": "markdown",
   "metadata": {},
   "source": [
    "##### 5.3 KNeighborsClassifier"
   ]
  },
  {
   "cell_type": "code",
   "execution_count": 193,
   "metadata": {},
   "outputs": [],
   "source": [
    "knn = KNeighborsClassifier(n_neighbors=5)\n",
    "\n",
    "knn_model = knn.fit(X_train_transformed, y_train)\n",
    "y_pred_knn = knn.predict(X_test_transformed)"
   ]
  },
  {
   "cell_type": "code",
   "execution_count": 194,
   "metadata": {},
   "outputs": [
    {
     "name": "stdout",
     "output_type": "stream",
     "text": [
      "Cross-validation scores for Naive Bayes: 0.962.\n"
     ]
    }
   ],
   "source": [
    "# Cross-validation for KNeighborsClassifier\n",
    "cv_scores_knn = cross_val_score(knn, X_train_transformed, y_train, cv=5, scoring='roc_auc')\n",
    "\n",
    "print(f\"Cross-validation scores for Naive Bayes: {round(cv_scores_knn.mean(), 3)}.\")"
   ]
  },
  {
   "cell_type": "code",
   "execution_count": 195,
   "metadata": {},
   "outputs": [
    {
     "name": "stdout",
     "output_type": "stream",
     "text": [
      "The accuracy of KNeighborsClassifier is 0.921.\n",
      "The recall of KNeighborsClassifier is 0.932.\n",
      "The precission of KNeighborsClassifier is 0.915.\n",
      "The f1 of KNeighborsClassifier is 0.923.\n"
     ]
    }
   ],
   "source": [
    "accuracy_knn = round(accuracy_score(y_test, y_pred_knn), 3)\n",
    "recall_knn = round(recall_score(y_test, y_pred_knn), 3)\n",
    "precision_knn = round(precision_score(y_test, y_pred_knn), 3)\n",
    "f1_knn = round(f1_score(y_test, y_pred_knn), 3)\n",
    "\n",
    "print(f\"The accuracy of KNeighborsClassifier is {accuracy_knn}.\")\n",
    "print(f\"The recall of KNeighborsClassifier is {recall_knn}.\")\n",
    "print(f\"The precission of KNeighborsClassifier is {precision_knn}.\")\n",
    "print(f\"The f1 of KNeighborsClassifier is {f1_knn}.\")"
   ]
  },
  {
   "cell_type": "code",
   "execution_count": 196,
   "metadata": {},
   "outputs": [
    {
     "name": "stdout",
     "output_type": "stream",
     "text": [
      "Best parameters for KNN:  {'weights': 'uniform', 'n_neighbors': 21}\n"
     ]
    }
   ],
   "source": [
    "# Hyperparameter tuning\n",
    "params_knn = {'n_neighbors': list(range(1,100)), 'weights': ['uniform', 'distance']}\n",
    "randomsearch_knn = RandomizedSearchCV(knn, params_knn, cv=10, scoring='roc_auc')\n",
    "\n",
    "rs_knn = randomsearch_knn.fit(X_train_transformed, y_train)\n",
    "\n",
    "print(\"Best parameters for KNN: \", randomsearch_knn.best_params_)"
   ]
  },
  {
   "cell_type": "code",
   "execution_count": 197,
   "metadata": {},
   "outputs": [],
   "source": [
    "knn_best = KNeighborsClassifier(**randomsearch_knn.best_params_)\n",
    "\n",
    "# Fit the model with the best parameters\n",
    "knn_best_model = knn_best.fit(X_train_transformed, y_train)\n",
    "y_pred_knn_best = knn_best.predict(X_test_transformed)"
   ]
  },
  {
   "cell_type": "code",
   "execution_count": 198,
   "metadata": {},
   "outputs": [
    {
     "data": {
      "text/plain": [
       "array([[1285,  143],\n",
       "       [ 100, 1394]], dtype=int64)"
      ]
     },
     "execution_count": 198,
     "metadata": {},
     "output_type": "execute_result"
    }
   ],
   "source": [
    "matrix_knn = confusion_matrix(y_test, y_pred_knn_best)\n",
    "matrix_knn"
   ]
  },
  {
   "cell_type": "code",
   "execution_count": 199,
   "metadata": {},
   "outputs": [
    {
     "name": "stdout",
     "output_type": "stream",
     "text": [
      "Cross-validation scores for KNeighborsClassifier: 0.971.\n",
      "The accuracy of Gaussian Naive Bayes is 0.917.\n",
      "The recall of Gaussian Naive Bayes is 0.933.\n",
      "The precission of Gaussian Naive Bayes is 0.907.\n",
      "The f1 of Gaussian Naive Bayes is 0.92.\n"
     ]
    }
   ],
   "source": [
    "# Cross-validation for KNeighborsClassifier\n",
    "cv_scores_knn_best = cross_val_score(knn_best, X_train_transformed, y_train, cv=5, scoring='roc_auc')\n",
    "print(f\"Cross-validation scores for KNeighborsClassifier: {round(cv_scores_knn_best.mean(), 3)}.\")\n",
    "\n",
    "\n",
    "accuracy_knn_best = round(accuracy_score(y_test, y_pred_knn_best), 3)\n",
    "recall_knn_best = round(recall_score(y_test, y_pred_knn_best), 3)\n",
    "precision_knn_best = round(precision_score(y_test, y_pred_knn_best), 3)\n",
    "f1_knn_best = round(f1_score(y_test, y_pred_knn_best), 3)\n",
    "\n",
    "print(f\"The accuracy of Gaussian Naive Bayes is {accuracy_knn_best}.\")\n",
    "print(f\"The recall of Gaussian Naive Bayes is {recall_knn_best}.\")\n",
    "print(f\"The precission of Gaussian Naive Bayes is {precision_knn_best}.\")\n",
    "print(f\"The f1 of Gaussian Naive Bayes is {f1_knn_best}.\")"
   ]
  },
  {
   "cell_type": "code",
   "execution_count": 200,
   "metadata": {},
   "outputs": [],
   "source": [
    "fpr_knn, tpr_knn, thresholds_knn = roc_curve(y_test, knn_best.predict_proba(X_test_transformed)[:,1])"
   ]
  },
  {
   "cell_type": "code",
   "execution_count": 201,
   "metadata": {},
   "outputs": [
    {
     "data": {
      "image/png": "[encoded data removed]",
      "text/plain": [
       "<Figure size 432x288 with 1 Axes>"
      ]
     },
     "metadata": {
      "needs_background": "light"
     },
     "output_type": "display_data"
    }
   ],
   "source": [
    "plt.plot(fpr_knn,tpr_knn)\n",
    "plt.xlabel('False Positive Rate')\n",
    "plt.ylabel('True Positive Rate')\n",
    "plt.show()"
   ]
  },
  {
   "cell_type": "code",
   "execution_count": 202,
   "metadata": {},
   "outputs": [
    {
     "data": {
      "text/plain": [
       "array([0.        , 0.67986248, 0.79796064, 0.83907023, 0.86363958,\n",
       "       0.88062304, 0.89389784, 0.9066442 , 0.91144032, 0.91535785,\n",
       "       0.91894658, 0.91631237, 0.91319436, 0.91145112, 0.90372132,\n",
       "       0.89440214, 0.88408292, 0.86790931, 0.84172482, 0.81192854,\n",
       "       0.7631419 , 0.64300535, 0.        ])"
      ]
     },
     "execution_count": 202,
     "metadata": {},
     "output_type": "execute_result"
    }
   ],
   "source": [
    "gmeans_knn = np.sqrt(tpr_knn*(1-fpr_knn))\n",
    "gmeans_knn"
   ]
  },
  {
   "cell_type": "code",
   "execution_count": 203,
   "metadata": {},
   "outputs": [
    {
     "data": {
      "text/plain": [
       "0.5714285714285714"
      ]
     },
     "execution_count": 203,
     "metadata": {},
     "output_type": "execute_result"
    }
   ],
   "source": [
    "thresholds_knn[np.argmax(gmeans_knn)]"
   ]
  },
  {
   "cell_type": "markdown",
   "metadata": {},
   "source": [
    "##### 5.4 RandomForestClassifier"
   ]
  },
  {
   "cell_type": "code",
   "execution_count": 205,
   "metadata": {},
   "outputs": [],
   "source": [
    "rfc = RandomForestClassifier(random_state=1)\n",
    "\n",
    "rfc_model = rfc.fit(X_train_transformed, y_train)\n",
    "y_pred_rfc = rfc.predict(X_test_transformed)"
   ]
  },
  {
   "cell_type": "code",
   "execution_count": 207,
   "metadata": {},
   "outputs": [
    {
     "name": "stdout",
     "output_type": "stream",
     "text": [
      "Cross-validation scores for RandomForestClassifier: 0.972.\n"
     ]
    }
   ],
   "source": [
    "# Cross-validation for RandomForestClassifier\n",
    "cv_scores_rfc = cross_val_score(rfc, X_train_transformed, y_train, cv=5, scoring='roc_auc')\n",
    "\n",
    "print(f\"Cross-validation scores for RandomForestClassifier: {round(cv_scores_rfc.mean(), 3)}.\")"
   ]
  },
  {
   "cell_type": "code",
   "execution_count": 208,
   "metadata": {},
   "outputs": [
    {
     "name": "stdout",
     "output_type": "stream",
     "text": [
      "The accuracy of RandomForestClassifier is 0.921.\n",
      "The recall of RandomForestClassifier is 0.932.\n",
      "The precission of RandomForestClassifier is 0.915.\n",
      "The f1 of RandomForestClassifier is 0.923.\n"
     ]
    }
   ],
   "source": [
    "accuracy_rfc = round(accuracy_score(y_test, y_pred_rfc), 3)\n",
    "recall_rfc = round(recall_score(y_test, y_pred_rfc), 3)\n",
    "precision_rfc = round(precision_score(y_test, y_pred_rfc), 3)\n",
    "f1_rfc = round(f1_score(y_test, y_pred_rfc), 3)\n",
    "\n",
    "print(f\"The accuracy of RandomForestClassifier is {accuracy_knn}.\")\n",
    "print(f\"The recall of RandomForestClassifier is {recall_knn}.\")\n",
    "print(f\"The precission of RandomForestClassifier is {precision_knn}.\")\n",
    "print(f\"The f1 of RandomForestClassifier is {f1_knn}.\")"
   ]
  },
  {
   "cell_type": "code",
   "execution_count": 209,
   "metadata": {},
   "outputs": [
    {
     "name": "stdout",
     "output_type": "stream",
     "text": [
      "Best parameters for KNeighborsClassifier:  {'max_depth': None, 'n_estimators': 300}\n"
     ]
    }
   ],
   "source": [
    "params_rfc = {\"n_estimators\": [200, 225, 275, 300], \"max_depth\": [None, 5, 10]}\n",
    "gridsearch_rfc = GridSearchCV(rfc, params_rfc, cv=5, scoring='roc_auc')\n",
    "\n",
    "grid_rfc = gridsearch_rfc.fit(X_train_transformed, y_train)\n",
    "\n",
    "print(\"Best parameters for KNeighborsClassifier: \", gridsearch_rfc.best_params_)"
   ]
  },
  {
   "cell_type": "code",
   "execution_count": 211,
   "metadata": {},
   "outputs": [],
   "source": [
    "# Hyperparameter tuning\n",
    "rfc_best = RandomForestClassifier(**gridsearch_rfc.best_params_)\n",
    "\n",
    "# Fit the models with the best parameters\n",
    "rfc_best_model = rfc_best.fit(X_train_transformed, y_train)\n",
    "y_pred_rfc_best = nb_best.predict(X_test_transformed)"
   ]
  },
  {
   "cell_type": "code",
   "execution_count": 212,
   "metadata": {},
   "outputs": [
    {
     "data": {
      "text/plain": [
       "array([[1117,  311],\n",
       "       [ 224, 1270]], dtype=int64)"
      ]
     },
     "execution_count": 212,
     "metadata": {},
     "output_type": "execute_result"
    }
   ],
   "source": [
    "matrix_rfc = confusion_matrix(y_test, y_pred_rfc_best)\n",
    "matrix_rfc"
   ]
  },
  {
   "cell_type": "code",
   "execution_count": 215,
   "metadata": {},
   "outputs": [
    {
     "name": "stdout",
     "output_type": "stream",
     "text": [
      "Cross-validation scores for KNeighborsClassifier: 0.918.\n",
      "The accuracy of Gaussian Naive Bayes is 0.817.\n",
      "The recall of Gaussian Naive Bayes is 0.85.\n",
      "The precission of Gaussian Naive Bayes is 0.803.\n",
      "The f1 of Gaussian Naive Bayes is 0.826.\n"
     ]
    }
   ],
   "source": [
    "# Cross-validation for RandomForestClassifier\n",
    "cv_scores_rfc_best = cross_val_score(rfc_best, X_train_transformed, y_train, cv=5, scoring='f1')\n",
    "print(f\"Cross-validation scores for KNeighborsClassifier: {round(cv_scores_rfc_best.mean(), 3)}.\")\n",
    "\n",
    "\n",
    "accuracy_rfc_best = round(accuracy_score(y_test, y_pred_rfc_best), 3)\n",
    "recall_rfc_best = round(recall_score(y_test, y_pred_rfc_best), 3)\n",
    "precision_rfc_best = round(precision_score(y_test, y_pred_rfc_best), 3)\n",
    "f1_rfc_best = round(f1_score(y_test, y_pred_rfc_best), 3)\n",
    "\n",
    "print(f\"The accuracy of Gaussian Naive Bayes is {accuracy_rfc_best}.\")\n",
    "print(f\"The recall of Gaussian Naive Bayes is {recall_rfc_best}.\")\n",
    "print(f\"The precission of Gaussian Naive Bayes is {precision_rfc_best}.\")\n",
    "print(f\"The f1 of Gaussian Naive Bayes is {f1_rfc_best}.\")"
   ]
  },
  {
   "cell_type": "code",
   "execution_count": null,
   "metadata": {},
   "outputs": [],
   "source": [
    "fpr_rfc, tpr_rfc, thresholds_rfc = roc_curve(y_test, rfc_best.predict_proba(X_test_transformed.toarray())[:,1])"
   ]
  },
  {
   "cell_type": "code",
   "execution_count": null,
   "metadata": {},
   "outputs": [],
   "source": [
    "plt.plot(fpr_rfc,tpr_rfc)\n",
    "plt.xlabel('False Positive Rate')\n",
    "plt.ylabel('True Positive Rate')\n",
    "plt.show()"
   ]
  },
  {
   "cell_type": "code",
   "execution_count": null,
   "metadata": {},
   "outputs": [],
   "source": [
    "gmeans_rfc = np.sqrt(tpr_rfc*(1-fpr_rfc))\n",
    "gmeans_rfc"
   ]
  },
  {
   "cell_type": "code",
   "execution_count": null,
   "metadata": {},
   "outputs": [],
   "source": [
    "thresholds_rfc[np.argmax(gmeans_rfc)]"
   ]
  },
  {
   "cell_type": "markdown",
   "metadata": {},
   "source": [
    "### 6. Model Evaluation Accuracy"
   ]
  },
  {
   "cell_type": "code",
   "execution_count": null,
   "metadata": {},
   "outputs": [],
   "source": [
    "data = {'Model': ['LogisticRegression', 'Gaussian Naive Bayes', 'KNeighborsClassifier', 'RandomForestClassifier'],\n",
    "        'Accuracy': [accuracy_log, accuracy_nb_best, accuracy_knn_best, accuracy_rfc_best],\n",
    "        'Recall': [recall_log, recall_nb_best, recall_knn_best, recall_rfc_best],\n",
    "        'Precision': [precision_log, precision_nb_best, precision_knn_best, precision_rfc_best],\n",
    "        'F1': [f1_log, f1_nb_best, f1_knn_best, f1_rfc_best]}\n",
    "\n",
    "results = pd.DataFrame(data)\n",
    "results"
   ]
  },
  {
   "cell_type": "markdown",
   "metadata": {},
   "source": [
    "##### 6.1 ROC Curve"
   ]
  },
  {
   "cell_type": "code",
   "execution_count": null,
   "metadata": {},
   "outputs": [],
   "source": [
    "plt.figure(figsize=(12, 10))\n",
    "\n",
    "# Plot ROC curve for Logistic Regression\n",
    "plt.subplot(2, 2, 1)\n",
    "plt.plot(fpr_log, tpr_log)\n",
    "plt.xlabel('False Positive Rate')\n",
    "plt.ylabel('True Positive Rate')\n",
    "plt.title('ROC Curve - Logistic Regression')\n",
    "\n",
    "# Plot ROC curve for Naive Bayes\n",
    "plt.subplot(2, 2, 2)\n",
    "plt.plot(fpr_nb, tpr_nb)\n",
    "plt.xlabel('False Positive Rate')\n",
    "plt.ylabel('True Positive Rate')\n",
    "plt.title('ROC Curve - Naive Bayes')\n",
    "\n",
    "# Plot ROC curve for K-Nearest Neighbors\n",
    "plt.subplot(2, 2, 3)\n",
    "plt.plot(fpr_knn, tpr_knn)\n",
    "plt.xlabel('False Positive Rate')\n",
    "plt.ylabel('True Positive Rate')\n",
    "plt.title('ROC Curve - K-Nearest Neighbors')\n",
    "\n",
    "# Plot ROC curve for Random Forest Classifier\n",
    "plt.subplot(2, 2, 4)\n",
    "plt.plot(fpr_rfc, tpr_rfc)\n",
    "plt.xlabel('False Positive Rate')\n",
    "plt.ylabel('True Positive Rate')\n",
    "plt.title('ROC Curve - Random Forest Classifier')\n",
    "\n",
    "# Adjust spacing between subplots\n",
    "plt.tight_layout()\n",
    "\n",
    "# Show the plot\n",
    "plt.show()"
   ]
  }
 ],
 "metadata": {
  "kernelspec": {
   "display_name": "base",
   "language": "python",
   "name": "python3"
  },
  "language_info": {
   "codemirror_mode": {
    "name": "ipython",
    "version": 3
   },
   "file_extension": ".py",
   "mimetype": "text/x-python",
   "name": "python",
   "nbconvert_exporter": "python",
   "pygments_lexer": "ipython3",
   "version": "3.11.5"
  },
  "orig_nbformat": 4
 },
 "nbformat": 4,
 "nbformat_minor": 2
}
