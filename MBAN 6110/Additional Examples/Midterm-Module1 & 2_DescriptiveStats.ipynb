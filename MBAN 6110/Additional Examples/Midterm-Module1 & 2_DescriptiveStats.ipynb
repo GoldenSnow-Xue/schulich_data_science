{
 "cells": [
  {
   "attachments": {},
   "cell_type": "markdown",
   "metadata": {},
   "source": [
    "### In-class Code"
   ]
  },
  {
   "attachments": {},
   "cell_type": "markdown",
   "metadata": {},
   "source": [
    "#### Module1_and_2_DescriptiveStats"
   ]
  },
  {
   "cell_type": "code",
   "execution_count": 40,
   "metadata": {},
   "outputs": [],
   "source": [
    "import numpy as np\n",
    "import pandas as pd\n",
    "import matplotlib.pyplot as plt\n",
    "import seaborn as sns"
   ]
  },
  {
   "cell_type": "code",
   "execution_count": 2,
   "metadata": {},
   "outputs": [],
   "source": [
    "list1 = [1, 89, 87, 65, 34, 98, 87, 65]"
   ]
  },
  {
   "cell_type": "code",
   "execution_count": 3,
   "metadata": {},
   "outputs": [
    {
     "data": {
      "text/plain": [
       "65.75"
      ]
     },
     "execution_count": 3,
     "metadata": {},
     "output_type": "execute_result"
    }
   ],
   "source": [
    "def mean(x):\n",
    "    return sum(x)/len(x)\n",
    "\n",
    "mean(list1)"
   ]
  },
  {
   "cell_type": "code",
   "execution_count": null,
   "metadata": {},
   "outputs": [],
   "source": [
    "# Python 常用算术运算符\n",
    "# + - * /\n",
    "# // 整除（只保留商的整数部分）\n",
    "# % 取余 （返回除法的余数）\n",
    "# ** 幂运算/次方运算 （返回x的y次方）"
   ]
  },
  {
   "cell_type": "code",
   "execution_count": 9,
   "metadata": {},
   "outputs": [
    {
     "data": {
      "text/plain": [
       "49.5"
      ]
     },
     "execution_count": 9,
     "metadata": {},
     "output_type": "execute_result"
    }
   ],
   "source": [
    "def median(x):\n",
    "    sorted(x) # works on any sequential object\n",
    "    if len(x)%2 == 0:\n",
    "        med = (x[len(x)//2]+x[len(x)//2-1])/2\n",
    "    else:\n",
    "        med = x[len(x)//2]\n",
    "    return med\n",
    "median(list1)"
   ]
  },
  {
   "cell_type": "code",
   "execution_count": 11,
   "metadata": {},
   "outputs": [
    {
     "data": {
      "text/plain": [
       "[87, 65]"
      ]
     },
     "execution_count": 11,
     "metadata": {},
     "output_type": "execute_result"
    }
   ],
   "source": [
    "def mode(x):\n",
    "    freq_dict = {}\n",
    "    for i in x:\n",
    "        if i in freq_dict:\n",
    "            freq_dict[i] += 1\n",
    "        else:\n",
    "            freq_dict[i] = 1\n",
    "\n",
    "    # Find the mode(s)\n",
    "    max_freq = max(freq_dict.values())\n",
    "    modes = [k for k, v in freq_dict.items() if v == max_freq]\n",
    "\n",
    "    return modes\n",
    "\n",
    "mode(list1)"
   ]
  },
  {
   "cell_type": "code",
   "execution_count": 12,
   "metadata": {},
   "outputs": [
    {
     "data": {
      "text/plain": [
       "[1, 65, 87, 89]"
      ]
     },
     "execution_count": 12,
     "metadata": {},
     "output_type": "execute_result"
    }
   ],
   "source": [
    "def iqr(x):\n",
    "    x.sort()\n",
    "    first_quartile_val = min(x)\n",
    "    second_quartile_val = x[len(x)//4]\n",
    "    third_quartile_val = x[(len(x)//4) * 2]\n",
    "    fourth_quartile_val = x[(len(x)//4) * 3]\n",
    "    list_quartiles = [first_quartile_val, second_quartile_val, third_quartile_val, fourth_quartile_val]\n",
    "\n",
    "    return list_quartiles\n",
    "\n",
    "iqr(list1)"
   ]
  },
  {
   "cell_type": "code",
   "execution_count": 14,
   "metadata": {},
   "outputs": [
    {
     "name": "stdout",
     "output_type": "stream",
     "text": [
      "24\n"
     ]
    }
   ],
   "source": [
    "iqr_range = iqr(list1)[-1] - iqr(list1)[1]\n",
    "print(iqr_range)"
   ]
  },
  {
   "cell_type": "code",
   "execution_count": 16,
   "metadata": {},
   "outputs": [],
   "source": [
    "negative_skew = [1, 1, 1, 2, 2, 3, 3, 3, 3, 4, 4, 4, 4, 4, 5, 5, 5, 5, 5, 5]\n",
    "positive_skew = [2, 2, 2, 2, 2, 3, 3, 3, 3, 4, 4, 4, 4, 5, 5, 5, 6, 6, 6, 6]\n",
    "zero_skew = [1, 2, 2, 2, 3, 3, 3, 3, 4, 4, 4, 4, 4, 5, 5, 5, 5,  6, 6, 6, 6, 7, 7, 7, 7, 8, 8, 8, 9]\n",
    "mesokurtic = [30, 31, 35, 33, 36, 37, 45, 46, 47, 48, 49, 50, 50, 51, 51, 52, 52, 53, 53, 54, 54, 55, 55, 55, 56, 55, 56, 75, 78, 43, 45, 56, 56, 57, 57, 57, 58, 58, 58, 59, 59, 59, 60, 60, 60, 61, 61, 61, 62, 62, 62, 63, 63, 63, 64, 64, 64, 65, 65, 65, 66, 66, 66, 67, 67, 67, 68, 68, 68, 69, 69, 69, 70, 70, 70, 71, 71, 71, 72, 72, 72, 73, 63, 73, 74, 74, 74, 63, 75, 75, 76, 76, 76, 64, 77, 64, 78, 65, 65, 79, 79, 79, 80, 80, 65, 81, 82, 82, 83, 83,90, 91, 92, 93, 90, 91, 92, 95, 100]\n",
    "leptokurtic = [20, 20, 22, 25, 28, 30, 42, 45, 47, 49, 50, 50, 50, 50, 51, 51, 51, 51, 52, 52, 52, 52, 52, 52, 52, 52, 53, 53, 53, 53, 53, 53, 53, 53, 54, 54, 54, 54, 54, 54, 54, 54, 55, 55, 55, 55, 55, 55, 55, 55, 56, 56, 56, 56, 56, 56, 56, 56, 57, 57, 57, 57, 57, 57, 57, 57, 58, 58, 58, 58, 59, 59, 61, 63, 65, 67, 69, 70, 72, 75, 78, 80, 82, 85, 88, 90, 92, 95, 98, 100]\n",
    "platykurtic = [38, 40, 42, 44, 46, 48, 50, 51, 52, 53, 54, 55, 56, 57, 58, 59, 60, 61, 62, 63, 64, 65, 66, 67, 68, 69, 70, 71, 72, 73, 74, 75, 76, 77, 78, 79, 80, 81, 82, 83, 84, 85, 86, 87, 88, 89, 90, 91, 92, 93, 94, 95, 96, 97, 98, 99, 100, 101, 102, 103, 104, 105, 106, 108, 110, 112, 114, 116, 118, 120, 122, 124, 126, 128, 130, 132, 134, 136, 138, 140, 142, 144, 146, 148, 150, 152, 154, 156, 158, 160]"
   ]
  },
  {
   "cell_type": "code",
   "execution_count": 17,
   "metadata": {},
   "outputs": [
    {
     "data": {
      "text/plain": [
       "Text(0.5, 1.0, 'Positive Skew')"
      ]
     },
     "execution_count": 17,
     "metadata": {},
     "output_type": "execute_result"
    },
    {
     "data": {
      "image/png": "[encoded data removed]",
      "text/plain": [
       "<Figure size 432x288 with 1 Axes>"
      ]
     },
     "metadata": {
      "needs_background": "light"
     },
     "output_type": "display_data"
    }
   ],
   "source": [
    "sns.histplot(positive_skew)\n",
    "plt.title('Positive Skew')"
   ]
  },
  {
   "cell_type": "code",
   "execution_count": 19,
   "metadata": {},
   "outputs": [
    {
     "data": {
      "text/plain": [
       "Text(0.5, 1.0, 'Negative_skew')"
      ]
     },
     "execution_count": 19,
     "metadata": {},
     "output_type": "execute_result"
    },
    {
     "data": {
      "image/png": "[encoded data removed]",
      "text/plain": [
       "<Figure size 432x288 with 1 Axes>"
      ]
     },
     "metadata": {
      "needs_background": "light"
     },
     "output_type": "display_data"
    }
   ],
   "source": [
    "sns.histplot(negative_skew)\n",
    "plt.title('Negative_skew')"
   ]
  },
  {
   "cell_type": "code",
   "execution_count": 20,
   "metadata": {},
   "outputs": [
    {
     "data": {
      "text/plain": [
       "Text(0.5, 1.0, 'Zero Skew')"
      ]
     },
     "execution_count": 20,
     "metadata": {},
     "output_type": "execute_result"
    },
    {
     "data": {
      "image/png": "[encoded data removed]",
      "text/plain": [
       "<Figure size 432x288 with 1 Axes>"
      ]
     },
     "metadata": {
      "needs_background": "light"
     },
     "output_type": "display_data"
    }
   ],
   "source": [
    "sns.histplot(zero_skew)\n",
    "plt.title('Zero Skew')"
   ]
  },
  {
   "cell_type": "code",
   "execution_count": 21,
   "metadata": {},
   "outputs": [
    {
     "data": {
      "text/plain": [
       "Text(0.5, 1.0, 'Mesokurtic Skew')"
      ]
     },
     "execution_count": 21,
     "metadata": {},
     "output_type": "execute_result"
    },
    {
     "data": {
      "image/png": "[encoded data removed]",
      "text/plain": [
       "<Figure size 432x288 with 1 Axes>"
      ]
     },
     "metadata": {
      "needs_background": "light"
     },
     "output_type": "display_data"
    }
   ],
   "source": [
    "sns.histplot(mesokurtic)\n",
    "plt.title('Mesokurtic Skew')"
   ]
  },
  {
   "cell_type": "code",
   "execution_count": 22,
   "metadata": {},
   "outputs": [
    {
     "data": {
      "text/plain": [
       "Text(0.5, 1.0, 'Leptokurtic Skew')"
      ]
     },
     "execution_count": 22,
     "metadata": {},
     "output_type": "execute_result"
    },
    {
     "data": {
      "image/png": "[encoded data removed]",
      "text/plain": [
       "<Figure size 432x288 with 1 Axes>"
      ]
     },
     "metadata": {
      "needs_background": "light"
     },
     "output_type": "display_data"
    }
   ],
   "source": [
    "sns.histplot(leptokurtic)\n",
    "plt.title('Leptokurtic Skew')"
   ]
  },
  {
   "cell_type": "code",
   "execution_count": 23,
   "metadata": {},
   "outputs": [
    {
     "data": {
      "text/plain": [
       "Text(0.5, 1.0, 'Platykurtic Skew')"
      ]
     },
     "execution_count": 23,
     "metadata": {},
     "output_type": "execute_result"
    },
    {
     "data": {
      "image/png": "[encoded data removed]",
      "text/plain": [
       "<Figure size 432x288 with 1 Axes>"
      ]
     },
     "metadata": {
      "needs_background": "light"
     },
     "output_type": "display_data"
    }
   ],
   "source": [
    "sns.histplot(platykurtic)\n",
    "plt.title('Platykurtic Skew')"
   ]
  },
  {
   "cell_type": "code",
   "execution_count": 24,
   "metadata": {},
   "outputs": [],
   "source": [
    "# Calculating Kurtosis\n",
    "\n",
    "import math\n",
    "\n",
    "def kurtosis(data):\n",
    "    n = len(data)\n",
    "    mean = sum(data)/n\n",
    "    variance = sum((x - mean) ** 2 for x in data) / n\n",
    "    std_dev = math.sqrt(variance)\n",
    "\n",
    "    kurtosis = sum((x - mean) ** 4 for x in data) / (n * std_dev ** 4) - 3\n",
    "    return kurtosis"
   ]
  },
  {
   "cell_type": "code",
   "execution_count": 25,
   "metadata": {},
   "outputs": [
    {
     "name": "stdout",
     "output_type": "stream",
     "text": [
      "Leptokurtic Distribution:  1.9957859751689853\n",
      "Mesokurtic Distribution:  0.1448368495077883\n",
      "Platykurtic Distribution:  -0.843250669215688\n"
     ]
    }
   ],
   "source": [
    "print(\"Leptokurtic Distribution: \", kurtosis(leptokurtic))\n",
    "print(\"Mesokurtic Distribution: \", kurtosis(mesokurtic))\n",
    "print(\"Platykurtic Distribution: \", kurtosis(platykurtic))"
   ]
  },
  {
   "cell_type": "code",
   "execution_count": 26,
   "metadata": {},
   "outputs": [
    {
     "name": "stdout",
     "output_type": "stream",
     "text": [
      "Leptokurtic Distribution (scipy):  1.9957859751689844\n",
      "Mesokurtic Distribution (scipy):  0.14483684950778608\n",
      "Platykurtic Distribution (scipy):  -0.8432506692156885\n"
     ]
    }
   ],
   "source": [
    "import scipy.stats\n",
    "\n",
    "# fisher=True means it calculates excess kurtosis\n",
    "print(\"Leptokurtic Distribution (scipy): \", scipy.stats.kurtosis(leptokurtic, fisher=True))\n",
    "print(\"Mesokurtic Distribution (scipy): \", scipy.stats.kurtosis(mesokurtic, fisher=True))\n",
    "print(\"Platykurtic Distribution (scipy): \", scipy.stats.kurtosis(platykurtic, fisher=True))"
   ]
  },
  {
   "cell_type": "code",
   "execution_count": 27,
   "metadata": {},
   "outputs": [],
   "source": [
    "# calculate skewness of a data set\n",
    "def skewness(data):\n",
    "    n = len(data)\n",
    "    mean = sum(data) / n\n",
    "    variance = sum((x - mean) ** 2 for x in data) / n\n",
    "    std_dev = math.sqrt(variance)\n",
    "    \n",
    "    skewness = sum((x - mean) ** 3 for x in data) / (n * std_dev ** 3)\n",
    "    return skewness"
   ]
  },
  {
   "cell_type": "code",
   "execution_count": 28,
   "metadata": {},
   "outputs": [
    {
     "name": "stdout",
     "output_type": "stream",
     "text": [
      "Positive Skew Distribution:  0.16459021864868792\n",
      "Negative Skew Distribution:  -0.5041776750367143\n",
      "Zero Skew Distribution:  0.04568039890548256\n"
     ]
    }
   ],
   "source": [
    "print(\"Positive Skew Distribution: \", skewness(positive_skew))\n",
    "print(\"Negative Skew Distribution: \", skewness(negative_skew))\n",
    "print(\"Zero Skew Distribution: \", skewness(zero_skew))"
   ]
  },
  {
   "cell_type": "code",
   "execution_count": 29,
   "metadata": {},
   "outputs": [
    {
     "name": "stdout",
     "output_type": "stream",
     "text": [
      "Positive Skew Distribution (scipy):  0.1645902186486881\n",
      "Negative Skew Distribution (scipy):  -0.5041776750367145\n",
      "Zero Skew Distribution (scipy):  0.04568039890548258\n"
     ]
    }
   ],
   "source": [
    "print(\"Positive Skew Distribution (scipy): \", scipy.stats.skew(positive_skew))\n",
    "print(\"Negative Skew Distribution (scipy): \", scipy.stats.skew(negative_skew))\n",
    "print(\"Zero Skew Distribution (scipy): \", scipy.stats.skew(zero_skew))"
   ]
  },
  {
   "cell_type": "code",
   "execution_count": 30,
   "metadata": {},
   "outputs": [
    {
     "data": {
      "text/plain": [
       "-0.9998404383931142"
      ]
     },
     "execution_count": 30,
     "metadata": {},
     "output_type": "execute_result"
    }
   ],
   "source": [
    "scipy.stats.skew(list1)"
   ]
  },
  {
   "cell_type": "code",
   "execution_count": 31,
   "metadata": {},
   "outputs": [
    {
     "data": {
      "text/plain": [
       "-0.24034643830045255"
      ]
     },
     "execution_count": 31,
     "metadata": {},
     "output_type": "execute_result"
    }
   ],
   "source": [
    "scipy.stats.kurtosis(list1, fisher=True)"
   ]
  },
  {
   "cell_type": "code",
   "execution_count": 32,
   "metadata": {},
   "outputs": [
    {
     "data": {
      "text/plain": [
       "<AxesSubplot:ylabel='Count'>"
      ]
     },
     "execution_count": 32,
     "metadata": {},
     "output_type": "execute_result"
    },
    {
     "data": {
      "image/png": "[encoded data removed]",
      "text/plain": [
       "<Figure size 432x288 with 1 Axes>"
      ]
     },
     "metadata": {
      "needs_background": "light"
     },
     "output_type": "display_data"
    }
   ],
   "source": [
    "sns.histplot(list1)"
   ]
  },
  {
   "cell_type": "code",
   "execution_count": 33,
   "metadata": {},
   "outputs": [
    {
     "name": "stderr",
     "output_type": "stream",
     "text": [
      "c:\\Users\\Golden Snow\\anaconda3\\lib\\site-packages\\seaborn\\_decorators.py:36: FutureWarning: Pass the following variable as a keyword arg: x. From version 0.12, the only valid positional argument will be `data`, and passing other arguments without an explicit keyword will result in an error or misinterpretation.\n",
      "  warnings.warn(\n"
     ]
    },
    {
     "data": {
      "text/plain": [
       "<AxesSubplot:>"
      ]
     },
     "execution_count": 33,
     "metadata": {},
     "output_type": "execute_result"
    },
    {
     "data": {
      "image/png": "[encoded data removed]",
      "text/plain": [
       "<Figure size 432x288 with 1 Axes>"
      ]
     },
     "metadata": {
      "needs_background": "light"
     },
     "output_type": "display_data"
    }
   ],
   "source": [
    "sns.boxplot(list1)"
   ]
  },
  {
   "attachments": {},
   "cell_type": "markdown",
   "metadata": {},
   "source": [
    "## Descriptive Statistics"
   ]
  },
  {
   "attachments": {},
   "cell_type": "markdown",
   "metadata": {},
   "source": [
    "#### In-class Exercise"
   ]
  },
  {
   "attachments": {},
   "cell_type": "markdown",
   "metadata": {},
   "source": [
    "###### 1. Suppose you had the following sample data representing incomes form individuals, in thousands.\n",
    "\n",
    "###### data = [45, 55, 60, 50, 80, 62, 54, 58, 71, 48]\n",
    "\n",
    "###### Calculate descriptive statistics using NumPy and Scipy, including: a.Measures of central tendency   b.Measures of dispersion   c.Skewness   d.Kurtosis\n",
    "\n"
   ]
  },
  {
   "attachments": {},
   "cell_type": "markdown",
   "metadata": {},
   "source": [
    "###### 2. What can you conclude about the data?"
   ]
  },
  {
   "cell_type": "code",
   "execution_count": 35,
   "metadata": {},
   "outputs": [
    {
     "name": "stdout",
     "output_type": "stream",
     "text": [
      "Mean: 58.3\n",
      "Median: 56.5\n",
      "Mode: 45 Count: 1\n",
      "Range: 35\n",
      "Variance: 103.01000000000002\n",
      "Standard Deviation: 10.149384217774003\n",
      "Interquartile Range (IQR): 10.5\n",
      "Skewness: 0.7833317517940621\n",
      "Kurtosis: -0.2132935426499003\n"
     ]
    }
   ],
   "source": [
    "data = [45, 55, 60, 50,80, 62, 54, 58, 71, 48]\n",
    "\n",
    "# Measures of central tendency\n",
    "mean = np.mean(data)\n",
    "median = np.median(data)\n",
    "mode = scipy.stats.mode(data)\n",
    "\n",
    "# Measures of dispersion\n",
    "range_value = np.ptp(data)\n",
    "variance = np.var(data)\n",
    "std_dev = np.std(data)\n",
    "iqr = scipy.stats.iqr(data)\n",
    "\n",
    "# Skewness and Kurtosis\n",
    "skew = scipy.stats.skew(data)\n",
    "kurtosis = scipy.stats.kurtosis(data)\n",
    "\n",
    "print(\"Mean:\", mean)  # The average income\n",
    "print(\"Median:\", median)  # The middle income, dividing the sample into two equal parts\n",
    "print(\"Mode:\", mode.mode[0], \"Count:\", mode.count[0])  # The most common income value (if any)\n",
    "print(\"Range:\", range_value)  # The difference between the highest and lowest incomes\n",
    "print(\"Variance:\", variance)  # The spread of income values around the mean\n",
    "print(\"Standard Deviation:\", std_dev)  # The average deviation of income values from the mean\n",
    "print(\"Interquartile Range (IQR):\", iqr)  # The range containing the middle 50% of income values\n",
    "print(\"Skewness:\", skew)  # The asymmetry of the income distribution (positive: right-skewed - more lower income individuals and some higher income outliers)\n",
    "print(\"Kurtosis:\", kurtosis)  # The \"tailedness\" of the income distribution (negative: platykurtic - fewer extreme values)\n",
    "Mean: 58.3"
   ]
  },
  {
   "attachments": {},
   "cell_type": "markdown",
   "metadata": {},
   "source": [
    "#### Measuring Relationship"
   ]
  },
  {
   "cell_type": "code",
   "execution_count": 36,
   "metadata": {},
   "outputs": [],
   "source": [
    "x = [1, 2, 3, 4, 5]\n",
    "y = [2, 3, 5, 7, 11]"
   ]
  },
  {
   "cell_type": "code",
   "execution_count": 37,
   "metadata": {},
   "outputs": [
    {
     "name": "stdout",
     "output_type": "stream",
     "text": [
      "0.9722718241315029\n"
     ]
    }
   ],
   "source": [
    "def pearson_correlation(x, y):\n",
    "    n = len(x)\n",
    "    sum_x = float(sum(x))\n",
    "    sum_y = float(sum(y))\n",
    "    sum_x_sq = sum(xi*xi for xi in x)\n",
    "    sum_y_sq = sum(yi*yi for yi in y)\n",
    "    psum = sum(xi*yi for xi, yi in zip(x, y))\n",
    "    num = psum - (sum_x * sum_y/n)\n",
    "    den = pow((sum_x_sq - pow(sum_x, 2) / n) * (sum_y_sq - pow(sum_y, 2) / n), 0.5)\n",
    "    if den == 0: return 0\n",
    "    return num / den\n",
    "print(pearson_correlation(x, y))"
   ]
  },
  {
   "cell_type": "code",
   "execution_count": 41,
   "metadata": {},
   "outputs": [
    {
     "ename": "TypeError",
     "evalue": "'numpy.float64' object is not callable",
     "output_type": "error",
     "traceback": [
      "\u001b[1;31m---------------------------------------------------------------------------\u001b[0m",
      "\u001b[1;31mTypeError\u001b[0m                                 Traceback (most recent call last)",
      "\u001b[1;32m~\\AppData\\Local\\Temp\\ipykernel_9256\\947547824.py\u001b[0m in \u001b[0;36m<module>\u001b[1;34m\u001b[0m\n\u001b[0;32m      5\u001b[0m     \u001b[1;32mreturn\u001b[0m \u001b[0msum\u001b[0m\u001b[1;33m(\u001b[0m\u001b[1;33m(\u001b[0m\u001b[0ma\u001b[0m \u001b[1;33m-\u001b[0m \u001b[0mmean\u001b[0m\u001b[1;33m(\u001b[0m\u001b[0mx\u001b[0m\u001b[1;33m)\u001b[0m\u001b[1;33m)\u001b[0m \u001b[1;33m*\u001b[0m \u001b[1;33m(\u001b[0m\u001b[0mb\u001b[0m \u001b[1;33m-\u001b[0m \u001b[0mmean\u001b[0m\u001b[1;33m(\u001b[0m\u001b[0my\u001b[0m\u001b[1;33m)\u001b[0m\u001b[1;33m)\u001b[0m \u001b[1;32mfor\u001b[0m \u001b[0ma\u001b[0m\u001b[1;33m,\u001b[0m \u001b[0mb\u001b[0m \u001b[1;32min\u001b[0m \u001b[0mzip\u001b[0m\u001b[1;33m(\u001b[0m\u001b[0mx\u001b[0m\u001b[1;33m,\u001b[0m \u001b[0my\u001b[0m\u001b[1;33m)\u001b[0m\u001b[1;33m)\u001b[0m \u001b[1;33m/\u001b[0m \u001b[1;33m(\u001b[0m\u001b[0mn\u001b[0m \u001b[1;33m-\u001b[0m \u001b[1;36m1\u001b[0m\u001b[1;33m)\u001b[0m\u001b[1;33m\u001b[0m\u001b[1;33m\u001b[0m\u001b[0m\n\u001b[0;32m      6\u001b[0m \u001b[1;33m\u001b[0m\u001b[0m\n\u001b[1;32m----> 7\u001b[1;33m \u001b[0mprint\u001b[0m\u001b[1;33m(\u001b[0m\u001b[0mcovariance\u001b[0m\u001b[1;33m(\u001b[0m\u001b[0mx\u001b[0m\u001b[1;33m,\u001b[0m \u001b[0my\u001b[0m\u001b[1;33m)\u001b[0m\u001b[1;33m)\u001b[0m\u001b[1;33m\u001b[0m\u001b[1;33m\u001b[0m\u001b[0m\n\u001b[0m",
      "\u001b[1;32m~\\AppData\\Local\\Temp\\ipykernel_9256\\947547824.py\u001b[0m in \u001b[0;36mcovariance\u001b[1;34m(x, y)\u001b[0m\n\u001b[0;32m      3\u001b[0m \u001b[1;32mdef\u001b[0m \u001b[0mcovariance\u001b[0m\u001b[1;33m(\u001b[0m\u001b[0mx\u001b[0m\u001b[1;33m,\u001b[0m \u001b[0my\u001b[0m\u001b[1;33m)\u001b[0m\u001b[1;33m:\u001b[0m\u001b[1;33m\u001b[0m\u001b[1;33m\u001b[0m\u001b[0m\n\u001b[0;32m      4\u001b[0m     \u001b[0mn\u001b[0m \u001b[1;33m=\u001b[0m \u001b[0mlen\u001b[0m\u001b[1;33m(\u001b[0m\u001b[0mx\u001b[0m\u001b[1;33m)\u001b[0m\u001b[1;33m\u001b[0m\u001b[1;33m\u001b[0m\u001b[0m\n\u001b[1;32m----> 5\u001b[1;33m     \u001b[1;32mreturn\u001b[0m \u001b[0msum\u001b[0m\u001b[1;33m(\u001b[0m\u001b[1;33m(\u001b[0m\u001b[0ma\u001b[0m \u001b[1;33m-\u001b[0m \u001b[0mmean\u001b[0m\u001b[1;33m(\u001b[0m\u001b[0mx\u001b[0m\u001b[1;33m)\u001b[0m\u001b[1;33m)\u001b[0m \u001b[1;33m*\u001b[0m \u001b[1;33m(\u001b[0m\u001b[0mb\u001b[0m \u001b[1;33m-\u001b[0m \u001b[0mmean\u001b[0m\u001b[1;33m(\u001b[0m\u001b[0my\u001b[0m\u001b[1;33m)\u001b[0m\u001b[1;33m)\u001b[0m \u001b[1;32mfor\u001b[0m \u001b[0ma\u001b[0m\u001b[1;33m,\u001b[0m \u001b[0mb\u001b[0m \u001b[1;32min\u001b[0m \u001b[0mzip\u001b[0m\u001b[1;33m(\u001b[0m\u001b[0mx\u001b[0m\u001b[1;33m,\u001b[0m \u001b[0my\u001b[0m\u001b[1;33m)\u001b[0m\u001b[1;33m)\u001b[0m \u001b[1;33m/\u001b[0m \u001b[1;33m(\u001b[0m\u001b[0mn\u001b[0m \u001b[1;33m-\u001b[0m \u001b[1;36m1\u001b[0m\u001b[1;33m)\u001b[0m\u001b[1;33m\u001b[0m\u001b[1;33m\u001b[0m\u001b[0m\n\u001b[0m\u001b[0;32m      6\u001b[0m \u001b[1;33m\u001b[0m\u001b[0m\n\u001b[0;32m      7\u001b[0m \u001b[0mprint\u001b[0m\u001b[1;33m(\u001b[0m\u001b[0mcovariance\u001b[0m\u001b[1;33m(\u001b[0m\u001b[0mx\u001b[0m\u001b[1;33m,\u001b[0m \u001b[0my\u001b[0m\u001b[1;33m)\u001b[0m\u001b[1;33m)\u001b[0m\u001b[1;33m\u001b[0m\u001b[1;33m\u001b[0m\u001b[0m\n",
      "\u001b[1;32m~\\AppData\\Local\\Temp\\ipykernel_9256\\947547824.py\u001b[0m in \u001b[0;36m<genexpr>\u001b[1;34m(.0)\u001b[0m\n\u001b[0;32m      3\u001b[0m \u001b[1;32mdef\u001b[0m \u001b[0mcovariance\u001b[0m\u001b[1;33m(\u001b[0m\u001b[0mx\u001b[0m\u001b[1;33m,\u001b[0m \u001b[0my\u001b[0m\u001b[1;33m)\u001b[0m\u001b[1;33m:\u001b[0m\u001b[1;33m\u001b[0m\u001b[1;33m\u001b[0m\u001b[0m\n\u001b[0;32m      4\u001b[0m     \u001b[0mn\u001b[0m \u001b[1;33m=\u001b[0m \u001b[0mlen\u001b[0m\u001b[1;33m(\u001b[0m\u001b[0mx\u001b[0m\u001b[1;33m)\u001b[0m\u001b[1;33m\u001b[0m\u001b[1;33m\u001b[0m\u001b[0m\n\u001b[1;32m----> 5\u001b[1;33m     \u001b[1;32mreturn\u001b[0m \u001b[0msum\u001b[0m\u001b[1;33m(\u001b[0m\u001b[1;33m(\u001b[0m\u001b[0ma\u001b[0m \u001b[1;33m-\u001b[0m \u001b[0mmean\u001b[0m\u001b[1;33m(\u001b[0m\u001b[0mx\u001b[0m\u001b[1;33m)\u001b[0m\u001b[1;33m)\u001b[0m \u001b[1;33m*\u001b[0m \u001b[1;33m(\u001b[0m\u001b[0mb\u001b[0m \u001b[1;33m-\u001b[0m \u001b[0mmean\u001b[0m\u001b[1;33m(\u001b[0m\u001b[0my\u001b[0m\u001b[1;33m)\u001b[0m\u001b[1;33m)\u001b[0m \u001b[1;32mfor\u001b[0m \u001b[0ma\u001b[0m\u001b[1;33m,\u001b[0m \u001b[0mb\u001b[0m \u001b[1;32min\u001b[0m \u001b[0mzip\u001b[0m\u001b[1;33m(\u001b[0m\u001b[0mx\u001b[0m\u001b[1;33m,\u001b[0m \u001b[0my\u001b[0m\u001b[1;33m)\u001b[0m\u001b[1;33m)\u001b[0m \u001b[1;33m/\u001b[0m \u001b[1;33m(\u001b[0m\u001b[0mn\u001b[0m \u001b[1;33m-\u001b[0m \u001b[1;36m1\u001b[0m\u001b[1;33m)\u001b[0m\u001b[1;33m\u001b[0m\u001b[1;33m\u001b[0m\u001b[0m\n\u001b[0m\u001b[0;32m      6\u001b[0m \u001b[1;33m\u001b[0m\u001b[0m\n\u001b[0;32m      7\u001b[0m \u001b[0mprint\u001b[0m\u001b[1;33m(\u001b[0m\u001b[0mcovariance\u001b[0m\u001b[1;33m(\u001b[0m\u001b[0mx\u001b[0m\u001b[1;33m,\u001b[0m \u001b[0my\u001b[0m\u001b[1;33m)\u001b[0m\u001b[1;33m)\u001b[0m\u001b[1;33m\u001b[0m\u001b[1;33m\u001b[0m\u001b[0m\n",
      "\u001b[1;31mTypeError\u001b[0m: 'numpy.float64' object is not callable"
     ]
    }
   ],
   "source": [
    "# Covariance\n",
    "\n",
    "def covariance(x, y):\n",
    "    n = len(x)\n",
    "    return sum((a - mean(x)) * (b - mean(y)) for a, b in zip(x, y)) / (n - 1)\n",
    "\n",
    "print(covariance(x, y))"
   ]
  },
  {
   "cell_type": "code",
   "execution_count": 42,
   "metadata": {},
   "outputs": [
    {
     "name": "stdout",
     "output_type": "stream",
     "text": [
      "1.0\n"
     ]
    }
   ],
   "source": [
    "# Spearman's Correlation:\n",
    "\n",
    "def spearman_correlation(x, y):\n",
    "    x_rank = [sorted(x).index(i) for i in x]\n",
    "    y_rank = [sorted(y).index(i) for i in y]\n",
    "    return pearson_correlation(x_rank, y_rank)\n",
    "\n",
    "print(spearman_correlation(x, y))  # Output: 1.0"
   ]
  },
  {
   "cell_type": "code",
   "execution_count": 43,
   "metadata": {},
   "outputs": [
    {
     "name": "stdout",
     "output_type": "stream",
     "text": [
      "0.9722718241315028\n",
      "5.5\n",
      "0.9999999999999999\n"
     ]
    }
   ],
   "source": [
    "import numpy as np\n",
    "\n",
    "print(np.corrcoef(x, y)[0, 1])  \n",
    "print(np.cov(x, y)[0, 1]) \n",
    "\n",
    "# Spearman's Correlation using SciPy:\n",
    "from scipy.stats import spearmanr\n",
    "\n",
    "print(spearmanr(x, y).correlation) "
   ]
  },
  {
   "cell_type": "code",
   "execution_count": 46,
   "metadata": {},
   "outputs": [
    {
     "data": {
      "text/plain": [
       "<AxesSubplot:xlabel='x', ylabel='y'>"
      ]
     },
     "execution_count": 46,
     "metadata": {},
     "output_type": "execute_result"
    },
    {
     "data": {
      "image/png": "[encoded data removed]",
      "text/plain": [
       "<Figure size 432x288 with 1 Axes>"
      ]
     },
     "metadata": {
      "needs_background": "light"
     },
     "output_type": "display_data"
    }
   ],
   "source": [
    "data = pd.DataFrame({\n",
    "    'x': x,\n",
    "    'y': y\n",
    "})\n",
    "\n",
    "sns.scatterplot(data=data, x='x', y='y')"
   ]
  },
  {
   "attachments": {},
   "cell_type": "markdown",
   "metadata": {},
   "source": [
    "### Conduct Exploratory Analysis and apply Data Cleaning Techniques"
   ]
  },
  {
   "attachments": {},
   "cell_type": "markdown",
   "metadata": {},
   "source": [
    "##### Scenario:\n",
    "You are a data analyst at an e-commerce company that sells a variety of products. Your company wants to better understand how various products perform across regions, in order to devise its sales strategy for next year.\n",
    "\n",
    "You have been provided with data includes information about the product, the region where the product was sold, the price of the product, the number of units sold, and the date of the sale.\n",
    "\n",
    "Your task is to clean the data as you see fit, and conduct exploratory analysis which will help the company build a sales strategy for the following year.\n",
    "\n",
    "In addition to the analysis, be sure to answer the following questions:\n",
    "\n",
    "1. What conclusions can you draw about sales performance of various products and regions?\n",
    "2. What recommendations do you have for the business?\n",
    "3. Describe your data cleaning approach. How and why did you decide on which cleaning techniques to use?\n"
   ]
  },
  {
   "cell_type": "code",
   "execution_count": 48,
   "metadata": {},
   "outputs": [],
   "source": [
    "import pandas as pd\n",
    "import seaborn as sns"
   ]
  },
  {
   "cell_type": "code",
   "execution_count": 52,
   "metadata": {},
   "outputs": [],
   "source": [
    "df = pd.read_csv('https://raw.githubusercontent.com/GoldenSnow-Xue/schulich_data_science/main/MBAN%206110/Datasets/sales_data.csv')"
   ]
  },
  {
   "cell_type": "code",
   "execution_count": 53,
   "metadata": {},
   "outputs": [
    {
     "data": {
      "text/html": [
       "<div>\n",
       "<style scoped>\n",
       "    .dataframe tbody tr th:only-of-type {\n",
       "        vertical-align: middle;\n",
       "    }\n",
       "\n",
       "    .dataframe tbody tr th {\n",
       "        vertical-align: top;\n",
       "    }\n",
       "\n",
       "    .dataframe thead th {\n",
       "        text-align: right;\n",
       "    }\n",
       "</style>\n",
       "<table border=\"1\" class=\"dataframe\">\n",
       "  <thead>\n",
       "    <tr style=\"text-align: right;\">\n",
       "      <th></th>\n",
       "      <th>Product</th>\n",
       "      <th>Region</th>\n",
       "      <th>Price</th>\n",
       "      <th>Units Sold</th>\n",
       "      <th>Sale Date</th>\n",
       "    </tr>\n",
       "  </thead>\n",
       "  <tbody>\n",
       "    <tr>\n",
       "      <th>0</th>\n",
       "      <td>NaN</td>\n",
       "      <td>Region_1</td>\n",
       "      <td>72.87</td>\n",
       "      <td>10.0</td>\n",
       "      <td>2022-01-01</td>\n",
       "    </tr>\n",
       "    <tr>\n",
       "      <th>1</th>\n",
       "      <td>Product_40</td>\n",
       "      <td>Region_2</td>\n",
       "      <td>46.19</td>\n",
       "      <td>10.0</td>\n",
       "      <td>2022-01-02</td>\n",
       "    </tr>\n",
       "    <tr>\n",
       "      <th>2</th>\n",
       "      <td>Product_1</td>\n",
       "      <td>Region_5</td>\n",
       "      <td>NaN</td>\n",
       "      <td>4.0</td>\n",
       "      <td>2022-01-03</td>\n",
       "    </tr>\n",
       "    <tr>\n",
       "      <th>3</th>\n",
       "      <td>Product_6</td>\n",
       "      <td>Region_8</td>\n",
       "      <td>143.47</td>\n",
       "      <td>8.0</td>\n",
       "      <td>2022-01-04</td>\n",
       "    </tr>\n",
       "    <tr>\n",
       "      <th>4</th>\n",
       "      <td>Product_44</td>\n",
       "      <td>Region_4</td>\n",
       "      <td>122.54</td>\n",
       "      <td>10.0</td>\n",
       "      <td>2022-01-05</td>\n",
       "    </tr>\n",
       "  </tbody>\n",
       "</table>\n",
       "</div>"
      ],
      "text/plain": [
       "      Product    Region   Price  Units Sold   Sale Date\n",
       "0         NaN  Region_1   72.87        10.0  2022-01-01\n",
       "1  Product_40  Region_2   46.19        10.0  2022-01-02\n",
       "2   Product_1  Region_5     NaN         4.0  2022-01-03\n",
       "3   Product_6  Region_8  143.47         8.0  2022-01-04\n",
       "4  Product_44  Region_4  122.54        10.0  2022-01-05"
      ]
     },
     "execution_count": 53,
     "metadata": {},
     "output_type": "execute_result"
    }
   ],
   "source": [
    "df.head()"
   ]
  },
  {
   "cell_type": "code",
   "execution_count": 54,
   "metadata": {},
   "outputs": [
    {
     "name": "stdout",
     "output_type": "stream",
     "text": [
      "<class 'pandas.core.frame.DataFrame'>\n",
      "RangeIndex: 1050 entries, 0 to 1049\n",
      "Data columns (total 5 columns):\n",
      " #   Column      Non-Null Count  Dtype  \n",
      "---  ------      --------------  -----  \n",
      " 0   Product     947 non-null    object \n",
      " 1   Region      942 non-null    object \n",
      " 2   Price       945 non-null    float64\n",
      " 3   Units Sold  943 non-null    float64\n",
      " 4   Sale Date   1050 non-null   object \n",
      "dtypes: float64(2), object(3)\n",
      "memory usage: 41.1+ KB\n"
     ]
    }
   ],
   "source": [
    "df.info()"
   ]
  },
  {
   "cell_type": "code",
   "execution_count": 55,
   "metadata": {},
   "outputs": [
    {
     "data": {
      "text/html": [
       "<div>\n",
       "<style scoped>\n",
       "    .dataframe tbody tr th:only-of-type {\n",
       "        vertical-align: middle;\n",
       "    }\n",
       "\n",
       "    .dataframe tbody tr th {\n",
       "        vertical-align: top;\n",
       "    }\n",
       "\n",
       "    .dataframe thead th {\n",
       "        text-align: right;\n",
       "    }\n",
       "</style>\n",
       "<table border=\"1\" class=\"dataframe\">\n",
       "  <thead>\n",
       "    <tr style=\"text-align: right;\">\n",
       "      <th></th>\n",
       "      <th>Product</th>\n",
       "      <th>Region</th>\n",
       "      <th>Price</th>\n",
       "      <th>Units Sold</th>\n",
       "      <th>Sale Date</th>\n",
       "    </tr>\n",
       "  </thead>\n",
       "  <tbody>\n",
       "    <tr>\n",
       "      <th>count</th>\n",
       "      <td>947</td>\n",
       "      <td>942</td>\n",
       "      <td>945.000000</td>\n",
       "      <td>943.000000</td>\n",
       "      <td>1050</td>\n",
       "    </tr>\n",
       "    <tr>\n",
       "      <th>unique</th>\n",
       "      <td>50</td>\n",
       "      <td>10</td>\n",
       "      <td>NaN</td>\n",
       "      <td>NaN</td>\n",
       "      <td>1000</td>\n",
       "    </tr>\n",
       "    <tr>\n",
       "      <th>top</th>\n",
       "      <td>Product_4</td>\n",
       "      <td>Region_5</td>\n",
       "      <td>NaN</td>\n",
       "      <td>NaN</td>\n",
       "      <td>2023-07-31</td>\n",
       "    </tr>\n",
       "    <tr>\n",
       "      <th>freq</th>\n",
       "      <td>30</td>\n",
       "      <td>112</td>\n",
       "      <td>NaN</td>\n",
       "      <td>NaN</td>\n",
       "      <td>2</td>\n",
       "    </tr>\n",
       "    <tr>\n",
       "      <th>mean</th>\n",
       "      <td>NaN</td>\n",
       "      <td>NaN</td>\n",
       "      <td>108.628011</td>\n",
       "      <td>10.200424</td>\n",
       "      <td>NaN</td>\n",
       "    </tr>\n",
       "    <tr>\n",
       "      <th>std</th>\n",
       "      <td>NaN</td>\n",
       "      <td>NaN</td>\n",
       "      <td>167.350086</td>\n",
       "      <td>3.247589</td>\n",
       "      <td>NaN</td>\n",
       "    </tr>\n",
       "    <tr>\n",
       "      <th>min</th>\n",
       "      <td>NaN</td>\n",
       "      <td>NaN</td>\n",
       "      <td>0.190000</td>\n",
       "      <td>2.000000</td>\n",
       "      <td>NaN</td>\n",
       "    </tr>\n",
       "    <tr>\n",
       "      <th>25%</th>\n",
       "      <td>NaN</td>\n",
       "      <td>NaN</td>\n",
       "      <td>26.420000</td>\n",
       "      <td>8.000000</td>\n",
       "      <td>NaN</td>\n",
       "    </tr>\n",
       "    <tr>\n",
       "      <th>50%</th>\n",
       "      <td>NaN</td>\n",
       "      <td>NaN</td>\n",
       "      <td>64.640000</td>\n",
       "      <td>10.000000</td>\n",
       "      <td>NaN</td>\n",
       "    </tr>\n",
       "    <tr>\n",
       "      <th>75%</th>\n",
       "      <td>NaN</td>\n",
       "      <td>NaN</td>\n",
       "      <td>142.310000</td>\n",
       "      <td>12.000000</td>\n",
       "      <td>NaN</td>\n",
       "    </tr>\n",
       "    <tr>\n",
       "      <th>max</th>\n",
       "      <td>NaN</td>\n",
       "      <td>NaN</td>\n",
       "      <td>2636.900000</td>\n",
       "      <td>22.000000</td>\n",
       "      <td>NaN</td>\n",
       "    </tr>\n",
       "  </tbody>\n",
       "</table>\n",
       "</div>"
      ],
      "text/plain": [
       "          Product    Region        Price  Units Sold   Sale Date\n",
       "count         947       942   945.000000  943.000000        1050\n",
       "unique         50        10          NaN         NaN        1000\n",
       "top     Product_4  Region_5          NaN         NaN  2023-07-31\n",
       "freq           30       112          NaN         NaN           2\n",
       "mean          NaN       NaN   108.628011   10.200424         NaN\n",
       "std           NaN       NaN   167.350086    3.247589         NaN\n",
       "min           NaN       NaN     0.190000    2.000000         NaN\n",
       "25%           NaN       NaN    26.420000    8.000000         NaN\n",
       "50%           NaN       NaN    64.640000   10.000000         NaN\n",
       "75%           NaN       NaN   142.310000   12.000000         NaN\n",
       "max           NaN       NaN  2636.900000   22.000000         NaN"
      ]
     },
     "execution_count": 55,
     "metadata": {},
     "output_type": "execute_result"
    }
   ],
   "source": [
    "df.describe(include='all')"
   ]
  },
  {
   "attachments": {},
   "cell_type": "markdown",
   "metadata": {},
   "source": [
    "Product has 50 unique values, with Product_4 being the most frequently occuring product, with 30 entries (~3% of all data)\n",
    "\n",
    "Region has 10 unique values, with Region_5 being the most frequently occuring region, with 112 entries (~10% of all data)\n",
    "\n",
    "The median Price is 64 while the mean price is 108 which indicates skewness\n",
    "\n",
    "The maximum Price is $2,636 - this could be an outlier. We will need to investigate\n",
    "\n",
    "The median Units Sold is 10 and the mean Units Sold is also 10, which indicates a normal distribution\n",
    "\n",
    "The Sale Date has 1000 unique values, with the top value being '2023-07-31' occurring twice"
   ]
  },
  {
   "attachments": {},
   "cell_type": "markdown",
   "metadata": {},
   "source": [
    "### Data Cleaning"
   ]
  },
  {
   "attachments": {},
   "cell_type": "markdown",
   "metadata": {},
   "source": [
    "We don't see any data type issues, with the exception of Sale Date, which is currently an 'object'. This should be a datetime data type.\n",
    "\n",
    "First, we should check if there are any rows where all 4 columns have a missing data point; these rows we should drop immediately.\n",
    "\n",
    "Product: since the mode is only 3% of the data, and we have roughly 10% missing data, we may create bias by imputing with the mode. A good strategy here would be to either randomly assign Product values, or to use \"Other\"\n",
    "\n",
    "Region: since the mode is 10% of the data, and we have roughly 10% missing data, as with Product we could create bias by imputing with the mode. We will take a similar approach as above\n",
    "\n",
    "Price: since the data is skewed, we should either use the median() of the column, or use the median() by Product - this would likely give us a more accurate estimate\n",
    "\n",
    "Units Sold: since the data is normally distributed, we could use the mean() or we could try using the mean() by Product or Region"
   ]
  },
  {
   "cell_type": "code",
   "execution_count": 56,
   "metadata": {},
   "outputs": [
    {
     "data": {
      "text/html": [
       "<div>\n",
       "<style scoped>\n",
       "    .dataframe tbody tr th:only-of-type {\n",
       "        vertical-align: middle;\n",
       "    }\n",
       "\n",
       "    .dataframe tbody tr th {\n",
       "        vertical-align: top;\n",
       "    }\n",
       "\n",
       "    .dataframe thead th {\n",
       "        text-align: right;\n",
       "    }\n",
       "</style>\n",
       "<table border=\"1\" class=\"dataframe\">\n",
       "  <thead>\n",
       "    <tr style=\"text-align: right;\">\n",
       "      <th></th>\n",
       "      <th>Product</th>\n",
       "      <th>Region</th>\n",
       "      <th>Price</th>\n",
       "      <th>Units Sold</th>\n",
       "      <th>Sale Date</th>\n",
       "    </tr>\n",
       "  </thead>\n",
       "  <tbody>\n",
       "  </tbody>\n",
       "</table>\n",
       "</div>"
      ],
      "text/plain": [
       "Empty DataFrame\n",
       "Columns: [Product, Region, Price, Units Sold, Sale Date]\n",
       "Index: []"
      ]
     },
     "execution_count": 56,
     "metadata": {},
     "output_type": "execute_result"
    }
   ],
   "source": [
    "# We can use a simple filter to check if any row has all column data missing\n",
    "df[df['Product'].isnull() & df['Region'].isnull() & df['Price'].isnull() & df['Units Sold'].isnull()]"
   ]
  },
  {
   "cell_type": "code",
   "execution_count": 57,
   "metadata": {},
   "outputs": [
    {
     "data": {
      "text/html": [
       "<div>\n",
       "<style scoped>\n",
       "    .dataframe tbody tr th:only-of-type {\n",
       "        vertical-align: middle;\n",
       "    }\n",
       "\n",
       "    .dataframe tbody tr th {\n",
       "        vertical-align: top;\n",
       "    }\n",
       "\n",
       "    .dataframe thead th {\n",
       "        text-align: right;\n",
       "    }\n",
       "</style>\n",
       "<table border=\"1\" class=\"dataframe\">\n",
       "  <thead>\n",
       "    <tr style=\"text-align: right;\">\n",
       "      <th></th>\n",
       "      <th>Product</th>\n",
       "      <th>Region</th>\n",
       "      <th>Price</th>\n",
       "      <th>Units Sold</th>\n",
       "      <th>Sale Date</th>\n",
       "    </tr>\n",
       "  </thead>\n",
       "  <tbody>\n",
       "    <tr>\n",
       "      <th>7</th>\n",
       "      <td>NaN</td>\n",
       "      <td>NaN</td>\n",
       "      <td>NaN</td>\n",
       "      <td>11.0</td>\n",
       "      <td>2022-01-08</td>\n",
       "    </tr>\n",
       "  </tbody>\n",
       "</table>\n",
       "</div>"
      ],
      "text/plain": [
       "  Product Region  Price  Units Sold   Sale Date\n",
       "7     NaN    NaN    NaN        11.0  2022-01-08"
      ]
     },
     "execution_count": 57,
     "metadata": {},
     "output_type": "execute_result"
    }
   ],
   "source": [
    "# The above yielded no rows, let's check situations where we have Product & Region & Price\n",
    "df[df['Product'].isnull() & df['Region'].isnull() & df['Price'].isnull()]"
   ]
  },
  {
   "cell_type": "code",
   "execution_count": 58,
   "metadata": {},
   "outputs": [
    {
     "data": {
      "text/html": [
       "<div>\n",
       "<style scoped>\n",
       "    .dataframe tbody tr th:only-of-type {\n",
       "        vertical-align: middle;\n",
       "    }\n",
       "\n",
       "    .dataframe tbody tr th {\n",
       "        vertical-align: top;\n",
       "    }\n",
       "\n",
       "    .dataframe thead th {\n",
       "        text-align: right;\n",
       "    }\n",
       "</style>\n",
       "<table border=\"1\" class=\"dataframe\">\n",
       "  <thead>\n",
       "    <tr style=\"text-align: right;\">\n",
       "      <th></th>\n",
       "      <th>Product</th>\n",
       "      <th>Region</th>\n",
       "      <th>Price</th>\n",
       "      <th>Units Sold</th>\n",
       "      <th>Sale Date</th>\n",
       "    </tr>\n",
       "  </thead>\n",
       "  <tbody>\n",
       "    <tr>\n",
       "      <th>22</th>\n",
       "      <td>NaN</td>\n",
       "      <td>NaN</td>\n",
       "      <td>36.26</td>\n",
       "      <td>NaN</td>\n",
       "      <td>2022-01-23</td>\n",
       "    </tr>\n",
       "  </tbody>\n",
       "</table>\n",
       "</div>"
      ],
      "text/plain": [
       "   Product Region  Price  Units Sold   Sale Date\n",
       "22     NaN    NaN  36.26         NaN  2022-01-23"
      ]
     },
     "execution_count": 58,
     "metadata": {},
     "output_type": "execute_result"
    }
   ],
   "source": [
    "# We have 1 row with Product, Region and Price missing. Let's check Product, Region and Units Sold\n",
    "df[df['Product'].isnull() & df['Region'].isnull() & df['Units Sold'].isnull()]"
   ]
  },
  {
   "cell_type": "code",
   "execution_count": 59,
   "metadata": {},
   "outputs": [],
   "source": [
    "# Both observations 7 and 22 should be deleted, as too much data is missing. Let's drop these using drop()\n",
    "df.drop([7,22], axis=0, inplace=True)"
   ]
  },
  {
   "cell_type": "code",
   "execution_count": 60,
   "metadata": {},
   "outputs": [
    {
     "data": {
      "text/html": [
       "<div>\n",
       "<style scoped>\n",
       "    .dataframe tbody tr th:only-of-type {\n",
       "        vertical-align: middle;\n",
       "    }\n",
       "\n",
       "    .dataframe tbody tr th {\n",
       "        vertical-align: top;\n",
       "    }\n",
       "\n",
       "    .dataframe thead th {\n",
       "        text-align: right;\n",
       "    }\n",
       "</style>\n",
       "<table border=\"1\" class=\"dataframe\">\n",
       "  <thead>\n",
       "    <tr style=\"text-align: right;\">\n",
       "      <th></th>\n",
       "      <th>Product</th>\n",
       "      <th>Region</th>\n",
       "      <th>Price</th>\n",
       "      <th>Units Sold</th>\n",
       "      <th>Sale Date</th>\n",
       "    </tr>\n",
       "  </thead>\n",
       "  <tbody>\n",
       "    <tr>\n",
       "      <th>43</th>\n",
       "      <td>NaN</td>\n",
       "      <td>NaN</td>\n",
       "      <td>13.59</td>\n",
       "      <td>12.0</td>\n",
       "      <td>2022-02-13</td>\n",
       "    </tr>\n",
       "    <tr>\n",
       "      <th>228</th>\n",
       "      <td>NaN</td>\n",
       "      <td>NaN</td>\n",
       "      <td>24.35</td>\n",
       "      <td>10.0</td>\n",
       "      <td>2022-08-17</td>\n",
       "    </tr>\n",
       "    <tr>\n",
       "      <th>304</th>\n",
       "      <td>NaN</td>\n",
       "      <td>NaN</td>\n",
       "      <td>9.43</td>\n",
       "      <td>7.0</td>\n",
       "      <td>2022-11-01</td>\n",
       "    </tr>\n",
       "    <tr>\n",
       "      <th>318</th>\n",
       "      <td>NaN</td>\n",
       "      <td>NaN</td>\n",
       "      <td>305.21</td>\n",
       "      <td>9.0</td>\n",
       "      <td>2022-11-15</td>\n",
       "    </tr>\n",
       "    <tr>\n",
       "      <th>362</th>\n",
       "      <td>NaN</td>\n",
       "      <td>NaN</td>\n",
       "      <td>292.85</td>\n",
       "      <td>9.0</td>\n",
       "      <td>2022-12-29</td>\n",
       "    </tr>\n",
       "    <tr>\n",
       "      <th>604</th>\n",
       "      <td>NaN</td>\n",
       "      <td>NaN</td>\n",
       "      <td>49.04</td>\n",
       "      <td>13.0</td>\n",
       "      <td>2023-08-28</td>\n",
       "    </tr>\n",
       "    <tr>\n",
       "      <th>706</th>\n",
       "      <td>NaN</td>\n",
       "      <td>NaN</td>\n",
       "      <td>184.50</td>\n",
       "      <td>6.0</td>\n",
       "      <td>2023-12-08</td>\n",
       "    </tr>\n",
       "    <tr>\n",
       "      <th>842</th>\n",
       "      <td>NaN</td>\n",
       "      <td>NaN</td>\n",
       "      <td>200.61</td>\n",
       "      <td>12.0</td>\n",
       "      <td>2024-04-22</td>\n",
       "    </tr>\n",
       "    <tr>\n",
       "      <th>1006</th>\n",
       "      <td>NaN</td>\n",
       "      <td>NaN</td>\n",
       "      <td>292.85</td>\n",
       "      <td>9.0</td>\n",
       "      <td>2022-12-29</td>\n",
       "    </tr>\n",
       "    <tr>\n",
       "      <th>1016</th>\n",
       "      <td>NaN</td>\n",
       "      <td>NaN</td>\n",
       "      <td>200.61</td>\n",
       "      <td>12.0</td>\n",
       "      <td>2024-04-22</td>\n",
       "    </tr>\n",
       "  </tbody>\n",
       "</table>\n",
       "</div>"
      ],
      "text/plain": [
       "     Product Region   Price  Units Sold   Sale Date\n",
       "43       NaN    NaN   13.59        12.0  2022-02-13\n",
       "228      NaN    NaN   24.35        10.0  2022-08-17\n",
       "304      NaN    NaN    9.43         7.0  2022-11-01\n",
       "318      NaN    NaN  305.21         9.0  2022-11-15\n",
       "362      NaN    NaN  292.85         9.0  2022-12-29\n",
       "604      NaN    NaN   49.04        13.0  2023-08-28\n",
       "706      NaN    NaN  184.50         6.0  2023-12-08\n",
       "842      NaN    NaN  200.61        12.0  2024-04-22\n",
       "1006     NaN    NaN  292.85         9.0  2022-12-29\n",
       "1016     NaN    NaN  200.61        12.0  2024-04-22"
      ]
     },
     "execution_count": 60,
     "metadata": {},
     "output_type": "execute_result"
    }
   ],
   "source": [
    "# Let's check remaining observations with both Product and Region missing\n",
    "df[df['Product'].isnull() & df['Region'].isnull()]"
   ]
  },
  {
   "cell_type": "code",
   "execution_count": 61,
   "metadata": {},
   "outputs": [],
   "source": [
    "# We have 10 remaining observations who likely have too much data missing, this is a small number so we can drop them\n",
    "# using the index values\n",
    "df.drop(df[df['Product'].isnull() & df['Region'].isnull()].index, axis=0, inplace=True)"
   ]
  },
  {
   "cell_type": "code",
   "execution_count": 62,
   "metadata": {},
   "outputs": [
    {
     "data": {
      "text/html": [
       "<div>\n",
       "<style scoped>\n",
       "    .dataframe tbody tr th:only-of-type {\n",
       "        vertical-align: middle;\n",
       "    }\n",
       "\n",
       "    .dataframe tbody tr th {\n",
       "        vertical-align: top;\n",
       "    }\n",
       "\n",
       "    .dataframe thead th {\n",
       "        text-align: right;\n",
       "    }\n",
       "</style>\n",
       "<table border=\"1\" class=\"dataframe\">\n",
       "  <thead>\n",
       "    <tr style=\"text-align: right;\">\n",
       "      <th></th>\n",
       "      <th>Product</th>\n",
       "      <th>Region</th>\n",
       "      <th>Price</th>\n",
       "      <th>Units Sold</th>\n",
       "      <th>Sale Date</th>\n",
       "    </tr>\n",
       "  </thead>\n",
       "  <tbody>\n",
       "    <tr>\n",
       "      <th>count</th>\n",
       "      <td>947</td>\n",
       "      <td>942</td>\n",
       "      <td>934.000000</td>\n",
       "      <td>932.000000</td>\n",
       "      <td>1038</td>\n",
       "    </tr>\n",
       "    <tr>\n",
       "      <th>unique</th>\n",
       "      <td>50</td>\n",
       "      <td>10</td>\n",
       "      <td>NaN</td>\n",
       "      <td>NaN</td>\n",
       "      <td>990</td>\n",
       "    </tr>\n",
       "    <tr>\n",
       "      <th>top</th>\n",
       "      <td>Product_4</td>\n",
       "      <td>Region_5</td>\n",
       "      <td>NaN</td>\n",
       "      <td>NaN</td>\n",
       "      <td>2023-05-18</td>\n",
       "    </tr>\n",
       "    <tr>\n",
       "      <th>freq</th>\n",
       "      <td>30</td>\n",
       "      <td>112</td>\n",
       "      <td>NaN</td>\n",
       "      <td>NaN</td>\n",
       "      <td>2</td>\n",
       "    </tr>\n",
       "    <tr>\n",
       "      <th>mean</th>\n",
       "      <td>NaN</td>\n",
       "      <td>NaN</td>\n",
       "      <td>108.184336</td>\n",
       "      <td>10.202790</td>\n",
       "      <td>NaN</td>\n",
       "    </tr>\n",
       "    <tr>\n",
       "      <th>std</th>\n",
       "      <td>NaN</td>\n",
       "      <td>NaN</td>\n",
       "      <td>167.810334</td>\n",
       "      <td>3.258414</td>\n",
       "      <td>NaN</td>\n",
       "    </tr>\n",
       "    <tr>\n",
       "      <th>min</th>\n",
       "      <td>NaN</td>\n",
       "      <td>NaN</td>\n",
       "      <td>0.190000</td>\n",
       "      <td>2.000000</td>\n",
       "      <td>NaN</td>\n",
       "    </tr>\n",
       "    <tr>\n",
       "      <th>25%</th>\n",
       "      <td>NaN</td>\n",
       "      <td>NaN</td>\n",
       "      <td>26.442500</td>\n",
       "      <td>8.000000</td>\n",
       "      <td>NaN</td>\n",
       "    </tr>\n",
       "    <tr>\n",
       "      <th>50%</th>\n",
       "      <td>NaN</td>\n",
       "      <td>NaN</td>\n",
       "      <td>64.620000</td>\n",
       "      <td>10.000000</td>\n",
       "      <td>NaN</td>\n",
       "    </tr>\n",
       "    <tr>\n",
       "      <th>75%</th>\n",
       "      <td>NaN</td>\n",
       "      <td>NaN</td>\n",
       "      <td>141.150000</td>\n",
       "      <td>12.000000</td>\n",
       "      <td>NaN</td>\n",
       "    </tr>\n",
       "    <tr>\n",
       "      <th>max</th>\n",
       "      <td>NaN</td>\n",
       "      <td>NaN</td>\n",
       "      <td>2636.900000</td>\n",
       "      <td>22.000000</td>\n",
       "      <td>NaN</td>\n",
       "    </tr>\n",
       "  </tbody>\n",
       "</table>\n",
       "</div>"
      ],
      "text/plain": [
       "          Product    Region        Price  Units Sold   Sale Date\n",
       "count         947       942   934.000000  932.000000        1038\n",
       "unique         50        10          NaN         NaN         990\n",
       "top     Product_4  Region_5          NaN         NaN  2023-05-18\n",
       "freq           30       112          NaN         NaN           2\n",
       "mean          NaN       NaN   108.184336   10.202790         NaN\n",
       "std           NaN       NaN   167.810334    3.258414         NaN\n",
       "min           NaN       NaN     0.190000    2.000000         NaN\n",
       "25%           NaN       NaN    26.442500    8.000000         NaN\n",
       "50%           NaN       NaN    64.620000   10.000000         NaN\n",
       "75%           NaN       NaN   141.150000   12.000000         NaN\n",
       "max           NaN       NaN  2636.900000   22.000000         NaN"
      ]
     },
     "execution_count": 62,
     "metadata": {},
     "output_type": "execute_result"
    }
   ],
   "source": [
    "# Let's check our data statistics now\n",
    "df.describe(include='all')"
   ]
  },
  {
   "cell_type": "code",
   "execution_count": 63,
   "metadata": {},
   "outputs": [
    {
     "name": "stdout",
     "output_type": "stream",
     "text": [
      "<class 'pandas.core.frame.DataFrame'>\n",
      "Int64Index: 1038 entries, 0 to 1049\n",
      "Data columns (total 5 columns):\n",
      " #   Column      Non-Null Count  Dtype  \n",
      "---  ------      --------------  -----  \n",
      " 0   Product     947 non-null    object \n",
      " 1   Region      942 non-null    object \n",
      " 2   Price       934 non-null    float64\n",
      " 3   Units Sold  932 non-null    float64\n",
      " 4   Sale Date   1038 non-null   object \n",
      "dtypes: float64(2), object(3)\n",
      "memory usage: 48.7+ KB\n"
     ]
    }
   ],
   "source": [
    "df.info()"
   ]
  },
  {
   "cell_type": "code",
   "execution_count": 64,
   "metadata": {},
   "outputs": [],
   "source": [
    "df_test = df.copy()"
   ]
  },
  {
   "cell_type": "code",
   "execution_count": 65,
   "metadata": {},
   "outputs": [
    {
     "data": {
      "text/html": [
       "<div>\n",
       "<style scoped>\n",
       "    .dataframe tbody tr th:only-of-type {\n",
       "        vertical-align: middle;\n",
       "    }\n",
       "\n",
       "    .dataframe tbody tr th {\n",
       "        vertical-align: top;\n",
       "    }\n",
       "\n",
       "    .dataframe thead tr th {\n",
       "        text-align: left;\n",
       "    }\n",
       "\n",
       "    .dataframe thead tr:last-of-type th {\n",
       "        text-align: right;\n",
       "    }\n",
       "</style>\n",
       "<table border=\"1\" class=\"dataframe\">\n",
       "  <thead>\n",
       "    <tr>\n",
       "      <th></th>\n",
       "      <th colspan=\"8\" halign=\"left\">Price</th>\n",
       "      <th colspan=\"8\" halign=\"left\">Units Sold</th>\n",
       "    </tr>\n",
       "    <tr>\n",
       "      <th></th>\n",
       "      <th>count</th>\n",
       "      <th>mean</th>\n",
       "      <th>std</th>\n",
       "      <th>min</th>\n",
       "      <th>25%</th>\n",
       "      <th>50%</th>\n",
       "      <th>75%</th>\n",
       "      <th>max</th>\n",
       "      <th>count</th>\n",
       "      <th>mean</th>\n",
       "      <th>std</th>\n",
       "      <th>min</th>\n",
       "      <th>25%</th>\n",
       "      <th>50%</th>\n",
       "      <th>75%</th>\n",
       "      <th>max</th>\n",
       "    </tr>\n",
       "    <tr>\n",
       "      <th>Region</th>\n",
       "      <th></th>\n",
       "      <th></th>\n",
       "      <th></th>\n",
       "      <th></th>\n",
       "      <th></th>\n",
       "      <th></th>\n",
       "      <th></th>\n",
       "      <th></th>\n",
       "      <th></th>\n",
       "      <th></th>\n",
       "      <th></th>\n",
       "      <th></th>\n",
       "      <th></th>\n",
       "      <th></th>\n",
       "      <th></th>\n",
       "      <th></th>\n",
       "    </tr>\n",
       "  </thead>\n",
       "  <tbody>\n",
       "    <tr>\n",
       "      <th>Region_1</th>\n",
       "      <td>78.0</td>\n",
       "      <td>97.792821</td>\n",
       "      <td>89.277140</td>\n",
       "      <td>2.91</td>\n",
       "      <td>40.7575</td>\n",
       "      <td>72.440</td>\n",
       "      <td>121.2150</td>\n",
       "      <td>469.65</td>\n",
       "      <td>82.0</td>\n",
       "      <td>10.329268</td>\n",
       "      <td>3.527860</td>\n",
       "      <td>2.0</td>\n",
       "      <td>8.00</td>\n",
       "      <td>10.5</td>\n",
       "      <td>13.00</td>\n",
       "      <td>21.0</td>\n",
       "    </tr>\n",
       "    <tr>\n",
       "      <th>Region_10</th>\n",
       "      <td>80.0</td>\n",
       "      <td>113.310500</td>\n",
       "      <td>120.292908</td>\n",
       "      <td>0.19</td>\n",
       "      <td>26.7425</td>\n",
       "      <td>67.900</td>\n",
       "      <td>151.6175</td>\n",
       "      <td>650.50</td>\n",
       "      <td>81.0</td>\n",
       "      <td>9.814815</td>\n",
       "      <td>3.369388</td>\n",
       "      <td>4.0</td>\n",
       "      <td>8.00</td>\n",
       "      <td>10.0</td>\n",
       "      <td>12.00</td>\n",
       "      <td>19.0</td>\n",
       "    </tr>\n",
       "    <tr>\n",
       "      <th>Region_2</th>\n",
       "      <td>94.0</td>\n",
       "      <td>137.287340</td>\n",
       "      <td>283.069362</td>\n",
       "      <td>1.49</td>\n",
       "      <td>24.4725</td>\n",
       "      <td>66.960</td>\n",
       "      <td>158.7025</td>\n",
       "      <td>2636.90</td>\n",
       "      <td>92.0</td>\n",
       "      <td>10.413043</td>\n",
       "      <td>2.875253</td>\n",
       "      <td>5.0</td>\n",
       "      <td>8.75</td>\n",
       "      <td>10.0</td>\n",
       "      <td>12.00</td>\n",
       "      <td>17.0</td>\n",
       "    </tr>\n",
       "    <tr>\n",
       "      <th>Region_3</th>\n",
       "      <td>75.0</td>\n",
       "      <td>91.008400</td>\n",
       "      <td>89.612608</td>\n",
       "      <td>3.40</td>\n",
       "      <td>35.1000</td>\n",
       "      <td>58.370</td>\n",
       "      <td>121.1550</td>\n",
       "      <td>485.84</td>\n",
       "      <td>78.0</td>\n",
       "      <td>9.807692</td>\n",
       "      <td>3.137779</td>\n",
       "      <td>4.0</td>\n",
       "      <td>8.00</td>\n",
       "      <td>10.0</td>\n",
       "      <td>11.75</td>\n",
       "      <td>18.0</td>\n",
       "    </tr>\n",
       "    <tr>\n",
       "      <th>Region_4</th>\n",
       "      <td>79.0</td>\n",
       "      <td>85.824051</td>\n",
       "      <td>94.673327</td>\n",
       "      <td>2.37</td>\n",
       "      <td>21.3050</td>\n",
       "      <td>47.340</td>\n",
       "      <td>119.8500</td>\n",
       "      <td>489.40</td>\n",
       "      <td>79.0</td>\n",
       "      <td>10.227848</td>\n",
       "      <td>3.108918</td>\n",
       "      <td>2.0</td>\n",
       "      <td>8.00</td>\n",
       "      <td>10.0</td>\n",
       "      <td>12.00</td>\n",
       "      <td>16.0</td>\n",
       "    </tr>\n",
       "    <tr>\n",
       "      <th>Region_5</th>\n",
       "      <td>100.0</td>\n",
       "      <td>125.430300</td>\n",
       "      <td>263.248626</td>\n",
       "      <td>0.27</td>\n",
       "      <td>31.6175</td>\n",
       "      <td>75.195</td>\n",
       "      <td>141.4850</td>\n",
       "      <td>2544.60</td>\n",
       "      <td>103.0</td>\n",
       "      <td>9.941748</td>\n",
       "      <td>3.333800</td>\n",
       "      <td>3.0</td>\n",
       "      <td>7.00</td>\n",
       "      <td>10.0</td>\n",
       "      <td>12.00</td>\n",
       "      <td>18.0</td>\n",
       "    </tr>\n",
       "    <tr>\n",
       "      <th>Region_6</th>\n",
       "      <td>81.0</td>\n",
       "      <td>96.727037</td>\n",
       "      <td>98.491166</td>\n",
       "      <td>0.71</td>\n",
       "      <td>28.7300</td>\n",
       "      <td>55.410</td>\n",
       "      <td>125.5100</td>\n",
       "      <td>417.05</td>\n",
       "      <td>71.0</td>\n",
       "      <td>10.394366</td>\n",
       "      <td>2.983186</td>\n",
       "      <td>4.0</td>\n",
       "      <td>9.00</td>\n",
       "      <td>10.0</td>\n",
       "      <td>12.00</td>\n",
       "      <td>18.0</td>\n",
       "    </tr>\n",
       "    <tr>\n",
       "      <th>Region_7</th>\n",
       "      <td>84.0</td>\n",
       "      <td>107.210119</td>\n",
       "      <td>211.396135</td>\n",
       "      <td>0.19</td>\n",
       "      <td>20.1225</td>\n",
       "      <td>58.865</td>\n",
       "      <td>123.8175</td>\n",
       "      <td>1793.90</td>\n",
       "      <td>85.0</td>\n",
       "      <td>10.894118</td>\n",
       "      <td>3.712987</td>\n",
       "      <td>3.0</td>\n",
       "      <td>8.00</td>\n",
       "      <td>11.0</td>\n",
       "      <td>13.00</td>\n",
       "      <td>22.0</td>\n",
       "    </tr>\n",
       "    <tr>\n",
       "      <th>Region_8</th>\n",
       "      <td>88.0</td>\n",
       "      <td>120.850909</td>\n",
       "      <td>158.015038</td>\n",
       "      <td>0.27</td>\n",
       "      <td>38.8225</td>\n",
       "      <td>81.585</td>\n",
       "      <td>145.4825</td>\n",
       "      <td>1296.00</td>\n",
       "      <td>84.0</td>\n",
       "      <td>10.642857</td>\n",
       "      <td>3.364030</td>\n",
       "      <td>3.0</td>\n",
       "      <td>8.75</td>\n",
       "      <td>11.0</td>\n",
       "      <td>12.25</td>\n",
       "      <td>20.0</td>\n",
       "    </tr>\n",
       "    <tr>\n",
       "      <th>Region_9</th>\n",
       "      <td>88.0</td>\n",
       "      <td>95.861477</td>\n",
       "      <td>98.457933</td>\n",
       "      <td>0.25</td>\n",
       "      <td>23.6950</td>\n",
       "      <td>66.375</td>\n",
       "      <td>134.7675</td>\n",
       "      <td>531.91</td>\n",
       "      <td>89.0</td>\n",
       "      <td>9.887640</td>\n",
       "      <td>2.994078</td>\n",
       "      <td>5.0</td>\n",
       "      <td>7.00</td>\n",
       "      <td>10.0</td>\n",
       "      <td>12.00</td>\n",
       "      <td>18.0</td>\n",
       "    </tr>\n",
       "  </tbody>\n",
       "</table>\n",
       "</div>"
      ],
      "text/plain": [
       "           Price                                                           \\\n",
       "           count        mean         std   min      25%     50%       75%   \n",
       "Region                                                                      \n",
       "Region_1    78.0   97.792821   89.277140  2.91  40.7575  72.440  121.2150   \n",
       "Region_10   80.0  113.310500  120.292908  0.19  26.7425  67.900  151.6175   \n",
       "Region_2    94.0  137.287340  283.069362  1.49  24.4725  66.960  158.7025   \n",
       "Region_3    75.0   91.008400   89.612608  3.40  35.1000  58.370  121.1550   \n",
       "Region_4    79.0   85.824051   94.673327  2.37  21.3050  47.340  119.8500   \n",
       "Region_5   100.0  125.430300  263.248626  0.27  31.6175  75.195  141.4850   \n",
       "Region_6    81.0   96.727037   98.491166  0.71  28.7300  55.410  125.5100   \n",
       "Region_7    84.0  107.210119  211.396135  0.19  20.1225  58.865  123.8175   \n",
       "Region_8    88.0  120.850909  158.015038  0.27  38.8225  81.585  145.4825   \n",
       "Region_9    88.0   95.861477   98.457933  0.25  23.6950  66.375  134.7675   \n",
       "\n",
       "                   Units Sold                                               \\\n",
       "               max      count       mean       std  min   25%   50%    75%   \n",
       "Region                                                                       \n",
       "Region_1    469.65       82.0  10.329268  3.527860  2.0  8.00  10.5  13.00   \n",
       "Region_10   650.50       81.0   9.814815  3.369388  4.0  8.00  10.0  12.00   \n",
       "Region_2   2636.90       92.0  10.413043  2.875253  5.0  8.75  10.0  12.00   \n",
       "Region_3    485.84       78.0   9.807692  3.137779  4.0  8.00  10.0  11.75   \n",
       "Region_4    489.40       79.0  10.227848  3.108918  2.0  8.00  10.0  12.00   \n",
       "Region_5   2544.60      103.0   9.941748  3.333800  3.0  7.00  10.0  12.00   \n",
       "Region_6    417.05       71.0  10.394366  2.983186  4.0  9.00  10.0  12.00   \n",
       "Region_7   1793.90       85.0  10.894118  3.712987  3.0  8.00  11.0  13.00   \n",
       "Region_8   1296.00       84.0  10.642857  3.364030  3.0  8.75  11.0  12.25   \n",
       "Region_9    531.91       89.0   9.887640  2.994078  5.0  7.00  10.0  12.00   \n",
       "\n",
       "                 \n",
       "            max  \n",
       "Region           \n",
       "Region_1   21.0  \n",
       "Region_10  19.0  \n",
       "Region_2   17.0  \n",
       "Region_3   18.0  \n",
       "Region_4   16.0  \n",
       "Region_5   18.0  \n",
       "Region_6   18.0  \n",
       "Region_7   22.0  \n",
       "Region_8   20.0  \n",
       "Region_9   18.0  "
      ]
     },
     "execution_count": 65,
     "metadata": {},
     "output_type": "execute_result"
    }
   ],
   "source": [
    "df_test.groupby('Region').describe()"
   ]
  },
  {
   "cell_type": "code",
   "execution_count": 66,
   "metadata": {},
   "outputs": [],
   "source": [
    "df_test['Region'] = df_test['Region'].fillna('Other')"
   ]
  },
  {
   "cell_type": "code",
   "execution_count": 67,
   "metadata": {},
   "outputs": [
    {
     "data": {
      "text/html": [
       "<div>\n",
       "<style scoped>\n",
       "    .dataframe tbody tr th:only-of-type {\n",
       "        vertical-align: middle;\n",
       "    }\n",
       "\n",
       "    .dataframe tbody tr th {\n",
       "        vertical-align: top;\n",
       "    }\n",
       "\n",
       "    .dataframe thead tr th {\n",
       "        text-align: left;\n",
       "    }\n",
       "\n",
       "    .dataframe thead tr:last-of-type th {\n",
       "        text-align: right;\n",
       "    }\n",
       "</style>\n",
       "<table border=\"1\" class=\"dataframe\">\n",
       "  <thead>\n",
       "    <tr>\n",
       "      <th></th>\n",
       "      <th colspan=\"8\" halign=\"left\">Price</th>\n",
       "      <th colspan=\"8\" halign=\"left\">Units Sold</th>\n",
       "    </tr>\n",
       "    <tr>\n",
       "      <th></th>\n",
       "      <th>count</th>\n",
       "      <th>mean</th>\n",
       "      <th>std</th>\n",
       "      <th>min</th>\n",
       "      <th>25%</th>\n",
       "      <th>50%</th>\n",
       "      <th>75%</th>\n",
       "      <th>max</th>\n",
       "      <th>count</th>\n",
       "      <th>mean</th>\n",
       "      <th>std</th>\n",
       "      <th>min</th>\n",
       "      <th>25%</th>\n",
       "      <th>50%</th>\n",
       "      <th>75%</th>\n",
       "      <th>max</th>\n",
       "    </tr>\n",
       "    <tr>\n",
       "      <th>Region</th>\n",
       "      <th></th>\n",
       "      <th></th>\n",
       "      <th></th>\n",
       "      <th></th>\n",
       "      <th></th>\n",
       "      <th></th>\n",
       "      <th></th>\n",
       "      <th></th>\n",
       "      <th></th>\n",
       "      <th></th>\n",
       "      <th></th>\n",
       "      <th></th>\n",
       "      <th></th>\n",
       "      <th></th>\n",
       "      <th></th>\n",
       "      <th></th>\n",
       "    </tr>\n",
       "  </thead>\n",
       "  <tbody>\n",
       "    <tr>\n",
       "      <th>Other</th>\n",
       "      <td>87.0</td>\n",
       "      <td>107.890690</td>\n",
       "      <td>117.639895</td>\n",
       "      <td>1.46</td>\n",
       "      <td>21.4350</td>\n",
       "      <td>56.250</td>\n",
       "      <td>162.3150</td>\n",
       "      <td>570.60</td>\n",
       "      <td>88.0</td>\n",
       "      <td>9.931818</td>\n",
       "      <td>3.303761</td>\n",
       "      <td>3.0</td>\n",
       "      <td>7.00</td>\n",
       "      <td>10.0</td>\n",
       "      <td>12.00</td>\n",
       "      <td>19.0</td>\n",
       "    </tr>\n",
       "    <tr>\n",
       "      <th>Region_1</th>\n",
       "      <td>78.0</td>\n",
       "      <td>97.792821</td>\n",
       "      <td>89.277140</td>\n",
       "      <td>2.91</td>\n",
       "      <td>40.7575</td>\n",
       "      <td>72.440</td>\n",
       "      <td>121.2150</td>\n",
       "      <td>469.65</td>\n",
       "      <td>82.0</td>\n",
       "      <td>10.329268</td>\n",
       "      <td>3.527860</td>\n",
       "      <td>2.0</td>\n",
       "      <td>8.00</td>\n",
       "      <td>10.5</td>\n",
       "      <td>13.00</td>\n",
       "      <td>21.0</td>\n",
       "    </tr>\n",
       "    <tr>\n",
       "      <th>Region_10</th>\n",
       "      <td>80.0</td>\n",
       "      <td>113.310500</td>\n",
       "      <td>120.292908</td>\n",
       "      <td>0.19</td>\n",
       "      <td>26.7425</td>\n",
       "      <td>67.900</td>\n",
       "      <td>151.6175</td>\n",
       "      <td>650.50</td>\n",
       "      <td>81.0</td>\n",
       "      <td>9.814815</td>\n",
       "      <td>3.369388</td>\n",
       "      <td>4.0</td>\n",
       "      <td>8.00</td>\n",
       "      <td>10.0</td>\n",
       "      <td>12.00</td>\n",
       "      <td>19.0</td>\n",
       "    </tr>\n",
       "    <tr>\n",
       "      <th>Region_2</th>\n",
       "      <td>94.0</td>\n",
       "      <td>137.287340</td>\n",
       "      <td>283.069362</td>\n",
       "      <td>1.49</td>\n",
       "      <td>24.4725</td>\n",
       "      <td>66.960</td>\n",
       "      <td>158.7025</td>\n",
       "      <td>2636.90</td>\n",
       "      <td>92.0</td>\n",
       "      <td>10.413043</td>\n",
       "      <td>2.875253</td>\n",
       "      <td>5.0</td>\n",
       "      <td>8.75</td>\n",
       "      <td>10.0</td>\n",
       "      <td>12.00</td>\n",
       "      <td>17.0</td>\n",
       "    </tr>\n",
       "    <tr>\n",
       "      <th>Region_3</th>\n",
       "      <td>75.0</td>\n",
       "      <td>91.008400</td>\n",
       "      <td>89.612608</td>\n",
       "      <td>3.40</td>\n",
       "      <td>35.1000</td>\n",
       "      <td>58.370</td>\n",
       "      <td>121.1550</td>\n",
       "      <td>485.84</td>\n",
       "      <td>78.0</td>\n",
       "      <td>9.807692</td>\n",
       "      <td>3.137779</td>\n",
       "      <td>4.0</td>\n",
       "      <td>8.00</td>\n",
       "      <td>10.0</td>\n",
       "      <td>11.75</td>\n",
       "      <td>18.0</td>\n",
       "    </tr>\n",
       "    <tr>\n",
       "      <th>Region_4</th>\n",
       "      <td>79.0</td>\n",
       "      <td>85.824051</td>\n",
       "      <td>94.673327</td>\n",
       "      <td>2.37</td>\n",
       "      <td>21.3050</td>\n",
       "      <td>47.340</td>\n",
       "      <td>119.8500</td>\n",
       "      <td>489.40</td>\n",
       "      <td>79.0</td>\n",
       "      <td>10.227848</td>\n",
       "      <td>3.108918</td>\n",
       "      <td>2.0</td>\n",
       "      <td>8.00</td>\n",
       "      <td>10.0</td>\n",
       "      <td>12.00</td>\n",
       "      <td>16.0</td>\n",
       "    </tr>\n",
       "    <tr>\n",
       "      <th>Region_5</th>\n",
       "      <td>100.0</td>\n",
       "      <td>125.430300</td>\n",
       "      <td>263.248626</td>\n",
       "      <td>0.27</td>\n",
       "      <td>31.6175</td>\n",
       "      <td>75.195</td>\n",
       "      <td>141.4850</td>\n",
       "      <td>2544.60</td>\n",
       "      <td>103.0</td>\n",
       "      <td>9.941748</td>\n",
       "      <td>3.333800</td>\n",
       "      <td>3.0</td>\n",
       "      <td>7.00</td>\n",
       "      <td>10.0</td>\n",
       "      <td>12.00</td>\n",
       "      <td>18.0</td>\n",
       "    </tr>\n",
       "    <tr>\n",
       "      <th>Region_6</th>\n",
       "      <td>81.0</td>\n",
       "      <td>96.727037</td>\n",
       "      <td>98.491166</td>\n",
       "      <td>0.71</td>\n",
       "      <td>28.7300</td>\n",
       "      <td>55.410</td>\n",
       "      <td>125.5100</td>\n",
       "      <td>417.05</td>\n",
       "      <td>71.0</td>\n",
       "      <td>10.394366</td>\n",
       "      <td>2.983186</td>\n",
       "      <td>4.0</td>\n",
       "      <td>9.00</td>\n",
       "      <td>10.0</td>\n",
       "      <td>12.00</td>\n",
       "      <td>18.0</td>\n",
       "    </tr>\n",
       "    <tr>\n",
       "      <th>Region_7</th>\n",
       "      <td>84.0</td>\n",
       "      <td>107.210119</td>\n",
       "      <td>211.396135</td>\n",
       "      <td>0.19</td>\n",
       "      <td>20.1225</td>\n",
       "      <td>58.865</td>\n",
       "      <td>123.8175</td>\n",
       "      <td>1793.90</td>\n",
       "      <td>85.0</td>\n",
       "      <td>10.894118</td>\n",
       "      <td>3.712987</td>\n",
       "      <td>3.0</td>\n",
       "      <td>8.00</td>\n",
       "      <td>11.0</td>\n",
       "      <td>13.00</td>\n",
       "      <td>22.0</td>\n",
       "    </tr>\n",
       "    <tr>\n",
       "      <th>Region_8</th>\n",
       "      <td>88.0</td>\n",
       "      <td>120.850909</td>\n",
       "      <td>158.015038</td>\n",
       "      <td>0.27</td>\n",
       "      <td>38.8225</td>\n",
       "      <td>81.585</td>\n",
       "      <td>145.4825</td>\n",
       "      <td>1296.00</td>\n",
       "      <td>84.0</td>\n",
       "      <td>10.642857</td>\n",
       "      <td>3.364030</td>\n",
       "      <td>3.0</td>\n",
       "      <td>8.75</td>\n",
       "      <td>11.0</td>\n",
       "      <td>12.25</td>\n",
       "      <td>20.0</td>\n",
       "    </tr>\n",
       "    <tr>\n",
       "      <th>Region_9</th>\n",
       "      <td>88.0</td>\n",
       "      <td>95.861477</td>\n",
       "      <td>98.457933</td>\n",
       "      <td>0.25</td>\n",
       "      <td>23.6950</td>\n",
       "      <td>66.375</td>\n",
       "      <td>134.7675</td>\n",
       "      <td>531.91</td>\n",
       "      <td>89.0</td>\n",
       "      <td>9.887640</td>\n",
       "      <td>2.994078</td>\n",
       "      <td>5.0</td>\n",
       "      <td>7.00</td>\n",
       "      <td>10.0</td>\n",
       "      <td>12.00</td>\n",
       "      <td>18.0</td>\n",
       "    </tr>\n",
       "  </tbody>\n",
       "</table>\n",
       "</div>"
      ],
      "text/plain": [
       "           Price                                                           \\\n",
       "           count        mean         std   min      25%     50%       75%   \n",
       "Region                                                                      \n",
       "Other       87.0  107.890690  117.639895  1.46  21.4350  56.250  162.3150   \n",
       "Region_1    78.0   97.792821   89.277140  2.91  40.7575  72.440  121.2150   \n",
       "Region_10   80.0  113.310500  120.292908  0.19  26.7425  67.900  151.6175   \n",
       "Region_2    94.0  137.287340  283.069362  1.49  24.4725  66.960  158.7025   \n",
       "Region_3    75.0   91.008400   89.612608  3.40  35.1000  58.370  121.1550   \n",
       "Region_4    79.0   85.824051   94.673327  2.37  21.3050  47.340  119.8500   \n",
       "Region_5   100.0  125.430300  263.248626  0.27  31.6175  75.195  141.4850   \n",
       "Region_6    81.0   96.727037   98.491166  0.71  28.7300  55.410  125.5100   \n",
       "Region_7    84.0  107.210119  211.396135  0.19  20.1225  58.865  123.8175   \n",
       "Region_8    88.0  120.850909  158.015038  0.27  38.8225  81.585  145.4825   \n",
       "Region_9    88.0   95.861477   98.457933  0.25  23.6950  66.375  134.7675   \n",
       "\n",
       "                   Units Sold                                               \\\n",
       "               max      count       mean       std  min   25%   50%    75%   \n",
       "Region                                                                       \n",
       "Other       570.60       88.0   9.931818  3.303761  3.0  7.00  10.0  12.00   \n",
       "Region_1    469.65       82.0  10.329268  3.527860  2.0  8.00  10.5  13.00   \n",
       "Region_10   650.50       81.0   9.814815  3.369388  4.0  8.00  10.0  12.00   \n",
       "Region_2   2636.90       92.0  10.413043  2.875253  5.0  8.75  10.0  12.00   \n",
       "Region_3    485.84       78.0   9.807692  3.137779  4.0  8.00  10.0  11.75   \n",
       "Region_4    489.40       79.0  10.227848  3.108918  2.0  8.00  10.0  12.00   \n",
       "Region_5   2544.60      103.0   9.941748  3.333800  3.0  7.00  10.0  12.00   \n",
       "Region_6    417.05       71.0  10.394366  2.983186  4.0  9.00  10.0  12.00   \n",
       "Region_7   1793.90       85.0  10.894118  3.712987  3.0  8.00  11.0  13.00   \n",
       "Region_8   1296.00       84.0  10.642857  3.364030  3.0  8.75  11.0  12.25   \n",
       "Region_9    531.91       89.0   9.887640  2.994078  5.0  7.00  10.0  12.00   \n",
       "\n",
       "                 \n",
       "            max  \n",
       "Region           \n",
       "Other      19.0  \n",
       "Region_1   21.0  \n",
       "Region_10  19.0  \n",
       "Region_2   17.0  \n",
       "Region_3   18.0  \n",
       "Region_4   16.0  \n",
       "Region_5   18.0  \n",
       "Region_6   18.0  \n",
       "Region_7   22.0  \n",
       "Region_8   20.0  \n",
       "Region_9   18.0  "
      ]
     },
     "execution_count": 67,
     "metadata": {},
     "output_type": "execute_result"
    }
   ],
   "source": [
    "df_test.groupby('Region').describe()"
   ]
  },
  {
   "cell_type": "code",
   "execution_count": 68,
   "metadata": {},
   "outputs": [],
   "source": [
    "df_test_2 = df.copy()"
   ]
  },
  {
   "cell_type": "code",
   "execution_count": 69,
   "metadata": {},
   "outputs": [],
   "source": [
    "df_test_2['Region'] = df_test_2['Region'].fillna('Region_5')"
   ]
  },
  {
   "cell_type": "code",
   "execution_count": 70,
   "metadata": {},
   "outputs": [
    {
     "data": {
      "text/html": [
       "<div>\n",
       "<style scoped>\n",
       "    .dataframe tbody tr th:only-of-type {\n",
       "        vertical-align: middle;\n",
       "    }\n",
       "\n",
       "    .dataframe tbody tr th {\n",
       "        vertical-align: top;\n",
       "    }\n",
       "\n",
       "    .dataframe thead tr th {\n",
       "        text-align: left;\n",
       "    }\n",
       "\n",
       "    .dataframe thead tr:last-of-type th {\n",
       "        text-align: right;\n",
       "    }\n",
       "</style>\n",
       "<table border=\"1\" class=\"dataframe\">\n",
       "  <thead>\n",
       "    <tr>\n",
       "      <th></th>\n",
       "      <th colspan=\"8\" halign=\"left\">Price</th>\n",
       "      <th colspan=\"8\" halign=\"left\">Units Sold</th>\n",
       "    </tr>\n",
       "    <tr>\n",
       "      <th></th>\n",
       "      <th>count</th>\n",
       "      <th>mean</th>\n",
       "      <th>std</th>\n",
       "      <th>min</th>\n",
       "      <th>25%</th>\n",
       "      <th>50%</th>\n",
       "      <th>75%</th>\n",
       "      <th>max</th>\n",
       "      <th>count</th>\n",
       "      <th>mean</th>\n",
       "      <th>std</th>\n",
       "      <th>min</th>\n",
       "      <th>25%</th>\n",
       "      <th>50%</th>\n",
       "      <th>75%</th>\n",
       "      <th>max</th>\n",
       "    </tr>\n",
       "    <tr>\n",
       "      <th>Region</th>\n",
       "      <th></th>\n",
       "      <th></th>\n",
       "      <th></th>\n",
       "      <th></th>\n",
       "      <th></th>\n",
       "      <th></th>\n",
       "      <th></th>\n",
       "      <th></th>\n",
       "      <th></th>\n",
       "      <th></th>\n",
       "      <th></th>\n",
       "      <th></th>\n",
       "      <th></th>\n",
       "      <th></th>\n",
       "      <th></th>\n",
       "      <th></th>\n",
       "    </tr>\n",
       "  </thead>\n",
       "  <tbody>\n",
       "    <tr>\n",
       "      <th>Region_1</th>\n",
       "      <td>78.0</td>\n",
       "      <td>97.792821</td>\n",
       "      <td>89.277140</td>\n",
       "      <td>2.91</td>\n",
       "      <td>40.7575</td>\n",
       "      <td>72.440</td>\n",
       "      <td>121.2150</td>\n",
       "      <td>469.65</td>\n",
       "      <td>82.0</td>\n",
       "      <td>10.329268</td>\n",
       "      <td>3.527860</td>\n",
       "      <td>2.0</td>\n",
       "      <td>8.00</td>\n",
       "      <td>10.5</td>\n",
       "      <td>13.00</td>\n",
       "      <td>21.0</td>\n",
       "    </tr>\n",
       "    <tr>\n",
       "      <th>Region_10</th>\n",
       "      <td>80.0</td>\n",
       "      <td>113.310500</td>\n",
       "      <td>120.292908</td>\n",
       "      <td>0.19</td>\n",
       "      <td>26.7425</td>\n",
       "      <td>67.900</td>\n",
       "      <td>151.6175</td>\n",
       "      <td>650.50</td>\n",
       "      <td>81.0</td>\n",
       "      <td>9.814815</td>\n",
       "      <td>3.369388</td>\n",
       "      <td>4.0</td>\n",
       "      <td>8.00</td>\n",
       "      <td>10.0</td>\n",
       "      <td>12.00</td>\n",
       "      <td>19.0</td>\n",
       "    </tr>\n",
       "    <tr>\n",
       "      <th>Region_2</th>\n",
       "      <td>94.0</td>\n",
       "      <td>137.287340</td>\n",
       "      <td>283.069362</td>\n",
       "      <td>1.49</td>\n",
       "      <td>24.4725</td>\n",
       "      <td>66.960</td>\n",
       "      <td>158.7025</td>\n",
       "      <td>2636.90</td>\n",
       "      <td>92.0</td>\n",
       "      <td>10.413043</td>\n",
       "      <td>2.875253</td>\n",
       "      <td>5.0</td>\n",
       "      <td>8.75</td>\n",
       "      <td>10.0</td>\n",
       "      <td>12.00</td>\n",
       "      <td>17.0</td>\n",
       "    </tr>\n",
       "    <tr>\n",
       "      <th>Region_3</th>\n",
       "      <td>75.0</td>\n",
       "      <td>91.008400</td>\n",
       "      <td>89.612608</td>\n",
       "      <td>3.40</td>\n",
       "      <td>35.1000</td>\n",
       "      <td>58.370</td>\n",
       "      <td>121.1550</td>\n",
       "      <td>485.84</td>\n",
       "      <td>78.0</td>\n",
       "      <td>9.807692</td>\n",
       "      <td>3.137779</td>\n",
       "      <td>4.0</td>\n",
       "      <td>8.00</td>\n",
       "      <td>10.0</td>\n",
       "      <td>11.75</td>\n",
       "      <td>18.0</td>\n",
       "    </tr>\n",
       "    <tr>\n",
       "      <th>Region_4</th>\n",
       "      <td>79.0</td>\n",
       "      <td>85.824051</td>\n",
       "      <td>94.673327</td>\n",
       "      <td>2.37</td>\n",
       "      <td>21.3050</td>\n",
       "      <td>47.340</td>\n",
       "      <td>119.8500</td>\n",
       "      <td>489.40</td>\n",
       "      <td>79.0</td>\n",
       "      <td>10.227848</td>\n",
       "      <td>3.108918</td>\n",
       "      <td>2.0</td>\n",
       "      <td>8.00</td>\n",
       "      <td>10.0</td>\n",
       "      <td>12.00</td>\n",
       "      <td>16.0</td>\n",
       "    </tr>\n",
       "    <tr>\n",
       "      <th>Region_5</th>\n",
       "      <td>187.0</td>\n",
       "      <td>117.270160</td>\n",
       "      <td>208.233263</td>\n",
       "      <td>0.27</td>\n",
       "      <td>26.8850</td>\n",
       "      <td>68.150</td>\n",
       "      <td>151.5300</td>\n",
       "      <td>2544.60</td>\n",
       "      <td>191.0</td>\n",
       "      <td>9.937173</td>\n",
       "      <td>3.311262</td>\n",
       "      <td>3.0</td>\n",
       "      <td>7.00</td>\n",
       "      <td>10.0</td>\n",
       "      <td>12.00</td>\n",
       "      <td>19.0</td>\n",
       "    </tr>\n",
       "    <tr>\n",
       "      <th>Region_6</th>\n",
       "      <td>81.0</td>\n",
       "      <td>96.727037</td>\n",
       "      <td>98.491166</td>\n",
       "      <td>0.71</td>\n",
       "      <td>28.7300</td>\n",
       "      <td>55.410</td>\n",
       "      <td>125.5100</td>\n",
       "      <td>417.05</td>\n",
       "      <td>71.0</td>\n",
       "      <td>10.394366</td>\n",
       "      <td>2.983186</td>\n",
       "      <td>4.0</td>\n",
       "      <td>9.00</td>\n",
       "      <td>10.0</td>\n",
       "      <td>12.00</td>\n",
       "      <td>18.0</td>\n",
       "    </tr>\n",
       "    <tr>\n",
       "      <th>Region_7</th>\n",
       "      <td>84.0</td>\n",
       "      <td>107.210119</td>\n",
       "      <td>211.396135</td>\n",
       "      <td>0.19</td>\n",
       "      <td>20.1225</td>\n",
       "      <td>58.865</td>\n",
       "      <td>123.8175</td>\n",
       "      <td>1793.90</td>\n",
       "      <td>85.0</td>\n",
       "      <td>10.894118</td>\n",
       "      <td>3.712987</td>\n",
       "      <td>3.0</td>\n",
       "      <td>8.00</td>\n",
       "      <td>11.0</td>\n",
       "      <td>13.00</td>\n",
       "      <td>22.0</td>\n",
       "    </tr>\n",
       "    <tr>\n",
       "      <th>Region_8</th>\n",
       "      <td>88.0</td>\n",
       "      <td>120.850909</td>\n",
       "      <td>158.015038</td>\n",
       "      <td>0.27</td>\n",
       "      <td>38.8225</td>\n",
       "      <td>81.585</td>\n",
       "      <td>145.4825</td>\n",
       "      <td>1296.00</td>\n",
       "      <td>84.0</td>\n",
       "      <td>10.642857</td>\n",
       "      <td>3.364030</td>\n",
       "      <td>3.0</td>\n",
       "      <td>8.75</td>\n",
       "      <td>11.0</td>\n",
       "      <td>12.25</td>\n",
       "      <td>20.0</td>\n",
       "    </tr>\n",
       "    <tr>\n",
       "      <th>Region_9</th>\n",
       "      <td>88.0</td>\n",
       "      <td>95.861477</td>\n",
       "      <td>98.457933</td>\n",
       "      <td>0.25</td>\n",
       "      <td>23.6950</td>\n",
       "      <td>66.375</td>\n",
       "      <td>134.7675</td>\n",
       "      <td>531.91</td>\n",
       "      <td>89.0</td>\n",
       "      <td>9.887640</td>\n",
       "      <td>2.994078</td>\n",
       "      <td>5.0</td>\n",
       "      <td>7.00</td>\n",
       "      <td>10.0</td>\n",
       "      <td>12.00</td>\n",
       "      <td>18.0</td>\n",
       "    </tr>\n",
       "  </tbody>\n",
       "</table>\n",
       "</div>"
      ],
      "text/plain": [
       "           Price                                                           \\\n",
       "           count        mean         std   min      25%     50%       75%   \n",
       "Region                                                                      \n",
       "Region_1    78.0   97.792821   89.277140  2.91  40.7575  72.440  121.2150   \n",
       "Region_10   80.0  113.310500  120.292908  0.19  26.7425  67.900  151.6175   \n",
       "Region_2    94.0  137.287340  283.069362  1.49  24.4725  66.960  158.7025   \n",
       "Region_3    75.0   91.008400   89.612608  3.40  35.1000  58.370  121.1550   \n",
       "Region_4    79.0   85.824051   94.673327  2.37  21.3050  47.340  119.8500   \n",
       "Region_5   187.0  117.270160  208.233263  0.27  26.8850  68.150  151.5300   \n",
       "Region_6    81.0   96.727037   98.491166  0.71  28.7300  55.410  125.5100   \n",
       "Region_7    84.0  107.210119  211.396135  0.19  20.1225  58.865  123.8175   \n",
       "Region_8    88.0  120.850909  158.015038  0.27  38.8225  81.585  145.4825   \n",
       "Region_9    88.0   95.861477   98.457933  0.25  23.6950  66.375  134.7675   \n",
       "\n",
       "                   Units Sold                                               \\\n",
       "               max      count       mean       std  min   25%   50%    75%   \n",
       "Region                                                                       \n",
       "Region_1    469.65       82.0  10.329268  3.527860  2.0  8.00  10.5  13.00   \n",
       "Region_10   650.50       81.0   9.814815  3.369388  4.0  8.00  10.0  12.00   \n",
       "Region_2   2636.90       92.0  10.413043  2.875253  5.0  8.75  10.0  12.00   \n",
       "Region_3    485.84       78.0   9.807692  3.137779  4.0  8.00  10.0  11.75   \n",
       "Region_4    489.40       79.0  10.227848  3.108918  2.0  8.00  10.0  12.00   \n",
       "Region_5   2544.60      191.0   9.937173  3.311262  3.0  7.00  10.0  12.00   \n",
       "Region_6    417.05       71.0  10.394366  2.983186  4.0  9.00  10.0  12.00   \n",
       "Region_7   1793.90       85.0  10.894118  3.712987  3.0  8.00  11.0  13.00   \n",
       "Region_8   1296.00       84.0  10.642857  3.364030  3.0  8.75  11.0  12.25   \n",
       "Region_9    531.91       89.0   9.887640  2.994078  5.0  7.00  10.0  12.00   \n",
       "\n",
       "                 \n",
       "            max  \n",
       "Region           \n",
       "Region_1   21.0  \n",
       "Region_10  19.0  \n",
       "Region_2   17.0  \n",
       "Region_3   18.0  \n",
       "Region_4   16.0  \n",
       "Region_5   19.0  \n",
       "Region_6   18.0  \n",
       "Region_7   22.0  \n",
       "Region_8   20.0  \n",
       "Region_9   18.0  "
      ]
     },
     "execution_count": 70,
     "metadata": {},
     "output_type": "execute_result"
    }
   ],
   "source": [
    "df_test_2.groupby('Region').describe()"
   ]
  },
  {
   "cell_type": "code",
   "execution_count": 71,
   "metadata": {},
   "outputs": [],
   "source": [
    "df['Region'] = df['Region'].fillna('Other')"
   ]
  },
  {
   "cell_type": "code",
   "execution_count": 72,
   "metadata": {},
   "outputs": [],
   "source": [
    "df_test['Product'] = df_test['Product'].fillna('Other')\n",
    "df_test_2['Product'] = df_test_2['Product'].fillna('Product_4')"
   ]
  },
  {
   "cell_type": "code",
   "execution_count": 73,
   "metadata": {},
   "outputs": [
    {
     "data": {
      "text/html": [
       "<div>\n",
       "<style scoped>\n",
       "    .dataframe tbody tr th:only-of-type {\n",
       "        vertical-align: middle;\n",
       "    }\n",
       "\n",
       "    .dataframe tbody tr th {\n",
       "        vertical-align: top;\n",
       "    }\n",
       "\n",
       "    .dataframe thead tr th {\n",
       "        text-align: left;\n",
       "    }\n",
       "\n",
       "    .dataframe thead tr:last-of-type th {\n",
       "        text-align: right;\n",
       "    }\n",
       "</style>\n",
       "<table border=\"1\" class=\"dataframe\">\n",
       "  <thead>\n",
       "    <tr>\n",
       "      <th></th>\n",
       "      <th colspan=\"8\" halign=\"left\">Price</th>\n",
       "      <th colspan=\"8\" halign=\"left\">Units Sold</th>\n",
       "    </tr>\n",
       "    <tr>\n",
       "      <th></th>\n",
       "      <th>count</th>\n",
       "      <th>mean</th>\n",
       "      <th>std</th>\n",
       "      <th>min</th>\n",
       "      <th>25%</th>\n",
       "      <th>50%</th>\n",
       "      <th>75%</th>\n",
       "      <th>max</th>\n",
       "      <th>count</th>\n",
       "      <th>mean</th>\n",
       "      <th>std</th>\n",
       "      <th>min</th>\n",
       "      <th>25%</th>\n",
       "      <th>50%</th>\n",
       "      <th>75%</th>\n",
       "      <th>max</th>\n",
       "    </tr>\n",
       "    <tr>\n",
       "      <th>Product</th>\n",
       "      <th></th>\n",
       "      <th></th>\n",
       "      <th></th>\n",
       "      <th></th>\n",
       "      <th></th>\n",
       "      <th></th>\n",
       "      <th></th>\n",
       "      <th></th>\n",
       "      <th></th>\n",
       "      <th></th>\n",
       "      <th></th>\n",
       "      <th></th>\n",
       "      <th></th>\n",
       "      <th></th>\n",
       "      <th></th>\n",
       "      <th></th>\n",
       "    </tr>\n",
       "  </thead>\n",
       "  <tbody>\n",
       "    <tr>\n",
       "      <th>Other</th>\n",
       "      <td>81.0</td>\n",
       "      <td>132.646790</td>\n",
       "      <td>293.502959</td>\n",
       "      <td>0.27</td>\n",
       "      <td>17.9000</td>\n",
       "      <td>64.600</td>\n",
       "      <td>147.4700</td>\n",
       "      <td>2544.60</td>\n",
       "      <td>82.0</td>\n",
       "      <td>9.975610</td>\n",
       "      <td>2.863028</td>\n",
       "      <td>4.0</td>\n",
       "      <td>8.00</td>\n",
       "      <td>10.0</td>\n",
       "      <td>11.75</td>\n",
       "      <td>18.0</td>\n",
       "    </tr>\n",
       "    <tr>\n",
       "      <th>Product_1</th>\n",
       "      <td>19.0</td>\n",
       "      <td>99.960526</td>\n",
       "      <td>108.592682</td>\n",
       "      <td>3.40</td>\n",
       "      <td>46.8550</td>\n",
       "      <td>75.880</td>\n",
       "      <td>107.4200</td>\n",
       "      <td>441.99</td>\n",
       "      <td>18.0</td>\n",
       "      <td>10.222222</td>\n",
       "      <td>3.245912</td>\n",
       "      <td>4.0</td>\n",
       "      <td>9.00</td>\n",
       "      <td>11.0</td>\n",
       "      <td>12.75</td>\n",
       "      <td>17.0</td>\n",
       "    </tr>\n",
       "    <tr>\n",
       "      <th>Product_10</th>\n",
       "      <td>17.0</td>\n",
       "      <td>97.610588</td>\n",
       "      <td>77.320574</td>\n",
       "      <td>3.63</td>\n",
       "      <td>36.2400</td>\n",
       "      <td>85.330</td>\n",
       "      <td>121.6500</td>\n",
       "      <td>258.01</td>\n",
       "      <td>19.0</td>\n",
       "      <td>11.368421</td>\n",
       "      <td>3.530982</td>\n",
       "      <td>4.0</td>\n",
       "      <td>8.50</td>\n",
       "      <td>12.0</td>\n",
       "      <td>14.00</td>\n",
       "      <td>16.0</td>\n",
       "    </tr>\n",
       "    <tr>\n",
       "      <th>Product_11</th>\n",
       "      <td>12.0</td>\n",
       "      <td>120.550833</td>\n",
       "      <td>98.670114</td>\n",
       "      <td>21.70</td>\n",
       "      <td>61.6225</td>\n",
       "      <td>78.720</td>\n",
       "      <td>142.3325</td>\n",
       "      <td>333.79</td>\n",
       "      <td>12.0</td>\n",
       "      <td>11.583333</td>\n",
       "      <td>4.055486</td>\n",
       "      <td>5.0</td>\n",
       "      <td>9.00</td>\n",
       "      <td>11.5</td>\n",
       "      <td>14.25</td>\n",
       "      <td>19.0</td>\n",
       "    </tr>\n",
       "    <tr>\n",
       "      <th>Product_12</th>\n",
       "      <td>14.0</td>\n",
       "      <td>77.138571</td>\n",
       "      <td>65.900566</td>\n",
       "      <td>2.37</td>\n",
       "      <td>30.6700</td>\n",
       "      <td>62.570</td>\n",
       "      <td>108.5425</td>\n",
       "      <td>207.17</td>\n",
       "      <td>13.0</td>\n",
       "      <td>10.692308</td>\n",
       "      <td>4.090326</td>\n",
       "      <td>5.0</td>\n",
       "      <td>9.00</td>\n",
       "      <td>10.0</td>\n",
       "      <td>11.00</td>\n",
       "      <td>21.0</td>\n",
       "    </tr>\n",
       "    <tr>\n",
       "      <th>Product_13</th>\n",
       "      <td>17.0</td>\n",
       "      <td>88.629412</td>\n",
       "      <td>85.923571</td>\n",
       "      <td>12.86</td>\n",
       "      <td>18.2100</td>\n",
       "      <td>54.910</td>\n",
       "      <td>145.8400</td>\n",
       "      <td>274.59</td>\n",
       "      <td>15.0</td>\n",
       "      <td>10.733333</td>\n",
       "      <td>2.576450</td>\n",
       "      <td>7.0</td>\n",
       "      <td>9.00</td>\n",
       "      <td>10.0</td>\n",
       "      <td>12.00</td>\n",
       "      <td>16.0</td>\n",
       "    </tr>\n",
       "    <tr>\n",
       "      <th>Product_14</th>\n",
       "      <td>10.0</td>\n",
       "      <td>95.544000</td>\n",
       "      <td>140.334625</td>\n",
       "      <td>4.15</td>\n",
       "      <td>17.6350</td>\n",
       "      <td>40.905</td>\n",
       "      <td>102.9875</td>\n",
       "      <td>469.65</td>\n",
       "      <td>13.0</td>\n",
       "      <td>11.230769</td>\n",
       "      <td>3.166329</td>\n",
       "      <td>7.0</td>\n",
       "      <td>10.00</td>\n",
       "      <td>11.0</td>\n",
       "      <td>12.00</td>\n",
       "      <td>19.0</td>\n",
       "    </tr>\n",
       "    <tr>\n",
       "      <th>Product_15</th>\n",
       "      <td>19.0</td>\n",
       "      <td>89.121053</td>\n",
       "      <td>102.348294</td>\n",
       "      <td>5.71</td>\n",
       "      <td>24.2300</td>\n",
       "      <td>39.720</td>\n",
       "      <td>140.4600</td>\n",
       "      <td>409.83</td>\n",
       "      <td>18.0</td>\n",
       "      <td>10.833333</td>\n",
       "      <td>3.682231</td>\n",
       "      <td>3.0</td>\n",
       "      <td>9.00</td>\n",
       "      <td>11.0</td>\n",
       "      <td>13.00</td>\n",
       "      <td>18.0</td>\n",
       "    </tr>\n",
       "    <tr>\n",
       "      <th>Product_16</th>\n",
       "      <td>13.0</td>\n",
       "      <td>77.116154</td>\n",
       "      <td>104.202676</td>\n",
       "      <td>4.52</td>\n",
       "      <td>11.2800</td>\n",
       "      <td>46.950</td>\n",
       "      <td>91.9800</td>\n",
       "      <td>395.76</td>\n",
       "      <td>14.0</td>\n",
       "      <td>10.785714</td>\n",
       "      <td>3.641187</td>\n",
       "      <td>3.0</td>\n",
       "      <td>8.50</td>\n",
       "      <td>11.5</td>\n",
       "      <td>13.00</td>\n",
       "      <td>17.0</td>\n",
       "    </tr>\n",
       "    <tr>\n",
       "      <th>Product_17</th>\n",
       "      <td>21.0</td>\n",
       "      <td>127.157143</td>\n",
       "      <td>88.934104</td>\n",
       "      <td>5.39</td>\n",
       "      <td>54.6500</td>\n",
       "      <td>120.080</td>\n",
       "      <td>180.6100</td>\n",
       "      <td>284.74</td>\n",
       "      <td>19.0</td>\n",
       "      <td>9.789474</td>\n",
       "      <td>3.010702</td>\n",
       "      <td>4.0</td>\n",
       "      <td>8.00</td>\n",
       "      <td>10.0</td>\n",
       "      <td>11.00</td>\n",
       "      <td>16.0</td>\n",
       "    </tr>\n",
       "    <tr>\n",
       "      <th>Product_18</th>\n",
       "      <td>11.0</td>\n",
       "      <td>107.107273</td>\n",
       "      <td>117.847272</td>\n",
       "      <td>1.90</td>\n",
       "      <td>18.7450</td>\n",
       "      <td>97.780</td>\n",
       "      <td>139.1000</td>\n",
       "      <td>417.05</td>\n",
       "      <td>12.0</td>\n",
       "      <td>12.916667</td>\n",
       "      <td>3.579191</td>\n",
       "      <td>7.0</td>\n",
       "      <td>11.00</td>\n",
       "      <td>12.5</td>\n",
       "      <td>14.25</td>\n",
       "      <td>21.0</td>\n",
       "    </tr>\n",
       "    <tr>\n",
       "      <th>Product_19</th>\n",
       "      <td>20.0</td>\n",
       "      <td>115.748500</td>\n",
       "      <td>82.634176</td>\n",
       "      <td>16.82</td>\n",
       "      <td>46.6175</td>\n",
       "      <td>96.925</td>\n",
       "      <td>158.4750</td>\n",
       "      <td>308.76</td>\n",
       "      <td>23.0</td>\n",
       "      <td>10.434783</td>\n",
       "      <td>3.159777</td>\n",
       "      <td>6.0</td>\n",
       "      <td>8.00</td>\n",
       "      <td>11.0</td>\n",
       "      <td>12.00</td>\n",
       "      <td>16.0</td>\n",
       "    </tr>\n",
       "    <tr>\n",
       "      <th>Product_2</th>\n",
       "      <td>17.0</td>\n",
       "      <td>79.284706</td>\n",
       "      <td>98.867995</td>\n",
       "      <td>8.80</td>\n",
       "      <td>24.8000</td>\n",
       "      <td>41.140</td>\n",
       "      <td>96.0300</td>\n",
       "      <td>386.40</td>\n",
       "      <td>19.0</td>\n",
       "      <td>10.578947</td>\n",
       "      <td>2.364454</td>\n",
       "      <td>7.0</td>\n",
       "      <td>9.50</td>\n",
       "      <td>10.0</td>\n",
       "      <td>11.50</td>\n",
       "      <td>17.0</td>\n",
       "    </tr>\n",
       "    <tr>\n",
       "      <th>Product_20</th>\n",
       "      <td>15.0</td>\n",
       "      <td>110.592000</td>\n",
       "      <td>124.964054</td>\n",
       "      <td>9.09</td>\n",
       "      <td>21.6200</td>\n",
       "      <td>39.860</td>\n",
       "      <td>171.7950</td>\n",
       "      <td>355.43</td>\n",
       "      <td>13.0</td>\n",
       "      <td>8.769231</td>\n",
       "      <td>1.877669</td>\n",
       "      <td>6.0</td>\n",
       "      <td>7.00</td>\n",
       "      <td>9.0</td>\n",
       "      <td>10.00</td>\n",
       "      <td>12.0</td>\n",
       "    </tr>\n",
       "    <tr>\n",
       "      <th>Product_21</th>\n",
       "      <td>14.0</td>\n",
       "      <td>110.399286</td>\n",
       "      <td>133.127824</td>\n",
       "      <td>0.19</td>\n",
       "      <td>16.6725</td>\n",
       "      <td>67.730</td>\n",
       "      <td>138.1200</td>\n",
       "      <td>489.40</td>\n",
       "      <td>14.0</td>\n",
       "      <td>10.642857</td>\n",
       "      <td>4.813557</td>\n",
       "      <td>4.0</td>\n",
       "      <td>7.00</td>\n",
       "      <td>10.0</td>\n",
       "      <td>13.75</td>\n",
       "      <td>20.0</td>\n",
       "    </tr>\n",
       "    <tr>\n",
       "      <th>Product_22</th>\n",
       "      <td>18.0</td>\n",
       "      <td>130.213889</td>\n",
       "      <td>125.527139</td>\n",
       "      <td>7.59</td>\n",
       "      <td>48.8050</td>\n",
       "      <td>74.380</td>\n",
       "      <td>179.3050</td>\n",
       "      <td>361.41</td>\n",
       "      <td>16.0</td>\n",
       "      <td>10.187500</td>\n",
       "      <td>2.948870</td>\n",
       "      <td>5.0</td>\n",
       "      <td>8.00</td>\n",
       "      <td>11.0</td>\n",
       "      <td>12.25</td>\n",
       "      <td>14.0</td>\n",
       "    </tr>\n",
       "    <tr>\n",
       "      <th>Product_23</th>\n",
       "      <td>20.0</td>\n",
       "      <td>130.509000</td>\n",
       "      <td>104.763169</td>\n",
       "      <td>11.00</td>\n",
       "      <td>35.3175</td>\n",
       "      <td>95.435</td>\n",
       "      <td>202.5500</td>\n",
       "      <td>310.98</td>\n",
       "      <td>22.0</td>\n",
       "      <td>9.772727</td>\n",
       "      <td>3.038355</td>\n",
       "      <td>5.0</td>\n",
       "      <td>7.00</td>\n",
       "      <td>10.0</td>\n",
       "      <td>12.00</td>\n",
       "      <td>17.0</td>\n",
       "    </tr>\n",
       "    <tr>\n",
       "      <th>Product_24</th>\n",
       "      <td>25.0</td>\n",
       "      <td>57.740000</td>\n",
       "      <td>49.101278</td>\n",
       "      <td>0.25</td>\n",
       "      <td>26.3100</td>\n",
       "      <td>46.870</td>\n",
       "      <td>63.8700</td>\n",
       "      <td>184.03</td>\n",
       "      <td>28.0</td>\n",
       "      <td>10.571429</td>\n",
       "      <td>3.594528</td>\n",
       "      <td>5.0</td>\n",
       "      <td>7.00</td>\n",
       "      <td>10.5</td>\n",
       "      <td>14.00</td>\n",
       "      <td>17.0</td>\n",
       "    </tr>\n",
       "    <tr>\n",
       "      <th>Product_25</th>\n",
       "      <td>13.0</td>\n",
       "      <td>79.464615</td>\n",
       "      <td>83.116307</td>\n",
       "      <td>1.96</td>\n",
       "      <td>10.2000</td>\n",
       "      <td>56.250</td>\n",
       "      <td>100.5700</td>\n",
       "      <td>255.73</td>\n",
       "      <td>13.0</td>\n",
       "      <td>9.538462</td>\n",
       "      <td>3.688165</td>\n",
       "      <td>5.0</td>\n",
       "      <td>7.00</td>\n",
       "      <td>9.0</td>\n",
       "      <td>13.00</td>\n",
       "      <td>16.0</td>\n",
       "    </tr>\n",
       "    <tr>\n",
       "      <th>Product_26</th>\n",
       "      <td>16.0</td>\n",
       "      <td>90.234375</td>\n",
       "      <td>98.076628</td>\n",
       "      <td>8.76</td>\n",
       "      <td>31.7475</td>\n",
       "      <td>49.835</td>\n",
       "      <td>137.0575</td>\n",
       "      <td>389.50</td>\n",
       "      <td>18.0</td>\n",
       "      <td>9.833333</td>\n",
       "      <td>3.485263</td>\n",
       "      <td>5.0</td>\n",
       "      <td>6.25</td>\n",
       "      <td>10.0</td>\n",
       "      <td>13.00</td>\n",
       "      <td>16.0</td>\n",
       "    </tr>\n",
       "    <tr>\n",
       "      <th>Product_27</th>\n",
       "      <td>21.0</td>\n",
       "      <td>193.255238</td>\n",
       "      <td>391.650662</td>\n",
       "      <td>1.96</td>\n",
       "      <td>24.0900</td>\n",
       "      <td>59.150</td>\n",
       "      <td>160.3400</td>\n",
       "      <td>1793.90</td>\n",
       "      <td>19.0</td>\n",
       "      <td>8.684211</td>\n",
       "      <td>3.448875</td>\n",
       "      <td>3.0</td>\n",
       "      <td>7.50</td>\n",
       "      <td>8.0</td>\n",
       "      <td>10.00</td>\n",
       "      <td>17.0</td>\n",
       "    </tr>\n",
       "    <tr>\n",
       "      <th>Product_28</th>\n",
       "      <td>20.0</td>\n",
       "      <td>78.497500</td>\n",
       "      <td>80.023828</td>\n",
       "      <td>4.20</td>\n",
       "      <td>22.1250</td>\n",
       "      <td>46.810</td>\n",
       "      <td>110.6975</td>\n",
       "      <td>268.56</td>\n",
       "      <td>19.0</td>\n",
       "      <td>10.894737</td>\n",
       "      <td>3.142800</td>\n",
       "      <td>5.0</td>\n",
       "      <td>10.00</td>\n",
       "      <td>11.0</td>\n",
       "      <td>13.00</td>\n",
       "      <td>16.0</td>\n",
       "    </tr>\n",
       "    <tr>\n",
       "      <th>Product_29</th>\n",
       "      <td>14.0</td>\n",
       "      <td>82.186429</td>\n",
       "      <td>58.486838</td>\n",
       "      <td>10.39</td>\n",
       "      <td>33.4250</td>\n",
       "      <td>65.570</td>\n",
       "      <td>117.2300</td>\n",
       "      <td>198.02</td>\n",
       "      <td>13.0</td>\n",
       "      <td>10.307692</td>\n",
       "      <td>3.520999</td>\n",
       "      <td>3.0</td>\n",
       "      <td>8.00</td>\n",
       "      <td>11.0</td>\n",
       "      <td>12.00</td>\n",
       "      <td>16.0</td>\n",
       "    </tr>\n",
       "    <tr>\n",
       "      <th>Product_3</th>\n",
       "      <td>21.0</td>\n",
       "      <td>93.558095</td>\n",
       "      <td>98.864401</td>\n",
       "      <td>7.57</td>\n",
       "      <td>20.8100</td>\n",
       "      <td>42.790</td>\n",
       "      <td>113.4700</td>\n",
       "      <td>302.68</td>\n",
       "      <td>20.0</td>\n",
       "      <td>9.800000</td>\n",
       "      <td>2.667544</td>\n",
       "      <td>5.0</td>\n",
       "      <td>7.00</td>\n",
       "      <td>10.0</td>\n",
       "      <td>11.50</td>\n",
       "      <td>14.0</td>\n",
       "    </tr>\n",
       "    <tr>\n",
       "      <th>Product_30</th>\n",
       "      <td>15.0</td>\n",
       "      <td>85.231333</td>\n",
       "      <td>99.109780</td>\n",
       "      <td>3.61</td>\n",
       "      <td>27.0900</td>\n",
       "      <td>52.600</td>\n",
       "      <td>88.0400</td>\n",
       "      <td>321.41</td>\n",
       "      <td>14.0</td>\n",
       "      <td>9.071429</td>\n",
       "      <td>2.813820</td>\n",
       "      <td>4.0</td>\n",
       "      <td>8.00</td>\n",
       "      <td>9.0</td>\n",
       "      <td>10.00</td>\n",
       "      <td>15.0</td>\n",
       "    </tr>\n",
       "    <tr>\n",
       "      <th>Product_31</th>\n",
       "      <td>20.0</td>\n",
       "      <td>128.834500</td>\n",
       "      <td>111.157886</td>\n",
       "      <td>1.60</td>\n",
       "      <td>25.1600</td>\n",
       "      <td>81.490</td>\n",
       "      <td>247.0900</td>\n",
       "      <td>295.08</td>\n",
       "      <td>16.0</td>\n",
       "      <td>8.937500</td>\n",
       "      <td>2.434988</td>\n",
       "      <td>4.0</td>\n",
       "      <td>7.00</td>\n",
       "      <td>8.5</td>\n",
       "      <td>11.00</td>\n",
       "      <td>12.0</td>\n",
       "    </tr>\n",
       "    <tr>\n",
       "      <th>Product_32</th>\n",
       "      <td>10.0</td>\n",
       "      <td>74.437000</td>\n",
       "      <td>69.775829</td>\n",
       "      <td>1.66</td>\n",
       "      <td>26.4850</td>\n",
       "      <td>50.895</td>\n",
       "      <td>120.5650</td>\n",
       "      <td>191.17</td>\n",
       "      <td>13.0</td>\n",
       "      <td>11.692308</td>\n",
       "      <td>3.198557</td>\n",
       "      <td>6.0</td>\n",
       "      <td>10.00</td>\n",
       "      <td>12.0</td>\n",
       "      <td>14.00</td>\n",
       "      <td>16.0</td>\n",
       "    </tr>\n",
       "    <tr>\n",
       "      <th>Product_33</th>\n",
       "      <td>16.0</td>\n",
       "      <td>114.543125</td>\n",
       "      <td>108.220983</td>\n",
       "      <td>7.97</td>\n",
       "      <td>45.6575</td>\n",
       "      <td>69.925</td>\n",
       "      <td>129.0250</td>\n",
       "      <td>369.85</td>\n",
       "      <td>14.0</td>\n",
       "      <td>9.285714</td>\n",
       "      <td>2.840059</td>\n",
       "      <td>5.0</td>\n",
       "      <td>8.00</td>\n",
       "      <td>9.0</td>\n",
       "      <td>11.75</td>\n",
       "      <td>13.0</td>\n",
       "    </tr>\n",
       "    <tr>\n",
       "      <th>Product_34</th>\n",
       "      <td>17.0</td>\n",
       "      <td>253.598235</td>\n",
       "      <td>618.111915</td>\n",
       "      <td>20.51</td>\n",
       "      <td>53.7500</td>\n",
       "      <td>124.300</td>\n",
       "      <td>165.0900</td>\n",
       "      <td>2636.90</td>\n",
       "      <td>14.0</td>\n",
       "      <td>10.571429</td>\n",
       "      <td>3.857346</td>\n",
       "      <td>6.0</td>\n",
       "      <td>7.25</td>\n",
       "      <td>9.5</td>\n",
       "      <td>14.00</td>\n",
       "      <td>17.0</td>\n",
       "    </tr>\n",
       "    <tr>\n",
       "      <th>Product_35</th>\n",
       "      <td>11.0</td>\n",
       "      <td>47.802727</td>\n",
       "      <td>20.363126</td>\n",
       "      <td>17.20</td>\n",
       "      <td>34.9750</td>\n",
       "      <td>47.160</td>\n",
       "      <td>61.4100</td>\n",
       "      <td>86.42</td>\n",
       "      <td>13.0</td>\n",
       "      <td>10.461538</td>\n",
       "      <td>2.787334</td>\n",
       "      <td>7.0</td>\n",
       "      <td>8.00</td>\n",
       "      <td>10.0</td>\n",
       "      <td>12.00</td>\n",
       "      <td>15.0</td>\n",
       "    </tr>\n",
       "    <tr>\n",
       "      <th>Product_36</th>\n",
       "      <td>18.0</td>\n",
       "      <td>103.420556</td>\n",
       "      <td>95.675373</td>\n",
       "      <td>0.27</td>\n",
       "      <td>26.7350</td>\n",
       "      <td>93.855</td>\n",
       "      <td>141.7100</td>\n",
       "      <td>315.60</td>\n",
       "      <td>19.0</td>\n",
       "      <td>9.105263</td>\n",
       "      <td>2.998050</td>\n",
       "      <td>3.0</td>\n",
       "      <td>7.00</td>\n",
       "      <td>10.0</td>\n",
       "      <td>11.00</td>\n",
       "      <td>15.0</td>\n",
       "    </tr>\n",
       "    <tr>\n",
       "      <th>Product_37</th>\n",
       "      <td>17.0</td>\n",
       "      <td>105.664706</td>\n",
       "      <td>125.155765</td>\n",
       "      <td>4.31</td>\n",
       "      <td>23.3500</td>\n",
       "      <td>39.440</td>\n",
       "      <td>145.1000</td>\n",
       "      <td>366.64</td>\n",
       "      <td>19.0</td>\n",
       "      <td>10.052632</td>\n",
       "      <td>3.535120</td>\n",
       "      <td>5.0</td>\n",
       "      <td>8.00</td>\n",
       "      <td>10.0</td>\n",
       "      <td>12.00</td>\n",
       "      <td>18.0</td>\n",
       "    </tr>\n",
       "    <tr>\n",
       "      <th>Product_38</th>\n",
       "      <td>19.0</td>\n",
       "      <td>100.138947</td>\n",
       "      <td>65.591971</td>\n",
       "      <td>7.46</td>\n",
       "      <td>44.8300</td>\n",
       "      <td>86.840</td>\n",
       "      <td>135.0000</td>\n",
       "      <td>230.62</td>\n",
       "      <td>17.0</td>\n",
       "      <td>10.941176</td>\n",
       "      <td>3.287678</td>\n",
       "      <td>5.0</td>\n",
       "      <td>9.00</td>\n",
       "      <td>10.0</td>\n",
       "      <td>14.00</td>\n",
       "      <td>16.0</td>\n",
       "    </tr>\n",
       "    <tr>\n",
       "      <th>Product_39</th>\n",
       "      <td>12.0</td>\n",
       "      <td>104.623333</td>\n",
       "      <td>102.858955</td>\n",
       "      <td>1.46</td>\n",
       "      <td>11.5225</td>\n",
       "      <td>70.400</td>\n",
       "      <td>224.4300</td>\n",
       "      <td>248.75</td>\n",
       "      <td>13.0</td>\n",
       "      <td>9.000000</td>\n",
       "      <td>2.000000</td>\n",
       "      <td>6.0</td>\n",
       "      <td>8.00</td>\n",
       "      <td>8.0</td>\n",
       "      <td>10.00</td>\n",
       "      <td>13.0</td>\n",
       "    </tr>\n",
       "    <tr>\n",
       "      <th>Product_4</th>\n",
       "      <td>29.0</td>\n",
       "      <td>99.022414</td>\n",
       "      <td>85.759042</td>\n",
       "      <td>6.02</td>\n",
       "      <td>24.5200</td>\n",
       "      <td>74.250</td>\n",
       "      <td>147.7800</td>\n",
       "      <td>340.59</td>\n",
       "      <td>25.0</td>\n",
       "      <td>9.480000</td>\n",
       "      <td>4.052982</td>\n",
       "      <td>4.0</td>\n",
       "      <td>7.00</td>\n",
       "      <td>9.0</td>\n",
       "      <td>10.00</td>\n",
       "      <td>22.0</td>\n",
       "    </tr>\n",
       "    <tr>\n",
       "      <th>Product_40</th>\n",
       "      <td>26.0</td>\n",
       "      <td>111.934615</td>\n",
       "      <td>140.208123</td>\n",
       "      <td>2.91</td>\n",
       "      <td>27.3675</td>\n",
       "      <td>48.795</td>\n",
       "      <td>120.8150</td>\n",
       "      <td>570.60</td>\n",
       "      <td>24.0</td>\n",
       "      <td>11.166667</td>\n",
       "      <td>2.869126</td>\n",
       "      <td>7.0</td>\n",
       "      <td>8.75</td>\n",
       "      <td>11.0</td>\n",
       "      <td>14.00</td>\n",
       "      <td>16.0</td>\n",
       "    </tr>\n",
       "    <tr>\n",
       "      <th>Product_41</th>\n",
       "      <td>11.0</td>\n",
       "      <td>70.522727</td>\n",
       "      <td>59.472020</td>\n",
       "      <td>13.16</td>\n",
       "      <td>20.7550</td>\n",
       "      <td>60.560</td>\n",
       "      <td>101.2550</td>\n",
       "      <td>204.58</td>\n",
       "      <td>13.0</td>\n",
       "      <td>11.230769</td>\n",
       "      <td>3.269909</td>\n",
       "      <td>5.0</td>\n",
       "      <td>11.00</td>\n",
       "      <td>11.0</td>\n",
       "      <td>13.00</td>\n",
       "      <td>18.0</td>\n",
       "    </tr>\n",
       "    <tr>\n",
       "      <th>Product_42</th>\n",
       "      <td>19.0</td>\n",
       "      <td>90.431579</td>\n",
       "      <td>74.030503</td>\n",
       "      <td>17.44</td>\n",
       "      <td>28.7150</td>\n",
       "      <td>75.390</td>\n",
       "      <td>135.2600</td>\n",
       "      <td>245.30</td>\n",
       "      <td>20.0</td>\n",
       "      <td>11.000000</td>\n",
       "      <td>3.433580</td>\n",
       "      <td>5.0</td>\n",
       "      <td>9.00</td>\n",
       "      <td>10.5</td>\n",
       "      <td>13.25</td>\n",
       "      <td>19.0</td>\n",
       "    </tr>\n",
       "    <tr>\n",
       "      <th>Product_43</th>\n",
       "      <td>25.0</td>\n",
       "      <td>73.047600</td>\n",
       "      <td>63.950752</td>\n",
       "      <td>0.27</td>\n",
       "      <td>27.3800</td>\n",
       "      <td>61.050</td>\n",
       "      <td>91.8200</td>\n",
       "      <td>269.17</td>\n",
       "      <td>25.0</td>\n",
       "      <td>9.760000</td>\n",
       "      <td>3.165965</td>\n",
       "      <td>4.0</td>\n",
       "      <td>8.00</td>\n",
       "      <td>9.0</td>\n",
       "      <td>13.00</td>\n",
       "      <td>15.0</td>\n",
       "    </tr>\n",
       "    <tr>\n",
       "      <th>Product_44</th>\n",
       "      <td>15.0</td>\n",
       "      <td>120.669333</td>\n",
       "      <td>137.578457</td>\n",
       "      <td>0.19</td>\n",
       "      <td>28.2650</td>\n",
       "      <td>83.330</td>\n",
       "      <td>116.2700</td>\n",
       "      <td>521.88</td>\n",
       "      <td>12.0</td>\n",
       "      <td>10.416667</td>\n",
       "      <td>3.476109</td>\n",
       "      <td>5.0</td>\n",
       "      <td>8.00</td>\n",
       "      <td>10.0</td>\n",
       "      <td>12.50</td>\n",
       "      <td>16.0</td>\n",
       "    </tr>\n",
       "    <tr>\n",
       "      <th>Product_45</th>\n",
       "      <td>14.0</td>\n",
       "      <td>104.425714</td>\n",
       "      <td>88.948415</td>\n",
       "      <td>6.20</td>\n",
       "      <td>34.5400</td>\n",
       "      <td>86.365</td>\n",
       "      <td>152.4725</td>\n",
       "      <td>289.70</td>\n",
       "      <td>19.0</td>\n",
       "      <td>10.157895</td>\n",
       "      <td>3.149306</td>\n",
       "      <td>5.0</td>\n",
       "      <td>8.00</td>\n",
       "      <td>11.0</td>\n",
       "      <td>12.50</td>\n",
       "      <td>15.0</td>\n",
       "    </tr>\n",
       "    <tr>\n",
       "      <th>Product_46</th>\n",
       "      <td>15.0</td>\n",
       "      <td>120.521333</td>\n",
       "      <td>125.516603</td>\n",
       "      <td>0.71</td>\n",
       "      <td>38.9150</td>\n",
       "      <td>87.660</td>\n",
       "      <td>133.6500</td>\n",
       "      <td>485.84</td>\n",
       "      <td>14.0</td>\n",
       "      <td>9.642857</td>\n",
       "      <td>3.650230</td>\n",
       "      <td>4.0</td>\n",
       "      <td>7.25</td>\n",
       "      <td>9.0</td>\n",
       "      <td>12.50</td>\n",
       "      <td>15.0</td>\n",
       "    </tr>\n",
       "    <tr>\n",
       "      <th>Product_47</th>\n",
       "      <td>10.0</td>\n",
       "      <td>68.001000</td>\n",
       "      <td>44.358792</td>\n",
       "      <td>13.46</td>\n",
       "      <td>33.5250</td>\n",
       "      <td>59.535</td>\n",
       "      <td>112.5975</td>\n",
       "      <td>125.51</td>\n",
       "      <td>11.0</td>\n",
       "      <td>9.727273</td>\n",
       "      <td>3.003029</td>\n",
       "      <td>2.0</td>\n",
       "      <td>9.00</td>\n",
       "      <td>10.0</td>\n",
       "      <td>12.00</td>\n",
       "      <td>13.0</td>\n",
       "    </tr>\n",
       "    <tr>\n",
       "      <th>Product_48</th>\n",
       "      <td>14.0</td>\n",
       "      <td>66.525714</td>\n",
       "      <td>67.226234</td>\n",
       "      <td>6.22</td>\n",
       "      <td>23.1050</td>\n",
       "      <td>51.840</td>\n",
       "      <td>73.0550</td>\n",
       "      <td>234.90</td>\n",
       "      <td>16.0</td>\n",
       "      <td>10.062500</td>\n",
       "      <td>3.315997</td>\n",
       "      <td>5.0</td>\n",
       "      <td>7.75</td>\n",
       "      <td>10.0</td>\n",
       "      <td>13.00</td>\n",
       "      <td>15.0</td>\n",
       "    </tr>\n",
       "    <tr>\n",
       "      <th>Product_49</th>\n",
       "      <td>21.0</td>\n",
       "      <td>165.538095</td>\n",
       "      <td>268.610528</td>\n",
       "      <td>14.87</td>\n",
       "      <td>51.9300</td>\n",
       "      <td>96.060</td>\n",
       "      <td>168.3600</td>\n",
       "      <td>1296.00</td>\n",
       "      <td>23.0</td>\n",
       "      <td>10.304348</td>\n",
       "      <td>3.443502</td>\n",
       "      <td>2.0</td>\n",
       "      <td>8.50</td>\n",
       "      <td>10.0</td>\n",
       "      <td>12.50</td>\n",
       "      <td>17.0</td>\n",
       "    </tr>\n",
       "    <tr>\n",
       "      <th>Product_5</th>\n",
       "      <td>13.0</td>\n",
       "      <td>77.390000</td>\n",
       "      <td>69.412601</td>\n",
       "      <td>2.06</td>\n",
       "      <td>18.8000</td>\n",
       "      <td>49.530</td>\n",
       "      <td>150.8700</td>\n",
       "      <td>211.13</td>\n",
       "      <td>11.0</td>\n",
       "      <td>10.363636</td>\n",
       "      <td>2.838053</td>\n",
       "      <td>6.0</td>\n",
       "      <td>8.50</td>\n",
       "      <td>10.0</td>\n",
       "      <td>12.50</td>\n",
       "      <td>15.0</td>\n",
       "    </tr>\n",
       "    <tr>\n",
       "      <th>Product_50</th>\n",
       "      <td>25.0</td>\n",
       "      <td>179.963600</td>\n",
       "      <td>156.803329</td>\n",
       "      <td>19.74</td>\n",
       "      <td>68.1600</td>\n",
       "      <td>144.470</td>\n",
       "      <td>223.8100</td>\n",
       "      <td>650.50</td>\n",
       "      <td>21.0</td>\n",
       "      <td>9.333333</td>\n",
       "      <td>4.004164</td>\n",
       "      <td>3.0</td>\n",
       "      <td>7.00</td>\n",
       "      <td>8.0</td>\n",
       "      <td>13.00</td>\n",
       "      <td>16.0</td>\n",
       "    </tr>\n",
       "    <tr>\n",
       "      <th>Product_6</th>\n",
       "      <td>16.0</td>\n",
       "      <td>90.030000</td>\n",
       "      <td>89.634786</td>\n",
       "      <td>22.76</td>\n",
       "      <td>28.8200</td>\n",
       "      <td>63.025</td>\n",
       "      <td>107.4125</td>\n",
       "      <td>376.40</td>\n",
       "      <td>16.0</td>\n",
       "      <td>9.875000</td>\n",
       "      <td>2.848976</td>\n",
       "      <td>6.0</td>\n",
       "      <td>7.75</td>\n",
       "      <td>9.5</td>\n",
       "      <td>11.25</td>\n",
       "      <td>17.0</td>\n",
       "    </tr>\n",
       "    <tr>\n",
       "      <th>Product_7</th>\n",
       "      <td>18.0</td>\n",
       "      <td>111.477778</td>\n",
       "      <td>133.009464</td>\n",
       "      <td>5.79</td>\n",
       "      <td>37.3375</td>\n",
       "      <td>60.655</td>\n",
       "      <td>115.9850</td>\n",
       "      <td>501.57</td>\n",
       "      <td>18.0</td>\n",
       "      <td>10.166667</td>\n",
       "      <td>2.854305</td>\n",
       "      <td>6.0</td>\n",
       "      <td>8.00</td>\n",
       "      <td>10.0</td>\n",
       "      <td>12.00</td>\n",
       "      <td>17.0</td>\n",
       "    </tr>\n",
       "    <tr>\n",
       "      <th>Product_8</th>\n",
       "      <td>22.0</td>\n",
       "      <td>88.737273</td>\n",
       "      <td>128.552346</td>\n",
       "      <td>0.81</td>\n",
       "      <td>27.2150</td>\n",
       "      <td>43.765</td>\n",
       "      <td>66.8875</td>\n",
       "      <td>492.33</td>\n",
       "      <td>22.0</td>\n",
       "      <td>10.636364</td>\n",
       "      <td>3.970672</td>\n",
       "      <td>5.0</td>\n",
       "      <td>7.25</td>\n",
       "      <td>11.5</td>\n",
       "      <td>13.00</td>\n",
       "      <td>18.0</td>\n",
       "    </tr>\n",
       "    <tr>\n",
       "      <th>Product_9</th>\n",
       "      <td>18.0</td>\n",
       "      <td>81.315556</td>\n",
       "      <td>91.963509</td>\n",
       "      <td>1.49</td>\n",
       "      <td>10.4300</td>\n",
       "      <td>40.820</td>\n",
       "      <td>109.8750</td>\n",
       "      <td>282.73</td>\n",
       "      <td>18.0</td>\n",
       "      <td>9.833333</td>\n",
       "      <td>2.749331</td>\n",
       "      <td>5.0</td>\n",
       "      <td>8.25</td>\n",
       "      <td>10.0</td>\n",
       "      <td>12.00</td>\n",
       "      <td>14.0</td>\n",
       "    </tr>\n",
       "  </tbody>\n",
       "</table>\n",
       "</div>"
      ],
      "text/plain": [
       "           Price                                                             \\\n",
       "           count        mean         std    min      25%      50%       75%   \n",
       "Product                                                                       \n",
       "Other       81.0  132.646790  293.502959   0.27  17.9000   64.600  147.4700   \n",
       "Product_1   19.0   99.960526  108.592682   3.40  46.8550   75.880  107.4200   \n",
       "Product_10  17.0   97.610588   77.320574   3.63  36.2400   85.330  121.6500   \n",
       "Product_11  12.0  120.550833   98.670114  21.70  61.6225   78.720  142.3325   \n",
       "Product_12  14.0   77.138571   65.900566   2.37  30.6700   62.570  108.5425   \n",
       "Product_13  17.0   88.629412   85.923571  12.86  18.2100   54.910  145.8400   \n",
       "Product_14  10.0   95.544000  140.334625   4.15  17.6350   40.905  102.9875   \n",
       "Product_15  19.0   89.121053  102.348294   5.71  24.2300   39.720  140.4600   \n",
       "Product_16  13.0   77.116154  104.202676   4.52  11.2800   46.950   91.9800   \n",
       "Product_17  21.0  127.157143   88.934104   5.39  54.6500  120.080  180.6100   \n",
       "Product_18  11.0  107.107273  117.847272   1.90  18.7450   97.780  139.1000   \n",
       "Product_19  20.0  115.748500   82.634176  16.82  46.6175   96.925  158.4750   \n",
       "Product_2   17.0   79.284706   98.867995   8.80  24.8000   41.140   96.0300   \n",
       "Product_20  15.0  110.592000  124.964054   9.09  21.6200   39.860  171.7950   \n",
       "Product_21  14.0  110.399286  133.127824   0.19  16.6725   67.730  138.1200   \n",
       "Product_22  18.0  130.213889  125.527139   7.59  48.8050   74.380  179.3050   \n",
       "Product_23  20.0  130.509000  104.763169  11.00  35.3175   95.435  202.5500   \n",
       "Product_24  25.0   57.740000   49.101278   0.25  26.3100   46.870   63.8700   \n",
       "Product_25  13.0   79.464615   83.116307   1.96  10.2000   56.250  100.5700   \n",
       "Product_26  16.0   90.234375   98.076628   8.76  31.7475   49.835  137.0575   \n",
       "Product_27  21.0  193.255238  391.650662   1.96  24.0900   59.150  160.3400   \n",
       "Product_28  20.0   78.497500   80.023828   4.20  22.1250   46.810  110.6975   \n",
       "Product_29  14.0   82.186429   58.486838  10.39  33.4250   65.570  117.2300   \n",
       "Product_3   21.0   93.558095   98.864401   7.57  20.8100   42.790  113.4700   \n",
       "Product_30  15.0   85.231333   99.109780   3.61  27.0900   52.600   88.0400   \n",
       "Product_31  20.0  128.834500  111.157886   1.60  25.1600   81.490  247.0900   \n",
       "Product_32  10.0   74.437000   69.775829   1.66  26.4850   50.895  120.5650   \n",
       "Product_33  16.0  114.543125  108.220983   7.97  45.6575   69.925  129.0250   \n",
       "Product_34  17.0  253.598235  618.111915  20.51  53.7500  124.300  165.0900   \n",
       "Product_35  11.0   47.802727   20.363126  17.20  34.9750   47.160   61.4100   \n",
       "Product_36  18.0  103.420556   95.675373   0.27  26.7350   93.855  141.7100   \n",
       "Product_37  17.0  105.664706  125.155765   4.31  23.3500   39.440  145.1000   \n",
       "Product_38  19.0  100.138947   65.591971   7.46  44.8300   86.840  135.0000   \n",
       "Product_39  12.0  104.623333  102.858955   1.46  11.5225   70.400  224.4300   \n",
       "Product_4   29.0   99.022414   85.759042   6.02  24.5200   74.250  147.7800   \n",
       "Product_40  26.0  111.934615  140.208123   2.91  27.3675   48.795  120.8150   \n",
       "Product_41  11.0   70.522727   59.472020  13.16  20.7550   60.560  101.2550   \n",
       "Product_42  19.0   90.431579   74.030503  17.44  28.7150   75.390  135.2600   \n",
       "Product_43  25.0   73.047600   63.950752   0.27  27.3800   61.050   91.8200   \n",
       "Product_44  15.0  120.669333  137.578457   0.19  28.2650   83.330  116.2700   \n",
       "Product_45  14.0  104.425714   88.948415   6.20  34.5400   86.365  152.4725   \n",
       "Product_46  15.0  120.521333  125.516603   0.71  38.9150   87.660  133.6500   \n",
       "Product_47  10.0   68.001000   44.358792  13.46  33.5250   59.535  112.5975   \n",
       "Product_48  14.0   66.525714   67.226234   6.22  23.1050   51.840   73.0550   \n",
       "Product_49  21.0  165.538095  268.610528  14.87  51.9300   96.060  168.3600   \n",
       "Product_5   13.0   77.390000   69.412601   2.06  18.8000   49.530  150.8700   \n",
       "Product_50  25.0  179.963600  156.803329  19.74  68.1600  144.470  223.8100   \n",
       "Product_6   16.0   90.030000   89.634786  22.76  28.8200   63.025  107.4125   \n",
       "Product_7   18.0  111.477778  133.009464   5.79  37.3375   60.655  115.9850   \n",
       "Product_8   22.0   88.737273  128.552346   0.81  27.2150   43.765   66.8875   \n",
       "Product_9   18.0   81.315556   91.963509   1.49  10.4300   40.820  109.8750   \n",
       "\n",
       "                    Units Sold                                                \\\n",
       "                max      count       mean       std  min    25%   50%    75%   \n",
       "Product                                                                        \n",
       "Other       2544.60       82.0   9.975610  2.863028  4.0   8.00  10.0  11.75   \n",
       "Product_1    441.99       18.0  10.222222  3.245912  4.0   9.00  11.0  12.75   \n",
       "Product_10   258.01       19.0  11.368421  3.530982  4.0   8.50  12.0  14.00   \n",
       "Product_11   333.79       12.0  11.583333  4.055486  5.0   9.00  11.5  14.25   \n",
       "Product_12   207.17       13.0  10.692308  4.090326  5.0   9.00  10.0  11.00   \n",
       "Product_13   274.59       15.0  10.733333  2.576450  7.0   9.00  10.0  12.00   \n",
       "Product_14   469.65       13.0  11.230769  3.166329  7.0  10.00  11.0  12.00   \n",
       "Product_15   409.83       18.0  10.833333  3.682231  3.0   9.00  11.0  13.00   \n",
       "Product_16   395.76       14.0  10.785714  3.641187  3.0   8.50  11.5  13.00   \n",
       "Product_17   284.74       19.0   9.789474  3.010702  4.0   8.00  10.0  11.00   \n",
       "Product_18   417.05       12.0  12.916667  3.579191  7.0  11.00  12.5  14.25   \n",
       "Product_19   308.76       23.0  10.434783  3.159777  6.0   8.00  11.0  12.00   \n",
       "Product_2    386.40       19.0  10.578947  2.364454  7.0   9.50  10.0  11.50   \n",
       "Product_20   355.43       13.0   8.769231  1.877669  6.0   7.00   9.0  10.00   \n",
       "Product_21   489.40       14.0  10.642857  4.813557  4.0   7.00  10.0  13.75   \n",
       "Product_22   361.41       16.0  10.187500  2.948870  5.0   8.00  11.0  12.25   \n",
       "Product_23   310.98       22.0   9.772727  3.038355  5.0   7.00  10.0  12.00   \n",
       "Product_24   184.03       28.0  10.571429  3.594528  5.0   7.00  10.5  14.00   \n",
       "Product_25   255.73       13.0   9.538462  3.688165  5.0   7.00   9.0  13.00   \n",
       "Product_26   389.50       18.0   9.833333  3.485263  5.0   6.25  10.0  13.00   \n",
       "Product_27  1793.90       19.0   8.684211  3.448875  3.0   7.50   8.0  10.00   \n",
       "Product_28   268.56       19.0  10.894737  3.142800  5.0  10.00  11.0  13.00   \n",
       "Product_29   198.02       13.0  10.307692  3.520999  3.0   8.00  11.0  12.00   \n",
       "Product_3    302.68       20.0   9.800000  2.667544  5.0   7.00  10.0  11.50   \n",
       "Product_30   321.41       14.0   9.071429  2.813820  4.0   8.00   9.0  10.00   \n",
       "Product_31   295.08       16.0   8.937500  2.434988  4.0   7.00   8.5  11.00   \n",
       "Product_32   191.17       13.0  11.692308  3.198557  6.0  10.00  12.0  14.00   \n",
       "Product_33   369.85       14.0   9.285714  2.840059  5.0   8.00   9.0  11.75   \n",
       "Product_34  2636.90       14.0  10.571429  3.857346  6.0   7.25   9.5  14.00   \n",
       "Product_35    86.42       13.0  10.461538  2.787334  7.0   8.00  10.0  12.00   \n",
       "Product_36   315.60       19.0   9.105263  2.998050  3.0   7.00  10.0  11.00   \n",
       "Product_37   366.64       19.0  10.052632  3.535120  5.0   8.00  10.0  12.00   \n",
       "Product_38   230.62       17.0  10.941176  3.287678  5.0   9.00  10.0  14.00   \n",
       "Product_39   248.75       13.0   9.000000  2.000000  6.0   8.00   8.0  10.00   \n",
       "Product_4    340.59       25.0   9.480000  4.052982  4.0   7.00   9.0  10.00   \n",
       "Product_40   570.60       24.0  11.166667  2.869126  7.0   8.75  11.0  14.00   \n",
       "Product_41   204.58       13.0  11.230769  3.269909  5.0  11.00  11.0  13.00   \n",
       "Product_42   245.30       20.0  11.000000  3.433580  5.0   9.00  10.5  13.25   \n",
       "Product_43   269.17       25.0   9.760000  3.165965  4.0   8.00   9.0  13.00   \n",
       "Product_44   521.88       12.0  10.416667  3.476109  5.0   8.00  10.0  12.50   \n",
       "Product_45   289.70       19.0  10.157895  3.149306  5.0   8.00  11.0  12.50   \n",
       "Product_46   485.84       14.0   9.642857  3.650230  4.0   7.25   9.0  12.50   \n",
       "Product_47   125.51       11.0   9.727273  3.003029  2.0   9.00  10.0  12.00   \n",
       "Product_48   234.90       16.0  10.062500  3.315997  5.0   7.75  10.0  13.00   \n",
       "Product_49  1296.00       23.0  10.304348  3.443502  2.0   8.50  10.0  12.50   \n",
       "Product_5    211.13       11.0  10.363636  2.838053  6.0   8.50  10.0  12.50   \n",
       "Product_50   650.50       21.0   9.333333  4.004164  3.0   7.00   8.0  13.00   \n",
       "Product_6    376.40       16.0   9.875000  2.848976  6.0   7.75   9.5  11.25   \n",
       "Product_7    501.57       18.0  10.166667  2.854305  6.0   8.00  10.0  12.00   \n",
       "Product_8    492.33       22.0  10.636364  3.970672  5.0   7.25  11.5  13.00   \n",
       "Product_9    282.73       18.0   9.833333  2.749331  5.0   8.25  10.0  12.00   \n",
       "\n",
       "                  \n",
       "             max  \n",
       "Product           \n",
       "Other       18.0  \n",
       "Product_1   17.0  \n",
       "Product_10  16.0  \n",
       "Product_11  19.0  \n",
       "Product_12  21.0  \n",
       "Product_13  16.0  \n",
       "Product_14  19.0  \n",
       "Product_15  18.0  \n",
       "Product_16  17.0  \n",
       "Product_17  16.0  \n",
       "Product_18  21.0  \n",
       "Product_19  16.0  \n",
       "Product_2   17.0  \n",
       "Product_20  12.0  \n",
       "Product_21  20.0  \n",
       "Product_22  14.0  \n",
       "Product_23  17.0  \n",
       "Product_24  17.0  \n",
       "Product_25  16.0  \n",
       "Product_26  16.0  \n",
       "Product_27  17.0  \n",
       "Product_28  16.0  \n",
       "Product_29  16.0  \n",
       "Product_3   14.0  \n",
       "Product_30  15.0  \n",
       "Product_31  12.0  \n",
       "Product_32  16.0  \n",
       "Product_33  13.0  \n",
       "Product_34  17.0  \n",
       "Product_35  15.0  \n",
       "Product_36  15.0  \n",
       "Product_37  18.0  \n",
       "Product_38  16.0  \n",
       "Product_39  13.0  \n",
       "Product_4   22.0  \n",
       "Product_40  16.0  \n",
       "Product_41  18.0  \n",
       "Product_42  19.0  \n",
       "Product_43  15.0  \n",
       "Product_44  16.0  \n",
       "Product_45  15.0  \n",
       "Product_46  15.0  \n",
       "Product_47  13.0  \n",
       "Product_48  15.0  \n",
       "Product_49  17.0  \n",
       "Product_5   15.0  \n",
       "Product_50  16.0  \n",
       "Product_6   17.0  \n",
       "Product_7   17.0  \n",
       "Product_8   18.0  \n",
       "Product_9   14.0  "
      ]
     },
     "execution_count": 73,
     "metadata": {},
     "output_type": "execute_result"
    }
   ],
   "source": [
    "df_test.groupby('Product').describe()"
   ]
  },
  {
   "cell_type": "code",
   "execution_count": 74,
   "metadata": {},
   "outputs": [
    {
     "data": {
      "text/plain": [
       "Price       count     110.000000\n",
       "            mean      123.782182\n",
       "            std       255.608494\n",
       "            min         0.270000\n",
       "            25%        21.622500\n",
       "            50%        65.410000\n",
       "            75%       147.702500\n",
       "            max      2544.600000\n",
       "Units Sold  count     107.000000\n",
       "            mean        9.859813\n",
       "            std         3.166596\n",
       "            min         4.000000\n",
       "            25%         8.000000\n",
       "            50%        10.000000\n",
       "            75%        11.000000\n",
       "            max        22.000000\n",
       "Name: Product_4, dtype: float64"
      ]
     },
     "execution_count": 74,
     "metadata": {},
     "output_type": "execute_result"
    }
   ],
   "source": [
    "df_test_2.groupby('Product').describe().loc['Product_4']"
   ]
  },
  {
   "cell_type": "code",
   "execution_count": 75,
   "metadata": {},
   "outputs": [
    {
     "data": {
      "text/plain": [
       "Price       count     29.000000\n",
       "            mean      99.022414\n",
       "            std       85.759042\n",
       "            min        6.020000\n",
       "            25%       24.520000\n",
       "            50%       74.250000\n",
       "            75%      147.780000\n",
       "            max      340.590000\n",
       "Units Sold  count     25.000000\n",
       "            mean       9.480000\n",
       "            std        4.052982\n",
       "            min        4.000000\n",
       "            25%        7.000000\n",
       "            50%        9.000000\n",
       "            75%       10.000000\n",
       "            max       22.000000\n",
       "Name: Product_4, dtype: float64"
      ]
     },
     "execution_count": 75,
     "metadata": {},
     "output_type": "execute_result"
    }
   ],
   "source": [
    "df.groupby('Product').describe().loc['Product_4']"
   ]
  },
  {
   "cell_type": "code",
   "execution_count": 76,
   "metadata": {},
   "outputs": [],
   "source": [
    "df_test_3 = df.copy()"
   ]
  },
  {
   "cell_type": "code",
   "execution_count": 99,
   "metadata": {},
   "outputs": [
    {
     "data": {
      "text/plain": [
       "array([nan, 'Product_40', 'Product_1', 'Product_6', 'Product_44',\n",
       "       'Product_21', 'Product_31', 'Product_20', 'Product_34',\n",
       "       'Product_3', 'Product_35', 'Product_50', 'Product_4', 'Product_19',\n",
       "       'Product_23', 'Product_13', 'Product_9', 'Product_48',\n",
       "       'Product_26', 'Product_42', 'Product_14', 'Product_5',\n",
       "       'Product_37', 'Product_12', 'Product_8', 'Product_39',\n",
       "       'Product_17', 'Product_29', 'Product_47', 'Product_36',\n",
       "       'Product_43', 'Product_16', 'Product_32', 'Product_10',\n",
       "       'Product_15', 'Product_27', 'Product_22', 'Product_28',\n",
       "       'Product_45', 'Product_25', 'Product_11', 'Product_46',\n",
       "       'Product_2', 'Product_33', 'Product_49', 'Product_24',\n",
       "       'Product_41', 'Product_18', 'Product_7', 'Product_30',\n",
       "       'Product_38'], dtype=object)"
      ]
     },
     "execution_count": 99,
     "metadata": {},
     "output_type": "execute_result"
    }
   ],
   "source": [
    "# Create a list of all product names\n",
    "product_list = df['Product'].unique()\n",
    "product_list"
   ]
  },
  {
   "cell_type": "code",
   "execution_count": 100,
   "metadata": {},
   "outputs": [],
   "source": [
    "# Remove nan from list\n",
    "product_list = product_list[1:]"
   ]
  },
  {
   "cell_type": "code",
   "execution_count": 103,
   "metadata": {},
   "outputs": [],
   "source": [
    "import numpy as np"
   ]
  },
  {
   "cell_type": "code",
   "execution_count": 101,
   "metadata": {},
   "outputs": [
    {
     "data": {
      "text/plain": [
       "91"
      ]
     },
     "execution_count": 101,
     "metadata": {},
     "output_type": "execute_result"
    }
   ],
   "source": [
    "# Calculate number of missing values\n",
    "missing_data = df_test_3['Product'].isnull().sum()\n",
    "missing_data"
   ]
  },
  {
   "cell_type": "code",
   "execution_count": 102,
   "metadata": {},
   "outputs": [
    {
     "data": {
      "text/plain": [
       "array(['Product_37', 'Product_25', 'Product_21', 'Product_1', 'Product_1',\n",
       "       'Product_7', 'Product_28', 'Product_48', 'Product_34',\n",
       "       'Product_44', 'Product_7', 'Product_24', 'Product_17',\n",
       "       'Product_38', 'Product_39', 'Product_2', 'Product_37',\n",
       "       'Product_47', 'Product_28', 'Product_24', 'Product_22',\n",
       "       'Product_49', 'Product_23', 'Product_46', 'Product_33',\n",
       "       'Product_24', 'Product_8', 'Product_25', 'Product_4', 'Product_34',\n",
       "       'Product_10', 'Product_22', 'Product_49', 'Product_43',\n",
       "       'Product_29', 'Product_18', 'Product_44', 'Product_28',\n",
       "       'Product_49', 'Product_45', 'Product_29', 'Product_8',\n",
       "       'Product_43', 'Product_26', 'Product_8', 'Product_5', 'Product_18',\n",
       "       'Product_33', 'Product_15', 'Product_13', 'Product_42',\n",
       "       'Product_36', 'Product_50', 'Product_2', 'Product_38',\n",
       "       'Product_44', 'Product_45', 'Product_45', 'Product_40',\n",
       "       'Product_8', 'Product_40', 'Product_15', 'Product_26',\n",
       "       'Product_45', 'Product_28', 'Product_46', 'Product_30',\n",
       "       'Product_5', 'Product_33', 'Product_43', 'Product_42',\n",
       "       'Product_36', 'Product_49', 'Product_26', 'Product_34',\n",
       "       'Product_11', 'Product_5', 'Product_37', 'Product_33',\n",
       "       'Product_11', 'Product_32', 'Product_42', 'Product_29',\n",
       "       'Product_27', 'Product_17', 'Product_9', 'Product_42',\n",
       "       'Product_18', 'Product_47', 'Product_37', 'Product_48'],\n",
       "      dtype=object)"
      ]
     },
     "execution_count": 102,
     "metadata": {},
     "output_type": "execute_result"
    }
   ],
   "source": [
    "# Create an array of random choice with 91 elements\n",
    "random_products = np.random.choice(product_list, size = missing_data)\n",
    "random_products"
   ]
  },
  {
   "cell_type": "code",
   "execution_count": 104,
   "metadata": {},
   "outputs": [],
   "source": [
    "# Identify missing data using loc to find the index of missing rows, and isolating the Product column\n",
    "# and fill in with new array\n",
    "df_test_3.loc[df_test_3['Product'].isnull(), 'Product'] = random_products"
   ]
  },
  {
   "cell_type": "code",
   "execution_count": 105,
   "metadata": {},
   "outputs": [
    {
     "name": "stdout",
     "output_type": "stream",
     "text": [
      "<class 'pandas.core.frame.DataFrame'>\n",
      "Int64Index: 1038 entries, 0 to 1049\n",
      "Data columns (total 5 columns):\n",
      " #   Column      Non-Null Count  Dtype  \n",
      "---  ------      --------------  -----  \n",
      " 0   Product     1038 non-null   object \n",
      " 1   Region      1038 non-null   object \n",
      " 2   Price       934 non-null    float64\n",
      " 3   Units Sold  932 non-null    float64\n",
      " 4   Sale Date   1038 non-null   object \n",
      "dtypes: float64(2), object(3)\n",
      "memory usage: 48.7+ KB\n"
     ]
    }
   ],
   "source": [
    "# Check for missing data\n",
    "df_test_3.info()"
   ]
  },
  {
   "cell_type": "code",
   "execution_count": 106,
   "metadata": {},
   "outputs": [
    {
     "data": {
      "text/html": [
       "<div>\n",
       "<style scoped>\n",
       "    .dataframe tbody tr th:only-of-type {\n",
       "        vertical-align: middle;\n",
       "    }\n",
       "\n",
       "    .dataframe tbody tr th {\n",
       "        vertical-align: top;\n",
       "    }\n",
       "\n",
       "    .dataframe thead tr th {\n",
       "        text-align: left;\n",
       "    }\n",
       "</style>\n",
       "<table border=\"1\" class=\"dataframe\">\n",
       "  <thead>\n",
       "    <tr>\n",
       "      <th></th>\n",
       "      <th colspan=\"8\" halign=\"left\">Price</th>\n",
       "      <th colspan=\"8\" halign=\"left\">Units Sold</th>\n",
       "    </tr>\n",
       "    <tr>\n",
       "      <th></th>\n",
       "      <th>count</th>\n",
       "      <th>mean</th>\n",
       "      <th>std</th>\n",
       "      <th>min</th>\n",
       "      <th>25%</th>\n",
       "      <th>50%</th>\n",
       "      <th>75%</th>\n",
       "      <th>max</th>\n",
       "      <th>count</th>\n",
       "      <th>mean</th>\n",
       "      <th>std</th>\n",
       "      <th>min</th>\n",
       "      <th>25%</th>\n",
       "      <th>50%</th>\n",
       "      <th>75%</th>\n",
       "      <th>max</th>\n",
       "    </tr>\n",
       "  </thead>\n",
       "  <tbody>\n",
       "    <tr>\n",
       "      <th>count</th>\n",
       "      <td>50.000000</td>\n",
       "      <td>50.000000</td>\n",
       "      <td>50.000000</td>\n",
       "      <td>50.000000</td>\n",
       "      <td>50.000000</td>\n",
       "      <td>50.000000</td>\n",
       "      <td>50.000000</td>\n",
       "      <td>50.000000</td>\n",
       "      <td>50.000000</td>\n",
       "      <td>50.000000</td>\n",
       "      <td>50.000000</td>\n",
       "      <td>50.000000</td>\n",
       "      <td>50.000000</td>\n",
       "      <td>50.000000</td>\n",
       "      <td>50.000000</td>\n",
       "      <td>50.000000</td>\n",
       "    </tr>\n",
       "    <tr>\n",
       "      <th>mean</th>\n",
       "      <td>18.680000</td>\n",
       "      <td>106.382437</td>\n",
       "      <td>126.470896</td>\n",
       "      <td>6.794400</td>\n",
       "      <td>29.492900</td>\n",
       "      <td>68.119400</td>\n",
       "      <td>134.641750</td>\n",
       "      <td>482.932000</td>\n",
       "      <td>18.640000</td>\n",
       "      <td>10.212039</td>\n",
       "      <td>3.194618</td>\n",
       "      <td>4.800000</td>\n",
       "      <td>8.150000</td>\n",
       "      <td>10.080000</td>\n",
       "      <td>12.305000</td>\n",
       "      <td>16.380000</td>\n",
       "    </tr>\n",
       "    <tr>\n",
       "      <th>std</th>\n",
       "      <td>4.816807</td>\n",
       "      <td>36.711268</td>\n",
       "      <td>111.915222</td>\n",
       "      <td>6.190584</td>\n",
       "      <td>12.062482</td>\n",
       "      <td>23.315281</td>\n",
       "      <td>40.525567</td>\n",
       "      <td>511.267596</td>\n",
       "      <td>4.547976</td>\n",
       "      <td>0.822138</td>\n",
       "      <td>0.549688</td>\n",
       "      <td>1.293626</td>\n",
       "      <td>1.092647</td>\n",
       "      <td>1.011969</td>\n",
       "      <td>1.225047</td>\n",
       "      <td>2.165499</td>\n",
       "    </tr>\n",
       "    <tr>\n",
       "      <th>min</th>\n",
       "      <td>10.000000</td>\n",
       "      <td>47.802727</td>\n",
       "      <td>20.363126</td>\n",
       "      <td>0.190000</td>\n",
       "      <td>8.845000</td>\n",
       "      <td>36.020000</td>\n",
       "      <td>61.410000</td>\n",
       "      <td>86.420000</td>\n",
       "      <td>13.000000</td>\n",
       "      <td>8.769231</td>\n",
       "      <td>1.877669</td>\n",
       "      <td>2.000000</td>\n",
       "      <td>6.500000</td>\n",
       "      <td>7.000000</td>\n",
       "      <td>10.000000</td>\n",
       "      <td>12.000000</td>\n",
       "    </tr>\n",
       "    <tr>\n",
       "      <th>25%</th>\n",
       "      <td>15.250000</td>\n",
       "      <td>86.208173</td>\n",
       "      <td>79.989425</td>\n",
       "      <td>1.915000</td>\n",
       "      <td>21.936250</td>\n",
       "      <td>51.746250</td>\n",
       "      <td>107.388125</td>\n",
       "      <td>268.712500</td>\n",
       "      <td>15.000000</td>\n",
       "      <td>9.714047</td>\n",
       "      <td>2.822931</td>\n",
       "      <td>4.000000</td>\n",
       "      <td>7.000000</td>\n",
       "      <td>10.000000</td>\n",
       "      <td>11.562500</td>\n",
       "      <td>15.000000</td>\n",
       "    </tr>\n",
       "    <tr>\n",
       "      <th>50%</th>\n",
       "      <td>19.000000</td>\n",
       "      <td>97.989235</td>\n",
       "      <td>98.651973</td>\n",
       "      <td>5.550000</td>\n",
       "      <td>27.315000</td>\n",
       "      <td>62.780000</td>\n",
       "      <td>131.580000</td>\n",
       "      <td>337.190000</td>\n",
       "      <td>18.500000</td>\n",
       "      <td>10.225000</td>\n",
       "      <td>3.168672</td>\n",
       "      <td>5.000000</td>\n",
       "      <td>8.000000</td>\n",
       "      <td>10.000000</td>\n",
       "      <td>12.000000</td>\n",
       "      <td>16.000000</td>\n",
       "    </tr>\n",
       "    <tr>\n",
       "      <th>75%</th>\n",
       "      <td>21.000000</td>\n",
       "      <td>117.245386</td>\n",
       "      <td>124.741310</td>\n",
       "      <td>9.017500</td>\n",
       "      <td>33.097500</td>\n",
       "      <td>82.870000</td>\n",
       "      <td>154.580625</td>\n",
       "      <td>466.712500</td>\n",
       "      <td>21.750000</td>\n",
       "      <td>10.756410</td>\n",
       "      <td>3.526765</td>\n",
       "      <td>5.750000</td>\n",
       "      <td>8.937500</td>\n",
       "      <td>10.875000</td>\n",
       "      <td>13.375000</td>\n",
       "      <td>17.000000</td>\n",
       "    </tr>\n",
       "    <tr>\n",
       "      <th>max</th>\n",
       "      <td>30.000000</td>\n",
       "      <td>243.416842</td>\n",
       "      <td>623.193126</td>\n",
       "      <td>22.760000</td>\n",
       "      <td>65.490000</td>\n",
       "      <td>143.000000</td>\n",
       "      <td>247.090000</td>\n",
       "      <td>2636.900000</td>\n",
       "      <td>31.000000</td>\n",
       "      <td>12.800000</td>\n",
       "      <td>4.813557</td>\n",
       "      <td>7.000000</td>\n",
       "      <td>11.500000</td>\n",
       "      <td>12.500000</td>\n",
       "      <td>14.000000</td>\n",
       "      <td>22.000000</td>\n",
       "    </tr>\n",
       "  </tbody>\n",
       "</table>\n",
       "</div>"
      ],
      "text/plain": [
       "           Price                                                            \\\n",
       "           count        mean         std        min        25%         50%   \n",
       "count  50.000000   50.000000   50.000000  50.000000  50.000000   50.000000   \n",
       "mean   18.680000  106.382437  126.470896   6.794400  29.492900   68.119400   \n",
       "std     4.816807   36.711268  111.915222   6.190584  12.062482   23.315281   \n",
       "min    10.000000   47.802727   20.363126   0.190000   8.845000   36.020000   \n",
       "25%    15.250000   86.208173   79.989425   1.915000  21.936250   51.746250   \n",
       "50%    19.000000   97.989235   98.651973   5.550000  27.315000   62.780000   \n",
       "75%    21.000000  117.245386  124.741310   9.017500  33.097500   82.870000   \n",
       "max    30.000000  243.416842  623.193126  22.760000  65.490000  143.000000   \n",
       "\n",
       "                               Units Sold                                   \\\n",
       "              75%          max      count       mean        std        min   \n",
       "count   50.000000    50.000000  50.000000  50.000000  50.000000  50.000000   \n",
       "mean   134.641750   482.932000  18.640000  10.212039   3.194618   4.800000   \n",
       "std     40.525567   511.267596   4.547976   0.822138   0.549688   1.293626   \n",
       "min     61.410000    86.420000  13.000000   8.769231   1.877669   2.000000   \n",
       "25%    107.388125   268.712500  15.000000   9.714047   2.822931   4.000000   \n",
       "50%    131.580000   337.190000  18.500000  10.225000   3.168672   5.000000   \n",
       "75%    154.580625   466.712500  21.750000  10.756410   3.526765   5.750000   \n",
       "max    247.090000  2636.900000  31.000000  12.800000   4.813557   7.000000   \n",
       "\n",
       "                                                   \n",
       "             25%        50%        75%        max  \n",
       "count  50.000000  50.000000  50.000000  50.000000  \n",
       "mean    8.150000  10.080000  12.305000  16.380000  \n",
       "std     1.092647   1.011969   1.225047   2.165499  \n",
       "min     6.500000   7.000000  10.000000  12.000000  \n",
       "25%     7.000000  10.000000  11.562500  15.000000  \n",
       "50%     8.000000  10.000000  12.000000  16.000000  \n",
       "75%     8.937500  10.875000  13.375000  17.000000  \n",
       "max    11.500000  12.500000  14.000000  22.000000  "
      ]
     },
     "execution_count": 106,
     "metadata": {},
     "output_type": "execute_result"
    }
   ],
   "source": [
    "# Compare using describe()\n",
    "df_test_3.groupby('Product').describe().describe()"
   ]
  },
  {
   "cell_type": "code",
   "execution_count": 107,
   "metadata": {},
   "outputs": [
    {
     "data": {
      "text/html": [
       "<div>\n",
       "<style scoped>\n",
       "    .dataframe tbody tr th:only-of-type {\n",
       "        vertical-align: middle;\n",
       "    }\n",
       "\n",
       "    .dataframe tbody tr th {\n",
       "        vertical-align: top;\n",
       "    }\n",
       "\n",
       "    .dataframe thead tr th {\n",
       "        text-align: left;\n",
       "    }\n",
       "</style>\n",
       "<table border=\"1\" class=\"dataframe\">\n",
       "  <thead>\n",
       "    <tr>\n",
       "      <th></th>\n",
       "      <th colspan=\"8\" halign=\"left\">Price</th>\n",
       "      <th colspan=\"8\" halign=\"left\">Units Sold</th>\n",
       "    </tr>\n",
       "    <tr>\n",
       "      <th></th>\n",
       "      <th>count</th>\n",
       "      <th>mean</th>\n",
       "      <th>std</th>\n",
       "      <th>min</th>\n",
       "      <th>25%</th>\n",
       "      <th>50%</th>\n",
       "      <th>75%</th>\n",
       "      <th>max</th>\n",
       "      <th>count</th>\n",
       "      <th>mean</th>\n",
       "      <th>std</th>\n",
       "      <th>min</th>\n",
       "      <th>25%</th>\n",
       "      <th>50%</th>\n",
       "      <th>75%</th>\n",
       "      <th>max</th>\n",
       "    </tr>\n",
       "  </thead>\n",
       "  <tbody>\n",
       "    <tr>\n",
       "      <th>count</th>\n",
       "      <td>50.000000</td>\n",
       "      <td>50.000000</td>\n",
       "      <td>50.000000</td>\n",
       "      <td>50.000000</td>\n",
       "      <td>50.000000</td>\n",
       "      <td>50.000000</td>\n",
       "      <td>50.000000</td>\n",
       "      <td>50.000000</td>\n",
       "      <td>50.00000</td>\n",
       "      <td>50.000000</td>\n",
       "      <td>50.000000</td>\n",
       "      <td>50.000000</td>\n",
       "      <td>50.000000</td>\n",
       "      <td>50.000000</td>\n",
       "      <td>50.000000</td>\n",
       "      <td>50.000000</td>\n",
       "    </tr>\n",
       "    <tr>\n",
       "      <th>mean</th>\n",
       "      <td>17.060000</td>\n",
       "      <td>103.389360</td>\n",
       "      <td>115.206717</td>\n",
       "      <td>7.087200</td>\n",
       "      <td>30.640250</td>\n",
       "      <td>67.791900</td>\n",
       "      <td>132.321350</td>\n",
       "      <td>425.171000</td>\n",
       "      <td>17.00000</td>\n",
       "      <td>10.248956</td>\n",
       "      <td>3.243557</td>\n",
       "      <td>4.860000</td>\n",
       "      <td>8.190000</td>\n",
       "      <td>10.130000</td>\n",
       "      <td>12.340000</td>\n",
       "      <td>16.320000</td>\n",
       "    </tr>\n",
       "    <tr>\n",
       "      <th>std</th>\n",
       "      <td>4.469443</td>\n",
       "      <td>35.445971</td>\n",
       "      <td>91.409903</td>\n",
       "      <td>6.344425</td>\n",
       "      <td>13.205322</td>\n",
       "      <td>23.854109</td>\n",
       "      <td>39.939598</td>\n",
       "      <td>418.424253</td>\n",
       "      <td>4.15024</td>\n",
       "      <td>0.831098</td>\n",
       "      <td>0.549240</td>\n",
       "      <td>1.293784</td>\n",
       "      <td>1.061333</td>\n",
       "      <td>1.034161</td>\n",
       "      <td>1.194972</td>\n",
       "      <td>2.161254</td>\n",
       "    </tr>\n",
       "    <tr>\n",
       "      <th>min</th>\n",
       "      <td>10.000000</td>\n",
       "      <td>47.802727</td>\n",
       "      <td>20.363126</td>\n",
       "      <td>0.190000</td>\n",
       "      <td>10.200000</td>\n",
       "      <td>39.440000</td>\n",
       "      <td>61.410000</td>\n",
       "      <td>86.420000</td>\n",
       "      <td>11.00000</td>\n",
       "      <td>8.684211</td>\n",
       "      <td>1.877669</td>\n",
       "      <td>2.000000</td>\n",
       "      <td>6.250000</td>\n",
       "      <td>8.000000</td>\n",
       "      <td>10.000000</td>\n",
       "      <td>12.000000</td>\n",
       "    </tr>\n",
       "    <tr>\n",
       "      <th>25%</th>\n",
       "      <td>14.000000</td>\n",
       "      <td>79.927350</td>\n",
       "      <td>77.996387</td>\n",
       "      <td>1.960000</td>\n",
       "      <td>22.370000</td>\n",
       "      <td>48.978750</td>\n",
       "      <td>107.700625</td>\n",
       "      <td>256.300000</td>\n",
       "      <td>13.00000</td>\n",
       "      <td>9.763182</td>\n",
       "      <td>2.858010</td>\n",
       "      <td>4.000000</td>\n",
       "      <td>7.250000</td>\n",
       "      <td>9.625000</td>\n",
       "      <td>11.812500</td>\n",
       "      <td>15.000000</td>\n",
       "    </tr>\n",
       "    <tr>\n",
       "      <th>50%</th>\n",
       "      <td>17.000000</td>\n",
       "      <td>98.316501</td>\n",
       "      <td>98.767258</td>\n",
       "      <td>5.550000</td>\n",
       "      <td>27.291250</td>\n",
       "      <td>61.810000</td>\n",
       "      <td>131.337500</td>\n",
       "      <td>318.505000</td>\n",
       "      <td>16.50000</td>\n",
       "      <td>10.263285</td>\n",
       "      <td>3.222235</td>\n",
       "      <td>5.000000</td>\n",
       "      <td>8.000000</td>\n",
       "      <td>10.000000</td>\n",
       "      <td>12.500000</td>\n",
       "      <td>16.000000</td>\n",
       "    </tr>\n",
       "    <tr>\n",
       "      <th>75%</th>\n",
       "      <td>20.000000</td>\n",
       "      <td>113.890998</td>\n",
       "      <td>125.107838</td>\n",
       "      <td>10.065000</td>\n",
       "      <td>36.009375</td>\n",
       "      <td>82.870000</td>\n",
       "      <td>150.097500</td>\n",
       "      <td>415.245000</td>\n",
       "      <td>19.00000</td>\n",
       "      <td>10.723077</td>\n",
       "      <td>3.568173</td>\n",
       "      <td>6.000000</td>\n",
       "      <td>9.000000</td>\n",
       "      <td>11.000000</td>\n",
       "      <td>13.000000</td>\n",
       "      <td>17.000000</td>\n",
       "    </tr>\n",
       "    <tr>\n",
       "      <th>max</th>\n",
       "      <td>29.000000</td>\n",
       "      <td>253.598235</td>\n",
       "      <td>618.111915</td>\n",
       "      <td>22.760000</td>\n",
       "      <td>68.160000</td>\n",
       "      <td>144.470000</td>\n",
       "      <td>247.090000</td>\n",
       "      <td>2636.900000</td>\n",
       "      <td>28.00000</td>\n",
       "      <td>12.916667</td>\n",
       "      <td>4.813557</td>\n",
       "      <td>7.000000</td>\n",
       "      <td>11.000000</td>\n",
       "      <td>12.500000</td>\n",
       "      <td>14.250000</td>\n",
       "      <td>22.000000</td>\n",
       "    </tr>\n",
       "  </tbody>\n",
       "</table>\n",
       "</div>"
      ],
      "text/plain": [
       "           Price                                                            \\\n",
       "           count        mean         std        min        25%         50%   \n",
       "count  50.000000   50.000000   50.000000  50.000000  50.000000   50.000000   \n",
       "mean   17.060000  103.389360  115.206717   7.087200  30.640250   67.791900   \n",
       "std     4.469443   35.445971   91.409903   6.344425  13.205322   23.854109   \n",
       "min    10.000000   47.802727   20.363126   0.190000  10.200000   39.440000   \n",
       "25%    14.000000   79.927350   77.996387   1.960000  22.370000   48.978750   \n",
       "50%    17.000000   98.316501   98.767258   5.550000  27.291250   61.810000   \n",
       "75%    20.000000  113.890998  125.107838  10.065000  36.009375   82.870000   \n",
       "max    29.000000  253.598235  618.111915  22.760000  68.160000  144.470000   \n",
       "\n",
       "                               Units Sold                                   \\\n",
       "              75%          max      count       mean        std        min   \n",
       "count   50.000000    50.000000   50.00000  50.000000  50.000000  50.000000   \n",
       "mean   132.321350   425.171000   17.00000  10.248956   3.243557   4.860000   \n",
       "std     39.939598   418.424253    4.15024   0.831098   0.549240   1.293784   \n",
       "min     61.410000    86.420000   11.00000   8.684211   1.877669   2.000000   \n",
       "25%    107.700625   256.300000   13.00000   9.763182   2.858010   4.000000   \n",
       "50%    131.337500   318.505000   16.50000  10.263285   3.222235   5.000000   \n",
       "75%    150.097500   415.245000   19.00000  10.723077   3.568173   6.000000   \n",
       "max    247.090000  2636.900000   28.00000  12.916667   4.813557   7.000000   \n",
       "\n",
       "                                                   \n",
       "             25%        50%        75%        max  \n",
       "count  50.000000  50.000000  50.000000  50.000000  \n",
       "mean    8.190000  10.130000  12.340000  16.320000  \n",
       "std     1.061333   1.034161   1.194972   2.161254  \n",
       "min     6.250000   8.000000  10.000000  12.000000  \n",
       "25%     7.250000   9.625000  11.812500  15.000000  \n",
       "50%     8.000000  10.000000  12.500000  16.000000  \n",
       "75%     9.000000  11.000000  13.000000  17.000000  \n",
       "max    11.000000  12.500000  14.250000  22.000000  "
      ]
     },
     "execution_count": 107,
     "metadata": {},
     "output_type": "execute_result"
    }
   ],
   "source": [
    "df.groupby('Product').describe().describe()"
   ]
  },
  {
   "cell_type": "code",
   "execution_count": 108,
   "metadata": {},
   "outputs": [],
   "source": [
    "df.dropna(subset=['Product'], axis=0, inplace=True)"
   ]
  },
  {
   "cell_type": "code",
   "execution_count": 109,
   "metadata": {},
   "outputs": [
    {
     "name": "stdout",
     "output_type": "stream",
     "text": [
      "<class 'pandas.core.frame.DataFrame'>\n",
      "Int64Index: 947 entries, 1 to 1049\n",
      "Data columns (total 5 columns):\n",
      " #   Column      Non-Null Count  Dtype  \n",
      "---  ------      --------------  -----  \n",
      " 0   Product     947 non-null    object \n",
      " 1   Region      947 non-null    object \n",
      " 2   Price       853 non-null    float64\n",
      " 3   Units Sold  850 non-null    float64\n",
      " 4   Sale Date   947 non-null    object \n",
      "dtypes: float64(2), object(3)\n",
      "memory usage: 44.4+ KB\n"
     ]
    }
   ],
   "source": [
    "df.info()"
   ]
  },
  {
   "cell_type": "code",
   "execution_count": 110,
   "metadata": {},
   "outputs": [],
   "source": [
    "df_test = df.copy()\n",
    "df_test_2 = df.copy()\n",
    "df_test_3 = df.copy()"
   ]
  },
  {
   "cell_type": "code",
   "execution_count": 111,
   "metadata": {},
   "outputs": [],
   "source": [
    "# filling in with median() of whole column\n",
    "df_test['Price'] = df_test['Price'].fillna(df_test['Price'].median())"
   ]
  },
  {
   "cell_type": "code",
   "execution_count": 113,
   "metadata": {},
   "outputs": [],
   "source": [
    "# filling in with median() by Product\n",
    "df_test_2['Price'] = df_test_2['Price'].fillna(df_test_2.groupby('Product')['Price'].transform('median'))"
   ]
  },
  {
   "cell_type": "code",
   "execution_count": 114,
   "metadata": {},
   "outputs": [],
   "source": [
    "# filling in with median() by Region\n",
    "df_test_3['Price'] = df_test_3['Price'].fillna(df_test_3.groupby('Region')['Price'].transform('median'))"
   ]
  },
  {
   "cell_type": "code",
   "execution_count": 115,
   "metadata": {},
   "outputs": [
    {
     "data": {
      "text/html": [
       "<div>\n",
       "<style scoped>\n",
       "    .dataframe tbody tr th:only-of-type {\n",
       "        vertical-align: middle;\n",
       "    }\n",
       "\n",
       "    .dataframe tbody tr th {\n",
       "        vertical-align: top;\n",
       "    }\n",
       "\n",
       "    .dataframe thead th {\n",
       "        text-align: right;\n",
       "    }\n",
       "</style>\n",
       "<table border=\"1\" class=\"dataframe\">\n",
       "  <thead>\n",
       "    <tr style=\"text-align: right;\">\n",
       "      <th></th>\n",
       "      <th>Price</th>\n",
       "      <th>Units Sold</th>\n",
       "    </tr>\n",
       "  </thead>\n",
       "  <tbody>\n",
       "    <tr>\n",
       "      <th>count</th>\n",
       "      <td>947.000000</td>\n",
       "      <td>850.000000</td>\n",
       "    </tr>\n",
       "    <tr>\n",
       "      <th>mean</th>\n",
       "      <td>101.769736</td>\n",
       "      <td>10.224706</td>\n",
       "    </tr>\n",
       "    <tr>\n",
       "      <th>std</th>\n",
       "      <td>143.472656</td>\n",
       "      <td>3.294726</td>\n",
       "    </tr>\n",
       "    <tr>\n",
       "      <th>min</th>\n",
       "      <td>0.190000</td>\n",
       "      <td>2.000000</td>\n",
       "    </tr>\n",
       "    <tr>\n",
       "      <th>25%</th>\n",
       "      <td>30.615000</td>\n",
       "      <td>8.000000</td>\n",
       "    </tr>\n",
       "    <tr>\n",
       "      <th>50%</th>\n",
       "      <td>64.640000</td>\n",
       "      <td>10.000000</td>\n",
       "    </tr>\n",
       "    <tr>\n",
       "      <th>75%</th>\n",
       "      <td>127.950000</td>\n",
       "      <td>13.000000</td>\n",
       "    </tr>\n",
       "    <tr>\n",
       "      <th>max</th>\n",
       "      <td>2636.900000</td>\n",
       "      <td>22.000000</td>\n",
       "    </tr>\n",
       "  </tbody>\n",
       "</table>\n",
       "</div>"
      ],
      "text/plain": [
       "             Price  Units Sold\n",
       "count   947.000000  850.000000\n",
       "mean    101.769736   10.224706\n",
       "std     143.472656    3.294726\n",
       "min       0.190000    2.000000\n",
       "25%      30.615000    8.000000\n",
       "50%      64.640000   10.000000\n",
       "75%     127.950000   13.000000\n",
       "max    2636.900000   22.000000"
      ]
     },
     "execution_count": 115,
     "metadata": {},
     "output_type": "execute_result"
    }
   ],
   "source": [
    "df_test.describe()"
   ]
  },
  {
   "cell_type": "code",
   "execution_count": 116,
   "metadata": {},
   "outputs": [
    {
     "data": {
      "text/html": [
       "<div>\n",
       "<style scoped>\n",
       "    .dataframe tbody tr th:only-of-type {\n",
       "        vertical-align: middle;\n",
       "    }\n",
       "\n",
       "    .dataframe tbody tr th {\n",
       "        vertical-align: top;\n",
       "    }\n",
       "\n",
       "    .dataframe thead th {\n",
       "        text-align: right;\n",
       "    }\n",
       "</style>\n",
       "<table border=\"1\" class=\"dataframe\">\n",
       "  <thead>\n",
       "    <tr style=\"text-align: right;\">\n",
       "      <th></th>\n",
       "      <th>Price</th>\n",
       "      <th>Units Sold</th>\n",
       "    </tr>\n",
       "  </thead>\n",
       "  <tbody>\n",
       "    <tr>\n",
       "      <th>count</th>\n",
       "      <td>947.000000</td>\n",
       "      <td>850.000000</td>\n",
       "    </tr>\n",
       "    <tr>\n",
       "      <th>mean</th>\n",
       "      <td>101.978501</td>\n",
       "      <td>10.224706</td>\n",
       "    </tr>\n",
       "    <tr>\n",
       "      <th>std</th>\n",
       "      <td>143.583608</td>\n",
       "      <td>3.294726</td>\n",
       "    </tr>\n",
       "    <tr>\n",
       "      <th>min</th>\n",
       "      <td>0.190000</td>\n",
       "      <td>2.000000</td>\n",
       "    </tr>\n",
       "    <tr>\n",
       "      <th>25%</th>\n",
       "      <td>30.615000</td>\n",
       "      <td>8.000000</td>\n",
       "    </tr>\n",
       "    <tr>\n",
       "      <th>50%</th>\n",
       "      <td>62.990000</td>\n",
       "      <td>10.000000</td>\n",
       "    </tr>\n",
       "    <tr>\n",
       "      <th>75%</th>\n",
       "      <td>127.950000</td>\n",
       "      <td>13.000000</td>\n",
       "    </tr>\n",
       "    <tr>\n",
       "      <th>max</th>\n",
       "      <td>2636.900000</td>\n",
       "      <td>22.000000</td>\n",
       "    </tr>\n",
       "  </tbody>\n",
       "</table>\n",
       "</div>"
      ],
      "text/plain": [
       "             Price  Units Sold\n",
       "count   947.000000  850.000000\n",
       "mean    101.978501   10.224706\n",
       "std     143.583608    3.294726\n",
       "min       0.190000    2.000000\n",
       "25%      30.615000    8.000000\n",
       "50%      62.990000   10.000000\n",
       "75%     127.950000   13.000000\n",
       "max    2636.900000   22.000000"
      ]
     },
     "execution_count": 116,
     "metadata": {},
     "output_type": "execute_result"
    }
   ],
   "source": [
    "df_test_2.describe()"
   ]
  },
  {
   "cell_type": "code",
   "execution_count": 117,
   "metadata": {},
   "outputs": [
    {
     "data": {
      "text/html": [
       "<div>\n",
       "<style scoped>\n",
       "    .dataframe tbody tr th:only-of-type {\n",
       "        vertical-align: middle;\n",
       "    }\n",
       "\n",
       "    .dataframe tbody tr th {\n",
       "        vertical-align: top;\n",
       "    }\n",
       "\n",
       "    .dataframe thead th {\n",
       "        text-align: right;\n",
       "    }\n",
       "</style>\n",
       "<table border=\"1\" class=\"dataframe\">\n",
       "  <thead>\n",
       "    <tr style=\"text-align: right;\">\n",
       "      <th></th>\n",
       "      <th>Price</th>\n",
       "      <th>Units Sold</th>\n",
       "    </tr>\n",
       "  </thead>\n",
       "  <tbody>\n",
       "    <tr>\n",
       "      <th>count</th>\n",
       "      <td>947.000000</td>\n",
       "      <td>850.000000</td>\n",
       "    </tr>\n",
       "    <tr>\n",
       "      <th>mean</th>\n",
       "      <td>101.598738</td>\n",
       "      <td>10.224706</td>\n",
       "    </tr>\n",
       "    <tr>\n",
       "      <th>std</th>\n",
       "      <td>143.571631</td>\n",
       "      <td>3.294726</td>\n",
       "    </tr>\n",
       "    <tr>\n",
       "      <th>min</th>\n",
       "      <td>0.190000</td>\n",
       "      <td>2.000000</td>\n",
       "    </tr>\n",
       "    <tr>\n",
       "      <th>25%</th>\n",
       "      <td>30.615000</td>\n",
       "      <td>8.000000</td>\n",
       "    </tr>\n",
       "    <tr>\n",
       "      <th>50%</th>\n",
       "      <td>64.270000</td>\n",
       "      <td>10.000000</td>\n",
       "    </tr>\n",
       "    <tr>\n",
       "      <th>75%</th>\n",
       "      <td>127.950000</td>\n",
       "      <td>13.000000</td>\n",
       "    </tr>\n",
       "    <tr>\n",
       "      <th>max</th>\n",
       "      <td>2636.900000</td>\n",
       "      <td>22.000000</td>\n",
       "    </tr>\n",
       "  </tbody>\n",
       "</table>\n",
       "</div>"
      ],
      "text/plain": [
       "             Price  Units Sold\n",
       "count   947.000000  850.000000\n",
       "mean    101.598738   10.224706\n",
       "std     143.571631    3.294726\n",
       "min       0.190000    2.000000\n",
       "25%      30.615000    8.000000\n",
       "50%      64.270000   10.000000\n",
       "75%     127.950000   13.000000\n",
       "max    2636.900000   22.000000"
      ]
     },
     "execution_count": 117,
     "metadata": {},
     "output_type": "execute_result"
    }
   ],
   "source": [
    "df_test_3.describe()"
   ]
  },
  {
   "cell_type": "code",
   "execution_count": 118,
   "metadata": {},
   "outputs": [
    {
     "data": {
      "text/html": [
       "<div>\n",
       "<style scoped>\n",
       "    .dataframe tbody tr th:only-of-type {\n",
       "        vertical-align: middle;\n",
       "    }\n",
       "\n",
       "    .dataframe tbody tr th {\n",
       "        vertical-align: top;\n",
       "    }\n",
       "\n",
       "    .dataframe thead th {\n",
       "        text-align: right;\n",
       "    }\n",
       "</style>\n",
       "<table border=\"1\" class=\"dataframe\">\n",
       "  <thead>\n",
       "    <tr style=\"text-align: right;\">\n",
       "      <th></th>\n",
       "      <th>Price</th>\n",
       "      <th>Units Sold</th>\n",
       "    </tr>\n",
       "  </thead>\n",
       "  <tbody>\n",
       "    <tr>\n",
       "      <th>count</th>\n",
       "      <td>853.000000</td>\n",
       "      <td>850.000000</td>\n",
       "    </tr>\n",
       "    <tr>\n",
       "      <th>mean</th>\n",
       "      <td>105.861407</td>\n",
       "      <td>10.224706</td>\n",
       "    </tr>\n",
       "    <tr>\n",
       "      <th>std</th>\n",
       "      <td>150.620681</td>\n",
       "      <td>3.294726</td>\n",
       "    </tr>\n",
       "    <tr>\n",
       "      <th>min</th>\n",
       "      <td>0.190000</td>\n",
       "      <td>2.000000</td>\n",
       "    </tr>\n",
       "    <tr>\n",
       "      <th>25%</th>\n",
       "      <td>27.100000</td>\n",
       "      <td>8.000000</td>\n",
       "    </tr>\n",
       "    <tr>\n",
       "      <th>50%</th>\n",
       "      <td>64.640000</td>\n",
       "      <td>10.000000</td>\n",
       "    </tr>\n",
       "    <tr>\n",
       "      <th>75%</th>\n",
       "      <td>140.000000</td>\n",
       "      <td>13.000000</td>\n",
       "    </tr>\n",
       "    <tr>\n",
       "      <th>max</th>\n",
       "      <td>2636.900000</td>\n",
       "      <td>22.000000</td>\n",
       "    </tr>\n",
       "  </tbody>\n",
       "</table>\n",
       "</div>"
      ],
      "text/plain": [
       "             Price  Units Sold\n",
       "count   853.000000  850.000000\n",
       "mean    105.861407   10.224706\n",
       "std     150.620681    3.294726\n",
       "min       0.190000    2.000000\n",
       "25%      27.100000    8.000000\n",
       "50%      64.640000   10.000000\n",
       "75%     140.000000   13.000000\n",
       "max    2636.900000   22.000000"
      ]
     },
     "execution_count": 118,
     "metadata": {},
     "output_type": "execute_result"
    }
   ],
   "source": [
    "df.describe()"
   ]
  },
  {
   "cell_type": "code",
   "execution_count": 119,
   "metadata": {},
   "outputs": [],
   "source": [
    "df['Price'] = df['Price'].fillna(df['Price'].mean())"
   ]
  },
  {
   "cell_type": "code",
   "execution_count": 120,
   "metadata": {},
   "outputs": [],
   "source": [
    "df_test = df.copy()\n",
    "df_test_2 = df.copy()\n",
    "df_test_3 = df.copy()"
   ]
  },
  {
   "cell_type": "code",
   "execution_count": 121,
   "metadata": {},
   "outputs": [],
   "source": [
    "df_test['Units Sold'] = df_test['Units Sold'].fillna(df_test['Units Sold'].median())\n",
    "df_test_2['Units Sold'] = df_test_2['Units Sold'].fillna(df_test_2.groupby('Product')['Units Sold'].transform('median'))\n",
    "df_test_3['Units Sold'] = df_test_3['Units Sold'].fillna(df_test_3.groupby('Region')['Units Sold'].transform('median'))"
   ]
  },
  {
   "cell_type": "code",
   "execution_count": 122,
   "metadata": {},
   "outputs": [
    {
     "data": {
      "text/html": [
       "<div>\n",
       "<style scoped>\n",
       "    .dataframe tbody tr th:only-of-type {\n",
       "        vertical-align: middle;\n",
       "    }\n",
       "\n",
       "    .dataframe tbody tr th {\n",
       "        vertical-align: top;\n",
       "    }\n",
       "\n",
       "    .dataframe thead th {\n",
       "        text-align: right;\n",
       "    }\n",
       "</style>\n",
       "<table border=\"1\" class=\"dataframe\">\n",
       "  <thead>\n",
       "    <tr style=\"text-align: right;\">\n",
       "      <th></th>\n",
       "      <th>Price</th>\n",
       "      <th>Units Sold</th>\n",
       "    </tr>\n",
       "  </thead>\n",
       "  <tbody>\n",
       "    <tr>\n",
       "      <th>count</th>\n",
       "      <td>947.000000</td>\n",
       "      <td>947.000000</td>\n",
       "    </tr>\n",
       "    <tr>\n",
       "      <th>mean</th>\n",
       "      <td>105.861407</td>\n",
       "      <td>10.201690</td>\n",
       "    </tr>\n",
       "    <tr>\n",
       "      <th>std</th>\n",
       "      <td>142.941665</td>\n",
       "      <td>3.121987</td>\n",
       "    </tr>\n",
       "    <tr>\n",
       "      <th>min</th>\n",
       "      <td>0.190000</td>\n",
       "      <td>2.000000</td>\n",
       "    </tr>\n",
       "    <tr>\n",
       "      <th>25%</th>\n",
       "      <td>30.615000</td>\n",
       "      <td>8.000000</td>\n",
       "    </tr>\n",
       "    <tr>\n",
       "      <th>50%</th>\n",
       "      <td>79.240000</td>\n",
       "      <td>10.000000</td>\n",
       "    </tr>\n",
       "    <tr>\n",
       "      <th>75%</th>\n",
       "      <td>127.950000</td>\n",
       "      <td>12.000000</td>\n",
       "    </tr>\n",
       "    <tr>\n",
       "      <th>max</th>\n",
       "      <td>2636.900000</td>\n",
       "      <td>22.000000</td>\n",
       "    </tr>\n",
       "  </tbody>\n",
       "</table>\n",
       "</div>"
      ],
      "text/plain": [
       "             Price  Units Sold\n",
       "count   947.000000  947.000000\n",
       "mean    105.861407   10.201690\n",
       "std     142.941665    3.121987\n",
       "min       0.190000    2.000000\n",
       "25%      30.615000    8.000000\n",
       "50%      79.240000   10.000000\n",
       "75%     127.950000   12.000000\n",
       "max    2636.900000   22.000000"
      ]
     },
     "execution_count": 122,
     "metadata": {},
     "output_type": "execute_result"
    }
   ],
   "source": [
    "df_test.describe()"
   ]
  },
  {
   "cell_type": "code",
   "execution_count": 123,
   "metadata": {},
   "outputs": [
    {
     "data": {
      "text/html": [
       "<div>\n",
       "<style scoped>\n",
       "    .dataframe tbody tr th:only-of-type {\n",
       "        vertical-align: middle;\n",
       "    }\n",
       "\n",
       "    .dataframe tbody tr th {\n",
       "        vertical-align: top;\n",
       "    }\n",
       "\n",
       "    .dataframe thead th {\n",
       "        text-align: right;\n",
       "    }\n",
       "</style>\n",
       "<table border=\"1\" class=\"dataframe\">\n",
       "  <thead>\n",
       "    <tr style=\"text-align: right;\">\n",
       "      <th></th>\n",
       "      <th>Price</th>\n",
       "      <th>Units Sold</th>\n",
       "    </tr>\n",
       "  </thead>\n",
       "  <tbody>\n",
       "    <tr>\n",
       "      <th>count</th>\n",
       "      <td>947.000000</td>\n",
       "      <td>947.000000</td>\n",
       "    </tr>\n",
       "    <tr>\n",
       "      <th>mean</th>\n",
       "      <td>105.861407</td>\n",
       "      <td>10.196410</td>\n",
       "    </tr>\n",
       "    <tr>\n",
       "      <th>std</th>\n",
       "      <td>142.941665</td>\n",
       "      <td>3.139206</td>\n",
       "    </tr>\n",
       "    <tr>\n",
       "      <th>min</th>\n",
       "      <td>0.190000</td>\n",
       "      <td>2.000000</td>\n",
       "    </tr>\n",
       "    <tr>\n",
       "      <th>25%</th>\n",
       "      <td>30.615000</td>\n",
       "      <td>8.000000</td>\n",
       "    </tr>\n",
       "    <tr>\n",
       "      <th>50%</th>\n",
       "      <td>79.240000</td>\n",
       "      <td>10.000000</td>\n",
       "    </tr>\n",
       "    <tr>\n",
       "      <th>75%</th>\n",
       "      <td>127.950000</td>\n",
       "      <td>12.000000</td>\n",
       "    </tr>\n",
       "    <tr>\n",
       "      <th>max</th>\n",
       "      <td>2636.900000</td>\n",
       "      <td>22.000000</td>\n",
       "    </tr>\n",
       "  </tbody>\n",
       "</table>\n",
       "</div>"
      ],
      "text/plain": [
       "             Price  Units Sold\n",
       "count   947.000000  947.000000\n",
       "mean    105.861407   10.196410\n",
       "std     142.941665    3.139206\n",
       "min       0.190000    2.000000\n",
       "25%      30.615000    8.000000\n",
       "50%      79.240000   10.000000\n",
       "75%     127.950000   12.000000\n",
       "max    2636.900000   22.000000"
      ]
     },
     "execution_count": 123,
     "metadata": {},
     "output_type": "execute_result"
    }
   ],
   "source": [
    "df_test_2.describe()"
   ]
  },
  {
   "cell_type": "code",
   "execution_count": 124,
   "metadata": {},
   "outputs": [
    {
     "data": {
      "text/html": [
       "<div>\n",
       "<style scoped>\n",
       "    .dataframe tbody tr th:only-of-type {\n",
       "        vertical-align: middle;\n",
       "    }\n",
       "\n",
       "    .dataframe tbody tr th {\n",
       "        vertical-align: top;\n",
       "    }\n",
       "\n",
       "    .dataframe thead th {\n",
       "        text-align: right;\n",
       "    }\n",
       "</style>\n",
       "<table border=\"1\" class=\"dataframe\">\n",
       "  <thead>\n",
       "    <tr style=\"text-align: right;\">\n",
       "      <th></th>\n",
       "      <th>Price</th>\n",
       "      <th>Units Sold</th>\n",
       "    </tr>\n",
       "  </thead>\n",
       "  <tbody>\n",
       "    <tr>\n",
       "      <th>count</th>\n",
       "      <td>947.000000</td>\n",
       "      <td>947.000000</td>\n",
       "    </tr>\n",
       "    <tr>\n",
       "      <th>mean</th>\n",
       "      <td>105.861407</td>\n",
       "      <td>10.228089</td>\n",
       "    </tr>\n",
       "    <tr>\n",
       "      <th>std</th>\n",
       "      <td>142.941665</td>\n",
       "      <td>3.124400</td>\n",
       "    </tr>\n",
       "    <tr>\n",
       "      <th>min</th>\n",
       "      <td>0.190000</td>\n",
       "      <td>2.000000</td>\n",
       "    </tr>\n",
       "    <tr>\n",
       "      <th>25%</th>\n",
       "      <td>30.615000</td>\n",
       "      <td>8.000000</td>\n",
       "    </tr>\n",
       "    <tr>\n",
       "      <th>50%</th>\n",
       "      <td>79.240000</td>\n",
       "      <td>10.000000</td>\n",
       "    </tr>\n",
       "    <tr>\n",
       "      <th>75%</th>\n",
       "      <td>127.950000</td>\n",
       "      <td>12.000000</td>\n",
       "    </tr>\n",
       "    <tr>\n",
       "      <th>max</th>\n",
       "      <td>2636.900000</td>\n",
       "      <td>22.000000</td>\n",
       "    </tr>\n",
       "  </tbody>\n",
       "</table>\n",
       "</div>"
      ],
      "text/plain": [
       "             Price  Units Sold\n",
       "count   947.000000  947.000000\n",
       "mean    105.861407   10.228089\n",
       "std     142.941665    3.124400\n",
       "min       0.190000    2.000000\n",
       "25%      30.615000    8.000000\n",
       "50%      79.240000   10.000000\n",
       "75%     127.950000   12.000000\n",
       "max    2636.900000   22.000000"
      ]
     },
     "execution_count": 124,
     "metadata": {},
     "output_type": "execute_result"
    }
   ],
   "source": [
    "df_test_3.describe()"
   ]
  },
  {
   "cell_type": "code",
   "execution_count": 125,
   "metadata": {},
   "outputs": [
    {
     "data": {
      "text/html": [
       "<div>\n",
       "<style scoped>\n",
       "    .dataframe tbody tr th:only-of-type {\n",
       "        vertical-align: middle;\n",
       "    }\n",
       "\n",
       "    .dataframe tbody tr th {\n",
       "        vertical-align: top;\n",
       "    }\n",
       "\n",
       "    .dataframe thead th {\n",
       "        text-align: right;\n",
       "    }\n",
       "</style>\n",
       "<table border=\"1\" class=\"dataframe\">\n",
       "  <thead>\n",
       "    <tr style=\"text-align: right;\">\n",
       "      <th></th>\n",
       "      <th>Price</th>\n",
       "      <th>Units Sold</th>\n",
       "    </tr>\n",
       "  </thead>\n",
       "  <tbody>\n",
       "    <tr>\n",
       "      <th>count</th>\n",
       "      <td>947.000000</td>\n",
       "      <td>850.000000</td>\n",
       "    </tr>\n",
       "    <tr>\n",
       "      <th>mean</th>\n",
       "      <td>105.861407</td>\n",
       "      <td>10.224706</td>\n",
       "    </tr>\n",
       "    <tr>\n",
       "      <th>std</th>\n",
       "      <td>142.941665</td>\n",
       "      <td>3.294726</td>\n",
       "    </tr>\n",
       "    <tr>\n",
       "      <th>min</th>\n",
       "      <td>0.190000</td>\n",
       "      <td>2.000000</td>\n",
       "    </tr>\n",
       "    <tr>\n",
       "      <th>25%</th>\n",
       "      <td>30.615000</td>\n",
       "      <td>8.000000</td>\n",
       "    </tr>\n",
       "    <tr>\n",
       "      <th>50%</th>\n",
       "      <td>79.240000</td>\n",
       "      <td>10.000000</td>\n",
       "    </tr>\n",
       "    <tr>\n",
       "      <th>75%</th>\n",
       "      <td>127.950000</td>\n",
       "      <td>13.000000</td>\n",
       "    </tr>\n",
       "    <tr>\n",
       "      <th>max</th>\n",
       "      <td>2636.900000</td>\n",
       "      <td>22.000000</td>\n",
       "    </tr>\n",
       "  </tbody>\n",
       "</table>\n",
       "</div>"
      ],
      "text/plain": [
       "             Price  Units Sold\n",
       "count   947.000000  850.000000\n",
       "mean    105.861407   10.224706\n",
       "std     142.941665    3.294726\n",
       "min       0.190000    2.000000\n",
       "25%      30.615000    8.000000\n",
       "50%      79.240000   10.000000\n",
       "75%     127.950000   13.000000\n",
       "max    2636.900000   22.000000"
      ]
     },
     "execution_count": 125,
     "metadata": {},
     "output_type": "execute_result"
    }
   ],
   "source": [
    "df.describe()"
   ]
  },
  {
   "cell_type": "code",
   "execution_count": 126,
   "metadata": {},
   "outputs": [],
   "source": [
    "df['Units Sold'] = df['Units Sold'].fillna(df['Units Sold'].median())"
   ]
  },
  {
   "cell_type": "code",
   "execution_count": 127,
   "metadata": {},
   "outputs": [
    {
     "name": "stdout",
     "output_type": "stream",
     "text": [
      "<class 'pandas.core.frame.DataFrame'>\n",
      "Int64Index: 947 entries, 1 to 1049\n",
      "Data columns (total 5 columns):\n",
      " #   Column      Non-Null Count  Dtype  \n",
      "---  ------      --------------  -----  \n",
      " 0   Product     947 non-null    object \n",
      " 1   Region      947 non-null    object \n",
      " 2   Price       947 non-null    float64\n",
      " 3   Units Sold  947 non-null    float64\n",
      " 4   Sale Date   947 non-null    object \n",
      "dtypes: float64(2), object(3)\n",
      "memory usage: 44.4+ KB\n"
     ]
    }
   ],
   "source": [
    "df.info()"
   ]
  },
  {
   "cell_type": "code",
   "execution_count": 128,
   "metadata": {},
   "outputs": [
    {
     "data": {
      "text/html": [
       "<div>\n",
       "<style scoped>\n",
       "    .dataframe tbody tr th:only-of-type {\n",
       "        vertical-align: middle;\n",
       "    }\n",
       "\n",
       "    .dataframe tbody tr th {\n",
       "        vertical-align: top;\n",
       "    }\n",
       "\n",
       "    .dataframe thead th {\n",
       "        text-align: right;\n",
       "    }\n",
       "</style>\n",
       "<table border=\"1\" class=\"dataframe\">\n",
       "  <thead>\n",
       "    <tr style=\"text-align: right;\">\n",
       "      <th></th>\n",
       "      <th>Product</th>\n",
       "      <th>Region</th>\n",
       "      <th>Price</th>\n",
       "      <th>Units Sold</th>\n",
       "      <th>Sale Date</th>\n",
       "    </tr>\n",
       "  </thead>\n",
       "  <tbody>\n",
       "    <tr>\n",
       "      <th>count</th>\n",
       "      <td>947</td>\n",
       "      <td>947</td>\n",
       "      <td>947.000000</td>\n",
       "      <td>947.000000</td>\n",
       "      <td>947</td>\n",
       "    </tr>\n",
       "    <tr>\n",
       "      <th>unique</th>\n",
       "      <td>50</td>\n",
       "      <td>11</td>\n",
       "      <td>NaN</td>\n",
       "      <td>NaN</td>\n",
       "      <td>900</td>\n",
       "    </tr>\n",
       "    <tr>\n",
       "      <th>top</th>\n",
       "      <td>Product_4</td>\n",
       "      <td>Region_5</td>\n",
       "      <td>NaN</td>\n",
       "      <td>NaN</td>\n",
       "      <td>2022-01-02</td>\n",
       "    </tr>\n",
       "    <tr>\n",
       "      <th>freq</th>\n",
       "      <td>30</td>\n",
       "      <td>100</td>\n",
       "      <td>NaN</td>\n",
       "      <td>NaN</td>\n",
       "      <td>2</td>\n",
       "    </tr>\n",
       "    <tr>\n",
       "      <th>mean</th>\n",
       "      <td>NaN</td>\n",
       "      <td>NaN</td>\n",
       "      <td>105.861407</td>\n",
       "      <td>10.201690</td>\n",
       "      <td>NaN</td>\n",
       "    </tr>\n",
       "    <tr>\n",
       "      <th>std</th>\n",
       "      <td>NaN</td>\n",
       "      <td>NaN</td>\n",
       "      <td>142.941665</td>\n",
       "      <td>3.121987</td>\n",
       "      <td>NaN</td>\n",
       "    </tr>\n",
       "    <tr>\n",
       "      <th>min</th>\n",
       "      <td>NaN</td>\n",
       "      <td>NaN</td>\n",
       "      <td>0.190000</td>\n",
       "      <td>2.000000</td>\n",
       "      <td>NaN</td>\n",
       "    </tr>\n",
       "    <tr>\n",
       "      <th>25%</th>\n",
       "      <td>NaN</td>\n",
       "      <td>NaN</td>\n",
       "      <td>30.615000</td>\n",
       "      <td>8.000000</td>\n",
       "      <td>NaN</td>\n",
       "    </tr>\n",
       "    <tr>\n",
       "      <th>50%</th>\n",
       "      <td>NaN</td>\n",
       "      <td>NaN</td>\n",
       "      <td>79.240000</td>\n",
       "      <td>10.000000</td>\n",
       "      <td>NaN</td>\n",
       "    </tr>\n",
       "    <tr>\n",
       "      <th>75%</th>\n",
       "      <td>NaN</td>\n",
       "      <td>NaN</td>\n",
       "      <td>127.950000</td>\n",
       "      <td>12.000000</td>\n",
       "      <td>NaN</td>\n",
       "    </tr>\n",
       "    <tr>\n",
       "      <th>max</th>\n",
       "      <td>NaN</td>\n",
       "      <td>NaN</td>\n",
       "      <td>2636.900000</td>\n",
       "      <td>22.000000</td>\n",
       "      <td>NaN</td>\n",
       "    </tr>\n",
       "  </tbody>\n",
       "</table>\n",
       "</div>"
      ],
      "text/plain": [
       "          Product    Region        Price  Units Sold   Sale Date\n",
       "count         947       947   947.000000  947.000000         947\n",
       "unique         50        11          NaN         NaN         900\n",
       "top     Product_4  Region_5          NaN         NaN  2022-01-02\n",
       "freq           30       100          NaN         NaN           2\n",
       "mean          NaN       NaN   105.861407   10.201690         NaN\n",
       "std           NaN       NaN   142.941665    3.121987         NaN\n",
       "min           NaN       NaN     0.190000    2.000000         NaN\n",
       "25%           NaN       NaN    30.615000    8.000000         NaN\n",
       "50%           NaN       NaN    79.240000   10.000000         NaN\n",
       "75%           NaN       NaN   127.950000   12.000000         NaN\n",
       "max           NaN       NaN  2636.900000   22.000000         NaN"
      ]
     },
     "execution_count": 128,
     "metadata": {},
     "output_type": "execute_result"
    }
   ],
   "source": [
    "df.describe(include='all')"
   ]
  },
  {
   "cell_type": "code",
   "execution_count": 129,
   "metadata": {},
   "outputs": [],
   "source": [
    "df['Sale Date'] = pd.to_datetime(df['Sale Date'])"
   ]
  },
  {
   "cell_type": "code",
   "execution_count": 130,
   "metadata": {},
   "outputs": [
    {
     "name": "stdout",
     "output_type": "stream",
     "text": [
      "<class 'pandas.core.frame.DataFrame'>\n",
      "Int64Index: 947 entries, 1 to 1049\n",
      "Data columns (total 5 columns):\n",
      " #   Column      Non-Null Count  Dtype         \n",
      "---  ------      --------------  -----         \n",
      " 0   Product     947 non-null    object        \n",
      " 1   Region      947 non-null    object        \n",
      " 2   Price       947 non-null    float64       \n",
      " 3   Units Sold  947 non-null    float64       \n",
      " 4   Sale Date   947 non-null    datetime64[ns]\n",
      "dtypes: datetime64[ns](1), float64(2), object(2)\n",
      "memory usage: 44.4+ KB\n"
     ]
    }
   ],
   "source": [
    "df.info()"
   ]
  },
  {
   "attachments": {},
   "cell_type": "markdown",
   "metadata": {},
   "source": [
    "#### Outliers\n"
   ]
  },
  {
   "attachments": {},
   "cell_type": "markdown",
   "metadata": {},
   "source": [
    "Now that we have cleaned up the structural issues in our DataFrame, we should check for outliers. The simple way to do this is by using a BoxPlot. We can use the seaborn boxplot() function to identify outliers.\n",
    "\n",
    "There are more sophisticated techniques, for example calculating the z-score of each value, however since we have not yet done this in class, we will use a simple approach."
   ]
  },
  {
   "cell_type": "code",
   "execution_count": 131,
   "metadata": {},
   "outputs": [
    {
     "data": {
      "text/plain": [
       "<AxesSubplot:ylabel='Price'>"
      ]
     },
     "execution_count": 131,
     "metadata": {},
     "output_type": "execute_result"
    },
    {
     "data": {
      "image/png": "[encoded data removed]",
      "text/plain": [
       "<Figure size 432x288 with 1 Axes>"
      ]
     },
     "metadata": {
      "needs_background": "light"
     },
     "output_type": "display_data"
    }
   ],
   "source": [
    "sns.boxplot(data = df, y='Price')"
   ]
  },
  {
   "cell_type": "code",
   "execution_count": 132,
   "metadata": {},
   "outputs": [
    {
     "data": {
      "text/plain": [
       "Int64Index([269, 407, 421], dtype='int64')"
      ]
     },
     "execution_count": 132,
     "metadata": {},
     "output_type": "execute_result"
    }
   ],
   "source": [
    "# Find index values of observations above 1000\n",
    "drop_price_outliers = df[df['Price']>1000].index\n",
    "drop_price_outliers"
   ]
  },
  {
   "cell_type": "code",
   "execution_count": 133,
   "metadata": {},
   "outputs": [],
   "source": [
    "df.drop(drop_price_outliers, inplace=True)"
   ]
  },
  {
   "cell_type": "code",
   "execution_count": 134,
   "metadata": {},
   "outputs": [
    {
     "name": "stdout",
     "output_type": "stream",
     "text": [
      "<class 'pandas.core.frame.DataFrame'>\n",
      "Int64Index: 944 entries, 1 to 1049\n",
      "Data columns (total 5 columns):\n",
      " #   Column      Non-Null Count  Dtype         \n",
      "---  ------      --------------  -----         \n",
      " 0   Product     944 non-null    object        \n",
      " 1   Region      944 non-null    object        \n",
      " 2   Price       944 non-null    float64       \n",
      " 3   Units Sold  944 non-null    float64       \n",
      " 4   Sale Date   944 non-null    datetime64[ns]\n",
      "dtypes: datetime64[ns](1), float64(2), object(2)\n",
      "memory usage: 44.2+ KB\n"
     ]
    }
   ],
   "source": [
    "# 3 entries dropped with 944 left\n",
    "df.info()\n"
   ]
  },
  {
   "cell_type": "code",
   "execution_count": 135,
   "metadata": {},
   "outputs": [
    {
     "data": {
      "text/plain": [
       "<AxesSubplot:ylabel='Units Sold'>"
      ]
     },
     "execution_count": 135,
     "metadata": {},
     "output_type": "execute_result"
    },
    {
     "data": {
      "image/png": "[encoded data removed]",
      "text/plain": [
       "<Figure size 432x288 with 1 Axes>"
      ]
     },
     "metadata": {
      "needs_background": "light"
     },
     "output_type": "display_data"
    }
   ],
   "source": [
    "sns.boxplot(data = df, y = 'Units Sold')"
   ]
  },
  {
   "cell_type": "code",
   "execution_count": 136,
   "metadata": {},
   "outputs": [
    {
     "data": {
      "text/plain": [
       "559    22.0\n",
       "712    21.0\n",
       "436    21.0\n",
       "5      20.0\n",
       "97     19.0\n",
       "841    19.0\n",
       "939    19.0\n",
       "703    18.0\n",
       "350    18.0\n",
       "487    18.0\n",
       "Name: Units Sold, dtype: float64"
      ]
     },
     "execution_count": 136,
     "metadata": {},
     "output_type": "execute_result"
    }
   ],
   "source": [
    "# Find the highest entries\n",
    "df['Units Sold'].sort_values(ascending=False).head(10)"
   ]
  },
  {
   "cell_type": "code",
   "execution_count": 137,
   "metadata": {},
   "outputs": [
    {
     "data": {
      "text/plain": [
       "Int64Index([5, 97, 436, 559, 712, 841, 939], dtype='int64')"
      ]
     },
     "execution_count": 137,
     "metadata": {},
     "output_type": "execute_result"
    }
   ],
   "source": [
    "# Since we have several duplicates of 19+ , we can now filter for any values 19+\n",
    "drop_unit_outliers = df[df['Units Sold'] >= 19].index\n",
    "drop_unit_outliers"
   ]
  },
  {
   "cell_type": "code",
   "execution_count": 138,
   "metadata": {},
   "outputs": [],
   "source": [
    "df.drop(drop_unit_outliers, inplace=True)"
   ]
  },
  {
   "cell_type": "code",
   "execution_count": 139,
   "metadata": {},
   "outputs": [
    {
     "name": "stdout",
     "output_type": "stream",
     "text": [
      "<class 'pandas.core.frame.DataFrame'>\n",
      "Int64Index: 937 entries, 1 to 1049\n",
      "Data columns (total 5 columns):\n",
      " #   Column      Non-Null Count  Dtype         \n",
      "---  ------      --------------  -----         \n",
      " 0   Product     937 non-null    object        \n",
      " 1   Region      937 non-null    object        \n",
      " 2   Price       937 non-null    float64       \n",
      " 3   Units Sold  937 non-null    float64       \n",
      " 4   Sale Date   937 non-null    datetime64[ns]\n",
      "dtypes: datetime64[ns](1), float64(2), object(2)\n",
      "memory usage: 43.9+ KB\n"
     ]
    }
   ],
   "source": [
    "df.info()"
   ]
  },
  {
   "cell_type": "code",
   "execution_count": 140,
   "metadata": {},
   "outputs": [],
   "source": [
    "df.drop_duplicates(inplace=True)"
   ]
  },
  {
   "cell_type": "code",
   "execution_count": 141,
   "metadata": {},
   "outputs": [
    {
     "name": "stdout",
     "output_type": "stream",
     "text": [
      "<class 'pandas.core.frame.DataFrame'>\n",
      "Int64Index: 890 entries, 1 to 998\n",
      "Data columns (total 5 columns):\n",
      " #   Column      Non-Null Count  Dtype         \n",
      "---  ------      --------------  -----         \n",
      " 0   Product     890 non-null    object        \n",
      " 1   Region      890 non-null    object        \n",
      " 2   Price       890 non-null    float64       \n",
      " 3   Units Sold  890 non-null    float64       \n",
      " 4   Sale Date   890 non-null    datetime64[ns]\n",
      "dtypes: datetime64[ns](1), float64(2), object(2)\n",
      "memory usage: 41.7+ KB\n"
     ]
    }
   ],
   "source": [
    "df.info()"
   ]
  },
  {
   "attachments": {},
   "cell_type": "markdown",
   "metadata": {},
   "source": [
    "We are now finished the data cleaning steps! Our final DataFrame has 890 entries we can use for analysis. To summarize how we approached cleaning the data:\n",
    "\n",
    "We dropped rows that had multiple missing values, which would cause challenges for imputation.\n",
    "\n",
    "We reviewed missing values in detail, and compared various approaches to imputing data. For the Region, we assessed whether we should impute with \"Other\" or the mode - since the mode resulted in value changes, we decided to go with \"Other\".\n",
    "\n",
    "For the Product, we compared the approach of \"Other\", the mode, or imputing with random product assignments. Neither approach was great, and since we had only 10% of missing data points we decided that as long as we fill in missing Price and Units Sold data, we can drop the missing data from this column.\n",
    "\n",
    "For Price, we compared imputation by the column median, median by Product, or median by Region. Option 1 and 3 yielded the same results, and Option 2 created bias - as such, we decided to use the column median.\n",
    "\n",
    "For Units Sold, we compared imputation by the column median, median by Product, or median by Region. All 3 options yielded similar results, so for simplicity we used the column median\n",
    "We changed the data type of the Sale Date column to datetime (this was an optional step for this assignment).\n",
    "\n",
    "We used a boxplot to identify outliers in the Price and Units Sold column, and removed outliers.\n",
    "\n",
    "We dropped all duplicate entries."
   ]
  },
  {
   "attachments": {},
   "cell_type": "markdown",
   "metadata": {},
   "source": [
    "### Data Exploration"
   ]
  },
  {
   "attachments": {},
   "cell_type": "markdown",
   "metadata": {},
   "source": [
    "The purpose of the data exploration stage is to identify trends and patterns in data. First, we should explore each variable by itself, and then we should explore variables in pairs or combinations. Our objective for the Data Exploration stage is to identify clear patterns or recommendations we can make to the business.\n",
    "\n",
    "Let's start with univariate analysis.\n",
    "\n",
    "For the continuous variables (Price and Units Sold), we can use histograms to understand spread. For categorical variables, we can use counts and bar charts to see which groups are most popular."
   ]
  },
  {
   "cell_type": "code",
   "execution_count": 142,
   "metadata": {},
   "outputs": [
    {
     "data": {
      "text/plain": [
       "<AxesSubplot:xlabel='Price', ylabel='Count'>"
      ]
     },
     "execution_count": 142,
     "metadata": {},
     "output_type": "execute_result"
    },
    {
     "data": {
      "image/png": "[encoded data removed]",
      "text/plain": [
       "<Figure size 432x288 with 1 Axes>"
      ]
     },
     "metadata": {
      "needs_background": "light"
     },
     "output_type": "display_data"
    }
   ],
   "source": [
    "sns.histplot(df['Price'])"
   ]
  },
  {
   "cell_type": "code",
   "execution_count": 143,
   "metadata": {},
   "outputs": [
    {
     "name": "stdout",
     "output_type": "stream",
     "text": [
      "1.8934714400336454\n"
     ]
    }
   ],
   "source": [
    "from scipy import stats\n",
    "print(stats.skew(df['Price']))"
   ]
  },
  {
   "cell_type": "code",
   "execution_count": 144,
   "metadata": {},
   "outputs": [
    {
     "data": {
      "text/plain": [
       "<AxesSubplot:xlabel='Units Sold', ylabel='Count'>"
      ]
     },
     "execution_count": 144,
     "metadata": {},
     "output_type": "execute_result"
    },
    {
     "data": {
      "image/png": "[encoded data removed]",
      "text/plain": [
       "<Figure size 432x288 with 1 Axes>"
      ]
     },
     "metadata": {
      "needs_background": "light"
     },
     "output_type": "display_data"
    }
   ],
   "source": [
    "sns.histplot(df['Units Sold'])"
   ]
  },
  {
   "cell_type": "code",
   "execution_count": 145,
   "metadata": {},
   "outputs": [
    {
     "name": "stdout",
     "output_type": "stream",
     "text": [
      "0.11525978515777988\n",
      "-0.26841055861702046\n"
     ]
    }
   ],
   "source": [
    "print(stats.skew(df['Units Sold']))\n",
    "print(stats.kurtosis(df['Units Sold']))"
   ]
  },
  {
   "attachments": {},
   "cell_type": "markdown",
   "metadata": {},
   "source": [
    "Here we can see that the price has a right skew. This means that most products are lower-priced, with some products erring on the more expensive side. We can print out the Skew metric to validate what we're seeing. The skew for Price is equal to 1.94 indicating a right skew.\n",
    "\n",
    "the Units Sold distribution seems fairly normal, with most products selling around 10 units per transaction. The skew for Units Sold is 0.09, which is fairly close to 0 and supports what we see (normal distribution). We can also calculate kurtosis since the distribution is normal. The kurtosis of Units Sold is -0.27, which indicates a slightly Platykurtic distribution (thin tails), or less volatility.\n",
    "\n",
    "Now let's check our categorical variables. We will look at counts to see how the data is distributed - we can use groupby() to group by the categorical variable, pick any random column to count the number of entries related to that column, aggregate with count(), sort using sort_values() and use plot() to create a bar chart. I'm adding a figsize parameter which allows me to make the figure a bit bigger and easier to see."
   ]
  },
  {
   "cell_type": "code",
   "execution_count": 146,
   "metadata": {},
   "outputs": [
    {
     "data": {
      "text/plain": [
       "<AxesSubplot:xlabel='Product'>"
      ]
     },
     "execution_count": 146,
     "metadata": {},
     "output_type": "execute_result"
    },
    {
     "data": {
      "image/png": "[encoded data removed]",
      "text/plain": [
       "<Figure size 720x360 with 1 Axes>"
      ]
     },
     "metadata": {
      "needs_background": "light"
     },
     "output_type": "display_data"
    }
   ],
   "source": [
    "df.groupby('Product')['Units Sold'].count().sort_values(ascending=False).plot(kind='bar', figsize=(10,5))"
   ]
  },
  {
   "attachments": {},
   "cell_type": "markdown",
   "metadata": {},
   "source": [
    "We can see that Product 24 has the highest number of transactions, followed by product 4, product 43, product 23 and product 40. On the other hand, product 39 has the least number of transactions."
   ]
  },
  {
   "cell_type": "code",
   "execution_count": 149,
   "metadata": {},
   "outputs": [
    {
     "data": {
      "text/plain": [
       "<AxesSubplot:xlabel='Region'>"
      ]
     },
     "execution_count": 149,
     "metadata": {},
     "output_type": "execute_result"
    },
    {
     "data": {
      "image/png": "[encoded data removed]",
      "text/plain": [
       "<Figure size 720x360 with 1 Axes>"
      ]
     },
     "metadata": {
      "needs_background": "light"
     },
     "output_type": "display_data"
    }
   ],
   "source": [
    "df.groupby('Region')['Units Sold'].count().sort_values(ascending=False).plot(kind='bar', figsize=(10,5))"
   ]
  },
  {
   "attachments": {},
   "cell_type": "markdown",
   "metadata": {},
   "source": [
    "Region 5 seems to have the most transactions, followed by \"Other\", then Region 9. The worst 2 regions are Region 6 and Region 1.\n",
    "\n",
    "Now we can move on to bi-variate analysis. We should analyze variables in pairs - a few things we should look at:\n",
    "\n",
    "For Units Sold:\n",
    "\n",
    "Count of transactions by Region\n",
    "Count of transactions by Product\n",
    "Total number of units sold by Region\n",
    "Total number of units sold by Product\n",
    "Average number of units sold by Region\n",
    "Average number of units sold by Product\n",
    "Median number of units sold by Product\n",
    "Median number of units sold by Region\n",
    "\n",
    "For Price:\n",
    "\n",
    "Average price by Product\n",
    "Relationship between Price and Units Sold\n"
   ]
  },
  {
   "cell_type": "code",
   "execution_count": 150,
   "metadata": {},
   "outputs": [
    {
     "data": {
      "text/html": [
       "<div>\n",
       "<style scoped>\n",
       "    .dataframe tbody tr th:only-of-type {\n",
       "        vertical-align: middle;\n",
       "    }\n",
       "\n",
       "    .dataframe tbody tr th {\n",
       "        vertical-align: top;\n",
       "    }\n",
       "\n",
       "    .dataframe thead th {\n",
       "        text-align: right;\n",
       "    }\n",
       "</style>\n",
       "<table border=\"1\" class=\"dataframe\">\n",
       "  <thead>\n",
       "    <tr style=\"text-align: right;\">\n",
       "      <th></th>\n",
       "      <th>sum</th>\n",
       "      <th>mean</th>\n",
       "      <th>median</th>\n",
       "      <th>count</th>\n",
       "    </tr>\n",
       "    <tr>\n",
       "      <th>Region</th>\n",
       "      <th></th>\n",
       "      <th></th>\n",
       "      <th></th>\n",
       "      <th></th>\n",
       "    </tr>\n",
       "  </thead>\n",
       "  <tbody>\n",
       "    <tr>\n",
       "      <th>Other</th>\n",
       "      <td>872.0</td>\n",
       "      <td>9.797753</td>\n",
       "      <td>10.0</td>\n",
       "      <td>89</td>\n",
       "    </tr>\n",
       "    <tr>\n",
       "      <th>Region_1</th>\n",
       "      <td>750.0</td>\n",
       "      <td>10.135135</td>\n",
       "      <td>10.0</td>\n",
       "      <td>74</td>\n",
       "    </tr>\n",
       "    <tr>\n",
       "      <th>Region_10</th>\n",
       "      <td>792.0</td>\n",
       "      <td>9.777778</td>\n",
       "      <td>10.0</td>\n",
       "      <td>81</td>\n",
       "    </tr>\n",
       "    <tr>\n",
       "      <th>Region_2</th>\n",
       "      <td>830.0</td>\n",
       "      <td>10.375000</td>\n",
       "      <td>10.0</td>\n",
       "      <td>80</td>\n",
       "    </tr>\n",
       "    <tr>\n",
       "      <th>Region_3</th>\n",
       "      <td>746.0</td>\n",
       "      <td>9.946667</td>\n",
       "      <td>10.0</td>\n",
       "      <td>75</td>\n",
       "    </tr>\n",
       "    <tr>\n",
       "      <th>Region_4</th>\n",
       "      <td>782.0</td>\n",
       "      <td>10.289474</td>\n",
       "      <td>10.0</td>\n",
       "      <td>76</td>\n",
       "    </tr>\n",
       "    <tr>\n",
       "      <th>Region_5</th>\n",
       "      <td>949.0</td>\n",
       "      <td>9.783505</td>\n",
       "      <td>10.0</td>\n",
       "      <td>97</td>\n",
       "    </tr>\n",
       "    <tr>\n",
       "      <th>Region_6</th>\n",
       "      <td>775.0</td>\n",
       "      <td>10.472973</td>\n",
       "      <td>10.0</td>\n",
       "      <td>74</td>\n",
       "    </tr>\n",
       "    <tr>\n",
       "      <th>Region_7</th>\n",
       "      <td>808.0</td>\n",
       "      <td>10.493506</td>\n",
       "      <td>10.0</td>\n",
       "      <td>77</td>\n",
       "    </tr>\n",
       "    <tr>\n",
       "      <th>Region_8</th>\n",
       "      <td>814.0</td>\n",
       "      <td>10.175000</td>\n",
       "      <td>10.0</td>\n",
       "      <td>80</td>\n",
       "    </tr>\n",
       "    <tr>\n",
       "      <th>Region_9</th>\n",
       "      <td>863.0</td>\n",
       "      <td>9.919540</td>\n",
       "      <td>10.0</td>\n",
       "      <td>87</td>\n",
       "    </tr>\n",
       "  </tbody>\n",
       "</table>\n",
       "</div>"
      ],
      "text/plain": [
       "             sum       mean  median  count\n",
       "Region                                    \n",
       "Other      872.0   9.797753    10.0     89\n",
       "Region_1   750.0  10.135135    10.0     74\n",
       "Region_10  792.0   9.777778    10.0     81\n",
       "Region_2   830.0  10.375000    10.0     80\n",
       "Region_3   746.0   9.946667    10.0     75\n",
       "Region_4   782.0  10.289474    10.0     76\n",
       "Region_5   949.0   9.783505    10.0     97\n",
       "Region_6   775.0  10.472973    10.0     74\n",
       "Region_7   808.0  10.493506    10.0     77\n",
       "Region_8   814.0  10.175000    10.0     80\n",
       "Region_9   863.0   9.919540    10.0     87"
      ]
     },
     "execution_count": 150,
     "metadata": {},
     "output_type": "execute_result"
    }
   ],
   "source": [
    "units_by_region = df.groupby('Region')['Units Sold'].aggregate(['sum','mean','median','count'])\n",
    "units_by_region"
   ]
  },
  {
   "cell_type": "code",
   "execution_count": 151,
   "metadata": {},
   "outputs": [
    {
     "data": {
      "text/plain": [
       "<AxesSubplot:xlabel='Region'>"
      ]
     },
     "execution_count": 151,
     "metadata": {},
     "output_type": "execute_result"
    },
    {
     "data": {
      "image/png": "[encoded data removed]",
      "text/plain": [
       "<Figure size 432x288 with 1 Axes>"
      ]
     },
     "metadata": {
      "needs_background": "light"
     },
     "output_type": "display_data"
    }
   ],
   "source": [
    "units_by_region['sum'].sort_values(ascending=False).plot(kind='bar')"
   ]
  },
  {
   "cell_type": "code",
   "execution_count": 152,
   "metadata": {},
   "outputs": [
    {
     "data": {
      "text/plain": [
       "<AxesSubplot:xlabel='Region'>"
      ]
     },
     "execution_count": 152,
     "metadata": {},
     "output_type": "execute_result"
    },
    {
     "data": {
      "image/png": "[encoded data removed]",
      "text/plain": [
       "<Figure size 432x288 with 1 Axes>"
      ]
     },
     "metadata": {
      "needs_background": "light"
     },
     "output_type": "display_data"
    }
   ],
   "source": [
    "units_by_region['mean'].sort_values(ascending=False).plot(kind='bar')"
   ]
  },
  {
   "attachments": {},
   "cell_type": "markdown",
   "metadata": {},
   "source": [
    "Some initial insights:\n",
    "\n",
    "Region 5 sells the most units overall, while Region 3 sells the least\n",
    "Region 6 and 7 sell the highest amount of units per transaction on average, while Regions 5 and 10 sell the least\n",
    "Let's review the same by Product."
   ]
  },
  {
   "cell_type": "code",
   "execution_count": 153,
   "metadata": {},
   "outputs": [
    {
     "data": {
      "text/html": [
       "<div>\n",
       "<style scoped>\n",
       "    .dataframe tbody tr th:only-of-type {\n",
       "        vertical-align: middle;\n",
       "    }\n",
       "\n",
       "    .dataframe tbody tr th {\n",
       "        vertical-align: top;\n",
       "    }\n",
       "\n",
       "    .dataframe thead th {\n",
       "        text-align: right;\n",
       "    }\n",
       "</style>\n",
       "<table border=\"1\" class=\"dataframe\">\n",
       "  <thead>\n",
       "    <tr style=\"text-align: right;\">\n",
       "      <th></th>\n",
       "      <th>sum</th>\n",
       "      <th>mean</th>\n",
       "      <th>median</th>\n",
       "      <th>count</th>\n",
       "    </tr>\n",
       "    <tr>\n",
       "      <th>Product</th>\n",
       "      <th></th>\n",
       "      <th></th>\n",
       "      <th></th>\n",
       "      <th></th>\n",
       "    </tr>\n",
       "  </thead>\n",
       "  <tbody>\n",
       "    <tr>\n",
       "      <th>Product_1</th>\n",
       "      <td>201.0</td>\n",
       "      <td>10.050000</td>\n",
       "      <td>10.0</td>\n",
       "      <td>20</td>\n",
       "    </tr>\n",
       "    <tr>\n",
       "      <th>Product_10</th>\n",
       "      <td>222.0</td>\n",
       "      <td>11.100000</td>\n",
       "      <td>11.0</td>\n",
       "      <td>20</td>\n",
       "    </tr>\n",
       "    <tr>\n",
       "      <th>Product_11</th>\n",
       "      <td>130.0</td>\n",
       "      <td>10.833333</td>\n",
       "      <td>11.0</td>\n",
       "      <td>12</td>\n",
       "    </tr>\n",
       "    <tr>\n",
       "      <th>Product_12</th>\n",
       "      <td>121.0</td>\n",
       "      <td>10.083333</td>\n",
       "      <td>10.0</td>\n",
       "      <td>12</td>\n",
       "    </tr>\n",
       "    <tr>\n",
       "      <th>Product_13</th>\n",
       "      <td>181.0</td>\n",
       "      <td>10.647059</td>\n",
       "      <td>10.0</td>\n",
       "      <td>17</td>\n",
       "    </tr>\n",
       "  </tbody>\n",
       "</table>\n",
       "</div>"
      ],
      "text/plain": [
       "              sum       mean  median  count\n",
       "Product                                    \n",
       "Product_1   201.0  10.050000    10.0     20\n",
       "Product_10  222.0  11.100000    11.0     20\n",
       "Product_11  130.0  10.833333    11.0     12\n",
       "Product_12  121.0  10.083333    10.0     12\n",
       "Product_13  181.0  10.647059    10.0     17"
      ]
     },
     "execution_count": 153,
     "metadata": {},
     "output_type": "execute_result"
    }
   ],
   "source": [
    "units_by_product = df.groupby('Product')['Units Sold'].aggregate(['sum','mean','median','count'])\n",
    "units_by_product.head()"
   ]
  },
  {
   "cell_type": "code",
   "execution_count": 155,
   "metadata": {},
   "outputs": [
    {
     "data": {
      "text/plain": [
       "<AxesSubplot:xlabel='Product'>"
      ]
     },
     "execution_count": 155,
     "metadata": {},
     "output_type": "execute_result"
    },
    {
     "data": {
      "image/png": "[encoded data removed]",
      "text/plain": [
       "<Figure size 720x360 with 1 Axes>"
      ]
     },
     "metadata": {
      "needs_background": "light"
     },
     "output_type": "display_data"
    }
   ],
   "source": [
    "units_by_product['sum'].sort_values(ascending=False).plot(kind='bar', figsize=(10,5))"
   ]
  },
  {
   "cell_type": "code",
   "execution_count": 156,
   "metadata": {},
   "outputs": [
    {
     "data": {
      "text/plain": [
       "<AxesSubplot:xlabel='Product'>"
      ]
     },
     "execution_count": 156,
     "metadata": {},
     "output_type": "execute_result"
    },
    {
     "data": {
      "image/png": "[encoded data removed]",
      "text/plain": [
       "<Figure size 720x360 with 1 Axes>"
      ]
     },
     "metadata": {
      "needs_background": "light"
     },
     "output_type": "display_data"
    }
   ],
   "source": [
    "units_by_product['mean'].sort_values(ascending=False).plot(kind='bar', figsize=(10,5))"
   ]
  },
  {
   "attachments": {},
   "cell_type": "markdown",
   "metadata": {},
   "source": [
    "Some initial insights:\n",
    "\n",
    "Product 24 has the highest overall units sold, while Product 39 has the least.\n",
    "\n",
    "Product 18 sells the highest average units per transaction, while Product 39 sells the least.\n",
    "\n",
    "Now let's look at the average price per product"
   ]
  },
  {
   "cell_type": "code",
   "execution_count": 157,
   "metadata": {},
   "outputs": [
    {
     "data": {
      "text/plain": [
       "<AxesSubplot:xlabel='Product'>"
      ]
     },
     "execution_count": 157,
     "metadata": {},
     "output_type": "execute_result"
    },
    {
     "data": {
      "image/png": "[encoded data removed]",
      "text/plain": [
       "<Figure size 720x360 with 1 Axes>"
      ]
     },
     "metadata": {
      "needs_background": "light"
     },
     "output_type": "display_data"
    }
   ],
   "source": [
    "df.groupby('Product')['Price'].mean().sort_values(ascending=False).plot(kind='bar', figsize=(10,5))"
   ]
  },
  {
   "attachments": {},
   "cell_type": "markdown",
   "metadata": {},
   "source": [
    "We can see that Product 50 has the highest price; Product 39, while it sells the least, does not have the lowest price. The price on average is somewhere in the middle. Now let's compare price and units."
   ]
  },
  {
   "cell_type": "code",
   "execution_count": 158,
   "metadata": {},
   "outputs": [
    {
     "data": {
      "text/plain": [
       "<seaborn.axisgrid.FacetGrid at 0x2edb1175580>"
      ]
     },
     "execution_count": 158,
     "metadata": {},
     "output_type": "execute_result"
    },
    {
     "data": {
      "image/png": "[encoded data removed]",
      "text/plain": [
       "<Figure size 360x360 with 1 Axes>"
      ]
     },
     "metadata": {
      "needs_background": "light"
     },
     "output_type": "display_data"
    }
   ],
   "source": [
    "sns.lmplot(data = df, x='Price', y='Units Sold')"
   ]
  },
  {
   "attachments": {},
   "cell_type": "markdown",
   "metadata": {},
   "source": [
    "We can see that the relatonship between Price and Units Sold is fairly flat. This indicates that Price is not a decision driver for units sold - in other words, a lower or higher price doesn't influence the amount of units sold. There must be low sensitivity to price.\n",
    "\n",
    "Now that we are done the bi-variate analysis, we can move on to multivariate. We should anchor our analysis on understanding each region. First, we should create a new column which calculates the total revenue for each transaction (Price * Units Sold). Then, we can analyze each region one by one in order to identify opportunities for the business."
   ]
  },
  {
   "cell_type": "code",
   "execution_count": 159,
   "metadata": {},
   "outputs": [],
   "source": [
    "# Create total Revenue column\n",
    "df['Revenue'] = df['Price'] * df['Units Sold']"
   ]
  },
  {
   "attachments": {},
   "cell_type": "markdown",
   "metadata": {},
   "source": [
    "Region 1\n",
    "\n",
    "The following is the Region 1 analysis. We are going to first filter the dataframe for Region 1, then aggregate the Price, Units Sold and Revenue. For Price, we are interested in the average price by product. For Units Sold and Revenue, we would like to see Averages and Totals."
   ]
  },
  {
   "cell_type": "code",
   "execution_count": 160,
   "metadata": {},
   "outputs": [],
   "source": [
    "region_1 = df[df['Region']=='Region_1'].groupby('Product').aggregate({'Price':'mean','Units Sold':['sum','mean'],'Revenue':['sum','mean']})"
   ]
  },
  {
   "cell_type": "code",
   "execution_count": 161,
   "metadata": {},
   "outputs": [
    {
     "data": {
      "text/plain": [
       "<AxesSubplot:xlabel='Product'>"
      ]
     },
     "execution_count": 161,
     "metadata": {},
     "output_type": "execute_result"
    },
    {
     "data": {
      "image/png": "[encoded data removed]",
      "text/plain": [
       "<Figure size 720x360 with 1 Axes>"
      ]
     },
     "metadata": {
      "needs_background": "light"
     },
     "output_type": "display_data"
    }
   ],
   "source": [
    "region_1['Price'].sort_values('mean',ascending=False).plot(kind='bar', figsize=(10,5))"
   ]
  },
  {
   "cell_type": "code",
   "execution_count": 162,
   "metadata": {},
   "outputs": [
    {
     "data": {
      "text/plain": [
       "<AxesSubplot:xlabel='Product'>"
      ]
     },
     "execution_count": 162,
     "metadata": {},
     "output_type": "execute_result"
    },
    {
     "data": {
      "image/png": "[encoded data removed]",
      "text/plain": [
       "<Figure size 720x360 with 1 Axes>"
      ]
     },
     "metadata": {
      "needs_background": "light"
     },
     "output_type": "display_data"
    }
   ],
   "source": [
    "region_1['Units Sold']['sum'].sort_values(ascending=False).plot(kind='bar', figsize=(10,5))"
   ]
  },
  {
   "cell_type": "code",
   "execution_count": 163,
   "metadata": {},
   "outputs": [
    {
     "data": {
      "text/plain": [
       "<AxesSubplot:xlabel='Product'>"
      ]
     },
     "execution_count": 163,
     "metadata": {},
     "output_type": "execute_result"
    },
    {
     "data": {
      "image/png": "[encoded data removed]",
      "text/plain": [
       "<Figure size 720x360 with 1 Axes>"
      ]
     },
     "metadata": {
      "needs_background": "light"
     },
     "output_type": "display_data"
    }
   ],
   "source": [
    "region_1['Revenue']['sum'].sort_values(ascending=False).plot(kind='bar', figsize=(10,5))"
   ]
  },
  {
   "attachments": {},
   "cell_type": "markdown",
   "metadata": {},
   "source": [
    "Region 1 Summary\n",
    "\n",
    "Product 14 yields the highest revenue, with the highest number of units sold.\n",
    "Product 37 is the most expensive, and yields the 6th highest revenue.\n",
    "Product 47 offers the least revenue, the least units sold, and has a low price.\n",
    "Product 26 has the lowest price and second lowest revenue.\n",
    "\n",
    "Generally, we could recommend that Region 1 should stop selling Products 47 and 26. It should try to upsell Product 37 to increase profitability."
   ]
  },
  {
   "attachments": {},
   "cell_type": "markdown",
   "metadata": {},
   "source": [
    "Region 2\n",
    "\n",
    "Let's move on to Region 2"
   ]
  },
  {
   "cell_type": "code",
   "execution_count": 164,
   "metadata": {},
   "outputs": [],
   "source": [
    "region_2 = df[df['Region'] == 'Region_2'].groupby('Product').aggregate({'Price':'mean','Units Sold':['sum','mean'],'Revenue':['sum','mean']})"
   ]
  },
  {
   "cell_type": "code",
   "execution_count": 165,
   "metadata": {},
   "outputs": [
    {
     "data": {
      "text/plain": [
       "<AxesSubplot:xlabel='Product'>"
      ]
     },
     "execution_count": 165,
     "metadata": {},
     "output_type": "execute_result"
    },
    {
     "data": {
      "image/png": "[encoded data removed]",
      "text/plain": [
       "<Figure size 720x360 with 1 Axes>"
      ]
     },
     "metadata": {
      "needs_background": "light"
     },
     "output_type": "display_data"
    }
   ],
   "source": [
    "region_2['Revenue']['sum'].sort_values(ascending=False).plot(kind='bar', figsize=(10,5))"
   ]
  },
  {
   "cell_type": "code",
   "execution_count": 166,
   "metadata": {},
   "outputs": [
    {
     "data": {
      "text/plain": [
       "<AxesSubplot:xlabel='Product'>"
      ]
     },
     "execution_count": 166,
     "metadata": {},
     "output_type": "execute_result"
    },
    {
     "data": {
      "image/png": "[encoded data removed]",
      "text/plain": [
       "<Figure size 720x360 with 1 Axes>"
      ]
     },
     "metadata": {
      "needs_background": "light"
     },
     "output_type": "display_data"
    }
   ],
   "source": [
    "region_2['Units Sold']['sum'].sort_values(ascending=False).plot(kind='bar', figsize=(10,5))"
   ]
  },
  {
   "attachments": {},
   "cell_type": "markdown",
   "metadata": {},
   "source": [
    "Products 48 and 49 have the most units sold.\n",
    "\n",
    "While Product 49 has the 4th highest revenue, it sells the most units.\n",
    "\n",
    "Product 22 has high revenues, but low volume - which indicates the price must be higher.\n",
    "\n",
    "Product 1 and Product 25 have low volume and do not make much revenue.\n",
    "\n",
    "Since customers are not price sensitive, we could recommend the company increase the price on Product 49 to increase overall Revenue. This region should stop selling Products 1 and 25."
   ]
  },
  {
   "attachments": {},
   "cell_type": "markdown",
   "metadata": {},
   "source": [
    "Region 3\n",
    "\n",
    "Let's move on to Region 3."
   ]
  },
  {
   "cell_type": "code",
   "execution_count": 167,
   "metadata": {},
   "outputs": [],
   "source": [
    "region_3 = df[df['Region']=='Region_3'].groupby('Product').aggregate({'Price':'mean', 'Units Sold':['sum','mean'], 'Revenue':['sum','mean']})"
   ]
  },
  {
   "cell_type": "code",
   "execution_count": 168,
   "metadata": {},
   "outputs": [
    {
     "data": {
      "text/plain": [
       "<AxesSubplot:xlabel='Product'>"
      ]
     },
     "execution_count": 168,
     "metadata": {},
     "output_type": "execute_result"
    },
    {
     "data": {
      "image/png": "[encoded data removed]",
      "text/plain": [
       "<Figure size 720x360 with 1 Axes>"
      ]
     },
     "metadata": {
      "needs_background": "light"
     },
     "output_type": "display_data"
    }
   ],
   "source": [
    "region_3['Revenue']['sum'].sort_values(ascending=False).plot(kind='bar', figsize=(10,5))"
   ]
  },
  {
   "cell_type": "code",
   "execution_count": 169,
   "metadata": {},
   "outputs": [
    {
     "data": {
      "text/plain": [
       "<AxesSubplot:xlabel='Product'>"
      ]
     },
     "execution_count": 169,
     "metadata": {},
     "output_type": "execute_result"
    },
    {
     "data": {
      "image/png": "[encoded data removed]",
      "text/plain": [
       "<Figure size 720x360 with 1 Axes>"
      ]
     },
     "metadata": {
      "needs_background": "light"
     },
     "output_type": "display_data"
    }
   ],
   "source": [
    "region_3['Units Sold']['sum'].sort_values(ascending=False).plot(kind='bar', figsize=(10,5))"
   ]
  },
  {
   "attachments": {},
   "cell_type": "markdown",
   "metadata": {},
   "source": [
    "Products 40 and 41 have the highest revenue; Product 41 has good volume, but product 40 has medium volume.\n",
    "\n",
    "Product 27 has low revenue and low volume, and so does Product 25.\n",
    "\n",
    "We can recommend an increased investment in Product 40, and removal of products 27 and 25."
   ]
  },
  {
   "attachments": {},
   "cell_type": "markdown",
   "metadata": {},
   "source": [
    "Region 4\n",
    "\n",
    "Let's review region 4"
   ]
  },
  {
   "cell_type": "code",
   "execution_count": 170,
   "metadata": {},
   "outputs": [],
   "source": [
    "region_4 = df[df['Region']=='Region_4'].groupby('Product').aggregate({'Price':'mean', 'Units Sold':['sum','mean'], 'Revenue':['sum','mean']})"
   ]
  },
  {
   "attachments": {},
   "cell_type": "markdown",
   "metadata": {},
   "source": [
    "In the following example, I'm using the matplotlib library and specifically the subplots() function to create 2 plots next to each other. This can save me some time with coding the Revenue and Volume plots for each region. I'm also adding a title parameter to the plot() function to add titles to each plot."
   ]
  },
  {
   "cell_type": "code",
   "execution_count": 171,
   "metadata": {},
   "outputs": [
    {
     "data": {
      "text/plain": [
       "<AxesSubplot:title={'center':'Volume'}, xlabel='Product'>"
      ]
     },
     "execution_count": 171,
     "metadata": {},
     "output_type": "execute_result"
    },
    {
     "data": {
      "image/png": "[encoded data removed]",
      "text/plain": [
       "<Figure size 1440x360 with 2 Axes>"
      ]
     },
     "metadata": {
      "needs_background": "light"
     },
     "output_type": "display_data"
    }
   ],
   "source": [
    "import matplotlib.pyplot as plt\n",
    "fig, (ax1, ax2) = plt.subplots(1,2, figsize = (20,5))\n",
    "\n",
    "region_4['Revenue']['sum'].sort_values(ascending=False).plot(kind='bar', ax=ax1, title='Revenue')\n",
    "region_4['Units Sold']['sum'].sort_values(ascending=False).plot(kind='bar', ax=ax2, title='Volume')"
   ]
  },
  {
   "attachments": {},
   "cell_type": "markdown",
   "metadata": {},
   "source": [
    "Recommendations:\n",
    "\n",
    "Products 6 and 43 has low volume, and low revenue and should be removed.\n",
    "\n",
    "Product 12 has very low revenue, but medium volume so we should increase the price.\n",
    "\n",
    "Product 21 has high revenue and medium volume, so we should try to increase volume.\n",
    "\n",
    "Product 19 has high revenue and high volume, increasing the price could make it a higher-revenue product.\n"
   ]
  },
  {
   "attachments": {},
   "cell_type": "markdown",
   "metadata": {},
   "source": [
    "Region 5\n",
    "\n",
    "Let's look at region 5 next. We can also bring all the code together in 1 cell."
   ]
  },
  {
   "cell_type": "code",
   "execution_count": 172,
   "metadata": {},
   "outputs": [
    {
     "data": {
      "text/plain": [
       "<AxesSubplot:title={'center':'Volume'}, xlabel='Product'>"
      ]
     },
     "execution_count": 172,
     "metadata": {},
     "output_type": "execute_result"
    },
    {
     "data": {
      "image/png": "[encoded data removed]",
      "text/plain": [
       "<Figure size 1440x360 with 2 Axes>"
      ]
     },
     "metadata": {
      "needs_background": "light"
     },
     "output_type": "display_data"
    }
   ],
   "source": [
    "region_5 = df[df['Region']=='Region_5'].groupby('Product').aggregate({'Price':'mean','Units Sold':['sum','mean'],'Revenue':['sum','mean']})\n",
    "\n",
    "fig, (ax1, ax2) = plt.subplots(1,2, figsize = (20,5))\n",
    "\n",
    "region_5['Revenue']['sum'].sort_values(ascending=False).plot(kind='bar', ax=ax1, title='Revenue')\n",
    "region_5['Units Sold']['sum'].sort_values(ascending=False).plot(kind='bar', ax=ax2, title='Volume')"
   ]
  },
  {
   "attachments": {},
   "cell_type": "markdown",
   "metadata": {},
   "source": [
    "Recommendations:\n",
    "\n",
    "Product 6 has low volume, and low revenue - we should remove this one.\n",
    "\n",
    "Product 10 haas low volmue and low revenue - we should remove this one.\n",
    "\n",
    "Product 27 has high revenue and medium volume - we should aim to increase sales.\n",
    "\n",
    "Product 7 has high revenue and medium volume - we could increase the volume or price.\n",
    "\n",
    "Product 8 has high volume and medium revenue - we should increase the price."
   ]
  },
  {
   "attachments": {},
   "cell_type": "markdown",
   "metadata": {},
   "source": [
    "Region 6\n",
    "\n",
    "Let's review region 6 next"
   ]
  },
  {
   "cell_type": "code",
   "execution_count": 174,
   "metadata": {},
   "outputs": [
    {
     "data": {
      "text/plain": [
       "<AxesSubplot:title={'center':'Volume'}, xlabel='Product'>"
      ]
     },
     "execution_count": 174,
     "metadata": {},
     "output_type": "execute_result"
    },
    {
     "data": {
      "image/png": "[encoded data removed]",
      "text/plain": [
       "<Figure size 1440x360 with 2 Axes>"
      ]
     },
     "metadata": {
      "needs_background": "light"
     },
     "output_type": "display_data"
    }
   ],
   "source": [
    "region_6 = df[df['Region']=='Region_6'].groupby('Product').aggregate({'Price':'mean','Units Sold':['sum','mean'],'Revenue':['sum','mean']})\n",
    "\n",
    "fig, (ax1, ax2) = plt.subplots(1,2, figsize = (20,5))\n",
    "\n",
    "region_6['Revenue']['sum'].sort_values(ascending=False).plot(kind='bar', ax=ax1, title='Revenue')\n",
    "region_6['Units Sold']['sum'].sort_values(ascending=False).plot(kind='bar', ax=ax2, title='Volume')"
   ]
  },
  {
   "attachments": {},
   "cell_type": "markdown",
   "metadata": {},
   "source": [
    "Recommendations:\n",
    "\n",
    "Product 20 has the highest volume and revenue, we should keep this as is.\n",
    "\n",
    "Product 15 has high revenue but medium volume - we should try to increase the volume.\n",
    "\n",
    "Products 31, 44, 45 have low revenues and low volume and should be removed.\n",
    "\n",
    "Product 37 has high volume, but low revenue - we should increase the price."
   ]
  },
  {
   "attachments": {},
   "cell_type": "markdown",
   "metadata": {},
   "source": [
    "Region 7\n",
    "\n",
    "Let's review region 7"
   ]
  },
  {
   "cell_type": "code",
   "execution_count": 175,
   "metadata": {},
   "outputs": [
    {
     "data": {
      "text/plain": [
       "<AxesSubplot:title={'center':'Volume'}, xlabel='Product'>"
      ]
     },
     "execution_count": 175,
     "metadata": {},
     "output_type": "execute_result"
    },
    {
     "data": {
      "image/png": "[encoded data removed]",
      "text/plain": [
       "<Figure size 1440x360 with 2 Axes>"
      ]
     },
     "metadata": {
      "needs_background": "light"
     },
     "output_type": "display_data"
    }
   ],
   "source": [
    "region_7 = df[df['Region']=='Region_7'].groupby('Product').aggregate({'Price':'mean','Units Sold':['sum','mean'],'Revenue':['sum','mean']})\n",
    "\n",
    "fig, (ax1, ax2) = plt.subplots(1,2, figsize = (20,5))\n",
    "\n",
    "region_7['Revenue']['sum'].sort_values(ascending=False).plot(kind='bar', ax=ax1, title='Revenue')\n",
    "region_7['Units Sold']['sum'].sort_values(ascending=False).plot(kind='bar', ax=ax2, title='Volume')"
   ]
  },
  {
   "attachments": {},
   "cell_type": "markdown",
   "metadata": {},
   "source": [
    "Recommendations:\n",
    "\n",
    "Product 27 has very low revenue and volume, and should be removed, along with product 7.\n",
    "\n",
    "Product 24 has high volume, and somewhat high revenue - we should increase the price.\n",
    "\n",
    "Product 23 has the highest revenue, and medium volume - we should try to increase the volume.\n",
    "\n",
    "Product 3 has high volume, but medium revenue - we should increase the price."
   ]
  },
  {
   "attachments": {},
   "cell_type": "markdown",
   "metadata": {},
   "source": [
    "Region 8"
   ]
  },
  {
   "cell_type": "code",
   "execution_count": 176,
   "metadata": {},
   "outputs": [
    {
     "data": {
      "text/plain": [
       "<AxesSubplot:title={'center':'Volume'}, xlabel='Product'>"
      ]
     },
     "execution_count": 176,
     "metadata": {},
     "output_type": "execute_result"
    },
    {
     "data": {
      "image/png": "[encoded data removed]",
      "text/plain": [
       "<Figure size 1440x360 with 2 Axes>"
      ]
     },
     "metadata": {
      "needs_background": "light"
     },
     "output_type": "display_data"
    }
   ],
   "source": [
    "region_8 = df[df['Region']=='Region_8'].groupby('Product').aggregate({'Price':'mean','Units Sold':['sum','mean'],'Revenue':['sum','mean']})\n",
    "\n",
    "fig, (ax1, ax2) = plt.subplots(1,2, figsize = (20,5))\n",
    "\n",
    "region_8['Revenue']['sum'].sort_values(ascending=False).plot(kind='bar', ax=ax1, title='Revenue')\n",
    "region_8['Units Sold']['sum'].sort_values(ascending=False).plot(kind='bar', ax=ax2, title='Volume')"
   ]
  },
  {
   "attachments": {},
   "cell_type": "markdown",
   "metadata": {},
   "source": [
    "Recommendations:\n",
    "\n",
    "Product 38 and Product 20 should be removed as they are low performing.\n",
    "\n",
    "Product 23 has the highest revenue and has fairly high volume; keep as is.\n",
    "\n",
    "Product 6 could use a price increase to improve revenue.\n",
    "\n",
    "Product 10 could use a price increase to improve revenue."
   ]
  },
  {
   "cell_type": "code",
   "execution_count": 177,
   "metadata": {},
   "outputs": [
    {
     "data": {
      "text/plain": [
       "<AxesSubplot:title={'center':'Volume'}, xlabel='Product'>"
      ]
     },
     "execution_count": 177,
     "metadata": {},
     "output_type": "execute_result"
    },
    {
     "data": {
      "image/png": "[encoded data removed]",
      "text/plain": [
       "<Figure size 1440x360 with 2 Axes>"
      ]
     },
     "metadata": {
      "needs_background": "light"
     },
     "output_type": "display_data"
    }
   ],
   "source": [
    "region_9 = df[df['Region']=='Region_9'].groupby('Product').aggregate({'Price':'mean','Units Sold':['sum','mean'],'Revenue':['sum','mean']})\n",
    "\n",
    "fig, (ax1, ax2) = plt.subplots(1,2, figsize = (20,5))\n",
    "\n",
    "region_9['Revenue']['sum'].sort_values(ascending=False).plot(kind='bar', ax=ax1, title='Revenue')\n",
    "region_9['Units Sold']['sum'].sort_values(ascending=False).plot(kind='bar', ax=ax2, title='Volume')"
   ]
  },
  {
   "attachments": {},
   "cell_type": "markdown",
   "metadata": {},
   "source": [
    "Recommendations:\n",
    "\n",
    "Product 42 has high volume, and high revenue - keep as is.\n",
    "\n",
    "Product 38 could use a minor price increase.\n",
    "\n",
    "Products 25, 28, 32, 36, 37, 41 have medium volume, but almost no revenue - it either needs to be removed or it needs a price increase.\n",
    "\n",
    "Product 3 could be dropped due to lower volume and low revenue."
   ]
  },
  {
   "cell_type": "code",
   "execution_count": 178,
   "metadata": {},
   "outputs": [
    {
     "data": {
      "text/plain": [
       "<AxesSubplot:title={'center':'Volume'}, xlabel='Product'>"
      ]
     },
     "execution_count": 178,
     "metadata": {},
     "output_type": "execute_result"
    },
    {
     "data": {
      "image/png": "[encoded data removed]",
      "text/plain": [
       "<Figure size 1440x360 with 2 Axes>"
      ]
     },
     "metadata": {
      "needs_background": "light"
     },
     "output_type": "display_data"
    }
   ],
   "source": [
    "region_10 = df[df['Region']=='Region_10'].groupby('Product').aggregate({'Price':'mean','Units Sold':['sum','mean'],'Revenue':['sum','mean']})\n",
    "\n",
    "fig, (ax1, ax2) = plt.subplots(1,2, figsize = (20,5))\n",
    "\n",
    "region_10['Revenue']['sum'].sort_values(ascending=False).plot(kind='bar', ax=ax1, title='Revenue')\n",
    "region_10['Units Sold']['sum'].sort_values(ascending=False).plot(kind='bar', ax=ax2, title='Volume')"
   ]
  },
  {
   "attachments": {},
   "cell_type": "markdown",
   "metadata": {},
   "source": [
    "Recommendations:\n",
    "\n",
    "Product 4 has high volume, and could use a price increase.\n",
    "\n",
    "Product 7 is very profitable and could use a volume increase.\n",
    "\n",
    "Products 14, 46, 23, 18 have medium volume and could use a price increase."
   ]
  },
  {
   "attachments": {},
   "cell_type": "markdown",
   "metadata": {},
   "source": [
    "### Final Thoughts\n"
   ]
  },
  {
   "attachments": {},
   "cell_type": "markdown",
   "metadata": {},
   "source": [
    "Now we have completed the analysis. We have identified 3-5 actionable recommendations for each region. We took a region-first approach to this analysis because we are looking at an overall company strategy, however you could also look at individual product performance for each region, if you are looking at a product strategy. You will notice that the code often repeats itself, and what we should always focus on with this type of analysis is depth actionable recommendations."
   ]
  },
  {
   "attachments": {},
   "cell_type": "markdown",
   "metadata": {},
   "source": [
    "### Module1_and_2_Practice_Titanic"
   ]
  }
 ],
 "metadata": {
  "kernelspec": {
   "display_name": "base",
   "language": "python",
   "name": "python3"
  },
  "language_info": {
   "codemirror_mode": {
    "name": "ipython",
    "version": 3
   },
   "file_extension": ".py",
   "mimetype": "text/x-python",
   "name": "python",
   "nbconvert_exporter": "python",
   "pygments_lexer": "ipython3",
   "version": "3.9.7"
  },
  "orig_nbformat": 4
 },
 "nbformat": 4,
 "nbformat_minor": 2
}
