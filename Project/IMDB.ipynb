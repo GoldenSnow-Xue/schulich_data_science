{
 "cells": [
  {
   "cell_type": "code",
   "execution_count": 34,
   "metadata": {},
   "outputs": [],
   "source": [
    "import pandas as pd\n",
    "import numpy as np\n",
    "import matplotlib.pyplot as plt\n",
    "plt.style.use('ggplot')\n",
    "%matplotlib inline"
   ]
  },
  {
   "cell_type": "code",
   "execution_count": 35,
   "metadata": {
    "collapsed": true,
    "jupyter": {
     "outputs_hidden": true
    }
   },
   "outputs": [
    {
     "data": {
      "text/html": [
       "<div>\n",
       "<style scoped>\n",
       "    .dataframe tbody tr th:only-of-type {\n",
       "        vertical-align: middle;\n",
       "    }\n",
       "\n",
       "    .dataframe tbody tr th {\n",
       "        vertical-align: top;\n",
       "    }\n",
       "\n",
       "    .dataframe thead th {\n",
       "        text-align: right;\n",
       "    }\n",
       "</style>\n",
       "<table border=\"1\" class=\"dataframe\">\n",
       "  <thead>\n",
       "    <tr style=\"text-align: right;\">\n",
       "      <th></th>\n",
       "      <th>color</th>\n",
       "      <th>director_name</th>\n",
       "      <th>num_critic_for_reviews</th>\n",
       "      <th>duration</th>\n",
       "      <th>director_facebook_likes</th>\n",
       "      <th>actor_3_facebook_likes</th>\n",
       "      <th>actor_2_name</th>\n",
       "      <th>actor_1_facebook_likes</th>\n",
       "      <th>gross</th>\n",
       "      <th>genres</th>\n",
       "      <th>...</th>\n",
       "      <th>num_user_for_reviews</th>\n",
       "      <th>language</th>\n",
       "      <th>country</th>\n",
       "      <th>content_rating</th>\n",
       "      <th>budget</th>\n",
       "      <th>title_year</th>\n",
       "      <th>actor_2_facebook_likes</th>\n",
       "      <th>imdb_score</th>\n",
       "      <th>aspect_ratio</th>\n",
       "      <th>movie_facebook_likes</th>\n",
       "    </tr>\n",
       "  </thead>\n",
       "  <tbody>\n",
       "    <tr>\n",
       "      <th>0</th>\n",
       "      <td>Color</td>\n",
       "      <td>James Cameron</td>\n",
       "      <td>723.0</td>\n",
       "      <td>178.0</td>\n",
       "      <td>0.0</td>\n",
       "      <td>855.0</td>\n",
       "      <td>Joel David Moore</td>\n",
       "      <td>1000.0</td>\n",
       "      <td>760505847.0</td>\n",
       "      <td>Action|Adventure|Fantasy|Sci-Fi</td>\n",
       "      <td>...</td>\n",
       "      <td>3054.0</td>\n",
       "      <td>English</td>\n",
       "      <td>USA</td>\n",
       "      <td>PG-13</td>\n",
       "      <td>237000000.0</td>\n",
       "      <td>2009.0</td>\n",
       "      <td>936.0</td>\n",
       "      <td>7.9</td>\n",
       "      <td>1.78</td>\n",
       "      <td>33000</td>\n",
       "    </tr>\n",
       "    <tr>\n",
       "      <th>1</th>\n",
       "      <td>Color</td>\n",
       "      <td>Gore Verbinski</td>\n",
       "      <td>302.0</td>\n",
       "      <td>169.0</td>\n",
       "      <td>563.0</td>\n",
       "      <td>1000.0</td>\n",
       "      <td>Orlando Bloom</td>\n",
       "      <td>40000.0</td>\n",
       "      <td>309404152.0</td>\n",
       "      <td>Action|Adventure|Fantasy</td>\n",
       "      <td>...</td>\n",
       "      <td>1238.0</td>\n",
       "      <td>English</td>\n",
       "      <td>USA</td>\n",
       "      <td>PG-13</td>\n",
       "      <td>300000000.0</td>\n",
       "      <td>2007.0</td>\n",
       "      <td>5000.0</td>\n",
       "      <td>7.1</td>\n",
       "      <td>2.35</td>\n",
       "      <td>0</td>\n",
       "    </tr>\n",
       "    <tr>\n",
       "      <th>2</th>\n",
       "      <td>Color</td>\n",
       "      <td>Sam Mendes</td>\n",
       "      <td>602.0</td>\n",
       "      <td>148.0</td>\n",
       "      <td>0.0</td>\n",
       "      <td>161.0</td>\n",
       "      <td>Rory Kinnear</td>\n",
       "      <td>11000.0</td>\n",
       "      <td>200074175.0</td>\n",
       "      <td>Action|Adventure|Thriller</td>\n",
       "      <td>...</td>\n",
       "      <td>994.0</td>\n",
       "      <td>English</td>\n",
       "      <td>UK</td>\n",
       "      <td>PG-13</td>\n",
       "      <td>245000000.0</td>\n",
       "      <td>2015.0</td>\n",
       "      <td>393.0</td>\n",
       "      <td>6.8</td>\n",
       "      <td>2.35</td>\n",
       "      <td>85000</td>\n",
       "    </tr>\n",
       "    <tr>\n",
       "      <th>3</th>\n",
       "      <td>Color</td>\n",
       "      <td>Christopher Nolan</td>\n",
       "      <td>813.0</td>\n",
       "      <td>164.0</td>\n",
       "      <td>22000.0</td>\n",
       "      <td>23000.0</td>\n",
       "      <td>Christian Bale</td>\n",
       "      <td>27000.0</td>\n",
       "      <td>448130642.0</td>\n",
       "      <td>Action|Thriller</td>\n",
       "      <td>...</td>\n",
       "      <td>2701.0</td>\n",
       "      <td>English</td>\n",
       "      <td>USA</td>\n",
       "      <td>PG-13</td>\n",
       "      <td>250000000.0</td>\n",
       "      <td>2012.0</td>\n",
       "      <td>23000.0</td>\n",
       "      <td>8.5</td>\n",
       "      <td>2.35</td>\n",
       "      <td>164000</td>\n",
       "    </tr>\n",
       "    <tr>\n",
       "      <th>4</th>\n",
       "      <td>NaN</td>\n",
       "      <td>Doug Walker</td>\n",
       "      <td>NaN</td>\n",
       "      <td>NaN</td>\n",
       "      <td>131.0</td>\n",
       "      <td>NaN</td>\n",
       "      <td>Rob Walker</td>\n",
       "      <td>131.0</td>\n",
       "      <td>NaN</td>\n",
       "      <td>Documentary</td>\n",
       "      <td>...</td>\n",
       "      <td>NaN</td>\n",
       "      <td>NaN</td>\n",
       "      <td>NaN</td>\n",
       "      <td>NaN</td>\n",
       "      <td>NaN</td>\n",
       "      <td>NaN</td>\n",
       "      <td>12.0</td>\n",
       "      <td>7.1</td>\n",
       "      <td>NaN</td>\n",
       "      <td>0</td>\n",
       "    </tr>\n",
       "  </tbody>\n",
       "</table>\n",
       "<p>5 rows × 28 columns</p>\n",
       "</div>"
      ],
      "text/plain": [
       "   color      director_name  num_critic_for_reviews  duration  \\\n",
       "0  Color      James Cameron                   723.0     178.0   \n",
       "1  Color     Gore Verbinski                   302.0     169.0   \n",
       "2  Color         Sam Mendes                   602.0     148.0   \n",
       "3  Color  Christopher Nolan                   813.0     164.0   \n",
       "4    NaN        Doug Walker                     NaN       NaN   \n",
       "\n",
       "   director_facebook_likes  actor_3_facebook_likes      actor_2_name  \\\n",
       "0                      0.0                   855.0  Joel David Moore   \n",
       "1                    563.0                  1000.0     Orlando Bloom   \n",
       "2                      0.0                   161.0      Rory Kinnear   \n",
       "3                  22000.0                 23000.0    Christian Bale   \n",
       "4                    131.0                     NaN        Rob Walker   \n",
       "\n",
       "   actor_1_facebook_likes        gross                           genres  \\\n",
       "0                  1000.0  760505847.0  Action|Adventure|Fantasy|Sci-Fi   \n",
       "1                 40000.0  309404152.0         Action|Adventure|Fantasy   \n",
       "2                 11000.0  200074175.0        Action|Adventure|Thriller   \n",
       "3                 27000.0  448130642.0                  Action|Thriller   \n",
       "4                   131.0          NaN                      Documentary   \n",
       "\n",
       "          ...          num_user_for_reviews language  country  content_rating  \\\n",
       "0         ...                        3054.0  English      USA           PG-13   \n",
       "1         ...                        1238.0  English      USA           PG-13   \n",
       "2         ...                         994.0  English       UK           PG-13   \n",
       "3         ...                        2701.0  English      USA           PG-13   \n",
       "4         ...                           NaN      NaN      NaN             NaN   \n",
       "\n",
       "        budget  title_year actor_2_facebook_likes imdb_score  aspect_ratio  \\\n",
       "0  237000000.0      2009.0                  936.0        7.9          1.78   \n",
       "1  300000000.0      2007.0                 5000.0        7.1          2.35   \n",
       "2  245000000.0      2015.0                  393.0        6.8          2.35   \n",
       "3  250000000.0      2012.0                23000.0        8.5          2.35   \n",
       "4          NaN         NaN                   12.0        7.1           NaN   \n",
       "\n",
       "  movie_facebook_likes  \n",
       "0                33000  \n",
       "1                    0  \n",
       "2                85000  \n",
       "3               164000  \n",
       "4                    0  \n",
       "\n",
       "[5 rows x 28 columns]"
      ]
     },
     "execution_count": 35,
     "metadata": {},
     "output_type": "execute_result"
    }
   ],
   "source": [
    "df=pd.read_csv(\"movie_metadata.csv\")\n",
    "df.head()"
   ]
  },
  {
   "cell_type": "code",
   "execution_count": 70,
   "metadata": {},
   "outputs": [
    {
     "name": "stdout",
     "output_type": "stream",
     "text": [
      "<class 'pandas.core.frame.DataFrame'>\n",
      "RangeIndex: 5043 entries, 0 to 5042\n",
      "Data columns (total 28 columns):\n",
      "color                        5024 non-null object\n",
      "director_name                4939 non-null object\n",
      "num_critic_for_reviews       4993 non-null float64\n",
      "duration                     5028 non-null float64\n",
      "director_facebook_likes      4939 non-null float64\n",
      "actor_3_facebook_likes       5020 non-null float64\n",
      "actor_2_name                 5030 non-null object\n",
      "actor_1_facebook_likes       5036 non-null float64\n",
      "gross                        4159 non-null float64\n",
      "genres                       5043 non-null object\n",
      "actor_1_name                 5036 non-null object\n",
      "movie_title                  5043 non-null object\n",
      "num_voted_users              5043 non-null int64\n",
      "cast_total_facebook_likes    5043 non-null int64\n",
      "actor_3_name                 5020 non-null object\n",
      "facenumber_in_poster         5030 non-null float64\n",
      "plot_keywords                4890 non-null object\n",
      "movie_imdb_link              5043 non-null object\n",
      "num_user_for_reviews         5022 non-null float64\n",
      "language                     5031 non-null object\n",
      "country                      5038 non-null object\n",
      "content_rating               4740 non-null object\n",
      "budget                       4551 non-null float64\n",
      "title_year                   4935 non-null float64\n",
      "actor_2_facebook_likes       5030 non-null float64\n",
      "imdb_score                   5043 non-null float64\n",
      "aspect_ratio                 4714 non-null float64\n",
      "movie_facebook_likes         5043 non-null int64\n",
      "dtypes: float64(13), int64(3), object(12)\n",
      "memory usage: 1.1+ MB\n"
     ]
    }
   ],
   "source": [
    "df.info()"
   ]
  },
  {
   "cell_type": "code",
   "execution_count": 31,
   "metadata": {},
   "outputs": [
    {
     "data": {
      "text/plain": [
       "5043"
      ]
     },
     "execution_count": 31,
     "metadata": {},
     "output_type": "execute_result"
    }
   ],
   "source": [
    "len(df)"
   ]
  },
  {
   "cell_type": "code",
   "execution_count": 50,
   "metadata": {
    "collapsed": true,
    "jupyter": {
     "outputs_hidden": true
    }
   },
   "outputs": [
    {
     "data": {
      "text/plain": [
       "color                         19\n",
       "director_name                104\n",
       "num_critic_for_reviews        50\n",
       "duration                      15\n",
       "director_facebook_likes      104\n",
       "actor_3_facebook_likes        23\n",
       "actor_2_name                  13\n",
       "actor_1_facebook_likes         7\n",
       "gross                        884\n",
       "genres                         0\n",
       "actor_1_name                   7\n",
       "movie_title                    0\n",
       "num_voted_users                0\n",
       "cast_total_facebook_likes      0\n",
       "actor_3_name                  23\n",
       "facenumber_in_poster          13\n",
       "plot_keywords                153\n",
       "movie_imdb_link                0\n",
       "num_user_for_reviews          21\n",
       "language                      12\n",
       "country                        5\n",
       "content_rating               303\n",
       "budget                       492\n",
       "title_year                   108\n",
       "actor_2_facebook_likes        13\n",
       "imdb_score                     0\n",
       "aspect_ratio                 329\n",
       "movie_facebook_likes           0\n",
       "dtype: int64"
      ]
     },
     "execution_count": 50,
     "metadata": {},
     "output_type": "execute_result"
    }
   ],
   "source": [
    "df.isnull().sum(axis=0)"
   ]
  },
  {
   "cell_type": "code",
   "execution_count": 177,
   "metadata": {},
   "outputs": [],
   "source": [
    "df2 = df[['color','director_name', 'num_critic_for_reviews','duration','director_facebook_likes','actor_3_facebook_likes','actor_2_name',\n",
    "          'actor_1_facebook_likes','gross','genres', 'actor_1_name','actor_3_name','movie_title','facenumber_in_poster',\n",
    "         'plot_keywords','num_user_for_reviews','language' ,\n",
    "         'country','content_rating','budget','title_year','actor_2_facebook_likes',\n",
    "         'aspect_ratio','imdb_score','movie_imdb_link','movie_facebook_likes']].dropna()"
   ]
  },
  {
   "cell_type": "code",
   "execution_count": 178,
   "metadata": {
    "collapsed": true,
    "jupyter": {
     "outputs_hidden": true
    }
   },
   "outputs": [
    {
     "name": "stdout",
     "output_type": "stream",
     "text": [
      "<class 'pandas.core.frame.DataFrame'>\n",
      "Int64Index: 3756 entries, 0 to 5042\n",
      "Data columns (total 26 columns):\n",
      "color                      3756 non-null object\n",
      "director_name              3756 non-null object\n",
      "num_critic_for_reviews     3756 non-null float64\n",
      "duration                   3756 non-null float64\n",
      "director_facebook_likes    3756 non-null float64\n",
      "actor_3_facebook_likes     3756 non-null float64\n",
      "actor_2_name               3756 non-null object\n",
      "actor_1_facebook_likes     3756 non-null float64\n",
      "gross                      3756 non-null float64\n",
      "genres                     3756 non-null object\n",
      "actor_1_name               3756 non-null object\n",
      "actor_3_name               3756 non-null object\n",
      "movie_title                3756 non-null object\n",
      "facenumber_in_poster       3756 non-null float64\n",
      "plot_keywords              3756 non-null object\n",
      "num_user_for_reviews       3756 non-null float64\n",
      "language                   3756 non-null object\n",
      "country                    3756 non-null object\n",
      "content_rating             3756 non-null object\n",
      "budget                     3756 non-null float64\n",
      "title_year                 3756 non-null float64\n",
      "actor_2_facebook_likes     3756 non-null float64\n",
      "aspect_ratio               3756 non-null float64\n",
      "imdb_score                 3756 non-null float64\n",
      "movie_imdb_link            3756 non-null object\n",
      "movie_facebook_likes       3756 non-null int64\n",
      "dtypes: float64(13), int64(1), object(12)\n",
      "memory usage: 792.3+ KB\n"
     ]
    }
   ],
   "source": [
    "df2.info()"
   ]
  },
  {
   "cell_type": "code",
   "execution_count": null,
   "metadata": {},
   "outputs": [],
   "source": [
    "df2 = df.drop_duplicates()"
   ]
  },
  {
   "cell_type": "markdown",
   "metadata": {},
   "source": [
    "可视化基础分析"
   ]
  },
  {
   "cell_type": "code",
   "execution_count": 200,
   "metadata": {},
   "outputs": [
    {
     "data": {
      "text/html": [
       "<div>\n",
       "<style scoped>\n",
       "    .dataframe tbody tr th:only-of-type {\n",
       "        vertical-align: middle;\n",
       "    }\n",
       "\n",
       "    .dataframe tbody tr th {\n",
       "        vertical-align: top;\n",
       "    }\n",
       "\n",
       "    .dataframe thead th {\n",
       "        text-align: right;\n",
       "    }\n",
       "</style>\n",
       "<table border=\"1\" class=\"dataframe\">\n",
       "  <thead>\n",
       "    <tr style=\"text-align: right;\">\n",
       "      <th></th>\n",
       "      <th>movie_title</th>\n",
       "      <th>budget</th>\n",
       "    </tr>\n",
       "  </thead>\n",
       "  <tbody>\n",
       "    <tr>\n",
       "      <th>0</th>\n",
       "      <td>Avatar</td>\n",
       "      <td>237000000.0</td>\n",
       "    </tr>\n",
       "    <tr>\n",
       "      <th>26</th>\n",
       "      <td>Titanic</td>\n",
       "      <td>200000000.0</td>\n",
       "    </tr>\n",
       "    <tr>\n",
       "      <th>29</th>\n",
       "      <td>Jurassic World</td>\n",
       "      <td>150000000.0</td>\n",
       "    </tr>\n",
       "    <tr>\n",
       "      <th>794</th>\n",
       "      <td>The Avengers</td>\n",
       "      <td>220000000.0</td>\n",
       "    </tr>\n",
       "    <tr>\n",
       "      <th>17</th>\n",
       "      <td>The Avengers</td>\n",
       "      <td>220000000.0</td>\n",
       "    </tr>\n",
       "    <tr>\n",
       "      <th>66</th>\n",
       "      <td>The Dark Knight</td>\n",
       "      <td>185000000.0</td>\n",
       "    </tr>\n",
       "    <tr>\n",
       "      <th>240</th>\n",
       "      <td>Star Wars: Episode I - The Phantom Menace</td>\n",
       "      <td>115000000.0</td>\n",
       "    </tr>\n",
       "    <tr>\n",
       "      <th>3024</th>\n",
       "      <td>Star Wars: Episode IV - A New Hope</td>\n",
       "      <td>11000000.0</td>\n",
       "    </tr>\n",
       "    <tr>\n",
       "      <th>8</th>\n",
       "      <td>Avengers: Age of Ultron</td>\n",
       "      <td>250000000.0</td>\n",
       "    </tr>\n",
       "    <tr>\n",
       "      <th>3</th>\n",
       "      <td>The Dark Knight Rises</td>\n",
       "      <td>250000000.0</td>\n",
       "    </tr>\n",
       "  </tbody>\n",
       "</table>\n",
       "</div>"
      ],
      "text/plain": [
       "                                     movie_title       budget\n",
       "0                                        Avatar   237000000.0\n",
       "26                                      Titanic   200000000.0\n",
       "29                               Jurassic World   150000000.0\n",
       "794                                The Avengers   220000000.0\n",
       "17                                 The Avengers   220000000.0\n",
       "66                              The Dark Knight   185000000.0\n",
       "240   Star Wars: Episode I - The Phantom Menace   115000000.0\n",
       "3024         Star Wars: Episode IV - A New Hope    11000000.0\n",
       "8                       Avengers: Age of Ultron   250000000.0\n",
       "3                         The Dark Knight Rises   250000000.0"
      ]
     },
     "execution_count": 200,
     "metadata": {},
     "output_type": "execute_result"
    }
   ],
   "source": [
    "#票房最好\n",
    "df2.sort_values('gross', ascending=False)[['movie_title', 'budget']][0:10]"
   ]
  },
  {
   "cell_type": "code",
   "execution_count": 202,
   "metadata": {},
   "outputs": [
    {
     "data": {
      "text/plain": [
       "<matplotlib.axes._subplots.AxesSubplot at 0x16ab81dc128>"
      ]
     },
     "execution_count": 202,
     "metadata": {},
     "output_type": "execute_result"
    },
    {
     "data": {
      "image/png": "[encoded data removed]",
      "text/plain": [
       "<Figure size 432x288 with 1 Axes>"
      ]
     },
     "metadata": {
      "needs_background": "light"
     },
     "output_type": "display_data"
    }
   ],
   "source": [
    "vote_by_year = df2.groupby('title_year').num_user_for_reviews.mean()\n",
    "vote_by_year.plot(title = 'Evolution of Average Review')"
   ]
  },
  {
   "cell_type": "code",
   "execution_count": 199,
   "metadata": {},
   "outputs": [
    {
     "data": {
      "text/plain": [
       "<matplotlib.axes._subplots.AxesSubplot at 0x16ab8055898>"
      ]
     },
     "execution_count": 199,
     "metadata": {},
     "output_type": "execute_result"
    },
    {
     "data": {
      "image/png": "[encoded data removed]",
      "text/plain": [
       "<Figure size 432x288 with 2 Axes>"
      ]
     },
     "metadata": {
      "needs_background": "light"
     },
     "output_type": "display_data"
    }
   ],
   "source": [
    "#票房分析\n",
    "popularity = df3[['budget','gross','title_year','imdb_score','num_critic_for_reviews']]\n",
    "sns.heatmap(popularity.corr(), annot=True, vmax=1, square=True, cmap=\"Blues\")\n",
    "#票房与预算、评论数的相关性较大，但评论数和票房一样，只能等到电影上映后才知道具体数值。\n",
    "#评分与票房、预算、热度、评论数的相关性都不大。"
   ]
  },
  {
   "cell_type": "code",
   "execution_count": 195,
   "metadata": {},
   "outputs": [],
   "source": [
    "revenue_of_director = df2\n",
    "revenue_of_director = revenue_of_director.groupby('director_name').gross.mean()"
   ]
  },
  {
   "cell_type": "code",
   "execution_count": 197,
   "metadata": {},
   "outputs": [
    {
     "data": {
      "text/plain": [
       "<matplotlib.axes._subplots.AxesSubplot at 0x16ab7f48940>"
      ]
     },
     "execution_count": 197,
     "metadata": {},
     "output_type": "execute_result"
    },
    {
     "data": {
      "image/png": "[encoded data removed]",
      "text/plain": [
       "<Figure size 576x216 with 1 Axes>"
      ]
     },
     "metadata": {
      "needs_background": "light"
     },
     "output_type": "display_data"
    }
   ],
   "source": [
    "revenue_of_director.hist(bins=100, figsize=(8,3))\n",
    "#典型的长尾分布，极少数导演的吸金能力特别强."
   ]
  },
  {
   "cell_type": "code",
   "execution_count": 196,
   "metadata": {},
   "outputs": [
    {
     "data": {
      "text/plain": [
       "<matplotlib.axes._subplots.AxesSubplot at 0x16ab7ec5828>"
      ]
     },
     "execution_count": 196,
     "metadata": {},
     "output_type": "execute_result"
    },
    {
     "data": {
      "image/png": "[encoded data removed]",
      "text/plain": [
       "<Figure size 432x288 with 1 Axes>"
      ]
     },
     "metadata": {
      "needs_background": "light"
     },
     "output_type": "display_data"
    }
   ],
   "source": [
    "revenue_of_director.sort_values().tail(10).plot(kind = 'barh', title = 'Directors with Top Revenue')\n",
    "#卡梅隆导演一枝独秀，由他执导的影片的票房远远超过了其他导演。第二至四名都是动画片导演，从前面的分析我们已得知，动画片是平均票房最高的影片类型，因此这几位导演未必真的比拍其他类型影片的导演更有吸金能力，而可能只是有动画片这个类型的加成。若要排除类型的干扰，可以分类型进行排序。例如，我们看一下科幻片中吸金能力最强的导演："
   ]
  },
  {
   "cell_type": "code",
   "execution_count": 192,
   "metadata": {},
   "outputs": [],
   "source": [
    "revenue_of_actor = df2\n",
    "revenue_of_actor = revenue_of_actor.groupby('actor_1_name').gross.mean()"
   ]
  },
  {
   "cell_type": "code",
   "execution_count": 193,
   "metadata": {},
   "outputs": [
    {
     "data": {
      "text/plain": [
       "<matplotlib.axes._subplots.AxesSubplot at 0x16ab7db76a0>"
      ]
     },
     "execution_count": 193,
     "metadata": {},
     "output_type": "execute_result"
    },
    {
     "data": {
      "image/png": "[encoded data removed]",
      "text/plain": [
       "<Figure size 432x288 with 1 Axes>"
      ]
     },
     "metadata": {
      "needs_background": "light"
     },
     "output_type": "display_data"
    }
   ],
   "source": [
    "revenue_of_actor.sort_values().tail(10).plot(kind = 'barh', title = 'Actor with Top Revenue')\n"
   ]
  },
  {
   "cell_type": "code",
   "execution_count": 191,
   "metadata": {},
   "outputs": [
    {
     "data": {
      "text/plain": [
       "<matplotlib.axes._subplots.AxesSubplot at 0x16ab7dbf2b0>"
      ]
     },
     "execution_count": 191,
     "metadata": {},
     "output_type": "execute_result"
    },
    {
     "data": {
      "image/png": "[encoded data removed]",
      "text/plain": [
       "<Figure size 432x288 with 1 Axes>"
      ]
     },
     "metadata": {
      "needs_background": "light"
     },
     "output_type": "display_data"
    }
   ],
   "source": [
    "vote_of_director = df2.groupby('director_name').imdb_score.mean()    #平均评分\n",
    "vote_of_director.hist()"
   ]
  },
  {
   "cell_type": "code",
   "execution_count": 187,
   "metadata": {},
   "outputs": [
    {
     "data": {
      "text/plain": [
       "<matplotlib.axes._subplots.AxesSubplot at 0x16ab6c7e5f8>"
      ]
     },
     "execution_count": 187,
     "metadata": {},
     "output_type": "execute_result"
    },
    {
     "data": {
      "image/png": "[encoded data removed]",
      "text/plain": [
       "<Figure size 432x288 with 1 Axes>"
      ]
     },
     "metadata": {
      "needs_background": "light"
     },
     "output_type": "display_data"
    }
   ],
   "source": [
    "vote_of_actor = df2.groupby('actor_1_name').imdb_score.mean()    #平均评分\n",
    "vote_of_actor.hist()"
   ]
  },
  {
   "cell_type": "code",
   "execution_count": 194,
   "metadata": {},
   "outputs": [
    {
     "data": {
      "text/html": [
       "<div>\n",
       "<style scoped>\n",
       "    .dataframe tbody tr th:only-of-type {\n",
       "        vertical-align: middle;\n",
       "    }\n",
       "\n",
       "    .dataframe tbody tr th {\n",
       "        vertical-align: top;\n",
       "    }\n",
       "\n",
       "    .dataframe thead th {\n",
       "        text-align: right;\n",
       "    }\n",
       "</style>\n",
       "<table border=\"1\" class=\"dataframe\">\n",
       "  <thead>\n",
       "    <tr style=\"text-align: right;\">\n",
       "      <th></th>\n",
       "      <th>content_rating</th>\n",
       "    </tr>\n",
       "  </thead>\n",
       "  <tbody>\n",
       "    <tr>\n",
       "      <th>1937</th>\n",
       "      <td>R</td>\n",
       "    </tr>\n",
       "    <tr>\n",
       "      <th>3466</th>\n",
       "      <td>R</td>\n",
       "    </tr>\n",
       "    <tr>\n",
       "      <th>66</th>\n",
       "      <td>PG-13</td>\n",
       "    </tr>\n",
       "    <tr>\n",
       "      <th>2837</th>\n",
       "      <td>R</td>\n",
       "    </tr>\n",
       "    <tr>\n",
       "      <th>339</th>\n",
       "      <td>PG-13</td>\n",
       "    </tr>\n",
       "    <tr>\n",
       "      <th>4498</th>\n",
       "      <td>Approved</td>\n",
       "    </tr>\n",
       "    <tr>\n",
       "      <th>1874</th>\n",
       "      <td>R</td>\n",
       "    </tr>\n",
       "    <tr>\n",
       "      <th>3355</th>\n",
       "      <td>R</td>\n",
       "    </tr>\n",
       "    <tr>\n",
       "      <th>836</th>\n",
       "      <td>PG-13</td>\n",
       "    </tr>\n",
       "    <tr>\n",
       "      <th>270</th>\n",
       "      <td>PG-13</td>\n",
       "    </tr>\n",
       "  </tbody>\n",
       "</table>\n",
       "</div>"
      ],
      "text/plain": [
       "     content_rating\n",
       "1937              R\n",
       "3466              R\n",
       "66            PG-13\n",
       "2837              R\n",
       "339           PG-13\n",
       "4498       Approved\n",
       "1874              R\n",
       "3355              R\n",
       "836           PG-13\n",
       "270           PG-13"
      ]
     },
     "execution_count": 194,
     "metadata": {},
     "output_type": "execute_result"
    }
   ],
   "source": [
    "df2.sort_values('imdb_score', ascending=False)[['content_rating']][0:10]"
   ]
  },
  {
   "cell_type": "code",
   "execution_count": 206,
   "metadata": {},
   "outputs": [],
   "source": [
    "df2['color'] = df2['color'].astype('category')\n",
    "df2['color'] = df2['color'].cat.codes"
   ]
  },
  {
   "cell_type": "code",
   "execution_count": 207,
   "metadata": {},
   "outputs": [],
   "source": [
    "df2['director_name'] = df2['director_name'].astype('category')\n",
    "df2['director_name'] = df2['director_name'].cat.codes"
   ]
  },
  {
   "cell_type": "code",
   "execution_count": 208,
   "metadata": {},
   "outputs": [],
   "source": [
    "df2['actor_1_name'] = df2['actor_1_name'].astype('category')\n",
    "df2['actor_1_name'] = df2['actor_1_name'].cat.codes\n",
    "df2['actor_2_name'] = df2['actor_2_name'].astype('category')\n",
    "df2['actor_2_name'] = df2['actor_2_name'].cat.codes\n",
    "df2['actor_3_name'] = df2['actor_3_name'].astype('category')\n",
    "df2['actor_3_name'] = df2['actor_3_name'].cat.codes\n",
    "df2['language'] = df2['language'].astype('category')\n",
    "df2['language'] = df2['language'].cat.codes"
   ]
  },
  {
   "cell_type": "code",
   "execution_count": 209,
   "metadata": {},
   "outputs": [],
   "source": [
    "df2['imdb_score'] = df2['imdb_score'].astype('category')\n",
    "df2['imdb_score'] = df2['imdb_score'].cat.codes\n",
    "df2['aspect_ratio'] = df2['aspect_ratio'].astype('category')\n",
    "df2['aspect_ratio'] = df2['aspect_ratio'].cat.codes"
   ]
  },
  {
   "cell_type": "code",
   "execution_count": 210,
   "metadata": {},
   "outputs": [],
   "source": [
    "df2['country'] = df2['country'].astype('category')\n",
    "df2['country'] = df2['country'].cat.codes"
   ]
  },
  {
   "cell_type": "code",
   "execution_count": 211,
   "metadata": {},
   "outputs": [],
   "source": [
    "df2['content_rating'] = df2['content_rating'].astype('category')\n",
    "df2['content_rating'] = df2['content_rating'].cat.codes"
   ]
  },
  {
   "cell_type": "code",
   "execution_count": 212,
   "metadata": {},
   "outputs": [],
   "source": [
    "df2['num_user_for_reviews'] = df2['num_user_for_reviews'].astype('float64')"
   ]
  },
  {
   "cell_type": "code",
   "execution_count": 213,
   "metadata": {},
   "outputs": [],
   "source": [
    "#都是来自同一网站\n",
    "df2=df2.drop(columns=['movie_imdb_link'])"
   ]
  },
  {
   "cell_type": "code",
   "execution_count": 217,
   "metadata": {},
   "outputs": [],
   "source": [
    "#存在随机性\n",
    "df2=df2.drop(columns=['movie_title'])"
   ]
  },
  {
   "cell_type": "code",
   "execution_count": 218,
   "metadata": {},
   "outputs": [
    {
     "name": "stdout",
     "output_type": "stream",
     "text": [
      "<class 'pandas.core.frame.DataFrame'>\n",
      "Int64Index: 3756 entries, 0 to 5042\n",
      "Data columns (total 23 columns):\n",
      "color                      3756 non-null int8\n",
      "director_name              3756 non-null int16\n",
      "num_critic_for_reviews     3756 non-null float64\n",
      "duration                   3756 non-null float64\n",
      "director_facebook_likes    3756 non-null float64\n",
      "actor_3_facebook_likes     3756 non-null float64\n",
      "actor_2_name               3756 non-null int16\n",
      "actor_1_facebook_likes     3756 non-null float64\n",
      "gross                      3756 non-null float64\n",
      "genres                     3756 non-null object\n",
      "actor_1_name               3756 non-null int16\n",
      "actor_3_name               3756 non-null int16\n",
      "facenumber_in_poster       3756 non-null float64\n",
      "num_user_for_reviews       3756 non-null float64\n",
      "language                   3756 non-null int8\n",
      "country                    3756 non-null int8\n",
      "content_rating             3756 non-null int8\n",
      "budget                     3756 non-null float64\n",
      "title_year                 3756 non-null float64\n",
      "actor_2_facebook_likes     3756 non-null float64\n",
      "aspect_ratio               3756 non-null int8\n",
      "imdb_score                 3756 non-null int8\n",
      "movie_facebook_likes       3756 non-null int64\n",
      "dtypes: float64(11), int16(4), int64(1), int8(6), object(1)\n",
      "memory usage: 462.2+ KB\n"
     ]
    }
   ],
   "source": [
    "df2.info()"
   ]
  },
  {
   "cell_type": "code",
   "execution_count": 219,
   "metadata": {},
   "outputs": [
    {
     "data": {
      "text/html": [
       "<div>\n",
       "<style scoped>\n",
       "    .dataframe tbody tr th:only-of-type {\n",
       "        vertical-align: middle;\n",
       "    }\n",
       "\n",
       "    .dataframe tbody tr th {\n",
       "        vertical-align: top;\n",
       "    }\n",
       "\n",
       "    .dataframe thead th {\n",
       "        text-align: right;\n",
       "    }\n",
       "</style>\n",
       "<table border=\"1\" class=\"dataframe\">\n",
       "  <thead>\n",
       "    <tr style=\"text-align: right;\">\n",
       "      <th></th>\n",
       "      <th>color</th>\n",
       "      <th>director_name</th>\n",
       "      <th>num_critic_for_reviews</th>\n",
       "      <th>duration</th>\n",
       "      <th>director_facebook_likes</th>\n",
       "      <th>actor_3_facebook_likes</th>\n",
       "      <th>actor_2_name</th>\n",
       "      <th>actor_1_facebook_likes</th>\n",
       "      <th>gross</th>\n",
       "      <th>actor_1_name</th>\n",
       "      <th>...</th>\n",
       "      <th>num_user_for_reviews</th>\n",
       "      <th>language</th>\n",
       "      <th>country</th>\n",
       "      <th>content_rating</th>\n",
       "      <th>budget</th>\n",
       "      <th>title_year</th>\n",
       "      <th>actor_2_facebook_likes</th>\n",
       "      <th>aspect_ratio</th>\n",
       "      <th>imdb_score</th>\n",
       "      <th>movie_facebook_likes</th>\n",
       "    </tr>\n",
       "  </thead>\n",
       "  <tbody>\n",
       "    <tr>\n",
       "      <th>count</th>\n",
       "      <td>3756.000000</td>\n",
       "      <td>3756.000000</td>\n",
       "      <td>3756.000000</td>\n",
       "      <td>3756.000000</td>\n",
       "      <td>3756.000000</td>\n",
       "      <td>3756.000000</td>\n",
       "      <td>3756.000000</td>\n",
       "      <td>3756.000000</td>\n",
       "      <td>3.756000e+03</td>\n",
       "      <td>3756.000000</td>\n",
       "      <td>...</td>\n",
       "      <td>3756.000000</td>\n",
       "      <td>3756.000000</td>\n",
       "      <td>3756.000000</td>\n",
       "      <td>3756.000000</td>\n",
       "      <td>3.756000e+03</td>\n",
       "      <td>3756.000000</td>\n",
       "      <td>3756.000000</td>\n",
       "      <td>3756.000000</td>\n",
       "      <td>3756.000000</td>\n",
       "      <td>3756.000000</td>\n",
       "    </tr>\n",
       "    <tr>\n",
       "      <th>mean</th>\n",
       "      <td>0.966986</td>\n",
       "      <td>858.290202</td>\n",
       "      <td>167.378328</td>\n",
       "      <td>110.257987</td>\n",
       "      <td>807.336528</td>\n",
       "      <td>771.279553</td>\n",
       "      <td>1090.030618</td>\n",
       "      <td>7751.338658</td>\n",
       "      <td>5.261282e+07</td>\n",
       "      <td>714.665335</td>\n",
       "      <td>...</td>\n",
       "      <td>336.843184</td>\n",
       "      <td>9.353301</td>\n",
       "      <td>39.658679</td>\n",
       "      <td>7.586528</td>\n",
       "      <td>4.623685e+07</td>\n",
       "      <td>2002.976571</td>\n",
       "      <td>2021.775825</td>\n",
       "      <td>9.988285</td>\n",
       "      <td>45.656550</td>\n",
       "      <td>9353.829340</td>\n",
       "    </tr>\n",
       "    <tr>\n",
       "      <th>std</th>\n",
       "      <td>0.178696</td>\n",
       "      <td>484.588350</td>\n",
       "      <td>123.452040</td>\n",
       "      <td>22.646717</td>\n",
       "      <td>3068.171683</td>\n",
       "      <td>1894.249869</td>\n",
       "      <td>638.211500</td>\n",
       "      <td>15519.339621</td>\n",
       "      <td>7.031787e+07</td>\n",
       "      <td>406.199250</td>\n",
       "      <td>...</td>\n",
       "      <td>411.227368</td>\n",
       "      <td>2.434668</td>\n",
       "      <td>9.484312</td>\n",
       "      <td>1.683861</td>\n",
       "      <td>2.260103e+08</td>\n",
       "      <td>9.888108</td>\n",
       "      <td>4544.908236</td>\n",
       "      <td>2.370451</td>\n",
       "      <td>10.543663</td>\n",
       "      <td>21462.889123</td>\n",
       "    </tr>\n",
       "    <tr>\n",
       "      <th>min</th>\n",
       "      <td>0.000000</td>\n",
       "      <td>0.000000</td>\n",
       "      <td>2.000000</td>\n",
       "      <td>37.000000</td>\n",
       "      <td>0.000000</td>\n",
       "      <td>0.000000</td>\n",
       "      <td>0.000000</td>\n",
       "      <td>0.000000</td>\n",
       "      <td>1.620000e+02</td>\n",
       "      <td>0.000000</td>\n",
       "      <td>...</td>\n",
       "      <td>4.000000</td>\n",
       "      <td>0.000000</td>\n",
       "      <td>0.000000</td>\n",
       "      <td>0.000000</td>\n",
       "      <td>2.180000e+02</td>\n",
       "      <td>1927.000000</td>\n",
       "      <td>0.000000</td>\n",
       "      <td>0.000000</td>\n",
       "      <td>0.000000</td>\n",
       "      <td>0.000000</td>\n",
       "    </tr>\n",
       "    <tr>\n",
       "      <th>25%</th>\n",
       "      <td>1.000000</td>\n",
       "      <td>442.000000</td>\n",
       "      <td>77.000000</td>\n",
       "      <td>96.000000</td>\n",
       "      <td>11.000000</td>\n",
       "      <td>194.000000</td>\n",
       "      <td>535.000000</td>\n",
       "      <td>745.000000</td>\n",
       "      <td>8.270233e+06</td>\n",
       "      <td>362.000000</td>\n",
       "      <td>...</td>\n",
       "      <td>110.000000</td>\n",
       "      <td>9.000000</td>\n",
       "      <td>43.000000</td>\n",
       "      <td>7.000000</td>\n",
       "      <td>1.000000e+07</td>\n",
       "      <td>1999.000000</td>\n",
       "      <td>384.750000</td>\n",
       "      <td>8.000000</td>\n",
       "      <td>40.000000</td>\n",
       "      <td>0.000000</td>\n",
       "    </tr>\n",
       "    <tr>\n",
       "      <th>50%</th>\n",
       "      <td>1.000000</td>\n",
       "      <td>872.000000</td>\n",
       "      <td>138.500000</td>\n",
       "      <td>106.000000</td>\n",
       "      <td>64.000000</td>\n",
       "      <td>436.000000</td>\n",
       "      <td>1080.500000</td>\n",
       "      <td>1000.000000</td>\n",
       "      <td>3.009311e+07</td>\n",
       "      <td>711.500000</td>\n",
       "      <td>...</td>\n",
       "      <td>210.000000</td>\n",
       "      <td>9.000000</td>\n",
       "      <td>43.000000</td>\n",
       "      <td>7.000000</td>\n",
       "      <td>2.500000e+07</td>\n",
       "      <td>2004.000000</td>\n",
       "      <td>685.500000</td>\n",
       "      <td>12.000000</td>\n",
       "      <td>47.000000</td>\n",
       "      <td>227.000000</td>\n",
       "    </tr>\n",
       "    <tr>\n",
       "      <th>75%</th>\n",
       "      <td>1.000000</td>\n",
       "      <td>1298.250000</td>\n",
       "      <td>224.000000</td>\n",
       "      <td>120.000000</td>\n",
       "      <td>235.000000</td>\n",
       "      <td>691.000000</td>\n",
       "      <td>1646.000000</td>\n",
       "      <td>13000.000000</td>\n",
       "      <td>6.688194e+07</td>\n",
       "      <td>1057.250000</td>\n",
       "      <td>...</td>\n",
       "      <td>398.250000</td>\n",
       "      <td>9.000000</td>\n",
       "      <td>43.000000</td>\n",
       "      <td>9.000000</td>\n",
       "      <td>5.000000e+07</td>\n",
       "      <td>2010.000000</td>\n",
       "      <td>976.000000</td>\n",
       "      <td>12.000000</td>\n",
       "      <td>53.000000</td>\n",
       "      <td>11000.000000</td>\n",
       "    </tr>\n",
       "    <tr>\n",
       "      <th>max</th>\n",
       "      <td>1.000000</td>\n",
       "      <td>1658.000000</td>\n",
       "      <td>813.000000</td>\n",
       "      <td>330.000000</td>\n",
       "      <td>23000.000000</td>\n",
       "      <td>23000.000000</td>\n",
       "      <td>2187.000000</td>\n",
       "      <td>640000.000000</td>\n",
       "      <td>7.605058e+08</td>\n",
       "      <td>1427.000000</td>\n",
       "      <td>...</td>\n",
       "      <td>5060.000000</td>\n",
       "      <td>33.000000</td>\n",
       "      <td>44.000000</td>\n",
       "      <td>11.000000</td>\n",
       "      <td>1.221550e+10</td>\n",
       "      <td>2016.000000</td>\n",
       "      <td>137000.000000</td>\n",
       "      <td>17.000000</td>\n",
       "      <td>73.000000</td>\n",
       "      <td>349000.000000</td>\n",
       "    </tr>\n",
       "  </tbody>\n",
       "</table>\n",
       "<p>8 rows × 22 columns</p>\n",
       "</div>"
      ],
      "text/plain": [
       "             color  director_name  num_critic_for_reviews     duration  \\\n",
       "count  3756.000000    3756.000000             3756.000000  3756.000000   \n",
       "mean      0.966986     858.290202              167.378328   110.257987   \n",
       "std       0.178696     484.588350              123.452040    22.646717   \n",
       "min       0.000000       0.000000                2.000000    37.000000   \n",
       "25%       1.000000     442.000000               77.000000    96.000000   \n",
       "50%       1.000000     872.000000              138.500000   106.000000   \n",
       "75%       1.000000    1298.250000              224.000000   120.000000   \n",
       "max       1.000000    1658.000000              813.000000   330.000000   \n",
       "\n",
       "       director_facebook_likes  actor_3_facebook_likes  actor_2_name  \\\n",
       "count              3756.000000             3756.000000   3756.000000   \n",
       "mean                807.336528              771.279553   1090.030618   \n",
       "std                3068.171683             1894.249869    638.211500   \n",
       "min                   0.000000                0.000000      0.000000   \n",
       "25%                  11.000000              194.000000    535.000000   \n",
       "50%                  64.000000              436.000000   1080.500000   \n",
       "75%                 235.000000              691.000000   1646.000000   \n",
       "max               23000.000000            23000.000000   2187.000000   \n",
       "\n",
       "       actor_1_facebook_likes         gross  actor_1_name  \\\n",
       "count             3756.000000  3.756000e+03   3756.000000   \n",
       "mean              7751.338658  5.261282e+07    714.665335   \n",
       "std              15519.339621  7.031787e+07    406.199250   \n",
       "min                  0.000000  1.620000e+02      0.000000   \n",
       "25%                745.000000  8.270233e+06    362.000000   \n",
       "50%               1000.000000  3.009311e+07    711.500000   \n",
       "75%              13000.000000  6.688194e+07   1057.250000   \n",
       "max             640000.000000  7.605058e+08   1427.000000   \n",
       "\n",
       "               ...           num_user_for_reviews     language      country  \\\n",
       "count          ...                    3756.000000  3756.000000  3756.000000   \n",
       "mean           ...                     336.843184     9.353301    39.658679   \n",
       "std            ...                     411.227368     2.434668     9.484312   \n",
       "min            ...                       4.000000     0.000000     0.000000   \n",
       "25%            ...                     110.000000     9.000000    43.000000   \n",
       "50%            ...                     210.000000     9.000000    43.000000   \n",
       "75%            ...                     398.250000     9.000000    43.000000   \n",
       "max            ...                    5060.000000    33.000000    44.000000   \n",
       "\n",
       "       content_rating        budget   title_year  actor_2_facebook_likes  \\\n",
       "count     3756.000000  3.756000e+03  3756.000000             3756.000000   \n",
       "mean         7.586528  4.623685e+07  2002.976571             2021.775825   \n",
       "std          1.683861  2.260103e+08     9.888108             4544.908236   \n",
       "min          0.000000  2.180000e+02  1927.000000                0.000000   \n",
       "25%          7.000000  1.000000e+07  1999.000000              384.750000   \n",
       "50%          7.000000  2.500000e+07  2004.000000              685.500000   \n",
       "75%          9.000000  5.000000e+07  2010.000000              976.000000   \n",
       "max         11.000000  1.221550e+10  2016.000000           137000.000000   \n",
       "\n",
       "       aspect_ratio   imdb_score  movie_facebook_likes  \n",
       "count   3756.000000  3756.000000           3756.000000  \n",
       "mean       9.988285    45.656550           9353.829340  \n",
       "std        2.370451    10.543663          21462.889123  \n",
       "min        0.000000     0.000000              0.000000  \n",
       "25%        8.000000    40.000000              0.000000  \n",
       "50%       12.000000    47.000000            227.000000  \n",
       "75%       12.000000    53.000000          11000.000000  \n",
       "max       17.000000    73.000000         349000.000000  \n",
       "\n",
       "[8 rows x 22 columns]"
      ]
     },
     "execution_count": 219,
     "metadata": {},
     "output_type": "execute_result"
    }
   ],
   "source": [
    "df2.describe()"
   ]
  },
  {
   "cell_type": "code",
   "execution_count": 220,
   "metadata": {},
   "outputs": [
    {
     "data": {
      "text/html": [
       "<div>\n",
       "<style scoped>\n",
       "    .dataframe tbody tr th:only-of-type {\n",
       "        vertical-align: middle;\n",
       "    }\n",
       "\n",
       "    .dataframe tbody tr th {\n",
       "        vertical-align: top;\n",
       "    }\n",
       "\n",
       "    .dataframe thead th {\n",
       "        text-align: right;\n",
       "    }\n",
       "</style>\n",
       "<table border=\"1\" class=\"dataframe\">\n",
       "  <thead>\n",
       "    <tr style=\"text-align: right;\">\n",
       "      <th></th>\n",
       "      <th>0</th>\n",
       "      <th>1</th>\n",
       "      <th>2</th>\n",
       "      <th>3</th>\n",
       "      <th>4</th>\n",
       "      <th>5</th>\n",
       "      <th>6</th>\n",
       "      <th>7</th>\n",
       "    </tr>\n",
       "  </thead>\n",
       "  <tbody>\n",
       "    <tr>\n",
       "      <th>0</th>\n",
       "      <td>Action</td>\n",
       "      <td>Adventure</td>\n",
       "      <td>Fantasy</td>\n",
       "      <td>Sci-Fi</td>\n",
       "      <td>None</td>\n",
       "      <td>None</td>\n",
       "      <td>None</td>\n",
       "      <td>None</td>\n",
       "    </tr>\n",
       "    <tr>\n",
       "      <th>1</th>\n",
       "      <td>Action</td>\n",
       "      <td>Adventure</td>\n",
       "      <td>Fantasy</td>\n",
       "      <td>None</td>\n",
       "      <td>None</td>\n",
       "      <td>None</td>\n",
       "      <td>None</td>\n",
       "      <td>None</td>\n",
       "    </tr>\n",
       "    <tr>\n",
       "      <th>2</th>\n",
       "      <td>Action</td>\n",
       "      <td>Adventure</td>\n",
       "      <td>Thriller</td>\n",
       "      <td>None</td>\n",
       "      <td>None</td>\n",
       "      <td>None</td>\n",
       "      <td>None</td>\n",
       "      <td>None</td>\n",
       "    </tr>\n",
       "    <tr>\n",
       "      <th>3</th>\n",
       "      <td>Action</td>\n",
       "      <td>Thriller</td>\n",
       "      <td>None</td>\n",
       "      <td>None</td>\n",
       "      <td>None</td>\n",
       "      <td>None</td>\n",
       "      <td>None</td>\n",
       "      <td>None</td>\n",
       "    </tr>\n",
       "    <tr>\n",
       "      <th>5</th>\n",
       "      <td>Action</td>\n",
       "      <td>Adventure</td>\n",
       "      <td>Sci-Fi</td>\n",
       "      <td>None</td>\n",
       "      <td>None</td>\n",
       "      <td>None</td>\n",
       "      <td>None</td>\n",
       "      <td>None</td>\n",
       "    </tr>\n",
       "  </tbody>\n",
       "</table>\n",
       "</div>"
      ],
      "text/plain": [
       "        0          1         2       3     4     5     6     7\n",
       "0  Action  Adventure   Fantasy  Sci-Fi  None  None  None  None\n",
       "1  Action  Adventure   Fantasy    None  None  None  None  None\n",
       "2  Action  Adventure  Thriller    None  None  None  None  None\n",
       "3  Action   Thriller      None    None  None  None  None  None\n",
       "5  Action  Adventure    Sci-Fi    None  None  None  None  None"
      ]
     },
     "execution_count": 220,
     "metadata": {},
     "output_type": "execute_result"
    }
   ],
   "source": [
    "dfg = df2['genres'].str.split('|', expand=True)\n",
    "dfg.head()"
   ]
  },
  {
   "cell_type": "code",
   "execution_count": 221,
   "metadata": {},
   "outputs": [
    {
     "data": {
      "text/html": [
       "<div>\n",
       "<style scoped>\n",
       "    .dataframe tbody tr th:only-of-type {\n",
       "        vertical-align: middle;\n",
       "    }\n",
       "\n",
       "    .dataframe tbody tr th {\n",
       "        vertical-align: top;\n",
       "    }\n",
       "\n",
       "    .dataframe thead th {\n",
       "        text-align: right;\n",
       "    }\n",
       "</style>\n",
       "<table border=\"1\" class=\"dataframe\">\n",
       "  <thead>\n",
       "    <tr style=\"text-align: right;\">\n",
       "      <th></th>\n",
       "      <th>G1</th>\n",
       "      <th>G2</th>\n",
       "      <th>G3</th>\n",
       "      <th>G4</th>\n",
       "      <th>G5</th>\n",
       "      <th>G6</th>\n",
       "      <th>G7</th>\n",
       "      <th>G8</th>\n",
       "    </tr>\n",
       "  </thead>\n",
       "  <tbody>\n",
       "    <tr>\n",
       "      <th>0</th>\n",
       "      <td>Action</td>\n",
       "      <td>Adventure</td>\n",
       "      <td>Fantasy</td>\n",
       "      <td>Sci-Fi</td>\n",
       "      <td>None</td>\n",
       "      <td>None</td>\n",
       "      <td>None</td>\n",
       "      <td>None</td>\n",
       "    </tr>\n",
       "    <tr>\n",
       "      <th>1</th>\n",
       "      <td>Action</td>\n",
       "      <td>Adventure</td>\n",
       "      <td>Fantasy</td>\n",
       "      <td>None</td>\n",
       "      <td>None</td>\n",
       "      <td>None</td>\n",
       "      <td>None</td>\n",
       "      <td>None</td>\n",
       "    </tr>\n",
       "    <tr>\n",
       "      <th>2</th>\n",
       "      <td>Action</td>\n",
       "      <td>Adventure</td>\n",
       "      <td>Thriller</td>\n",
       "      <td>None</td>\n",
       "      <td>None</td>\n",
       "      <td>None</td>\n",
       "      <td>None</td>\n",
       "      <td>None</td>\n",
       "    </tr>\n",
       "    <tr>\n",
       "      <th>3</th>\n",
       "      <td>Action</td>\n",
       "      <td>Thriller</td>\n",
       "      <td>None</td>\n",
       "      <td>None</td>\n",
       "      <td>None</td>\n",
       "      <td>None</td>\n",
       "      <td>None</td>\n",
       "      <td>None</td>\n",
       "    </tr>\n",
       "    <tr>\n",
       "      <th>5</th>\n",
       "      <td>Action</td>\n",
       "      <td>Adventure</td>\n",
       "      <td>Sci-Fi</td>\n",
       "      <td>None</td>\n",
       "      <td>None</td>\n",
       "      <td>None</td>\n",
       "      <td>None</td>\n",
       "      <td>None</td>\n",
       "    </tr>\n",
       "  </tbody>\n",
       "</table>\n",
       "</div>"
      ],
      "text/plain": [
       "       G1         G2        G3      G4    G5    G6    G7    G8\n",
       "0  Action  Adventure   Fantasy  Sci-Fi  None  None  None  None\n",
       "1  Action  Adventure   Fantasy    None  None  None  None  None\n",
       "2  Action  Adventure  Thriller    None  None  None  None  None\n",
       "3  Action   Thriller      None    None  None  None  None  None\n",
       "5  Action  Adventure    Sci-Fi    None  None  None  None  None"
      ]
     },
     "execution_count": 221,
     "metadata": {},
     "output_type": "execute_result"
    }
   ],
   "source": [
    "dfg.rename(columns = {0:\"G1\",1:'G2',2:'G3',3:'G4',4:'G5',5:'G6',6:'G7',7:'G8'},inplace = True)\n",
    "dfg.head()"
   ]
  },
  {
   "cell_type": "code",
   "execution_count": 222,
   "metadata": {},
   "outputs": [],
   "source": [
    "dfg['G1'] = dfg['G1'].astype('category')\n",
    "dfg['G1'] = dfg['G1'].cat.codes\n",
    "dfg['G2'] = dfg['G2'].astype('category')\n",
    "dfg['G2'] = dfg['G2'].cat.codes\n",
    "dfg['G3'] = dfg['G3'].astype('category')\n",
    "dfg['G3'] = dfg['G3'].cat.codes\n",
    "dfg['G4'] = dfg['G4'].astype('category')\n",
    "dfg['G4'] = dfg['G4'].cat.codes\n",
    "dfg['G5'] = dfg['G5'].astype('category')\n",
    "dfg['G5'] = dfg['G5'].cat.codes\n",
    "dfg['G6'] = dfg['G6'].astype('category')\n",
    "dfg['G6'] = dfg['G6'].cat.codes\n",
    "dfg['G7'] = dfg['G7'].astype('category')\n",
    "dfg['G7'] = dfg['G7'].cat.codes\n",
    "dfg['G8'] = dfg['G8'].astype('category')\n",
    "dfg['G8'] = dfg['G8'].cat.codes"
   ]
  },
  {
   "cell_type": "code",
   "execution_count": 223,
   "metadata": {},
   "outputs": [],
   "source": [
    "df3 = pd.concat([df2,dfg],axis=1 )"
   ]
  },
  {
   "cell_type": "code",
   "execution_count": 224,
   "metadata": {},
   "outputs": [
    {
     "name": "stdout",
     "output_type": "stream",
     "text": [
      "<class 'pandas.core.frame.DataFrame'>\n",
      "Int64Index: 3756 entries, 0 to 5042\n",
      "Data columns (total 31 columns):\n",
      "color                      3756 non-null int8\n",
      "director_name              3756 non-null int16\n",
      "num_critic_for_reviews     3756 non-null float64\n",
      "duration                   3756 non-null float64\n",
      "director_facebook_likes    3756 non-null float64\n",
      "actor_3_facebook_likes     3756 non-null float64\n",
      "actor_2_name               3756 non-null int16\n",
      "actor_1_facebook_likes     3756 non-null float64\n",
      "gross                      3756 non-null float64\n",
      "genres                     3756 non-null object\n",
      "actor_1_name               3756 non-null int16\n",
      "actor_3_name               3756 non-null int16\n",
      "facenumber_in_poster       3756 non-null float64\n",
      "num_user_for_reviews       3756 non-null float64\n",
      "language                   3756 non-null int8\n",
      "country                    3756 non-null int8\n",
      "content_rating             3756 non-null int8\n",
      "budget                     3756 non-null float64\n",
      "title_year                 3756 non-null float64\n",
      "actor_2_facebook_likes     3756 non-null float64\n",
      "aspect_ratio               3756 non-null int8\n",
      "imdb_score                 3756 non-null int8\n",
      "movie_facebook_likes       3756 non-null int64\n",
      "G1                         3756 non-null int8\n",
      "G2                         3756 non-null int8\n",
      "G3                         3756 non-null int8\n",
      "G4                         3756 non-null int8\n",
      "G5                         3756 non-null int8\n",
      "G6                         3756 non-null int8\n",
      "G7                         3756 non-null int8\n",
      "G8                         3756 non-null int8\n",
      "dtypes: float64(11), int16(4), int64(1), int8(14), object(1)\n",
      "memory usage: 491.5+ KB\n"
     ]
    }
   ],
   "source": [
    "df3.info()"
   ]
  },
  {
   "cell_type": "code",
   "execution_count": 225,
   "metadata": {},
   "outputs": [],
   "source": [
    "df3=df3.drop(columns=['genres'])"
   ]
  },
  {
   "cell_type": "code",
   "execution_count": 226,
   "metadata": {},
   "outputs": [
    {
     "data": {
      "text/html": [
       "<div>\n",
       "<style scoped>\n",
       "    .dataframe tbody tr th:only-of-type {\n",
       "        vertical-align: middle;\n",
       "    }\n",
       "\n",
       "    .dataframe tbody tr th {\n",
       "        vertical-align: top;\n",
       "    }\n",
       "\n",
       "    .dataframe thead th {\n",
       "        text-align: right;\n",
       "    }\n",
       "</style>\n",
       "<table border=\"1\" class=\"dataframe\">\n",
       "  <thead>\n",
       "    <tr style=\"text-align: right;\">\n",
       "      <th></th>\n",
       "      <th>color</th>\n",
       "      <th>director_name</th>\n",
       "      <th>num_critic_for_reviews</th>\n",
       "      <th>duration</th>\n",
       "      <th>director_facebook_likes</th>\n",
       "      <th>actor_3_facebook_likes</th>\n",
       "      <th>actor_2_name</th>\n",
       "      <th>actor_1_facebook_likes</th>\n",
       "      <th>gross</th>\n",
       "      <th>actor_1_name</th>\n",
       "      <th>...</th>\n",
       "      <th>imdb_score</th>\n",
       "      <th>movie_facebook_likes</th>\n",
       "      <th>G1</th>\n",
       "      <th>G2</th>\n",
       "      <th>G3</th>\n",
       "      <th>G4</th>\n",
       "      <th>G5</th>\n",
       "      <th>G6</th>\n",
       "      <th>G7</th>\n",
       "      <th>G8</th>\n",
       "    </tr>\n",
       "  </thead>\n",
       "  <tbody>\n",
       "    <tr>\n",
       "      <th>count</th>\n",
       "      <td>3756.000000</td>\n",
       "      <td>3756.000000</td>\n",
       "      <td>3756.000000</td>\n",
       "      <td>3756.000000</td>\n",
       "      <td>3756.000000</td>\n",
       "      <td>3756.000000</td>\n",
       "      <td>3756.000000</td>\n",
       "      <td>3756.000000</td>\n",
       "      <td>3.756000e+03</td>\n",
       "      <td>3756.000000</td>\n",
       "      <td>...</td>\n",
       "      <td>3756.000000</td>\n",
       "      <td>3756.000000</td>\n",
       "      <td>3756.000000</td>\n",
       "      <td>3756.000000</td>\n",
       "      <td>3756.000000</td>\n",
       "      <td>3756.000000</td>\n",
       "      <td>3756.000000</td>\n",
       "      <td>3756.000000</td>\n",
       "      <td>3756.000000</td>\n",
       "      <td>3756.000000</td>\n",
       "    </tr>\n",
       "    <tr>\n",
       "      <th>mean</th>\n",
       "      <td>0.966986</td>\n",
       "      <td>858.290202</td>\n",
       "      <td>167.378328</td>\n",
       "      <td>110.257987</td>\n",
       "      <td>807.336528</td>\n",
       "      <td>771.279553</td>\n",
       "      <td>1090.030618</td>\n",
       "      <td>7751.338658</td>\n",
       "      <td>5.261282e+07</td>\n",
       "      <td>714.665335</td>\n",
       "      <td>...</td>\n",
       "      <td>45.656550</td>\n",
       "      <td>9353.829340</td>\n",
       "      <td>3.618211</td>\n",
       "      <td>6.287007</td>\n",
       "      <td>6.709265</td>\n",
       "      <td>2.160543</td>\n",
       "      <td>-0.016241</td>\n",
       "      <td>-0.869808</td>\n",
       "      <td>-0.975772</td>\n",
       "      <td>-0.998669</td>\n",
       "    </tr>\n",
       "    <tr>\n",
       "      <th>std</th>\n",
       "      <td>0.178696</td>\n",
       "      <td>484.588350</td>\n",
       "      <td>123.452040</td>\n",
       "      <td>22.646717</td>\n",
       "      <td>3068.171683</td>\n",
       "      <td>1894.249869</td>\n",
       "      <td>638.211500</td>\n",
       "      <td>15519.339621</td>\n",
       "      <td>7.031787e+07</td>\n",
       "      <td>406.199250</td>\n",
       "      <td>...</td>\n",
       "      <td>10.543663</td>\n",
       "      <td>21462.889123</td>\n",
       "      <td>3.031592</td>\n",
       "      <td>5.287188</td>\n",
       "      <td>7.137279</td>\n",
       "      <td>5.282995</td>\n",
       "      <td>3.203444</td>\n",
       "      <td>0.974691</td>\n",
       "      <td>0.353335</td>\n",
       "      <td>0.048939</td>\n",
       "    </tr>\n",
       "    <tr>\n",
       "      <th>min</th>\n",
       "      <td>0.000000</td>\n",
       "      <td>0.000000</td>\n",
       "      <td>2.000000</td>\n",
       "      <td>37.000000</td>\n",
       "      <td>0.000000</td>\n",
       "      <td>0.000000</td>\n",
       "      <td>0.000000</td>\n",
       "      <td>0.000000</td>\n",
       "      <td>1.620000e+02</td>\n",
       "      <td>0.000000</td>\n",
       "      <td>...</td>\n",
       "      <td>0.000000</td>\n",
       "      <td>0.000000</td>\n",
       "      <td>0.000000</td>\n",
       "      <td>-1.000000</td>\n",
       "      <td>-1.000000</td>\n",
       "      <td>-1.000000</td>\n",
       "      <td>-1.000000</td>\n",
       "      <td>-1.000000</td>\n",
       "      <td>-1.000000</td>\n",
       "      <td>-1.000000</td>\n",
       "    </tr>\n",
       "    <tr>\n",
       "      <th>25%</th>\n",
       "      <td>1.000000</td>\n",
       "      <td>442.000000</td>\n",
       "      <td>77.000000</td>\n",
       "      <td>96.000000</td>\n",
       "      <td>11.000000</td>\n",
       "      <td>194.000000</td>\n",
       "      <td>535.000000</td>\n",
       "      <td>745.000000</td>\n",
       "      <td>8.270233e+06</td>\n",
       "      <td>362.000000</td>\n",
       "      <td>...</td>\n",
       "      <td>40.000000</td>\n",
       "      <td>0.000000</td>\n",
       "      <td>0.000000</td>\n",
       "      <td>3.000000</td>\n",
       "      <td>-1.000000</td>\n",
       "      <td>-1.000000</td>\n",
       "      <td>-1.000000</td>\n",
       "      <td>-1.000000</td>\n",
       "      <td>-1.000000</td>\n",
       "      <td>-1.000000</td>\n",
       "    </tr>\n",
       "    <tr>\n",
       "      <th>50%</th>\n",
       "      <td>1.000000</td>\n",
       "      <td>872.000000</td>\n",
       "      <td>138.500000</td>\n",
       "      <td>106.000000</td>\n",
       "      <td>64.000000</td>\n",
       "      <td>436.000000</td>\n",
       "      <td>1080.500000</td>\n",
       "      <td>1000.000000</td>\n",
       "      <td>3.009311e+07</td>\n",
       "      <td>711.500000</td>\n",
       "      <td>...</td>\n",
       "      <td>47.000000</td>\n",
       "      <td>227.000000</td>\n",
       "      <td>4.000000</td>\n",
       "      <td>6.000000</td>\n",
       "      <td>5.000000</td>\n",
       "      <td>-1.000000</td>\n",
       "      <td>-1.000000</td>\n",
       "      <td>-1.000000</td>\n",
       "      <td>-1.000000</td>\n",
       "      <td>-1.000000</td>\n",
       "    </tr>\n",
       "    <tr>\n",
       "      <th>75%</th>\n",
       "      <td>1.000000</td>\n",
       "      <td>1298.250000</td>\n",
       "      <td>224.000000</td>\n",
       "      <td>120.000000</td>\n",
       "      <td>235.000000</td>\n",
       "      <td>691.000000</td>\n",
       "      <td>1646.000000</td>\n",
       "      <td>13000.000000</td>\n",
       "      <td>6.688194e+07</td>\n",
       "      <td>1057.250000</td>\n",
       "      <td>...</td>\n",
       "      <td>53.000000</td>\n",
       "      <td>11000.000000</td>\n",
       "      <td>5.000000</td>\n",
       "      <td>10.000000</td>\n",
       "      <td>14.000000</td>\n",
       "      <td>4.000000</td>\n",
       "      <td>-1.000000</td>\n",
       "      <td>-1.000000</td>\n",
       "      <td>-1.000000</td>\n",
       "      <td>-1.000000</td>\n",
       "    </tr>\n",
       "    <tr>\n",
       "      <th>max</th>\n",
       "      <td>1.000000</td>\n",
       "      <td>1658.000000</td>\n",
       "      <td>813.000000</td>\n",
       "      <td>330.000000</td>\n",
       "      <td>23000.000000</td>\n",
       "      <td>23000.000000</td>\n",
       "      <td>2187.000000</td>\n",
       "      <td>640000.000000</td>\n",
       "      <td>7.605058e+08</td>\n",
       "      <td>1427.000000</td>\n",
       "      <td>...</td>\n",
       "      <td>73.000000</td>\n",
       "      <td>349000.000000</td>\n",
       "      <td>16.000000</td>\n",
       "      <td>19.000000</td>\n",
       "      <td>19.000000</td>\n",
       "      <td>15.000000</td>\n",
       "      <td>14.000000</td>\n",
       "      <td>10.000000</td>\n",
       "      <td>7.000000</td>\n",
       "      <td>1.000000</td>\n",
       "    </tr>\n",
       "  </tbody>\n",
       "</table>\n",
       "<p>8 rows × 30 columns</p>\n",
       "</div>"
      ],
      "text/plain": [
       "             color  director_name  num_critic_for_reviews     duration  \\\n",
       "count  3756.000000    3756.000000             3756.000000  3756.000000   \n",
       "mean      0.966986     858.290202              167.378328   110.257987   \n",
       "std       0.178696     484.588350              123.452040    22.646717   \n",
       "min       0.000000       0.000000                2.000000    37.000000   \n",
       "25%       1.000000     442.000000               77.000000    96.000000   \n",
       "50%       1.000000     872.000000              138.500000   106.000000   \n",
       "75%       1.000000    1298.250000              224.000000   120.000000   \n",
       "max       1.000000    1658.000000              813.000000   330.000000   \n",
       "\n",
       "       director_facebook_likes  actor_3_facebook_likes  actor_2_name  \\\n",
       "count              3756.000000             3756.000000   3756.000000   \n",
       "mean                807.336528              771.279553   1090.030618   \n",
       "std                3068.171683             1894.249869    638.211500   \n",
       "min                   0.000000                0.000000      0.000000   \n",
       "25%                  11.000000              194.000000    535.000000   \n",
       "50%                  64.000000              436.000000   1080.500000   \n",
       "75%                 235.000000              691.000000   1646.000000   \n",
       "max               23000.000000            23000.000000   2187.000000   \n",
       "\n",
       "       actor_1_facebook_likes         gross  actor_1_name     ...       \\\n",
       "count             3756.000000  3.756000e+03   3756.000000     ...        \n",
       "mean              7751.338658  5.261282e+07    714.665335     ...        \n",
       "std              15519.339621  7.031787e+07    406.199250     ...        \n",
       "min                  0.000000  1.620000e+02      0.000000     ...        \n",
       "25%                745.000000  8.270233e+06    362.000000     ...        \n",
       "50%               1000.000000  3.009311e+07    711.500000     ...        \n",
       "75%              13000.000000  6.688194e+07   1057.250000     ...        \n",
       "max             640000.000000  7.605058e+08   1427.000000     ...        \n",
       "\n",
       "        imdb_score  movie_facebook_likes           G1           G2  \\\n",
       "count  3756.000000           3756.000000  3756.000000  3756.000000   \n",
       "mean     45.656550           9353.829340     3.618211     6.287007   \n",
       "std      10.543663          21462.889123     3.031592     5.287188   \n",
       "min       0.000000              0.000000     0.000000    -1.000000   \n",
       "25%      40.000000              0.000000     0.000000     3.000000   \n",
       "50%      47.000000            227.000000     4.000000     6.000000   \n",
       "75%      53.000000          11000.000000     5.000000    10.000000   \n",
       "max      73.000000         349000.000000    16.000000    19.000000   \n",
       "\n",
       "                G3           G4           G5           G6           G7  \\\n",
       "count  3756.000000  3756.000000  3756.000000  3756.000000  3756.000000   \n",
       "mean      6.709265     2.160543    -0.016241    -0.869808    -0.975772   \n",
       "std       7.137279     5.282995     3.203444     0.974691     0.353335   \n",
       "min      -1.000000    -1.000000    -1.000000    -1.000000    -1.000000   \n",
       "25%      -1.000000    -1.000000    -1.000000    -1.000000    -1.000000   \n",
       "50%       5.000000    -1.000000    -1.000000    -1.000000    -1.000000   \n",
       "75%      14.000000     4.000000    -1.000000    -1.000000    -1.000000   \n",
       "max      19.000000    15.000000    14.000000    10.000000     7.000000   \n",
       "\n",
       "                G8  \n",
       "count  3756.000000  \n",
       "mean     -0.998669  \n",
       "std       0.048939  \n",
       "min      -1.000000  \n",
       "25%      -1.000000  \n",
       "50%      -1.000000  \n",
       "75%      -1.000000  \n",
       "max       1.000000  \n",
       "\n",
       "[8 rows x 30 columns]"
      ]
     },
     "execution_count": 226,
     "metadata": {},
     "output_type": "execute_result"
    }
   ],
   "source": [
    "df3.describe()"
   ]
  },
  {
   "cell_type": "code",
   "execution_count": 227,
   "metadata": {},
   "outputs": [
    {
     "name": "stdout",
     "output_type": "stream",
     "text": [
      "<class 'pandas.core.frame.DataFrame'>\n",
      "Int64Index: 3756 entries, 0 to 5042\n",
      "Data columns (total 30 columns):\n",
      "color                      3756 non-null int8\n",
      "director_name              3756 non-null int16\n",
      "num_critic_for_reviews     3756 non-null float64\n",
      "duration                   3756 non-null float64\n",
      "director_facebook_likes    3756 non-null float64\n",
      "actor_3_facebook_likes     3756 non-null float64\n",
      "actor_2_name               3756 non-null int16\n",
      "actor_1_facebook_likes     3756 non-null float64\n",
      "gross                      3756 non-null float64\n",
      "actor_1_name               3756 non-null int16\n",
      "actor_3_name               3756 non-null int16\n",
      "facenumber_in_poster       3756 non-null float64\n",
      "num_user_for_reviews       3756 non-null float64\n",
      "language                   3756 non-null int8\n",
      "country                    3756 non-null int8\n",
      "content_rating             3756 non-null int8\n",
      "budget                     3756 non-null float64\n",
      "title_year                 3756 non-null float64\n",
      "actor_2_facebook_likes     3756 non-null float64\n",
      "aspect_ratio               3756 non-null int8\n",
      "imdb_score                 3756 non-null int8\n",
      "movie_facebook_likes       3756 non-null int64\n",
      "G1                         3756 non-null int8\n",
      "G2                         3756 non-null int8\n",
      "G3                         3756 non-null int8\n",
      "G4                         3756 non-null int8\n",
      "G5                         3756 non-null int8\n",
      "G6                         3756 non-null int8\n",
      "G7                         3756 non-null int8\n",
      "G8                         3756 non-null int8\n",
      "dtypes: float64(11), int16(4), int64(1), int8(14)\n",
      "memory usage: 462.2 KB\n"
     ]
    }
   ],
   "source": [
    "df3.info()"
   ]
  },
  {
   "cell_type": "code",
   "execution_count": 228,
   "metadata": {},
   "outputs": [],
   "source": [
    "X = df3.drop(['imdb_score'], axis=1)\n",
    "y = df3['imdb_score']"
   ]
  },
  {
   "cell_type": "code",
   "execution_count": 229,
   "metadata": {},
   "outputs": [],
   "source": [
    "from sklearn.model_selection import train_test_split\n",
    "from sklearn.preprocessing import StandardScaler\n",
    "scaler=StandardScaler()\n",
    "X = scaler.fit_transform(X)\n",
    "y = np.array(y).astype(int)\n",
    "\n",
    "X_train, X_test, y_train, y_test = train_test_split(X, y, test_size=0.25, random_state=33)"
   ]
  },
  {
   "cell_type": "code",
   "execution_count": 230,
   "metadata": {},
   "outputs": [
    {
     "name": "stdout",
     "output_type": "stream",
     "text": [
      "Logistic Regression accuracy score: 0.0564\n"
     ]
    },
    {
     "name": "stderr",
     "output_type": "stream",
     "text": [
      "C:\\Users\\yipen\\Anaconda3\\lib\\site-packages\\sklearn\\linear_model\\_logistic.py:940: ConvergenceWarning: lbfgs failed to converge (status=1):\n",
      "STOP: TOTAL NO. of ITERATIONS REACHED LIMIT.\n",
      "\n",
      "Increase the number of iterations (max_iter) or scale the data as shown in:\n",
      "    https://scikit-learn.org/stable/modules/preprocessing.html\n",
      "Please also refer to the documentation for alternative solver options:\n",
      "    https://scikit-learn.org/stable/modules/linear_model.html#logistic-regression\n",
      "  extra_warning_msg=_LOGISTIC_SOLVER_CONVERGENCE_MSG)\n"
     ]
    }
   ],
   "source": [
    "from sklearn.linear_model import LogisticRegression\n",
    "from sklearn.metrics import accuracy_score\n",
    "logreg = LogisticRegression()\n",
    "logreg.fit(X_train, y_train)\n",
    "y_pred = logreg.predict(X_test)\n",
    "print('Logistic Regression accuracy score: {0:0.4f}'. format(accuracy_score(y_test, y_pred)))"
   ]
  },
  {
   "cell_type": "code",
   "execution_count": 239,
   "metadata": {},
   "outputs": [
    {
     "name": "stdout",
     "output_type": "stream",
     "text": [
      "0.08945686900958466\n"
     ]
    }
   ],
   "source": [
    "from sklearn.ensemble import RandomForestClassifier\n",
    "clf = RandomForestClassifier(n_estimators=100)\n",
    "clf = clf.fit(X_train, y_train)\n",
    "clf_y_predict = clf.predict(X_test)\n",
    "print(accuracy_score(y_test, clf_y_predict))"
   ]
  },
  {
   "cell_type": "code",
   "execution_count": 235,
   "metadata": {},
   "outputs": [
    {
     "data": {
      "text/plain": [
       "XGBRegressor(base_score=0.5, booster=None, colsample_bylevel=1,\n",
       "             colsample_bynode=1, colsample_bytree=1, gamma=0, gpu_id=-1,\n",
       "             importance_type='gain', interaction_constraints=None,\n",
       "             learning_rate=0.300000012, max_delta_step=0, max_depth=6,\n",
       "             min_child_weight=1, missing=nan, monotone_constraints=None,\n",
       "             n_estimators=100, n_jobs=0, num_parallel_tree=1,\n",
       "             objective='reg:squarederror', random_state=0, reg_alpha=0,\n",
       "             reg_lambda=1, scale_pos_weight=1, subsample=1, tree_method=None,\n",
       "             validate_parameters=False, verbosity=None)"
      ]
     },
     "execution_count": 235,
     "metadata": {},
     "output_type": "execute_result"
    }
   ],
   "source": [
    "from xgboost import XGBRegressor\n",
    "\n",
    "my_model = XGBRegressor()\n",
    "\n",
    "my_model.fit(X_train, y_train, verbose=False)"
   ]
  },
  {
   "cell_type": "code",
   "execution_count": 242,
   "metadata": {},
   "outputs": [],
   "source": [
    "XGBy_pred = my_model.predict(X_test)"
   ]
  },
  {
   "cell_type": "code",
   "execution_count": 246,
   "metadata": {},
   "outputs": [
    {
     "name": "stdout",
     "output_type": "stream",
     "text": [
      "Mean Absolute Error : 5.201931858976809\n"
     ]
    }
   ],
   "source": [
    "from sklearn.metrics import mean_absolute_error\n",
    "print(\"Mean Absolute Error : \" + str(mean_absolute_error(XGBy_pred, y_test)))\n"
   ]
  },
  {
   "cell_type": "code",
   "execution_count": null,
   "metadata": {},
   "outputs": [],
   "source": []
  }
 ],
 "metadata": {
  "kernelspec": {
   "display_name": "Python 3",
   "language": "python",
   "name": "python3"
  },
  "language_info": {
   "codemirror_mode": {
    "name": "ipython",
    "version": 3
   },
   "file_extension": ".py",
   "mimetype": "text/x-python",
   "name": "python",
   "nbconvert_exporter": "python",
   "pygments_lexer": "ipython3",
   "version": "3.6.10"
  }
 },
 "nbformat": 4,
 "nbformat_minor": 4
}
