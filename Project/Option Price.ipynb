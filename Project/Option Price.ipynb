{
 "cells": [
  {
   "cell_type": "code",
   "execution_count": null,
   "metadata": {},
   "outputs": [],
   "source": [
    "import pandas as pd\n",
    "import numpy as np\n",
    "from math import log, sqrt, exp\n",
    "from scipy.stats import norm"
   ]
  },
  {
   "cell_type": "code",
   "execution_count": null,
   "metadata": {},
   "outputs": [],
   "source": [
    "spot = 2.45\n",
    "strike = 2.50\n",
    "maturity = 0.25\n",
    "r = 0.05\n",
    "vol = 0.25"
   ]
  },
  {
   "cell_type": "code",
   "execution_count": null,
   "metadata": {},
   "outputs": [],
   "source": [
    "def call_option_pricer(spot, strike, maturity, r, vol):\n",
    "\n",
    "    d1 = (log(spot/strike) + (r + 0.5 * vol *vol) * maturity) / vol / sqrt(maturity)\n",
    "    d2 = d1 - vol * sqrt(maturity)\n",
    "\n",
    "    price = spot * norm.cdf(d1) - strike * exp(-r*maturity) * norm.cdf(d2)\n",
    "    return price\n",
    "\n",
    "print (call_option_pricer(spot, strike, maturity, r, vol))"
   ]
  },
  {
   "cell_type": "code",
   "execution_count": null,
   "metadata": {},
   "outputs": [],
   "source": []
  }
 ],
 "metadata": {
  "kernelspec": {
   "display_name": "Python 3",
   "language": "python",
   "name": "python3"
  }
 },
 "nbformat": 4,
 "nbformat_minor": 2
}
