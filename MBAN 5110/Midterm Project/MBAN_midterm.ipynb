{
 "cells": [
  {
   "cell_type": "markdown",
   "metadata": {},
   "source": [
    "### **MBAN 5110 - Midterm Exam**"
   ]
  },
  {
   "cell_type": "markdown",
   "metadata": {},
   "source": [
    "### **PART 1**"
   ]
  },
  {
   "cell_type": "markdown",
   "metadata": {},
   "source": [
    "##### Import Relevant Libraries"
   ]
  },
  {
   "cell_type": "code",
   "execution_count": 5,
   "metadata": {},
   "outputs": [],
   "source": [
    "import numpy as np\n",
    "import pandas as pd\n",
    "from statsmodels.sandbox.regression.gmm import GMM"
   ]
  },
  {
   "cell_type": "markdown",
   "metadata": {},
   "source": [
    "##### Upload the Dataset"
   ]
  },
  {
   "cell_type": "code",
   "execution_count": 77,
   "metadata": {},
   "outputs": [],
   "source": [
    "df_part1 = pd.read_csv(\"https://raw.githubusercontent.com/GoldenSnow-Xue/schulich_data_science/main/MBAN%205110/Midterm%20Project/midterm_partone.csv\")"
   ]
  },
  {
   "cell_type": "code",
   "execution_count": 78,
   "metadata": {},
   "outputs": [
    {
     "data": {
      "text/html": [
       "<div>\n",
       "<style scoped>\n",
       "    .dataframe tbody tr th:only-of-type {\n",
       "        vertical-align: middle;\n",
       "    }\n",
       "\n",
       "    .dataframe tbody tr th {\n",
       "        vertical-align: top;\n",
       "    }\n",
       "\n",
       "    .dataframe thead th {\n",
       "        text-align: right;\n",
       "    }\n",
       "</style>\n",
       "<table border=\"1\" class=\"dataframe\">\n",
       "  <thead>\n",
       "    <tr style=\"text-align: right;\">\n",
       "      <th></th>\n",
       "      <th>Constant</th>\n",
       "      <th>Stock Change</th>\n",
       "      <th>Inventory Turnover</th>\n",
       "      <th>Operating Profit</th>\n",
       "      <th>Interaction Effect</th>\n",
       "      <th>Current Ratio</th>\n",
       "      <th>Quick Ratio</th>\n",
       "      <th>Debt Asset Ratio</th>\n",
       "    </tr>\n",
       "  </thead>\n",
       "  <tbody>\n",
       "    <tr>\n",
       "      <th>0</th>\n",
       "      <td>1</td>\n",
       "      <td>0.870332</td>\n",
       "      <td>1.795946</td>\n",
       "      <td>0.115846</td>\n",
       "      <td>0.208053</td>\n",
       "      <td>1.672527</td>\n",
       "      <td>0.255171</td>\n",
       "      <td>0.473317</td>\n",
       "    </tr>\n",
       "    <tr>\n",
       "      <th>1</th>\n",
       "      <td>1</td>\n",
       "      <td>-0.047347</td>\n",
       "      <td>1.395501</td>\n",
       "      <td>0.436967</td>\n",
       "      <td>0.609788</td>\n",
       "      <td>1.637261</td>\n",
       "      <td>0.221763</td>\n",
       "      <td>0.489967</td>\n",
       "    </tr>\n",
       "    <tr>\n",
       "      <th>2</th>\n",
       "      <td>1</td>\n",
       "      <td>0.001176</td>\n",
       "      <td>1.664563</td>\n",
       "      <td>0.541016</td>\n",
       "      <td>0.900555</td>\n",
       "      <td>1.640619</td>\n",
       "      <td>0.189141</td>\n",
       "      <td>0.374269</td>\n",
       "    </tr>\n",
       "    <tr>\n",
       "      <th>3</th>\n",
       "      <td>1</td>\n",
       "      <td>-0.901200</td>\n",
       "      <td>1.605738</td>\n",
       "      <td>0.539399</td>\n",
       "      <td>0.866133</td>\n",
       "      <td>1.436221</td>\n",
       "      <td>0.131944</td>\n",
       "      <td>0.224399</td>\n",
       "    </tr>\n",
       "    <tr>\n",
       "      <th>4</th>\n",
       "      <td>1</td>\n",
       "      <td>-0.176353</td>\n",
       "      <td>1.591451</td>\n",
       "      <td>0.539938</td>\n",
       "      <td>0.859285</td>\n",
       "      <td>1.433140</td>\n",
       "      <td>0.183095</td>\n",
       "      <td>0.213446</td>\n",
       "    </tr>\n",
       "    <tr>\n",
       "      <th>...</th>\n",
       "      <td>...</td>\n",
       "      <td>...</td>\n",
       "      <td>...</td>\n",
       "      <td>...</td>\n",
       "      <td>...</td>\n",
       "      <td>...</td>\n",
       "      <td>...</td>\n",
       "      <td>...</td>\n",
       "    </tr>\n",
       "    <tr>\n",
       "      <th>1691</th>\n",
       "      <td>1</td>\n",
       "      <td>-0.015543</td>\n",
       "      <td>5.225766</td>\n",
       "      <td>0.309119</td>\n",
       "      <td>1.615384</td>\n",
       "      <td>3.554503</td>\n",
       "      <td>2.197871</td>\n",
       "      <td>0.005549</td>\n",
       "    </tr>\n",
       "    <tr>\n",
       "      <th>1692</th>\n",
       "      <td>1</td>\n",
       "      <td>0.399089</td>\n",
       "      <td>5.324390</td>\n",
       "      <td>0.274782</td>\n",
       "      <td>1.463044</td>\n",
       "      <td>3.745006</td>\n",
       "      <td>2.324502</td>\n",
       "      <td>0.004359</td>\n",
       "    </tr>\n",
       "    <tr>\n",
       "      <th>1693</th>\n",
       "      <td>1</td>\n",
       "      <td>-0.702200</td>\n",
       "      <td>5.575258</td>\n",
       "      <td>0.287503</td>\n",
       "      <td>1.602905</td>\n",
       "      <td>3.434909</td>\n",
       "      <td>2.282626</td>\n",
       "      <td>0.000000</td>\n",
       "    </tr>\n",
       "    <tr>\n",
       "      <th>1694</th>\n",
       "      <td>1</td>\n",
       "      <td>0.283926</td>\n",
       "      <td>5.423463</td>\n",
       "      <td>0.256657</td>\n",
       "      <td>1.391968</td>\n",
       "      <td>2.876645</td>\n",
       "      <td>1.454948</td>\n",
       "      <td>0.000000</td>\n",
       "    </tr>\n",
       "    <tr>\n",
       "      <th>1695</th>\n",
       "      <td>1</td>\n",
       "      <td>-0.008141</td>\n",
       "      <td>5.239394</td>\n",
       "      <td>0.217016</td>\n",
       "      <td>1.137033</td>\n",
       "      <td>2.871897</td>\n",
       "      <td>1.419066</td>\n",
       "      <td>0.000000</td>\n",
       "    </tr>\n",
       "  </tbody>\n",
       "</table>\n",
       "<p>1696 rows × 8 columns</p>\n",
       "</div>"
      ],
      "text/plain": [
       "      Constant  Stock Change  Inventory Turnover  Operating Profit  \\\n",
       "0            1      0.870332            1.795946          0.115846   \n",
       "1            1     -0.047347            1.395501          0.436967   \n",
       "2            1      0.001176            1.664563          0.541016   \n",
       "3            1     -0.901200            1.605738          0.539399   \n",
       "4            1     -0.176353            1.591451          0.539938   \n",
       "...        ...           ...                 ...               ...   \n",
       "1691         1     -0.015543            5.225766          0.309119   \n",
       "1692         1      0.399089            5.324390          0.274782   \n",
       "1693         1     -0.702200            5.575258          0.287503   \n",
       "1694         1      0.283926            5.423463          0.256657   \n",
       "1695         1     -0.008141            5.239394          0.217016   \n",
       "\n",
       "      Interaction Effect  Current Ratio  Quick Ratio  Debt Asset Ratio  \n",
       "0               0.208053       1.672527     0.255171          0.473317  \n",
       "1               0.609788       1.637261     0.221763          0.489967  \n",
       "2               0.900555       1.640619     0.189141          0.374269  \n",
       "3               0.866133       1.436221     0.131944          0.224399  \n",
       "4               0.859285       1.433140     0.183095          0.213446  \n",
       "...                  ...            ...          ...               ...  \n",
       "1691            1.615384       3.554503     2.197871          0.005549  \n",
       "1692            1.463044       3.745006     2.324502          0.004359  \n",
       "1693            1.602905       3.434909     2.282626          0.000000  \n",
       "1694            1.391968       2.876645     1.454948          0.000000  \n",
       "1695            1.137033       2.871897     1.419066          0.000000  \n",
       "\n",
       "[1696 rows x 8 columns]"
      ]
     },
     "execution_count": 78,
     "metadata": {},
     "output_type": "execute_result"
    }
   ],
   "source": [
    "df_part1"
   ]
  },
  {
   "cell_type": "markdown",
   "metadata": {},
   "source": [
    "##### 1. Update the GMM model"
   ]
  },
  {
   "cell_type": "code",
   "execution_count": 79,
   "metadata": {},
   "outputs": [
    {
     "name": "stdout",
     "output_type": "stream",
     "text": [
      "Optimization terminated successfully.\n",
      "         Current function value: 0.000031\n",
      "         Iterations: 10\n",
      "         Function evaluations: 15\n",
      "         Gradient evaluations: 15\n",
      "Optimization terminated successfully.\n",
      "         Current function value: 0.000345\n",
      "         Iterations: 9\n",
      "         Function evaluations: 11\n",
      "         Gradient evaluations: 11\n",
      "Optimization terminated successfully.\n",
      "         Current function value: 0.000346\n",
      "         Iterations: 7\n",
      "         Function evaluations: 10\n",
      "         Gradient evaluations: 10\n",
      "Optimization terminated successfully.\n",
      "         Current function value: 0.000346\n",
      "         Iterations: 2\n",
      "         Function evaluations: 5\n",
      "         Gradient evaluations: 5\n"
     ]
    },
    {
     "data": {
      "text/html": [
       "<table class=\"simpletable\">\n",
       "<caption>gmm Results</caption>\n",
       "<tr>\n",
       "  <th>Dep. Variable:</th>            <td>y</td>        <th>  Hansen J:          </th> <td>  0.5862</td>\n",
       "</tr>\n",
       "<tr>\n",
       "  <th>Model:</th>                   <td>gmm</td>       <th>  Prob (Hansen J):   </th>  <td> 0.444</td> \n",
       "</tr>\n",
       "<tr>\n",
       "  <th>Method:</th>                  <td>GMM</td>       <th>                     </th>     <td> </td>   \n",
       "</tr>\n",
       "<tr>\n",
       "  <th>Date:</th>             <td>Sun, 12 Nov 2023</td> <th>                     </th>     <td> </td>   \n",
       "</tr>\n",
       "<tr>\n",
       "  <th>Time:</th>                 <td>14:57:20</td>     <th>                     </th>     <td> </td>   \n",
       "</tr>\n",
       "<tr>\n",
       "  <th>No. Observations:</th>      <td>  1696</td>      <th>                     </th>     <td> </td>   \n",
       "</tr>\n",
       "</table>\n",
       "<table class=\"simpletable\">\n",
       "<tr>\n",
       "   <td></td>      <th>coef</th>     <th>std err</th>      <th>z</th>      <th>P>|z|</th>  <th>[0.025</th>    <th>0.975]</th>  \n",
       "</tr>\n",
       "<tr>\n",
       "  <th>p 0</th> <td>   -0.0208</td> <td>    0.021</td> <td>   -0.986</td> <td> 0.324</td> <td>   -0.062</td> <td>    0.020</td>\n",
       "</tr>\n",
       "<tr>\n",
       "  <th>p 1</th> <td>    0.0011</td> <td>    0.001</td> <td>    1.839</td> <td> 0.066</td> <td>-7.31e-05</td> <td>    0.002</td>\n",
       "</tr>\n",
       "<tr>\n",
       "  <th>p 2</th> <td>   -0.1062</td> <td>    0.032</td> <td>   -3.316</td> <td> 0.001</td> <td>   -0.169</td> <td>   -0.043</td>\n",
       "</tr>\n",
       "<tr>\n",
       "  <th>p 3</th> <td>    0.0011</td> <td>    0.000</td> <td>    2.688</td> <td> 0.007</td> <td>    0.000</td> <td>    0.002</td>\n",
       "</tr>\n",
       "<tr>\n",
       "  <th>p 4</th> <td>   -0.0006</td> <td>    0.003</td> <td>   -0.213</td> <td> 0.831</td> <td>   -0.006</td> <td>    0.005</td>\n",
       "</tr>\n",
       "</table>"
      ],
      "text/latex": [
       "\\begin{center}\n",
       "\\begin{tabular}{lclc}\n",
       "\\toprule\n",
       "\\textbf{Dep. Variable:}    &        y         & \\textbf{  Hansen J:          } &    0.5862   \\\\\n",
       "\\textbf{Model:}            &       gmm        & \\textbf{  Prob (Hansen J):   } &    0.444    \\\\\n",
       "\\textbf{Method:}           &       GMM        & \\textbf{                     } &             \\\\\n",
       "\\textbf{Date:}             & Sun, 12 Nov 2023 & \\textbf{                     } &             \\\\\n",
       "\\textbf{Time:}             &     14:57:20     & \\textbf{                     } &             \\\\\n",
       "\\textbf{No. Observations:} &        1696      & \\textbf{                     } &             \\\\\n",
       "\\bottomrule\n",
       "\\end{tabular}\n",
       "\\begin{tabular}{lcccccc}\n",
       "             & \\textbf{coef} & \\textbf{std err} & \\textbf{z} & \\textbf{P$> |$z$|$} & \\textbf{[0.025} & \\textbf{0.975]}  \\\\\n",
       "\\midrule\n",
       "\\textbf{p 0} &      -0.0208  &        0.021     &    -0.986  &         0.324        &       -0.062    &        0.020     \\\\\n",
       "\\textbf{p 1} &       0.0011  &        0.001     &     1.839  &         0.066        &    -7.31e-05    &        0.002     \\\\\n",
       "\\textbf{p 2} &      -0.1062  &        0.032     &    -3.316  &         0.001        &       -0.169    &       -0.043     \\\\\n",
       "\\textbf{p 3} &       0.0011  &        0.000     &     2.688  &         0.007        &        0.000    &        0.002     \\\\\n",
       "\\textbf{p 4} &      -0.0006  &        0.003     &    -0.213  &         0.831        &       -0.006    &        0.005     \\\\\n",
       "\\bottomrule\n",
       "\\end{tabular}\n",
       "%\\caption{gmm Results}\n",
       "\\end{center}"
      ],
      "text/plain": [
       "<class 'statsmodels.iolib.summary.Summary'>\n",
       "\"\"\"\n",
       "                                 gmm Results                                  \n",
       "==============================================================================\n",
       "Dep. Variable:                      y   Hansen J:                       0.5862\n",
       "Model:                            gmm   Prob (Hansen J):                 0.444\n",
       "Method:                           GMM                                         \n",
       "Date:                Sun, 12 Nov 2023                                         \n",
       "Time:                        14:57:20                                         \n",
       "No. Observations:                1696                                         \n",
       "==============================================================================\n",
       "                 coef    std err          z      P>|z|      [0.025      0.975]\n",
       "------------------------------------------------------------------------------\n",
       "p 0           -0.0208      0.021     -0.986      0.324      -0.062       0.020\n",
       "p 1            0.0011      0.001      1.839      0.066   -7.31e-05       0.002\n",
       "p 2           -0.1062      0.032     -3.316      0.001      -0.169      -0.043\n",
       "p 3            0.0011      0.000      2.688      0.007       0.000       0.002\n",
       "p 4           -0.0006      0.003     -0.213      0.831      -0.006       0.005\n",
       "==============================================================================\n",
       "\"\"\""
      ]
     },
     "execution_count": 79,
     "metadata": {},
     "output_type": "execute_result"
    }
   ],
   "source": [
    "y_vals = np.array(df_part1[\"Stock Change\"])\n",
    "x_vals = np.array(df_part1[[\"Inventory Turnover\", \"Operating Profit\", \"Interaction Effect\"]])\n",
    "iv_vals = np.array(df_part1[[\"Current Ratio\", \"Quick Ratio\", \"Debt Asset Ratio\"]])\n",
    "\n",
    "class gmm(GMM):\n",
    "    def momcond(self, params):\n",
    "        p0, p1, p2, p3, delta = params\n",
    "        endog = self.endog\n",
    "        exog = self.exog\n",
    "        inst = self.instrument\n",
    "\n",
    "        error0 = endog - p0 - p1 * exog[:,0] - p2 * exog[:,1] - p3 * exog[:,2]\n",
    "        error1 = (endog - p0 - p1 * exog[:,0] - p2 * exog[:,1] - p3 * exog[:,2]) * exog[:,1]\n",
    "        error2 = (endog - p0 - p1 * exog[:,0] - p2 * exog[:,1] - p3 * exog[:,2]) * exog[:,2]\n",
    "        error3 = (endog - p0 - p1 * exog[:,0] - p2 * exog[:,1] - p3 * exog[:,2]) * inst[:,0] - delta\n",
    "        error4 = (endog - p0 - p1 * exog[:,0] - p2 * exog[:,1] - p3 * exog[:,2]) * inst[:,1] - delta\n",
    "        error5 = (endog - p0 - p1 * exog[:,0] - p2 * exog[:,1] - p3 * exog[:,2]) * inst[:,2] - delta\n",
    "\n",
    "        g = np.column_stack((error0, error1, error2, error3, error4, error5))\n",
    "        return g\n",
    "    \n",
    "beta0 = np.array([0.1, 0.1, 0.1, 0.1, 0.1])\n",
    "res = gmm(endog = y_vals, exog = x_vals, instrument = iv_vals, k_moms=6, k_params=5).fit(beta0)\n",
    "\n",
    "res.summary()\n"
   ]
  },
  {
   "cell_type": "markdown",
   "metadata": {},
   "source": [
    "##### 2. Analyze the GMM summary table"
   ]
  },
  {
   "cell_type": "markdown",
   "metadata": {},
   "source": [
    "Null Hypothesis: The industry expert claims that there is a bias in moment conditions of instrumental variables.\n",
    "\n",
    "**p4 (Coefficient of δ)**\n",
    "\n",
    "P-Value: 0.831\n",
    "\n",
    "P-Value is greater than 0.05, reject the null hypothesis, the industry expert's claim isn't statistically justified.\n",
    "\n",
    "(Details in the summary report)\n"
   ]
  },
  {
   "cell_type": "markdown",
   "metadata": {},
   "source": [
    "### **PART 2**"
   ]
  },
  {
   "cell_type": "markdown",
   "metadata": {},
   "source": [
    "##### 1. Divide the dataset equally into two as training (50%) and test (50%) sets. Use the training set to fit a logistic regression model, where the credit rating is the dependent variable. Apply the model to the test set, and report the confusion matrix, recall, precision, and F1 score values."
   ]
  },
  {
   "cell_type": "markdown",
   "metadata": {},
   "source": [
    "##### **Data Preparation**"
   ]
  },
  {
   "cell_type": "markdown",
   "metadata": {},
   "source": [
    "##### Import Relevant Libraries"
   ]
  },
  {
   "cell_type": "code",
   "execution_count": 40,
   "metadata": {},
   "outputs": [],
   "source": [
    "import pandas as pd\n",
    "from sklearn.compose import ColumnTransformer\n",
    "from sklearn.preprocessing import StandardScaler, OneHotEncoder\n",
    "from sklearn.model_selection import train_test_split\n",
    "from sklearn.pipeline import Pipeline\n",
    "from sklearn.linear_model import LogisticRegression\n",
    "from sklearn.metrics import confusion_matrix, recall_score, precision_score, f1_score"
   ]
  },
  {
   "cell_type": "markdown",
   "metadata": {},
   "source": [
    "##### Upload the Dataset"
   ]
  },
  {
   "cell_type": "code",
   "execution_count": 9,
   "metadata": {},
   "outputs": [],
   "source": [
    "df_part2 = pd.read_csv(\"https://raw.githubusercontent.com/GoldenSnow-Xue/schulich_data_science/main/MBAN%205110/Midterm%20Project/midterm_parttwo.csv\")"
   ]
  },
  {
   "cell_type": "code",
   "execution_count": 10,
   "metadata": {},
   "outputs": [
    {
     "data": {
      "text/html": [
       "<div>\n",
       "<style scoped>\n",
       "    .dataframe tbody tr th:only-of-type {\n",
       "        vertical-align: middle;\n",
       "    }\n",
       "\n",
       "    .dataframe tbody tr th {\n",
       "        vertical-align: top;\n",
       "    }\n",
       "\n",
       "    .dataframe thead th {\n",
       "        text-align: right;\n",
       "    }\n",
       "</style>\n",
       "<table border=\"1\" class=\"dataframe\">\n",
       "  <thead>\n",
       "    <tr style=\"text-align: right;\">\n",
       "      <th></th>\n",
       "      <th>Years of Education after High School</th>\n",
       "      <th>Requested Credit Amount</th>\n",
       "      <th>Number of Dependents</th>\n",
       "      <th>Monthly Income</th>\n",
       "      <th>Monthly Expense</th>\n",
       "      <th>Marital Status</th>\n",
       "      <th>Credit Rating</th>\n",
       "    </tr>\n",
       "  </thead>\n",
       "  <tbody>\n",
       "    <tr>\n",
       "      <th>0</th>\n",
       "      <td>1</td>\n",
       "      <td>Low</td>\n",
       "      <td>No dependent</td>\n",
       "      <td>Very low</td>\n",
       "      <td>Very low</td>\n",
       "      <td>Married</td>\n",
       "      <td>Positive</td>\n",
       "    </tr>\n",
       "    <tr>\n",
       "      <th>1</th>\n",
       "      <td>2</td>\n",
       "      <td>Low</td>\n",
       "      <td>No dependent</td>\n",
       "      <td>Very low</td>\n",
       "      <td>Very low</td>\n",
       "      <td>Single</td>\n",
       "      <td>Positive</td>\n",
       "    </tr>\n",
       "    <tr>\n",
       "      <th>2</th>\n",
       "      <td>1</td>\n",
       "      <td>Low</td>\n",
       "      <td>No dependent</td>\n",
       "      <td>Very low</td>\n",
       "      <td>Very low</td>\n",
       "      <td>Single</td>\n",
       "      <td>Positive</td>\n",
       "    </tr>\n",
       "    <tr>\n",
       "      <th>3</th>\n",
       "      <td>3</td>\n",
       "      <td>Low</td>\n",
       "      <td>No dependent</td>\n",
       "      <td>Very low</td>\n",
       "      <td>Very low</td>\n",
       "      <td>Married</td>\n",
       "      <td>Positive</td>\n",
       "    </tr>\n",
       "    <tr>\n",
       "      <th>4</th>\n",
       "      <td>3</td>\n",
       "      <td>Low</td>\n",
       "      <td>No dependent</td>\n",
       "      <td>Very low</td>\n",
       "      <td>Very low</td>\n",
       "      <td>Single</td>\n",
       "      <td>Negative</td>\n",
       "    </tr>\n",
       "    <tr>\n",
       "      <th>...</th>\n",
       "      <td>...</td>\n",
       "      <td>...</td>\n",
       "      <td>...</td>\n",
       "      <td>...</td>\n",
       "      <td>...</td>\n",
       "      <td>...</td>\n",
       "      <td>...</td>\n",
       "    </tr>\n",
       "    <tr>\n",
       "      <th>8076</th>\n",
       "      <td>3</td>\n",
       "      <td>Low</td>\n",
       "      <td>Less than 2</td>\n",
       "      <td>Very High</td>\n",
       "      <td>Very high</td>\n",
       "      <td>Married</td>\n",
       "      <td>Positive</td>\n",
       "    </tr>\n",
       "    <tr>\n",
       "      <th>8077</th>\n",
       "      <td>3</td>\n",
       "      <td>Medium</td>\n",
       "      <td>Less than 2</td>\n",
       "      <td>Very High</td>\n",
       "      <td>Very high</td>\n",
       "      <td>Married</td>\n",
       "      <td>Negative</td>\n",
       "    </tr>\n",
       "    <tr>\n",
       "      <th>8078</th>\n",
       "      <td>3</td>\n",
       "      <td>Medium</td>\n",
       "      <td>More than 2</td>\n",
       "      <td>Very High</td>\n",
       "      <td>Very high</td>\n",
       "      <td>Married</td>\n",
       "      <td>Positive</td>\n",
       "    </tr>\n",
       "    <tr>\n",
       "      <th>8079</th>\n",
       "      <td>7</td>\n",
       "      <td>Medium</td>\n",
       "      <td>Less than 2</td>\n",
       "      <td>Very High</td>\n",
       "      <td>Very high</td>\n",
       "      <td>Married</td>\n",
       "      <td>Positive</td>\n",
       "    </tr>\n",
       "    <tr>\n",
       "      <th>8080</th>\n",
       "      <td>3</td>\n",
       "      <td>Medium</td>\n",
       "      <td>Less than 2</td>\n",
       "      <td>Very High</td>\n",
       "      <td>Very high</td>\n",
       "      <td>Married</td>\n",
       "      <td>Positive</td>\n",
       "    </tr>\n",
       "  </tbody>\n",
       "</table>\n",
       "<p>8081 rows × 7 columns</p>\n",
       "</div>"
      ],
      "text/plain": [
       "      Years of Education after High School Requested Credit Amount  \\\n",
       "0                                        1                     Low   \n",
       "1                                        2                     Low   \n",
       "2                                        1                     Low   \n",
       "3                                        3                     Low   \n",
       "4                                        3                     Low   \n",
       "...                                    ...                     ...   \n",
       "8076                                     3                     Low   \n",
       "8077                                     3                  Medium   \n",
       "8078                                     3                  Medium   \n",
       "8079                                     7                  Medium   \n",
       "8080                                     3                  Medium   \n",
       "\n",
       "     Number of Dependents Monthly Income Monthly Expense Marital Status  \\\n",
       "0            No dependent       Very low        Very low        Married   \n",
       "1            No dependent       Very low        Very low         Single   \n",
       "2            No dependent       Very low        Very low         Single   \n",
       "3            No dependent       Very low        Very low        Married   \n",
       "4            No dependent       Very low        Very low         Single   \n",
       "...                   ...            ...             ...            ...   \n",
       "8076          Less than 2      Very High       Very high        Married   \n",
       "8077          Less than 2      Very High       Very high        Married   \n",
       "8078          More than 2      Very High       Very high        Married   \n",
       "8079          Less than 2      Very High       Very high        Married   \n",
       "8080          Less than 2      Very High       Very high        Married   \n",
       "\n",
       "     Credit Rating  \n",
       "0         Positive  \n",
       "1         Positive  \n",
       "2         Positive  \n",
       "3         Positive  \n",
       "4         Negative  \n",
       "...            ...  \n",
       "8076      Positive  \n",
       "8077      Negative  \n",
       "8078      Positive  \n",
       "8079      Positive  \n",
       "8080      Positive  \n",
       "\n",
       "[8081 rows x 7 columns]"
      ]
     },
     "execution_count": 10,
     "metadata": {},
     "output_type": "execute_result"
    }
   ],
   "source": [
    "df_part2"
   ]
  },
  {
   "cell_type": "code",
   "execution_count": 12,
   "metadata": {},
   "outputs": [
    {
     "data": {
      "text/html": [
       "<div>\n",
       "<style scoped>\n",
       "    .dataframe tbody tr th:only-of-type {\n",
       "        vertical-align: middle;\n",
       "    }\n",
       "\n",
       "    .dataframe tbody tr th {\n",
       "        vertical-align: top;\n",
       "    }\n",
       "\n",
       "    .dataframe thead th {\n",
       "        text-align: right;\n",
       "    }\n",
       "</style>\n",
       "<table border=\"1\" class=\"dataframe\">\n",
       "  <thead>\n",
       "    <tr style=\"text-align: right;\">\n",
       "      <th></th>\n",
       "      <th>Years of Education after High School</th>\n",
       "    </tr>\n",
       "  </thead>\n",
       "  <tbody>\n",
       "    <tr>\n",
       "      <th>count</th>\n",
       "      <td>8081.000000</td>\n",
       "    </tr>\n",
       "    <tr>\n",
       "      <th>mean</th>\n",
       "      <td>2.608588</td>\n",
       "    </tr>\n",
       "    <tr>\n",
       "      <th>std</th>\n",
       "      <td>1.571835</td>\n",
       "    </tr>\n",
       "    <tr>\n",
       "      <th>min</th>\n",
       "      <td>0.000000</td>\n",
       "    </tr>\n",
       "    <tr>\n",
       "      <th>25%</th>\n",
       "      <td>1.000000</td>\n",
       "    </tr>\n",
       "    <tr>\n",
       "      <th>50%</th>\n",
       "      <td>3.000000</td>\n",
       "    </tr>\n",
       "    <tr>\n",
       "      <th>75%</th>\n",
       "      <td>3.000000</td>\n",
       "    </tr>\n",
       "    <tr>\n",
       "      <th>max</th>\n",
       "      <td>7.000000</td>\n",
       "    </tr>\n",
       "  </tbody>\n",
       "</table>\n",
       "</div>"
      ],
      "text/plain": [
       "       Years of Education after High School\n",
       "count                           8081.000000\n",
       "mean                               2.608588\n",
       "std                                1.571835\n",
       "min                                0.000000\n",
       "25%                                1.000000\n",
       "50%                                3.000000\n",
       "75%                                3.000000\n",
       "max                                7.000000"
      ]
     },
     "execution_count": 12,
     "metadata": {},
     "output_type": "execute_result"
    }
   ],
   "source": [
    "df_part2.describe()"
   ]
  },
  {
   "cell_type": "code",
   "execution_count": 11,
   "metadata": {},
   "outputs": [
    {
     "name": "stdout",
     "output_type": "stream",
     "text": [
      "<class 'pandas.core.frame.DataFrame'>\n",
      "RangeIndex: 8081 entries, 0 to 8080\n",
      "Data columns (total 7 columns):\n",
      " #   Column                                Non-Null Count  Dtype \n",
      "---  ------                                --------------  ----- \n",
      " 0   Years of Education after High School  8081 non-null   int64 \n",
      " 1   Requested Credit Amount               8081 non-null   object\n",
      " 2   Number of Dependents                  8081 non-null   object\n",
      " 3   Monthly Income                        8081 non-null   object\n",
      " 4   Monthly Expense                       8081 non-null   object\n",
      " 5   Marital Status                        8081 non-null   object\n",
      " 6   Credit Rating                         8081 non-null   object\n",
      "dtypes: int64(1), object(6)\n",
      "memory usage: 442.1+ KB\n"
     ]
    }
   ],
   "source": [
    "df_part2.info()"
   ]
  },
  {
   "cell_type": "code",
   "execution_count": 14,
   "metadata": {},
   "outputs": [],
   "source": [
    "X = df_part2.drop('Credit Rating', axis=1)\n",
    "y = df_part2['Credit Rating']"
   ]
  },
  {
   "cell_type": "code",
   "execution_count": 16,
   "metadata": {},
   "outputs": [],
   "source": [
    "# Identify numerical and categorical columns\n",
    "num_cols = X.select_dtypes(include=['float64', 'int64']).columns\n",
    "cat_cols = X.select_dtypes(include=['object']).columns"
   ]
  },
  {
   "cell_type": "code",
   "execution_count": 25,
   "metadata": {},
   "outputs": [],
   "source": [
    "# Create a column transformer\n",
    "preprocessor = ColumnTransformer(\n",
    "    transformers=[\n",
    "        ('num', StandardScaler(), num_cols),\n",
    "        ('cat', OneHotEncoder(), cat_cols)\n",
    "    ]\n",
    ")"
   ]
  },
  {
   "cell_type": "markdown",
   "metadata": {},
   "source": [
    "##### **Data Splitting**"
   ]
  },
  {
   "cell_type": "code",
   "execution_count": 22,
   "metadata": {},
   "outputs": [],
   "source": [
    "X_train, X_test, y_train, y_test = train_test_split(X, y, test_size=0.5)"
   ]
  },
  {
   "cell_type": "markdown",
   "metadata": {},
   "source": [
    "##### **Model Fitting**"
   ]
  },
  {
   "cell_type": "code",
   "execution_count": 36,
   "metadata": {},
   "outputs": [],
   "source": [
    "# Create a pipeline\n",
    "pipeline = Pipeline([\n",
    "                    ('preprocessor', preprocessor),\n",
    "                    ('classifier', LogisticRegression())\n",
    "])\n"
   ]
  },
  {
   "cell_type": "code",
   "execution_count": 37,
   "metadata": {},
   "outputs": [
    {
     "data": {
      "text/html": [
       "<style>#sk-container-id-1 {color: black;}#sk-container-id-1 pre{padding: 0;}#sk-container-id-1 div.sk-toggleable {background-color: white;}#sk-container-id-1 label.sk-toggleable__label {cursor: pointer;display: block;width: 100%;margin-bottom: 0;padding: 0.3em;box-sizing: border-box;text-align: center;}#sk-container-id-1 label.sk-toggleable__label-arrow:before {content: \"▸\";float: left;margin-right: 0.25em;color: #696969;}#sk-container-id-1 label.sk-toggleable__label-arrow:hover:before {color: black;}#sk-container-id-1 div.sk-estimator:hover label.sk-toggleable__label-arrow:before {color: black;}#sk-container-id-1 div.sk-toggleable__content {max-height: 0;max-width: 0;overflow: hidden;text-align: left;background-color: #f0f8ff;}#sk-container-id-1 div.sk-toggleable__content pre {margin: 0.2em;color: black;border-radius: 0.25em;background-color: #f0f8ff;}#sk-container-id-1 input.sk-toggleable__control:checked~div.sk-toggleable__content {max-height: 200px;max-width: 100%;overflow: auto;}#sk-container-id-1 input.sk-toggleable__control:checked~label.sk-toggleable__label-arrow:before {content: \"▾\";}#sk-container-id-1 div.sk-estimator input.sk-toggleable__control:checked~label.sk-toggleable__label {background-color: #d4ebff;}#sk-container-id-1 div.sk-label input.sk-toggleable__control:checked~label.sk-toggleable__label {background-color: #d4ebff;}#sk-container-id-1 input.sk-hidden--visually {border: 0;clip: rect(1px 1px 1px 1px);clip: rect(1px, 1px, 1px, 1px);height: 1px;margin: -1px;overflow: hidden;padding: 0;position: absolute;width: 1px;}#sk-container-id-1 div.sk-estimator {font-family: monospace;background-color: #f0f8ff;border: 1px dotted black;border-radius: 0.25em;box-sizing: border-box;margin-bottom: 0.5em;}#sk-container-id-1 div.sk-estimator:hover {background-color: #d4ebff;}#sk-container-id-1 div.sk-parallel-item::after {content: \"\";width: 100%;border-bottom: 1px solid gray;flex-grow: 1;}#sk-container-id-1 div.sk-label:hover label.sk-toggleable__label {background-color: #d4ebff;}#sk-container-id-1 div.sk-serial::before {content: \"\";position: absolute;border-left: 1px solid gray;box-sizing: border-box;top: 0;bottom: 0;left: 50%;z-index: 0;}#sk-container-id-1 div.sk-serial {display: flex;flex-direction: column;align-items: center;background-color: white;padding-right: 0.2em;padding-left: 0.2em;position: relative;}#sk-container-id-1 div.sk-item {position: relative;z-index: 1;}#sk-container-id-1 div.sk-parallel {display: flex;align-items: stretch;justify-content: center;background-color: white;position: relative;}#sk-container-id-1 div.sk-item::before, #sk-container-id-1 div.sk-parallel-item::before {content: \"\";position: absolute;border-left: 1px solid gray;box-sizing: border-box;top: 0;bottom: 0;left: 50%;z-index: -1;}#sk-container-id-1 div.sk-parallel-item {display: flex;flex-direction: column;z-index: 1;position: relative;background-color: white;}#sk-container-id-1 div.sk-parallel-item:first-child::after {align-self: flex-end;width: 50%;}#sk-container-id-1 div.sk-parallel-item:last-child::after {align-self: flex-start;width: 50%;}#sk-container-id-1 div.sk-parallel-item:only-child::after {width: 0;}#sk-container-id-1 div.sk-dashed-wrapped {border: 1px dashed gray;margin: 0 0.4em 0.5em 0.4em;box-sizing: border-box;padding-bottom: 0.4em;background-color: white;}#sk-container-id-1 div.sk-label label {font-family: monospace;font-weight: bold;display: inline-block;line-height: 1.2em;}#sk-container-id-1 div.sk-label-container {text-align: center;}#sk-container-id-1 div.sk-container {/* jupyter's `normalize.less` sets `[hidden] { display: none; }` but bootstrap.min.css set `[hidden] { display: none !important; }` so we also need the `!important` here to be able to override the default hidden behavior on the sphinx rendered scikit-learn.org. See: https://github.com/scikit-learn/scikit-learn/issues/21755 */display: inline-block !important;position: relative;}#sk-container-id-1 div.sk-text-repr-fallback {display: none;}</style><div id=\"sk-container-id-1\" class=\"sk-top-container\"><div class=\"sk-text-repr-fallback\"><pre>Pipeline(steps=[(&#x27;preprocessor&#x27;,\n",
       "                 ColumnTransformer(transformers=[(&#x27;num&#x27;, StandardScaler(),\n",
       "                                                  Index([&#x27;Years of Education after High School&#x27;], dtype=&#x27;object&#x27;)),\n",
       "                                                 (&#x27;cat&#x27;, OneHotEncoder(),\n",
       "                                                  Index([&#x27;Requested Credit Amount&#x27;, &#x27;Number of Dependents&#x27;, &#x27;Monthly Income&#x27;,\n",
       "       &#x27;Monthly Expense&#x27;, &#x27;Marital Status&#x27;],\n",
       "      dtype=&#x27;object&#x27;))])),\n",
       "                (&#x27;classifier&#x27;, LogisticRegression())])</pre><b>In a Jupyter environment, please rerun this cell to show the HTML representation or trust the notebook. <br />On GitHub, the HTML representation is unable to render, please try loading this page with nbviewer.org.</b></div><div class=\"sk-container\" hidden><div class=\"sk-item sk-dashed-wrapped\"><div class=\"sk-label-container\"><div class=\"sk-label sk-toggleable\"><input class=\"sk-toggleable__control sk-hidden--visually\" id=\"sk-estimator-id-1\" type=\"checkbox\" ><label for=\"sk-estimator-id-1\" class=\"sk-toggleable__label sk-toggleable__label-arrow\">Pipeline</label><div class=\"sk-toggleable__content\"><pre>Pipeline(steps=[(&#x27;preprocessor&#x27;,\n",
       "                 ColumnTransformer(transformers=[(&#x27;num&#x27;, StandardScaler(),\n",
       "                                                  Index([&#x27;Years of Education after High School&#x27;], dtype=&#x27;object&#x27;)),\n",
       "                                                 (&#x27;cat&#x27;, OneHotEncoder(),\n",
       "                                                  Index([&#x27;Requested Credit Amount&#x27;, &#x27;Number of Dependents&#x27;, &#x27;Monthly Income&#x27;,\n",
       "       &#x27;Monthly Expense&#x27;, &#x27;Marital Status&#x27;],\n",
       "      dtype=&#x27;object&#x27;))])),\n",
       "                (&#x27;classifier&#x27;, LogisticRegression())])</pre></div></div></div><div class=\"sk-serial\"><div class=\"sk-item sk-dashed-wrapped\"><div class=\"sk-label-container\"><div class=\"sk-label sk-toggleable\"><input class=\"sk-toggleable__control sk-hidden--visually\" id=\"sk-estimator-id-2\" type=\"checkbox\" ><label for=\"sk-estimator-id-2\" class=\"sk-toggleable__label sk-toggleable__label-arrow\">preprocessor: ColumnTransformer</label><div class=\"sk-toggleable__content\"><pre>ColumnTransformer(transformers=[(&#x27;num&#x27;, StandardScaler(),\n",
       "                                 Index([&#x27;Years of Education after High School&#x27;], dtype=&#x27;object&#x27;)),\n",
       "                                (&#x27;cat&#x27;, OneHotEncoder(),\n",
       "                                 Index([&#x27;Requested Credit Amount&#x27;, &#x27;Number of Dependents&#x27;, &#x27;Monthly Income&#x27;,\n",
       "       &#x27;Monthly Expense&#x27;, &#x27;Marital Status&#x27;],\n",
       "      dtype=&#x27;object&#x27;))])</pre></div></div></div><div class=\"sk-parallel\"><div class=\"sk-parallel-item\"><div class=\"sk-item\"><div class=\"sk-label-container\"><div class=\"sk-label sk-toggleable\"><input class=\"sk-toggleable__control sk-hidden--visually\" id=\"sk-estimator-id-3\" type=\"checkbox\" ><label for=\"sk-estimator-id-3\" class=\"sk-toggleable__label sk-toggleable__label-arrow\">num</label><div class=\"sk-toggleable__content\"><pre>Index([&#x27;Years of Education after High School&#x27;], dtype=&#x27;object&#x27;)</pre></div></div></div><div class=\"sk-serial\"><div class=\"sk-item\"><div class=\"sk-estimator sk-toggleable\"><input class=\"sk-toggleable__control sk-hidden--visually\" id=\"sk-estimator-id-4\" type=\"checkbox\" ><label for=\"sk-estimator-id-4\" class=\"sk-toggleable__label sk-toggleable__label-arrow\">StandardScaler</label><div class=\"sk-toggleable__content\"><pre>StandardScaler()</pre></div></div></div></div></div></div><div class=\"sk-parallel-item\"><div class=\"sk-item\"><div class=\"sk-label-container\"><div class=\"sk-label sk-toggleable\"><input class=\"sk-toggleable__control sk-hidden--visually\" id=\"sk-estimator-id-5\" type=\"checkbox\" ><label for=\"sk-estimator-id-5\" class=\"sk-toggleable__label sk-toggleable__label-arrow\">cat</label><div class=\"sk-toggleable__content\"><pre>Index([&#x27;Requested Credit Amount&#x27;, &#x27;Number of Dependents&#x27;, &#x27;Monthly Income&#x27;,\n",
       "       &#x27;Monthly Expense&#x27;, &#x27;Marital Status&#x27;],\n",
       "      dtype=&#x27;object&#x27;)</pre></div></div></div><div class=\"sk-serial\"><div class=\"sk-item\"><div class=\"sk-estimator sk-toggleable\"><input class=\"sk-toggleable__control sk-hidden--visually\" id=\"sk-estimator-id-6\" type=\"checkbox\" ><label for=\"sk-estimator-id-6\" class=\"sk-toggleable__label sk-toggleable__label-arrow\">OneHotEncoder</label><div class=\"sk-toggleable__content\"><pre>OneHotEncoder()</pre></div></div></div></div></div></div></div></div><div class=\"sk-item\"><div class=\"sk-estimator sk-toggleable\"><input class=\"sk-toggleable__control sk-hidden--visually\" id=\"sk-estimator-id-7\" type=\"checkbox\" ><label for=\"sk-estimator-id-7\" class=\"sk-toggleable__label sk-toggleable__label-arrow\">LogisticRegression</label><div class=\"sk-toggleable__content\"><pre>LogisticRegression()</pre></div></div></div></div></div></div></div>"
      ],
      "text/plain": [
       "Pipeline(steps=[('preprocessor',\n",
       "                 ColumnTransformer(transformers=[('num', StandardScaler(),\n",
       "                                                  Index(['Years of Education after High School'], dtype='object')),\n",
       "                                                 ('cat', OneHotEncoder(),\n",
       "                                                  Index(['Requested Credit Amount', 'Number of Dependents', 'Monthly Income',\n",
       "       'Monthly Expense', 'Marital Status'],\n",
       "      dtype='object'))])),\n",
       "                ('classifier', LogisticRegression())])"
      ]
     },
     "execution_count": 37,
     "metadata": {},
     "output_type": "execute_result"
    }
   ],
   "source": [
    "# Fit the model\n",
    "pipeline.fit(X_train, y_train)\n"
   ]
  },
  {
   "cell_type": "markdown",
   "metadata": {},
   "source": [
    "##### **Model Prediction and Evaluation**"
   ]
  },
  {
   "cell_type": "code",
   "execution_count": 39,
   "metadata": {},
   "outputs": [],
   "source": [
    "# Make predictions\n",
    "y_pred = pipeline.predict(X_test)"
   ]
  },
  {
   "cell_type": "code",
   "execution_count": 42,
   "metadata": {},
   "outputs": [],
   "source": [
    "# Compute metrics\n",
    "conf_matrix = confusion_matrix(y_test, y_pred)\n",
    "recall = recall_score(y_test, y_pred, pos_label='Positive')\n",
    "precision = precision_score(y_test, y_pred, pos_label='Positive')\n",
    "f1 = f1_score(y_test, y_pred, pos_label='Positive')"
   ]
  },
  {
   "cell_type": "code",
   "execution_count": 56,
   "metadata": {},
   "outputs": [
    {
     "name": "stdout",
     "output_type": "stream",
     "text": [
      "Confusion Matrix:\n",
      " [[   0  567]\n",
      " [   0 3474]]\n",
      "Recall: 1.0\n",
      "Precision: 0.8596881959910914\n",
      "F1 Score: 0.9245508982035928\n"
     ]
    }
   ],
   "source": [
    "# Displaying the results\n",
    "print(\"Confusion Matrix:\\n\", conf_matrix)\n",
    "print(\"Recall:\", recall)\n",
    "print(\"Precision:\", precision)\n",
    "print(\"F1 Score:\", f1)"
   ]
  },
  {
   "cell_type": "markdown",
   "metadata": {},
   "source": [
    "**Confusion Matrix:**\n",
    "True Negative (TN): 0\n",
    "False Positive (FP): 567\n",
    "False Negative (FN): 0\n",
    "True Positive (TP): 3474\n",
    "\n",
    "**Recall:**\n",
    "The recall score is 1.0. \n",
    "\n",
    "**Precision :**\n",
    "The precision score is approximately 0.860. \n",
    "\n",
    "**F1-Score:**\n",
    "The F1-Score, which balances precision and recall, is approximately 0.925.\n",
    "\n",
    "(Details in the summary report)"
   ]
  },
  {
   "cell_type": "markdown",
   "metadata": {},
   "source": [
    "##### 2. Suppose that the bank decided to make the credit approval process more challenging such that only 15% of the applications would be granted. Calculate the threshold value for the prediction probability, so only 15% of the test set would get their applications approved."
   ]
  },
  {
   "cell_type": "code",
   "execution_count": 73,
   "metadata": {},
   "outputs": [],
   "source": [
    "# Getting the predicted probabilities for the positive class\n",
    "y_pred_proba = pipeline.predict_proba(X_test)[:, 1]\n",
    "\n",
    "# Calculating the threshold for top 15% scores\n",
    "threshold = np.percentile(y_pred_proba, 85)\n",
    "\n",
    "# Applying the new threshold to make predictions\n",
    "y_pred_new = (y_pred_proba >= threshold)"
   ]
  },
  {
   "cell_type": "code",
   "execution_count": 74,
   "metadata": {},
   "outputs": [],
   "source": [
    "# Ensure y_pred_new is in the same format as y_test\n",
    "# Convert the boolean predictions to string labels ('Negative', 'Positive')\n",
    "y_pred_new_labels = np.where(y_pred_new, 'Positive', 'Negative')\n"
   ]
  },
  {
   "cell_type": "code",
   "execution_count": 75,
   "metadata": {},
   "outputs": [],
   "source": [
    "# Recalculating metrics with the new threshold\n",
    "conf_matrix_new = confusion_matrix(y_test, y_pred_new_labels)\n",
    "recall_new = recall_score(y_test, y_pred_new_labels, pos_label='Positive')\n",
    "precision_new = precision_score(y_test, y_pred_new_labels, pos_label='Positive')\n",
    "f1_new = f1_score(y_test, y_pred_new_labels, pos_label='Positive')"
   ]
  },
  {
   "cell_type": "code",
   "execution_count": 76,
   "metadata": {},
   "outputs": [
    {
     "name": "stdout",
     "output_type": "stream",
     "text": [
      "New Confusion Matrix:\n",
      " [[ 485   82]\n",
      " [2901  573]]\n",
      "New Recall: 0.16493955094991364\n",
      "New Precision: 0.8748091603053435\n",
      "New F1 Score: 0.27754904335190117\n"
     ]
    }
   ],
   "source": [
    "# Displaying the results\n",
    "print(\"New Confusion Matrix:\\n\", conf_matrix_new)\n",
    "print(\"New Recall:\", recall_new)\n",
    "print(\"New Precision:\", precision_new)\n",
    "print(\"New F1 Score:\", f1_new)"
   ]
  },
  {
   "cell_type": "markdown",
   "metadata": {},
   "source": [
    "**New Confusion Matrix:**\n",
    "True Negative (TN): 485\n",
    "False Positive (FP): 82\n",
    "False Negative (FN): 2901\n",
    "True Positive (TP): 573\n",
    "\n",
    "**New Recall:** \n",
    "The recall score is approximately 0.165. \n",
    "\n",
    "**New Precision:** \n",
    "The precision score is approximately 0.875. \n",
    "\n",
    "**New F1 Score:** The F1 score is approximately 0.278. \n",
    "\n",
    "(Details in the summary report)\n"
   ]
  }
 ],
 "metadata": {
  "kernelspec": {
   "display_name": "base",
   "language": "python",
   "name": "python3"
  },
  "language_info": {
   "codemirror_mode": {
    "name": "ipython",
    "version": 3
   },
   "file_extension": ".py",
   "mimetype": "text/x-python",
   "name": "python",
   "nbconvert_exporter": "python",
   "pygments_lexer": "ipython3",
   "version": "3.11.5"
  }
 },
 "nbformat": 4,
 "nbformat_minor": 2
}
