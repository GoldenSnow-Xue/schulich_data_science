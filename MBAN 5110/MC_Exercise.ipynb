{
 "cells": [
  {
   "cell_type": "code",
   "execution_count": 1,
   "metadata": {},
   "outputs": [],
   "source": [
    "import numpy as np\n",
    "import pandas as pd\n",
    "import matplotlib.pyplot as plt"
   ]
  },
  {
   "cell_type": "code",
   "execution_count": 2,
   "metadata": {},
   "outputs": [],
   "source": [
    "values = np.array([1,2,3,4])\n",
    "hits = np.array([10,20,30,10])"
   ]
  },
  {
   "cell_type": "code",
   "execution_count": 3,
   "metadata": {},
   "outputs": [
    {
     "data": {
      "text/plain": [
       "array([0.14285714, 0.28571429, 0.42857143, 0.14285714])"
      ]
     },
     "execution_count": 3,
     "metadata": {},
     "output_type": "execute_result"
    }
   ],
   "source": [
    "# Now we calculate the probability values from hits (i.e., frequencies)\n",
    "probs = hits/np.sum(hits)\n",
    "probs"
   ]
  },
  {
   "cell_type": "code",
   "execution_count": 4,
   "metadata": {},
   "outputs": [
    {
     "data": {
      "text/plain": [
       "array([0.14285714, 0.42857143, 0.85714286, 1.        ])"
      ]
     },
     "execution_count": 4,
     "metadata": {},
     "output_type": "execute_result"
    }
   ],
   "source": [
    "cum_probs = np.cumsum(probs)\n",
    "cum_probs"
   ]
  },
  {
   "cell_type": "code",
   "execution_count": 5,
   "metadata": {},
   "outputs": [],
   "source": [
    "# we now generate a random variable between zero and one\n",
    "random_variable = np.random.uniform(0,1,1)\n",
    "# this function gives the index value of the row such that random variable lies between lower and upper bounds\n",
    "index_value = min(np.argwhere(cum_probs>random_variable).ravel())\n",
    "# the assigned value then becomes\n",
    "assigned_value = values[index_value]"
   ]
  },
  {
   "cell_type": "code",
   "execution_count": 6,
   "metadata": {},
   "outputs": [],
   "source": [
    "# we now calculate the profit of the agent\n",
    "profit = 15*(assigned_value<=1) + 25*(assigned_value>=3)"
   ]
  },
  {
   "cell_type": "code",
   "execution_count": 7,
   "metadata": {},
   "outputs": [
    {
     "data": {
      "text/plain": [
       "[array([0.42605253]), 2, 0]"
      ]
     },
     "execution_count": 7,
     "metadata": {},
     "output_type": "execute_result"
    }
   ],
   "source": [
    "list([random_variable.ravel(), assigned_value, profit])"
   ]
  },
  {
   "cell_type": "code",
   "execution_count": 10,
   "metadata": {},
   "outputs": [],
   "source": [
    "m = 1000\n",
    "N = 100\n",
    "random_variable = np.random.uniform(0,1,[m,N])\n",
    "profit_values = np.zeros((m,N))\n",
    "for i in range(N):\n",
    "    profit_m = []\n",
    "    for j in range(m):\n",
    "        index_value = min(np.argwhere(cum_probs>random_variable[j,i]).ravel())\n",
    "        assigned_value = values[index_value]\n",
    "        profit_val = 15*(assigned_value<=1) + 25*(assigned_value>=3)\n",
    "        profit_m.append(profit_val)\n",
    "    profit_values[:,i] = profit_m"
   ]
  },
  {
   "cell_type": "code",
   "execution_count": 13,
   "metadata": {},
   "outputs": [
    {
     "data": {
      "text/plain": [
       "list[16.42186250288697, 16.4897, 16.557537497113028]"
      ]
     },
     "execution_count": 13,
     "metadata": {},
     "output_type": "execute_result"
    }
   ],
   "source": [
    "# calculate the mean of each sample\n",
    "mean_sample = np.mean(profit_values, axis = 0)\n",
    "# calculate standard deviation\n",
    "sigma = np.std(mean_sample)\n",
    "# Mean of means\n",
    "f_bar_bar = np.mean(mean_sample)\n",
    "# Lower bound of CI\n",
    "lower_bound = f_bar_bar-1.96*sigma/np.sqrt(N)\n",
    "# Upper bound of CI\n",
    "upper_bound = f_bar_bar+1.96*sigma/np.sqrt(N)\n",
    "# Summary statistics Lower Bound, Mean of Means, Upper Bound\n",
    "list[lower_bound,f_bar_bar,upper_bound]"
   ]
  }
 ],
 "metadata": {
  "kernelspec": {
   "display_name": "base",
   "language": "python",
   "name": "python3"
  },
  "language_info": {
   "codemirror_mode": {
    "name": "ipython",
    "version": 3
   },
   "file_extension": ".py",
   "mimetype": "text/x-python",
   "name": "python",
   "nbconvert_exporter": "python",
   "pygments_lexer": "ipython3",
   "version": "3.11.5"
  }
 },
 "nbformat": 4,
 "nbformat_minor": 2
}
