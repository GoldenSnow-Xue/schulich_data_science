{
 "cells": [
  {
   "cell_type": "code",
   "execution_count": null,
   "id": "fb4cc0fc",
   "metadata": {},
   "outputs": [],
   "source": [
    "### polygon:lat, log, inside is the alert"
   ]
  },
  {
   "cell_type": "code",
   "execution_count": null,
   "id": "2a53e7aa",
   "metadata": {},
   "outputs": [],
   "source": [
    "# find dd.weather.ds.ca\n",
    "# find a city \n",
    "\n",
    "# coordinates: lag, log\n",
    "# find polygon\n",
    "# write the inside or ourside\n",
    "# compare the cordinates: inside, store the data.\n",
    "# push the data\n",
    "\n",
    "# write the script\n",
    "# alert: go\n",
    "# no alert: stop\n",
    "\n",
    "\n",
    "# city, number of columns, lots of information to bring"
   ]
  },
  {
   "cell_type": "code",
   "execution_count": null,
   "id": "e55af44e",
   "metadata": {},
   "outputs": [],
   "source": [
    "https://docs.python.org/3/library/xml.etree.elementtree.html?highlight=xml%20etree#xml.etree.ElementTree.XML"
   ]
  },
  {
   "cell_type": "code",
   "execution_count": null,
   "id": "f13a7f2b",
   "metadata": {},
   "outputs": [],
   "source": [
    "https://docs.python.org/3/library/xml.etree.elementtree.html"
   ]
  },
  {
   "cell_type": "code",
   "execution_count": null,
   "id": "3bb9df0a",
   "metadata": {},
   "outputs": [],
   "source": [
    "https://dd.weather.gc.ca/"
   ]
  },
  {
   "cell_type": "code",
   "execution_count": null,
   "id": "01cc1acb",
   "metadata": {},
   "outputs": [],
   "source": [
    "https://openweathermap.org/forecast5"
   ]
  },
  {
   "cell_type": "code",
   "execution_count": null,
   "id": "9505d5fd",
   "metadata": {},
   "outputs": [],
   "source": [
    "https://home.openweathermap.org/api_keys"
   ]
  }
 ],
 "metadata": {
  "kernelspec": {
   "display_name": "Python 3",
   "language": "python",
   "name": "python3"
  },
  "language_info": {
   "codemirror_mode": {
    "name": "ipython",
    "version": 3
   },
   "file_extension": ".py",
   "mimetype": "text/x-python",
   "name": "python",
   "nbconvert_exporter": "python",
   "pygments_lexer": "ipython3",
   "version": "3.6.8"
  }
 },
 "nbformat": 4,
 "nbformat_minor": 5
}
