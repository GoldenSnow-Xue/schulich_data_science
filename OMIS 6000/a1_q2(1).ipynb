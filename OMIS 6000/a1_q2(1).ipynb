{
 "cells": [
  {
   "cell_type": "code",
   "execution_count": 2,
   "metadata": {},
   "outputs": [],
   "source": [
    "from gurobipy import GRB\n",
    "import gurobipy as gb\n",
    "\n",
    "# Create the optimization model\n",
    "model = gb.Model(\"Sunnyshore Bay Project\")"
   ]
  },
  {
   "cell_type": "code",
   "execution_count": 3,
   "metadata": {},
   "outputs": [],
   "source": [
    "# Constants\n",
    "revenues = [180000, 260000, 420000, 580000]\n",
    "expenses = [300000, 400000, 350000, 200000]\n",
    "interest_rates = {1: 0.0175, 2: 0.0225, 3: 0.0275}\n",
    "borrowing_limits = {0: 250000, 1: 150000, 2: 350000}\n",
    "min_cash_balances = [25000, 20000, 35000, 18000]"
   ]
  },
  {
   "cell_type": "code",
   "execution_count": 4,
   "metadata": {},
   "outputs": [],
   "source": [
    "# Create the optimization model\n",
    "model = gb.Model(\"Sunnyshore Bay\")\n",
    "\n",
    "# Add decision variables\n",
    "Borrow = model.addVars(4, 3, lb=0, vtype=GRB.CONTINUOUS, name=\"Borrow\")  \n",
    "CashBalance = model.addVars(4, lb=0, vtype=GRB.CONTINUOUS, name=\"CashBalance\")\n"
   ]
  },
  {
   "cell_type": "code",
   "execution_count": 5,
   "metadata": {},
   "outputs": [
    {
     "data": {
      "text/plain": [
       "<gurobi.Constr *Awaiting Model Update*>"
      ]
     },
     "execution_count": 5,
     "metadata": {},
     "output_type": "execute_result"
    }
   ],
   "source": [
    "# Add constraints\n",
    "# Borrowing constraints\n",
    "for i in range(4):\n",
    "    model.addConstr(sum(Borrow[i, j] for j in range(3)) <= borrowing_limits.get(i, float('inf')), f\"Borrowing_Limit_Month_{i+1}\")\n",
    "\n",
    "# Cash balance constraints and repayment\n",
    "for i in range(4):\n",
    "    income = revenues[i] if i < 4 else 0\n",
    "    expense = expenses[i] if i < 4 else 0\n",
    "    model.addConstr(\n",
    "        CashBalance[i] == (CashBalance[i-1] if i > 0 else 0) + income - expense + sum(Borrow[i, j] for j in range(3)) - sum(Borrow[i-j-1, j] * (1 + interest_rates[j+1]) for j in range(min(i, 3))),\n",
    "        f\"Cash_Balance_Month_{i+1}\"\n",
    "    )\n",
    "    model.addConstr(CashBalance[i] >= min_cash_balances[i], f\"Min_Cash_Balance_Month_{i+1}\")\n",
    "\n",
    "# Constraint for cash balance at the end of July\n",
    "model.addConstr(CashBalance[2] >= 0.65 * (CashBalance[0] + CashBalance[1]), \"Cash_Balance_July\")\n"
   ]
  },
  {
   "cell_type": "code",
   "execution_count": 6,
   "metadata": {},
   "outputs": [
    {
     "name": "stdout",
     "output_type": "stream",
     "text": [
      "Gurobi Optimizer version 11.0.0 build v11.0.0rc2 (mac64[x86] - Darwin 22.4.0 22E261)\n",
      "\n",
      "CPU model: Intel(R) Core(TM) i5-1030NG7 CPU @ 1.10GHz\n",
      "Thread count: 4 physical cores, 8 logical processors, using up to 8 threads\n",
      "\n",
      "Optimize a model with 13 rows, 16 columns and 44 nonzeros\n",
      "Model fingerprint: 0xe944467e\n",
      "Coefficient statistics:\n",
      "  Matrix range     [7e-01, 1e+00]\n",
      "  Objective range  [1e+00, 1e+00]\n",
      "  Bounds range     [0e+00, 0e+00]\n",
      "  RHS range        [2e+04, 1e+100]\n",
      "Warning: Model contains large rhs\n",
      "         Consider reformulating model or setting NumericFocus parameter\n",
      "         to avoid numerical issues.\n",
      "Presolve removed 7 rows and 7 columns\n",
      "Presolve time: 0.02s\n",
      "Presolved: 6 rows, 9 columns, 22 nonzeros\n",
      "\n",
      "Iteration    Objective       Primal Inf.    Dual Inf.      Time\n",
      "       0    0.0000000e+00   6.000000e+04   0.000000e+00      0s\n",
      "       3    2.8562500e+05   0.000000e+00   0.000000e+00      0s\n",
      "\n",
      "Solved in 3 iterations and 0.03 seconds (0.00 work units)\n",
      "Optimal objective  2.856250000e+05\n",
      "Total amount repaid to the bank:  285625.0\n",
      "Borrow[0,0]: 0.0\n",
      "Borrow[0,1]: 145000.0\n",
      "Borrow[0,2]: 0.0\n",
      "Borrow[1,0]: 135000.0\n",
      "Borrow[1,1]: 0.0\n",
      "Borrow[1,2]: 0.0\n",
      "Borrow[2,0]: 0.0\n",
      "Borrow[2,1]: 0.0\n",
      "Borrow[2,2]: 230625.0\n",
      "Borrow[3,0]: 0.0\n",
      "Borrow[3,1]: 0.0\n",
      "Borrow[3,2]: 0.0\n",
      "CashBalance[0]: 25000.0\n",
      "CashBalance[1]: 20000.0\n",
      "CashBalance[2]: 35000.0\n",
      "CashBalance[3]: 415000.0\n"
     ]
    }
   ],
   "source": [
    "# The objective function is to minimize the total repayment amount\n",
    "model.setObjective(sum(Borrow[i, j] * (1 + interest_rates[j+1]) for i in range(4) for j in range(min(3, 4-i))), GRB.MINIMIZE)\n",
    "\n",
    "# Optimize the model\n",
    "model.optimize()\n",
    "\n",
    "# Output the solution\n",
    "print(\"Total amount repaid to the bank: \", model.objVal)\n",
    "for v in model.getVars():\n",
    "    print(f\"{v.varName}: {v.x}\")"
   ]
  },
  {
   "cell_type": "code",
   "execution_count": 7,
   "metadata": {},
   "outputs": [
    {
     "name": "stdout",
     "output_type": "stream",
     "text": [
      "Total amount repaid to the bank:  285625.0\n",
      "Cash Balance at the end of Month 1: 25000.0\n",
      "Amount borrowed in Month 1 with a term of 1 month(s): 0.0\n",
      "Amount borrowed in Month 1 with a term of 2 month(s): 145000.0\n",
      "Amount borrowed in Month 1 with a term of 3 month(s): 0.0\n",
      "Cash Balance at the end of Month 2: 20000.0\n",
      "Amount borrowed in Month 2 with a term of 1 month(s): 135000.0\n",
      "Amount borrowed in Month 2 with a term of 2 month(s): 0.0\n",
      "Amount borrowed in Month 2 with a term of 3 month(s): 0.0\n",
      "Cash Balance at the end of Month 3: 35000.0\n",
      "Amount borrowed in Month 3 with a term of 1 month(s): 0.0\n",
      "Amount borrowed in Month 3 with a term of 2 month(s): 0.0\n",
      "Cash Balance at the end of Month 4: 415000.0\n",
      "Amount borrowed in Month 4 with a term of 1 month(s): 0.0\n"
     ]
    }
   ],
   "source": [
    "# Output the solution\n",
    "print(\"Total amount repaid to the bank: \", model.objVal)\n",
    "for i in range(4):\n",
    "    print(f\"Cash Balance at the end of Month {i+1}: {CashBalance[i].x}\")\n",
    "    for j in range(3):\n",
    "        if i+j < 4:  # Ensuring we don't access months beyond August\n",
    "            print(f\"Amount borrowed in Month {i+1} with a term of {j+1} month(s): {Borrow[i, j].x}\")\n"
   ]
  },
  {
   "cell_type": "markdown",
   "metadata": {},
   "source": [
    "# (a) How many different investments can be made over the 4-month period?"
   ]
  },
  {
   "cell_type": "markdown",
   "metadata": {},
   "source": [
    "This might be a combination problem:\n",
    "\n",
    "May: 4 options (no borrowing, 1-month, 2-months, 3-months)\n",
    "\n",
    "June: 3 options (no borrowing, 1-month, 2-months)\n",
    "\n",
    "July: 2 options (no borrowing, 1-month)\n",
    "\n",
    "August: 1 option (no borrowing)\n",
    "\n",
    "total combination = 4x3x2x1 = 24 investments"
   ]
  },
  {
   "cell_type": "markdown",
   "metadata": {},
   "source": [
    "# (b) Write down the cash balance constraint for money on-hand at the end of June."
   ]
  },
  {
   "cell_type": "code",
   "execution_count": 10,
   "metadata": {},
   "outputs": [
    {
     "name": "stdout",
     "output_type": "stream",
     "text": [
      "Gurobi Optimizer version 11.0.0 build v11.0.0rc2 (mac64[x86] - Darwin 22.4.0 22E261)\n",
      "\n",
      "CPU model: Intel(R) Core(TM) i5-1030NG7 CPU @ 1.10GHz\n",
      "Thread count: 4 physical cores, 8 logical processors, using up to 8 threads\n",
      "\n",
      "Optimize a model with 17 rows, 16 columns and 58 nonzeros\n",
      "Coefficient statistics:\n",
      "  Matrix range     [7e-01, 1e+00]\n",
      "  Objective range  [1e+00, 1e+00]\n",
      "  Bounds range     [0e+00, 0e+00]\n",
      "  RHS range        [2e+04, 1e+100]\n",
      "Warning: Model contains large rhs\n",
      "         Consider reformulating model or setting NumericFocus parameter\n",
      "         to avoid numerical issues.\n",
      "LP warm-start: use basis\n",
      "Iteration    Objective       Primal Inf.    Dual Inf.      Time\n",
      "       0    2.8562500e+05   0.000000e+00   0.000000e+00      0s\n",
      "\n",
      "Solved in 0 iterations and 0.03 seconds (0.00 work units)\n",
      "Optimal objective  2.856250000e+05\n",
      "Cash Balance at the end of June:  20000.0\n"
     ]
    }
   ],
   "source": [
    "# Cash balance at the end of June\n",
    "model.addConstr(\n",
    "    CashBalance[1] == CashBalance[0] + revenues[1] - expenses[1] + \n",
    "    sum(Borrow[1, j] for j in range(3)) - \n",
    "    sum(Borrow[0, j] * (1 + interest_rates[j+1]) for j in range(1)),\n",
    "    \"Cash_Balance_Month_2\"\n",
    ")\n",
    "model.addConstr(CashBalance[1] >= min_cash_balances[1], \"Min_Cash_Balance_Month_2\")\n",
    "# Solve the model\n",
    "model.optimize()\n",
    "\n",
    "# Output the cash balance at the end of June\n",
    "print(\"Cash Balance at the end of June: \", CashBalance[1].x)\n"
   ]
  },
  {
   "cell_type": "markdown",
   "metadata": {},
   "source": [
    "# (c) Write down the linear ratio constraint associated with the cash balance at the end of July"
   ]
  },
  {
   "cell_type": "code",
   "execution_count": 11,
   "metadata": {},
   "outputs": [
    {
     "name": "stdout",
     "output_type": "stream",
     "text": [
      "Cash Balance at the end of July:  35000.0\n",
      "Required Minimum Cash Balance at the end of July (65% of May and June):  29250.0\n"
     ]
    }
   ],
   "source": [
    "model.addConstr(CashBalance[2] >= 0.65 * (CashBalance[0] + CashBalance[1]), \"Cash_Balance_July\")\n",
    "# Output the cash balance at the end of July and the required minimum (65% of the combined cash balances of May and June)\n",
    "print(\"Cash Balance at the end of July: \", CashBalance[2].x)\n",
    "print(\"Required Minimum Cash Balance at the end of July (65% of May and June): \", 0.65 * (CashBalance[0].x + CashBalance[1].x))\n"
   ]
  },
  {
   "cell_type": "markdown",
   "metadata": {},
   "source": [
    "# (d) What is the total amount that Sunnyshore Bay has to repay to the bank over the entire season?"
   ]
  },
  {
   "cell_type": "code",
   "execution_count": 12,
   "metadata": {},
   "outputs": [
    {
     "name": "stdout",
     "output_type": "stream",
     "text": [
      "Total amount repaid to the bank over the entire season:  285625.0\n"
     ]
    }
   ],
   "source": [
    "# After solving the model\n",
    "print(\"Total amount repaid to the bank over the entire season: \", model.objVal)\n"
   ]
  },
  {
   "cell_type": "markdown",
   "metadata": {},
   "source": [
    "# (e) How much money does Sunnyshore Bay withdraw in May from all loans?"
   ]
  },
  {
   "cell_type": "code",
   "execution_count": 13,
   "metadata": {},
   "outputs": [
    {
     "name": "stdout",
     "output_type": "stream",
     "text": [
      "Total amount borrowed in May:  145000.0\n"
     ]
    }
   ],
   "source": [
    "May_borrowed_total = sum(Borrow[0, j].x for j in range(3))\n",
    "print(\"Total amount borrowed in May: \", May_borrowed_total)\n"
   ]
  },
  {
   "cell_type": "markdown",
   "metadata": {},
   "source": [
    "# (f) What is the cash balance at the end of August?"
   ]
  },
  {
   "cell_type": "code",
   "execution_count": 16,
   "metadata": {},
   "outputs": [
    {
     "name": "stdout",
     "output_type": "stream",
     "text": [
      "Cash Balance at the end of August:  415000.0\n"
     ]
    }
   ],
   "source": [
    "print(\"Cash Balance at the end of August: \", CashBalance[3].x)"
   ]
  },
  {
   "cell_type": "markdown",
   "metadata": {},
   "source": [
    "# (g) Due to potential unexpected repairs, one of the managers has suggested increasing the minimum cash balance for June to $27,500. How much will now have to be repaid if this change is approved?"
   ]
  },
  {
   "cell_type": "code",
   "execution_count": 17,
   "metadata": {},
   "outputs": [
    {
     "name": "stdout",
     "output_type": "stream",
     "text": [
      "Gurobi Optimizer version 11.0.0 build v11.0.0rc2 (mac64[x86] - Darwin 22.4.0 22E261)\n",
      "\n",
      "CPU model: Intel(R) Core(TM) i5-1030NG7 CPU @ 1.10GHz\n",
      "Thread count: 4 physical cores, 8 logical processors, using up to 8 threads\n",
      "\n",
      "Optimize a model with 18 rows, 16 columns and 61 nonzeros\n",
      "Model fingerprint: 0x7bd652dd\n",
      "Coefficient statistics:\n",
      "  Matrix range     [7e-01, 1e+00]\n",
      "  Objective range  [1e+00, 1e+00]\n",
      "  Bounds range     [0e+00, 0e+00]\n",
      "  RHS range        [2e+04, 1e+100]\n",
      "Warning: Model contains large rhs\n",
      "         Consider reformulating model or setting NumericFocus parameter\n",
      "         to avoid numerical issues.\n",
      "Presolve removed 12 rows and 7 columns\n",
      "Presolve time: 0.02s\n",
      "Presolved: 6 rows, 9 columns, 22 nonzeros\n",
      "\n",
      "Iteration    Objective       Primal Inf.    Dual Inf.      Time\n",
      "       0    0.0000000e+00   6.187500e+04   0.000000e+00      0s\n",
      "       3    2.9325625e+05   0.000000e+00   0.000000e+00      0s\n",
      "\n",
      "Solved in 3 iterations and 0.03 seconds (0.00 work units)\n",
      "Optimal objective  2.932562500e+05\n",
      "New total amount repaid to the bank after increasing June's minimum cash balance:  293256.25\n"
     ]
    }
   ],
   "source": [
    "# Update the minimum cash balance for June\n",
    "min_cash_balances[1] = 27500\n",
    "\n",
    "# Update the constraint for June's cash balance\n",
    "model.remove(model.getConstrByName(\"Min_Cash_Balance_Month_2\"))\n",
    "model.addConstr(CashBalance[1] >= min_cash_balances[1], \"Min_Cash_Balance_Month_2\")\n",
    "\n",
    "# Re-optimize the model\n",
    "model.optimize()\n",
    "\n",
    "# Output the new total amount that needs to be repaid\n",
    "print(\"New total amount repaid to the bank after increasing June's minimum cash balance: \", model.objVal)\n"
   ]
  },
  {
   "cell_type": "markdown",
   "metadata": {},
   "source": [
    "# (h) Formulate and solve the dual linear program demonstrating that the model you create is, indeed, the correct dual problem of the primal formulation."
   ]
  },
  {
   "cell_type": "code",
   "execution_count": null,
   "metadata": {},
   "outputs": [],
   "source": []
  },
  {
   "cell_type": "markdown",
   "metadata": {},
   "source": [
    "# (i) Which formulation, the primal or the dual model, do you think is easier to solve?"
   ]
  },
  {
   "cell_type": "markdown",
   "metadata": {},
   "source": []
  }
 ],
 "metadata": {
  "kernelspec": {
   "display_name": "Python 3",
   "language": "python",
   "name": "python3"
  },
  "language_info": {
   "codemirror_mode": {
    "name": "ipython",
    "version": 3
   },
   "file_extension": ".py",
   "mimetype": "text/x-python",
   "name": "python",
   "nbconvert_exporter": "python",
   "pygments_lexer": "ipython3",
   "version": "3.9.6"
  }
 },
 "nbformat": 4,
 "nbformat_minor": 2
}
