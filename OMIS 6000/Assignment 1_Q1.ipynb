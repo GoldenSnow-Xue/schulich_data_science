{
 "cells": [
  {
   "cell_type": "code",
   "execution_count": 1,
   "metadata": {},
   "outputs": [],
   "source": [
    "import pandas as pd\n",
    "import numpy as np\n",
    "from gurobipy import GRB\n",
    "import gurobipy as gb"
   ]
  },
  {
   "cell_type": "code",
   "execution_count": 2,
   "metadata": {},
   "outputs": [],
   "source": [
    "# (a)"
   ]
  },
  {
   "cell_type": "code",
   "execution_count": 3,
   "metadata": {},
   "outputs": [
    {
     "name": "stdout",
     "output_type": "stream",
     "text": [
      "Set parameter Username\n",
      "Academic license - for non-commercial use only - expires 2025-01-15\n"
     ]
    }
   ],
   "source": [
    "# Create the optimization model\n",
    "model = gb.Model('Can2Oil_Transportation_Optimization')"
   ]
  },
  {
   "cell_type": "code",
   "execution_count": 4,
   "metadata": {},
   "outputs": [],
   "source": [
    "# Decision variables\n",
    "## Let x[i, j] denote the amount of canola oil transported directly from production facility i to refinement center j.\n",
    "## Let y[i, k] denote the amount of canola oil transported from production facility i to transshipment hub k.\n",
    "## Let z[k, j] denote the amount of canola oil transported from transshipment hub k to refinement center j.\n",
    "\n",
    "x = model.addVars(25, 5, name=\"Direct Production Facilities\")\n",
    "y = model.addVars(15, 2, name=\"Transshipment Production Facilities\")\n",
    "z = model.addVars(2, 5, name=\"Transshipment Hubs\")"
   ]
  },
  {
   "cell_type": "code",
   "execution_count": 5,
   "metadata": {},
   "outputs": [],
   "source": [
    "direct_prod_capacity_df = pd.read_csv('/Users/shiyini/Desktop/YorkU Schulich💚/Term 3 - Winter/OMIS 6000 F/Assignment/Capacity_for_Direct_Production_Facilities.csv')\n",
    "trans_prod_capacity_df = pd.read_csv('/Users/shiyini/Desktop/YorkU Schulich💚/Term 3 - Winter/OMIS 6000 F/Assignment/Capacity_for_Transship_Production_Facilities.csv')\n",
    "trans_capacity_df = pd.read_csv('/Users/shiyini/Desktop/YorkU Schulich💚/Term 3 - Winter/OMIS 6000 F/Assignment/Capacity_for_Transship_Distribution_Centers.csv')\n",
    "refinement_demand_df = pd.read_csv('/Users/shiyini/Desktop/YorkU Schulich💚/Term 3 - Winter/OMIS 6000 F/Assignment/Refinement_Demand.csv')\n",
    "\n",
    "direct_prod_refinement_cost_df = pd.read_csv('/Users/shiyini/Desktop/YorkU Schulich💚/Term 3 - Winter/OMIS 6000 F/Assignment/Cost_Production_to_Refinement.csv')\n",
    "trans_prod_trans_cost_df = pd.read_csv('/Users/shiyini/Desktop/YorkU Schulich💚/Term 3 - Winter/OMIS 6000 F/Assignment/Cost_Production_to_Transshipment.csv')\n",
    "trans_refinement_cost_df = pd.read_csv('/Users/shiyini/Desktop/YorkU Schulich💚/Term 3 - Winter/OMIS 6000 F/Assignment/Cost_Transshipment_to_Refinement.csv')"
   ]
  },
  {
   "cell_type": "code",
   "execution_count": 6,
   "metadata": {},
   "outputs": [],
   "source": [
    "direct_prod_capacity = direct_prod_capacity_df['Capacity']\n",
    "trans_prod_capacity = trans_prod_capacity_df['Capacity']\n",
    "trans_capacity = trans_capacity_df['Capacity']\n",
    "refinement_demand = refinement_demand_df['Demand']\n",
    "\n",
    "direct_prod_refinement_cost = [group[\"Cost\"].tolist() for _, group in direct_prod_refinement_cost_df.groupby(\"ProductionFacility\")]\n",
    "trans_prod_trans_cost = [group[\"Cost\"].tolist() for _, group in trans_prod_trans_cost_df.groupby(\"ProductionFacility\")]\n",
    "trans_refinement_cost = [group[\"Cost\"].tolist() for _, group in trans_refinement_cost_df.groupby(\"TransshipmentHub\")]"
   ]
  },
  {
   "cell_type": "code",
   "execution_count": 7,
   "metadata": {},
   "outputs": [],
   "source": [
    "# Constraints\n",
    "\n",
    "## Capacity constraints for direct production facility\n",
    "for i in range(25):\n",
    "    model.addConstr(gb.quicksum(x[i, j] for j in range(5)) <= direct_prod_capacity[i], name=f\"Capacity_Constraint_Direct_Production_{i}\")\n",
    "\n",
    "## Capacity constraints for transshipment production facility\n",
    "for i in range(15):\n",
    "    model.addConstr(gb.quicksum(y[i, k] for k in range(2)) <= trans_prod_capacity[i], name=f\"Capacity_Constraint_Transship_Production_{i}\")\n",
    "\n",
    "## Capacity constraints for transshipment hub\n",
    "for k in range(2):\n",
    "    # Flow conservation: Inflow equals outflow\n",
    "    model.addConstr(gb.quicksum(y[i, k] for i in range(15)) == gb.quicksum(z[k, j] for j in range(5)), name=f\"Flow_Conservation_Transship_Hub_{k}\")\n",
    "    \n",
    "    # Capacity constraint: Inflow does not exceed hub capacity\n",
    "    model.addConstr(gb.quicksum(y[i, k] for i in range(15)) <= trans_capacity[k], name=f\"Capacity_Constraint_Transship_Hub_{k}\")\n",
    "\n",
    "## Demand constraints for refinement centers\n",
    "for j in range(5):\n",
    "    model.addConstr(gb.quicksum(x[i, j] for i in range(25)) + gb.quicksum(z[k, j] for k in range(2)) == refinement_demand[j], name=f\"Demand_Constraint_Refinement_{j}\")\n"
   ]
  },
  {
   "cell_type": "code",
   "execution_count": 8,
   "metadata": {},
   "outputs": [],
   "source": [
    "# The objective function\n",
    "total_cost = gb.quicksum(gb.quicksum(direct_prod_refinement_cost[i][j] * x[i, j] for j in range(5)) for i in range(25)) + \\\n",
    "             gb.quicksum(gb.quicksum(trans_prod_trans_cost[i][k] * y[i, k] for k in range(2)) for i in range(15)) + \\\n",
    "             gb.quicksum(gb.quicksum(trans_refinement_cost[k][j] * z[k, j] for j in range(5)) for k in range(2))\n",
    "\n",
    "model.setObjective(total_cost, GRB.MINIMIZE)"
   ]
  },
  {
   "cell_type": "code",
   "execution_count": 9,
   "metadata": {},
   "outputs": [
    {
     "name": "stdout",
     "output_type": "stream",
     "text": [
      "Gurobi Optimizer version 11.0.0 build v11.0.0rc2 (mac64[arm] - Darwin 23.2.0 23C71)\n",
      "\n",
      "CPU model: Apple M1 Pro\n",
      "Thread count: 8 physical cores, 8 logical processors, using up to 8 threads\n",
      "\n",
      "Optimize a model with 49 rows, 165 columns and 360 nonzeros\n",
      "Model fingerprint: 0x9706ddb1\n",
      "Coefficient statistics:\n",
      "  Matrix range     [1e+00, 1e+00]\n",
      "  Objective range  [6e-01, 6e+00]\n",
      "  Bounds range     [0e+00, 0e+00]\n",
      "  RHS range        [1e+02, 2e+03]\n",
      "Presolve time: 0.00s\n",
      "Presolved: 49 rows, 165 columns, 360 nonzeros\n",
      "\n",
      "Iteration    Objective       Primal Inf.    Dual Inf.      Time\n",
      "       0    1.7230583e+04   8.266000e+03   0.000000e+00      0s\n",
      "      36    2.4188585e+04   0.000000e+00   0.000000e+00      0s\n",
      "\n",
      "Solved in 36 iterations and 0.00 seconds (0.00 work units)\n",
      "Optimal objective  2.418858517e+04\n"
     ]
    }
   ],
   "source": [
    "# Optimally solve the problem\n",
    "model.optimize()"
   ]
  },
  {
   "cell_type": "code",
   "execution_count": 10,
   "metadata": {},
   "outputs": [
    {
     "name": "stdout",
     "output_type": "stream",
     "text": [
      "Optimal Total Transportation Cost: 24188.58516544768\n",
      "From Production Facility 0 to Refinement Center 3: 462.0 units\n",
      "From Production Facility 1 to Refinement Center 1: 103.0 units\n",
      "From Production Facility 2 to Refinement Center 2: 460.0 units\n",
      "From Production Facility 4 to Refinement Center 3: 86.0 units\n",
      "From Production Facility 5 to Refinement Center 1: 217.0 units\n",
      "From Production Facility 7 to Refinement Center 4: 521.0 units\n",
      "From Production Facility 8 to Refinement Center 4: 548.0 units\n",
      "From Production Facility 10 to Refinement Center 4: 354.0 units\n",
      "From Production Facility 11 to Refinement Center 0: 7.0 units\n",
      "From Production Facility 11 to Refinement Center 2: 404.0 units\n",
      "From Production Facility 12 to Refinement Center 0: 104.0 units\n",
      "From Production Facility 13 to Refinement Center 4: 155.0 units\n",
      "From Production Facility 14 to Refinement Center 3: 285.0 units\n",
      "From Production Facility 15 to Refinement Center 0: 109.0 units\n",
      "From Production Facility 17 to Refinement Center 1: 351.0 units\n",
      "From Production Facility 17 to Refinement Center 4: 87.0 units\n",
      "From Production Facility 18 to Refinement Center 3: 501.0 units\n",
      "From Production Facility 20 to Refinement Center 2: 462.0 units\n",
      "From Production Facility 21 to Refinement Center 3: 504.0 units\n",
      "From Production Facility 22 to Refinement Center 1: 106.0 units\n",
      "From Production Facility 23 to Refinement Center 2: 132.0 units\n",
      "From Production Facility 0 to Transshipment Hub 1: 374.0 units\n",
      "From Production Facility 2 to Transshipment Hub 1: 395.0 units\n",
      "From Production Facility 3 to Transshipment Hub 1: 245.0 units\n",
      "From Production Facility 6 to Transshipment Hub 0: 152.0 units\n",
      "From Production Facility 7 to Transshipment Hub 1: 24.0 units\n",
      "From Production Facility 8 to Transshipment Hub 1: 415.0 units\n",
      "From Production Facility 9 to Transshipment Hub 0: 503.0 units\n",
      "From Production Facility 11 to Transshipment Hub 0: 297.0 units\n",
      "From Production Facility 14 to Transshipment Hub 0: 365.0 units\n",
      "From Transshipment Hub 0 to Refinement Center 0: 1317.0 units\n",
      "From Transshipment Hub 1 to Refinement Center 1: 971.0 units\n",
      "From Transshipment Hub 1 to Refinement Center 2: 482.0 units\n"
     ]
    }
   ],
   "source": [
    "# Output the results\n",
    "if model.status == GRB.Status.OPTIMAL:\n",
    "    print('Optimal Total Transportation Cost:', model.objVal)\n",
    "\n",
    "    for i, j in x.keys():\n",
    "        if x[i, j].X > 0:\n",
    "            print(f\"From Production Facility {i} to Refinement Center {j}: {x[i, j].X} units\")\n",
    "    \n",
    "    for i, k in y.keys():\n",
    "        if y[i, k].X > 0:\n",
    "            print(f\"From Production Facility {i} to Transshipment Hub {k}: {y[i, k].X} units\")\n",
    "\n",
    "    for k, j in z.keys():\n",
    "        if z[k, j].X > 0:\n",
    "            print(f\"From Transshipment Hub {k} to Refinement Center {j}: {z[k, j].X} units\")"
   ]
  },
  {
   "cell_type": "code",
   "execution_count": 11,
   "metadata": {},
   "outputs": [
    {
     "name": "stdout",
     "output_type": "stream",
     "text": [
      "Proportion of Canola Oil Transshipped: 31.74%\n"
     ]
    }
   ],
   "source": [
    "#(b)\n",
    "# proportion of canola oil is transshipped\n",
    "\n",
    "# Calculate the total transshipped amount\n",
    "total_transshipped = sum(y[i, k].X for i in range(15) for k in range(2) if y[i, k].X > 0)\n",
    "\n",
    "# Calculate the total produced amount\n",
    "total_produced = sum(x[i, j].X for i in range(25) for j in range(5) if x[i, j].X > 0) + total_transshipped\n",
    "\n",
    "# Calculate the proportion\n",
    "proportion_transshipped = total_transshipped / total_produced\n",
    "\n",
    "print(f\"Proportion of Canola Oil Transshipped: {proportion_transshipped:.2%}\")\n"
   ]
  },
  {
   "cell_type": "code",
   "execution_count": 12,
   "metadata": {},
   "outputs": [
    {
     "data": {
      "text/plain": [
       "8728.0"
      ]
     },
     "execution_count": 12,
     "metadata": {},
     "output_type": "execute_result"
    }
   ],
   "source": [
    "total_produced"
   ]
  },
  {
   "cell_type": "code",
   "execution_count": 13,
   "metadata": {},
   "outputs": [],
   "source": [
    "# (c)"
   ]
  },
  {
   "cell_type": "code",
   "execution_count": 14,
   "metadata": {},
   "outputs": [],
   "source": [
    "model2 = model.copy()"
   ]
  },
  {
   "cell_type": "code",
   "execution_count": 15,
   "metadata": {},
   "outputs": [],
   "source": [
    "# Define a penalty cost per unit of transshipped oil\n",
    "transshipment_penalty_cost = 0.5\n",
    "\n",
    "# Update the objective function to include the transshipment penalty\n",
    "total_cost_with_penalty = (\n",
    "    gb.quicksum(direct_prod_refinement_cost[i][j] * model2.getVarByName(f'Direct Production Facilities[{i},{j}]')\n",
    "                for i in range(25) for j in range(5)) +\n",
    "    gb.quicksum(trans_prod_trans_cost[i][k] * model2.getVarByName(f'Transshipment Production Facilities[{i},{k}]')\n",
    "                for i in range(15) for k in range(2)) +\n",
    "    gb.quicksum(trans_refinement_cost[k][j] * model2.getVarByName(f'Transshipment Hubs[{k},{j}]')\n",
    "                for k in range(2) for j in range(5)) +\n",
    "    transshipment_penalty_cost * gb.quicksum(model2.getVarByName(f'Transshipment Production Facilities[{i},{k}]')\n",
    "                                            for i in range(15) for k in range(2))\n",
    ")\n",
    "\n",
    "model2.setObjective(total_cost_with_penalty, GRB.MINIMIZE)"
   ]
  },
  {
   "cell_type": "code",
   "execution_count": 16,
   "metadata": {},
   "outputs": [
    {
     "name": "stdout",
     "output_type": "stream",
     "text": [
      "Gurobi Optimizer version 11.0.0 build v11.0.0rc2 (mac64[arm] - Darwin 23.2.0 23C71)\n",
      "\n",
      "CPU model: Apple M1 Pro\n",
      "Thread count: 8 physical cores, 8 logical processors, using up to 8 threads\n",
      "\n",
      "Optimize a model with 49 rows, 165 columns and 360 nonzeros\n",
      "Model fingerprint: 0x855cb181\n",
      "Coefficient statistics:\n",
      "  Matrix range     [1e+00, 1e+00]\n",
      "  Objective range  [1e+00, 6e+00]\n",
      "  Bounds range     [0e+00, 0e+00]\n",
      "  RHS range        [1e+02, 2e+03]\n",
      "Presolve time: 0.00s\n",
      "Presolved: 49 rows, 165 columns, 360 nonzeros\n",
      "\n",
      "Iteration    Objective       Primal Inf.    Dual Inf.      Time\n",
      "       0    1.7230583e+04   8.266000e+03   0.000000e+00      0s\n",
      "      34    2.5553012e+04   0.000000e+00   0.000000e+00      0s\n",
      "\n",
      "Solved in 34 iterations and 0.00 seconds (0.00 work units)\n",
      "Optimal objective  2.555301173e+04\n"
     ]
    }
   ],
   "source": [
    "model2.optimize()"
   ]
  },
  {
   "cell_type": "code",
   "execution_count": 17,
   "metadata": {},
   "outputs": [
    {
     "name": "stdout",
     "output_type": "stream",
     "text": [
      "Optimal Total Transportation Cost: 25553.01172601651\n",
      "From Production Facility 0 to Refinement Center 3: 462.0 units\n",
      "From Production Facility 1 to Refinement Center 1: 103.0 units\n",
      "From Production Facility 2 to Refinement Center 2: 460.0 units\n",
      "From Production Facility 4 to Refinement Center 3: 86.0 units\n",
      "From Production Facility 5 to Refinement Center 1: 217.0 units\n",
      "From Production Facility 6 to Refinement Center 2: 145.0 units\n",
      "From Production Facility 7 to Refinement Center 4: 521.0 units\n",
      "From Production Facility 8 to Refinement Center 4: 548.0 units\n",
      "From Production Facility 10 to Refinement Center 4: 361.0 units\n",
      "From Production Facility 11 to Refinement Center 0: 159.0 units\n",
      "From Production Facility 11 to Refinement Center 2: 252.0 units\n",
      "From Production Facility 12 to Refinement Center 0: 104.0 units\n",
      "From Production Facility 13 to Refinement Center 4: 155.0 units\n",
      "From Production Facility 14 to Refinement Center 3: 285.0 units\n",
      "From Production Facility 15 to Refinement Center 0: 109.0 units\n",
      "From Production Facility 17 to Refinement Center 1: 358.0 units\n",
      "From Production Facility 17 to Refinement Center 4: 80.0 units\n",
      "From Production Facility 18 to Refinement Center 3: 501.0 units\n",
      "From Production Facility 20 to Refinement Center 2: 462.0 units\n",
      "From Production Facility 21 to Refinement Center 3: 504.0 units\n",
      "From Production Facility 22 to Refinement Center 1: 106.0 units\n",
      "From Production Facility 23 to Refinement Center 2: 132.0 units\n",
      "From Production Facility 0 to Transshipment Hub 1: 374.0 units\n",
      "From Production Facility 2 to Transshipment Hub 1: 395.0 units\n",
      "From Production Facility 3 to Transshipment Hub 1: 245.0 units\n",
      "From Production Facility 7 to Transshipment Hub 1: 24.0 units\n",
      "From Production Facility 8 to Transshipment Hub 1: 415.0 units\n",
      "From Production Facility 9 to Transshipment Hub 0: 503.0 units\n",
      "From Production Facility 11 to Transshipment Hub 0: 297.0 units\n",
      "From Production Facility 14 to Transshipment Hub 0: 365.0 units\n",
      "From Transshipment Hub 0 to Refinement Center 0: 1165.0 units\n",
      "From Transshipment Hub 1 to Refinement Center 1: 964.0 units\n",
      "From Transshipment Hub 1 to Refinement Center 2: 489.0 units\n"
     ]
    }
   ],
   "source": [
    "# Output the results\n",
    "if model2.status == GRB.Status.OPTIMAL:\n",
    "    print('Optimal Total Transportation Cost:', model2.objVal)\n",
    "\n",
    "    for i in range(25):\n",
    "        for j in range(5):\n",
    "            variable_name = f\"Direct Production Facilities[{i},{j}]\"\n",
    "            variable = model2.getVarByName(variable_name)\n",
    "            if variable is not None and variable.X > 0:\n",
    "                print(f\"From Production Facility {i} to Refinement Center {j}: {variable.X} units\")\n",
    "\n",
    "    for i in range(15):\n",
    "        for k in range(2):\n",
    "            variable_name = f\"Transshipment Production Facilities[{i},{k}]\"\n",
    "            variable = model2.getVarByName(variable_name)\n",
    "            if variable is not None and variable.X > 0:\n",
    "                print(f\"From Production Facility {i} to Transshipment Hub {k}: {variable.X} units\")\n",
    "\n",
    "    for k in range(2):\n",
    "        for j in range(5):\n",
    "            variable_name = f\"Transshipment Hubs[{k},{j}]\"\n",
    "            variable = model2.getVarByName(variable_name)\n",
    "            if variable is not None and variable.X > 0:\n",
    "                print(f\"From Transshipment Hub {k} to Refinement Center {j}: {variable.X} units\")"
   ]
  },
  {
   "cell_type": "code",
   "execution_count": 18,
   "metadata": {},
   "outputs": [
    {
     "name": "stdout",
     "output_type": "stream",
     "text": [
      "Proportion of Canola Oil Transshipped: 30.00%\n"
     ]
    }
   ],
   "source": [
    "# Calculate the total transshipped amount\n",
    "total_transshipped2 = sum(model2.getVarByName(f'Transshipment Production Facilities[{i},{k}]').X for i in range(15) for k in range(2))\n",
    "\n",
    "# Calculate the total produced amount\n",
    "total_produced2 = sum(model2.getVarByName(f'Direct Production Facilities[{i},{j}]').X for i in range(25) for j in range(5)) + total_transshipped2\n",
    "\n",
    "# Calculate the proportion\n",
    "proportion_transshipped2 = total_transshipped2 / total_produced2\n",
    "\n",
    "print(f\"Proportion of Canola Oil Transshipped: {proportion_transshipped2:.2%}\")"
   ]
  },
  {
   "cell_type": "code",
   "execution_count": 19,
   "metadata": {},
   "outputs": [],
   "source": [
    "# (d)"
   ]
  },
  {
   "cell_type": "code",
   "execution_count": 20,
   "metadata": {},
   "outputs": [],
   "source": [
    "model3 = model.copy()"
   ]
  },
  {
   "cell_type": "code",
   "execution_count": 21,
   "metadata": {},
   "outputs": [
    {
     "data": {
      "text/plain": [
       "<gurobi.Constr *Awaiting Model Update*>"
      ]
     },
     "execution_count": 21,
     "metadata": {},
     "output_type": "execute_result"
    }
   ],
   "source": [
    "# Add a constraint for the total transshipment not exceeding 400\n",
    "transshipment_limit = 2200\n",
    "total_transshipment = gb.quicksum(model3.getVarByName(f\"Transshipment Production Facilities[{i},{k}]\") for i in range(15) for k in range(2))\n",
    "model3.addConstr(total_transshipment <= transshipment_limit, name=\"Transshipment_Limit\")"
   ]
  },
  {
   "cell_type": "code",
   "execution_count": 22,
   "metadata": {},
   "outputs": [
    {
     "name": "stdout",
     "output_type": "stream",
     "text": [
      "Gurobi Optimizer version 11.0.0 build v11.0.0rc2 (mac64[arm] - Darwin 23.2.0 23C71)\n",
      "\n",
      "CPU model: Apple M1 Pro\n",
      "Thread count: 8 physical cores, 8 logical processors, using up to 8 threads\n",
      "\n",
      "Optimize a model with 50 rows, 165 columns and 390 nonzeros\n",
      "Model fingerprint: 0x6258b619\n",
      "Coefficient statistics:\n",
      "  Matrix range     [1e+00, 1e+00]\n",
      "  Objective range  [6e-01, 6e+00]\n",
      "  Bounds range     [0e+00, 0e+00]\n",
      "  RHS range        [1e+02, 2e+03]\n",
      "Presolve time: 0.00s\n",
      "Presolved: 50 rows, 165 columns, 390 nonzeros\n",
      "\n",
      "Iteration    Objective       Primal Inf.    Dual Inf.      Time\n",
      "       0    1.7230583e+04   8.266000e+03   0.000000e+00      0s\n",
      "      37    2.4698685e+04   0.000000e+00   0.000000e+00      0s\n",
      "\n",
      "Solved in 37 iterations and 0.00 seconds (0.00 work units)\n",
      "Optimal objective  2.469868473e+04\n"
     ]
    }
   ],
   "source": [
    "model3.optimize()"
   ]
  },
  {
   "cell_type": "code",
   "execution_count": 23,
   "metadata": {},
   "outputs": [
    {
     "name": "stdout",
     "output_type": "stream",
     "text": [
      "Optimal Total Transportation Cost: 24698.684727093372\n",
      "From Production Facility 0 to Refinement Center 3: 462.0 units\n",
      "From Production Facility 1 to Refinement Center 1: 103.0 units\n",
      "From Production Facility 2 to Refinement Center 2: 460.0 units\n",
      "From Production Facility 3 to Refinement Center 0: 131.0 units\n",
      "From Production Facility 4 to Refinement Center 2: 227.0 units\n",
      "From Production Facility 5 to Refinement Center 1: 217.0 units\n",
      "From Production Facility 6 to Refinement Center 2: 205.0 units\n",
      "From Production Facility 7 to Refinement Center 4: 521.0 units\n",
      "From Production Facility 8 to Refinement Center 4: 548.0 units\n",
      "From Production Facility 10 to Refinement Center 4: 361.0 units\n",
      "From Production Facility 11 to Refinement Center 0: 28.0 units\n",
      "From Production Facility 11 to Refinement Center 2: 383.0 units\n",
      "From Production Facility 12 to Refinement Center 0: 104.0 units\n",
      "From Production Facility 13 to Refinement Center 4: 155.0 units\n",
      "From Production Facility 14 to Refinement Center 3: 285.0 units\n",
      "From Production Facility 15 to Refinement Center 0: 109.0 units\n",
      "From Production Facility 17 to Refinement Center 1: 358.0 units\n",
      "From Production Facility 17 to Refinement Center 4: 80.0 units\n",
      "From Production Facility 18 to Refinement Center 3: 501.0 units\n",
      "From Production Facility 19 to Refinement Center 3: 86.0 units\n",
      "From Production Facility 20 to Refinement Center 2: 462.0 units\n",
      "From Production Facility 21 to Refinement Center 3: 504.0 units\n",
      "From Production Facility 22 to Refinement Center 1: 106.0 units\n",
      "From Production Facility 23 to Refinement Center 2: 132.0 units\n",
      "From Production Facility 0 to Transshipment Hub 1: 374.0 units\n",
      "From Production Facility 2 to Transshipment Hub 1: 1.0 units\n",
      "From Production Facility 3 to Transshipment Hub 1: 245.0 units\n",
      "From Production Facility 8 to Transshipment Hub 1: 415.0 units\n",
      "From Production Facility 9 to Transshipment Hub 0: 503.0 units\n",
      "From Production Facility 11 to Transshipment Hub 0: 297.0 units\n",
      "From Production Facility 14 to Transshipment Hub 0: 365.0 units\n",
      "From Transshipment Hub 0 to Refinement Center 0: 1165.0 units\n",
      "From Transshipment Hub 1 to Refinement Center 1: 964.0 units\n",
      "From Transshipment Hub 1 to Refinement Center 2: 71.0 units\n"
     ]
    }
   ],
   "source": [
    "# Output the results\n",
    "if model3.status == GRB.Status.OPTIMAL:\n",
    "    print('Optimal Total Transportation Cost:', model3.objVal)\n",
    "\n",
    "    for i in range(25):\n",
    "        for j in range(5):\n",
    "            variable_name = f\"Direct Production Facilities[{i},{j}]\"\n",
    "            variable = model3.getVarByName(variable_name)\n",
    "            if variable is not None and variable.X > 0:\n",
    "                print(f\"From Production Facility {i} to Refinement Center {j}: {variable.X} units\")\n",
    "\n",
    "    for i in range(15):\n",
    "        for k in range(2):\n",
    "            variable_name = f\"Transshipment Production Facilities[{i},{k}]\"\n",
    "            variable = model3.getVarByName(variable_name)\n",
    "            if variable is not None and variable.X > 0:\n",
    "                print(f\"From Production Facility {i} to Transshipment Hub {k}: {variable.X} units\")\n",
    "\n",
    "    for k in range(2):\n",
    "        for j in range(5):\n",
    "            variable_name = f\"Transshipment Hubs[{k},{j}]\"\n",
    "            variable = model3.getVarByName(variable_name)\n",
    "            if variable is not None and variable.X > 0:\n",
    "                print(f\"From Transshipment Hub {k} to Refinement Center {j}: {variable.X} units\")\n"
   ]
  },
  {
   "cell_type": "code",
   "execution_count": 24,
   "metadata": {},
   "outputs": [
    {
     "name": "stdout",
     "output_type": "stream",
     "text": [
      "Proportion of Canola Oil Transshipped: 25.21%\n"
     ]
    }
   ],
   "source": [
    "# Calculate the total transshipped amount\n",
    "total_transshipped3 = sum(model3.getVarByName(f'Transshipment Production Facilities[{i},{k}]').X for i in range(15) for k in range(2))\n",
    "\n",
    "# Calculate the total produced amount\n",
    "total_produced3 = sum(model3.getVarByName(f'Direct Production Facilities[{i},{j}]').X for i in range(25) for j in range(5)) + total_transshipped3\n",
    "\n",
    "# Calculate the proportion\n",
    "proportion_transshipped3 = total_transshipped3 / total_produced3\n",
    "\n",
    "print(f\"Proportion of Canola Oil Transshipped: {proportion_transshipped3:.2%}\")"
   ]
  },
  {
   "cell_type": "code",
   "execution_count": 25,
   "metadata": {},
   "outputs": [],
   "source": [
    "# (e)\n",
    "model4 = gb.Model('Can2Oil_Re_Shoring')"
   ]
  },
  {
   "cell_type": "code",
   "execution_count": 27,
   "metadata": {},
   "outputs": [],
   "source": [
    "x_4 = model4.addVars(25, 5, name=\"Direct Production Facilities\")\n",
    "y_4 = model4.addVars(15, 2, name=\"Transshipment Production Facilities\")\n",
    "z_4 = model4.addVars(2, 5, name=\"Transshipment Hubs\")"
   ]
  },
  {
   "cell_type": "code",
   "execution_count": 28,
   "metadata": {},
   "outputs": [],
   "source": [
    "# Constraints\n",
    "\n",
    "## Capacity constraints for direct production facility\n",
    "for i in range(25):\n",
    "    model4.addConstr(gb.quicksum(x_4[i, j] for j in range(5)) <= direct_prod_capacity[i], name=f\"Capacity_Constraint_Direct_Production_{i}\")\n",
    "\n",
    "## Capacity constraints for transshipment production facility\n",
    "for i in range(15):\n",
    "    model4.addConstr(gb.quicksum(y_4[i, k] for k in range(2)) <= trans_prod_capacity[i], name=f\"Capacity_Constraint_Transship_Production_{i}\")\n",
    "\n",
    "## Capacity constraints for transshipment hub\n",
    "for k in range(2):\n",
    "    # Flow conservation: Inflow equals outflow\n",
    "    model4.addConstr(gb.quicksum(y_4[i, k] for i in range(15)) == gb.quicksum(z_4[k, j] for j in range(5)), name=f\"Flow_Conservation_Transship_Hub_{k}\")\n",
    "    \n",
    "    # Capacity constraint: Inflow does not exceed hub capacity\n",
    "    model4.addConstr(gb.quicksum(y_4[i, k] for i in range(15)) <= trans_capacity[k], name=f\"Capacity_Constraint_Transship_Hub_{k}\")\n",
    "\n",
    "## Demand constraints for refinement centers\n",
    "for j in range(5):\n",
    "    model4.addConstr(gb.quicksum(x_4[i, j] for i in range(25)) + gb.quicksum(z_4[k, j] for k in range(2)) == refinement_demand[j], name=f\"Demand_Constraint_Refinement_{j}\")"
   ]
  },
  {
   "cell_type": "code",
   "execution_count": 38,
   "metadata": {},
   "outputs": [
    {
     "data": {
      "text/html": [
       "<div>\n",
       "<style scoped>\n",
       "    .dataframe tbody tr th:only-of-type {\n",
       "        vertical-align: middle;\n",
       "    }\n",
       "\n",
       "    .dataframe tbody tr th {\n",
       "        vertical-align: top;\n",
       "    }\n",
       "\n",
       "    .dataframe thead th {\n",
       "        text-align: right;\n",
       "    }\n",
       "</style>\n",
       "<table border=\"1\" class=\"dataframe\">\n",
       "  <thead>\n",
       "    <tr style=\"text-align: right;\">\n",
       "      <th></th>\n",
       "      <th>ProductionFacility</th>\n",
       "      <th>RefinementCenter</th>\n",
       "      <th>Cost</th>\n",
       "    </tr>\n",
       "  </thead>\n",
       "  <tbody>\n",
       "    <tr>\n",
       "      <th>0</th>\n",
       "      <td>1</td>\n",
       "      <td>1</td>\n",
       "      <td>4.252733</td>\n",
       "    </tr>\n",
       "    <tr>\n",
       "      <th>1</th>\n",
       "      <td>1</td>\n",
       "      <td>2</td>\n",
       "      <td>4.567726</td>\n",
       "    </tr>\n",
       "    <tr>\n",
       "      <th>2</th>\n",
       "      <td>1</td>\n",
       "      <td>3</td>\n",
       "      <td>4.696484</td>\n",
       "    </tr>\n",
       "    <tr>\n",
       "      <th>3</th>\n",
       "      <td>1</td>\n",
       "      <td>4</td>\n",
       "      <td>2.678741</td>\n",
       "    </tr>\n",
       "    <tr>\n",
       "      <th>4</th>\n",
       "      <td>1</td>\n",
       "      <td>5</td>\n",
       "      <td>4.272451</td>\n",
       "    </tr>\n",
       "    <tr>\n",
       "      <th>...</th>\n",
       "      <td>...</td>\n",
       "      <td>...</td>\n",
       "      <td>...</td>\n",
       "    </tr>\n",
       "    <tr>\n",
       "      <th>120</th>\n",
       "      <td>25</td>\n",
       "      <td>1</td>\n",
       "      <td>4.384176</td>\n",
       "    </tr>\n",
       "    <tr>\n",
       "      <th>121</th>\n",
       "      <td>25</td>\n",
       "      <td>2</td>\n",
       "      <td>5.943448</td>\n",
       "    </tr>\n",
       "    <tr>\n",
       "      <th>122</th>\n",
       "      <td>25</td>\n",
       "      <td>3</td>\n",
       "      <td>4.999220</td>\n",
       "    </tr>\n",
       "    <tr>\n",
       "      <th>123</th>\n",
       "      <td>25</td>\n",
       "      <td>4</td>\n",
       "      <td>4.154833</td>\n",
       "    </tr>\n",
       "    <tr>\n",
       "      <th>124</th>\n",
       "      <td>25</td>\n",
       "      <td>5</td>\n",
       "      <td>5.075280</td>\n",
       "    </tr>\n",
       "  </tbody>\n",
       "</table>\n",
       "<p>125 rows × 3 columns</p>\n",
       "</div>"
      ],
      "text/plain": [
       "     ProductionFacility  RefinementCenter      Cost\n",
       "0                     1                 1  4.252733\n",
       "1                     1                 2  4.567726\n",
       "2                     1                 3  4.696484\n",
       "3                     1                 4  2.678741\n",
       "4                     1                 5  4.272451\n",
       "..                  ...               ...       ...\n",
       "120                  25                 1  4.384176\n",
       "121                  25                 2  5.943448\n",
       "122                  25                 3  4.999220\n",
       "123                  25                 4  4.154833\n",
       "124                  25                 5  5.075280\n",
       "\n",
       "[125 rows x 3 columns]"
      ]
     },
     "execution_count": 38,
     "metadata": {},
     "output_type": "execute_result"
    }
   ],
   "source": [
    "direct_prod_refinement_cost_df"
   ]
  },
  {
   "cell_type": "code",
   "execution_count": 40,
   "metadata": {},
   "outputs": [
    {
     "data": {
      "text/html": [
       "<div>\n",
       "<style scoped>\n",
       "    .dataframe tbody tr th:only-of-type {\n",
       "        vertical-align: middle;\n",
       "    }\n",
       "\n",
       "    .dataframe tbody tr th {\n",
       "        vertical-align: top;\n",
       "    }\n",
       "\n",
       "    .dataframe thead th {\n",
       "        text-align: right;\n",
       "    }\n",
       "</style>\n",
       "<table border=\"1\" class=\"dataframe\">\n",
       "  <thead>\n",
       "    <tr style=\"text-align: right;\">\n",
       "      <th></th>\n",
       "      <th>ProductionFacility</th>\n",
       "      <th>RefinementCenter</th>\n",
       "      <th>Cost</th>\n",
       "      <th>DiscountedCost</th>\n",
       "    </tr>\n",
       "  </thead>\n",
       "  <tbody>\n",
       "    <tr>\n",
       "      <th>0</th>\n",
       "      <td>1</td>\n",
       "      <td>1</td>\n",
       "      <td>4.252733</td>\n",
       "      <td>3.402186</td>\n",
       "    </tr>\n",
       "    <tr>\n",
       "      <th>1</th>\n",
       "      <td>1</td>\n",
       "      <td>2</td>\n",
       "      <td>4.567726</td>\n",
       "      <td>3.654180</td>\n",
       "    </tr>\n",
       "    <tr>\n",
       "      <th>2</th>\n",
       "      <td>1</td>\n",
       "      <td>3</td>\n",
       "      <td>4.696484</td>\n",
       "      <td>3.757188</td>\n",
       "    </tr>\n",
       "    <tr>\n",
       "      <th>3</th>\n",
       "      <td>1</td>\n",
       "      <td>4</td>\n",
       "      <td>2.678741</td>\n",
       "      <td>2.142993</td>\n",
       "    </tr>\n",
       "    <tr>\n",
       "      <th>4</th>\n",
       "      <td>1</td>\n",
       "      <td>5</td>\n",
       "      <td>4.272451</td>\n",
       "      <td>3.417961</td>\n",
       "    </tr>\n",
       "    <tr>\n",
       "      <th>...</th>\n",
       "      <td>...</td>\n",
       "      <td>...</td>\n",
       "      <td>...</td>\n",
       "      <td>...</td>\n",
       "    </tr>\n",
       "    <tr>\n",
       "      <th>120</th>\n",
       "      <td>25</td>\n",
       "      <td>1</td>\n",
       "      <td>4.384176</td>\n",
       "      <td>4.384176</td>\n",
       "    </tr>\n",
       "    <tr>\n",
       "      <th>121</th>\n",
       "      <td>25</td>\n",
       "      <td>2</td>\n",
       "      <td>5.943448</td>\n",
       "      <td>5.943448</td>\n",
       "    </tr>\n",
       "    <tr>\n",
       "      <th>122</th>\n",
       "      <td>25</td>\n",
       "      <td>3</td>\n",
       "      <td>4.999220</td>\n",
       "      <td>4.999220</td>\n",
       "    </tr>\n",
       "    <tr>\n",
       "      <th>123</th>\n",
       "      <td>25</td>\n",
       "      <td>4</td>\n",
       "      <td>4.154833</td>\n",
       "      <td>4.154833</td>\n",
       "    </tr>\n",
       "    <tr>\n",
       "      <th>124</th>\n",
       "      <td>25</td>\n",
       "      <td>5</td>\n",
       "      <td>5.075280</td>\n",
       "      <td>5.075280</td>\n",
       "    </tr>\n",
       "  </tbody>\n",
       "</table>\n",
       "<p>125 rows × 4 columns</p>\n",
       "</div>"
      ],
      "text/plain": [
       "     ProductionFacility  RefinementCenter      Cost  DiscountedCost\n",
       "0                     1                 1  4.252733        3.402186\n",
       "1                     1                 2  4.567726        3.654180\n",
       "2                     1                 3  4.696484        3.757188\n",
       "3                     1                 4  2.678741        2.142993\n",
       "4                     1                 5  4.272451        3.417961\n",
       "..                  ...               ...       ...             ...\n",
       "120                  25                 1  4.384176        4.384176\n",
       "121                  25                 2  5.943448        5.943448\n",
       "122                  25                 3  4.999220        4.999220\n",
       "123                  25                 4  4.154833        4.154833\n",
       "124                  25                 5  5.075280        5.075280\n",
       "\n",
       "[125 rows x 4 columns]"
      ]
     },
     "execution_count": 40,
     "metadata": {},
     "output_type": "execute_result"
    }
   ],
   "source": [
    "closer_producer_discount = 0.8  # 20% discount for closer producers\n",
    "\n",
    "# Apply the discount to the 'Cost' column for the specified ProductionFacility range\n",
    "direct_prod_refinement_cost_df['DiscountedCost'] = direct_prod_refinement_cost_df.apply(\n",
    "    lambda row: row['Cost'] * closer_producer_discount if 1 <= row['ProductionFacility'] <= 15 else row['Cost'],\n",
    "    axis=1\n",
    ")\n",
    "direct_prod_refinement_cost_df"
   ]
  },
  {
   "cell_type": "code",
   "execution_count": 41,
   "metadata": {},
   "outputs": [],
   "source": [
    "direct_prod_refinement_cost4 = [group[\"DiscountedCost\"].tolist() for _, group in direct_prod_refinement_cost_df.groupby(\"ProductionFacility\")]"
   ]
  },
  {
   "cell_type": "code",
   "execution_count": 43,
   "metadata": {},
   "outputs": [],
   "source": [
    "# The objective function\n",
    "total_cost4 = gb.quicksum(gb.quicksum(direct_prod_refinement_cost4[i][j] * x_4[i, j] for j in range(5)) for i in range(25)) + \\\n",
    "             gb.quicksum(gb.quicksum(trans_prod_trans_cost[i][k] * y_4[i, k] for k in range(2)) for i in range(15)) + \\\n",
    "             gb.quicksum(gb.quicksum(trans_refinement_cost[k][j] * z_4[k, j] for j in range(5)) for k in range(2))\n",
    "\n",
    "model4.setObjective(total_cost4, GRB.MINIMIZE)"
   ]
  },
  {
   "cell_type": "code",
   "execution_count": 44,
   "metadata": {},
   "outputs": [
    {
     "name": "stdout",
     "output_type": "stream",
     "text": [
      "Gurobi Optimizer version 11.0.0 build v11.0.0rc2 (mac64[arm] - Darwin 23.2.0 23C71)\n",
      "\n",
      "CPU model: Apple M1 Pro\n",
      "Thread count: 8 physical cores, 8 logical processors, using up to 8 threads\n",
      "\n",
      "Optimize a model with 49 rows, 165 columns and 360 nonzeros\n",
      "Model fingerprint: 0xdd6d05c2\n",
      "Coefficient statistics:\n",
      "  Matrix range     [1e+00, 1e+00]\n",
      "  Objective range  [6e-01, 6e+00]\n",
      "  Bounds range     [0e+00, 0e+00]\n",
      "  RHS range        [1e+02, 2e+03]\n",
      "Presolve time: 0.00s\n",
      "Presolved: 49 rows, 165 columns, 360 nonzeros\n",
      "\n",
      "Iteration    Objective       Primal Inf.    Dual Inf.      Time\n",
      "       0    1.5984599e+04   7.745000e+03   0.000000e+00      0s\n",
      "      34    2.1821661e+04   0.000000e+00   0.000000e+00      0s\n",
      "\n",
      "Solved in 34 iterations and 0.00 seconds (0.00 work units)\n",
      "Optimal objective  2.182166116e+04\n"
     ]
    }
   ],
   "source": [
    "model4.optimize()"
   ]
  },
  {
   "cell_type": "code",
   "execution_count": 45,
   "metadata": {},
   "outputs": [
    {
     "name": "stdout",
     "output_type": "stream",
     "text": [
      "Optimal Total Transportation Cost: 21821.661162218505\n",
      "From Production Facility 0 to Refinement Center 3: 462.0 units\n",
      "From Production Facility 1 to Refinement Center 1: 103.0 units\n",
      "From Production Facility 2 to Refinement Center 2: 460.0 units\n",
      "From Production Facility 3 to Refinement Center 0: 40.0 units\n",
      "From Production Facility 4 to Refinement Center 2: 141.0 units\n",
      "From Production Facility 4 to Refinement Center 3: 86.0 units\n",
      "From Production Facility 5 to Refinement Center 1: 217.0 units\n",
      "From Production Facility 6 to Refinement Center 2: 205.0 units\n",
      "From Production Facility 7 to Refinement Center 4: 521.0 units\n",
      "From Production Facility 8 to Refinement Center 4: 548.0 units\n",
      "From Production Facility 10 to Refinement Center 4: 361.0 units\n",
      "From Production Facility 11 to Refinement Center 0: 228.0 units\n",
      "From Production Facility 11 to Refinement Center 2: 183.0 units\n",
      "From Production Facility 12 to Refinement Center 0: 104.0 units\n",
      "From Production Facility 13 to Refinement Center 4: 155.0 units\n",
      "From Production Facility 14 to Refinement Center 3: 285.0 units\n",
      "From Production Facility 17 to Refinement Center 1: 358.0 units\n",
      "From Production Facility 17 to Refinement Center 4: 80.0 units\n",
      "From Production Facility 18 to Refinement Center 3: 501.0 units\n",
      "From Production Facility 20 to Refinement Center 2: 462.0 units\n",
      "From Production Facility 21 to Refinement Center 3: 504.0 units\n",
      "From Production Facility 22 to Refinement Center 1: 106.0 units\n",
      "From Production Facility 0 to Transshipment Hub 1: 374.0 units\n",
      "From Production Facility 2 to Transshipment Hub 1: 395.0 units\n",
      "From Production Facility 3 to Transshipment Hub 1: 245.0 units\n",
      "From Production Facility 7 to Transshipment Hub 1: 24.0 units\n",
      "From Production Facility 8 to Transshipment Hub 1: 415.0 units\n",
      "From Production Facility 9 to Transshipment Hub 0: 503.0 units\n",
      "From Production Facility 11 to Transshipment Hub 0: 297.0 units\n",
      "From Production Facility 14 to Transshipment Hub 0: 365.0 units\n",
      "From Transshipment Hub 0 to Refinement Center 0: 1165.0 units\n",
      "From Transshipment Hub 1 to Refinement Center 1: 964.0 units\n",
      "From Transshipment Hub 1 to Refinement Center 2: 489.0 units\n"
     ]
    }
   ],
   "source": [
    "# Output the results\n",
    "if model4.status == GRB.Status.OPTIMAL:\n",
    "    print('Optimal Total Transportation Cost:', model4.objVal)\n",
    "\n",
    "    for i, j in x_4.keys():\n",
    "        if x_4[i, j].X > 0:\n",
    "            print(f\"From Production Facility {i} to Refinement Center {j}: {x_4[i, j].X} units\")\n",
    "    \n",
    "    for i, k in y_4.keys():\n",
    "        if y_4[i, k].X > 0:\n",
    "            print(f\"From Production Facility {i} to Transshipment Hub {k}: {y_4[i, k].X} units\")\n",
    "\n",
    "    for k, j in z_4.keys():\n",
    "        if z_4[k, j].X > 0:\n",
    "            print(f\"From Transshipment Hub {k} to Refinement Center {j}: {z_4[k, j].X} units\")"
   ]
  },
  {
   "cell_type": "code",
   "execution_count": 46,
   "metadata": {},
   "outputs": [
    {
     "name": "stdout",
     "output_type": "stream",
     "text": [
      "Proportion of Canola Oil Transshipped: 30.00%\n"
     ]
    }
   ],
   "source": [
    "# proportion of canola oil is transshipped\n",
    "\n",
    "# Calculate the total transshipped amount\n",
    "total_transshipped4 = sum(y_4[i, k].X for i in range(15) for k in range(2) if y_4[i, k].X > 0)\n",
    "\n",
    "# Calculate the total produced amount\n",
    "total_produced4 = sum(x_4[i, j].X for i in range(25) for j in range(5) if x_4[i, j].X > 0) + total_transshipped4\n",
    "\n",
    "# Calculate the proportion\n",
    "proportion_transshipped4 = total_transshipped4 / total_produced4\n",
    "\n",
    "print(f\"Proportion of Canola Oil Transshipped: {proportion_transshipped4:.2%}\")"
   ]
  },
  {
   "cell_type": "markdown",
   "metadata": {},
   "source": []
  }
 ],
 "metadata": {
  "kernelspec": {
   "display_name": "Python 3",
   "language": "python",
   "name": "python3"
  },
  "language_info": {
   "codemirror_mode": {
    "name": "ipython",
    "version": 3
   },
   "file_extension": ".py",
   "mimetype": "text/x-python",
   "name": "python",
   "nbconvert_exporter": "python",
   "pygments_lexer": "ipython3",
   "version": "3.11.5"
  }
 },
 "nbformat": 4,
 "nbformat_minor": 2
}
