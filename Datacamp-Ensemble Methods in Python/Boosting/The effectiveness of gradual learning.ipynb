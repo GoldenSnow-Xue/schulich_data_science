{
 "cells": [
  {
   "attachments": {},
   "cell_type": "markdown",
   "metadata": {},
   "source": [
    "#### The effectiveness of gradual learning"
   ]
  },
  {
   "cell_type": "code",
   "execution_count": null,
   "metadata": {
    "vscode": {
     "languageId": "plaintext"
    }
   },
   "outputs": [],
   "source": [
    "# Collective learning\n",
    "Principle: wisdom of the crowd\n",
    "Independent estimators\n",
    "Learning the same task for the same goal\n",
    "Parallel building\n",
    "\n",
    "# Gradual Learning\n",
    "Principle: iteractive learning\n",
    "Dependent estimators\n",
    "Learning different tasks for the same goal\n",
    "Sequential building"
   ]
  },
  {
   "cell_type": "code",
   "execution_count": null,
   "metadata": {
    "vscode": {
     "languageId": "plaintext"
    }
   },
   "outputs": [],
   "source": [
    "# Gradual learning\n",
    "Possible steps in gradual learning:\n",
    "1. First attempt(initial model)\n",
    "2. Feedback(model evaluation)\n",
    "3. Correct errors(subsequent model)"
   ]
  },
  {
   "cell_type": "code",
   "execution_count": null,
   "metadata": {
    "vscode": {
     "languageId": "plaintext"
    }
   },
   "outputs": [],
   "source": [
    "# Fitting to noise\n",
    "White noise\n",
    "Uncorrelated errors\n",
    "Unbiased errors and with constant variance\n",
    "\n",
    "Improvement tolerance\n",
    "If performance difference < improvement threshold:\n",
    "Stop training"
   ]
  }
 ],
 "metadata": {
  "language_info": {
   "name": "python"
  },
  "orig_nbformat": 4
 },
 "nbformat": 4,
 "nbformat_minor": 2
}
