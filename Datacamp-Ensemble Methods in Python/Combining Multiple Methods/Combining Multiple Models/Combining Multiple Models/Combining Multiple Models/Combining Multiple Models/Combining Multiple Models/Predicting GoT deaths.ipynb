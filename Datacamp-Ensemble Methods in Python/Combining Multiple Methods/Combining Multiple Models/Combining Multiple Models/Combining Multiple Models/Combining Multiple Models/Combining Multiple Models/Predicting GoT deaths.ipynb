{
 "cells": [
  {
   "attachments": {},
   "cell_type": "markdown",
   "metadata": {},
   "source": [
    "# Properties\n",
    "## Classification & Regression problems\n",
    "## Soft Voting: Mean\n",
    "### Regression: mean of predicted values\n",
    "### Classification: mean of predicted probabilities \n",
    "## Need at least 2 estimators"
   ]
  },
  {
   "cell_type": "code",
   "execution_count": null,
   "metadata": {},
   "outputs": [],
   "source": [
    "# Averaging Classifier\n",
    "from sklearn.ensemble import VotingClassifier\n",
    "clf_voting = VotingClassifier(\n",
    "    \n",
    "    estimators=[\n",
    "        ('label1', clf_1),\n",
    "        ('label2', clf_2),\n",
    "        ...\n",
    "        ('lableN', clf_N)],\n",
    "    \n",
    "    voting='soft',\n",
    "\n",
    "    weights=[w_1, w_2, ..., w_N]\n",
    ")"
   ]
  },
  {
   "cell_type": "code",
   "execution_count": null,
   "metadata": {},
   "outputs": [],
   "source": [
    "# Averaging Regressor\n",
    "from sklearn.ensemble import VotingRegressor\n",
    "reg_voting = VotingRegressor(\n",
    "\n",
    "    estimators=[\n",
    "        ('lable_1', reg_1),\n",
    "        ('lable2', reg_2),\n",
    "        ...\n",
    "        ('labelN', reg_N)],\n",
    "    \n",
    "    weights=[w_1, w_2, ..., w_N]\n",
    ")"
   ]
  },
  {
   "attachments": {},
   "cell_type": "markdown",
   "metadata": {},
   "source": [
    "### scikit-learn example"
   ]
  },
  {
   "cell_type": "code",
   "execution_count": null,
   "metadata": {},
   "outputs": [],
   "source": [
    "# Instantiate the individual models\n",
    "clf_knn = KNeighborsClassifier(5)\n",
    "clf_dt = DecisionTreeClassifier()\n",
    "clf_lr = LogisticRegression()"
   ]
  },
  {
   "cell_type": "code",
   "execution_count": null,
   "metadata": {},
   "outputs": [],
   "source": [
    "# Create an averaging classifier\n",
    "clf_voting = VotingClassifier(\n",
    "    estimators=[\n",
    "        ('knn', clf_knn),\n",
    "        ('dt', clf_dt),\n",
    "        ('lr', clf_lr)],\n",
    "    voting='soft',\n",
    "    weights=[1, 2, 1]\n",
    ")"
   ]
  },
  {
   "cell_type": "code",
   "execution_count": null,
   "metadata": {},
   "outputs": [],
   "source": [
    "# Build the individual models\n",
    "clf_lr = LogisticRegression(class_weight='balanced')\n",
    "clf_dt = DecisionTreeClassifier(min_samples_leaf=3, min_samples_split=9, random_state=500)\n",
    "clf_svm = SVC(probability=True, class_weight='balanced', random_state=500)\n",
    "\n",
    "# List of (string, estimator) tuples\n",
    "estimators = [\n",
    "    ('lr', clf_lr),\n",
    "    ('dt', clf_dt),\n",
    "    ('svm', clf_svm)\n",
    "]\n",
    "\n",
    "# Build and fit an averaging classifier\n",
    "clf_avg = VotingClassifier(estimators, voting='soft')\n",
    "clf_avg.fit(X_train, y_train)\n",
    "\n",
    "# Evaluate model performance\n",
    "acc_avg = accuracy_score(y_test,  clf_avg.predict(X_test))\n",
    "print('Accuracy: {:.2f}'.format(acc_avg))"
   ]
  }
 ],
 "metadata": {
  "language_info": {
   "name": "python"
  },
  "orig_nbformat": 4
 },
 "nbformat": 4,
 "nbformat_minor": 2
}
