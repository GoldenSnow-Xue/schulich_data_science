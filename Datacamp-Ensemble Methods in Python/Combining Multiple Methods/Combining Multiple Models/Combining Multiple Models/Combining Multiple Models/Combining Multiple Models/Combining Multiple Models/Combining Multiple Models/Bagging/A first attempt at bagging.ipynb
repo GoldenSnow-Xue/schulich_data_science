{
 "cells": [
  {
   "attachments": {},
   "cell_type": "markdown",
   "metadata": {},
   "source": [
    "#### Two functions have been prepared for you:"
   ]
  },
  {
   "cell_type": "code",
   "execution_count": null,
   "metadata": {},
   "outputs": [],
   "source": [
    "def build_decision_tree(X_train, y_train, random_state=None):\n",
    "    # Takes a sample with replacement,\n",
    "    # builds a \"weak\" decision tree,\n",
    "    # and fits it to the train set\n",
    "\n",
    "def predict_voting(classifiers, X_test):\n",
    "    # Makes the individual predictions \n",
    "    # and then combines them using \"Voting\""
   ]
  },
  {
   "cell_type": "code",
   "execution_count": null,
   "metadata": {},
   "outputs": [],
   "source": [
    "# Build the list of individual models\n",
    "clf_list = []\n",
    "for i in range(21):\n",
    "\tweak_dt = build_decision_tree(X_train, y_train, random_state=i)\n",
    "\tclf_list.append(weak_dt)\n",
    "\n",
    "# Predict on the test set\n",
    "pred = predict_voting(clf_list, X_test)\n",
    "\n",
    "# Print the F1 score\n",
    "print('F1 score: {:.3f}'.format(f1_score(y_test, pred)))"
   ]
  }
 ],
 "metadata": {
  "language_info": {
   "name": "python"
  },
  "orig_nbformat": 4
 },
 "nbformat": 4,
 "nbformat_minor": 2
}
