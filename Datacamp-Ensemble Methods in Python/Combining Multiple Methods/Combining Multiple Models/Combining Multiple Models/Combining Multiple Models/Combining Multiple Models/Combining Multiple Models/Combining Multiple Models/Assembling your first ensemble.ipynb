{
 "cells": [
  {
   "attachments": {},
   "cell_type": "markdown",
   "metadata": {},
   "source": [
    "Instantiate a KNeighborsClassifier called clf_knn with 5 neighbors (specified using n_neighbors).\n",
    "Instantiate a \"balanced\" LogisticRegression called clf_lr (specified using class_weight).\n",
    "Instantiate a DecisionTreeClassifier called clf_dt with min_samples_leaf = 3 and min_samples_split = 9.\n",
    "Build a VotingClassifier using the parameter estimators to specify the following list of (str, estimator) tuples: 'knn', clf_knn, 'lr', clf_lr, and 'dt', clf_dt."
   ]
  },
  {
   "cell_type": "code",
   "execution_count": null,
   "metadata": {},
   "outputs": [],
   "source": [
    "# Instantiate the individual models\n",
    "clf_knn = KNeighborsClassifier(n_neighbors=5)\n",
    "clf_lr = LogisticRegression(class_weight='balanced')\n",
    "clf_dt = DecisionTreeClassifier(min_samples_leaf=3, min_samples_split=9, random_state=500)\n",
    "\n",
    "# Create and fit the voting classifier\n",
    "clf_vote = VotingClassifier(\n",
    "    estimators=[('knn', clf_knn), ('lr', clf_lr), ('dt', clf_dt)]\n",
    ")\n",
    "clf_vote.fit(X_train, y_train)"
   ]
  }
 ],
 "metadata": {
  "language_info": {
   "name": "python"
  },
  "orig_nbformat": 4
 },
 "nbformat": 4,
 "nbformat_minor": 2
}
