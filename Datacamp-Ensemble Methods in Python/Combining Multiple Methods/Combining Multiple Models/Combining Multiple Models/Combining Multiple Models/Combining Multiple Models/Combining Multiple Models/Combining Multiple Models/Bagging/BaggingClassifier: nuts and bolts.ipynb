{
 "cells": [
  {
   "attachments": {},
   "cell_type": "markdown",
   "metadata": {},
   "source": [
    "#### Heterogeneous vs Homogeneous Functions"
   ]
  },
  {
   "cell_type": "code",
   "execution_count": null,
   "metadata": {},
   "outputs": [],
   "source": [
    "# Heterogeneous Ensemble Function\n",
    "het_set = HeterogeneousEnsemble(\n",
    "    estimators=[('est1', est1), ('est2', est2), ...],\n",
    "    # additional parameters\n",
    ")"
   ]
  },
  {
   "cell_type": "code",
   "execution_count": null,
   "metadata": {},
   "outputs": [],
   "source": [
    "# Homogeneous Ensemble Function\n",
    "hom_est = HomogeneuosEnsemble(\n",
    "    base_estimator=est_base,\n",
    "    n_estimators=chosen_number,\n",
    "    # additional parameters\n",
    ")"
   ]
  },
  {
   "attachments": {},
   "cell_type": "markdown",
   "metadata": {},
   "source": [
    "#### BaggingClassifier"
   ]
  },
  {
   "cell_type": "code",
   "execution_count": null,
   "metadata": {},
   "outputs": [],
   "source": [
    "# Bagging Classifier Example:\n",
    "\n",
    "# Instantiate the base estimator (\"weak\" model)\n",
    "clf_dt = DecisionTreeClassifier(max_depth=3)\n",
    "\n",
    "# Build the Bagging calssifier with 5 estimators\n",
    "clf_bag = BaggingClassifier(\n",
    "    base_estimator=clf_dt,\n",
    "    n_estimators=5\n",
    ")\n",
    "\n",
    "# Fit the Bagging model to the training set\n",
    "clf_bag.fit(X_train, y_train)\n",
    "\n",
    "# Make predictions on the test set\n",
    "y_pred = clf_bag.predict(X_test)"
   ]
  },
  {
   "attachments": {},
   "cell_type": "markdown",
   "metadata": {},
   "source": [
    "#### BaggingRegressor"
   ]
  },
  {
   "cell_type": "code",
   "execution_count": null,
   "metadata": {},
   "outputs": [],
   "source": [
    "# Bagging Regressor Example:\n",
    "\n",
    "# Instantiate the base estimator (\"weak\" model)\n",
    "reg_lr = LinearRegression()\n",
    "\n",
    "# Build the Bagging regressor with 10 estimators\n",
    "reg_bag = BaggingRegressor(\n",
    "    base_estimator=reg_lr\n",
    ")\n",
    "\n",
    "# Fit the Bagging model to the training set\n",
    "reg_bag.fit(X_train, y_train)\n",
    "\n",
    "# Make prediction on the test set\n",
    "y_pred = red_bag.predict(X_test)"
   ]
  },
  {
   "attachments": {},
   "cell_type": "markdown",
   "metadata": {},
   "source": [
    "#### Out-of-bag score"
   ]
  },
  {
   "attachments": {},
   "cell_type": "markdown",
   "metadata": {},
   "source": [
    "# 1. Calculate the individual predictions using all estimators for which an instance was out of the sample\n",
    "# 2. Combine the individual predictions\n",
    "# 3. Evaluate the metric on those predictions:\n",
    "#### Classification: accuracy\n",
    "#### Regression: R^2"
   ]
  },
  {
   "cell_type": "code",
   "execution_count": null,
   "metadata": {},
   "outputs": [],
   "source": [
    "clf_bag = BaggingClassifier(\n",
    "    base_estimator=clf_dt,\n",
    "    oob_score=True\n",
    ")\n",
    "clf_bag.fit(X_train, y_train)\n",
    "\n",
    "print(clf_bag.obb_score_)\n",
    "\n",
    "pred = clf_bag.predict(X_test)\n",
    "print(accuracy_score(y_test, pred))"
   ]
  },
  {
   "attachments": {},
   "cell_type": "markdown",
   "metadata": {},
   "source": [
    "### Bagging: the scikit-learn way"
   ]
  },
  {
   "cell_type": "code",
   "execution_count": null,
   "metadata": {},
   "outputs": [],
   "source": [
    "# Instantiate the base model\n",
    "clf_dt = DecisionTreeClassifier(max_depth=4)\n",
    "\n",
    "# Build and train the Bagging classifier\n",
    "clf_bag = BaggingClassifier(\n",
    "  base_estimator=clf_dt,\n",
    "  n_estimators=21,\n",
    "  random_state=500)\n",
    "clf_bag.fit(X_train, y_train)\n",
    "\n",
    "# Predict the labels of the test set\n",
    "pred = clf_bag.predict(X_test)\n",
    "\n",
    "# Show the F1-score\n",
    "print('F1-Score: {:.3f}'.format(f1_score(y_test, pred)))"
   ]
  },
  {
   "attachments": {},
   "cell_type": "markdown",
   "metadata": {},
   "source": [
    "#### Checking the out-of-bag score"
   ]
  },
  {
   "attachments": {},
   "cell_type": "markdown",
   "metadata": {},
   "source": [
    "# Build and train the bagging classifier\n",
    "clf_bag = BaggingClassifier(\n",
    "  base_estimator=clf_dt,\n",
    "  n_estimators=21,\n",
    "  oob_score=True,\n",
    "  random_state=500)\n",
    "clf_bag.fit(X_train, y_train)\n",
    "\n",
    "# Print the out-of-bag score\n",
    "print('OOB-Score: {:.3f}'.format(clf_bag.oob_score_))\n",
    "\n",
    "# Evaluate the performance on the test set to compare\n",
    "pred = clf_bag.predict(X_test)\n",
    "print('Accuracy: {:.3f}'.format(accuracy_score(y_test, pred)))"
   ]
  }
 ],
 "metadata": {
  "language_info": {
   "name": "python"
  },
  "orig_nbformat": 4
 },
 "nbformat": 4,
 "nbformat_minor": 2
}
