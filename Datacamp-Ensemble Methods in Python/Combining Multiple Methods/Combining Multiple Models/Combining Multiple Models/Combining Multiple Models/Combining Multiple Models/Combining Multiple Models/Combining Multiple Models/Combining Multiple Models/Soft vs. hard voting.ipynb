{
 "cells": [
  {
   "cell_type": "code",
   "execution_count": null,
   "metadata": {},
   "outputs": [],
   "source": [
    "# List of (string, estimator) tuples\n",
    "estimators = [\n",
    "    ('dt', clf_dt),\n",
    "    ('lr', clf_lr),\n",
    "    ('knn', clf_knn)\n",
    "]\n",
    "\n",
    "# Build and fit a voting classifier\n",
    "clf_vote = VotingClassifier(estimators)\n",
    "clf_vote.fit(X_train, y_train)\n",
    "\n",
    "# Build and fit an averaging classifier\n",
    "clf_avg = VotingClassifier(estimators, voting='soft')\n",
    "clf_avg.fit(X_train, y_train)\n",
    "\n",
    "# Evaluate the performance of both models\n",
    "acc_vote = accuracy_score(y_test, clf_vote.predict(X_test))\n",
    "acc_avg = accuracy_score(y_test,  clf_avg.predict(X_test))\n",
    "print('Voting: {:.2f}, Averaging: {:.2f}'.format(acc_vote, acc_avg))"
   ]
  }
 ],
 "metadata": {
  "language_info": {
   "name": "python"
  },
  "orig_nbformat": 4
 },
 "nbformat": 4,
 "nbformat_minor": 2
}
