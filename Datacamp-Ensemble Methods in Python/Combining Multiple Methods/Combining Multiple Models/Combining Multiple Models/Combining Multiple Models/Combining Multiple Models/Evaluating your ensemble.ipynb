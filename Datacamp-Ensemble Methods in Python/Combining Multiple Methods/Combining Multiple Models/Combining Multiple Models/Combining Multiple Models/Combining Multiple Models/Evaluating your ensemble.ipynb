{
 "cells": [
  {
   "attachments": {},
   "cell_type": "markdown",
   "metadata": {},
   "source": [
    "Use the voting classifier, clf_vote, to predict the labels of the test set, X_test.\n",
    "Calculate the F1-Score of the voting classifier.\n",
    "Calculate the classification report of the voting classifier by passing in y_test and pred_vote to classification_report()."
   ]
  },
  {
   "cell_type": "code",
   "execution_count": null,
   "metadata": {},
   "outputs": [],
   "source": [
    "# Calculate the predictions using the voting classifier\n",
    "pred_vote = clf_vote.predict(X_test)\n",
    "\n",
    "# Calculate the F1-Score of the voting classifier\n",
    "score_vote = f1_score(y_test, pred_vote)\n",
    "print('F1-Score: {:.3f}'.format(score_vote))\n",
    "\n",
    "# Calculate the classification report\n",
    "report = classification_report(y_test, pred_vote)\n",
    "print(report)"
   ]
  }
 ],
 "metadata": {
  "language_info": {
   "name": "python"
  },
  "orig_nbformat": 4
 },
 "nbformat": 4,
 "nbformat_minor": 2
}
