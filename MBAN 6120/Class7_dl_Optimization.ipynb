{
 "cells": [
  {
   "cell_type": "code",
   "execution_count": 4,
   "metadata": {},
   "outputs": [],
   "source": [
    "import pandas as pd\n",
    "import tensorflow as tf\n",
    "import numpy as np\n",
    "import matplotlib.pyplot as plt"
   ]
  },
  {
   "cell_type": "code",
   "execution_count": 7,
   "metadata": {},
   "outputs": [],
   "source": [
    "from sklearn.preprocessing import StandardScaler\n",
    "from sklearn.preprocessing import OneHotEncoder\n",
    "\n",
    "def load_dataset(train_size, test_size):\n",
    "    train, test = tf.keras.datasets.mnist.load_data()\n",
    "\n",
    "    # take a sample\n",
    "    train_idx = np.random.randint(low=0, high=train[0].shape[0], size=train_size)\n",
    "    test_idx = np.random.randint(low=0, high=test[0].shape[0], size=test_size)\n",
    "    X_train = train[0][train_idx].reshape(-1,28*28)\n",
    "    y_train = train[1][train_idx].reshape(-1,1)\n",
    "    X_test = test[0][test_idx].reshape(-1,28*28)\n",
    "    y_test = test[1][test_idx].reshape(-1,1)\n",
    "\n",
    "    scale = StandardScaler()\n",
    "    X_train = scale.fit_transform(X_train)\n",
    "    X_test = scale.transform(X_test)\n",
    "\n",
    "    OH = OneHotEncoder(categories='auto', sparse=False)\n",
    "    y_train = OH.fit_transform(y_train)\n",
    "    y_test = OH.transform(y_test)\n",
    "\n",
    "    print('X_train:',X_train.shape)\n",
    "    print('y_train:',y_train.shape)\n",
    "    print('X_test:',X_test.shape)\n",
    "    print('y_test:',y_test.shape)\n",
    "    print('Min:', X_train.min())\n",
    "    print('Max:', X_train.max())\n",
    "\n",
    "    return X_train, X_test, y_train, y_test"
   ]
  },
  {
   "cell_type": "code",
   "execution_count": 9,
   "metadata": {},
   "outputs": [
    {
     "name": "stderr",
     "output_type": "stream",
     "text": [
      "c:\\Users\\Golden Snow\\anaconda3\\Lib\\site-packages\\sklearn\\preprocessing\\_encoders.py:972: FutureWarning: `sparse` was renamed to `sparse_output` in version 1.2 and will be removed in 1.4. `sparse_output` is ignored unless you leave `sparse` to its default value.\n",
      "  warnings.warn(\n"
     ]
    },
    {
     "name": "stdout",
     "output_type": "stream",
     "text": [
      "X_train: (60000, 784)\n",
      "y_train: (60000, 10)\n",
      "X_test: (10000, 784)\n",
      "y_test: (10000, 10)\n",
      "Min: -1.2720524608819797\n",
      "Max: 244.94693302849612\n"
     ]
    }
   ],
   "source": [
    "X_train, X_test, y_train, y_test = load_dataset(60000,10000)"
   ]
  },
  {
   "cell_type": "markdown",
   "metadata": {},
   "source": [
    "##### Optimizing at the Initialization Stage"
   ]
  },
  {
   "cell_type": "code",
   "execution_count": 10,
   "metadata": {},
   "outputs": [],
   "source": [
    "from tensorflow.keras import layers"
   ]
  },
  {
   "cell_type": "code",
   "execution_count": 11,
   "metadata": {},
   "outputs": [],
   "source": [
    "def simple_model(initializer, activation='relu'):\n",
    "    return tf.keras.Sequential([layers.Dense(32, activation, input_shape=(784,), kernel_initializer=initializer),\n",
    "                                layers.Dense(32, activation, kernel_initializer=initializer),\n",
    "                                layers.Dense(32, activation, kernel_initializer=initializer),\n",
    "                                layers.Dense(32, activation, kernel_initializer=initializer),\n",
    "                                layers.Dense(10, activation = 'softmax', kernel_initializer=tf.keras.initializers.glorot_normal())\n",
    "\n",
    "\n",
    "\n",
    "    ])"
   ]
  },
  {
   "cell_type": "code",
   "execution_count": 12,
   "metadata": {},
   "outputs": [
    {
     "name": "stdout",
     "output_type": "stream",
     "text": [
      "Epoch 1/10\n",
      "19/19 [==============================] - 5s 84ms/step - loss: 2.3026 - accuracy: 0.1121 - val_loss: 2.3025 - val_accuracy: 0.1099\n",
      "Epoch 2/10\n",
      "19/19 [==============================] - 1s 29ms/step - loss: 2.3025 - accuracy: 0.1133 - val_loss: 2.3025 - val_accuracy: 0.1099\n",
      "Epoch 3/10\n",
      "19/19 [==============================] - 1s 31ms/step - loss: 2.3025 - accuracy: 0.1133 - val_loss: 2.3025 - val_accuracy: 0.1099\n",
      "Epoch 4/10\n",
      "19/19 [==============================] - 1s 34ms/step - loss: 2.3024 - accuracy: 0.1133 - val_loss: 2.3024 - val_accuracy: 0.1099\n",
      "Epoch 5/10\n",
      "19/19 [==============================] - 1s 31ms/step - loss: 2.3024 - accuracy: 0.1133 - val_loss: 2.3024 - val_accuracy: 0.1099\n",
      "Epoch 6/10\n",
      "19/19 [==============================] - 1s 45ms/step - loss: 2.3023 - accuracy: 0.1133 - val_loss: 2.3024 - val_accuracy: 0.1099\n",
      "Epoch 7/10\n",
      "19/19 [==============================] - 1s 45ms/step - loss: 2.3023 - accuracy: 0.1133 - val_loss: 2.3023 - val_accuracy: 0.1099\n",
      "Epoch 8/10\n",
      "19/19 [==============================] - 1s 40ms/step - loss: 2.3022 - accuracy: 0.1133 - val_loss: 2.3023 - val_accuracy: 0.1099\n",
      "Epoch 9/10\n",
      "19/19 [==============================] - 1s 26ms/step - loss: 2.3022 - accuracy: 0.1133 - val_loss: 2.3023 - val_accuracy: 0.1099\n",
      "Epoch 10/10\n",
      "19/19 [==============================] - 0s 24ms/step - loss: 2.3022 - accuracy: 0.1133 - val_loss: 2.3022 - val_accuracy: 0.1099\n"
     ]
    },
    {
     "data": {
      "text/plain": [
       "<keras.src.callbacks.History at 0x27c4e1ed7d0>"
      ]
     },
     "execution_count": 12,
     "metadata": {},
     "output_type": "execute_result"
    }
   ],
   "source": [
    "init = tf.initializers.zeros()\n",
    "activate = 'relu'\n",
    "optimizer = tf.keras.optimizers.SGD(learning_rate=0.01)\n",
    "model_zeros = simple_model(init, activate)\n",
    "model_zeros.compile(optimizer=optimizer, loss='categorical_crossentropy', metrics=['accuracy'])\n",
    "model_zeros.fit(X_train, y_train, epochs=10, batch_size=3200, validation_data=(X_test, y_test))"
   ]
  },
  {
   "cell_type": "code",
   "execution_count": 13,
   "metadata": {},
   "outputs": [
    {
     "name": "stderr",
     "output_type": "stream",
     "text": [
      "c:\\Users\\Golden Snow\\anaconda3\\Lib\\site-packages\\keras\\src\\initializers\\initializers.py:120: UserWarning: The initializer RandomNormal is unseeded and being called multiple times, which will return identical values each time (even if the initializer is unseeded). Please update your code to provide a seed to the initializer, or avoid using the same initializer instance more than once.\n",
      "  warnings.warn(\n"
     ]
    },
    {
     "name": "stdout",
     "output_type": "stream",
     "text": [
      "Epoch 1/10\n",
      "19/19 [==============================] - 4s 67ms/step - loss: 2.3010 - accuracy: 0.1139 - val_loss: 2.3010 - val_accuracy: 0.1099\n",
      "Epoch 2/10\n",
      "19/19 [==============================] - 0s 26ms/step - loss: 2.3005 - accuracy: 0.1137 - val_loss: 2.3006 - val_accuracy: 0.1099\n",
      "Epoch 3/10\n",
      "19/19 [==============================] - 1s 40ms/step - loss: 2.3001 - accuracy: 0.1135 - val_loss: 2.3002 - val_accuracy: 0.1099\n",
      "Epoch 4/10\n",
      "19/19 [==============================] - 1s 34ms/step - loss: 2.2997 - accuracy: 0.1133 - val_loss: 2.2998 - val_accuracy: 0.1099\n",
      "Epoch 5/10\n",
      "19/19 [==============================] - 1s 27ms/step - loss: 2.2993 - accuracy: 0.1133 - val_loss: 2.2994 - val_accuracy: 0.1099\n",
      "Epoch 6/10\n",
      "19/19 [==============================] - 1s 35ms/step - loss: 2.2990 - accuracy: 0.1133 - val_loss: 2.2991 - val_accuracy: 0.1099\n",
      "Epoch 7/10\n",
      "19/19 [==============================] - 1s 30ms/step - loss: 2.2986 - accuracy: 0.1133 - val_loss: 2.2987 - val_accuracy: 0.1099\n",
      "Epoch 8/10\n",
      "19/19 [==============================] - 0s 26ms/step - loss: 2.2983 - accuracy: 0.1133 - val_loss: 2.2984 - val_accuracy: 0.1099\n",
      "Epoch 9/10\n",
      "19/19 [==============================] - 1s 37ms/step - loss: 2.2979 - accuracy: 0.1133 - val_loss: 2.2980 - val_accuracy: 0.1099\n",
      "Epoch 10/10\n",
      "19/19 [==============================] - 0s 26ms/step - loss: 2.2976 - accuracy: 0.1133 - val_loss: 2.2977 - val_accuracy: 0.1099\n"
     ]
    },
    {
     "data": {
      "text/plain": [
       "<keras.src.callbacks.History at 0x27c4e20ae90>"
      ]
     },
     "execution_count": 13,
     "metadata": {},
     "output_type": "execute_result"
    }
   ],
   "source": [
    "init = tf.initializers.random_normal()\n",
    "activate = 'relu'\n",
    "optimizer = tf.keras.optimizers.SGD(learning_rate=0.01)\n",
    "model_normal = simple_model(init, activate)\n",
    "model_normal.compile(optimizer=optimizer, loss='categorical_crossentropy', metrics=['accuracy'])\n",
    "model_normal.fit(X_train, y_train, epochs=10, batch_size=3200, validation_data=(X_test, y_test))"
   ]
  },
  {
   "cell_type": "code",
   "execution_count": 14,
   "metadata": {},
   "outputs": [
    {
     "name": "stderr",
     "output_type": "stream",
     "text": [
      "c:\\Users\\Golden Snow\\anaconda3\\Lib\\site-packages\\keras\\src\\initializers\\initializers.py:120: UserWarning: The initializer GlorotUniform is unseeded and being called multiple times, which will return identical values each time (even if the initializer is unseeded). Please update your code to provide a seed to the initializer, or avoid using the same initializer instance more than once.\n",
      "  warnings.warn(\n"
     ]
    },
    {
     "name": "stdout",
     "output_type": "stream",
     "text": [
      "Epoch 1/10\n",
      "19/19 [==============================] - 3s 75ms/step - loss: 2.3060 - accuracy: 0.1209 - val_loss: 2.2986 - val_accuracy: 0.1439\n",
      "Epoch 2/10\n",
      "19/19 [==============================] - 1s 35ms/step - loss: 2.2853 - accuracy: 0.1604 - val_loss: 2.2774 - val_accuracy: 0.1856\n",
      "Epoch 3/10\n",
      "19/19 [==============================] - 1s 32ms/step - loss: 2.2635 - accuracy: 0.2010 - val_loss: 2.2546 - val_accuracy: 0.2176\n",
      "Epoch 4/10\n",
      "19/19 [==============================] - 0s 25ms/step - loss: 2.2394 - accuracy: 0.2359 - val_loss: 2.2292 - val_accuracy: 0.2442\n",
      "Epoch 5/10\n",
      "19/19 [==============================] - 1s 32ms/step - loss: 2.2117 - accuracy: 0.2674 - val_loss: 2.1998 - val_accuracy: 0.2718\n",
      "Epoch 6/10\n",
      "19/19 [==============================] - 0s 26ms/step - loss: 2.1794 - accuracy: 0.2947 - val_loss: 2.1652 - val_accuracy: 0.2978\n",
      "Epoch 7/10\n",
      "19/19 [==============================] - 0s 25ms/step - loss: 2.1416 - accuracy: 0.3180 - val_loss: 2.1249 - val_accuracy: 0.3162\n",
      "Epoch 8/10\n",
      "19/19 [==============================] - 0s 24ms/step - loss: 2.0977 - accuracy: 0.3390 - val_loss: 2.0791 - val_accuracy: 0.3374\n",
      "Epoch 9/10\n",
      "19/19 [==============================] - 0s 23ms/step - loss: 2.0480 - accuracy: 0.3588 - val_loss: 2.0283 - val_accuracy: 0.3557\n",
      "Epoch 10/10\n",
      "19/19 [==============================] - 0s 22ms/step - loss: 1.9928 - accuracy: 0.3760 - val_loss: 1.9730 - val_accuracy: 0.3698\n"
     ]
    },
    {
     "data": {
      "text/plain": [
       "<keras.src.callbacks.History at 0x27c27605a50>"
      ]
     },
     "execution_count": 14,
     "metadata": {},
     "output_type": "execute_result"
    }
   ],
   "source": [
    "init = tf.initializers.glorot_uniform()\n",
    "activate = 'relu'\n",
    "optimizer = tf.keras.optimizers.SGD(learning_rate=0.01)\n",
    "model_glorotu = simple_model(init, activate)\n",
    "model_glorotu.compile(optimizer=optimizer, loss='categorical_crossentropy', metrics=['accuracy'])\n",
    "model_glorotu.fit(X_train, y_train, epochs=10, batch_size=3200, validation_data=(X_test, y_test))"
   ]
  },
  {
   "cell_type": "code",
   "execution_count": 15,
   "metadata": {},
   "outputs": [
    {
     "name": "stderr",
     "output_type": "stream",
     "text": [
      "c:\\Users\\Golden Snow\\anaconda3\\Lib\\site-packages\\keras\\src\\initializers\\initializers.py:120: UserWarning: The initializer HeUniform is unseeded and being called multiple times, which will return identical values each time (even if the initializer is unseeded). Please update your code to provide a seed to the initializer, or avoid using the same initializer instance more than once.\n",
      "  warnings.warn(\n"
     ]
    },
    {
     "name": "stdout",
     "output_type": "stream",
     "text": [
      "Epoch 1/10\n",
      "19/19 [==============================] - 4s 72ms/step - loss: 2.6015 - accuracy: 0.1299 - val_loss: 2.4128 - val_accuracy: 0.1522\n",
      "Epoch 2/10\n",
      "19/19 [==============================] - 1s 33ms/step - loss: 2.2753 - accuracy: 0.1838 - val_loss: 2.2100 - val_accuracy: 0.2200\n",
      "Epoch 3/10\n",
      "19/19 [==============================] - 1s 29ms/step - loss: 2.1112 - accuracy: 0.2615 - val_loss: 2.0651 - val_accuracy: 0.3110\n",
      "Epoch 4/10\n",
      "19/19 [==============================] - 1s 30ms/step - loss: 1.9698 - accuracy: 0.3568 - val_loss: 1.9234 - val_accuracy: 0.4028\n",
      "Epoch 5/10\n",
      "19/19 [==============================] - 1s 27ms/step - loss: 1.8212 - accuracy: 0.4478 - val_loss: 1.7690 - val_accuracy: 0.4863\n",
      "Epoch 6/10\n",
      "19/19 [==============================] - 1s 30ms/step - loss: 1.6602 - accuracy: 0.5206 - val_loss: 1.6052 - val_accuracy: 0.5501\n",
      "Epoch 7/10\n",
      "19/19 [==============================] - 1s 32ms/step - loss: 1.4969 - accuracy: 0.5778 - val_loss: 1.4467 - val_accuracy: 0.6017\n",
      "Epoch 8/10\n",
      "19/19 [==============================] - 1s 31ms/step - loss: 1.3449 - accuracy: 0.6277 - val_loss: 1.3035 - val_accuracy: 0.6476\n",
      "Epoch 9/10\n",
      "19/19 [==============================] - 1s 27ms/step - loss: 1.2103 - accuracy: 0.6696 - val_loss: 1.1792 - val_accuracy: 0.6864\n",
      "Epoch 10/10\n",
      "19/19 [==============================] - 1s 28ms/step - loss: 1.0937 - accuracy: 0.7036 - val_loss: 1.0726 - val_accuracy: 0.7171\n"
     ]
    },
    {
     "data": {
      "text/plain": [
       "<keras.src.callbacks.History at 0x27c27be2050>"
      ]
     },
     "execution_count": 15,
     "metadata": {},
     "output_type": "execute_result"
    }
   ],
   "source": [
    "init = tf.initializers.he_uniform()\n",
    "activate = 'relu'\n",
    "optimizer = tf.keras.optimizers.SGD(learning_rate=0.01)\n",
    "model_heu = simple_model(init, activate)\n",
    "model_heu.compile(optimizer=optimizer, loss='categorical_crossentropy', metrics=['accuracy'])\n",
    "model_heu.fit(X_train, y_train, epochs=10, batch_size=3200, validation_data=(X_test, y_test))"
   ]
  },
  {
   "cell_type": "code",
   "execution_count": 16,
   "metadata": {},
   "outputs": [
    {
     "data": {
      "text/plain": [
       "Text(0, 0.5, 'Validation Accuracy')"
      ]
     },
     "execution_count": 16,
     "metadata": {},
     "output_type": "execute_result"
    },
    {
     "data": {
      "image/png": "[encoded data removed]",
      "text/plain": [
       "<Figure size 640x480 with 1 Axes>"
      ]
     },
     "metadata": {},
     "output_type": "display_data"
    }
   ],
   "source": [
    "for i in [model_heu, model_normal, model_glorotu, model_zeros]:\n",
    "    plt.plot(i.history.history['val_accuracy'], label=i.get_config()['layers'][1]['config']['kernel_initializer']['class_name'])\n",
    "\n",
    "plt.legend()\n",
    "plt.xlabel('Epoch')\n",
    "plt.ylabel('Validation Accuracy')"
   ]
  },
  {
   "cell_type": "code",
   "execution_count": 17,
   "metadata": {},
   "outputs": [],
   "source": [
    "def simple_model_bn(initializer = 'he_uniform', activation='relu'):\n",
    "    return tf.keras.Sequential([layers.Dense(32, activation, input_shape=(784,), kernel_initializer=initializer),\n",
    "                                layers.BatchNormalization(trainable=True, scale=True, center=True),\n",
    "                                layers.Dense(32, activation, kernel_initializer=initializer),\n",
    "                                layers.BatchNormalization(trainable=True, scale=True, center=True),\n",
    "                                layers.Dense(32, activation, kernel_initializer=initializer),\n",
    "                                layers.BatchNormalization(trainable=True, scale=True, center=True),\n",
    "                                layers.Dense(32, activation, kernel_initializer=initializer),\n",
    "                                layers.BatchNormalization(trainable=True, scale=True, center=True),\n",
    "                                layers.Dense(10, activation = 'softmax', kernel_initializer=tf.keras.initializers.glorot_normal())\n",
    "\n",
    "\n",
    "\n",
    "    ])"
   ]
  },
  {
   "cell_type": "code",
   "execution_count": 18,
   "metadata": {},
   "outputs": [
    {
     "name": "stdout",
     "output_type": "stream",
     "text": [
      "Model: \"sequential_4\"\n",
      "_________________________________________________________________\n",
      " Layer (type)                Output Shape              Param #   \n",
      "=================================================================\n",
      " dense_20 (Dense)            (None, 32)                25120     \n",
      "                                                                 \n",
      " batch_normalization (Batch  (None, 32)                128       \n",
      " Normalization)                                                  \n",
      "                                                                 \n",
      " dense_21 (Dense)            (None, 32)                1056      \n",
      "                                                                 \n",
      " batch_normalization_1 (Bat  (None, 32)                128       \n",
      " chNormalization)                                                \n",
      "                                                                 \n",
      " dense_22 (Dense)            (None, 32)                1056      \n",
      "                                                                 \n",
      " batch_normalization_2 (Bat  (None, 32)                128       \n",
      " chNormalization)                                                \n",
      "                                                                 \n",
      " dense_23 (Dense)            (None, 32)                1056      \n",
      "                                                                 \n",
      " batch_normalization_3 (Bat  (None, 32)                128       \n",
      " chNormalization)                                                \n",
      "                                                                 \n",
      " dense_24 (Dense)            (None, 10)                330       \n",
      "                                                                 \n",
      "=================================================================\n",
      "Total params: 29130 (113.79 KB)\n",
      "Trainable params: 28874 (112.79 KB)\n",
      "Non-trainable params: 256 (1.00 KB)\n",
      "_________________________________________________________________\n"
     ]
    }
   ],
   "source": [
    "simple_model_bn().summary()"
   ]
  },
  {
   "cell_type": "code",
   "execution_count": 19,
   "metadata": {},
   "outputs": [
    {
     "name": "stderr",
     "output_type": "stream",
     "text": [
      "c:\\Users\\Golden Snow\\anaconda3\\Lib\\site-packages\\keras\\src\\initializers\\initializers.py:120: UserWarning: The initializer RandomNormal is unseeded and being called multiple times, which will return identical values each time (even if the initializer is unseeded). Please update your code to provide a seed to the initializer, or avoid using the same initializer instance more than once.\n",
      "  warnings.warn(\n"
     ]
    },
    {
     "name": "stdout",
     "output_type": "stream",
     "text": [
      "Epoch 1/10\n",
      "19/19 [==============================] - 7s 104ms/step - loss: 2.0439 - accuracy: 0.3258 - val_loss: 2.2949 - val_accuracy: 0.1885\n",
      "Epoch 2/10\n",
      "19/19 [==============================] - 1s 41ms/step - loss: 1.3632 - accuracy: 0.5829 - val_loss: 2.2837 - val_accuracy: 0.1887\n",
      "Epoch 3/10\n",
      "19/19 [==============================] - 1s 44ms/step - loss: 1.0768 - accuracy: 0.6838 - val_loss: 2.2689 - val_accuracy: 0.2024\n",
      "Epoch 4/10\n",
      "19/19 [==============================] - 1s 37ms/step - loss: 0.9095 - accuracy: 0.7394 - val_loss: 2.2490 - val_accuracy: 0.2094\n",
      "Epoch 5/10\n",
      "19/19 [==============================] - 1s 32ms/step - loss: 0.7936 - accuracy: 0.7757 - val_loss: 2.2224 - val_accuracy: 0.2307\n",
      "Epoch 6/10\n",
      "19/19 [==============================] - 1s 34ms/step - loss: 0.7072 - accuracy: 0.8029 - val_loss: 2.1863 - val_accuracy: 0.2705\n",
      "Epoch 7/10\n",
      "19/19 [==============================] - 1s 36ms/step - loss: 0.6413 - accuracy: 0.8219 - val_loss: 2.1383 - val_accuracy: 0.3328\n",
      "Epoch 8/10\n",
      "19/19 [==============================] - 1s 39ms/step - loss: 0.5881 - accuracy: 0.8369 - val_loss: 2.0767 - val_accuracy: 0.4279\n",
      "Epoch 9/10\n",
      "19/19 [==============================] - 1s 34ms/step - loss: 0.5447 - accuracy: 0.8485 - val_loss: 1.9994 - val_accuracy: 0.5184\n",
      "Epoch 10/10\n",
      "19/19 [==============================] - 1s 34ms/step - loss: 0.5100 - accuracy: 0.8571 - val_loss: 1.9062 - val_accuracy: 0.6076\n"
     ]
    },
    {
     "data": {
      "text/plain": [
       "<keras.src.callbacks.History at 0x27c4e1f2010>"
      ]
     },
     "execution_count": 19,
     "metadata": {},
     "output_type": "execute_result"
    }
   ],
   "source": [
    "init = tf.keras.initializers.random_normal()\n",
    "activate = 'relu'\n",
    "\n",
    "optimizer = tf.keras.optimizers.SGD(0.01)\n",
    "model_bn = simple_model_bn(init, activate)\n",
    "model_bn.compile(optimizer=optimizer, loss='categorical_crossentropy', metrics=['accuracy'])\n",
    "model_bn.fit(X_train, y_train, epochs=10, batch_size=3200, validation_data = (X_test, y_test))"
   ]
  },
  {
   "cell_type": "code",
   "execution_count": 20,
   "metadata": {},
   "outputs": [
    {
     "name": "stderr",
     "output_type": "stream",
     "text": [
      "c:\\Users\\Golden Snow\\anaconda3\\Lib\\site-packages\\keras\\src\\initializers\\initializers.py:120: UserWarning: The initializer RandomUniform is unseeded and being called multiple times, which will return identical values each time (even if the initializer is unseeded). Please update your code to provide a seed to the initializer, or avoid using the same initializer instance more than once.\n",
      "  warnings.warn(\n"
     ]
    },
    {
     "name": "stdout",
     "output_type": "stream",
     "text": [
      "Epoch 1/10\n",
      "19/19 [==============================] - 6s 104ms/step - loss: 1.0981 - accuracy: 0.6732 - val_loss: 2.2962 - val_accuracy: 0.2523\n",
      "Epoch 2/10\n",
      "19/19 [==============================] - 1s 46ms/step - loss: 0.4745 - accuracy: 0.8721 - val_loss: 2.2910 - val_accuracy: 0.2616\n",
      "Epoch 3/10\n",
      "19/19 [==============================] - 1s 47ms/step - loss: 0.3634 - accuracy: 0.9037 - val_loss: 2.2845 - val_accuracy: 0.2725\n",
      "Epoch 4/10\n",
      "19/19 [==============================] - 1s 56ms/step - loss: 0.3084 - accuracy: 0.9181 - val_loss: 2.2758 - val_accuracy: 0.2931\n",
      "Epoch 5/10\n",
      "19/19 [==============================] - 1s 41ms/step - loss: 0.2722 - accuracy: 0.9280 - val_loss: 2.2640 - val_accuracy: 0.2958\n",
      "Epoch 6/10\n",
      "19/19 [==============================] - 1s 43ms/step - loss: 0.2459 - accuracy: 0.9354 - val_loss: 2.2484 - val_accuracy: 0.3020\n",
      "Epoch 7/10\n",
      "19/19 [==============================] - 1s 46ms/step - loss: 0.2241 - accuracy: 0.9416 - val_loss: 2.2284 - val_accuracy: 0.3044\n",
      "Epoch 8/10\n",
      "19/19 [==============================] - 1s 34ms/step - loss: 0.2069 - accuracy: 0.9472 - val_loss: 2.2007 - val_accuracy: 0.3387\n",
      "Epoch 9/10\n",
      "19/19 [==============================] - 1s 38ms/step - loss: 0.1918 - accuracy: 0.9505 - val_loss: 2.1658 - val_accuracy: 0.3628\n",
      "Epoch 10/10\n",
      "19/19 [==============================] - 1s 33ms/step - loss: 0.1807 - accuracy: 0.9532 - val_loss: 2.1212 - val_accuracy: 0.3946\n"
     ]
    },
    {
     "data": {
      "text/plain": [
       "<keras.src.callbacks.History at 0x27c2763a010>"
      ]
     },
     "execution_count": 20,
     "metadata": {},
     "output_type": "execute_result"
    }
   ],
   "source": [
    "init = tf.keras.initializers.random_uniform()\n",
    "activate = 'relu'\n",
    "\n",
    "optimizer = tf.keras.optimizers.Adagrad(learning_rate=0.01)\n",
    "model_bn_ad = simple_model_bn(init, activate)\n",
    "model_bn_ad.compile(optimizer=optimizer, loss='categorical_crossentropy', metrics=['accuracy'])\n",
    "model_bn_ad.fit(X_train, y_train, epochs=10, batch_size=3200, validation_data = (X_test, y_test))"
   ]
  },
  {
   "cell_type": "code",
   "execution_count": 21,
   "metadata": {},
   "outputs": [
    {
     "name": "stdout",
     "output_type": "stream",
     "text": [
      "Epoch 1/10\n",
      "19/19 [==============================] - 12s 108ms/step - loss: 0.8682 - accuracy: 0.7347 - val_loss: 2.0623 - val_accuracy: 0.5474\n",
      "Epoch 2/10\n",
      "19/19 [==============================] - 1s 44ms/step - loss: 0.2731 - accuracy: 0.9203 - val_loss: 1.8064 - val_accuracy: 0.6746\n",
      "Epoch 3/10\n",
      "19/19 [==============================] - 1s 46ms/step - loss: 0.1895 - accuracy: 0.9450 - val_loss: 1.6446 - val_accuracy: 0.7084\n",
      "Epoch 4/10\n",
      "19/19 [==============================] - 1s 42ms/step - loss: 0.1427 - accuracy: 0.9585 - val_loss: 1.4644 - val_accuracy: 0.8408\n",
      "Epoch 5/10\n",
      "19/19 [==============================] - 1s 37ms/step - loss: 0.1109 - accuracy: 0.9673 - val_loss: 1.3186 - val_accuracy: 0.8563\n",
      "Epoch 6/10\n",
      "19/19 [==============================] - 1s 42ms/step - loss: 0.0903 - accuracy: 0.9733 - val_loss: 1.0999 - val_accuracy: 0.8982\n",
      "Epoch 7/10\n",
      "19/19 [==============================] - 1s 43ms/step - loss: 0.0769 - accuracy: 0.9771 - val_loss: 0.8961 - val_accuracy: 0.9194\n",
      "Epoch 8/10\n",
      "19/19 [==============================] - 1s 54ms/step - loss: 0.0619 - accuracy: 0.9815 - val_loss: 0.7259 - val_accuracy: 0.9283\n",
      "Epoch 9/10\n",
      "19/19 [==============================] - 1s 56ms/step - loss: 0.0539 - accuracy: 0.9840 - val_loss: 0.5498 - val_accuracy: 0.9385\n",
      "Epoch 10/10\n",
      "19/19 [==============================] - 1s 33ms/step - loss: 0.0484 - accuracy: 0.9857 - val_loss: 0.3821 - val_accuracy: 0.9442\n"
     ]
    },
    {
     "data": {
      "text/plain": [
       "<keras.src.callbacks.History at 0x27c28e2a050>"
      ]
     },
     "execution_count": 21,
     "metadata": {},
     "output_type": "execute_result"
    }
   ],
   "source": [
    "init = tf.keras.initializers.random_uniform()\n",
    "activate = 'relu'\n",
    "\n",
    "optimizer = tf.keras.optimizers.Adam(learning_rate=0.01)\n",
    "model_bn_adam = simple_model_bn(init, activate)\n",
    "model_bn_adam.compile(optimizer=optimizer, loss='categorical_crossentropy', metrics=['accuracy'])\n",
    "model_bn_adam.fit(X_train, y_train, epochs=10, batch_size=3200, validation_data = (X_test, y_test))"
   ]
  },
  {
   "cell_type": "code",
   "execution_count": 22,
   "metadata": {},
   "outputs": [],
   "source": [
    "from tensorflow.keras.callbacks import EarlyStopping"
   ]
  },
  {
   "cell_type": "code",
   "execution_count": 23,
   "metadata": {},
   "outputs": [
    {
     "name": "stderr",
     "output_type": "stream",
     "text": [
      "c:\\Users\\Golden Snow\\anaconda3\\Lib\\site-packages\\keras\\src\\initializers\\initializers.py:120: UserWarning: The initializer RandomUniform is unseeded and being called multiple times, which will return identical values each time (even if the initializer is unseeded). Please update your code to provide a seed to the initializer, or avoid using the same initializer instance more than once.\n",
      "  warnings.warn(\n"
     ]
    },
    {
     "name": "stdout",
     "output_type": "stream",
     "text": [
      "Epoch 1/10\n",
      "19/19 [==============================] - 8s 88ms/step - loss: 0.8071 - accuracy: 0.7548 - val_loss: 2.0635 - val_accuracy: 0.4913\n",
      "Epoch 2/10\n",
      "19/19 [==============================] - 1s 45ms/step - loss: 0.2550 - accuracy: 0.9251 - val_loss: 1.8461 - val_accuracy: 0.5698\n",
      "Epoch 3/10\n",
      "19/19 [==============================] - 1s 38ms/step - loss: 0.1716 - accuracy: 0.9503 - val_loss: 1.6961 - val_accuracy: 0.5751\n",
      "Epoch 4/10\n",
      "19/19 [==============================] - 1s 38ms/step - loss: 0.1285 - accuracy: 0.9616 - val_loss: 1.5449 - val_accuracy: 0.6112\n",
      "Epoch 5/10\n",
      "19/19 [==============================] - 1s 40ms/step - loss: 0.1003 - accuracy: 0.9702 - val_loss: 1.3401 - val_accuracy: 0.7688\n",
      "Epoch 6/10\n",
      "19/19 [==============================] - 1s 41ms/step - loss: 0.0848 - accuracy: 0.9744 - val_loss: 1.1361 - val_accuracy: 0.8508\n",
      "Epoch 7/10\n",
      "19/19 [==============================] - 1s 41ms/step - loss: 0.0723 - accuracy: 0.9787 - val_loss: 0.9241 - val_accuracy: 0.8746\n",
      "Epoch 8/10\n",
      "19/19 [==============================] - 1s 39ms/step - loss: 0.0599 - accuracy: 0.9821 - val_loss: 0.7171 - val_accuracy: 0.8948\n",
      "Epoch 9/10\n",
      "19/19 [==============================] - 1s 38ms/step - loss: 0.0536 - accuracy: 0.9839 - val_loss: 0.4962 - val_accuracy: 0.9254\n",
      "Epoch 10/10\n",
      "19/19 [==============================] - 1s 36ms/step - loss: 0.0456 - accuracy: 0.9864 - val_loss: 0.3616 - val_accuracy: 0.9336\n",
      "Train Acc: 0.9634333252906799 Test Acc: 0.9336000084877014\n"
     ]
    }
   ],
   "source": [
    "init = tf.keras.initializers.random_uniform()\n",
    "activate = 'relu'\n",
    "\n",
    "optimizer = tf.keras.optimizers.Adam(learning_rate=0.01)\n",
    "model_bn_adam = simple_model_bn(init, activate)\n",
    "model_bn_adam.compile(optimizer=optimizer, loss='categorical_crossentropy', metrics=['accuracy'])\n",
    "\n",
    "es = EarlyStopping(monitor='val_loss', mode='min', patience=10, restore_best_weights=True, verbose=1)\n",
    "\n",
    "history = model_bn_adam.fit(X_train, y_train, epochs=10, batch_size=3200, validation_data = (X_test, y_test))\n",
    "\n",
    "_, train_acc = model_bn_adam.evaluate(X_train, y_train, verbose=0)\n",
    "_, test_acc = model_bn_adam.evaluate(X_test, y_test, verbose=0)\n",
    "print('Train Acc:', train_acc, 'Test Acc:', test_acc)"
   ]
  },
  {
   "cell_type": "code",
   "execution_count": 24,
   "metadata": {},
   "outputs": [
    {
     "name": "stdout",
     "output_type": "stream",
     "text": [
      "Restoring model weights from the end of the best epoch: 10.\n",
      "Epoch 20: early stopping\n",
      "Train Acc: 0.9872833490371704 Test Acc: 0.9620000123977661\n"
     ]
    }
   ],
   "source": [
    "init = tf.keras.initializers.random_uniform()\n",
    "activate = 'relu'\n",
    "\n",
    "optimizer = tf.keras.optimizers.Adam(learning_rate=0.01)\n",
    "model_bn_adam = simple_model_bn(init, activate)\n",
    "model_bn_adam.compile(optimizer=optimizer, loss='categorical_crossentropy', metrics=['accuracy'])\n",
    "\n",
    "es = EarlyStopping(monitor='val_loss', mode='min', patience=10, restore_best_weights=True, verbose=1)\n",
    "\n",
    "history = model_bn_adam.fit(X_train, y_train, epochs=2000, callbacks=[es], validation_data = (X_test, y_test), verbose=0)\n",
    "\n",
    "_, train_acc = model_bn_adam.evaluate(X_train, y_train, verbose=0)\n",
    "_, test_acc = model_bn_adam.evaluate(X_test, y_test, verbose=0)\n",
    "print('Train Acc:', train_acc, 'Test Acc:', test_acc)"
   ]
  },
  {
   "cell_type": "code",
   "execution_count": 25,
   "metadata": {},
   "outputs": [
    {
     "name": "stdout",
     "output_type": "stream",
     "text": [
      "Restoring model weights from the end of the best epoch: 7.\n",
      "Epoch 17: early stopping\n",
      "Train Acc: 0.9855499863624573 Test Acc: 0.9668999910354614\n"
     ]
    }
   ],
   "source": [
    "init = tf.keras.initializers.random_uniform()\n",
    "activate = 'relu'\n",
    "\n",
    "optimizer = tf.keras.optimizers.Adam(learning_rate=0.01)\n",
    "model_bn_adam = simple_model_bn(init, activate)\n",
    "model_bn_adam.compile(optimizer=optimizer, loss='categorical_crossentropy', metrics=['accuracy'])\n",
    "\n",
    "es = EarlyStopping(monitor='val_loss', mode='min', patience=10, restore_best_weights=True, verbose=1)\n",
    "\n",
    "history = model_bn_adam.fit(X_train, y_train, epochs=2000, callbacks=[es], validation_data = (X_test, y_test), verbose=0)\n",
    "\n",
    "_, train_acc = model_bn_adam.evaluate(X_train, y_train, verbose=0)\n",
    "_, test_acc = model_bn_adam.evaluate(X_test, y_test, verbose=0)\n",
    "print('Train Acc:', train_acc, 'Test Acc:', test_acc)"
   ]
  }
 ],
 "metadata": {
  "kernelspec": {
   "display_name": "base",
   "language": "python",
   "name": "python3"
  },
  "language_info": {
   "codemirror_mode": {
    "name": "ipython",
    "version": 3
   },
   "file_extension": ".py",
   "mimetype": "text/x-python",
   "name": "python",
   "nbconvert_exporter": "python",
   "pygments_lexer": "ipython3",
   "version": "3.11.5"
  }
 },
 "nbformat": 4,
 "nbformat_minor": 2
}
